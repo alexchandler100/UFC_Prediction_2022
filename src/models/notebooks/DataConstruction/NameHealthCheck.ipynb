{
 "cells": [
  {
   "cell_type": "code",
   "execution_count": 1,
   "metadata": {},
   "outputs": [],
   "source": [
    "# IMPORTANT (ADDED APR 26 2022)\n",
    "#need to rerun this notebook after correcting functions with same_name improvement\n",
    "#but first lets see if we can decrease the complexity of the functions (it will take about a week otherwise)"
   ]
  },
  {
   "cell_type": "code",
   "execution_count": 1,
   "metadata": {},
   "outputs": [
    {
     "name": "stderr",
     "output_type": "stream",
     "text": [
      "C:\\Users\\Alex\\OneDrive\\Documents\\GitHub\\UFC_Prediction_2022\\src\\fight_stat_helpers.py:15: DtypeWarning: Columns (8,73) have mixed types. Specify dtype option on import or set low_memory=False.\n",
      "  fight_hist = pd.read_csv('content/data/processed/ufc_fights.csv')\n",
      "C:\\Users\\Alex\\OneDrive\\Documents\\GitHub\\UFC_Prediction_2022\\src\\fight_stat_helpers.py:17: DtypeWarning: Columns (15,37,38,102,103) have mixed types. Specify dtype option on import or set low_memory=False.\n",
      "  ufc_fights_crap = pd.read_csv('content/data/processed/ufc_fights_crap.csv')\n"
     ]
    }
   ],
   "source": [
    "import git, os\n",
    "git_repo = git.Repo(os.getcwd(), search_parent_directories=True)\n",
    "git_root = git_repo.git.rev_parse(\"--show-toplevel\")\n",
    "os.chdir(f'{git_root}/src')\n",
    "from data_handler import DataHandler\n",
    "\n",
    "import pandas as pd\n",
    "import numpy as npy\n",
    "from datetime import date, datetime\n",
    "import random\n",
    "import requests\n",
    "from bs4 import BeautifulSoup\n",
    "\n",
    "#have to change directory to import functions after April 2022 restructure of folders\n",
    "from fight_stat_helpers import *\n"
   ]
  },
  {
   "cell_type": "code",
   "execution_count": 2,
   "metadata": {},
   "outputs": [
    {
     "name": "stdout",
     "output_type": "stream",
     "text": [
      "> \u001b[1;32mc:\\users\\alex\\onedrive\\documents\\github\\ufc_prediction_2022\\src\\fight_stat_helpers.py\u001b[0m(906)\u001b[0;36mget_fighter_stats\u001b[1;34m()\u001b[0m\n",
      "\u001b[1;32m    904 \u001b[1;33m\u001b[1;33m\u001b[0m\u001b[0m\n",
      "\u001b[0m\u001b[1;32m    905 \u001b[1;33m    \u001b[1;31m# TODO get rid of for loop and just do the computations directly\u001b[0m\u001b[1;33m\u001b[0m\u001b[1;33m\u001b[0m\u001b[0m\n",
      "\u001b[0m\u001b[1;32m--> 906 \u001b[1;33m    \u001b[1;32mfor\u001b[0m \u001b[0mstat_name\u001b[0m \u001b[1;32min\u001b[0m \u001b[1;33m[\u001b[0m\u001b[1;34m'height'\u001b[0m\u001b[1;33m,\u001b[0m \u001b[1;34m'reach'\u001b[0m\u001b[1;33m,\u001b[0m \u001b[1;34m'dob'\u001b[0m\u001b[1;33m,\u001b[0m \u001b[1;34m'stance'\u001b[0m\u001b[1;33m]\u001b[0m\u001b[1;33m:\u001b[0m\u001b[1;33m\u001b[0m\u001b[1;33m\u001b[0m\u001b[0m\n",
      "\u001b[0m\u001b[1;32m    907 \u001b[1;33m        \u001b[0mstat_value\u001b[0m \u001b[1;33m=\u001b[0m \u001b[0mfighter_stats\u001b[0m\u001b[1;33m.\u001b[0m\u001b[0mloc\u001b[0m\u001b[1;33m[\u001b[0m\u001b[0msame_name_vect\u001b[0m\u001b[1;33m(\u001b[0m\u001b[0mfighter_stats\u001b[0m\u001b[1;33m[\u001b[0m\u001b[1;34m'name'\u001b[0m\u001b[1;33m]\u001b[0m\u001b[1;33m,\u001b[0m \u001b[0mfighter\u001b[0m\u001b[1;33m)\u001b[0m\u001b[1;33m,\u001b[0m \u001b[0mstat_name\u001b[0m\u001b[1;33m]\u001b[0m\u001b[1;33m\u001b[0m\u001b[1;33m\u001b[0m\u001b[0m\n",
      "\u001b[0m\u001b[1;32m    908 \u001b[1;33m        \u001b[1;31m# if there is more than one name match, alert the user\u001b[0m\u001b[1;33m\u001b[0m\u001b[1;33m\u001b[0m\u001b[0m\n",
      "\u001b[0m\n"
     ]
    }
   ],
   "source": [
    "get_fighter_stats('Conor McGregor')"
   ]
  },
  {
   "cell_type": "code",
   "execution_count": 3,
   "metadata": {},
   "outputs": [
    {
     "name": "stderr",
     "output_type": "stream",
     "text": [
      "C:\\Users\\Alex\\OneDrive\\Documents\\GitHub\\UFC_Prediction_2022\\src\\data_handler\\data_handler.py:86: DtypeWarning: Columns (15,34) have mixed types. Specify dtype option on import or set low_memory=False.\n",
      "  self.csv_data = {key : pd.read_csv(self.csv_filepaths[key], sep=',') for key in self.csv_filepaths.keys()}\n",
      "C:\\Users\\Alex\\OneDrive\\Documents\\GitHub\\UFC_Prediction_2022\\src\\data_handler\\data_handler.py:86: DtypeWarning: Columns (11) have mixed types. Specify dtype option on import or set low_memory=False.\n",
      "  self.csv_data = {key : pd.read_csv(self.csv_filepaths[key], sep=',') for key in self.csv_filepaths.keys()}\n",
      "C:\\Users\\Alex\\OneDrive\\Documents\\GitHub\\UFC_Prediction_2022\\src\\data_handler\\data_handler.py:86: DtypeWarning: Columns (15,37,38,102,103) have mixed types. Specify dtype option on import or set low_memory=False.\n",
      "  self.csv_data = {key : pd.read_csv(self.csv_filepaths[key], sep=',') for key in self.csv_filepaths.keys()}\n",
      "C:\\Users\\Alex\\OneDrive\\Documents\\GitHub\\UFC_Prediction_2022\\src\\data_handler\\data_handler.py:86: DtypeWarning: Columns (8,73) have mixed types. Specify dtype option on import or set low_memory=False.\n",
      "  self.csv_data = {key : pd.read_csv(self.csv_filepaths[key], sep=',') for key in self.csv_filepaths.keys()}\n"
     ]
    }
   ],
   "source": [
    "dh = DataHandler()"
   ]
  },
  {
   "cell_type": "code",
   "execution_count": 4,
   "metadata": {},
   "outputs": [],
   "source": [
    "ufc_fights_reported = pd.read_csv(f'{git_root}/src/content/data/processed/ufc_fights_reported.csv')"
   ]
  },
  {
   "cell_type": "code",
   "execution_count": 5,
   "metadata": {},
   "outputs": [],
   "source": [
    "fighter_stats = pd.read_csv(f'{git_root}/src/content/data/processed/fighter_stats.csv')"
   ]
  },
  {
   "cell_type": "code",
   "execution_count": 6,
   "metadata": {},
   "outputs": [],
   "source": [
    "ufc_fights_reported_names = set(ufc_fights_reported['fighter']).union(set(ufc_fights_reported['opponent']))"
   ]
  },
  {
   "cell_type": "code",
   "execution_count": 7,
   "metadata": {},
   "outputs": [],
   "source": [
    "fighter_stats_names = set(fighter_stats['name'])"
   ]
  },
  {
   "cell_type": "code",
   "execution_count": 8,
   "metadata": {},
   "outputs": [
    {
     "data": {
      "text/plain": [
       "2580"
      ]
     },
     "execution_count": 8,
     "metadata": {},
     "output_type": "execute_result"
    }
   ],
   "source": [
    "len(ufc_fights_reported_names)"
   ]
  },
  {
   "cell_type": "code",
   "execution_count": 9,
   "metadata": {},
   "outputs": [
    {
     "data": {
      "text/plain": [
       "2585"
      ]
     },
     "execution_count": 9,
     "metadata": {},
     "output_type": "execute_result"
    }
   ],
   "source": [
    "len(fighter_stats_names)"
   ]
  },
  {
   "cell_type": "code",
   "execution_count": 10,
   "metadata": {},
   "outputs": [
    {
     "data": {
      "text/plain": [
       "{'Ariane Lipski',\n",
       " 'Art Jimmerson',\n",
       " 'Assu Almabayev',\n",
       " 'Billy Goff',\n",
       " 'Bobby Green',\n",
       " 'Brianna Van Buren',\n",
       " 'Bruno Rodrigues',\n",
       " 'Christian Duncan',\n",
       " 'Da-Un Jung',\n",
       " 'Danaa Batgerel',\n",
       " 'Daniel Da Silva',\n",
       " 'Gerard Gordeau',\n",
       " 'Heili Alateng',\n",
       " 'Ian Garry',\n",
       " 'Jingliang Li',\n",
       " 'Joanne Calderwood',\n",
       " 'Junyong Park',\n",
       " 'Katlyn Chookagian',\n",
       " 'Kenan Song',\n",
       " 'Kevin Rosier',\n",
       " 'Lipeng Zhang',\n",
       " 'Liu Pingyuan',\n",
       " 'Magomed Bibulatov',\n",
       " 'Matheus Nicolau Pereira',\n",
       " 'Melissa Dixon',\n",
       " 'Michelle Waterson',\n",
       " 'Mizuki Inoue',\n",
       " 'Montserrat Conejo',\n",
       " 'Na Liang',\n",
       " 'Nina Ansaroff',\n",
       " 'Rayanne Amanda',\n",
       " 'Rick Glenn',\n",
       " 'Rong Zhu',\n",
       " 'Su Mudaerji',\n",
       " 'Tecia Torres',\n",
       " 'Teila Tuli',\n",
       " 'Tiequan Zhang',\n",
       " 'Trent Jenkins',\n",
       " 'Veronica Macedo',\n",
       " 'Weili Zhang',\n",
       " 'Wuliji Buren',\n",
       " 'Xiaonan Yan',\n",
       " 'Yana Kunitskaya',\n",
       " 'Yanan Wu',\n",
       " 'Yi Zha',\n",
       " 'Zach Reese'}"
      ]
     },
     "execution_count": 10,
     "metadata": {},
     "output_type": "execute_result"
    }
   ],
   "source": [
    "fighter_stats_names - ufc_fights_reported_names"
   ]
  },
  {
   "cell_type": "code",
   "execution_count": 11,
   "metadata": {},
   "outputs": [
    {
     "data": {
      "text/plain": [
       "{'Alatengheili',\n",
       " 'Ariane da Silva',\n",
       " 'Asu Almabayev',\n",
       " 'Batgerel Danaa',\n",
       " 'Bibulatov Magomed',\n",
       " 'Billy Ray Goff',\n",
       " 'Brianna Fortino',\n",
       " 'Bruno Korea',\n",
       " 'Christian Leroy Duncan',\n",
       " 'Da Woon Jung',\n",
       " 'Daniel Lacerda',\n",
       " 'Ian Machado Garry',\n",
       " 'Joanne Wood',\n",
       " 'JunYong Park',\n",
       " 'Katlyn Cerminara',\n",
       " 'King Green',\n",
       " 'Li Jingliang',\n",
       " 'Liang Na',\n",
       " 'Matheus Nicolau',\n",
       " 'Melissa Mullins',\n",
       " 'Michelle Waterson-Gomez',\n",
       " 'Mizuki',\n",
       " 'Montserrat Conejo Ruiz',\n",
       " 'Nina Nunes',\n",
       " 'Pingyuan Liu',\n",
       " 'Rayanne dos Santos',\n",
       " 'Ricky Glenn',\n",
       " 'Rongzhu',\n",
       " 'Song Kenan',\n",
       " 'Sumudaerji',\n",
       " 'Tecia Pennington',\n",
       " 'Veronica Hardy',\n",
       " 'Wu Yanan',\n",
       " 'Wulijiburen',\n",
       " 'Yan Xiaonan',\n",
       " 'Yana Santos',\n",
       " 'Yizha',\n",
       " 'Zachary Reese',\n",
       " 'Zhang Lipeng',\n",
       " 'Zhang Tiequan',\n",
       " 'Zhang Weili'}"
      ]
     },
     "execution_count": 11,
     "metadata": {},
     "output_type": "execute_result"
    }
   ],
   "source": [
    "ufc_fights_reported_names - fighter_stats_names"
   ]
  },
  {
   "cell_type": "code",
   "execution_count": 12,
   "metadata": {},
   "outputs": [
    {
     "data": {
      "text/plain": [
       "False"
      ]
     },
     "execution_count": 12,
     "metadata": {},
     "output_type": "execute_result"
    }
   ],
   "source": [
    "same_name('Jorge Masvidal', 'Conor McGregor')"
   ]
  },
  {
   "cell_type": "code",
   "execution_count": null,
   "metadata": {},
   "outputs": [
    {
     "name": "stdout",
     "output_type": "stream",
     "text": [
      "Finished 0 out of 2580 currently on Zarrukh Adashev\n",
      "Finished 100 out of 2580 currently on Mike Lullo\n",
      "Finished 200 out of 2580 currently on Ariane Carnelossi\n",
      "Finished 300 out of 2580 currently on Liz Carmouche\n",
      "Finished 400 out of 2580 currently on Jennifer Maia\n",
      "Finished 500 out of 2580 currently on Kiichi Kunimoto\n",
      "Finished 600 out of 2580 currently on Daniel Lacerda\n",
      "Finished 700 out of 2580 currently on Steve Lopez\n",
      "Finished 800 out of 2580 currently on Kyle Daukaus\n",
      "Finished 900 out of 2580 currently on Ronny Markes\n",
      "Finished 1000 out of 2580 currently on Rolles Gracie\n",
      "Finished 1100 out of 2580 currently on Akihiro Gono\n",
      "Finished 1200 out of 2580 currently on Sean Strickland\n",
      "Finished 1300 out of 2580 currently on Cortney Casey\n",
      "Finished 1400 out of 2580 currently on Rob MacDonald\n",
      "Finished 1500 out of 2580 currently on Aleksandre Topuria\n",
      "Finished 1600 out of 2580 currently on Sean Spencer\n",
      "Finished 1700 out of 2580 currently on Natalia Silva\n",
      "Finished 1800 out of 2580 currently on Johnny Munoz\n",
      "Finished 1900 out of 2580 currently on Gegard Mousasi\n",
      "Finished 2000 out of 2580 currently on Gadzhi Omargadzhiev\n",
      "Finished 2100 out of 2580 currently on Keith Wisniewski\n",
      "Finished 2200 out of 2580 currently on Vanessa Melo\n",
      "Finished 2300 out of 2580 currently on George Roop\n",
      "Finished 2400 out of 2580 currently on Mike Santiago\n",
      "Finished 2500 out of 2580 currently on Molly McCann\n"
     ]
    }
   ],
   "source": [
    "# find any fighters in ufc_fights_reported that match multiple fighters in fighter_stats\n",
    "name_matches_1 = {}\n",
    "num_finished = 0\n",
    "for name1 in ufc_fights_reported_names:\n",
    "    if num_finished % 100 == 0:\n",
    "        print(f'Finished {num_finished} out of {len(ufc_fights_reported_names)} currently on {name1}')\n",
    "    for name2 in fighter_stats_names:\n",
    "        if same_name(name1, name2, verbose=False):\n",
    "            if name1 in name_matches_1:\n",
    "                name_matches_1[name1].append(name2)\n",
    "            else:\n",
    "                name_matches_1[name1] = [name2]\n",
    "    num_finished += 1"
   ]
  },
  {
   "cell_type": "code",
   "execution_count": 14,
   "metadata": {},
   "outputs": [
    {
     "data": {
      "text/plain": [
       "{}"
      ]
     },
     "execution_count": 14,
     "metadata": {},
     "output_type": "execute_result"
    }
   ],
   "source": [
    "name_equality_cache"
   ]
  },
  {
   "cell_type": "code",
   "execution_count": 15,
   "metadata": {},
   "outputs": [
    {
     "name": "stdout",
     "output_type": "stream",
     "text": [
      "Finished 0 out of 2585 currently on Zarrukh Adashev\n",
      "Finished 100 out of 2585 currently on Rodolfo Rubio Perez\n",
      "Finished 200 out of 2585 currently on Jack Marshman\n",
      "Finished 300 out of 2585 currently on Mark Hughes\n",
      "Finished 400 out of 2585 currently on Mark Madsen\n",
      "Finished 500 out of 2585 currently on Jose Quinonez\n",
      "Finished 600 out of 2585 currently on Kyle Prepolec\n",
      "Finished 700 out of 2585 currently on Jesse Sanders\n",
      "Finished 800 out of 2585 currently on Jenel Lausa\n",
      "Finished 900 out of 2585 currently on Chepe Mariscal\n",
      "Finished 1000 out of 2585 currently on Askar Askarov\n",
      "Finished 1100 out of 2585 currently on Mario Bautista\n",
      "Finished 1200 out of 2585 currently on Felipe Olivieri\n",
      "Finished 1300 out of 2585 currently on Ilir Latifi\n",
      "Finished 1400 out of 2585 currently on Wang Guan\n",
      "Finished 1500 out of 2585 currently on Michael Graves\n",
      "Finished 1600 out of 2585 currently on Joaquim Silva\n",
      "Finished 1700 out of 2585 currently on Paul Creighton\n",
      "Finished 1800 out of 2585 currently on Kristian Rothaermel\n",
      "Finished 1900 out of 2585 currently on Cody Durden\n",
      "Finished 2000 out of 2585 currently on Jaqueline Amorim\n",
      "Finished 2100 out of 2585 currently on Matt Hobar\n",
      "Finished 2200 out of 2585 currently on Dan Argueta\n",
      "Finished 2300 out of 2585 currently on Cathal Pendred\n",
      "Finished 2400 out of 2585 currently on Rolando Dy\n",
      "Finished 2500 out of 2585 currently on Todd Duffee\n"
     ]
    }
   ],
   "source": [
    "# find any fighters in ufc_fights_reported that match multiple fighters in fighter_stats\n",
    "name_matches_2 = {}\n",
    "num_finished = 0\n",
    "for name1 in fighter_stats_names:\n",
    "    if num_finished % 100 == 0:\n",
    "        print(f'Finished {num_finished} out of {len(fighter_stats_names)} currently on {name1}')\n",
    "    for name2 in ufc_fights_reported_names:\n",
    "        if same_name(name1, name2, verbose=False):\n",
    "            if name1 in name_matches_2:\n",
    "                name_matches_2[name1].append(name2)\n",
    "            else:\n",
    "                name_matches_2[name1] = [name2]\n",
    "    num_finished += 1"
   ]
  },
  {
   "cell_type": "code",
   "execution_count": null,
   "metadata": {},
   "outputs": [
    {
     "data": {
      "text/plain": [
       "[]"
      ]
     },
     "execution_count": 16,
     "metadata": {},
     "output_type": "execute_result"
    }
   ],
   "source": [
    "# already did this above but doing it in another way here\n",
    "names_with_no_matches_1 = [name for name in ufc_fights_reported_names if len(name_matches_1.get(name, [])) == 0]\n",
    "names_with_no_matches_1"
   ]
  },
  {
   "cell_type": "code",
   "execution_count": 17,
   "metadata": {},
   "outputs": [
    {
     "data": {
      "text/plain": [
       "['Teila Tuli',\n",
       " 'Gerard Gordeau',\n",
       " 'Trent Jenkins',\n",
       " 'Art Jimmerson',\n",
       " 'Kevin Rosier']"
      ]
     },
     "execution_count": 17,
     "metadata": {},
     "output_type": "execute_result"
    }
   ],
   "source": [
    "# already did this above but doing it in another way here\n",
    "names_with_no_matches_2 = [name for name in fighter_stats_names if len(name_matches_2.get(name, [])) == 0]\n",
    "names_with_no_matches_2"
   ]
  },
  {
   "cell_type": "code",
   "execution_count": null,
   "metadata": {},
   "outputs": [
    {
     "data": {
      "text/plain": [
       "{}"
      ]
     },
     "execution_count": 18,
     "metadata": {},
     "output_type": "execute_result"
    }
   ],
   "source": [
    "multiple_matches_1 = {name: matches for name, matches in name_matches_1.items() if len(matches) > 1}\n",
    "multiple_matches_1"
   ]
  },
  {
   "cell_type": "code",
   "execution_count": 19,
   "metadata": {},
   "outputs": [
    {
     "data": {
      "text/plain": [
       "0"
      ]
     },
     "execution_count": 19,
     "metadata": {},
     "output_type": "execute_result"
    }
   ],
   "source": [
    "len(multiple_matches_1)"
   ]
  },
  {
   "cell_type": "code",
   "execution_count": 20,
   "metadata": {},
   "outputs": [
    {
     "data": {
      "text/plain": [
       "{}"
      ]
     },
     "execution_count": 20,
     "metadata": {},
     "output_type": "execute_result"
    }
   ],
   "source": [
    "multiple_matches_2 = {name: matches for name, matches in name_matches_2.items() if len(matches) > 1}\n",
    "multiple_matches_2"
   ]
  },
  {
   "cell_type": "code",
   "execution_count": 21,
   "metadata": {},
   "outputs": [
    {
     "data": {
      "text/plain": [
       "0"
      ]
     },
     "execution_count": 21,
     "metadata": {},
     "output_type": "execute_result"
    }
   ],
   "source": [
    "len(multiple_matches_2)"
   ]
  },
  {
   "cell_type": "code",
   "execution_count": 22,
   "metadata": {},
   "outputs": [
    {
     "name": "stdout",
     "output_type": "stream",
     "text": [
      "Finished 0 out of 2580 currently on Zarrukh Adashev\n",
      "Finished 100 out of 2580 currently on Rodolfo Rubio Perez\n",
      "Finished 200 out of 2580 currently on Jack Marshman\n",
      "Finished 300 out of 2580 currently on Mark Hughes\n",
      "Finished 400 out of 2580 currently on Mark Madsen\n",
      "Finished 500 out of 2580 currently on Jose Quinonez\n",
      "Finished 600 out of 2580 currently on Kyle Prepolec\n",
      "Finished 700 out of 2580 currently on Jesse Sanders\n",
      "Finished 800 out of 2580 currently on Jenel Lausa\n",
      "Finished 900 out of 2580 currently on Chepe Mariscal\n",
      "Finished 1000 out of 2580 currently on Askar Askarov\n",
      "Finished 1100 out of 2580 currently on Mario Bautista\n",
      "Finished 1200 out of 2580 currently on Felipe Olivieri\n",
      "Finished 1300 out of 2580 currently on Ilir Latifi\n",
      "Finished 1400 out of 2580 currently on Wang Guan\n",
      "Finished 1500 out of 2580 currently on Michael Graves\n",
      "Finished 1600 out of 2580 currently on Joaquim Silva\n",
      "Finished 1700 out of 2580 currently on Paul Creighton\n",
      "Finished 1800 out of 2580 currently on Kristian Rothaermel\n",
      "Finished 1900 out of 2580 currently on Cody Durden\n",
      "Finished 2000 out of 2580 currently on Jaqueline Amorim\n",
      "Finished 2100 out of 2580 currently on Matt Hobar\n",
      "Finished 2200 out of 2580 currently on Dan Argueta\n",
      "Finished 2300 out of 2580 currently on Cathal Pendred\n",
      "Finished 2400 out of 2580 currently on Rolando Dy\n",
      "Finished 2500 out of 2580 currently on Todd Duffee\n"
     ]
    }
   ],
   "source": [
    "# self matches\n",
    "name_matches_3 = {}\n",
    "num_finished = 0\n",
    "for name1 in fighter_stats_names:\n",
    "    if num_finished % 100 == 0:\n",
    "        print(f'Finished {num_finished} out of {len(ufc_fights_reported_names)} currently on {name1}')\n",
    "    for name2 in fighter_stats_names:\n",
    "        if same_name(name1, name2, verbose=False):\n",
    "            if name1 in name_matches_3:\n",
    "                name_matches_3[name1].append(name2)\n",
    "            else:\n",
    "                name_matches_3[name1] = [name2]\n",
    "    num_finished += 1"
   ]
  },
  {
   "cell_type": "code",
   "execution_count": 23,
   "metadata": {},
   "outputs": [
    {
     "data": {
      "text/plain": [
       "{}"
      ]
     },
     "execution_count": 23,
     "metadata": {},
     "output_type": "execute_result"
    }
   ],
   "source": [
    "multiple_matches_3 = {name: matches for name, matches in name_matches_3.items() if len(matches) > 1}\n",
    "multiple_matches_3"
   ]
  },
  {
   "cell_type": "code",
   "execution_count": 24,
   "metadata": {},
   "outputs": [
    {
     "data": {
      "text/plain": [
       "2586"
      ]
     },
     "execution_count": 24,
     "metadata": {},
     "output_type": "execute_result"
    }
   ],
   "source": [
    "len(fighter_stats)"
   ]
  },
  {
   "cell_type": "code",
   "execution_count": 25,
   "metadata": {},
   "outputs": [
    {
     "data": {
      "text/plain": [
       "2585"
      ]
     },
     "execution_count": 25,
     "metadata": {},
     "output_type": "execute_result"
    }
   ],
   "source": [
    "len(fighter_stats_names)"
   ]
  },
  {
   "cell_type": "code",
   "execution_count": null,
   "metadata": {},
   "outputs": [],
   "source": []
  }
 ],
 "metadata": {
  "kernelspec": {
   "display_name": "Python 3",
   "language": "python",
   "name": "python3"
  },
  "language_info": {
   "codemirror_mode": {
    "name": "ipython",
    "version": 3
   },
   "file_extension": ".py",
   "mimetype": "text/x-python",
   "name": "python",
   "nbconvert_exporter": "python",
   "pygments_lexer": "ipython3",
   "version": "3.11.0"
  }
 },
 "nbformat": 4,
 "nbformat_minor": 2
}
