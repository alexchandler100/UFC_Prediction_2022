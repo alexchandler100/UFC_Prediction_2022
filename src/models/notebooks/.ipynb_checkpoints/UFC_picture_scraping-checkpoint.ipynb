{
 "cells": [
  {
   "cell_type": "code",
   "execution_count": 1,
   "metadata": {},
   "outputs": [
    {
     "data": {
      "text/plain": [
       "'/Users/alexchandler/UFC_Prediction_2022'"
      ]
     },
     "execution_count": 1,
     "metadata": {},
     "output_type": "execute_result"
    }
   ],
   "source": [
    "#needed after restructuring of directory\n",
    "import os\n",
    "os.chdir('/Users/alexchandler/UFC_Prediction_2022')\n",
    "os.getcwd()"
   ]
  },
  {
   "cell_type": "code",
   "execution_count": 2,
   "metadata": {},
   "outputs": [],
   "source": [
    "import requests\n",
    "from bs4 import BeautifulSoup\n",
    "import urllib.request\n",
    "from PIL import Image\n",
    "import random\n",
    "import pandas as pd\n",
    "ufcfighterscrap =pd.read_csv('src/content/data/processed/fighter_stats.csv',sep=',',low_memory=False)\n",
    "names = list(ufcfighterscrap['name'])"
   ]
  },
  {
   "cell_type": "code",
   "execution_count": 3,
   "metadata": {},
   "outputs": [
    {
     "data": {
      "text/plain": [
       "2245"
      ]
     },
     "execution_count": 3,
     "metadata": {},
     "output_type": "execute_result"
    }
   ],
   "source": [
    "len(names)"
   ]
  },
  {
   "cell_type": "code",
   "execution_count": 20,
   "metadata": {},
   "outputs": [],
   "source": [
    "def scrape_pictures(name):\n",
    "    try:\n",
    "        URL = \"https://www.google.com/search?q=\"+name+\" ufc fighting\"+\"&sxsrf=ALeKk03xBalIZi7BAzyIRw8R4_KrIEYONg:1620885765119&source=lnms&tbm=isch&sa=X&ved=2ahUKEwjv44CC_sXwAhUZyjgGHSgdAQ8Q_AUoAXoECAEQAw&cshid=1620885828054361\"\n",
    "        page = requests.get(URL)\n",
    "        soup = BeautifulSoup(page.content, 'html.parser')\n",
    "        image_tags = soup.find_all('img')    #... or ... image_tags = soup.find_all('img', class_='t0fcAb')\n",
    "        links = []\n",
    "        for image_tag in image_tags:\n",
    "            links.append(image_tag['src'])\n",
    "            name_reduced = name.replace(\" \", \"\")\n",
    "        for i in range(1,5):\n",
    "            urllib.request.urlretrieve(links[i], \"src/content/images/\"+str(i)+name_reduced+\".jpg\")\n",
    "        print('scraped 5 random pictures of '+name+' from Google search')\n",
    "\n",
    "    except:\n",
    "        print('The scrape did not work for '+name)\n",
    "        \n",
    "def show_image(enter_name):\n",
    "    ufcfighterscrap =pd.read_csv('src/content/data/processed/fighter_stats.csv',sep=',',low_memory=False)\n",
    "    names = list(ufcfighterscrap['name'])\n",
    "    i=names.index(enter_name)\n",
    "    name=names[i]\n",
    "    name = name.replace(\" \",\"\")\n",
    "    j=random.randrange(1,5)\n",
    "    dimensions = (500, 500)\n",
    "    k = Image.open(\"src/content/images/\"+str(j)+name+\".jpg\")\n",
    "    k.thumbnail(dimensions)\n",
    "    k.show()\n",
    "        \n",
    "        "
   ]
  },
  {
   "cell_type": "code",
   "execution_count": 21,
   "metadata": {
    "scrolled": true
   },
   "outputs": [],
   "source": [
    "# run this to update the image scrape\n",
    "for name in names:\n",
    "    try:\n",
    "        name_reduced=name.replace(\" \",\"\")\n",
    "        k=Image.open(\"src/content/images/\"+str(1)+name_reduced+\".jpg\")\n",
    "    except:\n",
    "        scrape_pictures(name)"
   ]
  },
  {
   "cell_type": "code",
   "execution_count": null,
   "metadata": {},
   "outputs": [],
   "source": []
  }
 ],
 "metadata": {
  "kernelspec": {
   "display_name": "Python 3 (ipykernel)",
   "language": "python",
   "name": "python3"
  },
  "language_info": {
   "codemirror_mode": {
    "name": "ipython",
    "version": 3
   },
   "file_extension": ".py",
   "mimetype": "text/x-python",
   "name": "python",
   "nbconvert_exporter": "python",
   "pygments_lexer": "ipython3",
   "version": "3.9.10"
  }
 },
 "nbformat": 4,
 "nbformat_minor": 2
}
