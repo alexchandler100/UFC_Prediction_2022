{
 "cells": [
  {
   "cell_type": "code",
   "execution_count": 1,
   "metadata": {},
   "outputs": [
    {
     "name": "stdout",
     "output_type": "stream",
     "text": [
      "Changed working directory to C:\\Users\\Alex\\OneDrive\\Documents\\GitHub\\UFC_Prediction_2022\\src\n"
     ]
    }
   ],
   "source": [
    "import git, os, sys\n",
    "git_repo = git.Repo(os.getcwd(), search_parent_directories=True)\n",
    "git_root = git_repo.git.rev_parse(\"--show-toplevel\")\n",
    "os.chdir(f'{git_root}/src')\n",
    "sys.path.append(os.path.abspath(os.path.join(f'{git_root}/src')))\n",
    "print(f'Changed working directory to {os.getcwd()}')"
   ]
  },
  {
   "cell_type": "code",
   "execution_count": 2,
   "metadata": {},
   "outputs": [
    {
     "name": "stderr",
     "output_type": "stream",
     "text": [
      "C:\\Users\\Alex\\OneDrive\\Documents\\GitHub\\UFC_Prediction_2022\\src\\fight_stat_helpers.py:15: DtypeWarning: Columns (8,73,74) have mixed types. Specify dtype option on import or set low_memory=False.\n",
      "  fight_hist = pd.read_csv('content/data/processed/ufc_fights.csv')\n",
      "C:\\Users\\Alex\\OneDrive\\Documents\\GitHub\\UFC_Prediction_2022\\src\\fight_stat_helpers.py:17: DtypeWarning: Columns (15,37,38,102,103) have mixed types. Specify dtype option on import or set low_memory=False.\n",
      "  ufc_fights_crap = pd.read_csv('content/data/processed/ufc_fights_crap.csv')\n",
      "C:\\Users\\Alex\\OneDrive\\Documents\\GitHub\\UFC_Prediction_2022\\src\\data_handler\\data_handler.py:86: DtypeWarning: Columns (15,34) have mixed types. Specify dtype option on import or set low_memory=False.\n",
      "  self.csv_data = {key : pd.read_csv(self.csv_filepaths[key], sep=',') for key in self.csv_filepaths.keys()}\n",
      "C:\\Users\\Alex\\OneDrive\\Documents\\GitHub\\UFC_Prediction_2022\\src\\data_handler\\data_handler.py:86: DtypeWarning: Columns (11) have mixed types. Specify dtype option on import or set low_memory=False.\n",
      "  self.csv_data = {key : pd.read_csv(self.csv_filepaths[key], sep=',') for key in self.csv_filepaths.keys()}\n",
      "C:\\Users\\Alex\\OneDrive\\Documents\\GitHub\\UFC_Prediction_2022\\src\\data_handler\\data_handler.py:86: DtypeWarning: Columns (15,37,38,102,103) have mixed types. Specify dtype option on import or set low_memory=False.\n",
      "  self.csv_data = {key : pd.read_csv(self.csv_filepaths[key], sep=',') for key in self.csv_filepaths.keys()}\n",
      "C:\\Users\\Alex\\OneDrive\\Documents\\GitHub\\UFC_Prediction_2022\\src\\data_handler\\data_handler.py:86: DtypeWarning: Columns (8,73,74) have mixed types. Specify dtype option on import or set low_memory=False.\n",
      "  self.csv_data = {key : pd.read_csv(self.csv_filepaths[key], sep=',') for key in self.csv_filepaths.keys()}\n"
     ]
    }
   ],
   "source": [
    "#getting dependencies\n",
    "import pandas as pd\n",
    "pd.options.mode.chained_assignment = None  # default='warn' (disables SettingWithCopyWarning)\n",
    "pd.set_option('display.max_rows', None)\n",
    "pd.set_option('display.max_columns', None)\n",
    "import numpy as np\n",
    "from datetime import datetime\n",
    "from datetime import date\n",
    "import matplotlib.pyplot as plt\n",
    "import random\n",
    "import sklearn\n",
    "import scipy\n",
    "from sklearn.linear_model import LogisticRegression\n",
    "from sklearn.ensemble import RandomForestClassifier\n",
    "from sklearn.neural_network import MLPClassifier\n",
    "from sklearn.model_selection import train_test_split, KFold, cross_val_score\n",
    "from sklearn import preprocessing\n",
    "from sklearn.preprocessing import PolynomialFeatures\n",
    "from sklearn.feature_selection import VarianceThreshold\n",
    "import itertools\n",
    "\n",
    "from fight_stat_helpers import *\n",
    "\n",
    "from data_handler import DataHandler\n",
    "dh = DataHandler()"
   ]
  },
  {
   "cell_type": "code",
   "execution_count": 3,
   "metadata": {},
   "outputs": [],
   "source": [
    "from sklearn.metrics import get_scorer_names"
   ]
  },
  {
   "cell_type": "code",
   "execution_count": 4,
   "metadata": {},
   "outputs": [
    {
     "name": "stdout",
     "output_type": "stream",
     "text": [
      "['accuracy', 'adjusted_mutual_info_score', 'adjusted_rand_score', 'average_precision', 'balanced_accuracy', 'completeness_score', 'd2_absolute_error_score', 'explained_variance', 'f1', 'f1_macro', 'f1_micro', 'f1_samples', 'f1_weighted', 'fowlkes_mallows_score', 'homogeneity_score', 'jaccard', 'jaccard_macro', 'jaccard_micro', 'jaccard_samples', 'jaccard_weighted', 'matthews_corrcoef', 'mutual_info_score', 'neg_brier_score', 'neg_log_loss', 'neg_max_error', 'neg_mean_absolute_error', 'neg_mean_absolute_percentage_error', 'neg_mean_gamma_deviance', 'neg_mean_poisson_deviance', 'neg_mean_squared_error', 'neg_mean_squared_log_error', 'neg_median_absolute_error', 'neg_negative_likelihood_ratio', 'neg_root_mean_squared_error', 'neg_root_mean_squared_log_error', 'normalized_mutual_info_score', 'positive_likelihood_ratio', 'precision', 'precision_macro', 'precision_micro', 'precision_samples', 'precision_weighted', 'r2', 'rand_score', 'recall', 'recall_macro', 'recall_micro', 'recall_samples', 'recall_weighted', 'roc_auc', 'roc_auc_ovo', 'roc_auc_ovo_weighted', 'roc_auc_ovr', 'roc_auc_ovr_weighted', 'top_k_accuracy', 'v_measure_score']\n"
     ]
    }
   ],
   "source": [
    "print(get_scorer_names())"
   ]
  },
  {
   "cell_type": "code",
   "execution_count": 3,
   "metadata": {},
   "outputs": [],
   "source": [
    "#scores a model\n",
    "def model_score(dataframe, features, iloc_val = 3200, _max_iter = 2000, scoring='neg_log_loss', scaled=True):\n",
    "    yyy=dataframe['result'].iloc[0:iloc_val]\n",
    "    XXX=dataframe[features].iloc[0:iloc_val]\n",
    "    XXXscaler = preprocessing.StandardScaler().fit(XXX)\n",
    "    XXX_scaled = XXXscaler.transform(XXX) \n",
    "    X = XXX_scaled if scaled else XXX\n",
    "    winPredictionModel=LogisticRegression(solver='lbfgs', max_iter=_max_iter, fit_intercept=False)\n",
    "    # find the cross val score with log loss\n",
    "    return cross_val_score(winPredictionModel,X,yyy,cv=4,scoring=scoring).mean()\n",
    "    \n",
    "#CODE FOR THE GREEDY ALGORITHM FOR FEATURE SELECTION\n",
    "def greedy(dataframe, features, subsetsize, iloc_val=3200, _max_iter = 2000, scaled=True, scoring='neg_log_loss', set_of_sets=False):\n",
    "    if set_of_sets:\n",
    "        s=set([tuple(feature) for feature in features])\n",
    "    else:\n",
    "        s=set(features)\n",
    "    subsets=list(map(set, itertools.combinations(s, subsetsize))) #subsets of size (subsetsize)\n",
    "    scores_dict = {}\n",
    "    for subset in subsets:\n",
    "        if set_of_sets:\n",
    "            list_of_features = []\n",
    "            for feature_set in subset:\n",
    "                list_of_features.extend(list(feature_set))\n",
    "        else:\n",
    "            list_of_features = list(subset)\n",
    "        scores_dict[tuple(subset)]=model_score(dataframe, list_of_features, iloc_val, _max_iter, scaled=scaled, scoring=scoring)\n",
    "    max_key = max(scores_dict, key=scores_dict.get)\n",
    "    max_score = scores_dict[max_key]\n",
    "    print(f'best subset: {max_key}')\n",
    "    print(f'with score {max_score}')\n",
    "    best_feature_list = []\n",
    "    if set_of_sets:\n",
    "        for feature_set in max_key:\n",
    "            best_feature_list.extend(list(feature_set))\n",
    "    else:\n",
    "        best_feature_list = list(max_key)\n",
    "    return best_feature_list, max_score"
   ]
  },
  {
   "cell_type": "code",
   "execution_count": 4,
   "metadata": {},
   "outputs": [],
   "source": [
    "ufc_fights = dh.get('ufc_fights')\n",
    "ufc_fights_winner = dh.clean_ufc_fights_for_winner_prediction(ufc_fights)"
   ]
  },
  {
   "cell_type": "code",
   "execution_count": 7,
   "metadata": {},
   "outputs": [
    {
     "name": "stdout",
     "output_type": "stream",
     "text": [
      "date\n",
      "division\n",
      "fighter\n",
      "opponent\n",
      "result\n",
      "method\n",
      "fighter_wins\n",
      "fighter_losses\n",
      "fighter_age\n",
      "fighter_height\n",
      "fighter_reach\n",
      "fighter_L5Y_wins\n",
      "fighter_L5Y_losses\n",
      "fighter_L2Y_wins\n",
      "fighter_L2Y_losses\n",
      "fighter_ko_wins\n",
      "fighter_ko_losses\n",
      "fighter_L5Y_ko_wins\n",
      "fighter_L5Y_ko_losses\n",
      "fighter_L2Y_ko_wins\n",
      "fighter_L2Y_ko_losses\n",
      "fighter_sub_wins\n",
      "fighter_sub_losses\n",
      "fighter_L5Y_sub_wins\n",
      "fighter_L5Y_sub_losses\n",
      "fighter_L2Y_sub_wins\n",
      "fighter_L2Y_sub_losses\n",
      "fighter_inf_knockdowns_avg\n",
      "fighter_inf_pass_avg\n",
      "fighter_inf_reversals_avg\n",
      "fighter_inf_sub_attempts_avg\n",
      "fighter_inf_takedowns_landed_avg\n",
      "fighter_inf_takedowns_attempts_avg\n",
      "fighter_inf_sig_strikes_landed_avg\n",
      "fighter_inf_sig_strikes_attempts_avg\n",
      "fighter_inf_total_strikes_landed_avg\n",
      "fighter_inf_total_strikes_attempts_avg\n",
      "fighter_inf_head_strikes_landed_avg\n",
      "fighter_inf_head_strikes_attempts_avg\n",
      "fighter_inf_body_strikes_landed_avg\n",
      "fighter_inf_body_strikes_attempts_avg\n",
      "fighter_inf_leg_strikes_landed_avg\n",
      "fighter_inf_leg_strikes_attempts_avg\n",
      "fighter_inf_distance_strikes_landed_avg\n",
      "fighter_inf_distance_strikes_attempts_avg\n",
      "fighter_inf_clinch_strikes_landed_avg\n",
      "fighter_inf_clinch_strikes_attempts_avg\n",
      "fighter_inf_ground_strikes_landed_avg\n",
      "fighter_inf_ground_strikes_attempts_avg\n",
      "fighter_abs_knockdowns_avg\n",
      "fighter_abs_pass_avg\n",
      "fighter_abs_reversals_avg\n",
      "fighter_abs_sub_attempts_avg\n",
      "fighter_abs_takedowns_landed_avg\n",
      "fighter_abs_takedowns_attempts_avg\n",
      "fighter_abs_sig_strikes_landed_avg\n",
      "fighter_abs_sig_strikes_attempts_avg\n",
      "fighter_abs_total_strikes_landed_avg\n",
      "fighter_abs_total_strikes_attempts_avg\n",
      "fighter_abs_head_strikes_landed_avg\n",
      "fighter_abs_head_strikes_attempts_avg\n",
      "fighter_abs_body_strikes_landed_avg\n",
      "fighter_abs_body_strikes_attempts_avg\n",
      "fighter_abs_leg_strikes_landed_avg\n",
      "fighter_abs_leg_strikes_attempts_avg\n",
      "fighter_abs_distance_strikes_landed_avg\n",
      "fighter_abs_distance_strikes_attempts_avg\n",
      "fighter_abs_clinch_strikes_landed_avg\n",
      "fighter_abs_clinch_strikes_attempts_avg\n",
      "fighter_abs_ground_strikes_landed_avg\n",
      "fighter_abs_ground_strikes_attempts_avg\n",
      "opponent_wins\n",
      "opponent_losses\n",
      "opponent_age\n",
      "opponent_height\n",
      "opponent_reach\n",
      "opponent_L5Y_wins\n",
      "opponent_L5Y_losses\n",
      "opponent_L2Y_wins\n",
      "opponent_L2Y_losses\n",
      "opponent_ko_wins\n",
      "opponent_ko_losses\n",
      "opponent_L5Y_ko_wins\n",
      "opponent_L5Y_ko_losses\n",
      "opponent_L2Y_ko_wins\n",
      "opponent_L2Y_ko_losses\n",
      "opponent_sub_wins\n",
      "opponent_sub_losses\n",
      "opponent_L5Y_sub_wins\n",
      "opponent_L5Y_sub_losses\n",
      "opponent_L2Y_sub_wins\n",
      "opponent_L2Y_sub_losses\n",
      "opponent_inf_knockdowns_avg\n",
      "opponent_inf_pass_avg\n",
      "opponent_inf_reversals_avg\n",
      "opponent_inf_sub_attempts_avg\n",
      "opponent_inf_takedowns_landed_avg\n",
      "opponent_inf_takedowns_attempts_avg\n",
      "opponent_inf_sig_strikes_landed_avg\n",
      "opponent_inf_sig_strikes_attempts_avg\n",
      "opponent_inf_total_strikes_landed_avg\n",
      "opponent_inf_total_strikes_attempts_avg\n",
      "opponent_inf_head_strikes_landed_avg\n",
      "opponent_inf_head_strikes_attempts_avg\n",
      "opponent_inf_body_strikes_landed_avg\n",
      "opponent_inf_body_strikes_attempts_avg\n",
      "opponent_inf_leg_strikes_landed_avg\n",
      "opponent_inf_leg_strikes_attempts_avg\n",
      "opponent_inf_distance_strikes_landed_avg\n",
      "opponent_inf_distance_strikes_attempts_avg\n",
      "opponent_inf_clinch_strikes_landed_avg\n",
      "opponent_inf_clinch_strikes_attempts_avg\n",
      "opponent_inf_ground_strikes_landed_avg\n",
      "opponent_inf_ground_strikes_attempts_avg\n",
      "opponent_abs_knockdowns_avg\n",
      "opponent_abs_pass_avg\n",
      "opponent_abs_reversals_avg\n",
      "opponent_abs_sub_attempts_avg\n",
      "opponent_abs_takedowns_landed_avg\n",
      "opponent_abs_takedowns_attempts_avg\n",
      "opponent_abs_sig_strikes_landed_avg\n",
      "opponent_abs_sig_strikes_attempts_avg\n",
      "opponent_abs_total_strikes_landed_avg\n",
      "opponent_abs_total_strikes_attempts_avg\n",
      "opponent_abs_head_strikes_landed_avg\n",
      "opponent_abs_head_strikes_attempts_avg\n",
      "opponent_abs_body_strikes_landed_avg\n",
      "opponent_abs_body_strikes_attempts_avg\n",
      "opponent_abs_leg_strikes_landed_avg\n",
      "opponent_abs_leg_strikes_attempts_avg\n",
      "opponent_abs_distance_strikes_landed_avg\n",
      "opponent_abs_distance_strikes_attempts_avg\n",
      "opponent_abs_clinch_strikes_landed_avg\n",
      "opponent_abs_clinch_strikes_attempts_avg\n",
      "opponent_abs_ground_strikes_landed_avg\n",
      "opponent_abs_ground_strikes_attempts_avg\n",
      "fighter_stance\n",
      "opponent_stance\n",
      "1-fight_math\n",
      "6-fight_math\n",
      "4-fighter_score_diff\n",
      "9-fighter_score_diff\n",
      "15-fighter_score_diff\n",
      "fighter_wins_diff_2\n",
      "fighter_losses_diff_2\n",
      "fighter_L5Y_wins_diff_2\n",
      "fighter_L5Y_losses_diff_2\n",
      "fighter_L2Y_wins_diff_2\n",
      "fighter_L2Y_losses_diff_2\n",
      "fighter_ko_wins_diff_2\n",
      "fighter_ko_losses_diff_2\n",
      "fighter_L5Y_ko_wins_diff_2\n",
      "fighter_L5Y_ko_losses_diff_2\n",
      "fighter_L2Y_ko_wins_diff_2\n",
      "fighter_L2Y_ko_losses_diff_2\n",
      "fighter_sub_wins_diff_2\n",
      "fighter_sub_losses_diff_2\n",
      "fighter_L5Y_sub_wins_diff_2\n",
      "fighter_L5Y_sub_losses_diff_2\n",
      "fighter_L2Y_sub_wins_diff_2\n",
      "fighter_L2Y_sub_losses_diff_2\n",
      "height_diff\n",
      "reach_diff\n",
      "fighter_inf_knockdowns_avg_diff_2\n",
      "fighter_inf_pass_avg_diff_2\n",
      "fighter_inf_reversals_avg_diff_2\n",
      "fighter_inf_sub_attempts_avg_diff_2\n",
      "fighter_inf_takedowns_landed_avg_diff_2\n",
      "fighter_inf_takedowns_attempts_avg_diff_2\n",
      "fighter_inf_sig_strikes_landed_avg_diff_2\n",
      "fighter_inf_sig_strikes_attempts_avg_diff_2\n",
      "fighter_inf_total_strikes_landed_avg_diff_2\n",
      "fighter_inf_total_strikes_attempts_avg_diff_2\n",
      "fighter_inf_head_strikes_landed_avg_diff_2\n",
      "fighter_inf_head_strikes_attempts_avg_diff_2\n",
      "fighter_inf_body_strikes_landed_avg_diff_2\n",
      "fighter_inf_body_strikes_attempts_avg_diff_2\n",
      "fighter_inf_leg_strikes_landed_avg_diff_2\n",
      "fighter_inf_leg_strikes_attempts_avg_diff_2\n",
      "fighter_inf_distance_strikes_landed_avg_diff_2\n",
      "fighter_inf_distance_strikes_attempts_avg_diff_2\n",
      "fighter_inf_clinch_strikes_landed_avg_diff_2\n",
      "fighter_inf_clinch_strikes_attempts_avg_diff_2\n",
      "fighter_inf_ground_strikes_landed_avg_diff_2\n",
      "fighter_inf_ground_strikes_attempts_avg_diff_2\n",
      "fighter_abs_knockdowns_avg_diff_2\n",
      "fighter_abs_pass_avg_diff_2\n",
      "fighter_abs_reversals_avg_diff_2\n",
      "fighter_abs_sub_attempts_avg_diff_2\n",
      "fighter_abs_takedowns_landed_avg_diff_2\n",
      "fighter_abs_takedowns_attempts_avg_diff_2\n",
      "fighter_abs_sig_strikes_landed_avg_diff_2\n",
      "fighter_abs_sig_strikes_attempts_avg_diff_2\n",
      "fighter_abs_total_strikes_landed_avg_diff_2\n",
      "fighter_abs_total_strikes_attempts_avg_diff_2\n",
      "fighter_abs_head_strikes_landed_avg_diff_2\n",
      "fighter_abs_head_strikes_attempts_avg_diff_2\n",
      "fighter_abs_body_strikes_landed_avg_diff_2\n",
      "fighter_abs_body_strikes_attempts_avg_diff_2\n",
      "fighter_abs_leg_strikes_landed_avg_diff_2\n",
      "fighter_abs_leg_strikes_attempts_avg_diff_2\n",
      "fighter_abs_distance_strikes_landed_avg_diff_2\n",
      "fighter_abs_distance_strikes_attempts_avg_diff_2\n",
      "fighter_abs_clinch_strikes_landed_avg_diff_2\n",
      "fighter_abs_clinch_strikes_attempts_avg_diff_2\n",
      "fighter_abs_ground_strikes_landed_avg_diff_2\n",
      "fighter_abs_ground_strikes_attempts_avg_diff_2\n",
      "fighter_age_diff\n"
     ]
    }
   ],
   "source": [
    "for col in ufc_fights_winner.columns:\n",
    "    print(col)"
   ]
  },
  {
   "cell_type": "code",
   "execution_count": 5,
   "metadata": {},
   "outputs": [],
   "source": [
    "# stats classes to test \n",
    "record_features = [\n",
    "  u'wins',\n",
    "  u'losses',\n",
    "  u'L5Y_wins',\n",
    "  u'L5Y_losses',\n",
    "  u'L2Y_wins',\n",
    "  u'L2Y_losses',\n",
    "  u'ko_wins',\n",
    "  u'ko_losses',\n",
    "  u'L5Y_ko_wins',\n",
    "  u'L5Y_ko_losses',\n",
    "  u'L2Y_ko_wins',\n",
    "  u'L2Y_ko_losses',\n",
    "  u'sub_wins',\n",
    "  u'sub_losses',\n",
    "  u'L5Y_sub_wins',\n",
    "  u'L5Y_sub_losses',\n",
    "  u'L2Y_sub_wins',\n",
    "  u'L2Y_sub_losses',\n",
    "]\n",
    "record_statistics=[\n",
    "  u'fighter_wins',\n",
    "  u'fighter_losses',\n",
    "  u'fighter_L5Y_wins',\n",
    "  u'fighter_L5Y_losses',\n",
    "  u'fighter_L2Y_wins',\n",
    "  u'fighter_L2Y_losses',\n",
    "  u'fighter_ko_wins',\n",
    "  u'fighter_ko_losses',\n",
    "  u'fighter_L5Y_ko_wins',\n",
    "  u'fighter_L5Y_ko_losses',\n",
    "  u'fighter_L2Y_ko_wins',\n",
    "  u'fighter_L2Y_ko_losses',\n",
    "  u'fighter_sub_wins',\n",
    "  u'fighter_sub_losses',\n",
    "  u'fighter_L5Y_sub_wins',\n",
    "  u'fighter_L5Y_sub_losses',\n",
    "  u'fighter_L2Y_sub_wins',\n",
    "  u'fighter_L2Y_sub_losses',\n",
    "  u'opponent_wins',\n",
    "  u'opponent_losses',\n",
    "  u'opponent_L5Y_wins',\n",
    "  u'opponent_L5Y_losses',\n",
    "  u'opponent_L2Y_wins',\n",
    "  u'opponent_L2Y_losses',\n",
    "  u'opponent_ko_wins',\n",
    "  u'opponent_ko_losses',\n",
    "  u'opponent_L5Y_ko_wins',\n",
    "  u'opponent_L5Y_ko_losses',\n",
    "  u'opponent_L2Y_ko_wins',\n",
    "  u'opponent_L2Y_ko_losses',\n",
    "  u'opponent_sub_wins',\n",
    "  u'opponent_sub_losses',\n",
    "  u'opponent_L5Y_sub_wins',\n",
    "  u'opponent_L5Y_sub_losses',\n",
    "  u'opponent_L2Y_sub_wins',\n",
    "  u'opponent_L2Y_sub_losses'\n",
    "  ]\n",
    "physical_stats=[ u'fighter_age',u'fighter_height',u'fighter_reach',u'opponent_age',u'opponent_height',u'opponent_reach']\n",
    "# removed pass from punch_statistics as it is sometimes nan\n",
    "event_features = [\n",
    "                  u'knockdowns',\n",
    "                #   u'pass',\n",
    "                  u'reversals',\n",
    "                  u'sub_attempts',\n",
    "]\n",
    "\n",
    "punch_features = [\n",
    "                  u'takedowns',\n",
    "                  u'sig_strikes',\n",
    "                  u'total_strikes',\n",
    "                  u'head_strikes',\n",
    "                  u'body_strikes',\n",
    "                  u'leg_strikes',\n",
    "                  u'distance_strikes',\n",
    "                  u'clinch_strikes',\n",
    "                  u'ground_strikes',\n",
    "              ]\n",
    "\n",
    "\n",
    "def make_event_statistics_subset(event_list):\n",
    "    event_statistics = []\n",
    "    for event in event_list:\n",
    "        event_statistics.append(f'fighter_inf_{event}_avg')\n",
    "        event_statistics.append(f'fighter_abs_{event}_avg')\n",
    "        event_statistics.append(f'opponent_inf_{event}_avg')\n",
    "        event_statistics.append(f'opponent_abs_{event}_avg')\n",
    "    return event_statistics\n",
    "  \n",
    "def make_event_statistics_subset_diff(event_list):\n",
    "    event_statistics = []\n",
    "    for event in event_list:\n",
    "        event_statistics.append(f'fighter_inf_{event}_avg_diff_2')\n",
    "        event_statistics.append(f'fighter_abs_{event}_avg_diff_2')\n",
    "    return event_statistics\n",
    "\n",
    "def make_punch_statistics_subset(punch_stat_list):\n",
    "    punch_statistics = []\n",
    "    for punch in punch_stat_list:\n",
    "        punch_statistics.append(f'fighter_inf_{punch}_landed_avg')\n",
    "        punch_statistics.append(f'fighter_inf_{punch}_attempts_avg')\n",
    "        punch_statistics.append(f'fighter_abs_{punch}_landed_avg')\n",
    "        punch_statistics.append(f'fighter_abs_{punch}_attempts_avg')\n",
    "        punch_statistics.append(f'opponent_inf_{punch}_landed_avg')\n",
    "        punch_statistics.append(f'opponent_inf_{punch}_attempts_avg')\n",
    "        punch_statistics.append(f'opponent_abs_{punch}_landed_avg')\n",
    "        punch_statistics.append(f'opponent_abs_{punch}_attempts_avg')\n",
    "    return punch_statistics\n",
    "  \n",
    "def make_punch_statistics_subset_diff(punch_stat_list):\n",
    "    punch_statistics = []\n",
    "    for punch in punch_stat_list:\n",
    "        punch_statistics.append(f'fighter_inf_{punch}_landed_avg_diff_2')\n",
    "        punch_statistics.append(f'fighter_inf_{punch}_attempts_avg_diff_2')\n",
    "        punch_statistics.append(f'fighter_abs_{punch}_landed_avg_diff_2')\n",
    "        punch_statistics.append(f'fighter_abs_{punch}_attempts_avg_diff_2')\n",
    "    return punch_statistics\n",
    "\n",
    "def make_punch_statistics_subset_diff_set_of_sets(punch_stat_list):\n",
    "    punch_statistics = []\n",
    "    for punch in punch_stat_list:\n",
    "        punch_statistics.append([f'fighter_inf_{punch}_landed_avg_diff_2',\n",
    "        f'fighter_inf_{punch}_attempts_avg_diff_2',\n",
    "        f'fighter_abs_{punch}_landed_avg_diff_2',\n",
    "        f'fighter_abs_{punch}_attempts_avg_diff_2',])\n",
    "    return punch_statistics\n",
    "  \n",
    "punch_statistics = make_punch_statistics_subset(punch_features)\n",
    "event_statistics = make_event_statistics_subset(event_features)\n",
    "punch_statistics_diff = make_punch_statistics_subset_diff(punch_features)\n",
    "event_statistics_diff = make_event_statistics_subset_diff(event_features)\n",
    "punch_statistics_diff_set_of_sets = make_punch_statistics_subset_diff_set_of_sets(punch_features)\n",
    "\n",
    "record_statistics_diff = [record_statistics[i]+'_diff_2' for i in range(len(record_statistics)//2)]\n",
    "physical_stats_diff = ['fighter_age_diff', 'height_diff', 'reach_diff']\n",
    "fight_math_stats = [ '1-fight_math', '6-fight_math', '4-fighter_score_diff', '9-fighter_score_diff', '15-fighter_score_diff' ]\n",
    "possible_stats = record_statistics + physical_stats + punch_statistics + fight_math_stats\n",
    "# create the diff features\n",
    "possible_stats_diff = record_statistics_diff + physical_stats_diff + event_statistics_diff + punch_statistics_diff + fight_math_stats"
   ]
  },
  {
   "cell_type": "code",
   "execution_count": 9,
   "metadata": {},
   "outputs": [
    {
     "data": {
      "text/plain": [
       "['fighter_inf_knockdowns_avg_diff_2',\n",
       " 'fighter_abs_knockdowns_avg_diff_2',\n",
       " 'fighter_inf_reversals_avg_diff_2',\n",
       " 'fighter_abs_reversals_avg_diff_2',\n",
       " 'fighter_inf_sub_attempts_avg_diff_2',\n",
       " 'fighter_abs_sub_attempts_avg_diff_2']"
      ]
     },
     "execution_count": 9,
     "metadata": {},
     "output_type": "execute_result"
    }
   ],
   "source": [
    "event_statistics_diff"
   ]
  },
  {
   "cell_type": "code",
   "execution_count": 10,
   "metadata": {},
   "outputs": [
    {
     "data": {
      "text/plain": [
       "np.float64(-0.6804696396386394)"
      ]
     },
     "execution_count": 10,
     "metadata": {},
     "output_type": "execute_result"
    }
   ],
   "source": [
    "# LR model score with just record statistics considered\n",
    "model_score(ufc_fights_winner,record_statistics)"
   ]
  },
  {
   "cell_type": "code",
   "execution_count": 11,
   "metadata": {},
   "outputs": [
    {
     "data": {
      "text/plain": [
       "np.float64(-0.6767567207283657)"
      ]
     },
     "execution_count": 11,
     "metadata": {},
     "output_type": "execute_result"
    }
   ],
   "source": [
    "# LR model score with just record statistics differences considered (higher)\n",
    "model_score(ufc_fights_winner,record_statistics_diff)"
   ]
  },
  {
   "cell_type": "code",
   "execution_count": 12,
   "metadata": {},
   "outputs": [
    {
     "data": {
      "text/plain": [
       "np.float64(-0.6700850835783903)"
      ]
     },
     "execution_count": 12,
     "metadata": {},
     "output_type": "execute_result"
    }
   ],
   "source": [
    "model_score(ufc_fights_winner,physical_stats)"
   ]
  },
  {
   "cell_type": "code",
   "execution_count": 13,
   "metadata": {},
   "outputs": [
    {
     "data": {
      "text/plain": [
       "np.float64(-0.6694370950326433)"
      ]
     },
     "execution_count": 13,
     "metadata": {},
     "output_type": "execute_result"
    }
   ],
   "source": [
    "model_score(ufc_fights_winner,physical_stats_diff)"
   ]
  },
  {
   "cell_type": "code",
   "execution_count": 14,
   "metadata": {},
   "outputs": [
    {
     "data": {
      "text/plain": [
       "np.float64(-0.6950046019158217)"
      ]
     },
     "execution_count": 14,
     "metadata": {},
     "output_type": "execute_result"
    }
   ],
   "source": [
    "model_score(ufc_fights_winner,punch_statistics)"
   ]
  },
  {
   "cell_type": "code",
   "execution_count": 15,
   "metadata": {},
   "outputs": [
    {
     "data": {
      "text/plain": [
       "np.float64(-0.6784075416546211)"
      ]
     },
     "execution_count": 15,
     "metadata": {},
     "output_type": "execute_result"
    }
   ],
   "source": [
    "model_score(ufc_fights_winner,punch_statistics_diff)"
   ]
  },
  {
   "cell_type": "code",
   "execution_count": 16,
   "metadata": {},
   "outputs": [
    {
     "data": {
      "text/plain": [
       "np.float64(-0.6656277184223823)"
      ]
     },
     "execution_count": 16,
     "metadata": {},
     "output_type": "execute_result"
    }
   ],
   "source": [
    "model_score(ufc_fights_winner,possible_stats)"
   ]
  },
  {
   "cell_type": "code",
   "execution_count": 17,
   "metadata": {},
   "outputs": [
    {
     "data": {
      "text/plain": [
       "np.float64(-0.6652085822952429)"
      ]
     },
     "execution_count": 17,
     "metadata": {},
     "output_type": "execute_result"
    }
   ],
   "source": [
    "# PERFORMANCE IS BETTER WITHOUT SCALING...?\n",
    "model_score(ufc_fights_winner,possible_stats, scaled=False, _max_iter=5000)"
   ]
  },
  {
   "cell_type": "code",
   "execution_count": 18,
   "metadata": {},
   "outputs": [
    {
     "data": {
      "text/plain": [
       "np.float64(-0.6487133411315633)"
      ]
     },
     "execution_count": 18,
     "metadata": {},
     "output_type": "execute_result"
    }
   ],
   "source": [
    "# GOAL beat this score with a smaller subset of features\n",
    "# TODO compute the analogous thing by using the vegas odds from bookies (remove vig and compute the implied probability)\n",
    "# WE NEED TO BEAT THIS SCORE FROM VEGAS\n",
    "model_score(ufc_fights_winner,possible_stats_diff)"
   ]
  },
  {
   "cell_type": "markdown",
   "metadata": {},
   "source": [
    "# NOTE A LARGER VALUE IS BETTER FOR NEG LOG LOSS"
   ]
  },
  {
   "cell_type": "code",
   "execution_count": 19,
   "metadata": {},
   "outputs": [
    {
     "name": "stdout",
     "output_type": "stream",
     "text": [
      "Length of record_statistics_diff: 18\n",
      "Length of physical_stats_diff: 3\n",
      "Length of punch_statistics_diff: 36\n",
      "Length of fight_math_stats: 5\n"
     ]
    }
   ],
   "source": [
    "print('Length of record_statistics_diff:', len(record_statistics_diff))\n",
    "print('Length of physical_stats_diff:', len(physical_stats_diff))\n",
    "print('Length of punch_statistics_diff:', len(punch_statistics_diff))\n",
    "print('Length of fight_math_stats:', len(fight_math_stats))"
   ]
  },
  {
   "cell_type": "code",
   "execution_count": 10,
   "metadata": {},
   "outputs": [
    {
     "name": "stdout",
     "output_type": "stream",
     "text": [
      "36 choose 4: 58905\n",
      "31 choose 12: 141120525\n"
     ]
    }
   ],
   "source": [
    "# compute 5 choose 2\n",
    "from math import comb\n",
    "print('36 choose 4:', comb(36, 4))\n",
    "print('31 choose 12:', comb(31, 12))"
   ]
  },
  {
   "cell_type": "code",
   "execution_count": 20,
   "metadata": {},
   "outputs": [],
   "source": [
    "record_stats_score_dict = {}\n",
    "physical_stats_score_dict = {}\n",
    "event_stats_score_dict = {}\n",
    "punch_stats_score_dict = {}\n",
    "fight_math_stats_score_dict = {}"
   ]
  },
  {
   "cell_type": "code",
   "execution_count": 21,
   "metadata": {},
   "outputs": [
    {
     "name": "stdout",
     "output_type": "stream",
     "text": [
      "best subset: ('fighter_L5Y_wins_diff_2', 'fighter_losses_diff_2')\n",
      "with score -0.6781339683891466\n"
     ]
    }
   ],
   "source": [
    "greedy_record_stats, score = greedy(ufc_fights_winner,record_statistics_diff,subsetsize=2,scaled=False)"
   ]
  },
  {
   "cell_type": "code",
   "execution_count": 22,
   "metadata": {},
   "outputs": [
    {
     "name": "stdout",
     "output_type": "stream",
     "text": [
      "best subset: ('fighter_losses_diff_2',)\n",
      "with score -0.6859758008480181\n",
      "best subset: ('fighter_L5Y_wins_diff_2', 'fighter_losses_diff_2')\n",
      "with score -0.6781204676448449\n",
      "best subset: ('fighter_L5Y_wins_diff_2', 'fighter_losses_diff_2', 'fighter_ko_losses_diff_2')\n",
      "with score -0.6760827361018713\n",
      "best subset: ('fighter_L5Y_wins_diff_2', 'fighter_losses_diff_2', 'fighter_ko_losses_diff_2', 'fighter_sub_wins_diff_2')\n",
      "with score -0.6755559378759419\n",
      "best subset: ('fighter_L5Y_wins_diff_2', 'fighter_sub_wins_diff_2', 'fighter_ko_losses_diff_2', 'fighter_losses_diff_2', 'fighter_wins_diff_2')\n",
      "with score -0.6753187334859281\n"
     ]
    }
   ],
   "source": [
    "for subsetsize in [1,2,3,4,5]:\n",
    "    greedy_record_stats, score = greedy(ufc_fights_winner,record_statistics_diff,subsetsize=subsetsize)\n",
    "    record_stats_score_dict[tuple(greedy_record_stats)] = score"
   ]
  },
  {
   "cell_type": "code",
   "execution_count": 23,
   "metadata": {},
   "outputs": [
    {
     "name": "stdout",
     "output_type": "stream",
     "text": [
      "best subset: ('fighter_age_diff',)\n",
      "with score -0.6702331742089214\n",
      "best subset: ('reach_diff', 'fighter_age_diff')\n",
      "with score -0.6696022622640263\n",
      "best subset: ('reach_diff', 'fighter_age_diff', 'height_diff')\n",
      "with score -0.6694370950326433\n"
     ]
    }
   ],
   "source": [
    "for subsetsize in [1,2,3]:\n",
    "    greedy_physical_stats, score = greedy(ufc_fights_winner,physical_stats_diff,subsetsize=subsetsize)\n",
    "    physical_stats_score_dict[tuple(greedy_physical_stats)] = score"
   ]
  },
  {
   "cell_type": "code",
   "execution_count": 24,
   "metadata": {},
   "outputs": [
    {
     "name": "stdout",
     "output_type": "stream",
     "text": [
      "best subset: ('fighter_abs_knockdowns_avg_diff_2',)\n",
      "with score -0.6927119372563671\n",
      "best subset: ('fighter_inf_knockdowns_avg_diff_2', 'fighter_abs_knockdowns_avg_diff_2')\n",
      "with score -0.6923702525585034\n",
      "best subset: ('fighter_abs_reversals_avg_diff_2', 'fighter_inf_knockdowns_avg_diff_2', 'fighter_abs_knockdowns_avg_diff_2')\n",
      "with score -0.6922544435697604\n"
     ]
    }
   ],
   "source": [
    "for subsetsize in [1,2,3]:\n",
    "    greedy_event_stats, score = greedy(ufc_fights_winner,event_statistics_diff,subsetsize=subsetsize)\n",
    "    event_stats_score_dict[tuple(greedy_event_stats)] = score"
   ]
  },
  {
   "cell_type": "code",
   "execution_count": 25,
   "metadata": {},
   "outputs": [
    {
     "name": "stdout",
     "output_type": "stream",
     "text": [
      "best subset: ('fighter_abs_total_strikes_landed_avg_diff_2',)\n",
      "with score -0.684001133717203\n",
      "best subset: ('fighter_inf_takedowns_attempts_avg_diff_2', 'fighter_abs_total_strikes_landed_avg_diff_2')\n",
      "with score -0.6806733439392402\n",
      "best subset: ('fighter_inf_takedowns_attempts_avg_diff_2', 'fighter_inf_sig_strikes_landed_avg_diff_2', 'fighter_abs_total_strikes_landed_avg_diff_2')\n",
      "with score -0.6772647905928239\n",
      "best subset: ('fighter_abs_takedowns_attempts_avg_diff_2', 'fighter_inf_takedowns_attempts_avg_diff_2', 'fighter_inf_sig_strikes_landed_avg_diff_2', 'fighter_abs_total_strikes_landed_avg_diff_2')\n",
      "with score -0.6753646869792842\n"
     ]
    }
   ],
   "source": [
    "for subsetsize in [1,2,3,4]:\n",
    "    greedy_punch_stats, score = greedy(ufc_fights_winner,punch_statistics_diff,subsetsize=subsetsize)\n",
    "    punch_stats_score_dict[tuple(greedy_punch_stats)] = score"
   ]
  },
  {
   "cell_type": "code",
   "execution_count": 26,
   "metadata": {},
   "outputs": [
    {
     "name": "stdout",
     "output_type": "stream",
     "text": [
      "best subset: (('fighter_inf_total_strikes_landed_avg_diff_2', 'fighter_inf_total_strikes_attempts_avg_diff_2', 'fighter_abs_total_strikes_landed_avg_diff_2', 'fighter_abs_total_strikes_attempts_avg_diff_2'),)\n",
      "with score -0.6826697861796612\n",
      "best subset: (('fighter_inf_takedowns_landed_avg_diff_2', 'fighter_inf_takedowns_attempts_avg_diff_2', 'fighter_abs_takedowns_landed_avg_diff_2', 'fighter_abs_takedowns_attempts_avg_diff_2'), ('fighter_inf_total_strikes_landed_avg_diff_2', 'fighter_inf_total_strikes_attempts_avg_diff_2', 'fighter_abs_total_strikes_landed_avg_diff_2', 'fighter_abs_total_strikes_attempts_avg_diff_2'))\n",
      "with score -0.67848060728802\n",
      "best subset: (('fighter_inf_takedowns_landed_avg_diff_2', 'fighter_inf_takedowns_attempts_avg_diff_2', 'fighter_abs_takedowns_landed_avg_diff_2', 'fighter_abs_takedowns_attempts_avg_diff_2'), ('fighter_inf_sig_strikes_landed_avg_diff_2', 'fighter_inf_sig_strikes_attempts_avg_diff_2', 'fighter_abs_sig_strikes_landed_avg_diff_2', 'fighter_abs_sig_strikes_attempts_avg_diff_2'), ('fighter_inf_clinch_strikes_landed_avg_diff_2', 'fighter_inf_clinch_strikes_attempts_avg_diff_2', 'fighter_abs_clinch_strikes_landed_avg_diff_2', 'fighter_abs_clinch_strikes_attempts_avg_diff_2'))\n",
      "with score -0.6759450619124348\n",
      "best subset: (('fighter_inf_distance_strikes_landed_avg_diff_2', 'fighter_inf_distance_strikes_attempts_avg_diff_2', 'fighter_abs_distance_strikes_landed_avg_diff_2', 'fighter_abs_distance_strikes_attempts_avg_diff_2'), ('fighter_inf_takedowns_landed_avg_diff_2', 'fighter_inf_takedowns_attempts_avg_diff_2', 'fighter_abs_takedowns_landed_avg_diff_2', 'fighter_abs_takedowns_attempts_avg_diff_2'), ('fighter_inf_clinch_strikes_landed_avg_diff_2', 'fighter_inf_clinch_strikes_attempts_avg_diff_2', 'fighter_abs_clinch_strikes_landed_avg_diff_2', 'fighter_abs_clinch_strikes_attempts_avg_diff_2'), ('fighter_inf_head_strikes_landed_avg_diff_2', 'fighter_inf_head_strikes_attempts_avg_diff_2', 'fighter_abs_head_strikes_landed_avg_diff_2', 'fighter_abs_head_strikes_attempts_avg_diff_2'))\n",
      "with score -0.6750518487914839\n",
      "best subset: (('fighter_inf_distance_strikes_landed_avg_diff_2', 'fighter_inf_distance_strikes_attempts_avg_diff_2', 'fighter_abs_distance_strikes_landed_avg_diff_2', 'fighter_abs_distance_strikes_attempts_avg_diff_2'), ('fighter_inf_clinch_strikes_landed_avg_diff_2', 'fighter_inf_clinch_strikes_attempts_avg_diff_2', 'fighter_abs_clinch_strikes_landed_avg_diff_2', 'fighter_abs_clinch_strikes_attempts_avg_diff_2'), ('fighter_inf_takedowns_landed_avg_diff_2', 'fighter_inf_takedowns_attempts_avg_diff_2', 'fighter_abs_takedowns_landed_avg_diff_2', 'fighter_abs_takedowns_attempts_avg_diff_2'), ('fighter_inf_head_strikes_landed_avg_diff_2', 'fighter_inf_head_strikes_attempts_avg_diff_2', 'fighter_abs_head_strikes_landed_avg_diff_2', 'fighter_abs_head_strikes_attempts_avg_diff_2'), ('fighter_inf_sig_strikes_landed_avg_diff_2', 'fighter_inf_sig_strikes_attempts_avg_diff_2', 'fighter_abs_sig_strikes_landed_avg_diff_2', 'fighter_abs_sig_strikes_attempts_avg_diff_2'))\n",
      "with score -0.6752149306831353\n",
      "best subset: (('fighter_inf_distance_strikes_landed_avg_diff_2', 'fighter_inf_distance_strikes_attempts_avg_diff_2', 'fighter_abs_distance_strikes_landed_avg_diff_2', 'fighter_abs_distance_strikes_attempts_avg_diff_2'), ('fighter_inf_clinch_strikes_landed_avg_diff_2', 'fighter_inf_clinch_strikes_attempts_avg_diff_2', 'fighter_abs_clinch_strikes_landed_avg_diff_2', 'fighter_abs_clinch_strikes_attempts_avg_diff_2'), ('fighter_inf_takedowns_landed_avg_diff_2', 'fighter_inf_takedowns_attempts_avg_diff_2', 'fighter_abs_takedowns_landed_avg_diff_2', 'fighter_abs_takedowns_attempts_avg_diff_2'), ('fighter_inf_total_strikes_landed_avg_diff_2', 'fighter_inf_total_strikes_attempts_avg_diff_2', 'fighter_abs_total_strikes_landed_avg_diff_2', 'fighter_abs_total_strikes_attempts_avg_diff_2'), ('fighter_inf_head_strikes_landed_avg_diff_2', 'fighter_inf_head_strikes_attempts_avg_diff_2', 'fighter_abs_head_strikes_landed_avg_diff_2', 'fighter_abs_head_strikes_attempts_avg_diff_2'), ('fighter_inf_sig_strikes_landed_avg_diff_2', 'fighter_inf_sig_strikes_attempts_avg_diff_2', 'fighter_abs_sig_strikes_landed_avg_diff_2', 'fighter_abs_sig_strikes_attempts_avg_diff_2'))\n",
      "with score -0.675930167192944\n",
      "best subset: (('fighter_inf_ground_strikes_landed_avg_diff_2', 'fighter_inf_ground_strikes_attempts_avg_diff_2', 'fighter_abs_ground_strikes_landed_avg_diff_2', 'fighter_abs_ground_strikes_attempts_avg_diff_2'), ('fighter_inf_distance_strikes_landed_avg_diff_2', 'fighter_inf_distance_strikes_attempts_avg_diff_2', 'fighter_abs_distance_strikes_landed_avg_diff_2', 'fighter_abs_distance_strikes_attempts_avg_diff_2'), ('fighter_inf_clinch_strikes_landed_avg_diff_2', 'fighter_inf_clinch_strikes_attempts_avg_diff_2', 'fighter_abs_clinch_strikes_landed_avg_diff_2', 'fighter_abs_clinch_strikes_attempts_avg_diff_2'), ('fighter_inf_takedowns_landed_avg_diff_2', 'fighter_inf_takedowns_attempts_avg_diff_2', 'fighter_abs_takedowns_landed_avg_diff_2', 'fighter_abs_takedowns_attempts_avg_diff_2'), ('fighter_inf_total_strikes_landed_avg_diff_2', 'fighter_inf_total_strikes_attempts_avg_diff_2', 'fighter_abs_total_strikes_landed_avg_diff_2', 'fighter_abs_total_strikes_attempts_avg_diff_2'), ('fighter_inf_head_strikes_landed_avg_diff_2', 'fighter_inf_head_strikes_attempts_avg_diff_2', 'fighter_abs_head_strikes_landed_avg_diff_2', 'fighter_abs_head_strikes_attempts_avg_diff_2'), ('fighter_inf_sig_strikes_landed_avg_diff_2', 'fighter_inf_sig_strikes_attempts_avg_diff_2', 'fighter_abs_sig_strikes_landed_avg_diff_2', 'fighter_abs_sig_strikes_attempts_avg_diff_2'))\n",
      "with score -0.6763983795230358\n",
      "best subset: (('fighter_inf_ground_strikes_landed_avg_diff_2', 'fighter_inf_ground_strikes_attempts_avg_diff_2', 'fighter_abs_ground_strikes_landed_avg_diff_2', 'fighter_abs_ground_strikes_attempts_avg_diff_2'), ('fighter_inf_leg_strikes_landed_avg_diff_2', 'fighter_inf_leg_strikes_attempts_avg_diff_2', 'fighter_abs_leg_strikes_landed_avg_diff_2', 'fighter_abs_leg_strikes_attempts_avg_diff_2'), ('fighter_inf_distance_strikes_landed_avg_diff_2', 'fighter_inf_distance_strikes_attempts_avg_diff_2', 'fighter_abs_distance_strikes_landed_avg_diff_2', 'fighter_abs_distance_strikes_attempts_avg_diff_2'), ('fighter_inf_clinch_strikes_landed_avg_diff_2', 'fighter_inf_clinch_strikes_attempts_avg_diff_2', 'fighter_abs_clinch_strikes_landed_avg_diff_2', 'fighter_abs_clinch_strikes_attempts_avg_diff_2'), ('fighter_inf_takedowns_landed_avg_diff_2', 'fighter_inf_takedowns_attempts_avg_diff_2', 'fighter_abs_takedowns_landed_avg_diff_2', 'fighter_abs_takedowns_attempts_avg_diff_2'), ('fighter_inf_total_strikes_landed_avg_diff_2', 'fighter_inf_total_strikes_attempts_avg_diff_2', 'fighter_abs_total_strikes_landed_avg_diff_2', 'fighter_abs_total_strikes_attempts_avg_diff_2'), ('fighter_inf_head_strikes_landed_avg_diff_2', 'fighter_inf_head_strikes_attempts_avg_diff_2', 'fighter_abs_head_strikes_landed_avg_diff_2', 'fighter_abs_head_strikes_attempts_avg_diff_2'), ('fighter_inf_sig_strikes_landed_avg_diff_2', 'fighter_inf_sig_strikes_attempts_avg_diff_2', 'fighter_abs_sig_strikes_landed_avg_diff_2', 'fighter_abs_sig_strikes_attempts_avg_diff_2'))\n",
      "with score -0.677356863068959\n",
      "best subset: (('fighter_inf_ground_strikes_landed_avg_diff_2', 'fighter_inf_ground_strikes_attempts_avg_diff_2', 'fighter_abs_ground_strikes_landed_avg_diff_2', 'fighter_abs_ground_strikes_attempts_avg_diff_2'), ('fighter_inf_leg_strikes_landed_avg_diff_2', 'fighter_inf_leg_strikes_attempts_avg_diff_2', 'fighter_abs_leg_strikes_landed_avg_diff_2', 'fighter_abs_leg_strikes_attempts_avg_diff_2'), ('fighter_inf_distance_strikes_landed_avg_diff_2', 'fighter_inf_distance_strikes_attempts_avg_diff_2', 'fighter_abs_distance_strikes_landed_avg_diff_2', 'fighter_abs_distance_strikes_attempts_avg_diff_2'), ('fighter_inf_clinch_strikes_landed_avg_diff_2', 'fighter_inf_clinch_strikes_attempts_avg_diff_2', 'fighter_abs_clinch_strikes_landed_avg_diff_2', 'fighter_abs_clinch_strikes_attempts_avg_diff_2'), ('fighter_inf_body_strikes_landed_avg_diff_2', 'fighter_inf_body_strikes_attempts_avg_diff_2', 'fighter_abs_body_strikes_landed_avg_diff_2', 'fighter_abs_body_strikes_attempts_avg_diff_2'), ('fighter_inf_takedowns_landed_avg_diff_2', 'fighter_inf_takedowns_attempts_avg_diff_2', 'fighter_abs_takedowns_landed_avg_diff_2', 'fighter_abs_takedowns_attempts_avg_diff_2'), ('fighter_inf_total_strikes_landed_avg_diff_2', 'fighter_inf_total_strikes_attempts_avg_diff_2', 'fighter_abs_total_strikes_landed_avg_diff_2', 'fighter_abs_total_strikes_attempts_avg_diff_2'), ('fighter_inf_head_strikes_landed_avg_diff_2', 'fighter_inf_head_strikes_attempts_avg_diff_2', 'fighter_abs_head_strikes_landed_avg_diff_2', 'fighter_abs_head_strikes_attempts_avg_diff_2'), ('fighter_inf_sig_strikes_landed_avg_diff_2', 'fighter_inf_sig_strikes_attempts_avg_diff_2', 'fighter_abs_sig_strikes_landed_avg_diff_2', 'fighter_abs_sig_strikes_attempts_avg_diff_2'))\n",
      "with score -0.6784075416548798\n"
     ]
    }
   ],
   "source": [
    "for subsetsize in [1,2,3,4,5,6,7,8,9]:\n",
    "    greedy_punch_stats, score = greedy(ufc_fights_winner, punch_statistics_diff_set_of_sets, subsetsize=subsetsize, set_of_sets=True)\n",
    "    punch_stats_score_dict[tuple(greedy_punch_stats)] = score"
   ]
  },
  {
   "cell_type": "code",
   "execution_count": 27,
   "metadata": {},
   "outputs": [
    {
     "name": "stdout",
     "output_type": "stream",
     "text": [
      "best subset: ('4-fighter_score_diff',)\n",
      "with score -0.6736105965822939\n",
      "best subset: ('4-fighter_score_diff', '6-fight_math')\n",
      "with score -0.6723386689925168\n",
      "best subset: ('4-fighter_score_diff', '6-fight_math', '15-fighter_score_diff')\n",
      "with score -0.6722794100887622\n",
      "best subset: ('9-fighter_score_diff', '4-fighter_score_diff', '6-fight_math', '15-fighter_score_diff')\n",
      "with score -0.6716380530481842\n",
      "best subset: ('6-fight_math', '1-fight_math', '4-fighter_score_diff', '9-fighter_score_diff', '15-fighter_score_diff')\n",
      "with score -0.6718273617594558\n"
     ]
    }
   ],
   "source": [
    "for subsetsize in [1,2,3,4,5]:\n",
    "    greedy_fight_math_stats, score = greedy(ufc_fights_winner, fight_math_stats, subsetsize=subsetsize)\n",
    "    fight_math_stats_score_dict[tuple(greedy_fight_math_stats)] = score"
   ]
  },
  {
   "cell_type": "code",
   "execution_count": null,
   "metadata": {},
   "outputs": [
    {
     "name": "stdout",
     "output_type": "stream",
     "text": [
      "fighter_L5Y_wins_diff_2\n",
      "fighter_sub_wins_diff_2\n",
      "fighter_ko_losses_diff_2\n",
      "fighter_losses_diff_2\n",
      "fighter_wins_diff_2\n",
      "reach_diff\n",
      "fighter_age_diff\n",
      "height_diff\n",
      "fighter_abs_reversals_avg_diff_2\n",
      "fighter_inf_knockdowns_avg_diff_2\n",
      "fighter_abs_knockdowns_avg_diff_2\n",
      "fighter_inf_distance_strikes_landed_avg_diff_2\n",
      "fighter_inf_distance_strikes_attempts_avg_diff_2\n",
      "fighter_abs_distance_strikes_landed_avg_diff_2\n",
      "fighter_abs_distance_strikes_attempts_avg_diff_2\n",
      "fighter_inf_takedowns_landed_avg_diff_2\n",
      "fighter_inf_takedowns_attempts_avg_diff_2\n",
      "fighter_abs_takedowns_landed_avg_diff_2\n",
      "fighter_abs_takedowns_attempts_avg_diff_2\n",
      "fighter_inf_clinch_strikes_landed_avg_diff_2\n",
      "fighter_inf_clinch_strikes_attempts_avg_diff_2\n",
      "fighter_abs_clinch_strikes_landed_avg_diff_2\n",
      "fighter_abs_clinch_strikes_attempts_avg_diff_2\n",
      "fighter_inf_head_strikes_landed_avg_diff_2\n",
      "fighter_inf_head_strikes_attempts_avg_diff_2\n",
      "fighter_abs_head_strikes_landed_avg_diff_2\n",
      "fighter_abs_head_strikes_attempts_avg_diff_2\n",
      "9-fighter_score_diff\n",
      "4-fighter_score_diff\n",
      "6-fight_math\n",
      "15-fighter_score_diff\n"
     ]
    }
   ],
   "source": [
    "# put all the results of the separate greedy runs into a single list\n",
    "best_stats_from_all_greedy_put_together = []\n",
    "best_record_stats = max(record_stats_score_dict, key=record_stats_score_dict.get)\n",
    "best_physical_stats = max(physical_stats_score_dict, key=physical_stats_score_dict.get)\n",
    "best_event_stats = max(event_stats_score_dict, key=event_stats_score_dict.get)\n",
    "best_punch_stats = max(punch_stats_score_dict, key=punch_stats_score_dict.get)\n",
    "best_fight_math_stats = max(fight_math_stats_score_dict, key=fight_math_stats_score_dict.get)\n",
    "best_stats_from_all_greedy_put_together.extend(best_record_stats)\n",
    "best_stats_from_all_greedy_put_together.extend(best_physical_stats)\n",
    "best_stats_from_all_greedy_put_together.extend(best_event_stats)\n",
    "best_stats_from_all_greedy_put_together.extend(best_punch_stats)\n",
    "best_stats_from_all_greedy_put_together.extend(best_fight_math_stats)\n",
    "for stat in best_stats_from_all_greedy_put_together:\n",
    "    print(stat)\n"
   ]
  },
  {
   "cell_type": "code",
   "execution_count": 6,
   "metadata": {},
   "outputs": [],
   "source": [
    "# result of the above cell (if you dont want to run it all again)\n",
    "\n",
    "best_stats_from_all_greedy_put_together = [\n",
    "'fighter_L5Y_wins_diff_2',\n",
    "'fighter_sub_wins_diff_2',\n",
    "'fighter_ko_losses_diff_2',\n",
    "'fighter_losses_diff_2',\n",
    "'fighter_wins_diff_2',\n",
    "'reach_diff',\n",
    "'fighter_age_diff',\n",
    "'height_diff',\n",
    "# 'fighter_abs_reversals_avg_diff_2',\n",
    "'fighter_inf_knockdowns_avg_diff_2',\n",
    "'fighter_abs_knockdowns_avg_diff_2',\n",
    "'fighter_inf_distance_strikes_landed_avg_diff_2',\n",
    "'fighter_inf_distance_strikes_attempts_avg_diff_2',\n",
    "'fighter_abs_distance_strikes_landed_avg_diff_2',\n",
    "'fighter_abs_distance_strikes_attempts_avg_diff_2',\n",
    "'fighter_inf_takedowns_landed_avg_diff_2',\n",
    "'fighter_inf_takedowns_attempts_avg_diff_2',\n",
    "'fighter_abs_takedowns_landed_avg_diff_2',\n",
    "'fighter_abs_takedowns_attempts_avg_diff_2',\n",
    "'fighter_inf_clinch_strikes_landed_avg_diff_2',\n",
    "'fighter_inf_clinch_strikes_attempts_avg_diff_2',\n",
    "'fighter_abs_clinch_strikes_landed_avg_diff_2',\n",
    "'fighter_abs_clinch_strikes_attempts_avg_diff_2',\n",
    "'fighter_inf_head_strikes_landed_avg_diff_2',\n",
    "'fighter_inf_head_strikes_attempts_avg_diff_2',\n",
    "'fighter_abs_head_strikes_landed_avg_diff_2',\n",
    "'fighter_abs_head_strikes_attempts_avg_diff_2',\n",
    "'9-fighter_score_diff',\n",
    "'4-fighter_score_diff',\n",
    "'6-fight_math',\n",
    "'15-fighter_score_diff',\n",
    "]"
   ]
  },
  {
   "cell_type": "code",
   "execution_count": 7,
   "metadata": {},
   "outputs": [
    {
     "data": {
      "text/plain": [
       "np.float64(-0.6450672032513766)"
      ]
     },
     "execution_count": 7,
     "metadata": {},
     "output_type": "execute_result"
    }
   ],
   "source": [
    "model_score(ufc_fights_winner, best_stats_from_all_greedy_put_together, _max_iter=5000)"
   ]
  },
  {
   "cell_type": "code",
   "execution_count": 10,
   "metadata": {},
   "outputs": [
    {
     "data": {
      "text/plain": [
       "30"
      ]
     },
     "execution_count": 10,
     "metadata": {},
     "output_type": "execute_result"
    }
   ],
   "source": [
    "len(best_stats_from_all_greedy_put_together)"
   ]
  },
  {
   "cell_type": "code",
   "execution_count": null,
   "metadata": {},
   "outputs": [
    {
     "name": "stdout",
     "output_type": "stream",
     "text": [
      "best subset: ('fighter_inf_takedowns_landed_avg_diff_2', 'fighter_abs_head_strikes_landed_avg_diff_2', 'fighter_age_diff', 'fighter_inf_distance_strikes_attempts_avg_diff_2', 'fighter_inf_head_strikes_landed_avg_diff_2', 'fighter_abs_takedowns_landed_avg_diff_2', 'fighter_L5Y_wins_diff_2', 'fighter_abs_reversals_avg_diff_2', 'fighter_abs_takedowns_attempts_avg_diff_2', 'fighter_ko_losses_diff_2', 'fighter_inf_distance_strikes_landed_avg_diff_2', 'height_diff', 'fighter_abs_distance_strikes_attempts_avg_diff_2', 'fighter_inf_clinch_strikes_landed_avg_diff_2', '15-fighter_score_diff', 'fighter_inf_head_strikes_attempts_avg_diff_2', 'fighter_inf_clinch_strikes_attempts_avg_diff_2', '6-fight_math', 'fighter_wins_diff_2', 'fighter_inf_knockdowns_avg_diff_2', 'fighter_losses_diff_2', 'fighter_abs_clinch_strikes_attempts_avg_diff_2', 'fighter_abs_clinch_strikes_landed_avg_diff_2', 'reach_diff', 'fighter_inf_takedowns_attempts_avg_diff_2', 'fighter_sub_wins_diff_2', '9-fighter_score_diff', '4-fighter_score_diff', 'fighter_abs_head_strikes_attempts_avg_diff_2', 'fighter_abs_distance_strikes_landed_avg_diff_2')\n",
      "with score -0.6408828859957965\n",
      "Current best score: -0.6408828859957965\n",
      "Current best subset: ['fighter_inf_takedowns_landed_avg_diff_2', 'fighter_abs_head_strikes_landed_avg_diff_2', 'fighter_age_diff', 'fighter_inf_distance_strikes_attempts_avg_diff_2', 'fighter_inf_head_strikes_landed_avg_diff_2', 'fighter_abs_takedowns_landed_avg_diff_2', 'fighter_L5Y_wins_diff_2', 'fighter_abs_reversals_avg_diff_2', 'fighter_abs_takedowns_attempts_avg_diff_2', 'fighter_ko_losses_diff_2', 'fighter_inf_distance_strikes_landed_avg_diff_2', 'height_diff', 'fighter_abs_distance_strikes_attempts_avg_diff_2', 'fighter_inf_clinch_strikes_landed_avg_diff_2', '15-fighter_score_diff', 'fighter_inf_head_strikes_attempts_avg_diff_2', 'fighter_inf_clinch_strikes_attempts_avg_diff_2', '6-fight_math', 'fighter_wins_diff_2', 'fighter_inf_knockdowns_avg_diff_2', 'fighter_losses_diff_2', 'fighter_abs_clinch_strikes_attempts_avg_diff_2', 'fighter_abs_clinch_strikes_landed_avg_diff_2', 'reach_diff', 'fighter_inf_takedowns_attempts_avg_diff_2', 'fighter_sub_wins_diff_2', '9-fighter_score_diff', '4-fighter_score_diff', 'fighter_abs_head_strikes_attempts_avg_diff_2', 'fighter_abs_distance_strikes_landed_avg_diff_2']\n",
      "best subset: ('fighter_inf_takedowns_landed_avg_diff_2', 'fighter_abs_head_strikes_landed_avg_diff_2', 'fighter_age_diff', 'fighter_inf_distance_strikes_attempts_avg_diff_2', 'fighter_inf_head_strikes_landed_avg_diff_2', 'fighter_abs_takedowns_landed_avg_diff_2', 'fighter_L5Y_wins_diff_2', 'fighter_abs_reversals_avg_diff_2', 'fighter_abs_takedowns_attempts_avg_diff_2', 'fighter_ko_losses_diff_2', 'fighter_inf_distance_strikes_landed_avg_diff_2', 'height_diff', 'fighter_abs_distance_strikes_attempts_avg_diff_2', 'fighter_inf_clinch_strikes_landed_avg_diff_2', '15-fighter_score_diff', 'fighter_inf_head_strikes_attempts_avg_diff_2', 'fighter_inf_clinch_strikes_attempts_avg_diff_2', '6-fight_math', 'fighter_wins_diff_2', 'fighter_inf_knockdowns_avg_diff_2', 'fighter_losses_diff_2', 'fighter_abs_clinch_strikes_landed_avg_diff_2', 'reach_diff', 'fighter_inf_takedowns_attempts_avg_diff_2', 'fighter_sub_wins_diff_2', '9-fighter_score_diff', '4-fighter_score_diff', 'fighter_abs_head_strikes_attempts_avg_diff_2', 'fighter_abs_distance_strikes_landed_avg_diff_2')\n",
      "with score -0.6403938287369336\n",
      "Current best score: -0.6403938287369336\n",
      "Current best subset: ['fighter_inf_takedowns_landed_avg_diff_2', 'fighter_abs_head_strikes_landed_avg_diff_2', 'fighter_age_diff', 'fighter_inf_distance_strikes_attempts_avg_diff_2', 'fighter_inf_head_strikes_landed_avg_diff_2', 'fighter_abs_takedowns_landed_avg_diff_2', 'fighter_L5Y_wins_diff_2', 'fighter_abs_reversals_avg_diff_2', 'fighter_abs_takedowns_attempts_avg_diff_2', 'fighter_ko_losses_diff_2', 'fighter_inf_distance_strikes_landed_avg_diff_2', 'height_diff', 'fighter_abs_distance_strikes_attempts_avg_diff_2', 'fighter_inf_clinch_strikes_landed_avg_diff_2', '15-fighter_score_diff', 'fighter_inf_head_strikes_attempts_avg_diff_2', 'fighter_inf_clinch_strikes_attempts_avg_diff_2', '6-fight_math', 'fighter_wins_diff_2', 'fighter_inf_knockdowns_avg_diff_2', 'fighter_losses_diff_2', 'fighter_abs_clinch_strikes_landed_avg_diff_2', 'reach_diff', 'fighter_inf_takedowns_attempts_avg_diff_2', 'fighter_sub_wins_diff_2', '9-fighter_score_diff', '4-fighter_score_diff', 'fighter_abs_head_strikes_attempts_avg_diff_2', 'fighter_abs_distance_strikes_landed_avg_diff_2']\n",
      "best subset: ('fighter_inf_takedowns_landed_avg_diff_2', 'fighter_age_diff', 'fighter_inf_distance_strikes_attempts_avg_diff_2', 'fighter_inf_head_strikes_landed_avg_diff_2', 'fighter_abs_takedowns_landed_avg_diff_2', 'fighter_L5Y_wins_diff_2', 'fighter_abs_reversals_avg_diff_2', 'fighter_abs_takedowns_attempts_avg_diff_2', 'fighter_ko_losses_diff_2', 'fighter_inf_distance_strikes_landed_avg_diff_2', 'height_diff', 'fighter_abs_distance_strikes_attempts_avg_diff_2', 'fighter_inf_clinch_strikes_landed_avg_diff_2', '15-fighter_score_diff', 'fighter_inf_head_strikes_attempts_avg_diff_2', 'fighter_inf_clinch_strikes_attempts_avg_diff_2', '6-fight_math', 'fighter_wins_diff_2', 'fighter_inf_knockdowns_avg_diff_2', 'fighter_losses_diff_2', 'fighter_abs_clinch_strikes_landed_avg_diff_2', 'reach_diff', 'fighter_inf_takedowns_attempts_avg_diff_2', 'fighter_sub_wins_diff_2', '9-fighter_score_diff', '4-fighter_score_diff', 'fighter_abs_head_strikes_attempts_avg_diff_2', 'fighter_abs_distance_strikes_landed_avg_diff_2')\n",
      "with score -0.6398203593624429\n",
      "Current best score: -0.6398203593624429\n",
      "Current best subset: ['fighter_inf_takedowns_landed_avg_diff_2', 'fighter_age_diff', 'fighter_inf_distance_strikes_attempts_avg_diff_2', 'fighter_inf_head_strikes_landed_avg_diff_2', 'fighter_abs_takedowns_landed_avg_diff_2', 'fighter_L5Y_wins_diff_2', 'fighter_abs_reversals_avg_diff_2', 'fighter_abs_takedowns_attempts_avg_diff_2', 'fighter_ko_losses_diff_2', 'fighter_inf_distance_strikes_landed_avg_diff_2', 'height_diff', 'fighter_abs_distance_strikes_attempts_avg_diff_2', 'fighter_inf_clinch_strikes_landed_avg_diff_2', '15-fighter_score_diff', 'fighter_inf_head_strikes_attempts_avg_diff_2', 'fighter_inf_clinch_strikes_attempts_avg_diff_2', '6-fight_math', 'fighter_wins_diff_2', 'fighter_inf_knockdowns_avg_diff_2', 'fighter_losses_diff_2', 'fighter_abs_clinch_strikes_landed_avg_diff_2', 'reach_diff', 'fighter_inf_takedowns_attempts_avg_diff_2', 'fighter_sub_wins_diff_2', '9-fighter_score_diff', '4-fighter_score_diff', 'fighter_abs_head_strikes_attempts_avg_diff_2', 'fighter_abs_distance_strikes_landed_avg_diff_2']\n",
      "best subset: ('fighter_inf_takedowns_landed_avg_diff_2', 'fighter_age_diff', 'fighter_inf_distance_strikes_attempts_avg_diff_2', 'fighter_inf_head_strikes_landed_avg_diff_2', 'fighter_abs_takedowns_landed_avg_diff_2', 'fighter_L5Y_wins_diff_2', 'fighter_abs_reversals_avg_diff_2', 'fighter_abs_takedowns_attempts_avg_diff_2', 'fighter_ko_losses_diff_2', 'fighter_inf_distance_strikes_landed_avg_diff_2', 'height_diff', 'fighter_abs_distance_strikes_attempts_avg_diff_2', 'fighter_inf_clinch_strikes_landed_avg_diff_2', '15-fighter_score_diff', 'fighter_inf_head_strikes_attempts_avg_diff_2', '6-fight_math', 'fighter_wins_diff_2', 'fighter_inf_knockdowns_avg_diff_2', 'fighter_losses_diff_2', 'fighter_abs_clinch_strikes_landed_avg_diff_2', 'reach_diff', 'fighter_inf_takedowns_attempts_avg_diff_2', 'fighter_sub_wins_diff_2', '9-fighter_score_diff', '4-fighter_score_diff', 'fighter_abs_head_strikes_attempts_avg_diff_2', 'fighter_abs_distance_strikes_landed_avg_diff_2')\n",
      "with score -0.639566360233397\n",
      "Current best score: -0.639566360233397\n",
      "Current best subset: ['fighter_inf_takedowns_landed_avg_diff_2', 'fighter_age_diff', 'fighter_inf_distance_strikes_attempts_avg_diff_2', 'fighter_inf_head_strikes_landed_avg_diff_2', 'fighter_abs_takedowns_landed_avg_diff_2', 'fighter_L5Y_wins_diff_2', 'fighter_abs_reversals_avg_diff_2', 'fighter_abs_takedowns_attempts_avg_diff_2', 'fighter_ko_losses_diff_2', 'fighter_inf_distance_strikes_landed_avg_diff_2', 'height_diff', 'fighter_abs_distance_strikes_attempts_avg_diff_2', 'fighter_inf_clinch_strikes_landed_avg_diff_2', '15-fighter_score_diff', 'fighter_inf_head_strikes_attempts_avg_diff_2', '6-fight_math', 'fighter_wins_diff_2', 'fighter_inf_knockdowns_avg_diff_2', 'fighter_losses_diff_2', 'fighter_abs_clinch_strikes_landed_avg_diff_2', 'reach_diff', 'fighter_inf_takedowns_attempts_avg_diff_2', 'fighter_sub_wins_diff_2', '9-fighter_score_diff', '4-fighter_score_diff', 'fighter_abs_head_strikes_attempts_avg_diff_2', 'fighter_abs_distance_strikes_landed_avg_diff_2']\n",
      "best subset: ('fighter_inf_takedowns_landed_avg_diff_2', 'fighter_age_diff', 'fighter_inf_distance_strikes_attempts_avg_diff_2', 'fighter_abs_takedowns_landed_avg_diff_2', 'fighter_L5Y_wins_diff_2', 'fighter_abs_reversals_avg_diff_2', 'fighter_abs_takedowns_attempts_avg_diff_2', 'fighter_ko_losses_diff_2', 'fighter_inf_distance_strikes_landed_avg_diff_2', 'height_diff', 'fighter_abs_distance_strikes_attempts_avg_diff_2', 'fighter_inf_clinch_strikes_landed_avg_diff_2', '15-fighter_score_diff', 'fighter_inf_head_strikes_attempts_avg_diff_2', '6-fight_math', 'fighter_wins_diff_2', 'fighter_inf_knockdowns_avg_diff_2', 'fighter_losses_diff_2', 'fighter_abs_clinch_strikes_landed_avg_diff_2', 'reach_diff', 'fighter_inf_takedowns_attempts_avg_diff_2', 'fighter_sub_wins_diff_2', '9-fighter_score_diff', '4-fighter_score_diff', 'fighter_abs_head_strikes_attempts_avg_diff_2', 'fighter_abs_distance_strikes_landed_avg_diff_2')\n",
      "with score -0.6393174790758019\n",
      "Current best score: -0.6393174790758019\n",
      "Current best subset: ['fighter_inf_takedowns_landed_avg_diff_2', 'fighter_age_diff', 'fighter_inf_distance_strikes_attempts_avg_diff_2', 'fighter_abs_takedowns_landed_avg_diff_2', 'fighter_L5Y_wins_diff_2', 'fighter_abs_reversals_avg_diff_2', 'fighter_abs_takedowns_attempts_avg_diff_2', 'fighter_ko_losses_diff_2', 'fighter_inf_distance_strikes_landed_avg_diff_2', 'height_diff', 'fighter_abs_distance_strikes_attempts_avg_diff_2', 'fighter_inf_clinch_strikes_landed_avg_diff_2', '15-fighter_score_diff', 'fighter_inf_head_strikes_attempts_avg_diff_2', '6-fight_math', 'fighter_wins_diff_2', 'fighter_inf_knockdowns_avg_diff_2', 'fighter_losses_diff_2', 'fighter_abs_clinch_strikes_landed_avg_diff_2', 'reach_diff', 'fighter_inf_takedowns_attempts_avg_diff_2', 'fighter_sub_wins_diff_2', '9-fighter_score_diff', '4-fighter_score_diff', 'fighter_abs_head_strikes_attempts_avg_diff_2', 'fighter_abs_distance_strikes_landed_avg_diff_2']\n",
      "best subset: ('fighter_inf_takedowns_landed_avg_diff_2', 'fighter_age_diff', 'fighter_inf_distance_strikes_attempts_avg_diff_2', 'fighter_L5Y_wins_diff_2', 'fighter_abs_reversals_avg_diff_2', 'fighter_abs_takedowns_attempts_avg_diff_2', 'fighter_ko_losses_diff_2', 'fighter_inf_distance_strikes_landed_avg_diff_2', 'height_diff', 'fighter_abs_distance_strikes_attempts_avg_diff_2', 'fighter_inf_clinch_strikes_landed_avg_diff_2', '15-fighter_score_diff', 'fighter_inf_head_strikes_attempts_avg_diff_2', '6-fight_math', 'fighter_wins_diff_2', 'fighter_inf_knockdowns_avg_diff_2', 'fighter_losses_diff_2', 'fighter_abs_clinch_strikes_landed_avg_diff_2', 'reach_diff', 'fighter_inf_takedowns_attempts_avg_diff_2', 'fighter_sub_wins_diff_2', '9-fighter_score_diff', '4-fighter_score_diff', 'fighter_abs_head_strikes_attempts_avg_diff_2', 'fighter_abs_distance_strikes_landed_avg_diff_2')\n",
      "with score -0.6391364582568608\n",
      "Current best score: -0.6391364582568608\n",
      "Current best subset: ['fighter_inf_takedowns_landed_avg_diff_2', 'fighter_age_diff', 'fighter_inf_distance_strikes_attempts_avg_diff_2', 'fighter_L5Y_wins_diff_2', 'fighter_abs_reversals_avg_diff_2', 'fighter_abs_takedowns_attempts_avg_diff_2', 'fighter_ko_losses_diff_2', 'fighter_inf_distance_strikes_landed_avg_diff_2', 'height_diff', 'fighter_abs_distance_strikes_attempts_avg_diff_2', 'fighter_inf_clinch_strikes_landed_avg_diff_2', '15-fighter_score_diff', 'fighter_inf_head_strikes_attempts_avg_diff_2', '6-fight_math', 'fighter_wins_diff_2', 'fighter_inf_knockdowns_avg_diff_2', 'fighter_losses_diff_2', 'fighter_abs_clinch_strikes_landed_avg_diff_2', 'reach_diff', 'fighter_inf_takedowns_attempts_avg_diff_2', 'fighter_sub_wins_diff_2', '9-fighter_score_diff', '4-fighter_score_diff', 'fighter_abs_head_strikes_attempts_avg_diff_2', 'fighter_abs_distance_strikes_landed_avg_diff_2']\n",
      "best subset: ('fighter_inf_takedowns_landed_avg_diff_2', 'fighter_age_diff', 'fighter_inf_distance_strikes_attempts_avg_diff_2', 'fighter_L5Y_wins_diff_2', 'fighter_abs_reversals_avg_diff_2', 'fighter_abs_takedowns_attempts_avg_diff_2', 'fighter_ko_losses_diff_2', 'fighter_inf_distance_strikes_landed_avg_diff_2', 'height_diff', 'fighter_abs_distance_strikes_attempts_avg_diff_2', 'fighter_inf_clinch_strikes_landed_avg_diff_2', 'fighter_inf_head_strikes_attempts_avg_diff_2', '6-fight_math', 'fighter_wins_diff_2', 'fighter_inf_knockdowns_avg_diff_2', 'fighter_losses_diff_2', 'fighter_abs_clinch_strikes_landed_avg_diff_2', 'reach_diff', 'fighter_inf_takedowns_attempts_avg_diff_2', 'fighter_sub_wins_diff_2', '9-fighter_score_diff', '4-fighter_score_diff', 'fighter_abs_head_strikes_attempts_avg_diff_2', 'fighter_abs_distance_strikes_landed_avg_diff_2')\n",
      "with score -0.6389664971433655\n",
      "Current best score: -0.6389664971433655\n",
      "Current best subset: ['fighter_inf_takedowns_landed_avg_diff_2', 'fighter_age_diff', 'fighter_inf_distance_strikes_attempts_avg_diff_2', 'fighter_L5Y_wins_diff_2', 'fighter_abs_reversals_avg_diff_2', 'fighter_abs_takedowns_attempts_avg_diff_2', 'fighter_ko_losses_diff_2', 'fighter_inf_distance_strikes_landed_avg_diff_2', 'height_diff', 'fighter_abs_distance_strikes_attempts_avg_diff_2', 'fighter_inf_clinch_strikes_landed_avg_diff_2', 'fighter_inf_head_strikes_attempts_avg_diff_2', '6-fight_math', 'fighter_wins_diff_2', 'fighter_inf_knockdowns_avg_diff_2', 'fighter_losses_diff_2', 'fighter_abs_clinch_strikes_landed_avg_diff_2', 'reach_diff', 'fighter_inf_takedowns_attempts_avg_diff_2', 'fighter_sub_wins_diff_2', '9-fighter_score_diff', '4-fighter_score_diff', 'fighter_abs_head_strikes_attempts_avg_diff_2', 'fighter_abs_distance_strikes_landed_avg_diff_2']\n",
      "best subset: ('fighter_age_diff', 'fighter_inf_distance_strikes_attempts_avg_diff_2', 'fighter_L5Y_wins_diff_2', 'fighter_abs_reversals_avg_diff_2', 'fighter_abs_takedowns_attempts_avg_diff_2', 'fighter_ko_losses_diff_2', 'fighter_inf_distance_strikes_landed_avg_diff_2', 'height_diff', 'fighter_abs_distance_strikes_attempts_avg_diff_2', 'fighter_inf_clinch_strikes_landed_avg_diff_2', 'fighter_inf_head_strikes_attempts_avg_diff_2', '6-fight_math', 'fighter_wins_diff_2', 'fighter_inf_knockdowns_avg_diff_2', 'fighter_losses_diff_2', 'fighter_abs_clinch_strikes_landed_avg_diff_2', 'reach_diff', 'fighter_inf_takedowns_attempts_avg_diff_2', 'fighter_sub_wins_diff_2', '9-fighter_score_diff', '4-fighter_score_diff', 'fighter_abs_head_strikes_attempts_avg_diff_2', 'fighter_abs_distance_strikes_landed_avg_diff_2')\n",
      "with score -0.6388533180110064\n",
      "Current best score: -0.6388533180110064\n",
      "Current best subset: ['fighter_age_diff', 'fighter_inf_distance_strikes_attempts_avg_diff_2', 'fighter_L5Y_wins_diff_2', 'fighter_abs_reversals_avg_diff_2', 'fighter_abs_takedowns_attempts_avg_diff_2', 'fighter_ko_losses_diff_2', 'fighter_inf_distance_strikes_landed_avg_diff_2', 'height_diff', 'fighter_abs_distance_strikes_attempts_avg_diff_2', 'fighter_inf_clinch_strikes_landed_avg_diff_2', 'fighter_inf_head_strikes_attempts_avg_diff_2', '6-fight_math', 'fighter_wins_diff_2', 'fighter_inf_knockdowns_avg_diff_2', 'fighter_losses_diff_2', 'fighter_abs_clinch_strikes_landed_avg_diff_2', 'reach_diff', 'fighter_inf_takedowns_attempts_avg_diff_2', 'fighter_sub_wins_diff_2', '9-fighter_score_diff', '4-fighter_score_diff', 'fighter_abs_head_strikes_attempts_avg_diff_2', 'fighter_abs_distance_strikes_landed_avg_diff_2']\n",
      "best subset: ('fighter_age_diff', 'fighter_inf_distance_strikes_attempts_avg_diff_2', 'fighter_L5Y_wins_diff_2', 'fighter_abs_reversals_avg_diff_2', 'fighter_abs_takedowns_attempts_avg_diff_2', 'fighter_ko_losses_diff_2', 'fighter_inf_distance_strikes_landed_avg_diff_2', 'height_diff', 'fighter_abs_distance_strikes_attempts_avg_diff_2', 'fighter_inf_head_strikes_attempts_avg_diff_2', '6-fight_math', 'fighter_wins_diff_2', 'fighter_inf_knockdowns_avg_diff_2', 'fighter_losses_diff_2', 'fighter_abs_clinch_strikes_landed_avg_diff_2', 'reach_diff', 'fighter_inf_takedowns_attempts_avg_diff_2', 'fighter_sub_wins_diff_2', '9-fighter_score_diff', '4-fighter_score_diff', 'fighter_abs_head_strikes_attempts_avg_diff_2', 'fighter_abs_distance_strikes_landed_avg_diff_2')\n",
      "with score -0.6387307693013415\n",
      "Current best score: -0.6387307693013415\n",
      "Current best subset: ['fighter_age_diff', 'fighter_inf_distance_strikes_attempts_avg_diff_2', 'fighter_L5Y_wins_diff_2', 'fighter_abs_reversals_avg_diff_2', 'fighter_abs_takedowns_attempts_avg_diff_2', 'fighter_ko_losses_diff_2', 'fighter_inf_distance_strikes_landed_avg_diff_2', 'height_diff', 'fighter_abs_distance_strikes_attempts_avg_diff_2', 'fighter_inf_head_strikes_attempts_avg_diff_2', '6-fight_math', 'fighter_wins_diff_2', 'fighter_inf_knockdowns_avg_diff_2', 'fighter_losses_diff_2', 'fighter_abs_clinch_strikes_landed_avg_diff_2', 'reach_diff', 'fighter_inf_takedowns_attempts_avg_diff_2', 'fighter_sub_wins_diff_2', '9-fighter_score_diff', '4-fighter_score_diff', 'fighter_abs_head_strikes_attempts_avg_diff_2', 'fighter_abs_distance_strikes_landed_avg_diff_2']\n",
      "best subset: ('fighter_age_diff', 'fighter_inf_distance_strikes_attempts_avg_diff_2', 'fighter_L5Y_wins_diff_2', 'fighter_abs_takedowns_attempts_avg_diff_2', 'fighter_ko_losses_diff_2', 'fighter_inf_distance_strikes_landed_avg_diff_2', 'height_diff', 'fighter_abs_distance_strikes_attempts_avg_diff_2', 'fighter_inf_head_strikes_attempts_avg_diff_2', '6-fight_math', 'fighter_wins_diff_2', 'fighter_inf_knockdowns_avg_diff_2', 'fighter_losses_diff_2', 'fighter_abs_clinch_strikes_landed_avg_diff_2', 'reach_diff', 'fighter_inf_takedowns_attempts_avg_diff_2', 'fighter_sub_wins_diff_2', '9-fighter_score_diff', '4-fighter_score_diff', 'fighter_abs_head_strikes_attempts_avg_diff_2', 'fighter_abs_distance_strikes_landed_avg_diff_2')\n",
      "with score -0.6387248793520711\n",
      "Current best score: -0.6387248793520711\n",
      "Current best subset: ['fighter_age_diff', 'fighter_inf_distance_strikes_attempts_avg_diff_2', 'fighter_L5Y_wins_diff_2', 'fighter_abs_takedowns_attempts_avg_diff_2', 'fighter_ko_losses_diff_2', 'fighter_inf_distance_strikes_landed_avg_diff_2', 'height_diff', 'fighter_abs_distance_strikes_attempts_avg_diff_2', 'fighter_inf_head_strikes_attempts_avg_diff_2', '6-fight_math', 'fighter_wins_diff_2', 'fighter_inf_knockdowns_avg_diff_2', 'fighter_losses_diff_2', 'fighter_abs_clinch_strikes_landed_avg_diff_2', 'reach_diff', 'fighter_inf_takedowns_attempts_avg_diff_2', 'fighter_sub_wins_diff_2', '9-fighter_score_diff', '4-fighter_score_diff', 'fighter_abs_head_strikes_attempts_avg_diff_2', 'fighter_abs_distance_strikes_landed_avg_diff_2']\n",
      "best subset: ('fighter_age_diff', 'fighter_inf_distance_strikes_attempts_avg_diff_2', 'fighter_L5Y_wins_diff_2', 'fighter_abs_takedowns_attempts_avg_diff_2', 'fighter_ko_losses_diff_2', 'fighter_inf_distance_strikes_landed_avg_diff_2', 'height_diff', 'fighter_abs_distance_strikes_attempts_avg_diff_2', 'fighter_inf_head_strikes_attempts_avg_diff_2', '6-fight_math', 'fighter_wins_diff_2', 'fighter_losses_diff_2', 'fighter_abs_clinch_strikes_landed_avg_diff_2', 'reach_diff', 'fighter_inf_takedowns_attempts_avg_diff_2', 'fighter_sub_wins_diff_2', '9-fighter_score_diff', '4-fighter_score_diff', 'fighter_abs_head_strikes_attempts_avg_diff_2', 'fighter_abs_distance_strikes_landed_avg_diff_2')\n",
      "with score -0.6387490140696599\n",
      "No improvement found, stopping greedy search.\n"
     ]
    }
   ],
   "source": [
    "# remove one at a time until it stops going up\n",
    "best_subset = best_stats_from_all_greedy_put_together\n",
    "last_best_score = - 1000\n",
    "current_best_score = model_score(ufc_fights_winner, best_subset, _max_iter=5000)\n",
    "while current_best_score > last_best_score:\n",
    "    last_best_score = current_best_score\n",
    "    greedy_fight_math_stats, current_best_score = greedy(ufc_fights_winner, best_subset, subsetsize=len(best_subset)-1)\n",
    "    if current_best_score > last_best_score:\n",
    "        best_subset = greedy_fight_math_stats\n",
    "        print(f'Current best score: {current_best_score}')\n",
    "        print(f'Current best subset: {best_subset}')\n",
    "    else:\n",
    "        print(f'No improvement found, stopping greedy search.')\n",
    "        break"
   ]
  },
  {
   "cell_type": "code",
   "execution_count": 8,
   "metadata": {},
   "outputs": [
    {
     "data": {
      "text/plain": [
       "np.float64(-0.6430218034958761)"
      ]
     },
     "execution_count": 8,
     "metadata": {},
     "output_type": "execute_result"
    }
   ],
   "source": [
    "# this is the best subset found by removing one feature at a time from the best subset found by the greedy algorithm\n",
    "best_subset_after_removals = ['fighter_age_diff',\n",
    " 'fighter_inf_distance_strikes_attempts_avg_diff_2',\n",
    " 'fighter_L5Y_wins_diff_2',\n",
    " 'fighter_abs_takedowns_attempts_avg_diff_2',\n",
    " 'fighter_ko_losses_diff_2',\n",
    " 'fighter_inf_distance_strikes_landed_avg_diff_2',\n",
    " 'height_diff',\n",
    " 'fighter_abs_distance_strikes_attempts_avg_diff_2',\n",
    " 'fighter_inf_head_strikes_attempts_avg_diff_2',\n",
    " '6-fight_math',\n",
    " 'fighter_wins_diff_2',\n",
    " 'fighter_inf_knockdowns_avg_diff_2',\n",
    " 'fighter_losses_diff_2',\n",
    " 'fighter_abs_clinch_strikes_landed_avg_diff_2',\n",
    " 'reach_diff',\n",
    " 'fighter_inf_takedowns_attempts_avg_diff_2',\n",
    " 'fighter_sub_wins_diff_2',\n",
    " '9-fighter_score_diff',\n",
    " '4-fighter_score_diff',\n",
    " 'fighter_abs_head_strikes_attempts_avg_diff_2',\n",
    " 'fighter_abs_distance_strikes_landed_avg_diff_2']\n",
    "\n",
    "model_score(ufc_fights_winner, best_subset_after_removals, _max_iter=5000)"
   ]
  },
  {
   "cell_type": "code",
   "execution_count": 28,
   "metadata": {},
   "outputs": [
    {
     "data": {
      "text/plain": [
       "21"
      ]
     },
     "execution_count": 28,
     "metadata": {},
     "output_type": "execute_result"
    }
   ],
   "source": [
    "len(best_subset_after_removals)"
   ]
  },
  {
   "cell_type": "code",
   "execution_count": 32,
   "metadata": {},
   "outputs": [
    {
     "name": "stdout",
     "output_type": "stream",
     "text": [
      "36 choose 4: 58905\n",
      "31 choose 14: 116280\n"
     ]
    }
   ],
   "source": [
    "print('36 choose 4:', comb(36, 4))\n",
    "print('31 choose 14:', comb(21, 14))"
   ]
  },
  {
   "cell_type": "code",
   "execution_count": null,
   "metadata": {},
   "outputs": [
    {
     "name": "stdout",
     "output_type": "stream",
     "text": [
      "best subset: ('fighter_inf_distance_strikes_landed_avg_diff_2', 'fighter_L5Y_wins_diff_2', 'reach_diff', 'fighter_abs_distance_strikes_attempts_avg_diff_2', 'fighter_inf_takedowns_attempts_avg_diff_2', '6-fight_math', '4-fighter_score_diff', 'fighter_abs_takedowns_attempts_avg_diff_2', '9-fighter_score_diff', 'fighter_age_diff', 'fighter_inf_distance_strikes_attempts_avg_diff_2', 'fighter_abs_head_strikes_attempts_avg_diff_2', 'fighter_abs_distance_strikes_landed_avg_diff_2', 'fighter_ko_losses_diff_2')\n",
      "with score -0.6391885569950418\n",
      "best subset: ('fighter_inf_distance_strikes_landed_avg_diff_2', 'fighter_abs_head_strikes_attempts_avg_diff_2', 'fighter_L5Y_wins_diff_2', 'reach_diff', 'fighter_abs_distance_strikes_attempts_avg_diff_2', 'fighter_inf_takedowns_attempts_avg_diff_2', '6-fight_math', '4-fighter_score_diff', 'fighter_abs_takedowns_attempts_avg_diff_2', 'fighter_sub_wins_diff_2', 'fighter_age_diff', 'fighter_inf_distance_strikes_attempts_avg_diff_2', '9-fighter_score_diff', 'fighter_abs_distance_strikes_landed_avg_diff_2', 'fighter_ko_losses_diff_2')\n",
      "with score -0.6389448916358962\n",
      "best subset: ('fighter_inf_distance_strikes_landed_avg_diff_2', 'fighter_abs_head_strikes_attempts_avg_diff_2', 'fighter_L5Y_wins_diff_2', 'reach_diff', 'height_diff', 'fighter_abs_distance_strikes_attempts_avg_diff_2', 'fighter_inf_takedowns_attempts_avg_diff_2', '6-fight_math', '4-fighter_score_diff', 'fighter_abs_takedowns_attempts_avg_diff_2', 'fighter_sub_wins_diff_2', 'fighter_age_diff', 'fighter_inf_distance_strikes_attempts_avg_diff_2', '9-fighter_score_diff', 'fighter_abs_distance_strikes_landed_avg_diff_2', 'fighter_ko_losses_diff_2')\n",
      "with score -0.6387756599794853\n",
      "best subset: ('fighter_inf_distance_strikes_landed_avg_diff_2', 'fighter_abs_clinch_strikes_landed_avg_diff_2', 'fighter_L5Y_wins_diff_2', 'reach_diff', 'fighter_abs_head_strikes_attempts_avg_diff_2', 'height_diff', 'fighter_abs_distance_strikes_attempts_avg_diff_2', 'fighter_inf_takedowns_attempts_avg_diff_2', '6-fight_math', '4-fighter_score_diff', 'fighter_abs_takedowns_attempts_avg_diff_2', 'fighter_sub_wins_diff_2', 'fighter_age_diff', 'fighter_inf_distance_strikes_attempts_avg_diff_2', '9-fighter_score_diff', 'fighter_abs_distance_strikes_landed_avg_diff_2', 'fighter_ko_losses_diff_2')\n",
      "with score -0.6386305251413348\n",
      "best subset: ('fighter_inf_distance_strikes_landed_avg_diff_2', 'fighter_abs_clinch_strikes_landed_avg_diff_2', 'fighter_L5Y_wins_diff_2', 'reach_diff', 'fighter_abs_head_strikes_attempts_avg_diff_2', 'height_diff', 'fighter_abs_distance_strikes_attempts_avg_diff_2', 'fighter_inf_takedowns_attempts_avg_diff_2', 'fighter_inf_head_strikes_attempts_avg_diff_2', '6-fight_math', '4-fighter_score_diff', 'fighter_abs_takedowns_attempts_avg_diff_2', 'fighter_sub_wins_diff_2', 'fighter_age_diff', 'fighter_inf_distance_strikes_attempts_avg_diff_2', '9-fighter_score_diff', 'fighter_abs_distance_strikes_landed_avg_diff_2', 'fighter_ko_losses_diff_2')\n",
      "with score -0.6386168870877753\n",
      "best subset: ('fighter_age_diff', 'fighter_inf_distance_strikes_attempts_avg_diff_2', 'fighter_L5Y_wins_diff_2', 'fighter_abs_takedowns_attempts_avg_diff_2', 'fighter_ko_losses_diff_2', 'fighter_inf_distance_strikes_landed_avg_diff_2', 'height_diff', 'fighter_abs_distance_strikes_attempts_avg_diff_2', 'fighter_inf_head_strikes_attempts_avg_diff_2', '6-fight_math', 'fighter_inf_knockdowns_avg_diff_2', 'fighter_abs_clinch_strikes_landed_avg_diff_2', 'reach_diff', 'fighter_inf_takedowns_attempts_avg_diff_2', 'fighter_sub_wins_diff_2', '9-fighter_score_diff', '4-fighter_score_diff', 'fighter_abs_head_strikes_attempts_avg_diff_2', 'fighter_abs_distance_strikes_landed_avg_diff_2')\n",
      "with score -0.6385899258463361\n",
      "best subset: ('fighter_age_diff', 'fighter_inf_distance_strikes_attempts_avg_diff_2', 'fighter_L5Y_wins_diff_2', 'fighter_abs_takedowns_attempts_avg_diff_2', 'fighter_ko_losses_diff_2', 'fighter_inf_distance_strikes_landed_avg_diff_2', 'height_diff', 'fighter_abs_distance_strikes_attempts_avg_diff_2', 'fighter_inf_head_strikes_attempts_avg_diff_2', '6-fight_math', 'fighter_wins_diff_2', 'fighter_losses_diff_2', 'fighter_abs_clinch_strikes_landed_avg_diff_2', 'reach_diff', 'fighter_inf_takedowns_attempts_avg_diff_2', 'fighter_sub_wins_diff_2', '9-fighter_score_diff', '4-fighter_score_diff', 'fighter_abs_head_strikes_attempts_avg_diff_2', 'fighter_abs_distance_strikes_landed_avg_diff_2')\n",
      "with score -0.6387490140696599\n",
      "Max score: -0.6385899258463361\n",
      "Max key: ('fighter_age_diff', 'fighter_inf_distance_strikes_attempts_avg_diff_2', 'fighter_L5Y_wins_diff_2', 'fighter_abs_takedowns_attempts_avg_diff_2', 'fighter_ko_losses_diff_2', 'fighter_inf_distance_strikes_landed_avg_diff_2', 'height_diff', 'fighter_abs_distance_strikes_attempts_avg_diff_2', 'fighter_inf_head_strikes_attempts_avg_diff_2', '6-fight_math', 'fighter_inf_knockdowns_avg_diff_2', 'fighter_abs_clinch_strikes_landed_avg_diff_2', 'reach_diff', 'fighter_inf_takedowns_attempts_avg_diff_2', 'fighter_sub_wins_diff_2', '9-fighter_score_diff', '4-fighter_score_diff', 'fighter_abs_head_strikes_attempts_avg_diff_2', 'fighter_abs_distance_strikes_landed_avg_diff_2')\n"
     ]
    }
   ],
   "source": [
    "best_subset_after_removals_subsets_dict = {}\n",
    "for subsetsize in [14, 15, 16, 17, 18, 19, 20]:\n",
    "    greedy_stats, score = greedy(ufc_fights_winner, best_subset_after_removals, subsetsize=subsetsize)\n",
    "    best_subset_after_removals_subsets_dict[tuple(greedy_stats)] = score\n",
    "# find the max score in the dict \n",
    "current_best_subset = max(best_subset_after_removals_subsets_dict, key=best_subset_after_removals_subsets_dict.get)\n",
    "max_score = best_subset_after_removals_subsets_dict[current_best_subset]\n",
    "print(f'Max score: {max_score}')\n",
    "print(f'Max key: {current_best_subset}')"
   ]
  },
  {
   "cell_type": "code",
   "execution_count": 9,
   "metadata": {},
   "outputs": [],
   "source": [
    "# after all that hard work, we store the result in a variable\n",
    "current_best_subset = ['fighter_age_diff', 'fighter_inf_distance_strikes_attempts_avg_diff_2', 'fighter_L5Y_wins_diff_2', 'fighter_abs_takedowns_attempts_avg_diff_2', 'fighter_ko_losses_diff_2', 'fighter_inf_distance_strikes_landed_avg_diff_2', 'height_diff', 'fighter_abs_distance_strikes_attempts_avg_diff_2', 'fighter_inf_head_strikes_attempts_avg_diff_2', '6-fight_math', 'fighter_inf_knockdowns_avg_diff_2', 'fighter_abs_clinch_strikes_landed_avg_diff_2', 'reach_diff', 'fighter_inf_takedowns_attempts_avg_diff_2', 'fighter_sub_wins_diff_2', '9-fighter_score_diff', '4-fighter_score_diff', 'fighter_abs_head_strikes_attempts_avg_diff_2', 'fighter_abs_distance_strikes_landed_avg_diff_2']"
   ]
  },
  {
   "cell_type": "code",
   "execution_count": 10,
   "metadata": {},
   "outputs": [
    {
     "name": "stdout",
     "output_type": "stream",
     "text": [
      "Best model score: -0.6425495803571547\n",
      "Probability to observe data given the model: 0.5259497619759637\n"
     ]
    }
   ],
   "source": [
    "best_model_score = model_score(ufc_fights_winner, current_best_subset, _max_iter=5000)\n",
    "print(f'Best model score: {best_model_score}')\n",
    "print(f'Probability to observe data given the model: {np.exp(best_model_score)}')"
   ]
  },
  {
   "cell_type": "code",
   "execution_count": 11,
   "metadata": {},
   "outputs": [
    {
     "data": {
      "text/plain": [
       "np.float64(0.641875)"
      ]
     },
     "execution_count": 11,
     "metadata": {},
     "output_type": "execute_result"
    }
   ],
   "source": [
    "model_score(ufc_fights_winner, current_best_subset, _max_iter=5000, scoring='accuracy')"
   ]
  },
  {
   "cell_type": "code",
   "execution_count": 41,
   "metadata": {},
   "outputs": [
    {
     "name": "stdout",
     "output_type": "stream",
     "text": [
      "Added single feature: fighter_inf_ground_strikes_landed_avg_diff_2\n",
      "New model score: -0.6381410699034317\n",
      "Added single feature: fighter_abs_total_strikes_attempts_avg_diff_2\n",
      "New model score: -0.6378450099142701\n",
      "Added single feature: fighter_L5Y_losses_diff_2\n",
      "New model score: -0.6374232753554653\n",
      "Added single feature: fighter_L2Y_sub_losses_diff_2\n",
      "New model score: -0.6370883303848901\n",
      "Added single feature: fighter_abs_leg_strikes_landed_avg_diff_2\n",
      "New model score: -0.6369391456699537\n",
      "Added single feature: fighter_abs_reversals_avg_diff_2\n",
      "New model score: -0.6369171274939823\n",
      "Added single feature: fighter_L5Y_ko_wins_diff_2\n",
      "New model score: -0.6368956247112783\n",
      "No improvement found with single addition, trying pairs.\n",
      "Added double feature: fighter_L2Y_ko_losses_diff_2, fighter_L5Y_ko_losses_diff_2\n",
      "New model score: -0.6368042229873796\n",
      "No improvement found with single addition, trying pairs.\n",
      "No improvement found with double addition, stopping.\n"
     ]
    }
   ],
   "source": [
    "# now start adding remaining features back in one by one or in groups of two or three and see if we can improve the score\n",
    "current_model_score = best_model_score \n",
    "current_best_feature_set = current_best_subset\n",
    "while True:\n",
    "    unused_features = set(possible_stats_diff) - set(current_best_feature_set)\n",
    "    # first try adding one feature \n",
    "    single_feature_scores = {}\n",
    "    for feature in unused_features:\n",
    "        new_feature_set = current_best_feature_set + [feature]\n",
    "        new_model_score = model_score(ufc_fights_winner, new_feature_set, _max_iter=5000)\n",
    "        single_feature_scores[tuple(new_feature_set)] = new_model_score\n",
    "    best_single_feature_set = max(single_feature_scores, key=single_feature_scores.get)\n",
    "    best_single_feature_score = single_feature_scores[best_single_feature_set]\n",
    "    if best_single_feature_score > current_model_score:\n",
    "        current_best_feature_set = list(best_single_feature_set)\n",
    "        current_model_score = best_single_feature_score\n",
    "        print(f'Added single feature: {best_single_feature_set[-1]}')\n",
    "        print(f'New model score: {current_model_score}')\n",
    "        continue\n",
    "    else:\n",
    "        print('No improvement found with single addition, trying pairs.')\n",
    "    double_feature_scores = {}\n",
    "    for feature1, feature2 in itertools.combinations(unused_features, 2):\n",
    "        new_feature_set = current_best_feature_set + [feature1, feature2]\n",
    "        new_model_score = model_score(ufc_fights_winner, new_feature_set, _max_iter=5000)\n",
    "        double_feature_scores[tuple(new_feature_set)] = new_model_score\n",
    "    best_double_feature_set = max(double_feature_scores, key=double_feature_scores.get)\n",
    "    best_double_feature_score = double_feature_scores[best_double_feature_set]\n",
    "    if best_double_feature_score > current_model_score:\n",
    "        current_best_feature_set = list(best_double_feature_set)\n",
    "        current_model_score = best_double_feature_score\n",
    "        print(f'Added double feature: {best_double_feature_set[-2]}, {best_double_feature_set[-1]}')\n",
    "        print(f'New model score: {current_model_score}')\n",
    "        continue\n",
    "    else:\n",
    "        print('No improvement found with double addition, stopping.')\n",
    "        break\n",
    "    "
   ]
  },
  {
   "cell_type": "code",
   "execution_count": 12,
   "metadata": {},
   "outputs": [],
   "source": [
    "# storying the result\n",
    "current_best_feature_set = ['fighter_age_diff',\n",
    " 'fighter_inf_distance_strikes_attempts_avg_diff_2',\n",
    " 'fighter_L5Y_wins_diff_2',\n",
    " 'fighter_abs_takedowns_attempts_avg_diff_2',\n",
    " 'fighter_ko_losses_diff_2',\n",
    " 'fighter_inf_distance_strikes_landed_avg_diff_2',\n",
    " 'height_diff',\n",
    " 'fighter_abs_distance_strikes_attempts_avg_diff_2',\n",
    " 'fighter_inf_head_strikes_attempts_avg_diff_2',\n",
    " '6-fight_math',\n",
    " 'fighter_inf_knockdowns_avg_diff_2',\n",
    " 'fighter_abs_clinch_strikes_landed_avg_diff_2',\n",
    " 'reach_diff',\n",
    " 'fighter_inf_takedowns_attempts_avg_diff_2',\n",
    " 'fighter_sub_wins_diff_2',\n",
    " '9-fighter_score_diff',\n",
    " '4-fighter_score_diff',\n",
    " 'fighter_abs_head_strikes_attempts_avg_diff_2',\n",
    " 'fighter_abs_distance_strikes_landed_avg_diff_2',\n",
    " 'fighter_inf_ground_strikes_landed_avg_diff_2',\n",
    " 'fighter_abs_total_strikes_attempts_avg_diff_2',\n",
    " 'fighter_L5Y_losses_diff_2',\n",
    " 'fighter_L2Y_sub_losses_diff_2',\n",
    " 'fighter_abs_leg_strikes_landed_avg_diff_2',\n",
    " 'fighter_abs_reversals_avg_diff_2',\n",
    " 'fighter_L5Y_ko_wins_diff_2',\n",
    " 'fighter_L2Y_ko_losses_diff_2',\n",
    " 'fighter_L5Y_ko_losses_diff_2']"
   ]
  },
  {
   "cell_type": "code",
   "execution_count": 13,
   "metadata": {},
   "outputs": [
    {
     "data": {
      "text/plain": [
       "np.float64(-0.6414052913405859)"
      ]
     },
     "execution_count": 13,
     "metadata": {},
     "output_type": "execute_result"
    }
   ],
   "source": [
    "model_score(ufc_fights_winner, current_best_feature_set, _max_iter=5000)"
   ]
  },
  {
   "cell_type": "code",
   "execution_count": 14,
   "metadata": {},
   "outputs": [
    {
     "data": {
      "text/plain": [
       "np.float64(0.6356250000000001)"
      ]
     },
     "execution_count": 14,
     "metadata": {},
     "output_type": "execute_result"
    }
   ],
   "source": [
    "model_score(ufc_fights_winner, current_best_feature_set, _max_iter=5000, scoring='accuracy')"
   ]
  },
  {
   "cell_type": "code",
   "execution_count": 15,
   "metadata": {},
   "outputs": [
    {
     "name": "stdout",
     "output_type": "stream",
     "text": [
      "model score: 0.6496666666666666\n",
      "neg log loss of model: -0.6414423217716347\n",
      "cross val avg probability of result: 0.5265324468973727\n",
      "cross val accuracy: 0.635625\n"
     ]
    }
   ],
   "source": [
    "current_best_feature_set = [\n",
    "         'fighter_age_diff',\n",
    "            'height_diff',\n",
    "            'reach_diff',\n",
    "            'fighter_L5Y_wins_diff_2',\n",
    "            'fighter_L5Y_losses_diff_2',\n",
    "            'fighter_ko_losses_diff_2',\n",
    "            'fighter_L5Y_ko_wins_diff_2',\n",
    "            'fighter_L2Y_ko_losses_diff_2',\n",
    "            'fighter_L5Y_ko_losses_diff_2',\n",
    "            'fighter_sub_wins_diff_2',\n",
    "            'fighter_L2Y_sub_losses_diff_2',\n",
    "            'fighter_inf_knockdowns_avg_diff_2',\n",
    "            'fighter_inf_distance_strikes_landed_avg_diff_2',\n",
    "            'fighter_inf_ground_strikes_landed_avg_diff_2',\n",
    "            'fighter_inf_distance_strikes_attempts_avg_diff_2',\n",
    "            'fighter_inf_head_strikes_attempts_avg_diff_2',\n",
    "            'fighter_inf_takedowns_attempts_avg_diff_2',\n",
    "            # 'fighter_abs_reversals_avg_diff_2', # reversals has problems\n",
    "            'fighter_abs_clinch_strikes_landed_avg_diff_2',\n",
    "            'fighter_abs_distance_strikes_landed_avg_diff_2',\n",
    "            'fighter_abs_leg_strikes_landed_avg_diff_2',\n",
    "            'fighter_abs_takedowns_attempts_avg_diff_2',\n",
    "            'fighter_abs_distance_strikes_attempts_avg_diff_2',\n",
    "            'fighter_abs_head_strikes_attempts_avg_diff_2',\n",
    "            'fighter_abs_total_strikes_attempts_avg_diff_2',\n",
    "            '6-fight_math',\n",
    "            '9-fighter_score_diff',\n",
    "            '4-fighter_score_diff',\n",
    " ]\n",
    "\n",
    "y=ufc_fights_winner['result'].iloc[0:40*75]\n",
    "X=ufc_fights_winner[current_best_feature_set].iloc[0:40*75]\n",
    "winPredictionModel=LogisticRegression(solver='lbfgs', max_iter=5000, fit_intercept=False)\n",
    "winPredictionModel.fit(X,y)\n",
    "\n",
    "print('model score: '+str(winPredictionModel.score(X,y)))\n",
    "print('neg log loss of model: '+str(model_score(ufc_fights_winner,current_best_feature_set,scoring='neg_log_loss')))\n",
    "print('cross val avg probability of result: '+str(np.exp(model_score(ufc_fights_winner,current_best_feature_set,scoring='neg_log_loss'))))\n",
    "print('cross val accuracy: '+str(model_score(ufc_fights_winner,current_best_feature_set,scoring='accuracy')))"
   ]
  },
  {
   "cell_type": "markdown",
   "metadata": {},
   "source": [
    "# WHY IS THE SCORE DIFFERENT THAN FROM ABOVE???"
   ]
  },
  {
   "cell_type": "code",
   "execution_count": 64,
   "metadata": {},
   "outputs": [],
   "source": [
    "def ufc_prediction_tuple(fighter1,fighter2,day1=date.today(),day2=date.today()):\n",
    "    # TODO rescale the features to zero mean and unit variance\n",
    "    \n",
    "    # return [fighter_score_diff(fighter1,fighter2,day1, 4),\n",
    "    #         fighter_score_diff(fighter1,fighter2,day1, 9),\n",
    "    #         fighter_score_diff(fighter1,fighter2,day1, 15),\n",
    "    #         fight_math_diff(fighter1,fighter2,day1, 1),\n",
    "    #         fight_math_diff(fighter1,fighter2,day1, 6),\n",
    "    #         L5Y_sub_wins(fighter1,day1)-L5Y_sub_wins(fighter2,day2),\n",
    "    #         L5Y_losses(fighter1,day1)-L5Y_losses(fighter2,day2),\n",
    "    #         L5Y_ko_losses(fighter1,day1)-L5Y_ko_losses(fighter2,day2),\n",
    "    #         fighter_age(fighter1,day1)-fighter_age(fighter2,day2),\n",
    "    #         avg_count('total_strikes_landed',fighter1,'abs',day1)-avg_count('total_strikes_landed',fighter2,'abs',day2),\n",
    "    #         avg_count('head_strikes_landed',fighter1,'abs',day1)-avg_count('head_strikes_landed',fighter2,'abs',day2),\n",
    "    #         avg_count('ground_strikes_landed',fighter1,'inf',day1)-avg_count('ground_strikes_landed',fighter2,'inf',day2),\n",
    "    #         avg_count('takedowns_attempts',fighter1,'inf',day1)-avg_count('takedowns_attempts',fighter2,'inf',day2),\n",
    "    #         avg_count('head_strikes_landed',fighter1,'inf',day1)-avg_count('head_strikes_landed',fighter2,'inf',day2),\n",
    "    #     ]\n",
    "    return [\n",
    "    # 'fighter_age_diff',\n",
    "    #     'height_diff',\n",
    "    #     'reach_diff',\n",
    "    #     'fighter_L5Y_wins_diff_2',\n",
    "    #     'fighter_L5Y_losses_diff_2',\n",
    "    #     'fighter_ko_losses_diff_2',\n",
    "    #     'fighter_L5Y_ko_wins_diff_2',\n",
    "    #     'fighter_L2Y_ko_losses_diff_2',\n",
    "        fighter_age(fighter1, day1) - fighter_age(fighter2, day2),\n",
    "        fighter_height(fighter1) - fighter_height(fighter2),\n",
    "        fighter_reach(fighter1) - fighter_reach(fighter2),\n",
    "        L5Y_wins(fighter1, day1) - L5Y_wins(fighter2, day2),\n",
    "        L5Y_losses(fighter1, day1) - L5Y_losses(fighter2, day2),\n",
    "        ko_losses(fighter1, day1) - ko_losses(fighter2, day2),\n",
    "        L5Y_ko_wins(fighter1, day1) - L5Y_ko_wins(fighter2, day2),\n",
    "        L2Y_ko_losses(fighter1, day1) - L2Y_ko_losses(fighter2, day2),\n",
    "        #     'fighter_L5Y_ko_losses_diff_2',\n",
    "    #     'fighter_sub_wins_diff_2',\n",
    "    #     'fighter_L2Y_sub_losses_diff_2',\n",
    "    #     'fighter_inf_knockdowns_avg_diff_2',\n",
    "        L2Y_ko_losses(fighter1, day1) - L2Y_ko_losses(fighter2, day2),\n",
    "        sub_wins(fighter1, day1) - sub_wins(fighter2, day2),\n",
    "        L2Y_sub_losses(fighter1, day1) - L2Y_sub_losses(fighter2, day2),\n",
    "        avg_count('knockdowns', fighter1, 'inf', day1) - avg_count('knockdowns', fighter2, 'inf', day2),\n",
    "    \n",
    "    #     'fighter_inf_distance_strikes_landed_avg_diff_2',\n",
    "        avg_count('distance_strikes_landed', fighter1, 'inf', day1) - avg_count('distance_strikes_landed', fighter2, 'inf', day2),\n",
    "    #     'fighter_inf_ground_strikes_landed_avg_diff_2',\n",
    "        avg_count('ground_strikes_landed', fighter1, 'inf', day1) - avg_count('ground_strikes_landed', fighter2, 'inf', day2),\n",
    "    #     'fighter_inf_distance_strikes_attempts_avg_diff_2',\n",
    "        avg_count('distance_strikes_attempts', fighter1, 'inf', day1) - avg_count('distance_strikes_attempts', fighter2, 'inf', day2),\n",
    "        \n",
    "        \n",
    "        #     'fighter_inf_head_strikes_attempts_avg_diff_2',\n",
    "        avg_count('head_strikes_attempts', fighter1, 'inf', day1) - avg_count('head_strikes_attempts', fighter2, 'inf', day2),\n",
    "    #     'fighter_inf_takedowns_attempts_avg_diff_2',\n",
    "        avg_count('takedowns_attempts', fighter1, 'inf', day1) - avg_count('takedowns_attempts', fighter2, 'inf', day2),\n",
    "    #     'fighter_abs_reversals_avg_diff_2',\n",
    "        # avg_count('reversals', fighter1, 'abs', day1) - avg_count('reversals', fighter2, 'abs', day2),\n",
    "    #     'fighter_abs_clinch_strikes_landed_avg_diff_2',\n",
    "        avg_count('clinch_strikes_landed', fighter1, 'abs', day1) - avg_count('clinch_strikes_landed', fighter2, 'abs', day2),\n",
    "    #     'fighter_abs_distance_strikes_landed_avg_diff_2',\n",
    "        avg_count('distance_strikes_landed', fighter1, 'abs', day1) - avg_count('distance_strikes_landed', fighter2, 'abs', day2),\n",
    "        \n",
    "            #     'fighter_abs_leg_strikes_landed_avg_diff_2',\n",
    "        avg_count('leg_strikes_landed', fighter1, 'abs', day1) - avg_count('leg_strikes_landed', fighter2, 'abs', day2),\n",
    "    #     'fighter_abs_takedowns_attempts_avg_diff_2',\n",
    "        avg_count('takedowns_attempts', fighter1, 'abs', day1) - avg_count('takedowns_attempts', fighter2, 'abs', day2),\n",
    "    #     'fighter_abs_distance_strikes_attempts_avg_diff_2',\n",
    "        avg_count('distance_strikes_attempts', fighter1, 'abs', day1) - avg_count('distance_strikes_attempts', fighter2, 'abs', day2),\n",
    "    #     'fighter_abs_head_strikes_attempts_avg_diff_2',\n",
    "        avg_count('head_strikes_attempts', fighter1, 'abs', day1) - avg_count('head_strikes_attempts', fighter2, 'abs', day2),\n",
    "    #     'fighter_abs_total_strikes_attempts_avg_diff_2',\n",
    "        avg_count('total_strikes_attempts', fighter1, 'abs', day1) - avg_count('total_strikes_attempts', fighter2, 'abs', day2),\n",
    "                #     '6-fight_math',\n",
    "    #     '9-fighter_score_diff',\n",
    "    #     '4-fighter_score_diff',\n",
    "        fight_math_diff(fighter1, fighter2, day1, 6),\n",
    "        fighter_score_diff(fighter1, fighter2, day1, 9),\n",
    "        fighter_score_diff(fighter1, fighter2, day1, 4),\n",
    "    ]\n",
    "    "
   ]
  },
  {
   "cell_type": "code",
   "execution_count": 65,
   "metadata": {},
   "outputs": [
    {
     "data": {
      "text/plain": [
       "np.float64(-0.636851776860466)"
      ]
     },
     "execution_count": 65,
     "metadata": {},
     "output_type": "execute_result"
    }
   ],
   "source": [
    "dataframe = ufc_fights_winner\n",
    "iloc_val = 3200\n",
    "_max_iter = 2000\n",
    "scoring='neg_log_loss'\n",
    "scaled=True\n",
    "\n",
    "yyy=dataframe['result'].iloc[0:iloc_val]\n",
    "XXX=dataframe[current_best_feature_set].iloc[0:iloc_val]\n",
    "XXXscaler = preprocessing.StandardScaler().fit(XXX)\n",
    "XXX_scaled = XXXscaler.transform(XXX) \n",
    "X = XXX_scaled if scaled else XXX\n",
    "winPredictionModel=LogisticRegression(solver='lbfgs', max_iter=_max_iter, fit_intercept=False)\n",
    "# find the cross val score with log loss\n",
    "cross_val_score(winPredictionModel,X,yyy,cv=4,scoring=scoring).mean()"
   ]
  },
  {
   "cell_type": "code",
   "execution_count": 59,
   "metadata": {},
   "outputs": [],
   "source": [
    "tup = ufc_prediction_tuple('Cody Garbrandt', 'Pedro Munhoz', 'July 5, 2023', 'July 5, 2023')"
   ]
  },
  {
   "cell_type": "code",
   "execution_count": 67,
   "metadata": {},
   "outputs": [
    {
     "name": "stderr",
     "output_type": "stream",
     "text": [
      "c:\\Users\\Alex\\AppData\\Local\\Programs\\Python\\Python311\\Lib\\site-packages\\sklearn\\utils\\validation.py:2749: UserWarning: X does not have valid feature names, but StandardScaler was fitted with feature names\n",
      "  warnings.warn(\n"
     ]
    }
   ],
   "source": [
    "tup_scaled = XXXscaler.transform(np.array(tup).reshape(1, -1))"
   ]
  },
  {
   "cell_type": "code",
   "execution_count": 69,
   "metadata": {},
   "outputs": [
    {
     "data": {
      "text/plain": [
       "array([-9.39214737e-01,  5.25232669e-01,  6.44039497e-02, -1.04297667e+00,\n",
       "        2.23999702e-03,  2.60503232e+00, -5.59192401e-01,  1.30968888e+00,\n",
       "        8.20152356e-01, -1.35430404e+00,  3.25929778e-02,  1.92329836e-01,\n",
       "       -1.07448769e+00, -4.44964215e-02, -1.02802550e+00, -4.62174005e-01,\n",
       "        1.49467900e-01,  1.43395072e-01, -1.16362433e+00, -1.92815795e-01,\n",
       "       -5.85468494e-01, -9.69663487e-01, -7.98516289e-01, -8.64847548e-01,\n",
       "       -2.57155221e+00, -1.23207639e+00, -7.88462544e-01])"
      ]
     },
     "execution_count": 69,
     "metadata": {},
     "output_type": "execute_result"
    }
   ],
   "source": [
    "tup_scaled[0]"
   ]
  }
 ],
 "metadata": {
  "kernelspec": {
   "display_name": "Python 3",
   "language": "python",
   "name": "python3"
  },
  "language_info": {
   "codemirror_mode": {
    "name": "ipython",
    "version": 3
   },
   "file_extension": ".py",
   "mimetype": "text/x-python",
   "name": "python",
   "nbconvert_exporter": "python",
   "pygments_lexer": "ipython3",
   "version": "3.11.0"
  }
 },
 "nbformat": 4,
 "nbformat_minor": 2
}
