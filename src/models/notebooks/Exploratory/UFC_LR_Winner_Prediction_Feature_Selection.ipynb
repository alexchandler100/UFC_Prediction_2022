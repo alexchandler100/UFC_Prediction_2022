{
 "cells": [
  {
   "cell_type": "code",
   "execution_count": 40,
   "metadata": {},
   "outputs": [
    {
     "data": {
      "text/plain": [
       "'/Users/alexchandler/UFC_Prediction_2022'"
      ]
     },
     "execution_count": 40,
     "metadata": {},
     "output_type": "execute_result"
    }
   ],
   "source": [
    "#needed after restructuring of directory\n",
    "import os\n",
    "os.chdir('/Users/alexchandler/UFC_Prediction_2022')\n",
    "os.getcwd()"
   ]
  },
  {
   "cell_type": "code",
   "execution_count": 4,
   "metadata": {},
   "outputs": [],
   "source": [
    "#getting dependencies\n",
    "import pandas as pd\n",
    "pd.options.mode.chained_assignment = None  # default='warn' (disables SettingWithCopyWarning)\n",
    "pd.set_option('display.max_rows', None)\n",
    "pd.set_option('display.max_columns', None)\n",
    "import numpy as np\n",
    "from datetime import datetime\n",
    "from datetime import date\n",
    "import matplotlib.pyplot as plt\n",
    "import random\n",
    "import sklearn\n",
    "import scipy\n",
    "from sklearn.linear_model import LogisticRegression\n",
    "from sklearn.ensemble import RandomForestClassifier\n",
    "from sklearn.neural_network import MLPClassifier\n",
    "from sklearn.model_selection import train_test_split, KFold, cross_val_score\n",
    "from sklearn import preprocessing\n",
    "from sklearn.preprocessing import PolynomialFeatures\n",
    "from sklearn.feature_selection import VarianceThreshold\n",
    "import itertools\n",
    "#this imports all of the functions from the file functions.py\n",
    "os.chdir('/Users/alexchandler/UFC_Prediction_2022/src')\n",
    "from functions import *\n",
    "os.chdir('/Users/alexchandler/UFC_Prediction_2022')#importing csv fight data and saving as dataframes\n",
    "ufc_fights_winner = pd.read_csv('src/content/data/processed/ufc_fights.csv',low_memory=False)"
   ]
  },
  {
   "cell_type": "code",
   "execution_count": 6,
   "metadata": {},
   "outputs": [],
   "source": [
    "#scores a model\n",
    "def model_score(dataframe,features, iloc_val = 3200, _max_iter = 2000):\n",
    "    yyy=dataframe['result'].iloc[0:iloc_val]\n",
    "    XXX=dataframe[features].iloc[0:iloc_val]\n",
    "    XXXscaler = preprocessing.StandardScaler().fit(XXX)\n",
    "    XXX_scaled = XXXscaler.transform(XXX) \n",
    "    winPredictionModel=LogisticRegression(solver='lbfgs', max_iter=_max_iter, fit_intercept=False)\n",
    "    return cross_val_score(winPredictionModel,XXX_scaled,yyy,cv=4).mean()\n",
    "    \n",
    "#CODE FOR THE GREEDY ALGORITHM FOR FEATURE SELECTION\n",
    "def greedy(dataframe, features, subsetsize, iloc_val=3200, _max_iter = 2000):\n",
    "    i=0\n",
    "    best_stats=[]\n",
    "    s=set(features)\n",
    "    subsets=list(map(set, itertools.combinations(s, subsetsize))) #subsets of size (subsetsize)\n",
    "    possible_stat_dict = {}\n",
    "    scores={0:0}\n",
    "    for stat_pair in subsets:\n",
    "        possible_stat_dict[tuple(stat_pair)]=0\n",
    "    while (i==0) or (scores[i]>scores[i-1]):\n",
    "        i+=1\n",
    "        for stat_pair in list(possible_stat_dict.keys()):\n",
    "            stats_temp = best_stats+list(stat_pair)\n",
    "            possible_stat_dict[tuple(stat_pair)]=model_score(ufc_fights_winner,stats_temp,iloc_val,_max_iter)\n",
    "        max_key = max(possible_stat_dict, key=possible_stat_dict.get)\n",
    "        best_stats.extend(list(max_key))\n",
    "        scores[i]=possible_stat_dict[max_key]\n",
    "        possible_stat_dict.pop(max_key)\n",
    "        print(best_stats,scores[i])\n",
    "    return (best_stats[:-subsetsize], scores[i-1])"
   ]
  },
  {
   "cell_type": "code",
   "execution_count": 7,
   "metadata": {},
   "outputs": [
    {
     "data": {
      "text/plain": [
       "array(['KO/TKO', 'bullshit', 'DEC', 'SUB'], dtype=object)"
      ]
     },
     "execution_count": 7,
     "metadata": {},
     "output_type": "execute_result"
    }
   ],
   "source": [
    "# cleans method column so 'M-DEC' and 'U-DEC' count as decision, \n",
    "# and 'S-DEC', 'doctor stoppage', 'overturned' etc counts as 'bullshit'\n",
    "ufc_fights_winner['method'] = clean_method_for_winner_vect(ufc_fights_winner['method'])\n",
    "ufc_fights_winner['method'].unique()"
   ]
  },
  {
   "cell_type": "code",
   "execution_count": 8,
   "metadata": {},
   "outputs": [],
   "source": [
    "#adding stance \n",
    "ufc_fights['fighter_stance']=stance_vect(ufc_fights['fighter'])\n",
    "ufc_fights['opponent_stance']=stance_vect(ufc_fights['opponent'])"
   ]
  },
  {
   "cell_type": "code",
   "execution_count": 34,
   "metadata": {},
   "outputs": [],
   "source": [
    "#WHY AM I USING u'' i.e. unicode... r'' takes less memory space. Was there a reason for using u?\n",
    "#getting rid of rows with incomplete or useless data\n",
    "#fights with outcome \"Win\" or \"Loss\" (no \"Draw\")\n",
    "draw_mask=ufc_fights_winner['result'] != 'D' \n",
    "#fights where the method of victory is TKO/SUB/DEC (no split decision or DQ or Overturned or anything else like that)\n",
    "method_mask_winner=(ufc_fights_winner['method']!='bullshit')\n",
    "#fights where age is known\n",
    "age_mask=(ufc_fights_winner['fighter_age']!='unknown')&(ufc_fights_winner['opponent_age']!='unknown')\n",
    "#fights where height reach is known\n",
    "height_mask=(ufc_fights_winner['fighter_height']!='unknown')&(ufc_fights_winner['opponent_height']!='unknown')\n",
    "reach_mask=(ufc_fights_winner['fighter_reach']!='unknown')&(ufc_fights_winner['opponent_reach']!='unknown')\n",
    "#fights where number of wins is known\n",
    "wins_mask=(ufc_fights_winner['fighter_wins'] != 'unknown' )& (ufc_fights_winner['opponent_wins'] != 'unknown')\n",
    "#fights where both fighters have strike statistics (gets rid of UFC debuts)\n",
    "strikes_mask=(ufc_fights_winner['fighter_inf_sig_strikes_attempts_avg'] != 0)&(ufc_fights_winner['opponent_inf_sig_strikes_attempts_avg'] != 0)\n",
    "#includes only the fights satisfying these conditions\n",
    "ufc_fights_winner=ufc_fights_winner[draw_mask&method_mask_winner&age_mask&height_mask&reach_mask&wins_mask&strikes_mask]\n",
    "\n",
    "#listing all stats and making some new stats from them (differences often score higher in the learning models)\n",
    "record_statistics=[u'fighter_wins', \n",
    "                   u'fighter_losses', \n",
    "                   u'fighter_L5Y_wins',\n",
    "                   u'fighter_L5Y_losses', \n",
    "                   u'fighter_L2Y_wins', \n",
    "                   u'fighter_L2Y_losses',\n",
    "                   u'fighter_ko_wins',\n",
    "                   u'fighter_ko_losses',\n",
    "                   u'fighter_L5Y_ko_wins',\n",
    "                   u'fighter_L5Y_ko_losses',\n",
    "                   u'fighter_L2Y_ko_wins',\n",
    "                   u'fighter_L2Y_ko_losses',\n",
    "                   u'fighter_sub_wins',\n",
    "                   u'fighter_sub_losses',\n",
    "                   u'fighter_L5Y_sub_wins',\n",
    "                   u'fighter_L5Y_sub_losses', \n",
    "                   u'fighter_L2Y_sub_wins', \n",
    "                   u'fighter_L2Y_sub_losses',\n",
    "                   \n",
    "                   u'opponent_wins', \n",
    "                   u'opponent_losses',\n",
    "                   u'opponent_L5Y_wins', \n",
    "                   u'opponent_L5Y_losses', \n",
    "                   u'opponent_L2Y_wins', \n",
    "                   u'opponent_L2Y_losses', \n",
    "                    u'opponent_ko_wins', \n",
    "                   u'opponent_ko_losses', \n",
    "                   u'opponent_L5Y_ko_wins', \n",
    "                   u'opponent_L5Y_ko_losses', \n",
    "                   u'opponent_L2Y_ko_wins',\n",
    "                    u'opponent_L2Y_ko_losses', \n",
    "                   u'opponent_sub_wins', \n",
    "                   u'opponent_sub_losses',\n",
    "                   u'opponent_L5Y_sub_wins', \n",
    "                    u'opponent_L5Y_sub_losses', \n",
    "                   u'opponent_L2Y_sub_wins', \n",
    "                   u'opponent_L2Y_sub_losses']\n",
    "\n",
    "physical_stats=[ u'fighter_age',\n",
    "                u'fighter_height',\n",
    "                    u'fighter_reach',  \n",
    "                u'opponent_age',  \n",
    "                u'opponent_height',\n",
    "                    u'opponent_reach']\n",
    "\n",
    "#THERE MAY BE A PROBLEM IN AGE HEIGHT REACH TO DO WITH STRING VS FLOAT. MAKE SURE THESE ARE ALL THE CORRECT TYPE\n",
    "#MAYBE WE ARE LOSING PREDICTABILITY HERE\n",
    "\n",
    "#here is the list of all stats available (besides stance), does not include names or result\n",
    "punch_statistics=[    u'fighter_inf_knockdowns_avg',\n",
    "                    u'fighter_inf_pass_avg',\n",
    "                    u'fighter_inf_reversals_avg',\n",
    "                    u'fighter_inf_sub_attempts_avg',\n",
    "                    u'fighter_inf_takedowns_landed_avg',\n",
    "                    u'fighter_inf_takedowns_attempts_avg',\n",
    "                    u'fighter_inf_sig_strikes_landed_avg',\n",
    "                    u'fighter_inf_sig_strikes_attempts_avg',\n",
    "                    u'fighter_inf_total_strikes_landed_avg',\n",
    "                    u'fighter_inf_total_strikes_attempts_avg',\n",
    "                    u'fighter_inf_head_strikes_landed_avg',\n",
    "                    u'fighter_inf_head_strikes_attempts_avg',\n",
    "                    u'fighter_inf_body_strikes_landed_avg',\n",
    "                    u'fighter_inf_body_strikes_attempts_avg',\n",
    "                    u'fighter_inf_leg_strikes_landed_avg',\n",
    "                    u'fighter_inf_leg_strikes_attempts_avg',\n",
    "                    u'fighter_inf_distance_strikes_landed_avg',\n",
    "                    u'fighter_inf_distance_strikes_attempts_avg',\n",
    "                    u'fighter_inf_clinch_strikes_landed_avg',\n",
    "                    u'fighter_inf_clinch_strikes_attempts_avg',\n",
    "                    u'fighter_inf_ground_strikes_landed_avg',\n",
    "                    u'fighter_inf_ground_strikes_attempts_avg',\n",
    "                \n",
    "                    u'fighter_abs_knockdowns_avg',\n",
    "                    u'fighter_abs_pass_avg',\n",
    "                    u'fighter_abs_reversals_avg',\n",
    "                    u'fighter_abs_sub_attempts_avg',\n",
    "                    u'fighter_abs_takedowns_landed_avg',\n",
    "                    u'fighter_abs_takedowns_attempts_avg',\n",
    "                    u'fighter_abs_sig_strikes_landed_avg',\n",
    "                    u'fighter_abs_sig_strikes_attempts_avg',\n",
    "                    u'fighter_abs_total_strikes_landed_avg',\n",
    "                    u'fighter_abs_total_strikes_attempts_avg',\n",
    "                    u'fighter_abs_head_strikes_landed_avg',\n",
    "                    u'fighter_abs_head_strikes_attempts_avg',\n",
    "                    u'fighter_abs_body_strikes_landed_avg',\n",
    "                    u'fighter_abs_body_strikes_attempts_avg',\n",
    "                    u'fighter_abs_leg_strikes_landed_avg',\n",
    "                    u'fighter_abs_leg_strikes_attempts_avg',\n",
    "                    u'fighter_abs_distance_strikes_landed_avg',\n",
    "                    u'fighter_abs_distance_strikes_attempts_avg',\n",
    "                    u'fighter_abs_clinch_strikes_landed_avg',\n",
    "                    u'fighter_abs_clinch_strikes_attempts_avg',\n",
    "                    u'fighter_abs_ground_strikes_landed_avg',\n",
    "                    u'fighter_abs_ground_strikes_attempts_avg',\n",
    "                    \n",
    "                    u'opponent_inf_knockdowns_avg',\n",
    "                    u'opponent_inf_pass_avg',\n",
    "                    u'opponent_inf_reversals_avg',\n",
    "                    u'opponent_inf_sub_attempts_avg',\n",
    "                    u'opponent_inf_takedowns_landed_avg',\n",
    "                    u'opponent_inf_takedowns_attempts_avg',\n",
    "                    u'opponent_inf_sig_strikes_landed_avg',\n",
    "                    u'opponent_inf_sig_strikes_attempts_avg',\n",
    "                    u'opponent_inf_total_strikes_landed_avg',\n",
    "                    u'opponent_inf_total_strikes_attempts_avg',\n",
    "                    u'opponent_inf_head_strikes_landed_avg',\n",
    "                    u'opponent_inf_head_strikes_attempts_avg',\n",
    "                    u'opponent_inf_body_strikes_landed_avg',\n",
    "                    u'opponent_inf_body_strikes_attempts_avg',\n",
    "                    u'opponent_inf_leg_strikes_landed_avg',\n",
    "                    u'opponent_inf_leg_strikes_attempts_avg',\n",
    "                    u'opponent_inf_distance_strikes_landed_avg',\n",
    "                    u'opponent_inf_distance_strikes_attempts_avg',\n",
    "                    u'opponent_inf_clinch_strikes_landed_avg',\n",
    "                    u'opponent_inf_clinch_strikes_attempts_avg',\n",
    "                    u'opponent_inf_ground_strikes_landed_avg',\n",
    "                    u'opponent_inf_ground_strikes_attempts_avg',\n",
    "                \n",
    "                    u'opponent_abs_knockdowns_avg',\n",
    "                    u'opponent_abs_pass_avg',\n",
    "                    u'opponent_abs_reversals_avg',\n",
    "                    u'opponent_abs_sub_attempts_avg',\n",
    "                    u'opponent_abs_takedowns_landed_avg',\n",
    "                    u'opponent_abs_takedowns_attempts_avg',\n",
    "                    u'opponent_abs_sig_strikes_landed_avg',\n",
    "                    u'opponent_abs_sig_strikes_attempts_avg',\n",
    "                    u'opponent_abs_total_strikes_landed_avg',\n",
    "                    u'opponent_abs_total_strikes_attempts_avg',\n",
    "                    u'opponent_abs_head_strikes_landed_avg',\n",
    "                    u'opponent_abs_head_strikes_attempts_avg',\n",
    "                    u'opponent_abs_body_strikes_landed_avg',\n",
    "                    u'opponent_abs_body_strikes_attempts_avg',\n",
    "                    u'opponent_abs_leg_strikes_landed_avg',\n",
    "                    u'opponent_abs_leg_strikes_attempts_avg',\n",
    "                    u'opponent_abs_distance_strikes_landed_avg',\n",
    "                    u'opponent_abs_distance_strikes_attempts_avg',\n",
    "                    u'opponent_abs_clinch_strikes_landed_avg',\n",
    "                    u'opponent_abs_clinch_strikes_attempts_avg',\n",
    "                    u'opponent_abs_ground_strikes_landed_avg',\n",
    "                    u'opponent_abs_ground_strikes_attempts_avg']\n",
    "\n",
    "\n",
    "#adding record differences to ufc_fights\n",
    "record_statistics_diff = []\n",
    "half_length=int(len(record_statistics)/2)\n",
    "for i in range(half_length):\n",
    "    ufc_fights_winner[record_statistics[i]+'_diff_2']=ufc_fights_winner[record_statistics[i]]-ufc_fights_winner[record_statistics[i+half_length]]\n",
    "    record_statistics_diff.append(record_statistics[i]+'_diff_2')\n",
    "    \n",
    "#adding alternate record differences to ufc_fights\n",
    "record_statistics_diff_alt = []\n",
    "half_length=int(len(record_statistics)/2)\n",
    "for i in range(0,half_length,2):\n",
    "    ufc_fights_winner[record_statistics[i]+'_diff_2_alt']=ufc_fights_winner[record_statistics[i]]-ufc_fights_winner[record_statistics[i+1]]-ufc_fights_winner[record_statistics[i+half_length]]+ufc_fights_winner[record_statistics[i+1+half_length]]\n",
    "\n",
    "   \n",
    "    record_statistics_diff_alt.append(record_statistics[i]+'_diff_2_alt')\n",
    "    \n",
    "#lets try and improve the greedy algorithm by considering differences. Lets start by replacing height and reach by their differences\n",
    "ufc_fights_winner['height_diff']=ufc_fights_winner['fighter_height'].apply(float)-ufc_fights_winner['opponent_height'].apply(float)\n",
    "ufc_fights_winner['reach_diff']=ufc_fights_winner['fighter_reach'].apply(float)-ufc_fights_winner['opponent_reach'].apply(float)\n",
    "\n",
    "physical_stats_diff = ['fighter_age_diff', 'fighter_age_diff_adj', 'height_diff', 'reach_diff']\n",
    "\n",
    "#adding punch differences to ufc_fights (inf-inf abs-abs)\n",
    "punch_statistics_diff = []\n",
    "half_length=int(len(punch_statistics)/2)\n",
    "for i in range(half_length):\n",
    "    ufc_fights_winner[punch_statistics[i]+'_diff_2']=ufc_fights_winner[punch_statistics[i]]-ufc_fights_winner[punch_statistics[i+half_length]]\n",
    "    punch_statistics_diff.append(punch_statistics[i]+'_diff_2')\n",
    "    \n",
    "#adding other style of punch differences to ufc_fights (inf-abs abs-inf)\n",
    "punch_statistics_diff_alt=[]\n",
    "quarter_length=int(len(punch_statistics)/4)\n",
    "for i in range(quarter_length):\n",
    "    ufc_fights_winner[punch_statistics[i]+'_diff_2_alt']=ufc_fights_winner[punch_statistics[i]]-ufc_fights_winner[punch_statistics[i+3*quarter_length]]-ufc_fights_winner[punch_statistics[i+2*quarter_length]]+ufc_fights_winner[punch_statistics[i+quarter_length]]\n",
    "    punch_statistics_diff_alt.append(punch_statistics[i]+'_diff_2_alt')\n",
    "    \n",
    "    \n",
    "    \n",
    "fight_math_stats=['4-fighter_score_diff',\n",
    " '9-fighter_score_diff',\n",
    " '15-fighter_score_diff',\n",
    " '1-fight_math',\n",
    " '6-fight_math']\n",
    "    \n",
    "possible_stats_diff =record_statistics_diff+record_statistics_diff_alt+physical_stats_diff+punch_statistics_diff+punch_statistics_diff_alt+fight_math_stats\n",
    "possible_stats_all = possible_stats_diff+record_statistics+physical_stats+punch_statistics\n",
    "possible_stats_diff_restricted =record_statistics_diff+physical_stats_diff+punch_statistics_diff+fight_math_stats\n",
    "\n"
   ]
  },
  {
   "cell_type": "code",
   "execution_count": 10,
   "metadata": {},
   "outputs": [
    {
     "data": {
      "text/plain": [
       "array(['W', 'L'], dtype=object)"
      ]
     },
     "execution_count": 10,
     "metadata": {},
     "output_type": "execute_result"
    }
   ],
   "source": [
    "ufc_fights_winner['result'].unique()"
   ]
  },
  {
   "cell_type": "code",
   "execution_count": 11,
   "metadata": {},
   "outputs": [
    {
     "data": {
      "text/plain": [
       "array(['KO/TKO', 'DEC', 'SUB'], dtype=object)"
      ]
     },
     "execution_count": 11,
     "metadata": {},
     "output_type": "execute_result"
    }
   ],
   "source": [
    "ufc_fights_winner['method'].unique()"
   ]
  },
  {
   "cell_type": "code",
   "execution_count": 12,
   "metadata": {},
   "outputs": [],
   "source": [
    "#changing columns saved as strings to floats\n",
    "ufc_fights_winner['fighter_age'] = ufc_fights_winner['fighter_age'].apply(float)\n",
    "ufc_fights_winner['fighter_height'] = ufc_fights_winner['fighter_height'].apply(float)\n",
    "ufc_fights_winner['fighter_reach'] = ufc_fights_winner['fighter_reach'].apply(float)\n",
    "ufc_fights_winner['opponent_age'] = ufc_fights_winner['opponent_age'].apply(float)\n",
    "ufc_fights_winner['opponent_height'] = ufc_fights_winner['opponent_height'].apply(float)\n",
    "ufc_fights_winner['opponent_reach'] = ufc_fights_winner['opponent_reach'].apply(float)\n",
    "ufc_fights_winner['fighter_stance'] = ufc_fights_winner['fighter_stance'].apply(float)\n",
    "ufc_fights_winner['opponent_stance'] = ufc_fights_winner['opponent_stance'].apply(float)"
   ]
  },
  {
   "cell_type": "code",
   "execution_count": 13,
   "metadata": {},
   "outputs": [
    {
     "name": "stderr",
     "output_type": "stream",
     "text": [
      "/var/folders/zr/jttn57m976g1m1_y2p2t8zwm0000gn/T/ipykernel_36743/723622036.py:2: PerformanceWarning: DataFrame is highly fragmented.  This is usually the result of calling `frame.insert` many times, which has poor performance.  Consider joining all columns at once using pd.concat(axis=1) instead. To get a de-fragmented frame, use `newframe = frame.copy()`\n",
      "  ufc_fights_winner['fighter_age_diff'] = ufc_fights_winner['fighter_age']-ufc_fights_winner['opponent_age']\n",
      "/var/folders/zr/jttn57m976g1m1_y2p2t8zwm0000gn/T/ipykernel_36743/723622036.py:3: PerformanceWarning: DataFrame is highly fragmented.  This is usually the result of calling `frame.insert` many times, which has poor performance.  Consider joining all columns at once using pd.concat(axis=1) instead. To get a de-fragmented frame, use `newframe = frame.copy()`\n",
      "  ufc_fights_winner['fighter_age_diff_adj'] = (ufc_fights_winner['fighter_age']-30).apply(abs)-(ufc_fights_winner['opponent_age']-30).apply(abs)\n"
     ]
    }
   ],
   "source": [
    "#adding an age_diff column and and age column adjusted to measure difference from prime age\n",
    "ufc_fights_winner['fighter_age_diff'] = ufc_fights_winner['fighter_age']-ufc_fights_winner['opponent_age']\n",
    "ufc_fights_winner['fighter_age_diff_adj'] = (ufc_fights_winner['fighter_age']-30).apply(abs)-(ufc_fights_winner['opponent_age']-30).apply(abs)\n"
   ]
  },
  {
   "cell_type": "code",
   "execution_count": 14,
   "metadata": {},
   "outputs": [
    {
     "data": {
      "text/plain": [
       "0.566875"
      ]
     },
     "execution_count": 14,
     "metadata": {},
     "output_type": "execute_result"
    }
   ],
   "source": [
    "# LR model score with just record statistics considered\n",
    "model_score(ufc_fights_winner,record_statistics)"
   ]
  },
  {
   "cell_type": "code",
   "execution_count": 15,
   "metadata": {},
   "outputs": [
    {
     "data": {
      "text/plain": [
       "0.569375"
      ]
     },
     "execution_count": 15,
     "metadata": {},
     "output_type": "execute_result"
    }
   ],
   "source": [
    "# LR model score with just record statistics differences considered (higher)\n",
    "model_score(ufc_fights_winner,record_statistics_diff)"
   ]
  },
  {
   "cell_type": "code",
   "execution_count": 16,
   "metadata": {},
   "outputs": [
    {
     "data": {
      "text/plain": [
       "0.568125"
      ]
     },
     "execution_count": 16,
     "metadata": {},
     "output_type": "execute_result"
    }
   ],
   "source": [
    "# LR model score with just record statistics differences considered (higher)\n",
    "model_score(ufc_fights_winner,record_statistics_diff_alt)"
   ]
  },
  {
   "cell_type": "code",
   "execution_count": 17,
   "metadata": {},
   "outputs": [
    {
     "data": {
      "text/plain": [
       "0.5690625"
      ]
     },
     "execution_count": 17,
     "metadata": {},
     "output_type": "execute_result"
    }
   ],
   "source": [
    "model_score(ufc_fights_winner,record_statistics_diff+record_statistics_diff_alt)"
   ]
  },
  {
   "cell_type": "code",
   "execution_count": 18,
   "metadata": {},
   "outputs": [
    {
     "data": {
      "text/plain": [
       "0.5825"
      ]
     },
     "execution_count": 18,
     "metadata": {},
     "output_type": "execute_result"
    }
   ],
   "source": [
    "# LR model score with just physical statistics considered\n",
    "model_score(ufc_fights_winner,physical_stats)"
   ]
  },
  {
   "cell_type": "code",
   "execution_count": 19,
   "metadata": {},
   "outputs": [
    {
     "data": {
      "text/plain": [
       "0.5828125"
      ]
     },
     "execution_count": 19,
     "metadata": {},
     "output_type": "execute_result"
    }
   ],
   "source": [
    "# LR model score with just physical statistics differences considered (lower... but not too much)\n",
    "model_score(ufc_fights_winner,physical_stats_diff)"
   ]
  },
  {
   "cell_type": "code",
   "execution_count": 20,
   "metadata": {},
   "outputs": [
    {
     "data": {
      "text/plain": [
       "0.5790625"
      ]
     },
     "execution_count": 20,
     "metadata": {},
     "output_type": "execute_result"
    }
   ],
   "source": [
    "# LR model score with just punch statistics considered\n",
    "model_score(ufc_fights_winner,punch_statistics)"
   ]
  },
  {
   "cell_type": "code",
   "execution_count": 21,
   "metadata": {},
   "outputs": [
    {
     "data": {
      "text/plain": [
       "0.5800000000000001"
      ]
     },
     "execution_count": 21,
     "metadata": {},
     "output_type": "execute_result"
    }
   ],
   "source": [
    "# LR model score with just punch statistics differences considered (higher)\n",
    "model_score(ufc_fights_winner,punch_statistics_diff)"
   ]
  },
  {
   "cell_type": "code",
   "execution_count": 22,
   "metadata": {},
   "outputs": [
    {
     "data": {
      "text/plain": [
       "0.5521875"
      ]
     },
     "execution_count": 22,
     "metadata": {},
     "output_type": "execute_result"
    }
   ],
   "source": [
    "# LR model score with just punch statistics differences considered (higher)\n",
    "model_score(ufc_fights_winner,punch_statistics_diff_alt)"
   ]
  },
  {
   "cell_type": "code",
   "execution_count": 23,
   "metadata": {},
   "outputs": [
    {
     "data": {
      "text/plain": [
       "0.5796874999999999"
      ]
     },
     "execution_count": 23,
     "metadata": {},
     "output_type": "execute_result"
    }
   ],
   "source": [
    "# LR model score with just punch statistics differences considered (higher)\n",
    "model_score(ufc_fights_winner,punch_statistics_diff+punch_statistics_diff_alt)"
   ]
  },
  {
   "cell_type": "code",
   "execution_count": 24,
   "metadata": {},
   "outputs": [
    {
     "data": {
      "text/plain": [
       "0.5765625"
      ]
     },
     "execution_count": 24,
     "metadata": {},
     "output_type": "execute_result"
    }
   ],
   "source": [
    "#score just from fight math\n",
    "model_score(ufc_fights_winner,fight_math_stats)"
   ]
  },
  {
   "cell_type": "code",
   "execution_count": 25,
   "metadata": {},
   "outputs": [
    {
     "data": {
      "text/plain": [
       "0.6071875"
      ]
     },
     "execution_count": 25,
     "metadata": {},
     "output_type": "execute_result"
    }
   ],
   "source": [
    "#model score with all possible stats (absolute and differences) (slightly lower)\n",
    "model_score(ufc_fights_winner,possible_stats_all)"
   ]
  },
  {
   "cell_type": "code",
   "execution_count": 26,
   "metadata": {},
   "outputs": [
    {
     "data": {
      "text/plain": [
       "0.6187499999999999"
      ]
     },
     "execution_count": 26,
     "metadata": {},
     "output_type": "execute_result"
    }
   ],
   "source": [
    "#model score with all possible stats (only differences)\n",
    "model_score(ufc_fights_winner,possible_stats_diff)"
   ]
  },
  {
   "cell_type": "code",
   "execution_count": 27,
   "metadata": {
    "scrolled": true
   },
   "outputs": [
    {
     "name": "stdout",
     "output_type": "stream",
     "text": [
      "1 0.45\n",
      "2 0.36250000000000004\n",
      "3 0.55\n",
      "4 0.6125\n",
      "5 0.6050000000000001\n",
      "6 0.5791666666666667\n",
      "7 0.5785714285714286\n",
      "8 0.6156250000000001\n",
      "9 0.6\n",
      "10 0.6075\n",
      "11 0.6022727272727273\n",
      "12 0.6125\n",
      "13 0.6134615384615385\n",
      "14 0.6035714285714285\n",
      "15 0.615\n",
      "16 0.5890624999999999\n",
      "17 0.6014705882352942\n",
      "18 0.5888888888888889\n",
      "19 0.5710526315789473\n",
      "20 0.58125\n",
      "21 0.5797619047619048\n",
      "22 0.5874999999999999\n",
      "23 0.5945652173913043\n",
      "24 0.6041666666666667\n",
      "25 0.608\n",
      "26 0.6000000000000001\n",
      "27 0.5972222222222222\n",
      "28 0.5839285714285715\n",
      "29 0.5844827586206898\n",
      "30 0.5858333333333334\n",
      "31 0.5838709677419355\n",
      "32 0.59375\n",
      "33 0.5871212121212122\n",
      "34 0.5933823529411765\n",
      "35 0.5950000000000001\n",
      "36 0.5861111111111111\n",
      "37 0.5905405405405405\n",
      "38 0.5855263157894737\n",
      "39 0.6006410256410256\n",
      "40 0.605625\n",
      "41 0.6018292682926829\n",
      "42 0.5922619047619049\n",
      "43 0.5959302325581395\n",
      "44 0.6005681818181818\n",
      "45 0.6033333333333333\n",
      "46 0.592391304347826\n",
      "47 0.598936170212766\n",
      "48 0.6036458333333334\n",
      "49 0.5989795918367347\n",
      "50 0.6005\n",
      "51 0.6063725490196079\n",
      "52 0.5985576923076923\n",
      "53 0.6061320754716981\n",
      "54 0.6050925925925925\n",
      "55 0.6054545454545455\n",
      "56 0.6058035714285714\n",
      "57 0.6052631578947368\n",
      "58 0.6056034482758621\n",
      "59 0.6042372881355933\n",
      "60 0.60375\n",
      "61 0.5995901639344263\n",
      "62 0.6028225806451613\n",
      "63 0.6111111111111112\n",
      "64 0.6062500000000001\n",
      "65 0.6111538461538462\n",
      "66 0.6109848484848486\n",
      "67 0.6078358208955223\n",
      "68 0.6080882352941176\n",
      "69 0.6090579710144928\n",
      "70 0.6075\n",
      "71 0.6116197183098591\n",
      "72 0.6097222222222223\n",
      "73 0.6126712328767123\n",
      "74 0.6101351351351352\n",
      "75 0.6156666666666667\n",
      "76 0.6095394736842106\n",
      "77 0.6113636363636363\n",
      "78 0.6057692307692308\n",
      "79 0.6069620253164556\n",
      "80 0.6053125\n",
      "81 0.6089506172839507\n",
      "82 0.6121951219512195\n",
      "83 0.610843373493976\n",
      "84 0.6092261904761905\n",
      "85 0.6082352941176471\n",
      "86 0.6101744186046512\n",
      "87 0.6060344827586206\n",
      "88 0.6107954545454546\n",
      "89 0.6092696629213483\n",
      "90 0.6094444444444445\n",
      "91 0.6104395604395605\n",
      "92 0.6097090659843242\n",
      "93 0.6097090659843242\n",
      "94 0.6097090659843242\n",
      "95 0.6097090659843242\n",
      "96 0.6097090659843242\n",
      "97 0.6097090659843242\n",
      "98 0.6097090659843242\n",
      "99 0.6097090659843242\n"
     ]
    },
    {
     "data": {
      "image/png": "[encoded data removed]",
      "text/plain": [
       "<Figure size 504x252 with 1 Axes>"
      ]
     },
     "metadata": {
      "needs_background": "light"
     },
     "output_type": "display_data"
    }
   ],
   "source": [
    "#lets see the best number of examples to use. Looks like 40*75\n",
    "from sklearn.feature_selection import SelectKBest, chi2\n",
    "possible_stats=record_statistics_diff+physical_stats_diff+punch_statistics_diff\n",
    "xx=range(1,100)\n",
    "yy=[]\n",
    "for i in xx:\n",
    "    print(i,model_score(ufc_fights_winner,possible_stats,40*i))\n",
    "    yy.append(model_score(ufc_fights_winner,possible_stats,40*i))\n",
    "colors=[]\n",
    "for i in xx:\n",
    "    colors.append('red')\n",
    "    \n",
    "plt.rcParams[\"figure.figsize\"] = [7.00, 3.50]\n",
    "plt.rcParams[\"figure.autolayout\"] = True\n",
    "fig = plt.figure()\n",
    "ax = fig.add_subplot()\n",
    "ax.scatter(xx,yy,s=2,c=colors)\n",
    "plt.show() "
   ]
  },
  {
   "cell_type": "code",
   "execution_count": 31,
   "metadata": {},
   "outputs": [
    {
     "data": {
      "text/plain": [
       "array([-13., -12., -11., -10.,  -9.,  -8.,  -7.,  -6.,  -5.,  -4.,  -3.,\n",
       "        -2.,  -1.,   0.,   1.,   2.,   3.,   4.,   5.,   6.,   7.,   8.,\n",
       "         9.,  10.,  11.,  12.,  13.,  14.,  15.])"
      ]
     },
     "execution_count": 31,
     "metadata": {},
     "output_type": "execute_result"
    }
   ],
   "source": [
    "age_adj=ufc_fights_winner['fighter_age_diff_adj'].unique()\n",
    "age_adj.sort()\n",
    "age_adj"
   ]
  },
  {
   "cell_type": "code",
   "execution_count": 40,
   "metadata": {},
   "outputs": [
    {
     "name": "stdout",
     "output_type": "stream",
     "text": [
      "18 0.57875\n",
      "19 0.57875\n",
      "20 0.57875\n",
      "21 0.57875\n",
      "22 0.57875\n",
      "23 0.58\n",
      "24 0.5778125000000001\n",
      "25 0.575625\n",
      "26 0.5665625\n",
      "27 0.5562499999999999\n",
      "28 0.534375\n",
      "29 0.519375\n",
      "30 0.49406249999999996\n",
      "31 0.5009375\n",
      "32 0.5334375\n",
      "33 0.5496875\n",
      "34 0.565625\n",
      "35 0.5706249999999999\n",
      "36 0.5774999999999999\n",
      "37 0.5778125\n",
      "38 0.575\n",
      "39 0.57625\n"
     ]
    }
   ],
   "source": [
    "#testing fighter_age_diff_adj for different \"optimal ages\"...\n",
    "#interesting... outperforms fighter_age_diff only at 23... meaning that 23 is the optimal fighting age??\n",
    "for j in range(18,40):\n",
    "    ufc_fights_winner['fighter_age_diff_adj'] = (ufc_fights_winner['fighter_age']-j).apply(abs)-(ufc_fights_winner['opponent_age']-j).apply(abs)\n",
    "    print(j,model_score(ufc_fights_winner,['fighter_age_diff_adj']))"
   ]
  },
  {
   "cell_type": "code",
   "execution_count": 27,
   "metadata": {},
   "outputs": [],
   "source": [
    "ufc_fights_winner['fighter_age_diff_adj'] = (ufc_fights_winner['fighter_age']-23).apply(abs)-(ufc_fights_winner['opponent_age']-23).apply(abs)\n",
    "\n"
   ]
  },
  {
   "cell_type": "code",
   "execution_count": 28,
   "metadata": {},
   "outputs": [
    {
     "name": "stdout",
     "output_type": "stream",
     "text": [
      "['fighter_age_diff_adj'] 0.5826666666666667\n",
      "['fighter_age_diff_adj', '4-fighter_score_diff'] 0.616\n",
      "['fighter_age_diff_adj', '4-fighter_score_diff', 'fighter_abs_total_strikes_landed_avg_diff_2'] 0.6316666666666666\n",
      "['fighter_age_diff_adj', '4-fighter_score_diff', 'fighter_abs_total_strikes_landed_avg_diff_2', 'fighter_inf_distance_strikes_landed_avg_diff_2_alt'] 0.6343333333333333\n",
      "['fighter_age_diff_adj', '4-fighter_score_diff', 'fighter_abs_total_strikes_landed_avg_diff_2', 'fighter_inf_distance_strikes_landed_avg_diff_2_alt', '1-fight_math'] 0.6353333333333333\n",
      "['fighter_age_diff_adj', '4-fighter_score_diff', 'fighter_abs_total_strikes_landed_avg_diff_2', 'fighter_inf_distance_strikes_landed_avg_diff_2_alt', '1-fight_math', 'fighter_L2Y_wins_diff_2_alt'] 0.636\n",
      "['fighter_age_diff_adj', '4-fighter_score_diff', 'fighter_abs_total_strikes_landed_avg_diff_2', 'fighter_inf_distance_strikes_landed_avg_diff_2_alt', '1-fight_math', 'fighter_L2Y_wins_diff_2_alt', 'fighter_abs_reversals_avg_diff_2'] 0.6356666666666666\n"
     ]
    },
    {
     "data": {
      "text/plain": [
       "(['fighter_age_diff_adj',\n",
       "  '4-fighter_score_diff',\n",
       "  'fighter_abs_total_strikes_landed_avg_diff_2',\n",
       "  'fighter_inf_distance_strikes_landed_avg_diff_2_alt',\n",
       "  '1-fight_math',\n",
       "  'fighter_L2Y_wins_diff_2_alt'],\n",
       " 0.636)"
      ]
     },
     "execution_count": 28,
     "metadata": {},
     "output_type": "execute_result"
    }
   ],
   "source": [
    "# adds one stat at a time, always choosing the one that increases score by the most (greedy)\n",
    "# best so far at .629 (4/16 improved to .6396 after fixing fight math and fight score)\n",
    "greedy(ufc_fights_winner, possible_stats_diff, 1,40*75)"
   ]
  },
  {
   "cell_type": "code",
   "execution_count": 29,
   "metadata": {},
   "outputs": [
    {
     "name": "stdout",
     "output_type": "stream",
     "text": [
      "['fighter_age_diff', '4-fighter_score_diff'] 0.6186666666666666\n",
      "['fighter_age_diff', '4-fighter_score_diff', 'fighter_abs_total_strikes_landed_avg_diff_2', 'fighter_inf_distance_strikes_landed_avg_diff_2'] 0.6346666666666667\n",
      "['fighter_age_diff', '4-fighter_score_diff', 'fighter_abs_total_strikes_landed_avg_diff_2', 'fighter_inf_distance_strikes_landed_avg_diff_2', 'fighter_inf_pass_avg_diff_2', 'fighter_L2Y_sub_wins_diff_2_alt'] 0.638\n",
      "['fighter_age_diff', '4-fighter_score_diff', 'fighter_abs_total_strikes_landed_avg_diff_2', 'fighter_inf_distance_strikes_landed_avg_diff_2', 'fighter_inf_pass_avg_diff_2', 'fighter_L2Y_sub_wins_diff_2_alt', 'fighter_inf_total_strikes_attempts_avg_diff_2_alt', 'fighter_inf_body_strikes_attempts_avg_diff_2_alt'] 0.6393333333333333\n",
      "['fighter_age_diff', '4-fighter_score_diff', 'fighter_abs_total_strikes_landed_avg_diff_2', 'fighter_inf_distance_strikes_landed_avg_diff_2', 'fighter_inf_pass_avg_diff_2', 'fighter_L2Y_sub_wins_diff_2_alt', 'fighter_inf_total_strikes_attempts_avg_diff_2_alt', 'fighter_inf_body_strikes_attempts_avg_diff_2_alt', 'fighter_L2Y_wins_diff_2', '1-fight_math'] 0.641\n",
      "['fighter_age_diff', '4-fighter_score_diff', 'fighter_abs_total_strikes_landed_avg_diff_2', 'fighter_inf_distance_strikes_landed_avg_diff_2', 'fighter_inf_pass_avg_diff_2', 'fighter_L2Y_sub_wins_diff_2_alt', 'fighter_inf_total_strikes_attempts_avg_diff_2_alt', 'fighter_inf_body_strikes_attempts_avg_diff_2_alt', 'fighter_L2Y_wins_diff_2', '1-fight_math', 'fighter_age_diff', 'fighter_inf_body_strikes_attempts_avg_diff_2_alt'] 0.6413333333333333\n",
      "['fighter_age_diff', '4-fighter_score_diff', 'fighter_abs_total_strikes_landed_avg_diff_2', 'fighter_inf_distance_strikes_landed_avg_diff_2', 'fighter_inf_pass_avg_diff_2', 'fighter_L2Y_sub_wins_diff_2_alt', 'fighter_inf_total_strikes_attempts_avg_diff_2_alt', 'fighter_inf_body_strikes_attempts_avg_diff_2_alt', 'fighter_L2Y_wins_diff_2', '1-fight_math', 'fighter_age_diff', 'fighter_inf_body_strikes_attempts_avg_diff_2_alt', 'fighter_inf_total_strikes_attempts_avg_diff_2_alt', '4-fighter_score_diff'] 0.6413333333333333\n"
     ]
    },
    {
     "data": {
      "text/plain": [
       "(['fighter_age_diff',\n",
       "  '4-fighter_score_diff',\n",
       "  'fighter_abs_total_strikes_landed_avg_diff_2',\n",
       "  'fighter_inf_distance_strikes_landed_avg_diff_2',\n",
       "  'fighter_inf_pass_avg_diff_2',\n",
       "  'fighter_L2Y_sub_wins_diff_2_alt',\n",
       "  'fighter_inf_total_strikes_attempts_avg_diff_2_alt',\n",
       "  'fighter_inf_body_strikes_attempts_avg_diff_2_alt',\n",
       "  'fighter_L2Y_wins_diff_2',\n",
       "  '1-fight_math',\n",
       "  'fighter_age_diff',\n",
       "  'fighter_inf_body_strikes_attempts_avg_diff_2_alt'],\n",
       " 0.6413333333333333)"
      ]
     },
     "execution_count": 29,
     "metadata": {},
     "output_type": "execute_result"
    }
   ],
   "source": [
    "# adds two stats at a time, always choosing the two that increases score by the most (greedy)\n",
    "# best so far at .6426\n",
    "greedy(ufc_fights_winner, possible_stats_diff, 2,40*75)"
   ]
  },
  {
   "cell_type": "code",
   "execution_count": 30,
   "metadata": {},
   "outputs": [
    {
     "name": "stdout",
     "output_type": "stream",
     "text": [
      "['fighter_abs_total_strikes_landed_avg_diff_2', 'fighter_age_diff', '4-fighter_score_diff'] 0.6336666666666667\n",
      "['fighter_abs_total_strikes_landed_avg_diff_2', 'fighter_age_diff', '4-fighter_score_diff', 'fighter_inf_total_strikes_attempts_avg_diff_2_alt', 'fighter_inf_body_strikes_attempts_avg_diff_2_alt', 'fighter_ko_losses_diff_2'] 0.6386666666666667\n",
      "['fighter_abs_total_strikes_landed_avg_diff_2', 'fighter_age_diff', '4-fighter_score_diff', 'fighter_inf_total_strikes_attempts_avg_diff_2_alt', 'fighter_inf_body_strikes_attempts_avg_diff_2_alt', 'fighter_ko_losses_diff_2', 'fighter_inf_pass_avg_diff_2', 'fighter_inf_total_strikes_attempts_avg_diff_2_alt', 'fighter_inf_head_strikes_landed_avg_diff_2'] 0.642\n",
      "['fighter_abs_total_strikes_landed_avg_diff_2', 'fighter_age_diff', '4-fighter_score_diff', 'fighter_inf_total_strikes_attempts_avg_diff_2_alt', 'fighter_inf_body_strikes_attempts_avg_diff_2_alt', 'fighter_ko_losses_diff_2', 'fighter_inf_pass_avg_diff_2', 'fighter_inf_total_strikes_attempts_avg_diff_2_alt', 'fighter_inf_head_strikes_landed_avg_diff_2', 'fighter_L2Y_sub_wins_diff_2', 'fighter_inf_reversals_avg_diff_2', 'fighter_L2Y_ko_wins_diff_2_alt'] 0.6436666666666666\n",
      "['fighter_abs_total_strikes_landed_avg_diff_2', 'fighter_age_diff', '4-fighter_score_diff', 'fighter_inf_total_strikes_attempts_avg_diff_2_alt', 'fighter_inf_body_strikes_attempts_avg_diff_2_alt', 'fighter_ko_losses_diff_2', 'fighter_inf_pass_avg_diff_2', 'fighter_inf_total_strikes_attempts_avg_diff_2_alt', 'fighter_inf_head_strikes_landed_avg_diff_2', 'fighter_L2Y_sub_wins_diff_2', 'fighter_inf_reversals_avg_diff_2', 'fighter_L2Y_ko_wins_diff_2_alt', 'fighter_inf_total_strikes_attempts_avg_diff_2_alt', 'fighter_inf_head_strikes_landed_avg_diff_2', 'fighter_ko_losses_diff_2'] 0.644\n",
      "['fighter_abs_total_strikes_landed_avg_diff_2', 'fighter_age_diff', '4-fighter_score_diff', 'fighter_inf_total_strikes_attempts_avg_diff_2_alt', 'fighter_inf_body_strikes_attempts_avg_diff_2_alt', 'fighter_ko_losses_diff_2', 'fighter_inf_pass_avg_diff_2', 'fighter_inf_total_strikes_attempts_avg_diff_2_alt', 'fighter_inf_head_strikes_landed_avg_diff_2', 'fighter_L2Y_sub_wins_diff_2', 'fighter_inf_reversals_avg_diff_2', 'fighter_L2Y_ko_wins_diff_2_alt', 'fighter_inf_total_strikes_attempts_avg_diff_2_alt', 'fighter_inf_head_strikes_landed_avg_diff_2', 'fighter_ko_losses_diff_2', 'fighter_inf_reversals_avg_diff_2', 'fighter_inf_head_strikes_landed_avg_diff_2', 'fighter_ko_losses_diff_2'] 0.6443333333333333\n",
      "['fighter_abs_total_strikes_landed_avg_diff_2', 'fighter_age_diff', '4-fighter_score_diff', 'fighter_inf_total_strikes_attempts_avg_diff_2_alt', 'fighter_inf_body_strikes_attempts_avg_diff_2_alt', 'fighter_ko_losses_diff_2', 'fighter_inf_pass_avg_diff_2', 'fighter_inf_total_strikes_attempts_avg_diff_2_alt', 'fighter_inf_head_strikes_landed_avg_diff_2', 'fighter_L2Y_sub_wins_diff_2', 'fighter_inf_reversals_avg_diff_2', 'fighter_L2Y_ko_wins_diff_2_alt', 'fighter_inf_total_strikes_attempts_avg_diff_2_alt', 'fighter_inf_head_strikes_landed_avg_diff_2', 'fighter_ko_losses_diff_2', 'fighter_inf_reversals_avg_diff_2', 'fighter_inf_head_strikes_landed_avg_diff_2', 'fighter_ko_losses_diff_2', 'fighter_inf_pass_avg_diff_2', 'fighter_inf_head_strikes_landed_avg_diff_2', 'fighter_ko_losses_diff_2'] 0.6443333333333333\n"
     ]
    },
    {
     "data": {
      "text/plain": [
       "(['fighter_abs_total_strikes_landed_avg_diff_2',\n",
       "  'fighter_age_diff',\n",
       "  '4-fighter_score_diff',\n",
       "  'fighter_inf_total_strikes_attempts_avg_diff_2_alt',\n",
       "  'fighter_inf_body_strikes_attempts_avg_diff_2_alt',\n",
       "  'fighter_ko_losses_diff_2',\n",
       "  'fighter_inf_pass_avg_diff_2',\n",
       "  'fighter_inf_total_strikes_attempts_avg_diff_2_alt',\n",
       "  'fighter_inf_head_strikes_landed_avg_diff_2',\n",
       "  'fighter_L2Y_sub_wins_diff_2',\n",
       "  'fighter_inf_reversals_avg_diff_2',\n",
       "  'fighter_L2Y_ko_wins_diff_2_alt',\n",
       "  'fighter_inf_total_strikes_attempts_avg_diff_2_alt',\n",
       "  'fighter_inf_head_strikes_landed_avg_diff_2',\n",
       "  'fighter_ko_losses_diff_2',\n",
       "  'fighter_inf_reversals_avg_diff_2',\n",
       "  'fighter_inf_head_strikes_landed_avg_diff_2',\n",
       "  'fighter_ko_losses_diff_2'],\n",
       " 0.6443333333333333)"
      ]
     },
     "execution_count": 30,
     "metadata": {},
     "output_type": "execute_result"
    }
   ],
   "source": [
    "greedy(ufc_fights_winner, possible_stats_diff, 3,40*75)"
   ]
  },
  {
   "cell_type": "code",
   "execution_count": 32,
   "metadata": {},
   "outputs": [
    {
     "data": {
      "text/plain": [
       "['fighter_age_diff',\n",
       " 'fighter_L2Y_ko_wins_diff_2_alt',\n",
       " 'fighter_inf_head_strikes_landed_avg_diff_2',\n",
       " 'fighter_inf_body_strikes_attempts_avg_diff_2_alt',\n",
       " 'fighter_ko_losses_diff_2',\n",
       " 'fighter_inf_pass_avg_diff_2',\n",
       " 'fighter_inf_reversals_avg_diff_2',\n",
       " 'fighter_abs_total_strikes_landed_avg_diff_2',\n",
       " 'fighter_inf_total_strikes_attempts_avg_diff_2_alt',\n",
       " '4-fighter_score_diff',\n",
       " 'fighter_L2Y_sub_wins_diff_2']"
      ]
     },
     "execution_count": 32,
     "metadata": {},
     "output_type": "execute_result"
    }
   ],
   "source": [
    "list(set(['fighter_abs_total_strikes_landed_avg_diff_2',\n",
    "  'fighter_age_diff',\n",
    "  '4-fighter_score_diff',\n",
    "  'fighter_inf_total_strikes_attempts_avg_diff_2_alt',\n",
    "  'fighter_inf_body_strikes_attempts_avg_diff_2_alt',\n",
    "  'fighter_ko_losses_diff_2',\n",
    "  'fighter_inf_pass_avg_diff_2',\n",
    "  'fighter_inf_total_strikes_attempts_avg_diff_2_alt',\n",
    "  'fighter_inf_head_strikes_landed_avg_diff_2',\n",
    "  'fighter_L2Y_sub_wins_diff_2',\n",
    "  'fighter_inf_reversals_avg_diff_2',\n",
    "  'fighter_L2Y_ko_wins_diff_2_alt',\n",
    "  'fighter_inf_total_strikes_attempts_avg_diff_2_alt',\n",
    "  'fighter_inf_head_strikes_landed_avg_diff_2',\n",
    "  'fighter_ko_losses_diff_2',\n",
    "  'fighter_inf_reversals_avg_diff_2',\n",
    "  'fighter_inf_head_strikes_landed_avg_diff_2',\n",
    "  'fighter_ko_losses_diff_2']))"
   ]
  },
  {
   "cell_type": "code",
   "execution_count": 33,
   "metadata": {},
   "outputs": [
    {
     "name": "stdout",
     "output_type": "stream",
     "text": [
      "model score: 0.638\n",
      "cross val score: 0.6433333333333333\n"
     ]
    }
   ],
   "source": [
    "# current best cross val score is at .642 with ['fighter_age_diff','4-fighter_score_diff','fighter_abs_total_strikes_landed_avg_diff_2','fighter_inf_sub_attempts_avg_diff_2_alt','fighter_inf_sig_strikes_landed_avg_diff_2_alt','fighter_inf_total_strikes_attempts_avg_diff_2','1-fight_math','fighter_inf_body_strikes_attempts_avg_diff_2_alt','fighter_inf_total_strikes_attempts_avg_diff_2','fighter_abs_body_strikes_landed_avg_diff_2','fighter_L2Y_sub_wins_diff_2_alt','fighter_ko_wins_diff_2_alt']\n",
    "    \n",
    "current_best = ['fighter_age_diff',\n",
    " 'fighter_L2Y_ko_wins_diff_2_alt',\n",
    " 'fighter_inf_head_strikes_landed_avg_diff_2',\n",
    " 'fighter_inf_body_strikes_attempts_avg_diff_2_alt',\n",
    " 'fighter_ko_losses_diff_2',\n",
    " 'fighter_inf_pass_avg_diff_2',\n",
    " 'fighter_inf_reversals_avg_diff_2',\n",
    " 'fighter_abs_total_strikes_landed_avg_diff_2',\n",
    " 'fighter_inf_total_strikes_attempts_avg_diff_2_alt',\n",
    " '4-fighter_score_diff',\n",
    " 'fighter_L2Y_sub_wins_diff_2']\n",
    "\n",
    "y=ufc_fights_winner['result'].iloc[0:40*75]\n",
    "X=ufc_fights_winner[current_best].iloc[0:40*75]\n",
    "winPredictionModel=LogisticRegression(solver='lbfgs', max_iter=2000, fit_intercept=False)\n",
    "winPredictionModel.fit(X,y)\n",
    "\n",
    "print('model score: '+str(winPredictionModel.score(X,y)))\n",
    "print('cross val score: '+str(model_score(ufc_fights_winner,current_best,40*75,2000)))"
   ]
  },
  {
   "cell_type": "code",
   "execution_count": 35,
   "metadata": {},
   "outputs": [
    {
     "name": "stdout",
     "output_type": "stream",
     "text": [
      "['fighter_abs_total_strikes_landed_avg_diff_2', 'fighter_age_diff', '4-fighter_score_diff'] 0.6336666666666667\n",
      "['fighter_abs_total_strikes_landed_avg_diff_2', 'fighter_age_diff', '4-fighter_score_diff', 'fighter_abs_leg_strikes_landed_avg_diff_2', 'fighter_abs_pass_avg_diff_2', 'fighter_ko_losses_diff_2'] 0.6373333333333333\n",
      "['fighter_abs_total_strikes_landed_avg_diff_2', 'fighter_age_diff', '4-fighter_score_diff', 'fighter_abs_leg_strikes_landed_avg_diff_2', 'fighter_abs_pass_avg_diff_2', 'fighter_ko_losses_diff_2', 'fighter_abs_sig_strikes_attempts_avg_diff_2', '1-fight_math', 'fighter_abs_sig_strikes_landed_avg_diff_2'] 0.64\n",
      "['fighter_abs_total_strikes_landed_avg_diff_2', 'fighter_age_diff', '4-fighter_score_diff', 'fighter_abs_leg_strikes_landed_avg_diff_2', 'fighter_abs_pass_avg_diff_2', 'fighter_ko_losses_diff_2', 'fighter_abs_sig_strikes_attempts_avg_diff_2', '1-fight_math', 'fighter_abs_sig_strikes_landed_avg_diff_2', 'fighter_age_diff_adj', 'fighter_losses_diff_2', 'fighter_L5Y_losses_diff_2'] 0.642\n",
      "['fighter_abs_total_strikes_landed_avg_diff_2', 'fighter_age_diff', '4-fighter_score_diff', 'fighter_abs_leg_strikes_landed_avg_diff_2', 'fighter_abs_pass_avg_diff_2', 'fighter_ko_losses_diff_2', 'fighter_abs_sig_strikes_attempts_avg_diff_2', '1-fight_math', 'fighter_abs_sig_strikes_landed_avg_diff_2', 'fighter_age_diff_adj', 'fighter_losses_diff_2', 'fighter_L5Y_losses_diff_2', 'fighter_abs_leg_strikes_landed_avg_diff_2', 'fighter_L2Y_ko_wins_diff_2', 'fighter_abs_sig_strikes_landed_avg_diff_2'] 0.6423333333333333\n",
      "['fighter_abs_total_strikes_landed_avg_diff_2', 'fighter_age_diff', '4-fighter_score_diff', 'fighter_abs_leg_strikes_landed_avg_diff_2', 'fighter_abs_pass_avg_diff_2', 'fighter_ko_losses_diff_2', 'fighter_abs_sig_strikes_attempts_avg_diff_2', '1-fight_math', 'fighter_abs_sig_strikes_landed_avg_diff_2', 'fighter_age_diff_adj', 'fighter_losses_diff_2', 'fighter_L5Y_losses_diff_2', 'fighter_abs_leg_strikes_landed_avg_diff_2', 'fighter_L2Y_ko_wins_diff_2', 'fighter_abs_sig_strikes_landed_avg_diff_2', 'fighter_abs_total_strikes_landed_avg_diff_2', 'fighter_abs_leg_strikes_landed_avg_diff_2', 'fighter_L2Y_ko_wins_diff_2'] 0.6423333333333333\n"
     ]
    },
    {
     "data": {
      "text/plain": [
       "(['fighter_abs_total_strikes_landed_avg_diff_2',\n",
       "  'fighter_age_diff',\n",
       "  '4-fighter_score_diff',\n",
       "  'fighter_abs_leg_strikes_landed_avg_diff_2',\n",
       "  'fighter_abs_pass_avg_diff_2',\n",
       "  'fighter_ko_losses_diff_2',\n",
       "  'fighter_abs_sig_strikes_attempts_avg_diff_2',\n",
       "  '1-fight_math',\n",
       "  'fighter_abs_sig_strikes_landed_avg_diff_2',\n",
       "  'fighter_age_diff_adj',\n",
       "  'fighter_losses_diff_2',\n",
       "  'fighter_L5Y_losses_diff_2',\n",
       "  'fighter_abs_leg_strikes_landed_avg_diff_2',\n",
       "  'fighter_L2Y_ko_wins_diff_2',\n",
       "  'fighter_abs_sig_strikes_landed_avg_diff_2'],\n",
       " 0.6423333333333333)"
      ]
     },
     "execution_count": 35,
     "metadata": {},
     "output_type": "execute_result"
    }
   ],
   "source": [
    "#pretty much same score with diff_restricted so no sense in resorting to diff_alts for now\n",
    "# highest is at .642\n",
    "greedy(ufc_fights_winner, possible_stats_diff_restricted, 3,40*75)"
   ]
  },
  {
   "cell_type": "code",
   "execution_count": 36,
   "metadata": {},
   "outputs": [
    {
     "data": {
      "text/plain": [
       "['fighter_age_diff',\n",
       " 'fighter_L5Y_losses_diff_2',\n",
       " 'fighter_age_diff_adj',\n",
       " 'fighter_abs_sig_strikes_attempts_avg_diff_2',\n",
       " 'fighter_ko_losses_diff_2',\n",
       " 'fighter_losses_diff_2',\n",
       " 'fighter_L2Y_ko_wins_diff_2',\n",
       " 'fighter_abs_leg_strikes_landed_avg_diff_2',\n",
       " '1-fight_math',\n",
       " 'fighter_abs_sig_strikes_landed_avg_diff_2',\n",
       " 'fighter_abs_total_strikes_landed_avg_diff_2',\n",
       " '4-fighter_score_diff',\n",
       " 'fighter_abs_pass_avg_diff_2']"
      ]
     },
     "execution_count": 36,
     "metadata": {},
     "output_type": "execute_result"
    }
   ],
   "source": [
    "list(set(['fighter_abs_total_strikes_landed_avg_diff_2',\n",
    "  'fighter_age_diff',\n",
    "  '4-fighter_score_diff',\n",
    "  'fighter_abs_leg_strikes_landed_avg_diff_2',\n",
    "  'fighter_abs_pass_avg_diff_2',\n",
    "  'fighter_ko_losses_diff_2',\n",
    "  'fighter_abs_sig_strikes_attempts_avg_diff_2',\n",
    "  '1-fight_math',\n",
    "  'fighter_abs_sig_strikes_landed_avg_diff_2',\n",
    "  'fighter_age_diff_adj',\n",
    "  'fighter_losses_diff_2',\n",
    "  'fighter_L5Y_losses_diff_2',\n",
    "  'fighter_abs_leg_strikes_landed_avg_diff_2',\n",
    "  'fighter_L2Y_ko_wins_diff_2',\n",
    "  'fighter_abs_sig_strikes_landed_avg_diff_2']))"
   ]
  },
  {
   "cell_type": "code",
   "execution_count": 41,
   "metadata": {},
   "outputs": [
    {
     "name": "stdout",
     "output_type": "stream",
     "text": [
      "model score: 0.6346666666666667\n",
      "cross val score: 0.6413333333333333\n"
     ]
    }
   ],
   "source": [
    "# current best cross val score is at .642 with ['fighter_age_diff','4-fighter_score_diff','fighter_abs_total_strikes_landed_avg_diff_2','fighter_inf_sub_attempts_avg_diff_2_alt','fighter_inf_sig_strikes_landed_avg_diff_2_alt','fighter_inf_total_strikes_attempts_avg_diff_2','1-fight_math','fighter_inf_body_strikes_attempts_avg_diff_2_alt','fighter_inf_total_strikes_attempts_avg_diff_2','fighter_abs_body_strikes_landed_avg_diff_2','fighter_L2Y_sub_wins_diff_2_alt','fighter_ko_wins_diff_2_alt']\n",
    "    \n",
    "current_best = ['fighter_age_diff',\n",
    " 'fighter_L5Y_losses_diff_2',\n",
    " 'fighter_age_diff_adj',\n",
    " 'fighter_abs_sig_strikes_attempts_avg_diff_2',\n",
    " 'fighter_ko_losses_diff_2',\n",
    " 'fighter_losses_diff_2',\n",
    " 'fighter_L2Y_ko_wins_diff_2',\n",
    " 'fighter_abs_leg_strikes_landed_avg_diff_2',\n",
    " '1-fight_math',\n",
    " 'fighter_abs_sig_strikes_landed_avg_diff_2',\n",
    " 'fighter_abs_total_strikes_landed_avg_diff_2',\n",
    " '4-fighter_score_diff',\n",
    " 'fighter_abs_pass_avg_diff_2']\n",
    "\n",
    "y=ufc_fights_winner['result'].iloc[0:40*75]\n",
    "X=ufc_fights_winner[current_best].iloc[0:40*75]\n",
    "winPredictionModel=LogisticRegression(solver='lbfgs', max_iter=2000, fit_intercept=False)\n",
    "winPredictionModel.fit(X,y)\n",
    "\n",
    "print('model score: '+str(winPredictionModel.score(X,y)))\n",
    "print('cross val score: '+str(model_score(ufc_fights_winner,current_best,40*75,2000)))"
   ]
  },
  {
   "cell_type": "code",
   "execution_count": null,
   "metadata": {},
   "outputs": [
    {
     "name": "stdout",
     "output_type": "stream",
     "text": [
      "['fighter_age_diff', '4-fighter_score_diff', 'fighter_abs_distance_strikes_attempts_avg_diff_2', 'fighter_abs_total_strikes_landed_avg_diff_2'] 0.6340000000000001\n"
     ]
    }
   ],
   "source": [
    "greedy(ufc_fights_winner, possible_stats_diff, 4,40*75)"
   ]
  },
  {
   "cell_type": "code",
   "execution_count": 19,
   "metadata": {},
   "outputs": [
    {
     "name": "stdout",
     "output_type": "stream",
     "text": [
      "model score: 0.6386666666666667\n",
      "cross val score: 0.642\n"
     ]
    }
   ],
   "source": [
    "# current best cross val score is at .642 with ['fighter_age_diff','4-fighter_score_diff','fighter_abs_total_strikes_landed_avg_diff_2','fighter_inf_sub_attempts_avg_diff_2_alt','fighter_inf_sig_strikes_landed_avg_diff_2_alt','fighter_inf_total_strikes_attempts_avg_diff_2','1-fight_math','fighter_inf_body_strikes_attempts_avg_diff_2_alt','fighter_inf_total_strikes_attempts_avg_diff_2','fighter_abs_body_strikes_landed_avg_diff_2','fighter_L2Y_sub_wins_diff_2_alt','fighter_ko_wins_diff_2_alt']\n",
    "    \n",
    "current_best = ['fighter_age_diff',\n",
    "  '4-fighter_score_diff',\n",
    "  'fighter_abs_total_strikes_landed_avg_diff_2',\n",
    "  'fighter_inf_sub_attempts_avg_diff_2_alt',\n",
    "  'fighter_inf_sig_strikes_landed_avg_diff_2_alt',\n",
    "  'fighter_inf_total_strikes_attempts_avg_diff_2',\n",
    "  '1-fight_math',\n",
    "  'fighter_inf_body_strikes_attempts_avg_diff_2_alt',\n",
    "  'fighter_inf_total_strikes_attempts_avg_diff_2',\n",
    "  'fighter_abs_body_strikes_landed_avg_diff_2',\n",
    "  'fighter_L2Y_sub_wins_diff_2_alt',\n",
    "  'fighter_ko_wins_diff_2_alt']\n",
    "\n",
    "y=ufc_fights_winner['result'].iloc[0:40*75]\n",
    "X=ufc_fights_winner[current_best].iloc[0:40*75]\n",
    "winPredictionModel=LogisticRegression(solver='lbfgs', max_iter=2000, fit_intercept=False)\n",
    "winPredictionModel.fit(X,y)\n",
    "\n",
    "print('model score: '+str(winPredictionModel.score(X,y)))\n",
    "print('cross val score: '+str(model_score(ufc_fights_winner,current_best,40*75,2000)))"
   ]
  },
  {
   "cell_type": "code",
   "execution_count": null,
   "metadata": {},
   "outputs": [],
   "source": []
  },
  {
   "cell_type": "code",
   "execution_count": null,
   "metadata": {},
   "outputs": [],
   "source": [
    "#Above is the main part of the notebook (running greedy to find the best feature set)"
   ]
  },
  {
   "cell_type": "code",
   "execution_count": null,
   "metadata": {},
   "outputs": [],
   "source": [
    "#Some experimental cells are shown below... these may not run due to changes made and not updating"
   ]
  },
  {
   "cell_type": "code",
   "execution_count": null,
   "metadata": {},
   "outputs": [],
   "source": []
  },
  {
   "cell_type": "code",
   "execution_count": null,
   "metadata": {},
   "outputs": [],
   "source": [
    "#Now lets see if adding polynomial features in the differences helps (nope)\n",
    "polyWin = PolynomialFeatures(degree = 2)\n",
    "X=ufc_fights_winner[possible_stats]\n",
    "Xrecdiff_poly = polyWin.fit_transform(X)\n",
    "#preprocessing to get mean 0 and standardize variance\n",
    "Xrecdiffpolyscaler = preprocessing.StandardScaler().fit(Xrecdiff_poly)\n",
    "Xrecdiff_poly_scaled = Xrecdiffpolyscaler.transform(Xrecdiff_poly)\n",
    "y=ufc_fights['result']\n",
    "print(Xrecdiff_poly.shape)\n",
    "#lets see our score with degree 2 polynomial features added to rec diff (its much much worse)\n",
    "cross_val_score(winPredictionModel,Xrecdiff_poly_scaled,y,cv=4).mean()"
   ]
  },
  {
   "cell_type": "code",
   "execution_count": null,
   "metadata": {},
   "outputs": [],
   "source": [
    "#this was the highest scoring set before updating from 2020 to 2022 data... it went down by 3%... goddamn (gotta rerun it)\n",
    "#this is the result of calling the above cell: the highest scoring subset yet: \n",
    "#(actually, it was the best at .64 until we modified methodmask to get rid of all split decisions, doctor stoppages, etc)\n",
    "best_so_far = list(set(['opponent_age', 'fighter_age', 'fighter_L5Y_wins_diff_2', 'fighter_abs_total_strikes_landed_avg_diff_2', 'fighter_inf_takedowns_attempts_avg_diff_2', 'fighter_ko_losses_diff_2', 'fighter_inf_total_strikes_attempts_avg_diff_2', 'fighter_L2Y_wins_diff_2', 'fighter_L2Y_sub_losses_diff_2', 'fighter_abs_total_strikes_landed_avg_diff_2', 'fighter_age', 'fighter_abs_takedowns_landed_avg_diff_2']))\n",
    "model_score(ufc_fights,best_so_far)\n"
   ]
  },
  {
   "cell_type": "code",
   "execution_count": null,
   "metadata": {
    "scrolled": true
   },
   "outputs": [],
   "source": [
    "best_smallest_set=list(set(['fighter_age', \n",
    "                            'opponent_age', \n",
    "                            'reach_diff',\n",
    "                            'fighter_L5Y_ko_losses_diff_2', \n",
    "                            'fighter_L5Y_wins_diff_2',\n",
    "                            'fighter_L5Y_losses_diff_2', \n",
    "                            'fighter_abs_total_strikes_landed_avg_diff_2', \n",
    "                            'fighter_inf_takedowns_attempts_avg_diff_2', \n",
    "                            'fighter_abs_ground_strikes_landed_avg_diff_2'\n",
    "]))\n",
    "\n",
    "xx=range(1,100)\n",
    "yy=[]\n",
    "for i in xx:\n",
    "    print(i,model_score(ufc_fights,best_smallest_set,40*i))\n",
    "    yy.append(model_score(ufc_fights,best_smallest_set,40*i))\n",
    "colors=[]\n",
    "for i in xx:\n",
    "    colors.append('red')\n",
    "    \n",
    "plt.rcParams[\"figure.figsize\"] = [7.00, 3.50]\n",
    "plt.rcParams[\"figure.autolayout\"] = True\n",
    "fig = plt.figure()\n",
    "ax = fig.add_subplot()\n",
    "ax.scatter(xx,yy,s=2,c=colors)\n",
    "plt.show() \n",
    "max_value = max(yy)\n",
    "max_index = yy.index(max_value)\n",
    "print('iloc = 40*'+str((max_index+1)), 'score: '+str(yy[max_index]))"
   ]
  },
  {
   "cell_type": "code",
   "execution_count": null,
   "metadata": {
    "scrolled": true
   },
   "outputs": [],
   "source": [
    "#this was the highest scoring set after updating from 2020 to 2022 data... \n",
    "#this is the result of calling the above cell: the highest scoring subset yet: \n",
    "#(actually, it was the best at .64 until we modified methodmask to get rid of all split decisions, doctor stoppages, etc)\n",
    "best_so_far = list(set(['opponent_age',\n",
    "  'fighter_abs_total_strikes_landed_avg_diff_2',\n",
    "  'fighter_age',\n",
    "  'fighter_inf_takedowns_attempts_avg_diff_2',\n",
    "  'fighter_L5Y_ko_losses_diff_2',\n",
    "  'fighter_L5Y_wins_diff_2',\n",
    "  'fighter_abs_ground_strikes_landed_avg_diff_2',\n",
    "  'fighter_L5Y_losses_diff_2',\n",
    "  'reach_diff',\n",
    "  'fighter_L5Y_sub_wins_diff_2',\n",
    "  'fighter_abs_sig_strikes_landed_avg_diff_2',\n",
    "  'fighter_abs_sig_strikes_attempts_avg_diff_2',\n",
    "  'fighter_sub_wins_diff_2',\n",
    "  'fighter_inf_pass_avg_diff_2',\n",
    "  'fighter_inf_clinch_strikes_attempts_avg_diff_2',\n",
    "  'fighter_sub_wins_diff_2',\n",
    "  'fighter_L5Y_sub_wins_diff_2',\n",
    "  'fighter_inf_clinch_strikes_attempts_avg_diff_2']))\n",
    "\n",
    "xx=range(1,100)\n",
    "yy=[]\n",
    "for i in xx:\n",
    "    print(i,model_score(ufc_fights,best_so_far,40*i))\n",
    "    yy.append(model_score(ufc_fights,best_so_far,40*i))\n",
    "colors=[]\n",
    "for i in xx:\n",
    "    colors.append('red')\n",
    "    \n",
    "plt.rcParams[\"figure.figsize\"] = [7.00, 3.50]\n",
    "plt.rcParams[\"figure.autolayout\"] = True\n",
    "fig = plt.figure()\n",
    "ax = fig.add_subplot()\n",
    "ax.scatter(xx,yy,s=2,c=colors)\n",
    "plt.show() \n",
    "max_value = max(yy)\n",
    "max_index = yy.index(max_value)\n",
    "print('iloc = 40*'+str((max_index+1)), 'score: '+str(yy[max_index]))\n",
    "\n",
    "\n"
   ]
  },
  {
   "cell_type": "code",
   "execution_count": null,
   "metadata": {},
   "outputs": [],
   "source": [
    "model_score(ufc_fights,best_so_far,3200)"
   ]
  },
  {
   "cell_type": "code",
   "execution_count": null,
   "metadata": {},
   "outputs": [],
   "source": [
    "#lets see the best number of examples to use. Looks like 40*80 = 3200\n",
    "from sklearn.feature_selection import SelectKBest, chi2\n",
    "xx=range(1,100)\n",
    "yy=[]\n",
    "for i in xx:\n",
    "    print(i,model_score(ufc_fights,best_so_far,40*i))\n",
    "    yy.append(model_score(ufc_fights,best_so_far,40*i))\n",
    "colors=[]\n",
    "for i in xx:\n",
    "    colors.append('red')\n",
    "    \n",
    "plt.rcParams[\"figure.figsize\"] = [7.00, 3.50]\n",
    "plt.rcParams[\"figure.autolayout\"] = True\n",
    "fig = plt.figure()\n",
    "ax = fig.add_subplot()\n",
    "ax.scatter(xx,yy,s=2,c=colors)\n",
    "plt.show() "
   ]
  },
  {
   "cell_type": "code",
   "execution_count": null,
   "metadata": {},
   "outputs": [],
   "source": [
    "greedy(ufc_fights,best_so_far,3)"
   ]
  },
  {
   "cell_type": "code",
   "execution_count": null,
   "metadata": {},
   "outputs": [],
   "source": []
  },
  {
   "cell_type": "code",
   "execution_count": null,
   "metadata": {},
   "outputs": [],
   "source": [
    "#best performing stats from above: (removing the last 2 elements because they did not help performance)\n",
    "best_stats3.pop()\n",
    "best_stats3.pop()\n",
    "best_stats3.pop()\n",
    "best_stats3"
   ]
  },
  {
   "cell_type": "code",
   "execution_count": null,
   "metadata": {},
   "outputs": [],
   "source": [
    "#had some repeats so lets get rid of those\n",
    "best_stats3 = list(set(best_stats3)); best_stats3"
   ]
  },
  {
   "cell_type": "code",
   "execution_count": null,
   "metadata": {},
   "outputs": [],
   "source": [
    "#making sure we still have the .63 accuracy\n",
    "#SO FAR THIS IS THE HIGHEST ACCURACY MODEL (by searching through and combining subsets of stats by hand)\n",
    "model_score(ufc_fights,best_stats3)"
   ]
  },
  {
   "cell_type": "code",
   "execution_count": null,
   "metadata": {},
   "outputs": [],
   "source": [
    "#used this to verify that in every case, switching from having both stats (fighter and opponent) underperforms\n",
    "#having only the difference (fighter...diff_2)\n",
    "best_stats3_modified = ['fighter_abs_total_strikes_landed_avg_diff_2',\n",
    "                        #'opponent_abs_total_strikes_landed_avg',\n",
    " 'fighter_inf_total_strikes_attempts_avg_diff_2',\n",
    " #'opponent_inf_total_strikes_attempts_avg',\n",
    " 'fighter_L2Y_wins_diff_2',\n",
    " 'fighter_age',\n",
    " 'fighter_inf_takedowns_attempts_avg_diff_2',\n",
    " #'opponent_inf_takedowns_attempts_avg',\n",
    " 'fighter_ko_losses_diff_2',\n",
    " 'fighter_L2Y_sub_losses_diff_2',\n",
    " 'fighter_abs_takedowns_landed_avg_diff_2',\n",
    " #'opponent_abs_takedowns_landed_avg',\n",
    " 'opponent_age',\n",
    " 'fighter_L5Y_wins_diff_2']\n",
    "model_score(ufc_fights,best_stats3_modified)"
   ]
  },
  {
   "cell_type": "code",
   "execution_count": null,
   "metadata": {},
   "outputs": [],
   "source": [
    "#Now lets try using some of pythons built in feature selection algorithms and see how they perform\n",
    "#Compare to my .63 (best performing model so far for LR)"
   ]
  },
  {
   "cell_type": "code",
   "execution_count": null,
   "metadata": {},
   "outputs": [],
   "source": [
    "#trying variance threshold feature selection\n",
    "possible_stats=record_statistics_diff+physical_stats_diff+punch_statistics_diff\n",
    "\n",
    "X=ufc_fights[possible_stats].iloc[0:2100]\n",
    "yy=ufc_fights['result'].iloc[0:2100]\n",
    "\n",
    "sel = VarianceThreshold(threshold=(.1))\n",
    "X = sel.fit_transform(X)\n",
    "\n",
    "Xscaler = preprocessing.StandardScaler().fit(X)\n",
    "X_scaled = Xscaler.transform(X) \n",
    "\n",
    "cross_val_score(winPredictionModel,X_scaled,yy,cv=4).mean()"
   ]
  },
  {
   "cell_type": "code",
   "execution_count": null,
   "metadata": {},
   "outputs": [],
   "source": [
    "#selecting k best (max at 12)\n",
    "from sklearn.feature_selection import SelectKBest, chi2\n",
    "possible_stats=record_statistics_diff+physical_stats_diff+punch_statistics_diff\n",
    "xx=range(1,66)\n",
    "yy=[]\n",
    "for i in xx:\n",
    "    X=ufc_fights[possible_stats]\n",
    "    y=ufc_fights['result']\n",
    "    X_new = SelectKBest(k=i).fit_transform(X, y)\n",
    "    yy.append(cross_val_score(winPredictionModel,X_new,y,cv=4).mean())\n",
    "colors=[]\n",
    "for i in xx:\n",
    "    colors.append('red')\n",
    "    \n",
    "plt.rcParams[\"figure.figsize\"] = [7.00, 3.50]\n",
    "plt.rcParams[\"figure.autolayout\"] = True\n",
    "fig = plt.figure()\n",
    "ax = fig.add_subplot()\n",
    "ax.scatter(xx,yy,s=2,c=colors)\n",
    "plt.show()    "
   ]
  },
  {
   "cell_type": "code",
   "execution_count": null,
   "metadata": {},
   "outputs": [],
   "source": [
    "X=ufc_fights[possible_stats]\n",
    "y=ufc_fights['result']\n",
    "twelve_best = SelectKBest(k=34).fit(X, y).get_feature_names_out(possible_stats)\n",
    "model_score(ufc_fights,twelve_best)"
   ]
  },
  {
   "cell_type": "code",
   "execution_count": null,
   "metadata": {},
   "outputs": [],
   "source": [
    "#trying recursive feature elimination \n",
    "import matplotlib.pyplot as plt\n",
    "from sklearn.svm import SVC\n",
    "from sklearn.model_selection import StratifiedKFold\n",
    "from sklearn.feature_selection import RFECV\n",
    "from sklearn.datasets import make_classification\n",
    "\n",
    "X=ufc_fights[possible_stats]\n",
    "y=ufc_fights['result']\n",
    "\n",
    "# Create the RFE object and compute a cross-validated score.\n",
    "svc = SVC(kernel=\"linear\")\n",
    "# The \"accuracy\" scoring shows the proportion of correct classifications\n",
    "\n",
    "min_features_to_select = 1  # Minimum number of features to consider\n",
    "rfecv = RFECV(\n",
    "    estimator=svc,\n",
    "    step=1,\n",
    "    cv=StratifiedKFold(2),\n",
    "    scoring=\"accuracy\",\n",
    "    min_features_to_select=min_features_to_select,\n",
    ")\n",
    "rfecv.fit(X, y)\n",
    "\n",
    "print(\"Optimal number of features : %d\" % rfecv.n_features_)\n",
    "\n",
    "# Plot number of features VS. cross-validation scores\n",
    "plt.figure()\n",
    "plt.xlabel(\"Number of features selected\")\n",
    "plt.ylabel(\"Cross validation score (accuracy)\")\n",
    "plt.plot(\n",
    "    range(min_features_to_select, len(rfecv.grid_scores_) + min_features_to_select),\n",
    "    rfecv.grid_scores_,\n",
    ")\n",
    "plt.show()"
   ]
  },
  {
   "cell_type": "code",
   "execution_count": null,
   "metadata": {},
   "outputs": [],
   "source": [
    "#trying select from model (does not perform well)\n",
    "from sklearn.svm import LinearSVC\n",
    "from sklearn.feature_selection import SelectFromModel\n",
    "X=ufc_fights[possible_stats]\n",
    "y=ufc_fights['result']\n",
    "lsvc = LinearSVC(C=0.03, penalty=\"l1\", dual=False).fit(X, y)\n",
    "model = SelectFromModel(lsvc, prefit=True)\n",
    "X_new = model.transform(X)\n",
    "cross_val_score(winPredictionModel,X_new,y,cv=4).mean()\n"
   ]
  },
  {
   "cell_type": "code",
   "execution_count": null,
   "metadata": {},
   "outputs": [],
   "source": [
    "#using a pipeline with feature selection and MLP classification\n",
    "from sklearn.pipeline import Pipeline\n",
    "X=ufc_fights[possible_stats]\n",
    "y=ufc_fights['result']\n",
    "Xscaler = preprocessing.StandardScaler().fit(X)\n",
    "X_scaled = Xscaler.transform(X) \n",
    "\n",
    "#selecting best number of hidden layers\n",
    "xx=range(10,24)\n",
    "yy=[]\n",
    "for i in xx:\n",
    "    clf = Pipeline([\n",
    "  ('feature_selection', SelectFromModel(LinearSVC(C=0.035, penalty=\"l1\", dual=False))),\n",
    "  ('classification', MLPClassifier(solver='sgd', max_iter=5000, alpha=1e-5, hidden_layer_sizes=(i), random_state=1))\n",
    "])\n",
    "    yy.append(cross_val_score(clf,X_scaled,y,cv=4).mean())\n",
    "colors=[]\n",
    "for i in xx:\n",
    "    colors.append('red')\n",
    "    \n",
    "plt.rcParams[\"figure.figsize\"] = [7.00, 3.50]\n",
    "plt.rcParams[\"figure.autolayout\"] = True\n",
    "fig = plt.figure()\n",
    "ax = fig.add_subplot()\n",
    "ax.scatter(xx,yy,s=2,c=colors)\n",
    "plt.show() "
   ]
  },
  {
   "cell_type": "code",
   "execution_count": null,
   "metadata": {},
   "outputs": [],
   "source": [
    "#using a pipeline with feature selection and MLP classification\n",
    "from sklearn.pipeline import Pipeline\n",
    "X=ufc_fights[possible_stats]\n",
    "y=ufc_fights['result']\n",
    "Xscaler = preprocessing.StandardScaler().fit(X)\n",
    "X_scaled = Xscaler.transform(X) \n",
    "\n",
    "#selecting best number of hidden layers\n",
    "xx=range(25,34)\n",
    "yy=[]\n",
    "for i in xx:\n",
    "    clf = Pipeline([\n",
    "  ('feature_selection', SelectFromModel(LinearSVC(C=0.035, penalty=\"l1\", dual=False))),\n",
    "  ('classification', MLPClassifier(solver='sgd', max_iter=5000, alpha=1e-5, hidden_layer_sizes=(i), random_state=1))\n",
    "])\n",
    "    yy.append(cross_val_score(clf,X_scaled,y,cv=4).mean())\n",
    "colors=[]\n",
    "for i in xx:\n",
    "    colors.append('red')\n",
    "    \n",
    "plt.rcParams[\"figure.figsize\"] = [7.00, 3.50]\n",
    "plt.rcParams[\"figure.autolayout\"] = True\n",
    "fig = plt.figure()\n",
    "ax = fig.add_subplot()\n",
    "ax.scatter(xx,yy,s=2,c=colors)\n",
    "plt.show() "
   ]
  },
  {
   "cell_type": "code",
   "execution_count": null,
   "metadata": {},
   "outputs": [],
   "source": [
    "from sklearn.decomposition import PCA"
   ]
  },
  {
   "cell_type": "code",
   "execution_count": null,
   "metadata": {},
   "outputs": [],
   "source": [
    "possible_stats = record_statistics_diff+physical_stats_diff+punch_statistics_diff"
   ]
  },
  {
   "cell_type": "code",
   "execution_count": null,
   "metadata": {},
   "outputs": [],
   "source": [
    "#we project to two dimensions and make a scatter plot (red for fighter win, green for opponent win)\n",
    "possible_stats = record_statistics_diff+physical_stats_diff+punch_statistics_diff\n",
    "X=ufc_fights[possible_stats]\n",
    "y=ufc_fights['result']\n",
    "pca = PCA(n_components=2, svd_solver='full')\n",
    "Xred_2 = pca.fit_transform(X,y)\n",
    "colors=[]\n",
    "for i in range(len(ufc_fights['result'])):\n",
    "    if list(ufc_fights['result'])[i]=='W':\n",
    "        colors.append('red')\n",
    "    else:\n",
    "        colors.append('green')\n",
    "plt.scatter(Xred_2[:,0],Xred_2[:,1],s=2,c=colors)\n",
    "plt.show()"
   ]
  },
  {
   "cell_type": "code",
   "execution_count": null,
   "metadata": {},
   "outputs": [],
   "source": [
    "#this makes an interactive 3d plot\n",
    "import plotly\n",
    "import plotly.graph_objs as go\n",
    "\n",
    "ilocval=len(ufc_fights['result'])\n",
    "\n",
    "X=ufc_fights[possible_stats].iloc[0:ilocval]\n",
    "y=ufc_fights['result'].iloc[0:ilocval]\n",
    "pca = PCA(n_components=3, svd_solver='full')\n",
    "Xred_3 = pca.fit_transform(X,y)\n",
    "\n",
    "# Configure Plotly to be rendered inline in the notebook.\n",
    "plotly.offline.init_notebook_mode()\n",
    "\n",
    "#making colors\n",
    "colors=[]\n",
    "for i in range(ilocval):\n",
    "    if list(ufc_fights['result'])[i]=='W':\n",
    "        colors.append('red')\n",
    "    else:\n",
    "        colors.append('green')\n",
    "        \n",
    "# Configure the trace.\n",
    "trace = go.Scatter3d(\n",
    "    x=Xred_3[0:ilocval,0],\n",
    "    y=Xred_3[0:ilocval,1],\n",
    "    z=Xred_3[0:ilocval,2],\n",
    "    mode='markers',\n",
    "    marker={'size': 5,'opacity': 0.8,'color': colors})\n",
    "\n",
    "# Configure the layout.\n",
    "layout = go.Layout(margin={'l': 0, 'r': 0, 'b': 0, 't': 0})\n",
    "data = [trace]\n",
    "plot_figure = go.Figure(data=data, layout=layout)\n",
    "\n",
    "# Render the plot.\n",
    "plotly.offline.iplot(plot_figure)"
   ]
  },
  {
   "cell_type": "code",
   "execution_count": null,
   "metadata": {},
   "outputs": [],
   "source": [
    "print(pca.explained_variance_ratio_)"
   ]
  },
  {
   "cell_type": "code",
   "execution_count": null,
   "metadata": {},
   "outputs": [],
   "source": [
    "#getting score of model with i principal components and all stats\n",
    "y=ufc_fights['result']\n",
    "for i in range(1,len(possible_stats)):\n",
    "    X=ufc_fights[possible_stats]\n",
    "    pca = PCA(n_components=i, svd_solver='full')\n",
    "    Xred_3 = pca.fit_transform(X,y)\n",
    "    print(i,cross_val_score(winPredictionModel,Xred_3,y,cv=4).mean())"
   ]
  },
  {
   "cell_type": "code",
   "execution_count": null,
   "metadata": {},
   "outputs": [],
   "source": [
    "#Now lets see if adding polynomial features in the differences helps (did not help at all... made it much worse)\n",
    "yyy=ufc_fights['result'].iloc[0:2100]\n",
    "polyWin = PolynomialFeatures(degree = 3, interaction_only=False, include_bias=False)\n",
    "XXX=ufc_fights[best_stats3].iloc[0:2100]\n",
    "XXX_poly = polyWin.fit_transform(XXX)\n",
    "#XXXscaler = preprocessing.StandardScaler().fit(XXX_poly)\n",
    "#XXX_poly_scaled = XXXscaler.transform(XXX_poly) \n",
    "cross_val_score(winPredictionModel,XXX_poly_scaled,yyy,cv=4).mean()"
   ]
  }
 ],
 "metadata": {
  "kernelspec": {
   "display_name": "Python 3 (ipykernel)",
   "language": "python",
   "name": "python3"
  },
  "language_info": {
   "codemirror_mode": {
    "name": "ipython",
    "version": 3
   },
   "file_extension": ".py",
   "mimetype": "text/x-python",
   "name": "python",
   "nbconvert_exporter": "python",
   "pygments_lexer": "ipython3",
   "version": "3.9.10"
  }
 },
 "nbformat": 4,
 "nbformat_minor": 2
}
