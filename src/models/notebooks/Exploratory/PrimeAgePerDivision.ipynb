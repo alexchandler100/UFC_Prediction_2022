{
 "cells": [
  {
   "cell_type": "code",
   "execution_count": 1,
   "metadata": {},
   "outputs": [
    {
     "name": "stdout",
     "output_type": "stream",
     "text": [
      "Changed working directory to C:\\Users\\Alex\\OneDrive\\Documents\\GitHub\\UFC_Prediction_2022\\src\n"
     ]
    }
   ],
   "source": [
    "import git, os, sys\n",
    "git_repo = git.Repo(os.getcwd(), search_parent_directories=True)\n",
    "git_root = git_repo.git.rev_parse(\"--show-toplevel\")\n",
    "os.chdir(f'{git_root}/src')\n",
    "sys.path.append(os.path.abspath(os.path.join(f'{git_root}/src')))\n",
    "print(f'Changed working directory to {os.getcwd()}')"
   ]
  },
  {
   "cell_type": "code",
   "execution_count": 2,
   "metadata": {},
   "outputs": [],
   "source": [
    "#getting dependencies\n",
    "import pandas as pd\n",
    "pd.options.mode.chained_assignment = None  # default='warn' (disables SettingWithCopyWarning)\n",
    "pd.set_option('display.max_rows', None)\n",
    "pd.set_option('display.max_columns', None)\n",
    "import numpy as np\n",
    "from datetime import datetime\n",
    "from datetime import date\n",
    "import matplotlib.pyplot as plt\n",
    "import random\n",
    "import sklearn\n",
    "import scipy\n",
    "from sklearn.linear_model import LogisticRegression\n",
    "from sklearn.ensemble import RandomForestClassifier\n",
    "from sklearn.neural_network import MLPClassifier\n",
    "from sklearn.model_selection import train_test_split, KFold, cross_val_score\n",
    "from sklearn import preprocessing\n",
    "from sklearn.preprocessing import PolynomialFeatures\n",
    "from sklearn.feature_selection import VarianceThreshold\n",
    "import itertools\n",
    "\n",
    "# from fight_stat_helpers import *"
   ]
  },
  {
   "cell_type": "code",
   "execution_count": null,
   "metadata": {},
   "outputs": [],
   "source": [
    "from sklearn.metrics import get_scorer_names"
   ]
  },
  {
   "cell_type": "code",
   "execution_count": null,
   "metadata": {},
   "outputs": [],
   "source": [
    "print(get_scorer_names())"
   ]
  },
  {
   "cell_type": "code",
   "execution_count": 3,
   "metadata": {},
   "outputs": [],
   "source": [
    "#scores a model\n",
    "def model_score(dataframe, features, iloc_val = 3200, _max_iter = 2000, scoring='neg_log_loss', scaled=True):\n",
    "    yyy=dataframe['result'].iloc[0:iloc_val] # TODO we use result or fighter result depending on the dataframe... this is not ideal\n",
    "    XXX=dataframe[features].iloc[0:iloc_val]\n",
    "    XXXscaler = preprocessing.StandardScaler().fit(XXX)\n",
    "    XXX_scaled = XXXscaler.transform(XXX) \n",
    "    X = XXX_scaled if scaled else XXX\n",
    "    winPredictionModel=LogisticRegression(solver='lbfgs', max_iter=_max_iter, fit_intercept=False)\n",
    "    # find the cross val score with log loss\n",
    "    return cross_val_score(winPredictionModel,X,yyy,cv=4,scoring=scoring).mean()"
   ]
  },
  {
   "cell_type": "code",
   "execution_count": 4,
   "metadata": {},
   "outputs": [
    {
     "data": {
      "text/html": [
       "<div>\n",
       "<style scoped>\n",
       "    .dataframe tbody tr th:only-of-type {\n",
       "        vertical-align: middle;\n",
       "    }\n",
       "\n",
       "    .dataframe tbody tr th {\n",
       "        vertical-align: top;\n",
       "    }\n",
       "\n",
       "    .dataframe thead th {\n",
       "        text-align: right;\n",
       "    }\n",
       "</style>\n",
       "<table border=\"1\" class=\"dataframe\">\n",
       "  <thead>\n",
       "    <tr style=\"text-align: right;\">\n",
       "      <th></th>\n",
       "      <th>fighter_age</th>\n",
       "      <th>opponent_age</th>\n",
       "      <th>fighter_result</th>\n",
       "    </tr>\n",
       "  </thead>\n",
       "  <tbody>\n",
       "    <tr>\n",
       "      <th>16457</th>\n",
       "      <td>40.424367</td>\n",
       "      <td>25.596167</td>\n",
       "      <td>W</td>\n",
       "    </tr>\n",
       "    <tr>\n",
       "      <th>16456</th>\n",
       "      <td>27.893224</td>\n",
       "      <td>42.414784</td>\n",
       "      <td>W</td>\n",
       "    </tr>\n",
       "    <tr>\n",
       "      <th>16455</th>\n",
       "      <td>33.138946</td>\n",
       "      <td>37.295003</td>\n",
       "      <td>W</td>\n",
       "    </tr>\n",
       "    <tr>\n",
       "      <th>16454</th>\n",
       "      <td>37.097878</td>\n",
       "      <td>29.711157</td>\n",
       "      <td>L</td>\n",
       "    </tr>\n",
       "    <tr>\n",
       "      <th>16453</th>\n",
       "      <td>27.871321</td>\n",
       "      <td>37.672827</td>\n",
       "      <td>W</td>\n",
       "    </tr>\n",
       "  </tbody>\n",
       "</table>\n",
       "</div>"
      ],
      "text/plain": [
       "       fighter_age  opponent_age fighter_result\n",
       "16457    40.424367     25.596167              W\n",
       "16456    27.893224     42.414784              W\n",
       "16455    33.138946     37.295003              W\n",
       "16454    37.097878     29.711157              L\n",
       "16453    27.871321     37.672827              W"
      ]
     },
     "execution_count": 4,
     "metadata": {},
     "output_type": "execute_result"
    }
   ],
   "source": [
    "ufc_fights_predictive_doubled_path = f'{git_root}/src/content/data/processed/ufc_fights_predictive_doubled.csv'\n",
    "ufc_fights_predictive_doubled = pd.read_csv(ufc_fights_predictive_doubled_path)\n",
    "ufc_fights_predictive_doubled[['fighter_age', 'opponent_age', 'fighter_result']][::-1].head()\n",
    "\n",
    "# try this later\n",
    "# ufc_fights_predictive_doubled_path = f'{git_root}/src/content/data/processed/ufc_fights_predictive_doubled.csv'\n",
    "# ufc_fights_predictive_doubled = pd.read_csv(ufc_fights_predictive_doubled_path)"
   ]
  },
  {
   "cell_type": "code",
   "execution_count": 5,
   "metadata": {},
   "outputs": [
    {
     "name": "stdout",
     "output_type": "stream",
     "text": [
      "Score for fighter_age and opponent_age: 0.485625\n",
      "Score for fighter_age and opponent_age with diffs: 0.5390625\n"
     ]
    }
   ],
   "source": [
    "# train a model just on fighter_age and opponent_age\n",
    "# first drop rows with NaN in fighter_age or opponent_age\n",
    "age_df = ufc_fights_predictive_doubled.dropna(subset=['fighter_age', 'opponent_age', 'fighter_result']).copy()\n",
    "age_df['result'] = age_df['fighter_result']  # rename for consistency with model_score function\n",
    "# add difference columns\n",
    "age_df['age_diff'] = age_df['fighter_age'] - age_df['opponent_age']\n",
    "\n",
    "# check the model score\n",
    "features = ['fighter_age', 'opponent_age']\n",
    "score = model_score(age_df, features, iloc_val=3200, _max_iter=2000, scoring='accuracy', scaled=True)\n",
    "print(f'Score for fighter_age and opponent_age: {score}')\n",
    "\n",
    "# check the model score\n",
    "features = ['age_diff']\n",
    "score = model_score(age_df, features, iloc_val=3200, _max_iter=2000, scoring='accuracy', scaled=True)\n",
    "print(f'Score for fighter_age and opponent_age with diffs: {score}')\n"
   ]
  },
  {
   "cell_type": "code",
   "execution_count": 12,
   "metadata": {},
   "outputs": [
    {
     "name": "stdout",
     "output_type": "stream",
     "text": [
      "Score for age_diff from predictive diffs: 0.54125\n"
     ]
    }
   ],
   "source": [
    "# check this by grabbing the age diff from the predictive diffs dataframe\n",
    "ufc_fights_predictive_diffs_path = f'{git_root}/src/content/data/processed/ufc_fights_predictive_flattened_diffs.csv'\n",
    "ufc_fights_predictive_diffs = pd.read_csv(ufc_fights_predictive_diffs_path)\n",
    "df = ufc_fights_predictive_diffs.dropna(subset=['age_diff', 'result']).copy()\n",
    "features = ['age_diff']\n",
    "score = model_score(df, features, iloc_val=3200, _max_iter=2000, scoring='accuracy', scaled=True)\n",
    "print(f'Score for age_diff from predictive diffs: {score}')"
   ]
  },
  {
   "cell_type": "code",
   "execution_count": 13,
   "metadata": {},
   "outputs": [
    {
     "name": "stdout",
     "output_type": "stream",
     "text": [
      "['Open Weight' 'Lightweight' 'Heavyweight' 'Middleweight' 'Welterweight'\n",
      " 'Super Heavyweight' 'Light Heavyweight' 'Catch Weight' 'Featherweight'\n",
      " 'Bantamweight' 'Flyweight' \"Women's Bantamweight\" \"Women's Strawweight\"\n",
      " \"Women's Flyweight\" \"Women's Featherweight\"]\n"
     ]
    }
   ],
   "source": [
    "# filter by division\n",
    "# print out all unique divisions\n",
    "print(ufc_fights_predictive_doubled['fighter_division'].unique())"
   ]
  },
  {
   "cell_type": "code",
   "execution_count": 14,
   "metadata": {},
   "outputs": [],
   "source": [
    "# specify the divisions we care about\n",
    "divisions = [\n",
    "    'Flyweight',\n",
    "    'Bantamweight',\n",
    "    'Featherweight',\n",
    "    'Lightweight',\n",
    "    'Welterweight',\n",
    "    'Middleweight',\n",
    "    'Light Heavyweight',\n",
    "    'Heavyweight',\n",
    "    \"Women's Bantamweight\", \n",
    "    \"Women's Strawweight\",\n",
    "    \"Women's Flyweight\",\n",
    "    \"Women's Featherweight\",\n",
    "]"
   ]
  },
  {
   "cell_type": "code",
   "execution_count": 15,
   "metadata": {},
   "outputs": [
    {
     "name": "stdout",
     "output_type": "stream",
     "text": [
      "fighter_division\n",
      "Lightweight              2794\n",
      "Welterweight             2686\n",
      "Middleweight             2172\n",
      "Featherweight            1620\n",
      "Heavyweight              1472\n",
      "Bantamweight             1460\n",
      "Light Heavyweight        1432\n",
      "Flyweight                 760\n",
      "Women's Strawweight       684\n",
      "Women's Flyweight         514\n",
      "Women's Bantamweight      454\n",
      "Open Weight               204\n",
      "Catch Weight              144\n",
      "Women's Featherweight      60\n",
      "Super Heavyweight           2\n",
      "Name: count, dtype: int64\n"
     ]
    }
   ],
   "source": [
    "# get counts of fights per division\n",
    "division_counts = ufc_fights_predictive_doubled['fighter_division'].value_counts()\n",
    "print(division_counts)"
   ]
  },
  {
   "cell_type": "code",
   "execution_count": 18,
   "metadata": {},
   "outputs": [
    {
     "name": "stdout",
     "output_type": "stream",
     "text": [
      "Optimal age: 18, Score: 0.5872434017595308, Features: ['fighter_age_over_optimal_18_diff', 'fighter_age_under_optimal_18_diff']\n",
      "New best score: 0.5872434017595308 with optimal age 18 and features ['fighter_age_over_optimal_18_diff', 'fighter_age_under_optimal_18_diff']\n",
      "Optimal age: 19, Score: 0.5872434017595308, Features: ['fighter_age_over_optimal_19_diff', 'fighter_age_under_optimal_19_diff']\n",
      "Optimal age: 20, Score: 0.5872434017595308, Features: ['fighter_age_over_optimal_20_diff', 'fighter_age_under_optimal_20_diff']\n",
      "Optimal age: 21, Score: 0.5865102639296188, Features: ['fighter_age_over_optimal_21_diff', 'fighter_age_under_optimal_21_diff']\n",
      "Optimal age: 22, Score: 0.5872434017595308, Features: ['fighter_age_over_optimal_22_diff', 'fighter_age_under_optimal_22_diff']\n",
      "Optimal age: 23, Score: 0.5854105571847508, Features: ['fighter_age_over_optimal_23_diff', 'fighter_age_under_optimal_23_diff']\n",
      "Optimal age: 24, Score: 0.5791788856304986, Features: ['fighter_age_over_optimal_24_diff', 'fighter_age_under_optimal_24_diff']\n",
      "Optimal age: 25, Score: 0.5700146627565982, Features: ['fighter_age_over_optimal_25_diff', 'fighter_age_under_optimal_25_diff']\n",
      "Optimal age: 26, Score: 0.5593841642228738, Features: ['fighter_age_over_optimal_26_diff', 'fighter_age_under_optimal_26_diff']\n",
      "Optimal age: 27, Score: 0.563049853372434, Features: ['fighter_age_over_optimal_27_diff', 'fighter_age_under_optimal_27_diff']\n",
      "Optimal age: 28, Score: 0.5399560117302052, Features: ['fighter_age_over_optimal_28_diff', 'fighter_age_under_optimal_28_diff']\n",
      "Optimal age: 29, Score: 0.5872434017595308, Features: ['fighter_age_over_optimal_29_diff', 'fighter_age_under_optimal_29_diff']\n",
      "Optimal age: 30, Score: 0.5872434017595308, Features: ['fighter_age_over_optimal_30_diff', 'fighter_age_under_optimal_30_diff']\n",
      "Optimal age: 31, Score: 0.5872434017595308, Features: ['fighter_age_over_optimal_31_diff', 'fighter_age_under_optimal_31_diff']\n",
      "Optimal age: 32, Score: 0.5872434017595308, Features: ['fighter_age_over_optimal_32_diff', 'fighter_age_under_optimal_32_diff']\n",
      "Optimal age: 33, Score: 0.5872434017595308, Features: ['fighter_age_over_optimal_33_diff', 'fighter_age_under_optimal_33_diff']\n",
      "Optimal age: 34, Score: 0.5872434017595308, Features: ['fighter_age_over_optimal_34_diff', 'fighter_age_under_optimal_34_diff']\n",
      "Optimal age: 35, Score: 0.5872434017595308, Features: ['fighter_age_over_optimal_35_diff', 'fighter_age_under_optimal_35_diff']\n",
      "Optimal age: 36, Score: 0.5872434017595308, Features: ['fighter_age_over_optimal_36_diff', 'fighter_age_under_optimal_36_diff']\n",
      "Optimal age: 37, Score: 0.5872434017595308, Features: ['fighter_age_over_optimal_37_diff', 'fighter_age_under_optimal_37_diff']\n",
      "Optimal age: 38, Score: 0.5872434017595308, Features: ['fighter_age_over_optimal_38_diff', 'fighter_age_under_optimal_38_diff']\n",
      "Optimal age: 39, Score: 0.5872434017595308, Features: ['fighter_age_over_optimal_39_diff', 'fighter_age_under_optimal_39_diff']\n"
     ]
    }
   ],
   "source": [
    "df = ufc_fights_predictive_doubled[ufc_fights_predictive_doubled['fighter_division'] == 'Lightweight'].copy()\n",
    "age_cols_dict = {}\n",
    "age_cols_diffs_dict = {}\n",
    "for optimal_age in range(18, 40):\n",
    "    fighter_age_over_optimal = df['fighter_age'] - optimal_age\n",
    "    # take the min of this and 0\n",
    "    fighter_age_over_optimal = fighter_age_over_optimal.clip(lower=0)\n",
    "    opponent_age_over_optimal = df['opponent_age'] - optimal_age\n",
    "    opponent_age_over_optimal = opponent_age_over_optimal.clip(lower=0)\n",
    "    age_cols_dict[f'fighter_age_over_optimal_{optimal_age}'] = fighter_age_over_optimal\n",
    "    age_cols_dict[f'opponent_age_over_optimal_{optimal_age}'] = opponent_age_over_optimal\n",
    "    # do the same for under optimal\n",
    "    fighter_age_under_optimal = optimal_age - df['fighter_age']\n",
    "    fighter_age_under_optimal = fighter_age_under_optimal.clip(lower=0)\n",
    "    opponent_age_under_optimal = optimal_age - df['opponent_age']\n",
    "    opponent_age_under_optimal = opponent_age_under_optimal.clip(lower=0)\n",
    "    age_cols_dict[f'fighter_age_under_optimal_{optimal_age}'] = fighter_age_under_optimal\n",
    "    age_cols_dict[f'opponent_age_under_optimal_{optimal_age}'] = opponent_age_under_optimal\n",
    "    # add the diffs\n",
    "    age_cols_diffs_dict[f'fighter_age_over_optimal_{optimal_age}_diff'] = fighter_age_over_optimal - opponent_age_over_optimal\n",
    "    age_cols_diffs_dict[f'fighter_age_under_optimal_{optimal_age}_diff'] = fighter_age_under_optimal - opponent_age_under_optimal\n",
    "    \n",
    "# make a dataframe from the age_cols_dict\n",
    "age_cols_df = pd.DataFrame(age_cols_diffs_dict)\n",
    "age_cols_df['result'] = df['fighter_result']\n",
    "# remove rows with nan\n",
    "age_cols_df = age_cols_df.dropna()\n",
    "best_score = 0\n",
    "best_optimal_age = None\n",
    "\n",
    "for optimal_age in range(18, 40):\n",
    "    # score a model with the diffs features\n",
    "    features = [f'fighter_age_over_optimal_{optimal_age}_diff', f'fighter_age_under_optimal_{optimal_age}_diff']\n",
    "    score = model_score(age_cols_df, features, iloc_val=3200, _max_iter=2000, scoring='accuracy', scaled=True)\n",
    "    print(f'Optimal age: {optimal_age}, Score: {score}, Features: {features}')\n",
    "    if score > best_score:\n",
    "        best_score = score\n",
    "        best_optimal_age = optimal_age\n",
    "        print(f'New best score: {best_score} with optimal age {optimal_age} and features {features}')\n"
   ]
  },
  {
   "cell_type": "code",
   "execution_count": 17,
   "metadata": {},
   "outputs": [
    {
     "name": "stdout",
     "output_type": "stream",
     "text": [
      "Optimal age: 18, Score: 0.5872434017595308, Features: ['fighter_age_dist_from_optimal_18_diff']\n",
      "New best score: 0.5872434017595308 with optimal age 18 and features ['fighter_age_dist_from_optimal_18_diff']\n",
      "Optimal age: 19, Score: 0.5872434017595308, Features: ['fighter_age_dist_from_optimal_19_diff']\n",
      "Optimal age: 20, Score: 0.5872434017595308, Features: ['fighter_age_dist_from_optimal_20_diff']\n",
      "Optimal age: 21, Score: 0.5872434017595308, Features: ['fighter_age_dist_from_optimal_21_diff']\n",
      "Optimal age: 22, Score: 0.5879765395894428, Features: ['fighter_age_dist_from_optimal_22_diff']\n",
      "New best score: 0.5879765395894428 with optimal age 22 and features ['fighter_age_dist_from_optimal_22_diff']\n",
      "Optimal age: 23, Score: 0.5865102639296188, Features: ['fighter_age_dist_from_optimal_23_diff']\n",
      "Optimal age: 24, Score: 0.5821114369501467, Features: ['fighter_age_dist_from_optimal_24_diff']\n",
      "Optimal age: 25, Score: 0.5769794721407625, Features: ['fighter_age_dist_from_optimal_25_diff']\n",
      "Optimal age: 26, Score: 0.5740469208211144, Features: ['fighter_age_dist_from_optimal_26_diff']\n",
      "Optimal age: 27, Score: 0.5777126099706745, Features: ['fighter_age_dist_from_optimal_27_diff']\n",
      "Optimal age: 28, Score: 0.5542521994134897, Features: ['fighter_age_dist_from_optimal_28_diff']\n",
      "Optimal age: 29, Score: 0.5263929618768328, Features: ['fighter_age_dist_from_optimal_29_diff']\n",
      "Optimal age: 30, Score: 0.5139296187683284, Features: ['fighter_age_dist_from_optimal_30_diff']\n",
      "Optimal age: 31, Score: 0.4593108504398827, Features: ['fighter_age_dist_from_optimal_31_diff']\n",
      "Optimal age: 32, Score: 0.5271260997067448, Features: ['fighter_age_dist_from_optimal_32_diff']\n",
      "Optimal age: 33, Score: 0.5454545454545454, Features: ['fighter_age_dist_from_optimal_33_diff']\n",
      "Optimal age: 34, Score: 0.5681818181818181, Features: ['fighter_age_dist_from_optimal_34_diff']\n",
      "Optimal age: 35, Score: 0.5740469208211143, Features: ['fighter_age_dist_from_optimal_35_diff']\n",
      "Optimal age: 36, Score: 0.5813782991202346, Features: ['fighter_age_dist_from_optimal_36_diff']\n",
      "Optimal age: 37, Score: 0.5857771260997068, Features: ['fighter_age_dist_from_optimal_37_diff']\n",
      "Optimal age: 38, Score: 0.5843108504398827, Features: ['fighter_age_dist_from_optimal_38_diff']\n",
      "Optimal age: 39, Score: 0.5865102639296188, Features: ['fighter_age_dist_from_optimal_39_diff']\n"
     ]
    }
   ],
   "source": [
    "df = ufc_fights_predictive_doubled[ufc_fights_predictive_doubled['fighter_division'] == 'Lightweight'].copy()\n",
    "age_cols_dict = {}\n",
    "age_cols_diffs_dict = {}\n",
    "for optimal_age in range(18, 40):\n",
    "    fighter_age_dist_from_optimal = (df['fighter_age'] - optimal_age ).abs()\n",
    "    opponent_age_dist_from_optimal = (df['opponent_age'] - optimal_age ).abs()\n",
    "    age_cols_diffs_dict[f'fighter_age_dist_from_optimal_{optimal_age}_diff'] = fighter_age_dist_from_optimal - opponent_age_dist_from_optimal\n",
    "    \n",
    "# make a dataframe from the age_cols_dict\n",
    "age_cols_df = pd.DataFrame(age_cols_diffs_dict)\n",
    "age_cols_df['result'] = df['fighter_result']\n",
    "# remove rows with nan\n",
    "age_cols_df = age_cols_df.dropna()\n",
    "best_score = 0\n",
    "best_optimal_age = None\n",
    "\n",
    "for optimal_age in range(18, 40):\n",
    "    # score a model with the diffs features\n",
    "    features = [f'fighter_age_dist_from_optimal_{optimal_age}_diff']\n",
    "    score = model_score(age_cols_df, features, iloc_val=3200, _max_iter=2000, scoring='accuracy', scaled=True)\n",
    "    print(f'Optimal age: {optimal_age}, Score: {score}, Features: {features}')\n",
    "    if score > best_score:\n",
    "        best_score = score\n",
    "        best_optimal_age = optimal_age\n",
    "        print(f'New best score: {best_score} with optimal age {optimal_age} and features {features}')\n"
   ]
  },
  {
   "cell_type": "markdown",
   "metadata": {},
   "source": [
    "# TODO figure out whats going on with this... it should help to use an optimal age but these do not look right..."
   ]
  }
 ],
 "metadata": {
  "kernelspec": {
   "display_name": "Python 3",
   "language": "python",
   "name": "python3"
  },
  "language_info": {
   "codemirror_mode": {
    "name": "ipython",
    "version": 3
   },
   "file_extension": ".py",
   "mimetype": "text/x-python",
   "name": "python",
   "nbconvert_exporter": "python",
   "pygments_lexer": "ipython3",
   "version": "3.11.0"
  }
 },
 "nbformat": 4,
 "nbformat_minor": 2
}
