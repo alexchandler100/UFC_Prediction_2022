{
 "cells": [
  {
   "cell_type": "code",
   "execution_count": 1,
   "metadata": {},
   "outputs": [
    {
     "name": "stdout",
     "output_type": "stream",
     "text": [
      "Changed working directory to C:\\Users\\Alex\\OneDrive\\Documents\\GitHub\\UFC_Prediction_2022\\src\n"
     ]
    }
   ],
   "source": [
    "\n",
    "# standard library imports\n",
    "import git, os, sys\n",
    "\n",
    "git_repo = git.Repo(os.getcwd(), search_parent_directories=True)\n",
    "git_root = git_repo.git.rev_parse(\"--show-toplevel\")\n",
    "os.chdir(f'{git_root}/src')\n",
    "sys.path.append(os.path.abspath(os.path.join(f'{git_root}/src')))\n",
    "print(f'Changed working directory to {os.getcwd()}')\n",
    "\n",
    "# local imports\n",
    "from fight_stat_helpers import *\n",
    "from data_handler import DataHandler"
   ]
  },
  {
   "cell_type": "markdown",
   "metadata": {},
   "source": [
    "# TODO import these functions from fight_stat_helpers like in the womens notebook"
   ]
  },
  {
   "cell_type": "markdown",
   "metadata": {},
   "source": [
    "# NEW FEATURES\n",
    "\n",
    "- Dominance Score for a single fight: (total score of fighter based on events in the fight) - (total score of opponent based on events in the fight)\n",
    "- Average Dominance over time scales\n",
    "- Fighter Scores\n",
    "- Fight Math\n",
    "- Fighter Score increments based on closeness of fights with opponents with high scores \n",
    "\n",
    "# Other things to try\n",
    "- with or without regularization\n",
    "- with or without scaling\n",
    "- with or without sum features (seems like only age needs sum features)\n",
    "- with or without squared features (seems like only age needs squared features)\n",
    "- Decide whether to include SDEC in bullshit or not\n",
    "- Do linear reg on draws and SDEC and see how this compares to log reg plane (hypothesis: they are the same plane since close fights should be near the plane boundary)"
   ]
  },
  {
   "cell_type": "code",
   "execution_count": 2,
   "metadata": {},
   "outputs": [],
   "source": [
    "dh = DataHandler()\n",
    "# get reported derived doubled data\n",
    "ufc_fights_reported_derived_doubled = dh.get('ufc_fights_reported_derived_doubled')"
   ]
  },
  {
   "cell_type": "code",
   "execution_count": 3,
   "metadata": {},
   "outputs": [],
   "source": [
    "ufc_fights_predictive_flattened_diffs = dh.make_ufc_fights_predictive_flattened_diffs(ufc_fights_reported_derived_doubled)\n",
    "ufc_fights_predictive_flattened_diffs = dh.clean_ufc_fights_for_winner_prediction(ufc_fights_predictive_flattened_diffs)"
   ]
  },
  {
   "cell_type": "code",
   "execution_count": 4,
   "metadata": {},
   "outputs": [
    {
     "name": "stdout",
     "output_type": "stream",
     "text": [
      "division\n",
      "Lightweight              1059\n",
      "Welterweight             1016\n",
      "Middleweight              820\n",
      "Featherweight             669\n",
      "Bantamweight              593\n",
      "Light Heavyweight         578\n",
      "Heavyweight               525\n",
      "Flyweight                 305\n",
      "Women's Strawweight       274\n",
      "Women's Flyweight         222\n",
      "Women's Bantamweight      178\n",
      "Catch Weight               62\n",
      "Women's Featherweight      26\n",
      "Name: count, dtype: int64\n"
     ]
    }
   ],
   "source": [
    "# show division counts\n",
    "print(ufc_fights_predictive_flattened_diffs['division'].value_counts())"
   ]
  },
  {
   "cell_type": "code",
   "execution_count": 5,
   "metadata": {},
   "outputs": [
    {
     "data": {
      "text/plain": [
       "(1923, 321)"
      ]
     },
     "execution_count": 5,
     "metadata": {},
     "output_type": "execute_result"
    }
   ],
   "source": [
    "# filter by division. start with just lightweight and featherweight\n",
    "division_mask = ufc_fights_predictive_flattened_diffs['division'].isin(['Middleweight', 'Light Heavyweight', 'Heavyweight'])\n",
    "ufc_fights_predictive_flattened_diffs_welter_heavy = ufc_fights_predictive_flattened_diffs[division_mask]\n",
    "ufc_fights_predictive_flattened_diffs_welter_heavy.shape"
   ]
  },
  {
   "cell_type": "code",
   "execution_count": 6,
   "metadata": {},
   "outputs": [],
   "source": [
    "# drop the 'fighter_result' column and opponent_result column as it is not needed for the model and also fighter and opponent columns\n",
    "X = ufc_fights_predictive_flattened_diffs_welter_heavy.drop(columns=['fighter', 'opponent', 'method', 'division'])\n",
    "# KEEP result in X as this is what model_score is expecting for better or for worse\n",
    "y = X['result']"
   ]
  },
  {
   "cell_type": "code",
   "execution_count": 7,
   "metadata": {},
   "outputs": [],
   "source": [
    "from sklearn.model_selection import train_test_split\n",
    "X_train, X_test, y_train, y_test = train_test_split(X, y, test_size=0.2, random_state=67)"
   ]
  },
  {
   "cell_type": "markdown",
   "metadata": {},
   "source": [
    "# Use the entire data set with all features as a baseline"
   ]
  },
  {
   "cell_type": "code",
   "execution_count": 8,
   "metadata": {},
   "outputs": [
    {
     "name": "stdout",
     "output_type": "stream",
     "text": [
      "Training set size: (1538, 317) accuracy: 0.682704811443433\n",
      "Test set size: (385, 317) accuracy: 0.5688311688311688\n",
      "Test set neg log loss: -0.7205365271015797. Probability to observe data given model: 0.4864911702289424\n"
     ]
    }
   ],
   "source": [
    "all_features = X_train.columns.tolist()\n",
    "# remove result from all_features\n",
    "if 'result' in all_features:\n",
    "    all_features.remove('result')\n",
    "model_test_score(X_train, X_test, all_features, _max_iter = 20000, scaled=True)"
   ]
  },
  {
   "cell_type": "code",
   "execution_count": 9,
   "metadata": {},
   "outputs": [
    {
     "name": "stdout",
     "output_type": "stream",
     "text": [
      "Starting with an empty feature set.\n",
      "Added single feature: l5y_overall_fighter_score_diff\n",
      "Negative log loss on training set: -0.6822027601656487\n",
      "Training set size: (1538, 317) accuracy: 0.5799739921976593\n",
      "Test set size: (385, 317) accuracy: 0.5792207792207792\n",
      "Test set neg log loss: -0.6764249545159698. Probability to observe data given model: 0.5084314125411057\n",
      "Added single feature: age_diff\n",
      "Negative log loss on training set: -0.6770066410283959\n",
      "Training set size: (1538, 317) accuracy: 0.5858257477243173\n",
      "Test set size: (385, 317) accuracy: 0.5896103896103896\n",
      "Test set neg log loss: -0.6712351694013536. Probability to observe data given model: 0.511076921190607\n",
      "Added single feature: l3y_abs_control_per_min_diff\n",
      "Negative log loss on training set: -0.6731252263886559\n",
      "Training set size: (1538, 317) accuracy: 0.5955786736020806\n",
      "Test set size: (385, 317) accuracy: 0.5792207792207792\n",
      "Test set neg log loss: -0.6793005275997906. Probability to observe data given model: 0.5069714809322575\n",
      "Added single feature: reach_diff\n",
      "Negative log loss on training set: -0.6688420986249878\n",
      "Training set size: (1538, 317) accuracy: 0.5923276983094928\n",
      "Test set size: (385, 317) accuracy: 0.6025974025974026\n",
      "Test set neg log loss: -0.6733068107513297. Probability to observe data given model: 0.5100192490445937\n",
      "Added single feature: l1y_inf_ground_strikes_accuracy_diff\n",
      "Negative log loss on training set: -0.6644390373793344\n",
      "Training set size: (1538, 317) accuracy: 0.5955786736020806\n",
      "Test set size: (385, 317) accuracy: 0.5766233766233766\n",
      "Test set neg log loss: -0.6753069799114612. Probability to observe data given model: 0.5090001438027782\n",
      "Added single feature: l5y_wins_wins_diff\n",
      "Negative log loss on training set: -0.6603479787338185\n",
      "Training set size: (1538, 317) accuracy: 0.6144343302990898\n",
      "Test set size: (385, 317) accuracy: 0.587012987012987\n",
      "Test set neg log loss: -0.6716021539277521. Probability to observe data given model: 0.5108893982798386\n",
      "Added single feature: l1y_abs_takedowns_attempts_per_min_diff\n",
      "Negative log loss on training set: -0.6567602837045872\n",
      "Training set size: (1538, 317) accuracy: 0.6150845253576073\n",
      "Test set size: (385, 317) accuracy: 0.6\n",
      "Test set neg log loss: -0.6729226843459054. Probability to observe data given model: 0.5102151985377041\n",
      "Added single feature: l3y_inf_total_strikes_attempts_per_min_diff\n",
      "Negative log loss on training set: -0.6537200259611031\n",
      "Training set size: (1538, 317) accuracy: 0.6202860858257477\n",
      "Test set size: (385, 317) accuracy: 0.6025974025974026\n",
      "Test set neg log loss: -0.6763487760541581. Probability to observe data given model: 0.5084701455393412\n",
      "Added single feature: l3y_abs_leg_strikes_accuracy_diff\n",
      "Negative log loss on training set: -0.6508766952883753\n",
      "Training set size: (1538, 317) accuracy: 0.6248374512353706\n",
      "Test set size: (385, 317) accuracy: 0.5896103896103896\n",
      "Test set neg log loss: -0.6756944545086. Probability to observe data given model: 0.5088029573819463\n",
      "Added single feature: all_wins_wins_diff\n",
      "Negative log loss on training set: -0.6489840680625134\n",
      "Training set size: (1538, 317) accuracy: 0.6215864759427828\n",
      "Test set size: (385, 317) accuracy: 0.5948051948051948\n",
      "Test set neg log loss: -0.680158913748429. Probability to observe data given model: 0.5065364903569224\n",
      "Added single feature: all_losses_diff\n",
      "Negative log loss on training set: -0.6442464291925479\n",
      "Training set size: (1538, 317) accuracy: 0.6339401820546163\n",
      "Test set size: (385, 317) accuracy: 0.6051948051948052\n",
      "Test set neg log loss: -0.6795903846680771. Probability to observe data given model: 0.506824552960174\n",
      "Added single feature: l5y_wins_diff\n",
      "Negative log loss on training set: -0.642802042314848\n",
      "Training set size: (1538, 317) accuracy: 0.6326397919375812\n",
      "Test set size: (385, 317) accuracy: 0.625974025974026\n",
      "Test set neg log loss: -0.6749070967249292. Probability to observe data given model: 0.5092037251038842\n",
      "Added single feature: l3y_abs_body_strikes_accuracy_diff\n",
      "Negative log loss on training set: -0.641768788048012\n",
      "Training set size: (1538, 317) accuracy: 0.6404421326397919\n",
      "Test set size: (385, 317) accuracy: 0.6337662337662338\n",
      "Test set neg log loss: -0.6732030669991791. Probability to observe data given model: 0.5100721630998625\n",
      "Added single feature: l5y_inf_head_strikes_accuracy_diff\n",
      "Negative log loss on training set: -0.6399218999769315\n",
      "Training set size: (1538, 317) accuracy: 0.6417425227568271\n",
      "Test set size: (385, 317) accuracy: 0.6155844155844156\n",
      "Test set neg log loss: -0.6743629994573712. Probability to observe data given model: 0.5094808568458185\n",
      "Added single feature: l5y_abs_total_strikes_landed_per_min_diff\n",
      "Negative log loss on training set: -0.639103938234809\n",
      "Training set size: (1538, 317) accuracy: 0.6371911573472041\n",
      "Test set size: (385, 317) accuracy: 0.6155844155844156\n",
      "Test set neg log loss: -0.6698890197953303. Probability to observe data given model: 0.5117653704606094\n",
      "Added single feature: l5y_abs_ground_strikes_landed_per_min_diff\n",
      "Negative log loss on training set: -0.6380822439791998\n",
      "Training set size: (1538, 317) accuracy: 0.6443433029908973\n",
      "Test set size: (385, 317) accuracy: 0.6077922077922078\n",
      "Test set neg log loss: -0.6737853250215494. Probability to observe data given model: 0.5097752559375865\n",
      "Added single feature: l1y_abs_clinch_strikes_accuracy_diff\n",
      "Negative log loss on training set: -0.6370464728116776\n",
      "Training set size: (1538, 317) accuracy: 0.6410923276983095\n",
      "Test set size: (385, 317) accuracy: 0.6155844155844156\n",
      "Test set neg log loss: -0.6741189278539419. Probability to observe data given model: 0.5096052218318288\n",
      "Added single feature: l1y_losses_losses_diff\n",
      "Negative log loss on training set: -0.6363629274955253\n",
      "Training set size: (1538, 317) accuracy: 0.6417425227568271\n",
      "Test set size: (385, 317) accuracy: 0.612987012987013\n",
      "Test set neg log loss: -0.6791906339406376. Probability to observe data given model: 0.5070271969447456\n",
      "Added single feature: l5y_losses_losses_diff\n",
      "Negative log loss on training set: -0.6351831250859161\n",
      "Training set size: (1538, 317) accuracy: 0.6443433029908973\n",
      "Test set size: (385, 317) accuracy: 0.6077922077922078\n",
      "Test set neg log loss: -0.6848089309903319. Probability to observe data given model: 0.5041865547978632\n",
      "Added single feature: l3y_inf_ground_strikes_accuracy_diff\n",
      "Negative log loss on training set: -0.634581633001014\n",
      "Training set size: (1538, 317) accuracy: 0.6488946684005201\n",
      "Test set size: (385, 317) accuracy: 0.6025974025974026\n",
      "Test set neg log loss: -0.6860227504826271. Probability to observe data given model: 0.5035749346032481\n",
      "Added single feature: l1y_inf_body_strikes_landed_per_min_diff\n",
      "Negative log loss on training set: -0.6340602766305218\n",
      "Training set size: (1538, 317) accuracy: 0.6508452535760728\n",
      "Test set size: (385, 317) accuracy: 0.6181818181818182\n",
      "Test set neg log loss: -0.6854157955482031. Probability to observe data given model: 0.5038806746704929\n",
      "Added single feature: all_abs_body_strikes_attempts_per_min_diff\n",
      "Negative log loss on training set: -0.6331685669904533\n",
      "Training set size: (1538, 317) accuracy: 0.6495448634590377\n",
      "Test set size: (385, 317) accuracy: 0.6077922077922078\n",
      "Test set neg log loss: -0.6882797111474891. Probability to observe data given model: 0.502439667392666\n",
      "Added single feature: l5y_abs_clinch_strikes_accuracy_diff\n",
      "Negative log loss on training set: -0.6324677458042945\n",
      "Training set size: (1538, 317) accuracy: 0.6521456436931079\n",
      "Test set size: (385, 317) accuracy: 0.6025974025974026\n",
      "Test set neg log loss: -0.6917989650830397. Probability to observe data given model: 0.5006745623639839\n",
      "Added single feature: l3y_inf_body_strikes_attempts_per_min_diff\n",
      "Negative log loss on training set: -0.631723237194685\n",
      "Training set size: (1538, 317) accuracy: 0.647594278283485\n",
      "Test set size: (385, 317) accuracy: 0.6025974025974026\n",
      "Test set neg log loss: -0.690599237854892. Probability to observe data given model: 0.5012755957348518\n",
      "Added single feature: l3y_abs_ground_strikes_attempts_per_min_diff\n",
      "Negative log loss on training set: -0.6311003894693058\n",
      "Training set size: (1538, 317) accuracy: 0.6456436931079323\n",
      "Test set size: (385, 317) accuracy: 0.5974025974025974\n",
      "Test set neg log loss: -0.690733364958991. Probability to observe data given model: 0.5012083655996328\n",
      "Added single feature: l5y_abs_body_strikes_landed_per_min_diff\n",
      "Negative log loss on training set: -0.6304816370876355\n",
      "Training set size: (1538, 317) accuracy: 0.647594278283485\n",
      "Test set size: (385, 317) accuracy: 0.5922077922077922\n",
      "Test set neg log loss: -0.6946749618098736. Probability to observe data given model: 0.49923669260686804\n",
      "Added single feature: l3y_inf_takedowns_attempts_per_min_diff\n",
      "Negative log loss on training set: -0.6298586625769529\n",
      "Training set size: (1538, 317) accuracy: 0.64629388816645\n",
      "Test set size: (385, 317) accuracy: 0.6051948051948052\n",
      "Test set neg log loss: -0.6932595216565776. Probability to observe data given model: 0.4999438326066962\n",
      "Added single feature: all_inf_control_per_min_diff\n",
      "Negative log loss on training set: -0.6292294331471798\n",
      "Training set size: (1538, 317) accuracy: 0.6430429128738622\n",
      "Test set size: (385, 317) accuracy: 0.5896103896103896\n",
      "Test set neg log loss: -0.6981969445898187. Probability to observe data given model: 0.4974814822969883\n",
      "Added single feature: all_offensive_standing_striking_score_diff\n",
      "Negative log loss on training set: -0.6288442102827378\n",
      "Training set size: (1538, 317) accuracy: 0.6430429128738622\n",
      "Test set size: (385, 317) accuracy: 0.5922077922077922\n",
      "Test set neg log loss: -0.7000369745654492. Probability to observe data given model: 0.49656694310503463\n",
      "Added single feature: l3y_abs_takedowns_accuracy_diff\n",
      "Negative log loss on training set: -0.6284945659857698\n",
      "Training set size: (1538, 317) accuracy: 0.6449934980494149\n",
      "Test set size: (385, 317) accuracy: 0.5844155844155844\n",
      "Test set neg log loss: -0.6960778587016833. Probability to observe data given model: 0.4985368060516574\n",
      "Added single feature: l3y_abs_ground_strikes_accuracy_diff\n",
      "Negative log loss on training set: -0.6281645715056992\n",
      "Training set size: (1538, 317) accuracy: 0.6469440832249674\n",
      "Test set size: (385, 317) accuracy: 0.587012987012987\n",
      "Test set neg log loss: -0.6958950418262247. Probability to observe data given model: 0.4986279553243996\n",
      "Added single feature: l3y_losses_losses_diff\n",
      "Negative log loss on training set: -0.6279036872497951\n",
      "Training set size: (1538, 317) accuracy: 0.6482444733420026\n",
      "Test set size: (385, 317) accuracy: 0.6\n",
      "Test set neg log loss: -0.692787699788495. Probability to observe data given model: 0.500179772696203\n",
      "Added single feature: all_inf_body_strikes_accuracy_diff\n",
      "Negative log loss on training set: -0.627756217356303\n",
      "Training set size: (1538, 317) accuracy: 0.6521456436931079\n",
      "Test set size: (385, 317) accuracy: 0.5974025974025974\n",
      "Test set neg log loss: -0.692538893740692. Probability to observe data given model: 0.5003042359315993\n",
      "Added single feature: l5y_losses_ko_diff\n",
      "Negative log loss on training set: -0.6276187025154061\n",
      "Training set size: (1538, 317) accuracy: 0.6495448634590377\n",
      "Test set size: (385, 317) accuracy: 0.5948051948051948\n",
      "Test set neg log loss: -0.691384762590455. Probability to observe data given model: 0.5008819859704108\n",
      "Added single feature: all_losses_dec_diff\n",
      "Negative log loss on training set: -0.6274880490158615\n",
      "Training set size: (1538, 317) accuracy: 0.6495448634590377\n",
      "Test set size: (385, 317) accuracy: 0.5974025974025974\n",
      "Test set neg log loss: -0.6937150193292807. Probability to observe data given model: 0.4997161612102936\n",
      "Added single feature: l1y_inf_sig_strikes_attempts_per_min_diff\n",
      "Negative log loss on training set: -0.627343539721214\n",
      "Training set size: (1538, 317) accuracy: 0.6508452535760728\n",
      "Test set size: (385, 317) accuracy: 0.5974025974025974\n",
      "Test set neg log loss: -0.6925152395220558. Probability to observe data given model: 0.5003160703773474\n",
      "Added single feature: l3y_abs_sig_strikes_accuracy_diff\n",
      "Negative log loss on training set: -0.6272530071415844\n",
      "Training set size: (1538, 317) accuracy: 0.6495448634590377\n",
      "Test set size: (385, 317) accuracy: 0.5948051948051948\n",
      "Test set neg log loss: -0.6937188258372107. Probability to observe data given model: 0.4997142590403835\n",
      "Added single feature: all_abs_control_per_min_diff\n",
      "Negative log loss on training set: -0.6271936937287051\n",
      "Training set size: (1538, 317) accuracy: 0.6488946684005201\n",
      "Test set size: (385, 317) accuracy: 0.5896103896103896\n",
      "Test set neg log loss: -0.6937823343708726. Probability to observe data given model: 0.49968252392827783\n",
      "Added single feature: all_abs_takedowns_accuracy_diff\n",
      "Negative log loss on training set: -0.6270678837394761\n",
      "Training set size: (1538, 317) accuracy: 0.647594278283485\n",
      "Test set size: (385, 317) accuracy: 0.5922077922077922\n",
      "Test set neg log loss: -0.695059078600158. Probability to observe data given model: 0.4990449642363122\n",
      "Added single feature: l3y_abs_sig_strikes_attempts_per_min_diff\n",
      "Negative log loss on training set: -0.6269653814493886\n",
      "Training set size: (1538, 317) accuracy: 0.6521456436931079\n",
      "Test set size: (385, 317) accuracy: 0.5922077922077922\n",
      "Test set neg log loss: -0.6960700490216701. Probability to observe data given model: 0.4985406994797906\n",
      "Added single feature: l1y_wins_wins_diff\n",
      "Negative log loss on training set: -0.6269233043692046\n",
      "Training set size: (1538, 317) accuracy: 0.6508452535760728\n",
      "Test set size: (385, 317) accuracy: 0.5948051948051948\n",
      "Test set neg log loss: -0.6984867505861205. Probability to observe data given model: 0.4973373300694684\n",
      "Added single feature: l5y_abs_distance_strikes_landed_per_min_diff\n",
      "Negative log loss on training set: -0.6268592782170287\n",
      "Training set size: (1538, 317) accuracy: 0.6488946684005201\n",
      "Test set size: (385, 317) accuracy: 0.5974025974025974\n",
      "Test set neg log loss: -0.6976079034995929. Probability to observe data given model: 0.4977746056540632\n",
      "Added single feature: l1y_inf_head_strikes_attempts_per_min_diff\n",
      "Negative log loss on training set: -0.626846007094475\n",
      "Training set size: (1538, 317) accuracy: 0.6508452535760728\n",
      "Test set size: (385, 317) accuracy: 0.5922077922077922\n",
      "Test set neg log loss: -0.6966863657519328. Probability to observe data given model: 0.49823353517095853\n",
      "Added single feature: all_num_fights_diff\n",
      "Negative log loss on training set: -0.6268457262944254\n",
      "Training set size: (1538, 317) accuracy: 0.6482444733420026\n",
      "Test set size: (385, 317) accuracy: 0.5922077922077922\n",
      "Test set neg log loss: -0.6959366412917499. Probability to observe data given model: 0.4986072130993979\n",
      "No improvement found with single addition, trying pairs.\n",
      "Added double feature: l3y_inf_clinch_strikes_landed_per_min_diff, l5y_inf_clinch_strikes_attempts_per_min_diff\n",
      "Negative log loss on training set: -0.6264809954938532\n",
      "Training set size: (1538, 317) accuracy: 0.6456436931079323\n",
      "Test set size: (385, 317) accuracy: 0.587012987012987\n",
      "Test set neg log loss: -0.6972258466955255. Probability to observe data given model: 0.4979648201631052\n",
      "Added single feature: l3y_abs_distance_strikes_accuracy_diff\n",
      "Negative log loss on training set: -0.6264684942504363\n",
      "Training set size: (1538, 317) accuracy: 0.64629388816645\n",
      "Test set size: (385, 317) accuracy: 0.5896103896103896\n",
      "Test set neg log loss: -0.6972441170814738. Probability to observe data given model: 0.4979557222367637\n",
      "No improvement found with single addition, trying pairs.\n",
      "No improvement found with double addition, stopping.\n",
      "Final best feature set: ['l5y_overall_fighter_score_diff', 'age_diff', 'l3y_abs_control_per_min_diff', 'reach_diff', 'l1y_inf_ground_strikes_accuracy_diff', 'l5y_wins_wins_diff', 'l1y_abs_takedowns_attempts_per_min_diff', 'l3y_inf_total_strikes_attempts_per_min_diff', 'l3y_abs_leg_strikes_accuracy_diff', 'all_wins_wins_diff', 'all_losses_diff', 'l5y_wins_diff', 'l3y_abs_body_strikes_accuracy_diff', 'l5y_inf_head_strikes_accuracy_diff', 'l5y_abs_total_strikes_landed_per_min_diff', 'l5y_abs_ground_strikes_landed_per_min_diff', 'l1y_abs_clinch_strikes_accuracy_diff', 'l1y_losses_losses_diff', 'l5y_losses_losses_diff', 'l3y_inf_ground_strikes_accuracy_diff', 'l1y_inf_body_strikes_landed_per_min_diff', 'all_abs_body_strikes_attempts_per_min_diff', 'l5y_abs_clinch_strikes_accuracy_diff', 'l3y_inf_body_strikes_attempts_per_min_diff', 'l3y_abs_ground_strikes_attempts_per_min_diff', 'l5y_abs_body_strikes_landed_per_min_diff', 'l3y_inf_takedowns_attempts_per_min_diff', 'all_inf_control_per_min_diff', 'all_offensive_standing_striking_score_diff', 'l3y_abs_takedowns_accuracy_diff', 'l3y_abs_ground_strikes_accuracy_diff', 'l3y_losses_losses_diff', 'all_inf_body_strikes_accuracy_diff', 'l5y_losses_ko_diff', 'all_losses_dec_diff', 'l1y_inf_sig_strikes_attempts_per_min_diff', 'l3y_abs_sig_strikes_accuracy_diff', 'all_abs_control_per_min_diff', 'all_abs_takedowns_accuracy_diff', 'l3y_abs_sig_strikes_attempts_per_min_diff', 'l1y_wins_wins_diff', 'l5y_abs_distance_strikes_landed_per_min_diff', 'l1y_inf_head_strikes_attempts_per_min_diff', 'all_num_fights_diff', 'l3y_inf_clinch_strikes_landed_per_min_diff', 'l5y_inf_clinch_strikes_attempts_per_min_diff', 'l3y_abs_distance_strikes_accuracy_diff']\n"
     ]
    }
   ],
   "source": [
    "best_features = additive_greedy(X_train, X_test, search_doubles=True, _max_iter=30000)"
   ]
  },
  {
   "cell_type": "code",
   "execution_count": 10,
   "metadata": {},
   "outputs": [
    {
     "name": "stdout",
     "output_type": "stream",
     "text": [
      "Training set size: (1538, 317) accuracy: 0.64629388816645\n",
      "Test set size: (385, 317) accuracy: 0.5896103896103896\n",
      "Test set neg log loss: -0.6972441170814738. Probability to observe data given model: 0.4979557222367637\n"
     ]
    }
   ],
   "source": [
    "model_test_score(X_train, X_test, best_features, _max_iter = 30000, scaled=True)"
   ]
  }
 ],
 "metadata": {
  "kernelspec": {
   "display_name": "Python 3",
   "language": "python",
   "name": "python3"
  },
  "language_info": {
   "codemirror_mode": {
    "name": "ipython",
    "version": 3
   },
   "file_extension": ".py",
   "mimetype": "text/x-python",
   "name": "python",
   "nbconvert_exporter": "python",
   "pygments_lexer": "ipython3",
   "version": "3.11.0"
  }
 },
 "nbformat": 4,
 "nbformat_minor": 2
}
