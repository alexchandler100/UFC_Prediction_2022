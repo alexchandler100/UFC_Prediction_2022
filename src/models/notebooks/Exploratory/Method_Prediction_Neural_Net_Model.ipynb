{
 "cells": [
  {
   "cell_type": "code",
   "execution_count": 1,
   "id": "26cf9ae5",
   "metadata": {},
   "outputs": [],
   "source": [
    "#needed after restructuring of directory\n",
    "import os\n",
    "import pandas as pd\n",
    "import numpy as npy\n",
    "from datetime import datetime\n",
    "from datetime import date\n",
    "import matplotlib.pyplot as plt\n",
    "import random\n",
    "import sklearn\n",
    "import scipy\n",
    "from sklearn.linear_model import LogisticRegression\n",
    "from sklearn.ensemble import RandomForestClassifier\n",
    "from sklearn.neural_network import MLPClassifier\n",
    "from sklearn.model_selection import train_test_split, KFold, cross_val_score\n",
    "from sklearn import preprocessing\n",
    "import itertools"
   ]
  },
  {
   "cell_type": "code",
   "execution_count": 2,
   "id": "095084b0",
   "metadata": {},
   "outputs": [],
   "source": [
    "# change directory to src so that we can import functions\n",
    "os.chdir(os.path.join(\"..\",\"..\",\"..\"))\n",
    "from functions import *"
   ]
  },
  {
   "cell_type": "code",
   "execution_count": 3,
   "id": "7e0c07f0",
   "metadata": {},
   "outputs": [],
   "source": [
    "# back to repo root\n",
    "os.chdir(\"..\")"
   ]
  },
  {
   "cell_type": "code",
   "execution_count": 4,
   "id": "ee4c23cc",
   "metadata": {},
   "outputs": [],
   "source": [
    "#importing csv fight data and saving as dataframes\n",
    "ufc_fights = pd.read_csv('src/models/buildingMLModel/data/processed/ufc_fights.csv',low_memory=False)\n",
    "ufcfighterscrap =pd.read_csv('src/models/buildingMLModel/data/processed/fighter_stats.csv',sep=',',low_memory=False)"
   ]
  },
  {
   "cell_type": "code",
   "execution_count": 5,
   "id": "1c9955b0",
   "metadata": {},
   "outputs": [
    {
     "data": {
      "text/plain": [
       "array(['SUB', 'DEC', 'KO/TKO', 'bullshit'], dtype=object)"
      ]
     },
     "execution_count": 5,
     "metadata": {},
     "output_type": "execute_result"
    }
   ],
   "source": [
    "#cleaning the methods column for method prediction (counting split decisions as decisions)\n",
    "ufc_fights['method'] = clean_method_vect(ufc_fights['method'])\n",
    "ufc_fights['method'].unique()"
   ]
  },
  {
   "cell_type": "code",
   "execution_count": 6,
   "id": "640eb84e",
   "metadata": {},
   "outputs": [],
   "source": [
    "#getting rid of rows with incomplete or useless data\n",
    "#fights with outcome \"Win\" or \"Loss\" (no \"Draw\")\n",
    "draw_mask=ufc_fights['result'] != 'D' \n",
    "#fights where the method of victory is TKO/SUB/DEC (no bullshit)\n",
    "method_mask=(ufc_fights['method']=='DEC')|(ufc_fights['method']=='SUB')|(ufc_fights['method']=='KO/TKO')\n",
    "#fights where age is known\n",
    "age_mask=(ufc_fights['fighter_age']!='unknown')&(ufc_fights['opponent_age']!='unknown')\n",
    "#fights where height reach is known\n",
    "height_mask=(ufc_fights['fighter_height']!='unknown')&(ufc_fights['opponent_height']!='unknown')\n",
    "reach_mask=(ufc_fights['fighter_reach']!='unknown')&(ufc_fights['opponent_reach']!='unknown')\n",
    "#fights where number of wins is known\n",
    "wins_mask=(ufc_fights['fighter_wins'] != 'unknown' )& (ufc_fights['opponent_wins'] != 'unknown')\n",
    "#fights where both fighters have strike statistics (gets rid of UFC debuts)\n",
    "strikes_mask=(ufc_fights['fighter_inf_sig_strikes_attempts_avg'] != 0)&(ufc_fights['opponent_inf_sig_strikes_attempts_avg'] != 0)\n",
    "#includes only the fights satisfying these conditions\n",
    "ufc_fights=ufc_fights[draw_mask&method_mask&age_mask&height_mask&reach_mask&wins_mask&strikes_mask]\n",
    "\n",
    "record_statistics=[u'fighter_wins', \n",
    "                   u'fighter_losses',\n",
    "                   u'fighter_L5Y_wins',\n",
    "                   u'fighter_L5Y_losses', \n",
    "                   u'fighter_L2Y_wins', \n",
    "                   u'fighter_L2Y_losses',\n",
    "                    u'fighter_ko_wins',\n",
    "                   u'fighter_ko_losses',\n",
    "                   u'fighter_L5Y_ko_wins',\n",
    "                   u'fighter_L5Y_ko_losses',\n",
    "                   u'fighter_L2Y_ko_wins',\n",
    "                    u'fighter_L2Y_ko_losses',\n",
    "                   u'fighter_sub_wins',\n",
    "                   u'fighter_sub_losses',\n",
    "                   u'fighter_L5Y_sub_wins',\n",
    "                    u'fighter_L5Y_sub_losses', \n",
    "                   u'fighter_L2Y_sub_wins', \n",
    "                   u'fighter_L2Y_sub_losses',\n",
    "                   u'opponent_wins', \n",
    "                   u'opponent_losses',\n",
    "                   u'opponent_L5Y_wins', \n",
    "                   u'opponent_L5Y_losses', \n",
    "                   u'opponent_L2Y_wins', \n",
    "                   u'opponent_L2Y_losses', \n",
    "                    u'opponent_ko_wins', \n",
    "                   u'opponent_ko_losses', \n",
    "                   u'opponent_L5Y_ko_wins', \n",
    "                   u'opponent_L5Y_ko_losses', \n",
    "                   u'opponent_L2Y_ko_wins',\n",
    "                    u'opponent_L2Y_ko_losses', \n",
    "                   u'opponent_sub_wins', \n",
    "                   u'opponent_sub_losses',\n",
    "                   u'opponent_L5Y_sub_wins', \n",
    "                    u'opponent_L5Y_sub_losses', \n",
    "                   u'opponent_L2Y_sub_wins', \n",
    "                   u'opponent_L2Y_sub_losses']\n",
    "\n",
    "physical_stats=[ u'fighter_age',\n",
    "                u'fighter_height',\n",
    "                    u'fighter_reach',  \n",
    "                u'opponent_age',  \n",
    "                u'opponent_height',\n",
    "                    u'opponent_reach']\n",
    "\n",
    "#THERE MAY BE A PROBLEM IN AGE HEIGHT REACH TO DO WITH STRING VS FLOAT. MAKE SURE THESE ARE ALL THE CORRECT TYPE\n",
    "#MAYBE WE ARE LOSING PREDICTABILITY HERE\n",
    "\n",
    "#here is the list of all stats available (besides stance), does not include names or result\n",
    "punch_statistics=[    u'fighter_inf_knockdowns_avg',\n",
    "                    u'fighter_inf_pass_avg',\n",
    "                    u'fighter_inf_reversals_avg',\n",
    "                    u'fighter_inf_sub_attempts_avg',\n",
    "                    u'fighter_inf_takedowns_landed_avg',\n",
    "                    u'fighter_inf_takedowns_attempts_avg',\n",
    "                    u'fighter_inf_sig_strikes_landed_avg',\n",
    "                    u'fighter_inf_sig_strikes_attempts_avg',\n",
    "                    u'fighter_inf_total_strikes_landed_avg',\n",
    "                    u'fighter_inf_total_strikes_attempts_avg',\n",
    "                    u'fighter_inf_head_strikes_landed_avg',\n",
    "                    u'fighter_inf_head_strikes_attempts_avg',\n",
    "                    u'fighter_inf_body_strikes_landed_avg',\n",
    "                    u'fighter_inf_body_strikes_attempts_avg',\n",
    "                    u'fighter_inf_leg_strikes_landed_avg',\n",
    "                    u'fighter_inf_leg_strikes_attempts_avg',\n",
    "                    u'fighter_inf_distance_strikes_landed_avg',\n",
    "                    u'fighter_inf_distance_strikes_attempts_avg',\n",
    "                    u'fighter_inf_clinch_strikes_landed_avg',\n",
    "                    u'fighter_inf_clinch_strikes_attempts_avg',\n",
    "                    u'fighter_inf_ground_strikes_landed_avg',\n",
    "                    u'fighter_inf_ground_strikes_attempts_avg',\n",
    "                \n",
    "                    u'fighter_abs_knockdowns_avg',\n",
    "                    u'fighter_abs_pass_avg',\n",
    "                    u'fighter_abs_reversals_avg',\n",
    "                    u'fighter_abs_sub_attempts_avg',\n",
    "                    u'fighter_abs_takedowns_landed_avg',\n",
    "                    u'fighter_abs_takedowns_attempts_avg',\n",
    "                    u'fighter_abs_sig_strikes_landed_avg',\n",
    "                    u'fighter_abs_sig_strikes_attempts_avg',\n",
    "                    u'fighter_abs_total_strikes_landed_avg',\n",
    "                    u'fighter_abs_total_strikes_attempts_avg',\n",
    "                    u'fighter_abs_head_strikes_landed_avg',\n",
    "                    u'fighter_abs_head_strikes_attempts_avg',\n",
    "                    u'fighter_abs_body_strikes_landed_avg',\n",
    "                    u'fighter_abs_body_strikes_attempts_avg',\n",
    "                    u'fighter_abs_leg_strikes_landed_avg',\n",
    "                    u'fighter_abs_leg_strikes_attempts_avg',\n",
    "                    u'fighter_abs_distance_strikes_landed_avg',\n",
    "                    u'fighter_abs_distance_strikes_attempts_avg',\n",
    "                    u'fighter_abs_clinch_strikes_landed_avg',\n",
    "                    u'fighter_abs_clinch_strikes_attempts_avg',\n",
    "                    u'fighter_abs_ground_strikes_landed_avg',\n",
    "                    u'fighter_abs_ground_strikes_attempts_avg',\n",
    "                    \n",
    "                    u'opponent_inf_knockdowns_avg',\n",
    "                    u'opponent_inf_pass_avg',\n",
    "                    u'opponent_inf_reversals_avg',\n",
    "                    u'opponent_inf_sub_attempts_avg',\n",
    "                    u'opponent_inf_takedowns_landed_avg',\n",
    "                    u'opponent_inf_takedowns_attempts_avg',\n",
    "                    u'opponent_inf_sig_strikes_landed_avg',\n",
    "                    u'opponent_inf_sig_strikes_attempts_avg',\n",
    "                    u'opponent_inf_total_strikes_landed_avg',\n",
    "                    u'opponent_inf_total_strikes_attempts_avg',\n",
    "                    u'opponent_inf_head_strikes_landed_avg',\n",
    "                    u'opponent_inf_head_strikes_attempts_avg',\n",
    "                    u'opponent_inf_body_strikes_landed_avg',\n",
    "                    u'opponent_inf_body_strikes_attempts_avg',\n",
    "                    u'opponent_inf_leg_strikes_landed_avg',\n",
    "                    u'opponent_inf_leg_strikes_attempts_avg',\n",
    "                    u'opponent_inf_distance_strikes_landed_avg',\n",
    "                    u'opponent_inf_distance_strikes_attempts_avg',\n",
    "                    u'opponent_inf_clinch_strikes_landed_avg',\n",
    "                    u'opponent_inf_clinch_strikes_attempts_avg',\n",
    "                    u'opponent_inf_ground_strikes_landed_avg',\n",
    "                    u'opponent_inf_ground_strikes_attempts_avg',\n",
    "                \n",
    "                    u'opponent_abs_knockdowns_avg',\n",
    "                    u'opponent_abs_pass_avg',\n",
    "                    u'opponent_abs_reversals_avg',\n",
    "                    u'opponent_abs_sub_attempts_avg',\n",
    "                    u'opponent_abs_takedowns_landed_avg',\n",
    "                    u'opponent_abs_takedowns_attempts_avg',\n",
    "                    u'opponent_abs_sig_strikes_landed_avg',\n",
    "                    u'opponent_abs_sig_strikes_attempts_avg',\n",
    "                    u'opponent_abs_total_strikes_landed_avg',\n",
    "                    u'opponent_abs_total_strikes_attempts_avg',\n",
    "                    u'opponent_abs_head_strikes_landed_avg',\n",
    "                    u'opponent_abs_head_strikes_attempts_avg',\n",
    "                    u'opponent_abs_body_strikes_landed_avg',\n",
    "                    u'opponent_abs_body_strikes_attempts_avg',\n",
    "                    u'opponent_abs_leg_strikes_landed_avg',\n",
    "                    u'opponent_abs_leg_strikes_attempts_avg',\n",
    "                    u'opponent_abs_distance_strikes_landed_avg',\n",
    "                    u'opponent_abs_distance_strikes_attempts_avg',\n",
    "                    u'opponent_abs_clinch_strikes_landed_avg',\n",
    "                    u'opponent_abs_clinch_strikes_attempts_avg',\n",
    "                    u'opponent_abs_ground_strikes_landed_avg',\n",
    "                    u'opponent_abs_ground_strikes_attempts_avg']\n",
    "\n",
    "#here is the version of punch stats geared for comparing fighter_inf to opponent_abs\n",
    "punch_statistics_alt=[    u'fighter_inf_knockdowns_avg',\n",
    "                    u'fighter_inf_pass_avg',\n",
    "                    u'fighter_inf_reversals_avg',\n",
    "                    u'fighter_inf_sub_attempts_avg',\n",
    "                    u'fighter_inf_takedowns_landed_avg',\n",
    "                    u'fighter_inf_takedowns_attempts_avg',\n",
    "                    u'fighter_inf_sig_strikes_landed_avg',\n",
    "                    u'fighter_inf_sig_strikes_attempts_avg',\n",
    "                    u'fighter_inf_total_strikes_landed_avg',\n",
    "                    u'fighter_inf_total_strikes_attempts_avg',\n",
    "                    u'fighter_inf_head_strikes_landed_avg',\n",
    "                    u'fighter_inf_head_strikes_attempts_avg',\n",
    "                    u'fighter_inf_body_strikes_landed_avg',\n",
    "                    u'fighter_inf_body_strikes_attempts_avg',\n",
    "                    u'fighter_inf_leg_strikes_landed_avg',\n",
    "                    u'fighter_inf_leg_strikes_attempts_avg',\n",
    "                    u'fighter_inf_distance_strikes_landed_avg',\n",
    "                    u'fighter_inf_distance_strikes_attempts_avg',\n",
    "                    u'fighter_inf_clinch_strikes_landed_avg',\n",
    "                    u'fighter_inf_clinch_strikes_attempts_avg',\n",
    "                    u'fighter_inf_ground_strikes_landed_avg',\n",
    "                    u'fighter_inf_ground_strikes_attempts_avg',\n",
    "                \n",
    "                    u'fighter_abs_knockdowns_avg',\n",
    "                    u'fighter_abs_pass_avg',\n",
    "                    u'fighter_abs_reversals_avg',\n",
    "                    u'fighter_abs_sub_attempts_avg',\n",
    "                    u'fighter_abs_takedowns_landed_avg',\n",
    "                    u'fighter_abs_takedowns_attempts_avg',\n",
    "                    u'fighter_abs_sig_strikes_landed_avg',\n",
    "                    u'fighter_abs_sig_strikes_attempts_avg',\n",
    "                    u'fighter_abs_total_strikes_landed_avg',\n",
    "                    u'fighter_abs_total_strikes_attempts_avg',\n",
    "                    u'fighter_abs_head_strikes_landed_avg',\n",
    "                    u'fighter_abs_head_strikes_attempts_avg',\n",
    "                    u'fighter_abs_body_strikes_landed_avg',\n",
    "                    u'fighter_abs_body_strikes_attempts_avg',\n",
    "                    u'fighter_abs_leg_strikes_landed_avg',\n",
    "                    u'fighter_abs_leg_strikes_attempts_avg',\n",
    "                    u'fighter_abs_distance_strikes_landed_avg',\n",
    "                    u'fighter_abs_distance_strikes_attempts_avg',\n",
    "                    u'fighter_abs_clinch_strikes_landed_avg',\n",
    "                    u'fighter_abs_clinch_strikes_attempts_avg',\n",
    "                    u'fighter_abs_ground_strikes_landed_avg',\n",
    "                    u'fighter_abs_ground_strikes_attempts_avg',\n",
    "                \n",
    "                    u'opponent_abs_knockdowns_avg',\n",
    "                    u'opponent_abs_pass_avg',\n",
    "                    u'opponent_abs_reversals_avg',\n",
    "                    u'opponent_abs_sub_attempts_avg',\n",
    "                    u'opponent_abs_takedowns_landed_avg',\n",
    "                    u'opponent_abs_takedowns_attempts_avg',\n",
    "                    u'opponent_abs_sig_strikes_landed_avg',\n",
    "                    u'opponent_abs_sig_strikes_attempts_avg',\n",
    "                    u'opponent_abs_total_strikes_landed_avg',\n",
    "                    u'opponent_abs_total_strikes_attempts_avg',\n",
    "                    u'opponent_abs_head_strikes_landed_avg',\n",
    "                    u'opponent_abs_head_strikes_attempts_avg',\n",
    "                    u'opponent_abs_body_strikes_landed_avg',\n",
    "                    u'opponent_abs_body_strikes_attempts_avg',\n",
    "                    u'opponent_abs_leg_strikes_landed_avg',\n",
    "                    u'opponent_abs_leg_strikes_attempts_avg',\n",
    "                    u'opponent_abs_distance_strikes_landed_avg',\n",
    "                    u'opponent_abs_distance_strikes_attempts_avg',\n",
    "                    u'opponent_abs_clinch_strikes_landed_avg',\n",
    "                    u'opponent_abs_clinch_strikes_attempts_avg',\n",
    "                    u'opponent_abs_ground_strikes_landed_avg',\n",
    "                    u'opponent_abs_ground_strikes_attempts_avg',\n",
    "                     \n",
    "                     u'opponent_inf_knockdowns_avg',\n",
    "                    u'opponent_inf_pass_avg',\n",
    "                    u'opponent_inf_reversals_avg',\n",
    "                    u'opponent_inf_sub_attempts_avg',\n",
    "                    u'opponent_inf_takedowns_landed_avg',\n",
    "                    u'opponent_inf_takedowns_attempts_avg',\n",
    "                    u'opponent_inf_sig_strikes_landed_avg',\n",
    "                    u'opponent_inf_sig_strikes_attempts_avg',\n",
    "                    u'opponent_inf_total_strikes_landed_avg',\n",
    "                    u'opponent_inf_total_strikes_attempts_avg',\n",
    "                    u'opponent_inf_head_strikes_landed_avg',\n",
    "                    u'opponent_inf_head_strikes_attempts_avg',\n",
    "                    u'opponent_inf_body_strikes_landed_avg',\n",
    "                    u'opponent_inf_body_strikes_attempts_avg',\n",
    "                    u'opponent_inf_leg_strikes_landed_avg',\n",
    "                    u'opponent_inf_leg_strikes_attempts_avg',\n",
    "                    u'opponent_inf_distance_strikes_landed_avg',\n",
    "                    u'opponent_inf_distance_strikes_attempts_avg',\n",
    "                    u'opponent_inf_clinch_strikes_landed_avg',\n",
    "                    u'opponent_inf_clinch_strikes_attempts_avg',\n",
    "                    u'opponent_inf_ground_strikes_landed_avg',\n",
    "                    u'opponent_inf_ground_strikes_attempts_avg']\n",
    "\n",
    "fight_math_stats=['4-fighter_score_diff',\n",
    " '9-fighter_score_diff',\n",
    " '15-fighter_score_diff',\n",
    " '1-fight_math',\n",
    " '6-fight_math',]\n",
    "\n",
    "#adding record differences to ufc_fights\n",
    "record_statistics_diff = []\n",
    "half_length=int(len(record_statistics)/2)\n",
    "for i in range(half_length):\n",
    "    ufc_fights[record_statistics[i]+'_diff_2']=ufc_fights[record_statistics[i]]-ufc_fights[record_statistics[i+half_length]]\n",
    "    record_statistics_diff.append(record_statistics[i]+'_diff_2')\n",
    "    \n",
    "#lets try and improve the greedy algorithm by considering differences. Lets start by replacing height and reach by their differences\n",
    "ufc_fights['height_diff']=ufc_fights['fighter_height'].apply(float)-ufc_fights['opponent_height'].apply(float)\n",
    "ufc_fights['reach_diff']=ufc_fights['fighter_reach'].apply(float)-ufc_fights['opponent_reach'].apply(float)\n",
    "physical_stats_diff = [ 'fighter_age','opponent_age', 'height_diff', 'reach_diff']\n",
    "\n",
    "#adding punch differences to ufc_fights\n",
    "punch_statistics_diff = []\n",
    "half_length=int(len(punch_statistics)/2)\n",
    "for i in range(half_length):\n",
    "    ufc_fights[punch_statistics[i]+'_diff_2']=ufc_fights[punch_statistics[i]]-ufc_fights[punch_statistics[i+half_length]]\n",
    "    punch_statistics_diff.append(punch_statistics[i]+'_diff_2')\n",
    "    \n",
    "possible_stats =record_statistics_diff+physical_stats_diff+punch_statistics_diff+fight_math_stats\n",
    " \n",
    "ufc_fights['fighter_age'] = ufc_fights['fighter_age'].apply(float)\n",
    "ufc_fights['opponent_age'] = ufc_fights['opponent_age'].apply(float)\n"
   ]
  },
  {
   "cell_type": "code",
   "execution_count": 36,
   "id": "c07ec3e0",
   "metadata": {},
   "outputs": [],
   "source": [
    "yr=ufc_fights['method'].to_numpy()"
   ]
  },
  {
   "cell_type": "code",
   "execution_count": 37,
   "id": "ed93705b",
   "metadata": {},
   "outputs": [],
   "source": [
    "yr = yr.reshape(-1,1)"
   ]
  },
  {
   "cell_type": "code",
   "execution_count": 38,
   "id": "92c3ffd0",
   "metadata": {},
   "outputs": [
    {
     "name": "stdout",
     "output_type": "stream",
     "text": [
      "[array(['DEC', 'KO/TKO', 'SUB'], dtype=object)]\n"
     ]
    },
    {
     "data": {
      "text/plain": [
       "array([[0., 0., 1.],\n",
       "       [0., 1., 0.],\n",
       "       [0., 0., 1.],\n",
       "       ...,\n",
       "       [1., 0., 0.],\n",
       "       [0., 0., 1.],\n",
       "       [0., 1., 0.]])"
      ]
     },
     "execution_count": 38,
     "metadata": {},
     "output_type": "execute_result"
    }
   ],
   "source": [
    "from sklearn.preprocessing import OneHotEncoder\n",
    "ohe = OneHotEncoder(handle_unknown='ignore',sparse=False).fit(yr)\n",
    "print(ohe.categories_)\n",
    "\n",
    "yr_onehot = ohe.transform(yr)\n",
    "yr_onehot"
   ]
  },
  {
   "cell_type": "code",
   "execution_count": 39,
   "id": "8231122a",
   "metadata": {},
   "outputs": [],
   "source": [
    "Xr=ufc_fights[possible_stats]"
   ]
  },
  {
   "cell_type": "code",
   "execution_count": 40,
   "id": "88277abe",
   "metadata": {},
   "outputs": [
    {
     "data": {
      "text/plain": [
       "(4606, 71)"
      ]
     },
     "execution_count": 40,
     "metadata": {},
     "output_type": "execute_result"
    }
   ],
   "source": [
    "Xr.shape"
   ]
  },
  {
   "cell_type": "code",
   "execution_count": 41,
   "id": "db7ac445",
   "metadata": {},
   "outputs": [],
   "source": [
    "Xr_normalized=(Xr-Xr.mean())/Xr.std()"
   ]
  },
  {
   "cell_type": "code",
   "execution_count": 42,
   "id": "cac3889b",
   "metadata": {},
   "outputs": [
    {
     "data": {
      "text/plain": [
       "(4606, 71)"
      ]
     },
     "execution_count": 42,
     "metadata": {},
     "output_type": "execute_result"
    }
   ],
   "source": [
    "Xr_normalized.shape"
   ]
  },
  {
   "cell_type": "code",
   "execution_count": 43,
   "id": "b8494a78",
   "metadata": {},
   "outputs": [
    {
     "data": {
      "text/html": [
       "<div>\n",
       "<style scoped>\n",
       "    .dataframe tbody tr th:only-of-type {\n",
       "        vertical-align: middle;\n",
       "    }\n",
       "\n",
       "    .dataframe tbody tr th {\n",
       "        vertical-align: top;\n",
       "    }\n",
       "\n",
       "    .dataframe thead th {\n",
       "        text-align: right;\n",
       "    }\n",
       "</style>\n",
       "<table border=\"1\" class=\"dataframe\">\n",
       "  <thead>\n",
       "    <tr style=\"text-align: right;\">\n",
       "      <th></th>\n",
       "      <th>fighter_wins_diff_2</th>\n",
       "      <th>fighter_losses_diff_2</th>\n",
       "      <th>fighter_L5Y_wins_diff_2</th>\n",
       "      <th>fighter_L5Y_losses_diff_2</th>\n",
       "      <th>fighter_L2Y_wins_diff_2</th>\n",
       "      <th>fighter_L2Y_losses_diff_2</th>\n",
       "      <th>fighter_ko_wins_diff_2</th>\n",
       "      <th>fighter_ko_losses_diff_2</th>\n",
       "      <th>fighter_L5Y_ko_wins_diff_2</th>\n",
       "      <th>fighter_L5Y_ko_losses_diff_2</th>\n",
       "      <th>...</th>\n",
       "      <th>fighter_abs_distance_strikes_attempts_avg_diff_2</th>\n",
       "      <th>fighter_abs_clinch_strikes_landed_avg_diff_2</th>\n",
       "      <th>fighter_abs_clinch_strikes_attempts_avg_diff_2</th>\n",
       "      <th>fighter_abs_ground_strikes_landed_avg_diff_2</th>\n",
       "      <th>fighter_abs_ground_strikes_attempts_avg_diff_2</th>\n",
       "      <th>4-fighter_score_diff</th>\n",
       "      <th>9-fighter_score_diff</th>\n",
       "      <th>15-fighter_score_diff</th>\n",
       "      <th>1-fight_math</th>\n",
       "      <th>6-fight_math</th>\n",
       "    </tr>\n",
       "  </thead>\n",
       "  <tbody>\n",
       "    <tr>\n",
       "      <th>0</th>\n",
       "      <td>-0.848764</td>\n",
       "      <td>1.683186</td>\n",
       "      <td>-1.722903</td>\n",
       "      <td>0.511262</td>\n",
       "      <td>-1.258366</td>\n",
       "      <td>0.035509</td>\n",
       "      <td>-0.831088</td>\n",
       "      <td>0.730552</td>\n",
       "      <td>-1.144499</td>\n",
       "      <td>0.895769</td>\n",
       "      <td>...</td>\n",
       "      <td>-0.928222</td>\n",
       "      <td>0.336163</td>\n",
       "      <td>0.193969</td>\n",
       "      <td>-0.557716</td>\n",
       "      <td>-0.605906</td>\n",
       "      <td>0.543358</td>\n",
       "      <td>0.112046</td>\n",
       "      <td>0.307839</td>\n",
       "      <td>0.001512</td>\n",
       "      <td>-0.017532</td>\n",
       "    </tr>\n",
       "    <tr>\n",
       "      <th>2</th>\n",
       "      <td>-0.635798</td>\n",
       "      <td>0.350411</td>\n",
       "      <td>-1.032603</td>\n",
       "      <td>0.511262</td>\n",
       "      <td>-2.528590</td>\n",
       "      <td>0.905488</td>\n",
       "      <td>-0.416759</td>\n",
       "      <td>0.730552</td>\n",
       "      <td>-0.575339</td>\n",
       "      <td>0.895769</td>\n",
       "      <td>...</td>\n",
       "      <td>-0.093542</td>\n",
       "      <td>1.418345</td>\n",
       "      <td>1.500149</td>\n",
       "      <td>-0.415707</td>\n",
       "      <td>-0.405313</td>\n",
       "      <td>0.656235</td>\n",
       "      <td>0.370023</td>\n",
       "      <td>0.307839</td>\n",
       "      <td>0.001512</td>\n",
       "      <td>-0.017532</td>\n",
       "    </tr>\n",
       "    <tr>\n",
       "      <th>3</th>\n",
       "      <td>-2.126556</td>\n",
       "      <td>-2.315140</td>\n",
       "      <td>-1.032603</td>\n",
       "      <td>-1.941218</td>\n",
       "      <td>0.011858</td>\n",
       "      <td>-0.834469</td>\n",
       "      <td>-2.902738</td>\n",
       "      <td>-1.439433</td>\n",
       "      <td>-1.144499</td>\n",
       "      <td>-1.783395</td>\n",
       "      <td>...</td>\n",
       "      <td>-0.078971</td>\n",
       "      <td>-0.169674</td>\n",
       "      <td>-0.124803</td>\n",
       "      <td>-0.021722</td>\n",
       "      <td>0.016085</td>\n",
       "      <td>-0.133903</td>\n",
       "      <td>-0.081437</td>\n",
       "      <td>-0.063785</td>\n",
       "      <td>0.001512</td>\n",
       "      <td>-0.017532</td>\n",
       "    </tr>\n",
       "    <tr>\n",
       "      <th>4</th>\n",
       "      <td>0.003098</td>\n",
       "      <td>0.017217</td>\n",
       "      <td>0.002848</td>\n",
       "      <td>0.020766</td>\n",
       "      <td>0.011858</td>\n",
       "      <td>0.035509</td>\n",
       "      <td>0.411901</td>\n",
       "      <td>0.007224</td>\n",
       "      <td>0.562982</td>\n",
       "      <td>0.002714</td>\n",
       "      <td>...</td>\n",
       "      <td>0.161088</td>\n",
       "      <td>-0.641694</td>\n",
       "      <td>-0.610330</td>\n",
       "      <td>-0.073661</td>\n",
       "      <td>-0.105439</td>\n",
       "      <td>-0.698288</td>\n",
       "      <td>-0.661886</td>\n",
       "      <td>-0.541589</td>\n",
       "      <td>0.001512</td>\n",
       "      <td>-0.017532</td>\n",
       "    </tr>\n",
       "    <tr>\n",
       "      <th>5</th>\n",
       "      <td>-1.274694</td>\n",
       "      <td>-1.981947</td>\n",
       "      <td>-1.032603</td>\n",
       "      <td>-2.431714</td>\n",
       "      <td>0.011858</td>\n",
       "      <td>-1.704448</td>\n",
       "      <td>-1.245418</td>\n",
       "      <td>-2.886089</td>\n",
       "      <td>-1.144499</td>\n",
       "      <td>-3.569504</td>\n",
       "      <td>...</td>\n",
       "      <td>1.535967</td>\n",
       "      <td>0.235839</td>\n",
       "      <td>0.493881</td>\n",
       "      <td>-0.615497</td>\n",
       "      <td>-0.802605</td>\n",
       "      <td>-0.359657</td>\n",
       "      <td>-0.081437</td>\n",
       "      <td>0.042393</td>\n",
       "      <td>0.001512</td>\n",
       "      <td>-0.017532</td>\n",
       "    </tr>\n",
       "    <tr>\n",
       "      <th>...</th>\n",
       "      <td>...</td>\n",
       "      <td>...</td>\n",
       "      <td>...</td>\n",
       "      <td>...</td>\n",
       "      <td>...</td>\n",
       "      <td>...</td>\n",
       "      <td>...</td>\n",
       "      <td>...</td>\n",
       "      <td>...</td>\n",
       "      <td>...</td>\n",
       "      <td>...</td>\n",
       "      <td>...</td>\n",
       "      <td>...</td>\n",
       "      <td>...</td>\n",
       "      <td>...</td>\n",
       "      <td>...</td>\n",
       "      <td>...</td>\n",
       "      <td>...</td>\n",
       "      <td>...</td>\n",
       "      <td>...</td>\n",
       "      <td>...</td>\n",
       "    </tr>\n",
       "    <tr>\n",
       "      <th>6955</th>\n",
       "      <td>-0.422833</td>\n",
       "      <td>-0.649171</td>\n",
       "      <td>-0.687453</td>\n",
       "      <td>-0.960226</td>\n",
       "      <td>-0.623254</td>\n",
       "      <td>-0.834469</td>\n",
       "      <td>-0.416759</td>\n",
       "      <td>-0.716104</td>\n",
       "      <td>-0.575339</td>\n",
       "      <td>-0.890340</td>\n",
       "      <td>...</td>\n",
       "      <td>-0.007854</td>\n",
       "      <td>0.237530</td>\n",
       "      <td>0.041011</td>\n",
       "      <td>0.242875</td>\n",
       "      <td>0.610817</td>\n",
       "      <td>-0.359657</td>\n",
       "      <td>-0.597391</td>\n",
       "      <td>-0.488500</td>\n",
       "      <td>0.001512</td>\n",
       "      <td>-0.017532</td>\n",
       "    </tr>\n",
       "    <tr>\n",
       "      <th>6969</th>\n",
       "      <td>0.216063</td>\n",
       "      <td>0.350411</td>\n",
       "      <td>0.347998</td>\n",
       "      <td>0.511262</td>\n",
       "      <td>0.011858</td>\n",
       "      <td>0.905488</td>\n",
       "      <td>0.411901</td>\n",
       "      <td>0.007224</td>\n",
       "      <td>0.562982</td>\n",
       "      <td>0.002714</td>\n",
       "      <td>...</td>\n",
       "      <td>0.518420</td>\n",
       "      <td>1.029040</td>\n",
       "      <td>1.690586</td>\n",
       "      <td>-0.324654</td>\n",
       "      <td>-0.466387</td>\n",
       "      <td>-0.246780</td>\n",
       "      <td>-0.145931</td>\n",
       "      <td>-0.116875</td>\n",
       "      <td>0.001512</td>\n",
       "      <td>-0.017532</td>\n",
       "    </tr>\n",
       "    <tr>\n",
       "      <th>6993</th>\n",
       "      <td>0.429029</td>\n",
       "      <td>0.350411</td>\n",
       "      <td>0.693148</td>\n",
       "      <td>0.511262</td>\n",
       "      <td>0.646970</td>\n",
       "      <td>0.035509</td>\n",
       "      <td>0.826231</td>\n",
       "      <td>0.007224</td>\n",
       "      <td>1.132142</td>\n",
       "      <td>0.002714</td>\n",
       "      <td>...</td>\n",
       "      <td>-0.360314</td>\n",
       "      <td>-1.413716</td>\n",
       "      <td>-1.137006</td>\n",
       "      <td>0.165963</td>\n",
       "      <td>0.121159</td>\n",
       "      <td>0.769112</td>\n",
       "      <td>0.628000</td>\n",
       "      <td>0.520196</td>\n",
       "      <td>0.001512</td>\n",
       "      <td>-0.017532</td>\n",
       "    </tr>\n",
       "    <tr>\n",
       "      <th>7038</th>\n",
       "      <td>-0.209868</td>\n",
       "      <td>0.683604</td>\n",
       "      <td>-0.342303</td>\n",
       "      <td>1.001758</td>\n",
       "      <td>-0.623254</td>\n",
       "      <td>1.775466</td>\n",
       "      <td>-0.002429</td>\n",
       "      <td>0.007224</td>\n",
       "      <td>-0.006178</td>\n",
       "      <td>0.002714</td>\n",
       "      <td>...</td>\n",
       "      <td>-0.135283</td>\n",
       "      <td>1.632401</td>\n",
       "      <td>0.931073</td>\n",
       "      <td>0.977295</td>\n",
       "      <td>0.867513</td>\n",
       "      <td>-0.359657</td>\n",
       "      <td>-0.210426</td>\n",
       "      <td>-0.169964</td>\n",
       "      <td>0.001512</td>\n",
       "      <td>-0.017532</td>\n",
       "    </tr>\n",
       "    <tr>\n",
       "      <th>7080</th>\n",
       "      <td>-0.209868</td>\n",
       "      <td>0.017217</td>\n",
       "      <td>-0.342303</td>\n",
       "      <td>0.020766</td>\n",
       "      <td>-0.623254</td>\n",
       "      <td>0.035509</td>\n",
       "      <td>-0.831088</td>\n",
       "      <td>0.007224</td>\n",
       "      <td>-1.144499</td>\n",
       "      <td>0.002714</td>\n",
       "      <td>...</td>\n",
       "      <td>-0.363562</td>\n",
       "      <td>-1.592756</td>\n",
       "      <td>-3.563963</td>\n",
       "      <td>0.007368</td>\n",
       "      <td>0.005428</td>\n",
       "      <td>-0.811165</td>\n",
       "      <td>-0.468403</td>\n",
       "      <td>-0.382321</td>\n",
       "      <td>0.001512</td>\n",
       "      <td>-0.017532</td>\n",
       "    </tr>\n",
       "  </tbody>\n",
       "</table>\n",
       "<p>4606 rows × 71 columns</p>\n",
       "</div>"
      ],
      "text/plain": [
       "      fighter_wins_diff_2  fighter_losses_diff_2  fighter_L5Y_wins_diff_2  \\\n",
       "0               -0.848764               1.683186                -1.722903   \n",
       "2               -0.635798               0.350411                -1.032603   \n",
       "3               -2.126556              -2.315140                -1.032603   \n",
       "4                0.003098               0.017217                 0.002848   \n",
       "5               -1.274694              -1.981947                -1.032603   \n",
       "...                   ...                    ...                      ...   \n",
       "6955            -0.422833              -0.649171                -0.687453   \n",
       "6969             0.216063               0.350411                 0.347998   \n",
       "6993             0.429029               0.350411                 0.693148   \n",
       "7038            -0.209868               0.683604                -0.342303   \n",
       "7080            -0.209868               0.017217                -0.342303   \n",
       "\n",
       "      fighter_L5Y_losses_diff_2  fighter_L2Y_wins_diff_2  \\\n",
       "0                      0.511262                -1.258366   \n",
       "2                      0.511262                -2.528590   \n",
       "3                     -1.941218                 0.011858   \n",
       "4                      0.020766                 0.011858   \n",
       "5                     -2.431714                 0.011858   \n",
       "...                         ...                      ...   \n",
       "6955                  -0.960226                -0.623254   \n",
       "6969                   0.511262                 0.011858   \n",
       "6993                   0.511262                 0.646970   \n",
       "7038                   1.001758                -0.623254   \n",
       "7080                   0.020766                -0.623254   \n",
       "\n",
       "      fighter_L2Y_losses_diff_2  fighter_ko_wins_diff_2  \\\n",
       "0                      0.035509               -0.831088   \n",
       "2                      0.905488               -0.416759   \n",
       "3                     -0.834469               -2.902738   \n",
       "4                      0.035509                0.411901   \n",
       "5                     -1.704448               -1.245418   \n",
       "...                         ...                     ...   \n",
       "6955                  -0.834469               -0.416759   \n",
       "6969                   0.905488                0.411901   \n",
       "6993                   0.035509                0.826231   \n",
       "7038                   1.775466               -0.002429   \n",
       "7080                   0.035509               -0.831088   \n",
       "\n",
       "      fighter_ko_losses_diff_2  fighter_L5Y_ko_wins_diff_2  \\\n",
       "0                     0.730552                   -1.144499   \n",
       "2                     0.730552                   -0.575339   \n",
       "3                    -1.439433                   -1.144499   \n",
       "4                     0.007224                    0.562982   \n",
       "5                    -2.886089                   -1.144499   \n",
       "...                        ...                         ...   \n",
       "6955                 -0.716104                   -0.575339   \n",
       "6969                  0.007224                    0.562982   \n",
       "6993                  0.007224                    1.132142   \n",
       "7038                  0.007224                   -0.006178   \n",
       "7080                  0.007224                   -1.144499   \n",
       "\n",
       "      fighter_L5Y_ko_losses_diff_2  ...  \\\n",
       "0                         0.895769  ...   \n",
       "2                         0.895769  ...   \n",
       "3                        -1.783395  ...   \n",
       "4                         0.002714  ...   \n",
       "5                        -3.569504  ...   \n",
       "...                            ...  ...   \n",
       "6955                     -0.890340  ...   \n",
       "6969                      0.002714  ...   \n",
       "6993                      0.002714  ...   \n",
       "7038                      0.002714  ...   \n",
       "7080                      0.002714  ...   \n",
       "\n",
       "      fighter_abs_distance_strikes_attempts_avg_diff_2  \\\n",
       "0                                            -0.928222   \n",
       "2                                            -0.093542   \n",
       "3                                            -0.078971   \n",
       "4                                             0.161088   \n",
       "5                                             1.535967   \n",
       "...                                                ...   \n",
       "6955                                         -0.007854   \n",
       "6969                                          0.518420   \n",
       "6993                                         -0.360314   \n",
       "7038                                         -0.135283   \n",
       "7080                                         -0.363562   \n",
       "\n",
       "      fighter_abs_clinch_strikes_landed_avg_diff_2  \\\n",
       "0                                         0.336163   \n",
       "2                                         1.418345   \n",
       "3                                        -0.169674   \n",
       "4                                        -0.641694   \n",
       "5                                         0.235839   \n",
       "...                                            ...   \n",
       "6955                                      0.237530   \n",
       "6969                                      1.029040   \n",
       "6993                                     -1.413716   \n",
       "7038                                      1.632401   \n",
       "7080                                     -1.592756   \n",
       "\n",
       "      fighter_abs_clinch_strikes_attempts_avg_diff_2  \\\n",
       "0                                           0.193969   \n",
       "2                                           1.500149   \n",
       "3                                          -0.124803   \n",
       "4                                          -0.610330   \n",
       "5                                           0.493881   \n",
       "...                                              ...   \n",
       "6955                                        0.041011   \n",
       "6969                                        1.690586   \n",
       "6993                                       -1.137006   \n",
       "7038                                        0.931073   \n",
       "7080                                       -3.563963   \n",
       "\n",
       "      fighter_abs_ground_strikes_landed_avg_diff_2  \\\n",
       "0                                        -0.557716   \n",
       "2                                        -0.415707   \n",
       "3                                        -0.021722   \n",
       "4                                        -0.073661   \n",
       "5                                        -0.615497   \n",
       "...                                            ...   \n",
       "6955                                      0.242875   \n",
       "6969                                     -0.324654   \n",
       "6993                                      0.165963   \n",
       "7038                                      0.977295   \n",
       "7080                                      0.007368   \n",
       "\n",
       "      fighter_abs_ground_strikes_attempts_avg_diff_2  4-fighter_score_diff  \\\n",
       "0                                          -0.605906              0.543358   \n",
       "2                                          -0.405313              0.656235   \n",
       "3                                           0.016085             -0.133903   \n",
       "4                                          -0.105439             -0.698288   \n",
       "5                                          -0.802605             -0.359657   \n",
       "...                                              ...                   ...   \n",
       "6955                                        0.610817             -0.359657   \n",
       "6969                                       -0.466387             -0.246780   \n",
       "6993                                        0.121159              0.769112   \n",
       "7038                                        0.867513             -0.359657   \n",
       "7080                                        0.005428             -0.811165   \n",
       "\n",
       "      9-fighter_score_diff  15-fighter_score_diff  1-fight_math  6-fight_math  \n",
       "0                 0.112046               0.307839      0.001512     -0.017532  \n",
       "2                 0.370023               0.307839      0.001512     -0.017532  \n",
       "3                -0.081437              -0.063785      0.001512     -0.017532  \n",
       "4                -0.661886              -0.541589      0.001512     -0.017532  \n",
       "5                -0.081437               0.042393      0.001512     -0.017532  \n",
       "...                    ...                    ...           ...           ...  \n",
       "6955             -0.597391              -0.488500      0.001512     -0.017532  \n",
       "6969             -0.145931              -0.116875      0.001512     -0.017532  \n",
       "6993              0.628000               0.520196      0.001512     -0.017532  \n",
       "7038             -0.210426              -0.169964      0.001512     -0.017532  \n",
       "7080             -0.468403              -0.382321      0.001512     -0.017532  \n",
       "\n",
       "[4606 rows x 71 columns]"
      ]
     },
     "execution_count": 43,
     "metadata": {},
     "output_type": "execute_result"
    }
   ],
   "source": [
    "Xr_normalized"
   ]
  },
  {
   "cell_type": "code",
   "execution_count": 44,
   "id": "c64f3cc4",
   "metadata": {},
   "outputs": [],
   "source": [
    "import torch"
   ]
  },
  {
   "cell_type": "code",
   "execution_count": 45,
   "id": "96f36991",
   "metadata": {},
   "outputs": [],
   "source": [
    "import torch.nn as nn"
   ]
  },
  {
   "cell_type": "code",
   "execution_count": 46,
   "id": "5d21bd49",
   "metadata": {},
   "outputs": [],
   "source": [
    "# convert pandas DataFrame (X) and numpy array (y) into PyTorch tensors\n",
    "Xr_normalized = torch.tensor(Xr_normalized.values, dtype=torch.float32)\n",
    "yr_onehot = torch.tensor(yr_onehot, dtype=torch.float32)"
   ]
  },
  {
   "cell_type": "code",
   "execution_count": 64,
   "id": "7ece3ee0",
   "metadata": {},
   "outputs": [],
   "source": [
    "# using https://machinelearningmastery.com/building-a-multiclass-classification-model-in-pytorch/\n",
    "# but trying to get softmax to work\n",
    "class Multiclass(nn.Module):\n",
    "    def __init__(self, num_features, num_neurons, num_classes):\n",
    "        super().__init__()\n",
    "        self.hidden = nn.Linear(num_features, num_neurons)\n",
    "        self.relu = nn.ReLU()\n",
    "        self.output = nn.Linear(num_neurons, num_classes)\n",
    "        self.softmax = nn.LogSoftmax(dim = 1)\n",
    "        \n",
    "    def forward(self, x):\n",
    "        x = self.relu(self.hidden(x))\n",
    "        x = self.softmax(self.output(x))\n",
    "        return x\n",
    "    \n",
    "model = Multiclass(Xr_normalized.shape[1], 100, yr_onehot.shape[1])"
   ]
  },
  {
   "cell_type": "markdown",
   "id": "8d0831d5",
   "metadata": {},
   "source": [
    "torch.nn.NLLLoss(weight=None, size_average=None, ignore_index=- 100, reduce=None, reduction='mean')[SOURCE]\n",
    "\n",
    "The negative log likelihood loss. It is useful to train a classification problem with C classes.\n",
    "\n",
    "If provided, the optional argument weight should be a 1D Tensor assigning weight to each of the classes. This is particularly useful when you have an unbalanced training set."
   ]
  },
  {
   "cell_type": "code",
   "execution_count": 49,
   "id": "55cef01b",
   "metadata": {},
   "outputs": [],
   "source": [
    "import torch.optim as optim\n",
    "\n",
    "#loss_fn = nn.CrossEntropyLoss()\n",
    "loss_fn = nn.NLLLoss()\n",
    "optimizer = optim.Adam(model.parameters(), lr=0.001)"
   ]
  },
  {
   "cell_type": "code",
   "execution_count": 61,
   "id": "18cb2d52",
   "metadata": {},
   "outputs": [
    {
     "data": {
      "text/plain": [
       "tensor([[-8.4876e-01,  1.6832e+00, -1.7229e+00,  ...,  3.0784e-01,\n",
       "          1.5116e-03, -1.7532e-02],\n",
       "        [-6.3580e-01,  3.5041e-01, -1.0326e+00,  ...,  3.0784e-01,\n",
       "          1.5116e-03, -1.7532e-02],\n",
       "        [-2.1266e+00, -2.3151e+00, -1.0326e+00,  ..., -6.3786e-02,\n",
       "          1.5116e-03, -1.7532e-02],\n",
       "        ...,\n",
       "        [ 4.2903e-01,  3.5041e-01,  6.9315e-01,  ...,  5.2020e-01,\n",
       "          1.5116e-03, -1.7532e-02],\n",
       "        [-2.0987e-01,  6.8360e-01, -3.4230e-01,  ..., -1.6996e-01,\n",
       "          1.5116e-03, -1.7532e-02],\n",
       "        [-2.0987e-01,  1.7217e-02, -3.4230e-01,  ..., -3.8232e-01,\n",
       "          1.5116e-03, -1.7532e-02]])"
      ]
     },
     "execution_count": 61,
     "metadata": {},
     "output_type": "execute_result"
    }
   ],
   "source": [
    "Xr_normalized"
   ]
  },
  {
   "cell_type": "code",
   "execution_count": 62,
   "id": "53ed50c4",
   "metadata": {},
   "outputs": [
    {
     "data": {
      "text/plain": [
       "tensor([[-1.2334, -0.8905, -1.2099],\n",
       "        [-1.5533, -0.8038, -1.0764],\n",
       "        [-1.4759, -0.7491, -1.2085],\n",
       "        ...,\n",
       "        [-1.4749, -0.5784, -1.5586],\n",
       "        [-1.1115, -0.9779, -1.2213],\n",
       "        [-1.6214, -0.4949, -1.6463]], grad_fn=<LogSoftmaxBackward0>)"
      ]
     },
     "execution_count": 62,
     "metadata": {},
     "output_type": "execute_result"
    }
   ],
   "source": [
    "model(Xr_normalized)"
   ]
  },
  {
   "cell_type": "code",
   "execution_count": 50,
   "id": "a06745fe",
   "metadata": {},
   "outputs": [
    {
     "data": {
      "text/plain": [
       "tensor([2, 1, 2,  ..., 0, 2, 1])"
      ]
     },
     "execution_count": 50,
     "metadata": {},
     "output_type": "execute_result"
    }
   ],
   "source": [
    "yr_labels = torch.argmax(yr_onehot, dim=1)\n",
    "yr_labels"
   ]
  },
  {
   "cell_type": "code",
   "execution_count": 63,
   "id": "32306fe5",
   "metadata": {},
   "outputs": [
    {
     "data": {
      "text/plain": [
       "tensor(nan, grad_fn=<NllLossBackward0>)"
      ]
     },
     "execution_count": 63,
     "metadata": {},
     "output_type": "execute_result"
    }
   ],
   "source": [
    "# this is whats causing the problem... the loss function is not working\n",
    "loss_fn(model(Xr_normalized),yr_labels)"
   ]
  },
  {
   "cell_type": "code",
   "execution_count": 52,
   "id": "e0db0f70",
   "metadata": {},
   "outputs": [
    {
     "name": "stdout",
     "output_type": "stream",
     "text": [
      "input:  tensor([[-2.4433,  0.8135,  0.2733, -0.7469, -0.0871],\n",
      "        [-0.2786, -0.0351, -1.7871,  1.0199,  0.2018],\n",
      "        [ 1.1733,  0.8662, -1.7969, -0.4139,  0.0683]], requires_grad=True)\n",
      "target:  tensor([1, 0, 4])\n",
      "output:  tensor(1.6014, grad_fn=<NllLossBackward0>)\n"
     ]
    }
   ],
   "source": [
    "# size of input (N x C) is = 3 x 5\n",
    "input = torch.randn(3, 5, requires_grad=True)\n",
    "# every element in target should have 0 <= value < C\n",
    "target = torch.tensor([1, 0, 4])\n",
    "\n",
    "m = nn.LogSoftmax(dim=1)\n",
    "nll_loss = nn.NLLLoss()\n",
    "output = nll_loss(m(input), target)\n",
    "output.backward()\n",
    "\n",
    "print('input: ', input)\n",
    "print('target: ', target)\n",
    "print('output: ', output)"
   ]
  },
  {
   "cell_type": "code",
   "execution_count": 53,
   "id": "718dbd8f",
   "metadata": {},
   "outputs": [
    {
     "data": {
      "text/plain": [
       "torch.Size([3])"
      ]
     },
     "execution_count": 53,
     "metadata": {},
     "output_type": "execute_result"
    }
   ],
   "source": [
    "target.shape"
   ]
  },
  {
   "cell_type": "code",
   "execution_count": 55,
   "id": "981d2351",
   "metadata": {},
   "outputs": [
    {
     "data": {
      "text/plain": [
       "torch.Size([3, 5])"
      ]
     },
     "execution_count": 55,
     "metadata": {},
     "output_type": "execute_result"
    }
   ],
   "source": [
    "input.shape"
   ]
  },
  {
   "cell_type": "code",
   "execution_count": 56,
   "id": "46d349c5",
   "metadata": {},
   "outputs": [
    {
     "data": {
      "text/plain": [
       "torch.Size([3, 5])"
      ]
     },
     "execution_count": 56,
     "metadata": {},
     "output_type": "execute_result"
    }
   ],
   "source": [
    "m(input).shape"
   ]
  },
  {
   "cell_type": "code",
   "execution_count": 54,
   "id": "75213661",
   "metadata": {},
   "outputs": [
    {
     "data": {
      "text/plain": [
       "torch.Size([4606])"
      ]
     },
     "execution_count": 54,
     "metadata": {},
     "output_type": "execute_result"
    }
   ],
   "source": [
    "yr_labels.shape"
   ]
  },
  {
   "cell_type": "code",
   "execution_count": 57,
   "id": "25d4e37a",
   "metadata": {},
   "outputs": [
    {
     "data": {
      "text/plain": [
       "torch.Size([4606, 71])"
      ]
     },
     "execution_count": 57,
     "metadata": {},
     "output_type": "execute_result"
    }
   ],
   "source": [
    "Xr_normalized.shape"
   ]
  },
  {
   "cell_type": "code",
   "execution_count": 58,
   "id": "9e98c486",
   "metadata": {},
   "outputs": [
    {
     "data": {
      "text/plain": [
       "torch.Size([4606, 3])"
      ]
     },
     "execution_count": 58,
     "metadata": {},
     "output_type": "execute_result"
    }
   ],
   "source": [
    "model(Xr_normalized).shape"
   ]
  },
  {
   "cell_type": "code",
   "execution_count": null,
   "id": "3b5946c2",
   "metadata": {},
   "outputs": [],
   "source": []
  },
  {
   "cell_type": "code",
   "execution_count": 78,
   "id": "6d70077d",
   "metadata": {},
   "outputs": [
    {
     "name": "stderr",
     "output_type": "stream",
     "text": [
      "Epoch 0: 100%|██████████| 7/7 [00:00<00:00, 129.63batch/s, acc=0.262, loss=nan]\n"
     ]
    },
    {
     "name": "stdout",
     "output_type": "stream",
     "text": [
      "Epoch 0 validation: negative log likelihood loss=nan, Accuracy=0.2590448558330536\n"
     ]
    },
    {
     "name": "stderr",
     "output_type": "stream",
     "text": [
      "Epoch 1: 100%|██████████| 7/7 [00:00<00:00, 140.01batch/s, acc=0.262, loss=nan]\n"
     ]
    },
    {
     "name": "stdout",
     "output_type": "stream",
     "text": [
      "Epoch 1 validation: negative log likelihood loss=nan, Accuracy=0.2590448558330536\n"
     ]
    },
    {
     "name": "stderr",
     "output_type": "stream",
     "text": [
      "Epoch 2: 100%|██████████| 7/7 [00:00<00:00, 122.81batch/s, acc=0.262, loss=nan]\n"
     ]
    },
    {
     "name": "stdout",
     "output_type": "stream",
     "text": [
      "Epoch 2 validation: negative log likelihood loss=nan, Accuracy=0.2590448558330536\n"
     ]
    },
    {
     "name": "stderr",
     "output_type": "stream",
     "text": [
      "Epoch 3: 100%|██████████| 7/7 [00:00<00:00, 127.28batch/s, acc=0.262, loss=nan]\n"
     ]
    },
    {
     "name": "stdout",
     "output_type": "stream",
     "text": [
      "Epoch 3 validation: negative log likelihood loss=nan, Accuracy=0.2590448558330536\n"
     ]
    },
    {
     "name": "stderr",
     "output_type": "stream",
     "text": [
      "Epoch 4: 100%|██████████| 7/7 [00:00<00:00, 104.48batch/s, acc=0.262, loss=nan]\n"
     ]
    },
    {
     "name": "stdout",
     "output_type": "stream",
     "text": [
      "Epoch 4 validation: negative log likelihood loss=nan, Accuracy=0.2590448558330536\n"
     ]
    },
    {
     "name": "stderr",
     "output_type": "stream",
     "text": [
      "Epoch 5: 100%|██████████| 7/7 [00:00<00:00, 104.49batch/s, acc=0.262, loss=nan]\n"
     ]
    },
    {
     "name": "stdout",
     "output_type": "stream",
     "text": [
      "Epoch 5 validation: negative log likelihood loss=nan, Accuracy=0.2590448558330536\n"
     ]
    },
    {
     "name": "stderr",
     "output_type": "stream",
     "text": [
      "Epoch 6: 100%|██████████| 7/7 [00:00<00:00, 107.69batch/s, acc=0.262, loss=nan]\n"
     ]
    },
    {
     "name": "stdout",
     "output_type": "stream",
     "text": [
      "Epoch 6 validation: negative log likelihood loss=nan, Accuracy=0.2590448558330536\n"
     ]
    },
    {
     "name": "stderr",
     "output_type": "stream",
     "text": [
      "Epoch 7: 100%|██████████| 7/7 [00:00<00:00, 111.11batch/s, acc=0.262, loss=nan]\n"
     ]
    },
    {
     "name": "stdout",
     "output_type": "stream",
     "text": [
      "Epoch 7 validation: negative log likelihood loss=nan, Accuracy=0.2590448558330536\n"
     ]
    },
    {
     "name": "stderr",
     "output_type": "stream",
     "text": [
      "Epoch 8: 100%|██████████| 7/7 [00:00<00:00, 104.48batch/s, acc=0.262, loss=nan]\n"
     ]
    },
    {
     "name": "stdout",
     "output_type": "stream",
     "text": [
      "Epoch 8 validation: negative log likelihood loss=nan, Accuracy=0.2590448558330536\n"
     ]
    },
    {
     "name": "stderr",
     "output_type": "stream",
     "text": [
      "Epoch 9: 100%|██████████| 7/7 [00:00<00:00, 109.38batch/s, acc=0.262, loss=nan]\n"
     ]
    },
    {
     "name": "stdout",
     "output_type": "stream",
     "text": [
      "Epoch 9 validation: negative log likelihood loss=nan, Accuracy=0.2590448558330536\n"
     ]
    },
    {
     "name": "stderr",
     "output_type": "stream",
     "text": [
      "Epoch 10: 100%|██████████| 7/7 [00:00<00:00, 114.76batch/s, acc=0.262, loss=nan]\n"
     ]
    },
    {
     "name": "stdout",
     "output_type": "stream",
     "text": [
      "Epoch 10 validation: negative log likelihood loss=nan, Accuracy=0.2590448558330536\n"
     ]
    },
    {
     "name": "stderr",
     "output_type": "stream",
     "text": [
      "Epoch 11: 100%|██████████| 7/7 [00:00<00:00, 114.75batch/s, acc=0.262, loss=nan]\n"
     ]
    },
    {
     "name": "stdout",
     "output_type": "stream",
     "text": [
      "Epoch 11 validation: negative log likelihood loss=nan, Accuracy=0.2590448558330536\n"
     ]
    },
    {
     "name": "stderr",
     "output_type": "stream",
     "text": [
      "Epoch 12: 100%|██████████| 7/7 [00:00<00:00, 114.76batch/s, acc=0.262, loss=nan]\n"
     ]
    },
    {
     "name": "stdout",
     "output_type": "stream",
     "text": [
      "Epoch 12 validation: negative log likelihood loss=nan, Accuracy=0.2590448558330536\n"
     ]
    },
    {
     "name": "stderr",
     "output_type": "stream",
     "text": [
      "Epoch 13: 100%|██████████| 7/7 [00:00<00:00, 109.37batch/s, acc=0.262, loss=nan]\n"
     ]
    },
    {
     "name": "stdout",
     "output_type": "stream",
     "text": [
      "Epoch 13 validation: negative log likelihood loss=nan, Accuracy=0.2590448558330536\n"
     ]
    },
    {
     "name": "stderr",
     "output_type": "stream",
     "text": [
      "Epoch 14: 100%|██████████| 7/7 [00:00<00:00, 118.64batch/s, acc=0.262, loss=nan]\n"
     ]
    },
    {
     "name": "stdout",
     "output_type": "stream",
     "text": [
      "Epoch 14 validation: negative log likelihood loss=nan, Accuracy=0.2590448558330536\n"
     ]
    },
    {
     "name": "stderr",
     "output_type": "stream",
     "text": [
      "Epoch 15: 100%|██████████| 7/7 [00:00<00:00, 93.33batch/s, acc=0.262, loss=nan]\n"
     ]
    },
    {
     "name": "stdout",
     "output_type": "stream",
     "text": [
      "Epoch 15 validation: negative log likelihood loss=nan, Accuracy=0.2590448558330536\n"
     ]
    },
    {
     "name": "stderr",
     "output_type": "stream",
     "text": [
      "Epoch 16: 100%|██████████| 7/7 [00:00<00:00, 118.65batch/s, acc=0.262, loss=nan]\n"
     ]
    },
    {
     "name": "stdout",
     "output_type": "stream",
     "text": [
      "Epoch 16 validation: negative log likelihood loss=nan, Accuracy=0.2590448558330536\n"
     ]
    },
    {
     "name": "stderr",
     "output_type": "stream",
     "text": [
      "Epoch 17: 100%|██████████| 7/7 [00:00<00:00, 114.76batch/s, acc=0.262, loss=nan]\n"
     ]
    },
    {
     "name": "stdout",
     "output_type": "stream",
     "text": [
      "Epoch 17 validation: negative log likelihood loss=nan, Accuracy=0.2590448558330536\n"
     ]
    },
    {
     "name": "stderr",
     "output_type": "stream",
     "text": [
      "Epoch 18: 100%|██████████| 7/7 [00:00<00:00, 111.11batch/s, acc=0.262, loss=nan]\n"
     ]
    },
    {
     "name": "stdout",
     "output_type": "stream",
     "text": [
      "Epoch 18 validation: negative log likelihood loss=nan, Accuracy=0.2590448558330536\n"
     ]
    },
    {
     "name": "stderr",
     "output_type": "stream",
     "text": [
      "Epoch 19: 100%|██████████| 7/7 [00:00<00:00, 109.38batch/s, acc=0.262, loss=nan]\n"
     ]
    },
    {
     "name": "stdout",
     "output_type": "stream",
     "text": [
      "Epoch 19 validation: negative log likelihood loss=nan, Accuracy=0.2590448558330536\n"
     ]
    },
    {
     "name": "stderr",
     "output_type": "stream",
     "text": [
      "Epoch 20: 100%|██████████| 7/7 [00:00<00:00, 111.11batch/s, acc=0.262, loss=nan]\n"
     ]
    },
    {
     "name": "stdout",
     "output_type": "stream",
     "text": [
      "Epoch 20 validation: negative log likelihood loss=nan, Accuracy=0.2590448558330536\n"
     ]
    },
    {
     "name": "stderr",
     "output_type": "stream",
     "text": [
      "Epoch 21: 100%|██████████| 7/7 [00:00<00:00, 101.45batch/s, acc=0.262, loss=nan]\n"
     ]
    },
    {
     "name": "stdout",
     "output_type": "stream",
     "text": [
      "Epoch 21 validation: negative log likelihood loss=nan, Accuracy=0.2590448558330536\n"
     ]
    },
    {
     "name": "stderr",
     "output_type": "stream",
     "text": [
      "Epoch 22: 100%|██████████| 7/7 [00:00<00:00, 74.47batch/s, acc=0.262, loss=nan]\n"
     ]
    },
    {
     "name": "stdout",
     "output_type": "stream",
     "text": [
      "Epoch 22 validation: negative log likelihood loss=nan, Accuracy=0.2590448558330536\n"
     ]
    },
    {
     "name": "stderr",
     "output_type": "stream",
     "text": [
      "Epoch 23: 100%|██████████| 7/7 [00:00<00:00, 32.56batch/s, acc=0.262, loss=nan]\n"
     ]
    },
    {
     "name": "stdout",
     "output_type": "stream",
     "text": [
      "Epoch 23 validation: negative log likelihood loss=nan, Accuracy=0.2590448558330536\n"
     ]
    },
    {
     "name": "stderr",
     "output_type": "stream",
     "text": [
      "Epoch 24: 100%|██████████| 7/7 [00:00<00:00, 73.69batch/s, acc=0.262, loss=nan]\n"
     ]
    },
    {
     "name": "stdout",
     "output_type": "stream",
     "text": [
      "Epoch 24 validation: negative log likelihood loss=nan, Accuracy=0.2590448558330536\n"
     ]
    },
    {
     "name": "stderr",
     "output_type": "stream",
     "text": [
      "Epoch 25: 100%|██████████| 7/7 [00:00<00:00, 70.00batch/s, acc=0.262, loss=nan]\n"
     ]
    },
    {
     "name": "stdout",
     "output_type": "stream",
     "text": [
      "Epoch 25 validation: negative log likelihood loss=nan, Accuracy=0.2590448558330536\n"
     ]
    },
    {
     "name": "stderr",
     "output_type": "stream",
     "text": [
      "Epoch 26: 100%|██████████| 7/7 [00:00<00:00, 86.42batch/s, acc=0.262, loss=nan]\n"
     ]
    },
    {
     "name": "stdout",
     "output_type": "stream",
     "text": [
      "Epoch 26 validation: negative log likelihood loss=nan, Accuracy=0.2590448558330536\n"
     ]
    },
    {
     "name": "stderr",
     "output_type": "stream",
     "text": [
      "Epoch 27: 100%|██████████| 7/7 [00:00<00:00, 82.36batch/s, acc=0.262, loss=nan]\n"
     ]
    },
    {
     "name": "stdout",
     "output_type": "stream",
     "text": [
      "Epoch 27 validation: negative log likelihood loss=nan, Accuracy=0.2590448558330536\n"
     ]
    },
    {
     "name": "stderr",
     "output_type": "stream",
     "text": [
      "Epoch 28: 100%|██████████| 7/7 [00:00<00:00, 109.38batch/s, acc=0.262, loss=nan]\n"
     ]
    },
    {
     "name": "stdout",
     "output_type": "stream",
     "text": [
      "Epoch 28 validation: negative log likelihood loss=nan, Accuracy=0.2590448558330536\n"
     ]
    },
    {
     "name": "stderr",
     "output_type": "stream",
     "text": [
      "Epoch 29: 100%|██████████| 7/7 [00:00<00:00, 86.42batch/s, acc=0.262, loss=nan]\n"
     ]
    },
    {
     "name": "stdout",
     "output_type": "stream",
     "text": [
      "Epoch 29 validation: negative log likelihood loss=nan, Accuracy=0.2590448558330536\n"
     ]
    },
    {
     "name": "stderr",
     "output_type": "stream",
     "text": [
      "Epoch 30: 100%|██████████| 7/7 [00:00<00:00, 94.59batch/s, acc=0.262, loss=nan] \n"
     ]
    },
    {
     "name": "stdout",
     "output_type": "stream",
     "text": [
      "Epoch 30 validation: negative log likelihood loss=nan, Accuracy=0.2590448558330536\n"
     ]
    },
    {
     "name": "stderr",
     "output_type": "stream",
     "text": [
      "Epoch 31: 100%|██████████| 7/7 [00:00<00:00, 104.48batch/s, acc=0.262, loss=nan]\n"
     ]
    },
    {
     "name": "stdout",
     "output_type": "stream",
     "text": [
      "Epoch 31 validation: negative log likelihood loss=nan, Accuracy=0.2590448558330536\n"
     ]
    },
    {
     "name": "stderr",
     "output_type": "stream",
     "text": [
      "Epoch 32: 100%|██████████| 7/7 [00:00<00:00, 107.69batch/s, acc=0.262, loss=nan]\n"
     ]
    },
    {
     "name": "stdout",
     "output_type": "stream",
     "text": [
      "Epoch 32 validation: negative log likelihood loss=nan, Accuracy=0.2590448558330536\n"
     ]
    },
    {
     "name": "stderr",
     "output_type": "stream",
     "text": [
      "Epoch 33: 100%|██████████| 7/7 [00:00<00:00, 106.06batch/s, acc=0.262, loss=nan]\n"
     ]
    },
    {
     "name": "stdout",
     "output_type": "stream",
     "text": [
      "Epoch 33 validation: negative log likelihood loss=nan, Accuracy=0.2590448558330536\n"
     ]
    },
    {
     "name": "stderr",
     "output_type": "stream",
     "text": [
      "Epoch 34: 100%|██████████| 7/7 [00:00<00:00, 101.45batch/s, acc=0.262, loss=nan]\n"
     ]
    },
    {
     "name": "stdout",
     "output_type": "stream",
     "text": [
      "Epoch 34 validation: negative log likelihood loss=nan, Accuracy=0.2590448558330536\n"
     ]
    },
    {
     "name": "stderr",
     "output_type": "stream",
     "text": [
      "Epoch 35: 100%|██████████| 7/7 [00:00<00:00, 95.89batch/s, acc=0.262, loss=nan] \n"
     ]
    },
    {
     "name": "stdout",
     "output_type": "stream",
     "text": [
      "Epoch 35 validation: negative log likelihood loss=nan, Accuracy=0.2590448558330536\n"
     ]
    },
    {
     "name": "stderr",
     "output_type": "stream",
     "text": [
      "Epoch 36: 100%|██████████| 7/7 [00:00<00:00, 101.45batch/s, acc=0.262, loss=nan]\n"
     ]
    },
    {
     "name": "stdout",
     "output_type": "stream",
     "text": [
      "Epoch 36 validation: negative log likelihood loss=nan, Accuracy=0.2590448558330536\n"
     ]
    },
    {
     "name": "stderr",
     "output_type": "stream",
     "text": [
      "Epoch 37: 100%|██████████| 7/7 [00:00<00:00, 101.45batch/s, acc=0.262, loss=nan]\n"
     ]
    },
    {
     "name": "stdout",
     "output_type": "stream",
     "text": [
      "Epoch 37 validation: negative log likelihood loss=nan, Accuracy=0.2590448558330536\n"
     ]
    },
    {
     "name": "stderr",
     "output_type": "stream",
     "text": [
      "Epoch 38: 100%|██████████| 7/7 [00:00<00:00, 101.45batch/s, acc=0.262, loss=nan]\n"
     ]
    },
    {
     "name": "stdout",
     "output_type": "stream",
     "text": [
      "Epoch 38 validation: negative log likelihood loss=nan, Accuracy=0.2590448558330536\n"
     ]
    },
    {
     "name": "stderr",
     "output_type": "stream",
     "text": [
      "Epoch 39: 100%|██████████| 7/7 [00:00<00:00, 101.45batch/s, acc=0.262, loss=nan]\n"
     ]
    },
    {
     "name": "stdout",
     "output_type": "stream",
     "text": [
      "Epoch 39 validation: negative log likelihood loss=nan, Accuracy=0.2590448558330536\n"
     ]
    },
    {
     "name": "stderr",
     "output_type": "stream",
     "text": [
      "Epoch 40: 100%|██████████| 7/7 [00:00<00:00, 102.94batch/s, acc=0.262, loss=nan]\n"
     ]
    },
    {
     "name": "stdout",
     "output_type": "stream",
     "text": [
      "Epoch 40 validation: negative log likelihood loss=nan, Accuracy=0.2590448558330536\n"
     ]
    },
    {
     "name": "stderr",
     "output_type": "stream",
     "text": [
      "Epoch 41: 100%|██████████| 7/7 [00:00<00:00, 104.48batch/s, acc=0.262, loss=nan]\n"
     ]
    },
    {
     "name": "stdout",
     "output_type": "stream",
     "text": [
      "Epoch 41 validation: negative log likelihood loss=nan, Accuracy=0.2590448558330536\n"
     ]
    },
    {
     "name": "stderr",
     "output_type": "stream",
     "text": [
      "Epoch 42: 100%|██████████| 7/7 [00:00<00:00, 109.38batch/s, acc=0.262, loss=nan]\n"
     ]
    },
    {
     "name": "stdout",
     "output_type": "stream",
     "text": [
      "Epoch 42 validation: negative log likelihood loss=nan, Accuracy=0.2590448558330536\n"
     ]
    },
    {
     "name": "stderr",
     "output_type": "stream",
     "text": [
      "Epoch 43: 100%|██████████| 7/7 [00:00<00:00, 106.06batch/s, acc=0.262, loss=nan]\n"
     ]
    },
    {
     "name": "stdout",
     "output_type": "stream",
     "text": [
      "Epoch 43 validation: negative log likelihood loss=nan, Accuracy=0.2590448558330536\n"
     ]
    },
    {
     "name": "stderr",
     "output_type": "stream",
     "text": [
      "Epoch 44: 100%|██████████| 7/7 [00:00<00:00, 104.48batch/s, acc=0.262, loss=nan]\n"
     ]
    },
    {
     "name": "stdout",
     "output_type": "stream",
     "text": [
      "Epoch 44 validation: negative log likelihood loss=nan, Accuracy=0.2590448558330536\n"
     ]
    },
    {
     "name": "stderr",
     "output_type": "stream",
     "text": [
      "Epoch 45: 100%|██████████| 7/7 [00:00<00:00, 84.33batch/s, acc=0.262, loss=nan]\n"
     ]
    },
    {
     "name": "stdout",
     "output_type": "stream",
     "text": [
      "Epoch 45 validation: negative log likelihood loss=nan, Accuracy=0.2590448558330536\n"
     ]
    },
    {
     "name": "stderr",
     "output_type": "stream",
     "text": [
      "Epoch 46: 100%|██████████| 7/7 [00:00<00:00, 101.45batch/s, acc=0.262, loss=nan]\n"
     ]
    },
    {
     "name": "stdout",
     "output_type": "stream",
     "text": [
      "Epoch 46 validation: negative log likelihood loss=nan, Accuracy=0.2590448558330536\n"
     ]
    },
    {
     "name": "stderr",
     "output_type": "stream",
     "text": [
      "Epoch 47: 100%|██████████| 7/7 [00:00<00:00, 48.95batch/s, acc=0.262, loss=nan]\n"
     ]
    },
    {
     "name": "stdout",
     "output_type": "stream",
     "text": [
      "Epoch 47 validation: negative log likelihood loss=nan, Accuracy=0.2590448558330536\n"
     ]
    },
    {
     "name": "stderr",
     "output_type": "stream",
     "text": [
      "Epoch 48: 100%|██████████| 7/7 [00:00<00:00, 104.48batch/s, acc=0.262, loss=nan]\n"
     ]
    },
    {
     "name": "stdout",
     "output_type": "stream",
     "text": [
      "Epoch 48 validation: negative log likelihood loss=nan, Accuracy=0.2590448558330536\n"
     ]
    },
    {
     "name": "stderr",
     "output_type": "stream",
     "text": [
      "Epoch 49: 100%|██████████| 7/7 [00:00<00:00, 104.48batch/s, acc=0.262, loss=nan]\n"
     ]
    },
    {
     "name": "stdout",
     "output_type": "stream",
     "text": [
      "Epoch 49 validation: negative log likelihood loss=nan, Accuracy=0.2590448558330536\n"
     ]
    },
    {
     "name": "stderr",
     "output_type": "stream",
     "text": [
      "Epoch 50: 100%|██████████| 7/7 [00:00<00:00, 106.06batch/s, acc=0.262, loss=nan]\n"
     ]
    },
    {
     "name": "stdout",
     "output_type": "stream",
     "text": [
      "Epoch 50 validation: negative log likelihood loss=nan, Accuracy=0.2590448558330536\n"
     ]
    },
    {
     "name": "stderr",
     "output_type": "stream",
     "text": [
      "Epoch 51: 100%|██████████| 7/7 [00:00<00:00, 104.48batch/s, acc=0.262, loss=nan]\n"
     ]
    },
    {
     "name": "stdout",
     "output_type": "stream",
     "text": [
      "Epoch 51 validation: negative log likelihood loss=nan, Accuracy=0.2590448558330536\n"
     ]
    },
    {
     "name": "stderr",
     "output_type": "stream",
     "text": [
      "Epoch 52: 100%|██████████| 7/7 [00:00<00:00, 106.06batch/s, acc=0.262, loss=nan]\n"
     ]
    },
    {
     "name": "stdout",
     "output_type": "stream",
     "text": [
      "Epoch 52 validation: negative log likelihood loss=nan, Accuracy=0.2590448558330536\n"
     ]
    },
    {
     "name": "stderr",
     "output_type": "stream",
     "text": [
      "Epoch 53: 100%|██████████| 7/7 [00:00<00:00, 112.90batch/s, acc=0.262, loss=nan]\n"
     ]
    },
    {
     "name": "stdout",
     "output_type": "stream",
     "text": [
      "Epoch 53 validation: negative log likelihood loss=nan, Accuracy=0.2590448558330536\n"
     ]
    },
    {
     "name": "stderr",
     "output_type": "stream",
     "text": [
      "Epoch 54: 100%|██████████| 7/7 [00:00<00:00, 109.37batch/s, acc=0.262, loss=nan]\n"
     ]
    },
    {
     "name": "stdout",
     "output_type": "stream",
     "text": [
      "Epoch 54 validation: negative log likelihood loss=nan, Accuracy=0.2590448558330536\n"
     ]
    },
    {
     "name": "stderr",
     "output_type": "stream",
     "text": [
      "Epoch 55: 100%|██████████| 7/7 [00:00<00:00, 104.48batch/s, acc=0.262, loss=nan]\n"
     ]
    },
    {
     "name": "stdout",
     "output_type": "stream",
     "text": [
      "Epoch 55 validation: negative log likelihood loss=nan, Accuracy=0.2590448558330536\n"
     ]
    },
    {
     "name": "stderr",
     "output_type": "stream",
     "text": [
      "Epoch 56: 100%|██████████| 7/7 [00:00<00:00, 101.45batch/s, acc=0.262, loss=nan]\n"
     ]
    },
    {
     "name": "stdout",
     "output_type": "stream",
     "text": [
      "Epoch 56 validation: negative log likelihood loss=nan, Accuracy=0.2590448558330536\n"
     ]
    },
    {
     "name": "stderr",
     "output_type": "stream",
     "text": [
      "Epoch 57: 100%|██████████| 7/7 [00:00<00:00, 102.94batch/s, acc=0.262, loss=nan]\n"
     ]
    },
    {
     "name": "stdout",
     "output_type": "stream",
     "text": [
      "Epoch 57 validation: negative log likelihood loss=nan, Accuracy=0.2590448558330536\n"
     ]
    },
    {
     "name": "stderr",
     "output_type": "stream",
     "text": [
      "Epoch 58: 100%|██████████| 7/7 [00:00<00:00, 102.94batch/s, acc=0.262, loss=nan]\n"
     ]
    },
    {
     "name": "stdout",
     "output_type": "stream",
     "text": [
      "Epoch 58 validation: negative log likelihood loss=nan, Accuracy=0.2590448558330536\n"
     ]
    },
    {
     "name": "stderr",
     "output_type": "stream",
     "text": [
      "Epoch 59: 100%|██████████| 7/7 [00:00<00:00, 106.06batch/s, acc=0.262, loss=nan]\n"
     ]
    },
    {
     "name": "stdout",
     "output_type": "stream",
     "text": [
      "Epoch 59 validation: negative log likelihood loss=nan, Accuracy=0.2590448558330536\n"
     ]
    },
    {
     "name": "stderr",
     "output_type": "stream",
     "text": [
      "Epoch 60: 100%|██████████| 7/7 [00:00<00:00, 86.42batch/s, acc=0.262, loss=nan]\n"
     ]
    },
    {
     "name": "stdout",
     "output_type": "stream",
     "text": [
      "Epoch 60 validation: negative log likelihood loss=nan, Accuracy=0.2590448558330536\n"
     ]
    },
    {
     "name": "stderr",
     "output_type": "stream",
     "text": [
      "Epoch 61: 100%|██████████| 7/7 [00:00<00:00, 102.95batch/s, acc=0.262, loss=nan]\n"
     ]
    },
    {
     "name": "stdout",
     "output_type": "stream",
     "text": [
      "Epoch 61 validation: negative log likelihood loss=nan, Accuracy=0.2590448558330536\n"
     ]
    },
    {
     "name": "stderr",
     "output_type": "stream",
     "text": [
      "Epoch 62: 100%|██████████| 7/7 [00:00<00:00, 106.06batch/s, acc=0.262, loss=nan]\n"
     ]
    },
    {
     "name": "stdout",
     "output_type": "stream",
     "text": [
      "Epoch 62 validation: negative log likelihood loss=nan, Accuracy=0.2590448558330536\n"
     ]
    },
    {
     "name": "stderr",
     "output_type": "stream",
     "text": [
      "Epoch 63: 100%|██████████| 7/7 [00:00<00:00, 101.45batch/s, acc=0.262, loss=nan]\n"
     ]
    },
    {
     "name": "stdout",
     "output_type": "stream",
     "text": [
      "Epoch 63 validation: negative log likelihood loss=nan, Accuracy=0.2590448558330536\n"
     ]
    },
    {
     "name": "stderr",
     "output_type": "stream",
     "text": [
      "Epoch 64: 100%|██████████| 7/7 [00:00<00:00, 102.94batch/s, acc=0.262, loss=nan]\n"
     ]
    },
    {
     "name": "stdout",
     "output_type": "stream",
     "text": [
      "Epoch 64 validation: negative log likelihood loss=nan, Accuracy=0.2590448558330536\n"
     ]
    },
    {
     "name": "stderr",
     "output_type": "stream",
     "text": [
      "Epoch 65: 100%|██████████| 7/7 [00:00<00:00, 97.22batch/s, acc=0.262, loss=nan] \n"
     ]
    },
    {
     "name": "stdout",
     "output_type": "stream",
     "text": [
      "Epoch 65 validation: negative log likelihood loss=nan, Accuracy=0.2590448558330536\n"
     ]
    },
    {
     "name": "stderr",
     "output_type": "stream",
     "text": [
      "Epoch 66: 100%|██████████| 7/7 [00:00<00:00, 106.06batch/s, acc=0.262, loss=nan]\n"
     ]
    },
    {
     "name": "stdout",
     "output_type": "stream",
     "text": [
      "Epoch 66 validation: negative log likelihood loss=nan, Accuracy=0.2590448558330536\n"
     ]
    },
    {
     "name": "stderr",
     "output_type": "stream",
     "text": [
      "Epoch 67: 100%|██████████| 7/7 [00:00<00:00, 104.48batch/s, acc=0.262, loss=nan]\n"
     ]
    },
    {
     "name": "stdout",
     "output_type": "stream",
     "text": [
      "Epoch 67 validation: negative log likelihood loss=nan, Accuracy=0.2590448558330536\n"
     ]
    },
    {
     "name": "stderr",
     "output_type": "stream",
     "text": [
      "Epoch 68: 100%|██████████| 7/7 [00:00<00:00, 100.00batch/s, acc=0.262, loss=nan]\n"
     ]
    },
    {
     "name": "stdout",
     "output_type": "stream",
     "text": [
      "Epoch 68 validation: negative log likelihood loss=nan, Accuracy=0.2590448558330536\n"
     ]
    },
    {
     "name": "stderr",
     "output_type": "stream",
     "text": [
      "Epoch 69: 100%|██████████| 7/7 [00:00<00:00, 106.06batch/s, acc=0.262, loss=nan]\n"
     ]
    },
    {
     "name": "stdout",
     "output_type": "stream",
     "text": [
      "Epoch 69 validation: negative log likelihood loss=nan, Accuracy=0.2590448558330536\n"
     ]
    },
    {
     "name": "stderr",
     "output_type": "stream",
     "text": [
      "Epoch 70: 100%|██████████| 7/7 [00:00<00:00, 107.69batch/s, acc=0.262, loss=nan]\n"
     ]
    },
    {
     "name": "stdout",
     "output_type": "stream",
     "text": [
      "Epoch 70 validation: negative log likelihood loss=nan, Accuracy=0.2590448558330536\n"
     ]
    },
    {
     "name": "stderr",
     "output_type": "stream",
     "text": [
      "Epoch 71: 100%|██████████| 7/7 [00:00<00:00, 87.50batch/s, acc=0.262, loss=nan]\n"
     ]
    },
    {
     "name": "stdout",
     "output_type": "stream",
     "text": [
      "Epoch 71 validation: negative log likelihood loss=nan, Accuracy=0.2590448558330536\n"
     ]
    },
    {
     "name": "stderr",
     "output_type": "stream",
     "text": [
      "Epoch 72: 100%|██████████| 7/7 [00:00<00:00, 90.91batch/s, acc=0.262, loss=nan]\n"
     ]
    },
    {
     "name": "stdout",
     "output_type": "stream",
     "text": [
      "Epoch 72 validation: negative log likelihood loss=nan, Accuracy=0.2590448558330536\n"
     ]
    },
    {
     "name": "stderr",
     "output_type": "stream",
     "text": [
      "Epoch 73: 100%|██████████| 7/7 [00:00<00:00, 100.00batch/s, acc=0.262, loss=nan]\n"
     ]
    },
    {
     "name": "stdout",
     "output_type": "stream",
     "text": [
      "Epoch 73 validation: negative log likelihood loss=nan, Accuracy=0.2590448558330536\n"
     ]
    },
    {
     "name": "stderr",
     "output_type": "stream",
     "text": [
      "Epoch 74: 100%|██████████| 7/7 [00:00<00:00, 97.23batch/s, acc=0.262, loss=nan] \n"
     ]
    },
    {
     "name": "stdout",
     "output_type": "stream",
     "text": [
      "Epoch 74 validation: negative log likelihood loss=nan, Accuracy=0.2590448558330536\n"
     ]
    },
    {
     "name": "stderr",
     "output_type": "stream",
     "text": [
      "Epoch 75: 100%|██████████| 7/7 [00:00<00:00, 97.22batch/s, acc=0.262, loss=nan]\n"
     ]
    },
    {
     "name": "stdout",
     "output_type": "stream",
     "text": [
      "Epoch 75 validation: negative log likelihood loss=nan, Accuracy=0.2590448558330536\n"
     ]
    },
    {
     "name": "stderr",
     "output_type": "stream",
     "text": [
      "Epoch 76: 100%|██████████| 7/7 [00:00<00:00, 104.48batch/s, acc=0.262, loss=nan]\n"
     ]
    },
    {
     "name": "stdout",
     "output_type": "stream",
     "text": [
      "Epoch 76 validation: negative log likelihood loss=nan, Accuracy=0.2590448558330536\n"
     ]
    },
    {
     "name": "stderr",
     "output_type": "stream",
     "text": [
      "Epoch 77: 100%|██████████| 7/7 [00:00<00:00, 39.11batch/s, acc=0.262, loss=nan]\n"
     ]
    },
    {
     "name": "stdout",
     "output_type": "stream",
     "text": [
      "Epoch 77 validation: negative log likelihood loss=nan, Accuracy=0.2590448558330536\n"
     ]
    },
    {
     "name": "stderr",
     "output_type": "stream",
     "text": [
      "Epoch 78: 100%|██████████| 7/7 [00:00<00:00, 92.11batch/s, acc=0.262, loss=nan] \n"
     ]
    },
    {
     "name": "stdout",
     "output_type": "stream",
     "text": [
      "Epoch 78 validation: negative log likelihood loss=nan, Accuracy=0.2590448558330536\n"
     ]
    },
    {
     "name": "stderr",
     "output_type": "stream",
     "text": [
      "Epoch 79: 100%|██████████| 7/7 [00:00<00:00, 102.94batch/s, acc=0.262, loss=nan]\n"
     ]
    },
    {
     "name": "stdout",
     "output_type": "stream",
     "text": [
      "Epoch 79 validation: negative log likelihood loss=nan, Accuracy=0.2590448558330536\n"
     ]
    },
    {
     "name": "stderr",
     "output_type": "stream",
     "text": [
      "Epoch 80: 100%|██████████| 7/7 [00:00<00:00, 101.45batch/s, acc=0.262, loss=nan]\n"
     ]
    },
    {
     "name": "stdout",
     "output_type": "stream",
     "text": [
      "Epoch 80 validation: negative log likelihood loss=nan, Accuracy=0.2590448558330536\n"
     ]
    },
    {
     "name": "stderr",
     "output_type": "stream",
     "text": [
      "Epoch 81: 100%|██████████| 7/7 [00:00<00:00, 106.06batch/s, acc=0.262, loss=nan]\n"
     ]
    },
    {
     "name": "stdout",
     "output_type": "stream",
     "text": [
      "Epoch 81 validation: negative log likelihood loss=nan, Accuracy=0.2590448558330536\n"
     ]
    },
    {
     "name": "stderr",
     "output_type": "stream",
     "text": [
      "Epoch 82: 100%|██████████| 7/7 [00:00<00:00, 102.93batch/s, acc=0.262, loss=nan]\n"
     ]
    },
    {
     "name": "stdout",
     "output_type": "stream",
     "text": [
      "Epoch 82 validation: negative log likelihood loss=nan, Accuracy=0.2590448558330536\n"
     ]
    },
    {
     "name": "stderr",
     "output_type": "stream",
     "text": [
      "Epoch 83: 100%|██████████| 7/7 [00:00<00:00, 98.59batch/s, acc=0.262, loss=nan] \n"
     ]
    },
    {
     "name": "stdout",
     "output_type": "stream",
     "text": [
      "Epoch 83 validation: negative log likelihood loss=nan, Accuracy=0.2590448558330536\n"
     ]
    },
    {
     "name": "stderr",
     "output_type": "stream",
     "text": [
      "Epoch 84: 100%|██████████| 7/7 [00:00<00:00, 85.37batch/s, acc=0.262, loss=nan] \n"
     ]
    },
    {
     "name": "stdout",
     "output_type": "stream",
     "text": [
      "Epoch 84 validation: negative log likelihood loss=nan, Accuracy=0.2590448558330536\n"
     ]
    },
    {
     "name": "stderr",
     "output_type": "stream",
     "text": [
      "Epoch 85: 100%|██████████| 7/7 [00:00<00:00, 92.10batch/s, acc=0.262, loss=nan]\n"
     ]
    },
    {
     "name": "stdout",
     "output_type": "stream",
     "text": [
      "Epoch 85 validation: negative log likelihood loss=nan, Accuracy=0.2590448558330536\n"
     ]
    },
    {
     "name": "stderr",
     "output_type": "stream",
     "text": [
      "Epoch 86: 100%|██████████| 7/7 [00:00<00:00, 102.94batch/s, acc=0.262, loss=nan]\n"
     ]
    },
    {
     "name": "stdout",
     "output_type": "stream",
     "text": [
      "Epoch 86 validation: negative log likelihood loss=nan, Accuracy=0.2590448558330536\n"
     ]
    },
    {
     "name": "stderr",
     "output_type": "stream",
     "text": [
      "Epoch 87: 100%|██████████| 7/7 [00:00<00:00, 104.48batch/s, acc=0.262, loss=nan]\n"
     ]
    },
    {
     "name": "stdout",
     "output_type": "stream",
     "text": [
      "Epoch 87 validation: negative log likelihood loss=nan, Accuracy=0.2590448558330536\n"
     ]
    },
    {
     "name": "stderr",
     "output_type": "stream",
     "text": [
      "Epoch 88: 100%|██████████| 7/7 [00:00<00:00, 104.48batch/s, acc=0.262, loss=nan]\n"
     ]
    },
    {
     "name": "stdout",
     "output_type": "stream",
     "text": [
      "Epoch 88 validation: negative log likelihood loss=nan, Accuracy=0.2590448558330536\n"
     ]
    },
    {
     "name": "stderr",
     "output_type": "stream",
     "text": [
      "Epoch 89: 100%|██████████| 7/7 [00:00<00:00, 100.00batch/s, acc=0.262, loss=nan]\n"
     ]
    },
    {
     "name": "stdout",
     "output_type": "stream",
     "text": [
      "Epoch 89 validation: negative log likelihood loss=nan, Accuracy=0.2590448558330536\n"
     ]
    },
    {
     "name": "stderr",
     "output_type": "stream",
     "text": [
      "Epoch 90: 100%|██████████| 7/7 [00:00<00:00, 100.00batch/s, acc=0.262, loss=nan]\n"
     ]
    },
    {
     "name": "stdout",
     "output_type": "stream",
     "text": [
      "Epoch 90 validation: negative log likelihood loss=nan, Accuracy=0.2590448558330536\n"
     ]
    },
    {
     "name": "stderr",
     "output_type": "stream",
     "text": [
      "Epoch 91: 100%|██████████| 7/7 [00:00<00:00, 102.94batch/s, acc=0.262, loss=nan]\n"
     ]
    },
    {
     "name": "stdout",
     "output_type": "stream",
     "text": [
      "Epoch 91 validation: negative log likelihood loss=nan, Accuracy=0.2590448558330536\n"
     ]
    },
    {
     "name": "stderr",
     "output_type": "stream",
     "text": [
      "Epoch 92: 100%|██████████| 7/7 [00:00<00:00, 102.94batch/s, acc=0.262, loss=nan]\n"
     ]
    },
    {
     "name": "stdout",
     "output_type": "stream",
     "text": [
      "Epoch 92 validation: negative log likelihood loss=nan, Accuracy=0.2590448558330536\n"
     ]
    },
    {
     "name": "stderr",
     "output_type": "stream",
     "text": [
      "Epoch 93: 100%|██████████| 7/7 [00:00<00:00, 92.11batch/s, acc=0.262, loss=nan]\n"
     ]
    },
    {
     "name": "stdout",
     "output_type": "stream",
     "text": [
      "Epoch 93 validation: negative log likelihood loss=nan, Accuracy=0.2590448558330536\n"
     ]
    },
    {
     "name": "stderr",
     "output_type": "stream",
     "text": [
      "Epoch 94: 100%|██████████| 7/7 [00:00<00:00, 95.89batch/s, acc=0.262, loss=nan]\n"
     ]
    },
    {
     "name": "stdout",
     "output_type": "stream",
     "text": [
      "Epoch 94 validation: negative log likelihood loss=nan, Accuracy=0.2590448558330536\n"
     ]
    },
    {
     "name": "stderr",
     "output_type": "stream",
     "text": [
      "Epoch 95: 100%|██████████| 7/7 [00:00<00:00, 98.60batch/s, acc=0.262, loss=nan] \n"
     ]
    },
    {
     "name": "stdout",
     "output_type": "stream",
     "text": [
      "Epoch 95 validation: negative log likelihood loss=nan, Accuracy=0.2590448558330536\n"
     ]
    },
    {
     "name": "stderr",
     "output_type": "stream",
     "text": [
      "Epoch 96: 100%|██████████| 7/7 [00:00<00:00, 97.23batch/s, acc=0.262, loss=nan] \n"
     ]
    },
    {
     "name": "stdout",
     "output_type": "stream",
     "text": [
      "Epoch 96 validation: negative log likelihood loss=nan, Accuracy=0.2590448558330536\n"
     ]
    },
    {
     "name": "stderr",
     "output_type": "stream",
     "text": [
      "Epoch 97: 100%|██████████| 7/7 [00:00<00:00, 102.94batch/s, acc=0.262, loss=nan]\n"
     ]
    },
    {
     "name": "stdout",
     "output_type": "stream",
     "text": [
      "Epoch 97 validation: negative log likelihood loss=nan, Accuracy=0.2590448558330536\n"
     ]
    },
    {
     "name": "stderr",
     "output_type": "stream",
     "text": [
      "Epoch 98: 100%|██████████| 7/7 [00:00<00:00, 100.00batch/s, acc=0.262, loss=nan]\n"
     ]
    },
    {
     "name": "stdout",
     "output_type": "stream",
     "text": [
      "Epoch 98 validation: negative log likelihood loss=nan, Accuracy=0.2590448558330536\n"
     ]
    },
    {
     "name": "stderr",
     "output_type": "stream",
     "text": [
      "Epoch 99: 100%|██████████| 7/7 [00:00<00:00, 102.94batch/s, acc=0.262, loss=nan]\n"
     ]
    },
    {
     "name": "stdout",
     "output_type": "stream",
     "text": [
      "Epoch 99 validation: negative log likelihood loss=nan, Accuracy=0.2590448558330536\n"
     ]
    },
    {
     "name": "stderr",
     "output_type": "stream",
     "text": [
      "Epoch 100: 100%|██████████| 7/7 [00:00<00:00, 98.59batch/s, acc=0.262, loss=nan] \n"
     ]
    },
    {
     "name": "stdout",
     "output_type": "stream",
     "text": [
      "Epoch 100 validation: negative log likelihood loss=nan, Accuracy=0.2590448558330536\n"
     ]
    },
    {
     "name": "stderr",
     "output_type": "stream",
     "text": [
      "Epoch 101: 100%|██████████| 7/7 [00:00<00:00, 38.46batch/s, acc=0.262, loss=nan]\n"
     ]
    },
    {
     "name": "stdout",
     "output_type": "stream",
     "text": [
      "Epoch 101 validation: negative log likelihood loss=nan, Accuracy=0.2590448558330536\n"
     ]
    },
    {
     "name": "stderr",
     "output_type": "stream",
     "text": [
      "Epoch 102: 100%|██████████| 7/7 [00:00<00:00, 95.89batch/s, acc=0.262, loss=nan] \n"
     ]
    },
    {
     "name": "stdout",
     "output_type": "stream",
     "text": [
      "Epoch 102 validation: negative log likelihood loss=nan, Accuracy=0.2590448558330536\n"
     ]
    },
    {
     "name": "stderr",
     "output_type": "stream",
     "text": [
      "Epoch 103: 100%|██████████| 7/7 [00:00<00:00, 100.00batch/s, acc=0.262, loss=nan]\n"
     ]
    },
    {
     "name": "stdout",
     "output_type": "stream",
     "text": [
      "Epoch 103 validation: negative log likelihood loss=nan, Accuracy=0.2590448558330536\n"
     ]
    },
    {
     "name": "stderr",
     "output_type": "stream",
     "text": [
      "Epoch 104: 100%|██████████| 7/7 [00:00<00:00, 98.59batch/s, acc=0.262, loss=nan]\n"
     ]
    },
    {
     "name": "stdout",
     "output_type": "stream",
     "text": [
      "Epoch 104 validation: negative log likelihood loss=nan, Accuracy=0.2590448558330536\n"
     ]
    },
    {
     "name": "stderr",
     "output_type": "stream",
     "text": [
      "Epoch 105: 100%|██████████| 7/7 [00:00<00:00, 98.60batch/s, acc=0.262, loss=nan] \n"
     ]
    },
    {
     "name": "stdout",
     "output_type": "stream",
     "text": [
      "Epoch 105 validation: negative log likelihood loss=nan, Accuracy=0.2590448558330536\n"
     ]
    },
    {
     "name": "stderr",
     "output_type": "stream",
     "text": [
      "Epoch 106: 100%|██████████| 7/7 [00:00<00:00, 102.95batch/s, acc=0.262, loss=nan]\n"
     ]
    },
    {
     "name": "stdout",
     "output_type": "stream",
     "text": [
      "Epoch 106 validation: negative log likelihood loss=nan, Accuracy=0.2590448558330536\n"
     ]
    },
    {
     "name": "stderr",
     "output_type": "stream",
     "text": [
      "Epoch 107: 100%|██████████| 7/7 [00:00<00:00, 102.95batch/s, acc=0.262, loss=nan]\n"
     ]
    },
    {
     "name": "stdout",
     "output_type": "stream",
     "text": [
      "Epoch 107 validation: negative log likelihood loss=nan, Accuracy=0.2590448558330536\n"
     ]
    },
    {
     "name": "stderr",
     "output_type": "stream",
     "text": [
      "Epoch 108: 100%|██████████| 7/7 [00:00<00:00, 98.59batch/s, acc=0.262, loss=nan] \n"
     ]
    },
    {
     "name": "stdout",
     "output_type": "stream",
     "text": [
      "Epoch 108 validation: negative log likelihood loss=nan, Accuracy=0.2590448558330536\n"
     ]
    },
    {
     "name": "stderr",
     "output_type": "stream",
     "text": [
      "Epoch 109: 100%|██████████| 7/7 [00:00<00:00, 97.22batch/s, acc=0.262, loss=nan] \n"
     ]
    },
    {
     "name": "stdout",
     "output_type": "stream",
     "text": [
      "Epoch 109 validation: negative log likelihood loss=nan, Accuracy=0.2590448558330536\n"
     ]
    },
    {
     "name": "stderr",
     "output_type": "stream",
     "text": [
      "Epoch 110: 100%|██████████| 7/7 [00:00<00:00, 82.35batch/s, acc=0.262, loss=nan]\n"
     ]
    },
    {
     "name": "stdout",
     "output_type": "stream",
     "text": [
      "Epoch 110 validation: negative log likelihood loss=nan, Accuracy=0.2590448558330536\n"
     ]
    },
    {
     "name": "stderr",
     "output_type": "stream",
     "text": [
      "Epoch 111: 100%|██████████| 7/7 [00:00<00:00, 102.94batch/s, acc=0.262, loss=nan]\n"
     ]
    },
    {
     "name": "stdout",
     "output_type": "stream",
     "text": [
      "Epoch 111 validation: negative log likelihood loss=nan, Accuracy=0.2590448558330536\n"
     ]
    },
    {
     "name": "stderr",
     "output_type": "stream",
     "text": [
      "Epoch 112: 100%|██████████| 7/7 [00:00<00:00, 101.45batch/s, acc=0.262, loss=nan]\n"
     ]
    },
    {
     "name": "stdout",
     "output_type": "stream",
     "text": [
      "Epoch 112 validation: negative log likelihood loss=nan, Accuracy=0.2590448558330536\n"
     ]
    },
    {
     "name": "stderr",
     "output_type": "stream",
     "text": [
      "Epoch 113: 100%|██████████| 7/7 [00:00<00:00, 97.22batch/s, acc=0.262, loss=nan] \n"
     ]
    },
    {
     "name": "stdout",
     "output_type": "stream",
     "text": [
      "Epoch 113 validation: negative log likelihood loss=nan, Accuracy=0.2590448558330536\n"
     ]
    },
    {
     "name": "stderr",
     "output_type": "stream",
     "text": [
      "Epoch 114: 100%|██████████| 7/7 [00:00<00:00, 98.59batch/s, acc=0.262, loss=nan] \n"
     ]
    },
    {
     "name": "stdout",
     "output_type": "stream",
     "text": [
      "Epoch 114 validation: negative log likelihood loss=nan, Accuracy=0.2590448558330536\n"
     ]
    },
    {
     "name": "stderr",
     "output_type": "stream",
     "text": [
      "Epoch 115: 100%|██████████| 7/7 [00:00<00:00, 102.94batch/s, acc=0.262, loss=nan]\n"
     ]
    },
    {
     "name": "stdout",
     "output_type": "stream",
     "text": [
      "Epoch 115 validation: negative log likelihood loss=nan, Accuracy=0.2590448558330536\n"
     ]
    },
    {
     "name": "stderr",
     "output_type": "stream",
     "text": [
      "Epoch 116: 100%|██████████| 7/7 [00:00<00:00, 98.59batch/s, acc=0.262, loss=nan] \n"
     ]
    },
    {
     "name": "stdout",
     "output_type": "stream",
     "text": [
      "Epoch 116 validation: negative log likelihood loss=nan, Accuracy=0.2590448558330536\n"
     ]
    },
    {
     "name": "stderr",
     "output_type": "stream",
     "text": [
      "Epoch 117: 100%|██████████| 7/7 [00:00<00:00, 98.59batch/s, acc=0.262, loss=nan] \n"
     ]
    },
    {
     "name": "stdout",
     "output_type": "stream",
     "text": [
      "Epoch 117 validation: negative log likelihood loss=nan, Accuracy=0.2590448558330536\n"
     ]
    },
    {
     "name": "stderr",
     "output_type": "stream",
     "text": [
      "Epoch 118: 100%|██████████| 7/7 [00:00<00:00, 97.22batch/s, acc=0.262, loss=nan] \n"
     ]
    },
    {
     "name": "stdout",
     "output_type": "stream",
     "text": [
      "Epoch 118 validation: negative log likelihood loss=nan, Accuracy=0.2590448558330536\n"
     ]
    },
    {
     "name": "stderr",
     "output_type": "stream",
     "text": [
      "Epoch 119: 100%|██████████| 7/7 [00:00<00:00, 94.60batch/s, acc=0.262, loss=nan]\n"
     ]
    },
    {
     "name": "stdout",
     "output_type": "stream",
     "text": [
      "Epoch 119 validation: negative log likelihood loss=nan, Accuracy=0.2590448558330536\n"
     ]
    },
    {
     "name": "stderr",
     "output_type": "stream",
     "text": [
      "Epoch 120: 100%|██████████| 7/7 [00:00<00:00, 81.40batch/s, acc=0.262, loss=nan]\n"
     ]
    },
    {
     "name": "stdout",
     "output_type": "stream",
     "text": [
      "Epoch 120 validation: negative log likelihood loss=nan, Accuracy=0.2590448558330536\n"
     ]
    },
    {
     "name": "stderr",
     "output_type": "stream",
     "text": [
      "Epoch 121: 100%|██████████| 7/7 [00:00<00:00, 47.95batch/s, acc=0.262, loss=nan]\n"
     ]
    },
    {
     "name": "stdout",
     "output_type": "stream",
     "text": [
      "Epoch 121 validation: negative log likelihood loss=nan, Accuracy=0.2590448558330536\n"
     ]
    },
    {
     "name": "stderr",
     "output_type": "stream",
     "text": [
      "Epoch 122: 100%|██████████| 7/7 [00:00<00:00, 94.60batch/s, acc=0.262, loss=nan]\n"
     ]
    },
    {
     "name": "stdout",
     "output_type": "stream",
     "text": [
      "Epoch 122 validation: negative log likelihood loss=nan, Accuracy=0.2590448558330536\n"
     ]
    },
    {
     "name": "stderr",
     "output_type": "stream",
     "text": [
      "Epoch 123: 100%|██████████| 7/7 [00:00<00:00, 98.59batch/s, acc=0.262, loss=nan] \n"
     ]
    },
    {
     "name": "stdout",
     "output_type": "stream",
     "text": [
      "Epoch 123 validation: negative log likelihood loss=nan, Accuracy=0.2590448558330536\n"
     ]
    },
    {
     "name": "stderr",
     "output_type": "stream",
     "text": [
      "Epoch 124: 100%|██████████| 7/7 [00:00<00:00, 98.59batch/s, acc=0.262, loss=nan] \n"
     ]
    },
    {
     "name": "stdout",
     "output_type": "stream",
     "text": [
      "Epoch 124 validation: negative log likelihood loss=nan, Accuracy=0.2590448558330536\n"
     ]
    },
    {
     "name": "stderr",
     "output_type": "stream",
     "text": [
      "Epoch 125: 100%|██████████| 7/7 [00:00<00:00, 97.22batch/s, acc=0.262, loss=nan] \n"
     ]
    },
    {
     "name": "stdout",
     "output_type": "stream",
     "text": [
      "Epoch 125 validation: negative log likelihood loss=nan, Accuracy=0.2590448558330536\n"
     ]
    },
    {
     "name": "stderr",
     "output_type": "stream",
     "text": [
      "Epoch 126: 100%|██████████| 7/7 [00:00<00:00, 92.11batch/s, acc=0.262, loss=nan]\n"
     ]
    },
    {
     "name": "stdout",
     "output_type": "stream",
     "text": [
      "Epoch 126 validation: negative log likelihood loss=nan, Accuracy=0.2590448558330536\n"
     ]
    },
    {
     "name": "stderr",
     "output_type": "stream",
     "text": [
      "Epoch 127: 100%|██████████| 7/7 [00:00<00:00, 73.68batch/s, acc=0.262, loss=nan]\n"
     ]
    },
    {
     "name": "stdout",
     "output_type": "stream",
     "text": [
      "Epoch 127 validation: negative log likelihood loss=nan, Accuracy=0.2590448558330536\n"
     ]
    },
    {
     "name": "stderr",
     "output_type": "stream",
     "text": [
      "Epoch 128: 100%|██████████| 7/7 [00:00<00:00, 89.75batch/s, acc=0.262, loss=nan]\n"
     ]
    },
    {
     "name": "stdout",
     "output_type": "stream",
     "text": [
      "Epoch 128 validation: negative log likelihood loss=nan, Accuracy=0.2590448558330536\n"
     ]
    },
    {
     "name": "stderr",
     "output_type": "stream",
     "text": [
      "Epoch 129: 100%|██████████| 7/7 [00:00<00:00, 88.61batch/s, acc=0.262, loss=nan]\n"
     ]
    },
    {
     "name": "stdout",
     "output_type": "stream",
     "text": [
      "Epoch 129 validation: negative log likelihood loss=nan, Accuracy=0.2590448558330536\n"
     ]
    },
    {
     "name": "stderr",
     "output_type": "stream",
     "text": [
      "Epoch 130: 100%|██████████| 7/7 [00:00<00:00, 90.91batch/s, acc=0.262, loss=nan]\n"
     ]
    },
    {
     "name": "stdout",
     "output_type": "stream",
     "text": [
      "Epoch 130 validation: negative log likelihood loss=nan, Accuracy=0.2590448558330536\n"
     ]
    },
    {
     "name": "stderr",
     "output_type": "stream",
     "text": [
      "Epoch 131: 100%|██████████| 7/7 [00:00<00:00, 93.33batch/s, acc=0.262, loss=nan] \n"
     ]
    },
    {
     "name": "stdout",
     "output_type": "stream",
     "text": [
      "Epoch 131 validation: negative log likelihood loss=nan, Accuracy=0.2590448558330536\n"
     ]
    },
    {
     "name": "stderr",
     "output_type": "stream",
     "text": [
      "Epoch 132: 100%|██████████| 7/7 [00:00<00:00, 94.59batch/s, acc=0.262, loss=nan]\n"
     ]
    },
    {
     "name": "stdout",
     "output_type": "stream",
     "text": [
      "Epoch 132 validation: negative log likelihood loss=nan, Accuracy=0.2590448558330536\n"
     ]
    },
    {
     "name": "stderr",
     "output_type": "stream",
     "text": [
      "Epoch 133: 100%|██████████| 7/7 [00:00<00:00, 90.91batch/s, acc=0.262, loss=nan]\n"
     ]
    },
    {
     "name": "stdout",
     "output_type": "stream",
     "text": [
      "Epoch 133 validation: negative log likelihood loss=nan, Accuracy=0.2590448558330536\n"
     ]
    },
    {
     "name": "stderr",
     "output_type": "stream",
     "text": [
      "Epoch 134: 100%|██████████| 7/7 [00:00<00:00, 95.89batch/s, acc=0.262, loss=nan]\n"
     ]
    },
    {
     "name": "stdout",
     "output_type": "stream",
     "text": [
      "Epoch 134 validation: negative log likelihood loss=nan, Accuracy=0.2590448558330536\n"
     ]
    },
    {
     "name": "stderr",
     "output_type": "stream",
     "text": [
      "Epoch 135: 100%|██████████| 7/7 [00:00<00:00, 94.60batch/s, acc=0.262, loss=nan]\n"
     ]
    },
    {
     "name": "stdout",
     "output_type": "stream",
     "text": [
      "Epoch 135 validation: negative log likelihood loss=nan, Accuracy=0.2590448558330536\n"
     ]
    },
    {
     "name": "stderr",
     "output_type": "stream",
     "text": [
      "Epoch 136: 100%|██████████| 7/7 [00:00<00:00, 89.74batch/s, acc=0.262, loss=nan]\n"
     ]
    },
    {
     "name": "stdout",
     "output_type": "stream",
     "text": [
      "Epoch 136 validation: negative log likelihood loss=nan, Accuracy=0.2590448558330536\n"
     ]
    },
    {
     "name": "stderr",
     "output_type": "stream",
     "text": [
      "Epoch 137: 100%|██████████| 7/7 [00:00<00:00, 77.78batch/s, acc=0.262, loss=nan]\n"
     ]
    },
    {
     "name": "stdout",
     "output_type": "stream",
     "text": [
      "Epoch 137 validation: negative log likelihood loss=nan, Accuracy=0.2590448558330536\n"
     ]
    },
    {
     "name": "stderr",
     "output_type": "stream",
     "text": [
      "Epoch 138: 100%|██████████| 7/7 [00:00<00:00, 94.60batch/s, acc=0.262, loss=nan]\n"
     ]
    },
    {
     "name": "stdout",
     "output_type": "stream",
     "text": [
      "Epoch 138 validation: negative log likelihood loss=nan, Accuracy=0.2590448558330536\n"
     ]
    },
    {
     "name": "stderr",
     "output_type": "stream",
     "text": [
      "Epoch 139: 100%|██████████| 7/7 [00:00<00:00, 47.62batch/s, acc=0.262, loss=nan]\n"
     ]
    },
    {
     "name": "stdout",
     "output_type": "stream",
     "text": [
      "Epoch 139 validation: negative log likelihood loss=nan, Accuracy=0.2590448558330536\n"
     ]
    },
    {
     "name": "stderr",
     "output_type": "stream",
     "text": [
      "Epoch 140: 100%|██████████| 7/7 [00:00<00:00, 92.11batch/s, acc=0.262, loss=nan]\n"
     ]
    },
    {
     "name": "stdout",
     "output_type": "stream",
     "text": [
      "Epoch 140 validation: negative log likelihood loss=nan, Accuracy=0.2590448558330536\n"
     ]
    },
    {
     "name": "stderr",
     "output_type": "stream",
     "text": [
      "Epoch 141: 100%|██████████| 7/7 [00:00<00:00, 88.61batch/s, acc=0.262, loss=nan]\n"
     ]
    },
    {
     "name": "stdout",
     "output_type": "stream",
     "text": [
      "Epoch 141 validation: negative log likelihood loss=nan, Accuracy=0.2590448558330536\n"
     ]
    },
    {
     "name": "stderr",
     "output_type": "stream",
     "text": [
      "Epoch 142: 100%|██████████| 7/7 [00:00<00:00, 94.60batch/s, acc=0.262, loss=nan]\n"
     ]
    },
    {
     "name": "stdout",
     "output_type": "stream",
     "text": [
      "Epoch 142 validation: negative log likelihood loss=nan, Accuracy=0.2590448558330536\n"
     ]
    },
    {
     "name": "stderr",
     "output_type": "stream",
     "text": [
      "Epoch 143: 100%|██████████| 7/7 [00:00<00:00, 92.11batch/s, acc=0.262, loss=nan]\n"
     ]
    },
    {
     "name": "stdout",
     "output_type": "stream",
     "text": [
      "Epoch 143 validation: negative log likelihood loss=nan, Accuracy=0.2590448558330536\n"
     ]
    },
    {
     "name": "stderr",
     "output_type": "stream",
     "text": [
      "Epoch 144: 100%|██████████| 7/7 [00:00<00:00, 97.22batch/s, acc=0.262, loss=nan] \n"
     ]
    },
    {
     "name": "stdout",
     "output_type": "stream",
     "text": [
      "Epoch 144 validation: negative log likelihood loss=nan, Accuracy=0.2590448558330536\n"
     ]
    },
    {
     "name": "stderr",
     "output_type": "stream",
     "text": [
      "Epoch 145: 100%|██████████| 7/7 [00:00<00:00, 72.92batch/s, acc=0.262, loss=nan]\n"
     ]
    },
    {
     "name": "stdout",
     "output_type": "stream",
     "text": [
      "Epoch 145 validation: negative log likelihood loss=nan, Accuracy=0.2590448558330536\n"
     ]
    },
    {
     "name": "stderr",
     "output_type": "stream",
     "text": [
      "Epoch 146: 100%|██████████| 7/7 [00:00<00:00, 83.33batch/s, acc=0.262, loss=nan]\n"
     ]
    },
    {
     "name": "stdout",
     "output_type": "stream",
     "text": [
      "Epoch 146 validation: negative log likelihood loss=nan, Accuracy=0.2590448558330536\n"
     ]
    },
    {
     "name": "stderr",
     "output_type": "stream",
     "text": [
      "Epoch 147: 100%|██████████| 7/7 [00:00<00:00, 80.46batch/s, acc=0.262, loss=nan]\n"
     ]
    },
    {
     "name": "stdout",
     "output_type": "stream",
     "text": [
      "Epoch 147 validation: negative log likelihood loss=nan, Accuracy=0.2590448558330536\n"
     ]
    },
    {
     "name": "stderr",
     "output_type": "stream",
     "text": [
      "Epoch 148: 100%|██████████| 7/7 [00:00<00:00, 85.37batch/s, acc=0.262, loss=nan]\n"
     ]
    },
    {
     "name": "stdout",
     "output_type": "stream",
     "text": [
      "Epoch 148 validation: negative log likelihood loss=nan, Accuracy=0.2590448558330536\n"
     ]
    },
    {
     "name": "stderr",
     "output_type": "stream",
     "text": [
      "Epoch 149: 100%|██████████| 7/7 [00:00<00:00, 92.11batch/s, acc=0.262, loss=nan]\n"
     ]
    },
    {
     "name": "stdout",
     "output_type": "stream",
     "text": [
      "Epoch 149 validation: negative log likelihood loss=nan, Accuracy=0.2590448558330536\n"
     ]
    },
    {
     "name": "stderr",
     "output_type": "stream",
     "text": [
      "Epoch 150: 100%|██████████| 7/7 [00:00<00:00, 93.33batch/s, acc=0.262, loss=nan]\n"
     ]
    },
    {
     "name": "stdout",
     "output_type": "stream",
     "text": [
      "Epoch 150 validation: negative log likelihood loss=nan, Accuracy=0.2590448558330536\n"
     ]
    },
    {
     "name": "stderr",
     "output_type": "stream",
     "text": [
      "Epoch 151: 100%|██████████| 7/7 [00:00<00:00, 97.23batch/s, acc=0.262, loss=nan] \n"
     ]
    },
    {
     "name": "stdout",
     "output_type": "stream",
     "text": [
      "Epoch 151 validation: negative log likelihood loss=nan, Accuracy=0.2590448558330536\n"
     ]
    },
    {
     "name": "stderr",
     "output_type": "stream",
     "text": [
      "Epoch 152: 100%|██████████| 7/7 [00:00<00:00, 95.90batch/s, acc=0.262, loss=nan] \n"
     ]
    },
    {
     "name": "stdout",
     "output_type": "stream",
     "text": [
      "Epoch 152 validation: negative log likelihood loss=nan, Accuracy=0.2590448558330536\n"
     ]
    },
    {
     "name": "stderr",
     "output_type": "stream",
     "text": [
      "Epoch 153: 100%|██████████| 7/7 [00:00<00:00, 100.00batch/s, acc=0.262, loss=nan]\n"
     ]
    },
    {
     "name": "stdout",
     "output_type": "stream",
     "text": [
      "Epoch 153 validation: negative log likelihood loss=nan, Accuracy=0.2590448558330536\n"
     ]
    },
    {
     "name": "stderr",
     "output_type": "stream",
     "text": [
      "Epoch 154: 100%|██████████| 7/7 [00:00<00:00, 106.06batch/s, acc=0.262, loss=nan]\n"
     ]
    },
    {
     "name": "stdout",
     "output_type": "stream",
     "text": [
      "Epoch 154 validation: negative log likelihood loss=nan, Accuracy=0.2590448558330536\n"
     ]
    },
    {
     "name": "stderr",
     "output_type": "stream",
     "text": [
      "Epoch 155: 100%|██████████| 7/7 [00:00<00:00, 85.37batch/s, acc=0.262, loss=nan]\n"
     ]
    },
    {
     "name": "stdout",
     "output_type": "stream",
     "text": [
      "Epoch 155 validation: negative log likelihood loss=nan, Accuracy=0.2590448558330536\n"
     ]
    },
    {
     "name": "stderr",
     "output_type": "stream",
     "text": [
      "Epoch 156: 100%|██████████| 7/7 [00:00<00:00, 94.60batch/s, acc=0.262, loss=nan] \n"
     ]
    },
    {
     "name": "stdout",
     "output_type": "stream",
     "text": [
      "Epoch 156 validation: negative log likelihood loss=nan, Accuracy=0.2590448558330536\n"
     ]
    },
    {
     "name": "stderr",
     "output_type": "stream",
     "text": [
      "Epoch 157: 100%|██████████| 7/7 [00:00<00:00, 47.62batch/s, acc=0.262, loss=nan]\n"
     ]
    },
    {
     "name": "stdout",
     "output_type": "stream",
     "text": [
      "Epoch 157 validation: negative log likelihood loss=nan, Accuracy=0.2590448558330536\n"
     ]
    },
    {
     "name": "stderr",
     "output_type": "stream",
     "text": [
      "Epoch 158: 100%|██████████| 7/7 [00:00<00:00, 88.61batch/s, acc=0.262, loss=nan]\n"
     ]
    },
    {
     "name": "stdout",
     "output_type": "stream",
     "text": [
      "Epoch 158 validation: negative log likelihood loss=nan, Accuracy=0.2590448558330536\n"
     ]
    },
    {
     "name": "stderr",
     "output_type": "stream",
     "text": [
      "Epoch 159: 100%|██████████| 7/7 [00:00<00:00, 101.45batch/s, acc=0.262, loss=nan]\n"
     ]
    },
    {
     "name": "stdout",
     "output_type": "stream",
     "text": [
      "Epoch 159 validation: negative log likelihood loss=nan, Accuracy=0.2590448558330536\n"
     ]
    },
    {
     "name": "stderr",
     "output_type": "stream",
     "text": [
      "Epoch 160: 100%|██████████| 7/7 [00:00<00:00, 94.60batch/s, acc=0.262, loss=nan] \n"
     ]
    },
    {
     "name": "stdout",
     "output_type": "stream",
     "text": [
      "Epoch 160 validation: negative log likelihood loss=nan, Accuracy=0.2590448558330536\n"
     ]
    },
    {
     "name": "stderr",
     "output_type": "stream",
     "text": [
      "Epoch 161: 100%|██████████| 7/7 [00:00<00:00, 98.59batch/s, acc=0.262, loss=nan] \n"
     ]
    },
    {
     "name": "stdout",
     "output_type": "stream",
     "text": [
      "Epoch 161 validation: negative log likelihood loss=nan, Accuracy=0.2590448558330536\n"
     ]
    },
    {
     "name": "stderr",
     "output_type": "stream",
     "text": [
      "Epoch 162: 100%|██████████| 7/7 [00:00<00:00, 97.22batch/s, acc=0.262, loss=nan] \n"
     ]
    },
    {
     "name": "stdout",
     "output_type": "stream",
     "text": [
      "Epoch 162 validation: negative log likelihood loss=nan, Accuracy=0.2590448558330536\n"
     ]
    },
    {
     "name": "stderr",
     "output_type": "stream",
     "text": [
      "Epoch 163: 100%|██████████| 7/7 [00:00<00:00, 100.01batch/s, acc=0.262, loss=nan]\n"
     ]
    },
    {
     "name": "stdout",
     "output_type": "stream",
     "text": [
      "Epoch 163 validation: negative log likelihood loss=nan, Accuracy=0.2590448558330536\n"
     ]
    },
    {
     "name": "stderr",
     "output_type": "stream",
     "text": [
      "Epoch 164: 100%|██████████| 7/7 [00:00<00:00, 83.33batch/s, acc=0.262, loss=nan]\n"
     ]
    },
    {
     "name": "stdout",
     "output_type": "stream",
     "text": [
      "Epoch 164 validation: negative log likelihood loss=nan, Accuracy=0.2590448558330536\n"
     ]
    },
    {
     "name": "stderr",
     "output_type": "stream",
     "text": [
      "Epoch 165: 100%|██████████| 7/7 [00:00<00:00, 94.60batch/s, acc=0.262, loss=nan] \n"
     ]
    },
    {
     "name": "stdout",
     "output_type": "stream",
     "text": [
      "Epoch 165 validation: negative log likelihood loss=nan, Accuracy=0.2590448558330536\n"
     ]
    },
    {
     "name": "stderr",
     "output_type": "stream",
     "text": [
      "Epoch 166: 100%|██████████| 7/7 [00:00<00:00, 97.22batch/s, acc=0.262, loss=nan] \n"
     ]
    },
    {
     "name": "stdout",
     "output_type": "stream",
     "text": [
      "Epoch 166 validation: negative log likelihood loss=nan, Accuracy=0.2590448558330536\n"
     ]
    },
    {
     "name": "stderr",
     "output_type": "stream",
     "text": [
      "Epoch 167: 100%|██████████| 7/7 [00:00<00:00, 97.22batch/s, acc=0.262, loss=nan] \n"
     ]
    },
    {
     "name": "stdout",
     "output_type": "stream",
     "text": [
      "Epoch 167 validation: negative log likelihood loss=nan, Accuracy=0.2590448558330536\n"
     ]
    },
    {
     "name": "stderr",
     "output_type": "stream",
     "text": [
      "Epoch 168: 100%|██████████| 7/7 [00:00<00:00, 93.33batch/s, acc=0.262, loss=nan]\n"
     ]
    },
    {
     "name": "stdout",
     "output_type": "stream",
     "text": [
      "Epoch 168 validation: negative log likelihood loss=nan, Accuracy=0.2590448558330536\n"
     ]
    },
    {
     "name": "stderr",
     "output_type": "stream",
     "text": [
      "Epoch 169: 100%|██████████| 7/7 [00:00<00:00, 97.22batch/s, acc=0.262, loss=nan] \n"
     ]
    },
    {
     "name": "stdout",
     "output_type": "stream",
     "text": [
      "Epoch 169 validation: negative log likelihood loss=nan, Accuracy=0.2590448558330536\n"
     ]
    },
    {
     "name": "stderr",
     "output_type": "stream",
     "text": [
      "Epoch 170: 100%|██████████| 7/7 [00:00<00:00, 95.89batch/s, acc=0.262, loss=nan] \n"
     ]
    },
    {
     "name": "stdout",
     "output_type": "stream",
     "text": [
      "Epoch 170 validation: negative log likelihood loss=nan, Accuracy=0.2590448558330536\n"
     ]
    },
    {
     "name": "stderr",
     "output_type": "stream",
     "text": [
      "Epoch 171: 100%|██████████| 7/7 [00:00<00:00, 93.34batch/s, acc=0.262, loss=nan]\n"
     ]
    },
    {
     "name": "stdout",
     "output_type": "stream",
     "text": [
      "Epoch 171 validation: negative log likelihood loss=nan, Accuracy=0.2590448558330536\n"
     ]
    },
    {
     "name": "stderr",
     "output_type": "stream",
     "text": [
      "Epoch 172: 100%|██████████| 7/7 [00:00<00:00, 90.91batch/s, acc=0.262, loss=nan]\n"
     ]
    },
    {
     "name": "stdout",
     "output_type": "stream",
     "text": [
      "Epoch 172 validation: negative log likelihood loss=nan, Accuracy=0.2590448558330536\n"
     ]
    },
    {
     "name": "stderr",
     "output_type": "stream",
     "text": [
      "Epoch 173: 100%|██████████| 7/7 [00:00<00:00, 82.35batch/s, acc=0.262, loss=nan]\n"
     ]
    },
    {
     "name": "stdout",
     "output_type": "stream",
     "text": [
      "Epoch 173 validation: negative log likelihood loss=nan, Accuracy=0.2590448558330536\n"
     ]
    },
    {
     "name": "stderr",
     "output_type": "stream",
     "text": [
      "Epoch 174: 100%|██████████| 7/7 [00:00<00:00, 93.34batch/s, acc=0.262, loss=nan]\n"
     ]
    },
    {
     "name": "stdout",
     "output_type": "stream",
     "text": [
      "Epoch 174 validation: negative log likelihood loss=nan, Accuracy=0.2590448558330536\n"
     ]
    },
    {
     "name": "stderr",
     "output_type": "stream",
     "text": [
      "Epoch 175: 100%|██████████| 7/7 [00:00<00:00, 45.75batch/s, acc=0.262, loss=nan]\n"
     ]
    },
    {
     "name": "stdout",
     "output_type": "stream",
     "text": [
      "Epoch 175 validation: negative log likelihood loss=nan, Accuracy=0.2590448558330536\n"
     ]
    },
    {
     "name": "stderr",
     "output_type": "stream",
     "text": [
      "Epoch 176: 100%|██████████| 7/7 [00:00<00:00, 92.10batch/s, acc=0.262, loss=nan]\n"
     ]
    },
    {
     "name": "stdout",
     "output_type": "stream",
     "text": [
      "Epoch 176 validation: negative log likelihood loss=nan, Accuracy=0.2590448558330536\n"
     ]
    },
    {
     "name": "stderr",
     "output_type": "stream",
     "text": [
      "Epoch 177: 100%|██████████| 7/7 [00:00<00:00, 92.11batch/s, acc=0.262, loss=nan]\n"
     ]
    },
    {
     "name": "stdout",
     "output_type": "stream",
     "text": [
      "Epoch 177 validation: negative log likelihood loss=nan, Accuracy=0.2590448558330536\n"
     ]
    },
    {
     "name": "stderr",
     "output_type": "stream",
     "text": [
      "Epoch 178: 100%|██████████| 7/7 [00:00<00:00, 93.34batch/s, acc=0.262, loss=nan]\n"
     ]
    },
    {
     "name": "stdout",
     "output_type": "stream",
     "text": [
      "Epoch 178 validation: negative log likelihood loss=nan, Accuracy=0.2590448558330536\n"
     ]
    },
    {
     "name": "stderr",
     "output_type": "stream",
     "text": [
      "Epoch 179: 100%|██████████| 7/7 [00:00<00:00, 87.50batch/s, acc=0.262, loss=nan]\n"
     ]
    },
    {
     "name": "stdout",
     "output_type": "stream",
     "text": [
      "Epoch 179 validation: negative log likelihood loss=nan, Accuracy=0.2590448558330536\n"
     ]
    },
    {
     "name": "stderr",
     "output_type": "stream",
     "text": [
      "Epoch 180: 100%|██████████| 7/7 [00:00<00:00, 92.11batch/s, acc=0.262, loss=nan]\n"
     ]
    },
    {
     "name": "stdout",
     "output_type": "stream",
     "text": [
      "Epoch 180 validation: negative log likelihood loss=nan, Accuracy=0.2590448558330536\n"
     ]
    },
    {
     "name": "stderr",
     "output_type": "stream",
     "text": [
      "Epoch 181: 100%|██████████| 7/7 [00:00<00:00, 70.71batch/s, acc=0.262, loss=nan]\n"
     ]
    },
    {
     "name": "stdout",
     "output_type": "stream",
     "text": [
      "Epoch 181 validation: negative log likelihood loss=nan, Accuracy=0.2590448558330536\n"
     ]
    },
    {
     "name": "stderr",
     "output_type": "stream",
     "text": [
      "Epoch 182: 100%|██████████| 7/7 [00:00<00:00, 92.11batch/s, acc=0.262, loss=nan]\n"
     ]
    },
    {
     "name": "stdout",
     "output_type": "stream",
     "text": [
      "Epoch 182 validation: negative log likelihood loss=nan, Accuracy=0.2590448558330536\n"
     ]
    },
    {
     "name": "stderr",
     "output_type": "stream",
     "text": [
      "Epoch 183: 100%|██████████| 7/7 [00:00<00:00, 93.33batch/s, acc=0.262, loss=nan] \n"
     ]
    },
    {
     "name": "stdout",
     "output_type": "stream",
     "text": [
      "Epoch 183 validation: negative log likelihood loss=nan, Accuracy=0.2590448558330536\n"
     ]
    },
    {
     "name": "stderr",
     "output_type": "stream",
     "text": [
      "Epoch 184: 100%|██████████| 7/7 [00:00<00:00, 100.00batch/s, acc=0.262, loss=nan]\n"
     ]
    },
    {
     "name": "stdout",
     "output_type": "stream",
     "text": [
      "Epoch 184 validation: negative log likelihood loss=nan, Accuracy=0.2590448558330536\n"
     ]
    },
    {
     "name": "stderr",
     "output_type": "stream",
     "text": [
      "Epoch 185: 100%|██████████| 7/7 [00:00<00:00, 93.33batch/s, acc=0.262, loss=nan]\n"
     ]
    },
    {
     "name": "stdout",
     "output_type": "stream",
     "text": [
      "Epoch 185 validation: negative log likelihood loss=nan, Accuracy=0.2590448558330536\n"
     ]
    },
    {
     "name": "stderr",
     "output_type": "stream",
     "text": [
      "Epoch 186: 100%|██████████| 7/7 [00:00<00:00, 90.91batch/s, acc=0.262, loss=nan]\n"
     ]
    },
    {
     "name": "stdout",
     "output_type": "stream",
     "text": [
      "Epoch 186 validation: negative log likelihood loss=nan, Accuracy=0.2590448558330536\n"
     ]
    },
    {
     "name": "stderr",
     "output_type": "stream",
     "text": [
      "Epoch 187: 100%|██████████| 7/7 [00:00<00:00, 93.34batch/s, acc=0.262, loss=nan]\n"
     ]
    },
    {
     "name": "stdout",
     "output_type": "stream",
     "text": [
      "Epoch 187 validation: negative log likelihood loss=nan, Accuracy=0.2590448558330536\n"
     ]
    },
    {
     "name": "stderr",
     "output_type": "stream",
     "text": [
      "Epoch 188: 100%|██████████| 7/7 [00:00<00:00, 93.34batch/s, acc=0.262, loss=nan]\n"
     ]
    },
    {
     "name": "stdout",
     "output_type": "stream",
     "text": [
      "Epoch 188 validation: negative log likelihood loss=nan, Accuracy=0.2590448558330536\n"
     ]
    },
    {
     "name": "stderr",
     "output_type": "stream",
     "text": [
      "Epoch 189: 100%|██████████| 7/7 [00:00<00:00, 90.90batch/s, acc=0.262, loss=nan]\n"
     ]
    },
    {
     "name": "stdout",
     "output_type": "stream",
     "text": [
      "Epoch 189 validation: negative log likelihood loss=nan, Accuracy=0.2590448558330536\n"
     ]
    },
    {
     "name": "stderr",
     "output_type": "stream",
     "text": [
      "Epoch 190: 100%|██████████| 7/7 [00:00<00:00, 77.78batch/s, acc=0.262, loss=nan]\n"
     ]
    },
    {
     "name": "stdout",
     "output_type": "stream",
     "text": [
      "Epoch 190 validation: negative log likelihood loss=nan, Accuracy=0.2590448558330536\n"
     ]
    },
    {
     "name": "stderr",
     "output_type": "stream",
     "text": [
      "Epoch 191: 100%|██████████| 7/7 [00:00<00:00, 92.11batch/s, acc=0.262, loss=nan]\n"
     ]
    },
    {
     "name": "stdout",
     "output_type": "stream",
     "text": [
      "Epoch 191 validation: negative log likelihood loss=nan, Accuracy=0.2590448558330536\n"
     ]
    },
    {
     "name": "stderr",
     "output_type": "stream",
     "text": [
      "Epoch 192: 100%|██████████| 7/7 [00:00<00:00, 90.91batch/s, acc=0.262, loss=nan]\n"
     ]
    },
    {
     "name": "stdout",
     "output_type": "stream",
     "text": [
      "Epoch 192 validation: negative log likelihood loss=nan, Accuracy=0.2590448558330536\n"
     ]
    },
    {
     "name": "stderr",
     "output_type": "stream",
     "text": [
      "Epoch 193: 100%|██████████| 7/7 [00:00<00:00, 92.11batch/s, acc=0.262, loss=nan]\n"
     ]
    },
    {
     "name": "stdout",
     "output_type": "stream",
     "text": [
      "Epoch 193 validation: negative log likelihood loss=nan, Accuracy=0.2590448558330536\n"
     ]
    },
    {
     "name": "stderr",
     "output_type": "stream",
     "text": [
      "Epoch 194: 100%|██████████| 7/7 [00:00<00:00, 92.11batch/s, acc=0.262, loss=nan]\n"
     ]
    },
    {
     "name": "stdout",
     "output_type": "stream",
     "text": [
      "Epoch 194 validation: negative log likelihood loss=nan, Accuracy=0.2590448558330536\n"
     ]
    },
    {
     "name": "stderr",
     "output_type": "stream",
     "text": [
      "Epoch 195: 100%|██████████| 7/7 [00:00<00:00, 93.33batch/s, acc=0.262, loss=nan]\n"
     ]
    },
    {
     "name": "stdout",
     "output_type": "stream",
     "text": [
      "Epoch 195 validation: negative log likelihood loss=nan, Accuracy=0.2590448558330536\n"
     ]
    },
    {
     "name": "stderr",
     "output_type": "stream",
     "text": [
      "Epoch 196: 100%|██████████| 7/7 [00:00<00:00, 93.33batch/s, acc=0.262, loss=nan]\n"
     ]
    },
    {
     "name": "stdout",
     "output_type": "stream",
     "text": [
      "Epoch 196 validation: negative log likelihood loss=nan, Accuracy=0.2590448558330536\n"
     ]
    },
    {
     "name": "stderr",
     "output_type": "stream",
     "text": [
      "Epoch 197: 100%|██████████| 7/7 [00:00<00:00, 92.10batch/s, acc=0.262, loss=nan]\n"
     ]
    },
    {
     "name": "stdout",
     "output_type": "stream",
     "text": [
      "Epoch 197 validation: negative log likelihood loss=nan, Accuracy=0.2590448558330536\n"
     ]
    },
    {
     "name": "stderr",
     "output_type": "stream",
     "text": [
      "Epoch 198: 100%|██████████| 7/7 [00:00<00:00, 93.34batch/s, acc=0.262, loss=nan]\n"
     ]
    },
    {
     "name": "stdout",
     "output_type": "stream",
     "text": [
      "Epoch 198 validation: negative log likelihood loss=nan, Accuracy=0.2590448558330536\n"
     ]
    },
    {
     "name": "stderr",
     "output_type": "stream",
     "text": [
      "Epoch 199: 100%|██████████| 7/7 [00:00<00:00, 93.34batch/s, acc=0.262, loss=nan]\n"
     ]
    },
    {
     "name": "stdout",
     "output_type": "stream",
     "text": [
      "Epoch 199 validation: negative log likelihood loss=nan, Accuracy=0.2590448558330536\n"
     ]
    },
    {
     "name": "stderr",
     "output_type": "stream",
     "text": [
      "Epoch 200: 100%|██████████| 7/7 [00:00<00:00, 40.46batch/s, acc=0.262, loss=nan]"
     ]
    },
    {
     "name": "stdout",
     "output_type": "stream",
     "text": [
      "Epoch 200 validation: negative log likelihood loss=nan, Accuracy=0.2590448558330536\n"
     ]
    },
    {
     "name": "stderr",
     "output_type": "stream",
     "text": [
      "\n",
      "Epoch 201: 100%|██████████| 7/7 [00:00<00:00, 95.90batch/s, acc=0.262, loss=nan] \n"
     ]
    },
    {
     "name": "stdout",
     "output_type": "stream",
     "text": [
      "Epoch 201 validation: negative log likelihood loss=nan, Accuracy=0.2590448558330536\n"
     ]
    },
    {
     "name": "stderr",
     "output_type": "stream",
     "text": [
      "Epoch 202: 100%|██████████| 7/7 [00:00<00:00, 94.59batch/s, acc=0.262, loss=nan] \n"
     ]
    },
    {
     "name": "stdout",
     "output_type": "stream",
     "text": [
      "Epoch 202 validation: negative log likelihood loss=nan, Accuracy=0.2590448558330536\n"
     ]
    },
    {
     "name": "stderr",
     "output_type": "stream",
     "text": [
      "Epoch 203: 100%|██████████| 7/7 [00:00<00:00, 97.22batch/s, acc=0.262, loss=nan] \n"
     ]
    },
    {
     "name": "stdout",
     "output_type": "stream",
     "text": [
      "Epoch 203 validation: negative log likelihood loss=nan, Accuracy=0.2590448558330536\n"
     ]
    },
    {
     "name": "stderr",
     "output_type": "stream",
     "text": [
      "Epoch 204: 100%|██████████| 7/7 [00:00<00:00, 102.94batch/s, acc=0.262, loss=nan]\n"
     ]
    },
    {
     "name": "stdout",
     "output_type": "stream",
     "text": [
      "Epoch 204 validation: negative log likelihood loss=nan, Accuracy=0.2590448558330536\n"
     ]
    },
    {
     "name": "stderr",
     "output_type": "stream",
     "text": [
      "Epoch 205: 100%|██████████| 7/7 [00:00<00:00, 95.89batch/s, acc=0.262, loss=nan] \n"
     ]
    },
    {
     "name": "stdout",
     "output_type": "stream",
     "text": [
      "Epoch 205 validation: negative log likelihood loss=nan, Accuracy=0.2590448558330536\n"
     ]
    },
    {
     "name": "stderr",
     "output_type": "stream",
     "text": [
      "Epoch 206: 100%|██████████| 7/7 [00:00<00:00, 100.00batch/s, acc=0.262, loss=nan]\n"
     ]
    },
    {
     "name": "stdout",
     "output_type": "stream",
     "text": [
      "Epoch 206 validation: negative log likelihood loss=nan, Accuracy=0.2590448558330536\n"
     ]
    },
    {
     "name": "stderr",
     "output_type": "stream",
     "text": [
      "Epoch 207: 100%|██████████| 7/7 [00:00<00:00, 97.22batch/s, acc=0.262, loss=nan] \n"
     ]
    },
    {
     "name": "stdout",
     "output_type": "stream",
     "text": [
      "Epoch 207 validation: negative log likelihood loss=nan, Accuracy=0.2590448558330536\n"
     ]
    },
    {
     "name": "stderr",
     "output_type": "stream",
     "text": [
      "Epoch 208: 100%|██████████| 7/7 [00:00<00:00, 79.54batch/s, acc=0.262, loss=nan]\n"
     ]
    },
    {
     "name": "stdout",
     "output_type": "stream",
     "text": [
      "Epoch 208 validation: negative log likelihood loss=nan, Accuracy=0.2590448558330536\n"
     ]
    },
    {
     "name": "stderr",
     "output_type": "stream",
     "text": [
      "Epoch 209: 100%|██████████| 7/7 [00:00<00:00, 90.91batch/s, acc=0.262, loss=nan]\n"
     ]
    },
    {
     "name": "stdout",
     "output_type": "stream",
     "text": [
      "Epoch 209 validation: negative log likelihood loss=nan, Accuracy=0.2590448558330536\n"
     ]
    },
    {
     "name": "stderr",
     "output_type": "stream",
     "text": [
      "Epoch 210: 100%|██████████| 7/7 [00:00<00:00, 100.00batch/s, acc=0.262, loss=nan]\n"
     ]
    },
    {
     "name": "stdout",
     "output_type": "stream",
     "text": [
      "Epoch 210 validation: negative log likelihood loss=nan, Accuracy=0.2590448558330536\n"
     ]
    },
    {
     "name": "stderr",
     "output_type": "stream",
     "text": [
      "Epoch 211: 100%|██████████| 7/7 [00:00<00:00, 102.95batch/s, acc=0.262, loss=nan]\n"
     ]
    },
    {
     "name": "stdout",
     "output_type": "stream",
     "text": [
      "Epoch 211 validation: negative log likelihood loss=nan, Accuracy=0.2590448558330536\n"
     ]
    },
    {
     "name": "stderr",
     "output_type": "stream",
     "text": [
      "Epoch 212: 100%|██████████| 7/7 [00:00<00:00, 92.11batch/s, acc=0.262, loss=nan]\n"
     ]
    },
    {
     "name": "stdout",
     "output_type": "stream",
     "text": [
      "Epoch 212 validation: negative log likelihood loss=nan, Accuracy=0.2590448558330536\n"
     ]
    },
    {
     "name": "stderr",
     "output_type": "stream",
     "text": [
      "Epoch 213: 100%|██████████| 7/7 [00:00<00:00, 92.10batch/s, acc=0.262, loss=nan]\n"
     ]
    },
    {
     "name": "stdout",
     "output_type": "stream",
     "text": [
      "Epoch 213 validation: negative log likelihood loss=nan, Accuracy=0.2590448558330536\n"
     ]
    },
    {
     "name": "stderr",
     "output_type": "stream",
     "text": [
      "Epoch 214: 100%|██████████| 7/7 [00:00<00:00, 94.59batch/s, acc=0.262, loss=nan]\n"
     ]
    },
    {
     "name": "stdout",
     "output_type": "stream",
     "text": [
      "Epoch 214 validation: negative log likelihood loss=nan, Accuracy=0.2590448558330536\n"
     ]
    },
    {
     "name": "stderr",
     "output_type": "stream",
     "text": [
      "Epoch 215: 100%|██████████| 7/7 [00:00<00:00, 93.33batch/s, acc=0.262, loss=nan]\n"
     ]
    },
    {
     "name": "stdout",
     "output_type": "stream",
     "text": [
      "Epoch 215 validation: negative log likelihood loss=nan, Accuracy=0.2590448558330536\n"
     ]
    },
    {
     "name": "stderr",
     "output_type": "stream",
     "text": [
      "Epoch 216: 100%|██████████| 7/7 [00:00<00:00, 94.59batch/s, acc=0.262, loss=nan]\n"
     ]
    },
    {
     "name": "stdout",
     "output_type": "stream",
     "text": [
      "Epoch 216 validation: negative log likelihood loss=nan, Accuracy=0.2590448558330536\n"
     ]
    },
    {
     "name": "stderr",
     "output_type": "stream",
     "text": [
      "Epoch 217: 100%|██████████| 7/7 [00:00<00:00, 75.27batch/s, acc=0.262, loss=nan]\n"
     ]
    },
    {
     "name": "stdout",
     "output_type": "stream",
     "text": [
      "Epoch 217 validation: negative log likelihood loss=nan, Accuracy=0.2590448558330536\n"
     ]
    },
    {
     "name": "stderr",
     "output_type": "stream",
     "text": [
      "Epoch 218: 100%|██████████| 7/7 [00:00<00:00, 90.91batch/s, acc=0.262, loss=nan]\n"
     ]
    },
    {
     "name": "stdout",
     "output_type": "stream",
     "text": [
      "Epoch 218 validation: negative log likelihood loss=nan, Accuracy=0.2590448558330536\n"
     ]
    },
    {
     "name": "stderr",
     "output_type": "stream",
     "text": [
      "Epoch 219: 100%|██████████| 7/7 [00:00<00:00, 100.00batch/s, acc=0.262, loss=nan]\n"
     ]
    },
    {
     "name": "stdout",
     "output_type": "stream",
     "text": [
      "Epoch 219 validation: negative log likelihood loss=nan, Accuracy=0.2590448558330536\n"
     ]
    },
    {
     "name": "stderr",
     "output_type": "stream",
     "text": [
      "Epoch 220: 100%|██████████| 7/7 [00:00<00:00, 93.33batch/s, acc=0.262, loss=nan]\n"
     ]
    },
    {
     "name": "stdout",
     "output_type": "stream",
     "text": [
      "Epoch 220 validation: negative log likelihood loss=nan, Accuracy=0.2590448558330536\n"
     ]
    },
    {
     "name": "stderr",
     "output_type": "stream",
     "text": [
      "Epoch 221: 100%|██████████| 7/7 [00:00<00:00, 98.59batch/s, acc=0.262, loss=nan] \n"
     ]
    },
    {
     "name": "stdout",
     "output_type": "stream",
     "text": [
      "Epoch 221 validation: negative log likelihood loss=nan, Accuracy=0.2590448558330536\n"
     ]
    },
    {
     "name": "stderr",
     "output_type": "stream",
     "text": [
      "Epoch 222: 100%|██████████| 7/7 [00:00<00:00, 46.98batch/s, acc=0.262, loss=nan]\n"
     ]
    },
    {
     "name": "stdout",
     "output_type": "stream",
     "text": [
      "Epoch 222 validation: negative log likelihood loss=nan, Accuracy=0.2590448558330536\n"
     ]
    },
    {
     "name": "stderr",
     "output_type": "stream",
     "text": [
      "Epoch 223: 100%|██████████| 7/7 [00:00<00:00, 97.23batch/s, acc=0.262, loss=nan]\n"
     ]
    },
    {
     "name": "stdout",
     "output_type": "stream",
     "text": [
      "Epoch 223 validation: negative log likelihood loss=nan, Accuracy=0.2590448558330536\n"
     ]
    },
    {
     "name": "stderr",
     "output_type": "stream",
     "text": [
      "Epoch 224: 100%|██████████| 7/7 [00:00<00:00, 95.89batch/s, acc=0.262, loss=nan]\n"
     ]
    },
    {
     "name": "stdout",
     "output_type": "stream",
     "text": [
      "Epoch 224 validation: negative log likelihood loss=nan, Accuracy=0.2590448558330536\n"
     ]
    },
    {
     "name": "stderr",
     "output_type": "stream",
     "text": [
      "Epoch 225: 100%|██████████| 7/7 [00:00<00:00, 93.33batch/s, acc=0.262, loss=nan]\n"
     ]
    },
    {
     "name": "stdout",
     "output_type": "stream",
     "text": [
      "Epoch 225 validation: negative log likelihood loss=nan, Accuracy=0.2590448558330536\n"
     ]
    },
    {
     "name": "stderr",
     "output_type": "stream",
     "text": [
      "Epoch 226: 100%|██████████| 7/7 [00:00<00:00, 84.34batch/s, acc=0.262, loss=nan]\n"
     ]
    },
    {
     "name": "stdout",
     "output_type": "stream",
     "text": [
      "Epoch 226 validation: negative log likelihood loss=nan, Accuracy=0.2590448558330536\n"
     ]
    },
    {
     "name": "stderr",
     "output_type": "stream",
     "text": [
      "Epoch 227: 100%|██████████| 7/7 [00:00<00:00, 94.60batch/s, acc=0.262, loss=nan] \n"
     ]
    },
    {
     "name": "stdout",
     "output_type": "stream",
     "text": [
      "Epoch 227 validation: negative log likelihood loss=nan, Accuracy=0.2590448558330536\n"
     ]
    },
    {
     "name": "stderr",
     "output_type": "stream",
     "text": [
      "Epoch 228: 100%|██████████| 7/7 [00:00<00:00, 87.50batch/s, acc=0.262, loss=nan]\n"
     ]
    },
    {
     "name": "stdout",
     "output_type": "stream",
     "text": [
      "Epoch 228 validation: negative log likelihood loss=nan, Accuracy=0.2590448558330536\n"
     ]
    },
    {
     "name": "stderr",
     "output_type": "stream",
     "text": [
      "Epoch 229: 100%|██████████| 7/7 [00:00<00:00, 90.91batch/s, acc=0.262, loss=nan]\n"
     ]
    },
    {
     "name": "stdout",
     "output_type": "stream",
     "text": [
      "Epoch 229 validation: negative log likelihood loss=nan, Accuracy=0.2590448558330536\n"
     ]
    },
    {
     "name": "stderr",
     "output_type": "stream",
     "text": [
      "Epoch 230: 100%|██████████| 7/7 [00:00<00:00, 88.61batch/s, acc=0.262, loss=nan]\n"
     ]
    },
    {
     "name": "stdout",
     "output_type": "stream",
     "text": [
      "Epoch 230 validation: negative log likelihood loss=nan, Accuracy=0.2590448558330536\n"
     ]
    },
    {
     "name": "stderr",
     "output_type": "stream",
     "text": [
      "Epoch 231: 100%|██████████| 7/7 [00:00<00:00, 90.91batch/s, acc=0.262, loss=nan]\n"
     ]
    },
    {
     "name": "stdout",
     "output_type": "stream",
     "text": [
      "Epoch 231 validation: negative log likelihood loss=nan, Accuracy=0.2590448558330536\n"
     ]
    },
    {
     "name": "stderr",
     "output_type": "stream",
     "text": [
      "Epoch 232: 100%|██████████| 7/7 [00:00<00:00, 90.91batch/s, acc=0.262, loss=nan]\n"
     ]
    },
    {
     "name": "stdout",
     "output_type": "stream",
     "text": [
      "Epoch 232 validation: negative log likelihood loss=nan, Accuracy=0.2590448558330536\n"
     ]
    },
    {
     "name": "stderr",
     "output_type": "stream",
     "text": [
      "Epoch 233: 100%|██████████| 7/7 [00:00<00:00, 93.33batch/s, acc=0.262, loss=nan]\n"
     ]
    },
    {
     "name": "stdout",
     "output_type": "stream",
     "text": [
      "Epoch 233 validation: negative log likelihood loss=nan, Accuracy=0.2590448558330536\n"
     ]
    },
    {
     "name": "stderr",
     "output_type": "stream",
     "text": [
      "Epoch 234: 100%|██████████| 7/7 [00:00<00:00, 90.91batch/s, acc=0.262, loss=nan]\n"
     ]
    },
    {
     "name": "stdout",
     "output_type": "stream",
     "text": [
      "Epoch 234 validation: negative log likelihood loss=nan, Accuracy=0.2590448558330536\n"
     ]
    },
    {
     "name": "stderr",
     "output_type": "stream",
     "text": [
      "Epoch 235: 100%|██████████| 7/7 [00:00<00:00, 90.91batch/s, acc=0.262, loss=nan]\n"
     ]
    },
    {
     "name": "stdout",
     "output_type": "stream",
     "text": [
      "Epoch 235 validation: negative log likelihood loss=nan, Accuracy=0.2590448558330536\n"
     ]
    },
    {
     "name": "stderr",
     "output_type": "stream",
     "text": [
      "Epoch 236: 100%|██████████| 7/7 [00:00<00:00, 75.27batch/s, acc=0.262, loss=nan]\n"
     ]
    },
    {
     "name": "stdout",
     "output_type": "stream",
     "text": [
      "Epoch 236 validation: negative log likelihood loss=nan, Accuracy=0.2590448558330536\n"
     ]
    },
    {
     "name": "stderr",
     "output_type": "stream",
     "text": [
      "Epoch 237: 100%|██████████| 7/7 [00:00<00:00, 88.61batch/s, acc=0.262, loss=nan]\n"
     ]
    },
    {
     "name": "stdout",
     "output_type": "stream",
     "text": [
      "Epoch 237 validation: negative log likelihood loss=nan, Accuracy=0.2590448558330536\n"
     ]
    },
    {
     "name": "stderr",
     "output_type": "stream",
     "text": [
      "Epoch 238: 100%|██████████| 7/7 [00:00<00:00, 100.00batch/s, acc=0.262, loss=nan]\n"
     ]
    },
    {
     "name": "stdout",
     "output_type": "stream",
     "text": [
      "Epoch 238 validation: negative log likelihood loss=nan, Accuracy=0.2590448558330536\n"
     ]
    },
    {
     "name": "stderr",
     "output_type": "stream",
     "text": [
      "Epoch 239: 100%|██████████| 7/7 [00:00<00:00, 100.00batch/s, acc=0.262, loss=nan]\n"
     ]
    },
    {
     "name": "stdout",
     "output_type": "stream",
     "text": [
      "Epoch 239 validation: negative log likelihood loss=nan, Accuracy=0.2590448558330536\n"
     ]
    },
    {
     "name": "stderr",
     "output_type": "stream",
     "text": [
      "Epoch 240: 100%|██████████| 7/7 [00:00<00:00, 100.00batch/s, acc=0.262, loss=nan]\n"
     ]
    },
    {
     "name": "stdout",
     "output_type": "stream",
     "text": [
      "Epoch 240 validation: negative log likelihood loss=nan, Accuracy=0.2590448558330536\n"
     ]
    },
    {
     "name": "stderr",
     "output_type": "stream",
     "text": [
      "Epoch 241: 100%|██████████| 7/7 [00:00<00:00, 98.59batch/s, acc=0.262, loss=nan] \n"
     ]
    },
    {
     "name": "stdout",
     "output_type": "stream",
     "text": [
      "Epoch 241 validation: negative log likelihood loss=nan, Accuracy=0.2590448558330536\n"
     ]
    },
    {
     "name": "stderr",
     "output_type": "stream",
     "text": [
      "Epoch 242: 100%|██████████| 7/7 [00:00<00:00, 94.59batch/s, acc=0.262, loss=nan]\n"
     ]
    },
    {
     "name": "stdout",
     "output_type": "stream",
     "text": [
      "Epoch 242 validation: negative log likelihood loss=nan, Accuracy=0.2590448558330536\n"
     ]
    },
    {
     "name": "stderr",
     "output_type": "stream",
     "text": [
      "Epoch 243: 100%|██████████| 7/7 [00:00<00:00, 92.11batch/s, acc=0.262, loss=nan]\n"
     ]
    },
    {
     "name": "stdout",
     "output_type": "stream",
     "text": [
      "Epoch 243 validation: negative log likelihood loss=nan, Accuracy=0.2590448558330536\n"
     ]
    },
    {
     "name": "stderr",
     "output_type": "stream",
     "text": [
      "Epoch 244: 100%|██████████| 7/7 [00:00<00:00, 85.37batch/s, acc=0.262, loss=nan]\n"
     ]
    },
    {
     "name": "stdout",
     "output_type": "stream",
     "text": [
      "Epoch 244 validation: negative log likelihood loss=nan, Accuracy=0.2590448558330536\n"
     ]
    },
    {
     "name": "stderr",
     "output_type": "stream",
     "text": [
      "Epoch 245: 100%|██████████| 7/7 [00:00<00:00, 79.55batch/s, acc=0.262, loss=nan]\n"
     ]
    },
    {
     "name": "stdout",
     "output_type": "stream",
     "text": [
      "Epoch 245 validation: negative log likelihood loss=nan, Accuracy=0.2590448558330536\n"
     ]
    },
    {
     "name": "stderr",
     "output_type": "stream",
     "text": [
      "Epoch 246: 100%|██████████| 7/7 [00:00<00:00, 98.59batch/s, acc=0.262, loss=nan] \n"
     ]
    },
    {
     "name": "stdout",
     "output_type": "stream",
     "text": [
      "Epoch 246 validation: negative log likelihood loss=nan, Accuracy=0.2590448558330536\n"
     ]
    },
    {
     "name": "stderr",
     "output_type": "stream",
     "text": [
      "Epoch 247: 100%|██████████| 7/7 [00:00<00:00, 84.34batch/s, acc=0.262, loss=nan] \n"
     ]
    },
    {
     "name": "stdout",
     "output_type": "stream",
     "text": [
      "Epoch 247 validation: negative log likelihood loss=nan, Accuracy=0.2590448558330536\n"
     ]
    },
    {
     "name": "stderr",
     "output_type": "stream",
     "text": [
      "Epoch 248: 100%|██████████| 7/7 [00:00<00:00, 100.00batch/s, acc=0.262, loss=nan]\n"
     ]
    },
    {
     "name": "stdout",
     "output_type": "stream",
     "text": [
      "Epoch 248 validation: negative log likelihood loss=nan, Accuracy=0.2590448558330536\n"
     ]
    },
    {
     "name": "stderr",
     "output_type": "stream",
     "text": [
      "Epoch 249: 100%|██████████| 7/7 [00:00<00:00, 98.59batch/s, acc=0.262, loss=nan] \n"
     ]
    },
    {
     "name": "stdout",
     "output_type": "stream",
     "text": [
      "Epoch 249 validation: negative log likelihood loss=nan, Accuracy=0.2590448558330536\n"
     ]
    },
    {
     "name": "stderr",
     "output_type": "stream",
     "text": [
      "Epoch 250: 100%|██████████| 7/7 [00:00<00:00, 82.35batch/s, acc=0.262, loss=nan]\n"
     ]
    },
    {
     "name": "stdout",
     "output_type": "stream",
     "text": [
      "Epoch 250 validation: negative log likelihood loss=nan, Accuracy=0.2590448558330536\n"
     ]
    },
    {
     "name": "stderr",
     "output_type": "stream",
     "text": [
      "Epoch 251: 100%|██████████| 7/7 [00:00<00:00, 76.09batch/s, acc=0.262, loss=nan]\n"
     ]
    },
    {
     "name": "stdout",
     "output_type": "stream",
     "text": [
      "Epoch 251 validation: negative log likelihood loss=nan, Accuracy=0.2590448558330536\n"
     ]
    },
    {
     "name": "stderr",
     "output_type": "stream",
     "text": [
      "Epoch 252: 100%|██████████| 7/7 [00:00<00:00, 97.22batch/s, acc=0.262, loss=nan] \n"
     ]
    },
    {
     "name": "stdout",
     "output_type": "stream",
     "text": [
      "Epoch 252 validation: negative log likelihood loss=nan, Accuracy=0.2590448558330536\n"
     ]
    },
    {
     "name": "stderr",
     "output_type": "stream",
     "text": [
      "Epoch 253: 100%|██████████| 7/7 [00:00<00:00, 100.00batch/s, acc=0.262, loss=nan]\n"
     ]
    },
    {
     "name": "stdout",
     "output_type": "stream",
     "text": [
      "Epoch 253 validation: negative log likelihood loss=nan, Accuracy=0.2590448558330536\n"
     ]
    },
    {
     "name": "stderr",
     "output_type": "stream",
     "text": [
      "Epoch 254: 100%|██████████| 7/7 [00:00<00:00, 79.55batch/s, acc=0.262, loss=nan]\n"
     ]
    },
    {
     "name": "stdout",
     "output_type": "stream",
     "text": [
      "Epoch 254 validation: negative log likelihood loss=nan, Accuracy=0.2590448558330536\n"
     ]
    },
    {
     "name": "stderr",
     "output_type": "stream",
     "text": [
      "Epoch 255: 100%|██████████| 7/7 [00:00<00:00, 92.11batch/s, acc=0.262, loss=nan]\n"
     ]
    },
    {
     "name": "stdout",
     "output_type": "stream",
     "text": [
      "Epoch 255 validation: negative log likelihood loss=nan, Accuracy=0.2590448558330536\n"
     ]
    },
    {
     "name": "stderr",
     "output_type": "stream",
     "text": [
      "Epoch 256: 100%|██████████| 7/7 [00:00<00:00, 98.59batch/s, acc=0.262, loss=nan] \n"
     ]
    },
    {
     "name": "stdout",
     "output_type": "stream",
     "text": [
      "Epoch 256 validation: negative log likelihood loss=nan, Accuracy=0.2590448558330536\n"
     ]
    },
    {
     "name": "stderr",
     "output_type": "stream",
     "text": [
      "Epoch 257: 100%|██████████| 7/7 [00:00<00:00, 93.34batch/s, acc=0.262, loss=nan]\n"
     ]
    },
    {
     "name": "stdout",
     "output_type": "stream",
     "text": [
      "Epoch 257 validation: negative log likelihood loss=nan, Accuracy=0.2590448558330536\n"
     ]
    },
    {
     "name": "stderr",
     "output_type": "stream",
     "text": [
      "Epoch 258: 100%|██████████| 7/7 [00:00<00:00, 85.36batch/s, acc=0.262, loss=nan]\n"
     ]
    },
    {
     "name": "stdout",
     "output_type": "stream",
     "text": [
      "Epoch 258 validation: negative log likelihood loss=nan, Accuracy=0.2590448558330536\n"
     ]
    },
    {
     "name": "stderr",
     "output_type": "stream",
     "text": [
      "Epoch 259: 100%|██████████| 7/7 [00:00<00:00, 90.91batch/s, acc=0.262, loss=nan]\n"
     ]
    },
    {
     "name": "stdout",
     "output_type": "stream",
     "text": [
      "Epoch 259 validation: negative log likelihood loss=nan, Accuracy=0.2590448558330536\n"
     ]
    },
    {
     "name": "stderr",
     "output_type": "stream",
     "text": [
      "Epoch 260: 100%|██████████| 7/7 [00:00<00:00, 93.33batch/s, acc=0.262, loss=nan] \n"
     ]
    },
    {
     "name": "stdout",
     "output_type": "stream",
     "text": [
      "Epoch 260 validation: negative log likelihood loss=nan, Accuracy=0.2590448558330536\n"
     ]
    },
    {
     "name": "stderr",
     "output_type": "stream",
     "text": [
      "Epoch 261: 100%|██████████| 7/7 [00:00<00:00, 92.10batch/s, acc=0.262, loss=nan]\n"
     ]
    },
    {
     "name": "stdout",
     "output_type": "stream",
     "text": [
      "Epoch 261 validation: negative log likelihood loss=nan, Accuracy=0.2590448558330536\n"
     ]
    },
    {
     "name": "stderr",
     "output_type": "stream",
     "text": [
      "Epoch 262: 100%|██████████| 7/7 [00:00<00:00, 93.34batch/s, acc=0.262, loss=nan]\n"
     ]
    },
    {
     "name": "stdout",
     "output_type": "stream",
     "text": [
      "Epoch 262 validation: negative log likelihood loss=nan, Accuracy=0.2590448558330536\n"
     ]
    },
    {
     "name": "stderr",
     "output_type": "stream",
     "text": [
      "Epoch 263: 100%|██████████| 7/7 [00:00<00:00, 76.92batch/s, acc=0.262, loss=nan]\n"
     ]
    },
    {
     "name": "stdout",
     "output_type": "stream",
     "text": [
      "Epoch 263 validation: negative log likelihood loss=nan, Accuracy=0.2590448558330536\n"
     ]
    },
    {
     "name": "stderr",
     "output_type": "stream",
     "text": [
      "Epoch 264: 100%|██████████| 7/7 [00:00<00:00, 93.33batch/s, acc=0.262, loss=nan]\n"
     ]
    },
    {
     "name": "stdout",
     "output_type": "stream",
     "text": [
      "Epoch 264 validation: negative log likelihood loss=nan, Accuracy=0.2590448558330536\n"
     ]
    },
    {
     "name": "stderr",
     "output_type": "stream",
     "text": [
      "Epoch 265: 100%|██████████| 7/7 [00:00<00:00, 94.60batch/s, acc=0.262, loss=nan] \n"
     ]
    },
    {
     "name": "stdout",
     "output_type": "stream",
     "text": [
      "Epoch 265 validation: negative log likelihood loss=nan, Accuracy=0.2590448558330536\n"
     ]
    },
    {
     "name": "stderr",
     "output_type": "stream",
     "text": [
      "Epoch 266: 100%|██████████| 7/7 [00:00<00:00, 95.89batch/s, acc=0.262, loss=nan]\n"
     ]
    },
    {
     "name": "stdout",
     "output_type": "stream",
     "text": [
      "Epoch 266 validation: negative log likelihood loss=nan, Accuracy=0.2590448558330536\n"
     ]
    },
    {
     "name": "stderr",
     "output_type": "stream",
     "text": [
      "Epoch 267: 100%|██████████| 7/7 [00:00<00:00, 93.33batch/s, acc=0.262, loss=nan]\n"
     ]
    },
    {
     "name": "stdout",
     "output_type": "stream",
     "text": [
      "Epoch 267 validation: negative log likelihood loss=nan, Accuracy=0.2590448558330536\n"
     ]
    },
    {
     "name": "stderr",
     "output_type": "stream",
     "text": [
      "Epoch 268: 100%|██████████| 7/7 [00:00<00:00, 94.59batch/s, acc=0.262, loss=nan]\n"
     ]
    },
    {
     "name": "stdout",
     "output_type": "stream",
     "text": [
      "Epoch 268 validation: negative log likelihood loss=nan, Accuracy=0.2590448558330536\n"
     ]
    },
    {
     "name": "stderr",
     "output_type": "stream",
     "text": [
      "Epoch 269: 100%|██████████| 7/7 [00:00<00:00, 100.00batch/s, acc=0.262, loss=nan]\n"
     ]
    },
    {
     "name": "stdout",
     "output_type": "stream",
     "text": [
      "Epoch 269 validation: negative log likelihood loss=nan, Accuracy=0.2590448558330536\n"
     ]
    },
    {
     "name": "stderr",
     "output_type": "stream",
     "text": [
      "Epoch 270: 100%|██████████| 7/7 [00:00<00:00, 100.00batch/s, acc=0.262, loss=nan]\n"
     ]
    },
    {
     "name": "stdout",
     "output_type": "stream",
     "text": [
      "Epoch 270 validation: negative log likelihood loss=nan, Accuracy=0.2590448558330536\n"
     ]
    },
    {
     "name": "stderr",
     "output_type": "stream",
     "text": [
      "Epoch 271: 100%|██████████| 7/7 [00:00<00:00, 100.00batch/s, acc=0.262, loss=nan]\n"
     ]
    },
    {
     "name": "stdout",
     "output_type": "stream",
     "text": [
      "Epoch 271 validation: negative log likelihood loss=nan, Accuracy=0.2590448558330536\n"
     ]
    },
    {
     "name": "stderr",
     "output_type": "stream",
     "text": [
      "Epoch 272: 100%|██████████| 7/7 [00:00<00:00, 80.46batch/s, acc=0.262, loss=nan]\n"
     ]
    },
    {
     "name": "stdout",
     "output_type": "stream",
     "text": [
      "Epoch 272 validation: negative log likelihood loss=nan, Accuracy=0.2590448558330536\n"
     ]
    },
    {
     "name": "stderr",
     "output_type": "stream",
     "text": [
      "Epoch 273: 100%|██████████| 7/7 [00:00<00:00, 89.74batch/s, acc=0.262, loss=nan]\n"
     ]
    },
    {
     "name": "stdout",
     "output_type": "stream",
     "text": [
      "Epoch 273 validation: negative log likelihood loss=nan, Accuracy=0.2590448558330536\n"
     ]
    },
    {
     "name": "stderr",
     "output_type": "stream",
     "text": [
      "Epoch 274: 100%|██████████| 7/7 [00:00<00:00, 93.33batch/s, acc=0.262, loss=nan]\n"
     ]
    },
    {
     "name": "stdout",
     "output_type": "stream",
     "text": [
      "Epoch 274 validation: negative log likelihood loss=nan, Accuracy=0.2590448558330536\n"
     ]
    },
    {
     "name": "stderr",
     "output_type": "stream",
     "text": [
      "Epoch 275: 100%|██████████| 7/7 [00:00<00:00, 88.61batch/s, acc=0.262, loss=nan]\n"
     ]
    },
    {
     "name": "stdout",
     "output_type": "stream",
     "text": [
      "Epoch 275 validation: negative log likelihood loss=nan, Accuracy=0.2590448558330536\n"
     ]
    },
    {
     "name": "stderr",
     "output_type": "stream",
     "text": [
      "Epoch 276: 100%|██████████| 7/7 [00:00<00:00, 94.59batch/s, acc=0.262, loss=nan]\n"
     ]
    },
    {
     "name": "stdout",
     "output_type": "stream",
     "text": [
      "Epoch 276 validation: negative log likelihood loss=nan, Accuracy=0.2590448558330536\n"
     ]
    },
    {
     "name": "stderr",
     "output_type": "stream",
     "text": [
      "Epoch 277: 100%|██████████| 7/7 [00:00<00:00, 94.59batch/s, acc=0.262, loss=nan]\n"
     ]
    },
    {
     "name": "stdout",
     "output_type": "stream",
     "text": [
      "Epoch 277 validation: negative log likelihood loss=nan, Accuracy=0.2590448558330536\n"
     ]
    },
    {
     "name": "stderr",
     "output_type": "stream",
     "text": [
      "Epoch 278: 100%|██████████| 7/7 [00:00<00:00, 93.34batch/s, acc=0.262, loss=nan] \n"
     ]
    },
    {
     "name": "stdout",
     "output_type": "stream",
     "text": [
      "Epoch 278 validation: negative log likelihood loss=nan, Accuracy=0.2590448558330536\n"
     ]
    },
    {
     "name": "stderr",
     "output_type": "stream",
     "text": [
      "Epoch 279: 100%|██████████| 7/7 [00:00<00:00, 97.22batch/s, acc=0.262, loss=nan]\n"
     ]
    },
    {
     "name": "stdout",
     "output_type": "stream",
     "text": [
      "Epoch 279 validation: negative log likelihood loss=nan, Accuracy=0.2590448558330536\n"
     ]
    },
    {
     "name": "stderr",
     "output_type": "stream",
     "text": [
      "Epoch 280: 100%|██████████| 7/7 [00:00<00:00, 46.98batch/s, acc=0.262, loss=nan]\n"
     ]
    },
    {
     "name": "stdout",
     "output_type": "stream",
     "text": [
      "Epoch 280 validation: negative log likelihood loss=nan, Accuracy=0.2590448558330536\n"
     ]
    },
    {
     "name": "stderr",
     "output_type": "stream",
     "text": [
      "Epoch 281: 100%|██████████| 7/7 [00:00<00:00, 85.37batch/s, acc=0.262, loss=nan]\n"
     ]
    },
    {
     "name": "stdout",
     "output_type": "stream",
     "text": [
      "Epoch 281 validation: negative log likelihood loss=nan, Accuracy=0.2590448558330536\n"
     ]
    },
    {
     "name": "stderr",
     "output_type": "stream",
     "text": [
      "Epoch 282: 100%|██████████| 7/7 [00:00<00:00, 88.61batch/s, acc=0.262, loss=nan]\n"
     ]
    },
    {
     "name": "stdout",
     "output_type": "stream",
     "text": [
      "Epoch 282 validation: negative log likelihood loss=nan, Accuracy=0.2590448558330536\n"
     ]
    },
    {
     "name": "stderr",
     "output_type": "stream",
     "text": [
      "Epoch 283: 100%|██████████| 7/7 [00:00<00:00, 97.22batch/s, acc=0.262, loss=nan] \n"
     ]
    },
    {
     "name": "stdout",
     "output_type": "stream",
     "text": [
      "Epoch 283 validation: negative log likelihood loss=nan, Accuracy=0.2590448558330536\n"
     ]
    },
    {
     "name": "stderr",
     "output_type": "stream",
     "text": [
      "Epoch 284: 100%|██████████| 7/7 [00:00<00:00, 90.91batch/s, acc=0.262, loss=nan]\n"
     ]
    },
    {
     "name": "stdout",
     "output_type": "stream",
     "text": [
      "Epoch 284 validation: negative log likelihood loss=nan, Accuracy=0.2590448558330536\n"
     ]
    },
    {
     "name": "stderr",
     "output_type": "stream",
     "text": [
      "Epoch 285: 100%|██████████| 7/7 [00:00<00:00, 95.89batch/s, acc=0.262, loss=nan] \n"
     ]
    },
    {
     "name": "stdout",
     "output_type": "stream",
     "text": [
      "Epoch 285 validation: negative log likelihood loss=nan, Accuracy=0.2590448558330536\n"
     ]
    },
    {
     "name": "stderr",
     "output_type": "stream",
     "text": [
      "Epoch 286: 100%|██████████| 7/7 [00:00<00:00, 93.34batch/s, acc=0.262, loss=nan]\n"
     ]
    },
    {
     "name": "stdout",
     "output_type": "stream",
     "text": [
      "Epoch 286 validation: negative log likelihood loss=nan, Accuracy=0.2590448558330536\n"
     ]
    },
    {
     "name": "stderr",
     "output_type": "stream",
     "text": [
      "Epoch 287: 100%|██████████| 7/7 [00:00<00:00, 93.33batch/s, acc=0.262, loss=nan]\n"
     ]
    },
    {
     "name": "stdout",
     "output_type": "stream",
     "text": [
      "Epoch 287 validation: negative log likelihood loss=nan, Accuracy=0.2590448558330536\n"
     ]
    },
    {
     "name": "stderr",
     "output_type": "stream",
     "text": [
      "Epoch 288: 100%|██████████| 7/7 [00:00<00:00, 92.11batch/s, acc=0.262, loss=nan]\n"
     ]
    },
    {
     "name": "stdout",
     "output_type": "stream",
     "text": [
      "Epoch 288 validation: negative log likelihood loss=nan, Accuracy=0.2590448558330536\n"
     ]
    },
    {
     "name": "stderr",
     "output_type": "stream",
     "text": [
      "Epoch 289: 100%|██████████| 7/7 [00:00<00:00, 98.59batch/s, acc=0.262, loss=nan] \n"
     ]
    },
    {
     "name": "stdout",
     "output_type": "stream",
     "text": [
      "Epoch 289 validation: negative log likelihood loss=nan, Accuracy=0.2590448558330536\n"
     ]
    },
    {
     "name": "stderr",
     "output_type": "stream",
     "text": [
      "Epoch 290: 100%|██████████| 7/7 [00:00<00:00, 76.09batch/s, acc=0.262, loss=nan]\n"
     ]
    },
    {
     "name": "stdout",
     "output_type": "stream",
     "text": [
      "Epoch 290 validation: negative log likelihood loss=nan, Accuracy=0.2590448558330536\n"
     ]
    },
    {
     "name": "stderr",
     "output_type": "stream",
     "text": [
      "Epoch 291: 100%|██████████| 7/7 [00:00<00:00, 82.35batch/s, acc=0.262, loss=nan]\n"
     ]
    },
    {
     "name": "stdout",
     "output_type": "stream",
     "text": [
      "Epoch 291 validation: negative log likelihood loss=nan, Accuracy=0.2590448558330536\n"
     ]
    },
    {
     "name": "stderr",
     "output_type": "stream",
     "text": [
      "Epoch 292: 100%|██████████| 7/7 [00:00<00:00, 93.33batch/s, acc=0.262, loss=nan]\n"
     ]
    },
    {
     "name": "stdout",
     "output_type": "stream",
     "text": [
      "Epoch 292 validation: negative log likelihood loss=nan, Accuracy=0.2590448558330536\n"
     ]
    },
    {
     "name": "stderr",
     "output_type": "stream",
     "text": [
      "Epoch 293: 100%|██████████| 7/7 [00:00<00:00, 88.61batch/s, acc=0.262, loss=nan]\n"
     ]
    },
    {
     "name": "stdout",
     "output_type": "stream",
     "text": [
      "Epoch 293 validation: negative log likelihood loss=nan, Accuracy=0.2590448558330536\n"
     ]
    },
    {
     "name": "stderr",
     "output_type": "stream",
     "text": [
      "Epoch 294: 100%|██████████| 7/7 [00:00<00:00, 88.61batch/s, acc=0.262, loss=nan]\n"
     ]
    },
    {
     "name": "stdout",
     "output_type": "stream",
     "text": [
      "Epoch 294 validation: negative log likelihood loss=nan, Accuracy=0.2590448558330536\n"
     ]
    },
    {
     "name": "stderr",
     "output_type": "stream",
     "text": [
      "Epoch 295: 100%|██████████| 7/7 [00:00<00:00, 89.74batch/s, acc=0.262, loss=nan]\n"
     ]
    },
    {
     "name": "stdout",
     "output_type": "stream",
     "text": [
      "Epoch 295 validation: negative log likelihood loss=nan, Accuracy=0.2590448558330536\n"
     ]
    },
    {
     "name": "stderr",
     "output_type": "stream",
     "text": [
      "Epoch 296: 100%|██████████| 7/7 [00:00<00:00, 76.93batch/s, acc=0.262, loss=nan]\n"
     ]
    },
    {
     "name": "stdout",
     "output_type": "stream",
     "text": [
      "Epoch 296 validation: negative log likelihood loss=nan, Accuracy=0.2590448558330536\n"
     ]
    },
    {
     "name": "stderr",
     "output_type": "stream",
     "text": [
      "Epoch 297: 100%|██████████| 7/7 [00:00<00:00, 80.46batch/s, acc=0.262, loss=nan]\n"
     ]
    },
    {
     "name": "stdout",
     "output_type": "stream",
     "text": [
      "Epoch 297 validation: negative log likelihood loss=nan, Accuracy=0.2590448558330536\n"
     ]
    },
    {
     "name": "stderr",
     "output_type": "stream",
     "text": [
      "Epoch 298: 100%|██████████| 7/7 [00:00<00:00, 87.50batch/s, acc=0.262, loss=nan]\n"
     ]
    },
    {
     "name": "stdout",
     "output_type": "stream",
     "text": [
      "Epoch 298 validation: negative log likelihood loss=nan, Accuracy=0.2590448558330536\n"
     ]
    },
    {
     "name": "stderr",
     "output_type": "stream",
     "text": [
      "Epoch 299: 100%|██████████| 7/7 [00:00<00:00, 76.92batch/s, acc=0.262, loss=nan]\n"
     ]
    },
    {
     "name": "stdout",
     "output_type": "stream",
     "text": [
      "Epoch 299 validation: negative log likelihood loss=nan, Accuracy=0.2590448558330536\n"
     ]
    },
    {
     "name": "stderr",
     "output_type": "stream",
     "text": [
      "Epoch 300: 100%|██████████| 7/7 [00:00<00:00, 94.60batch/s, acc=0.262, loss=nan] "
     ]
    },
    {
     "name": "stdout",
     "output_type": "stream",
     "text": [
      "Epoch 300 validation: negative log likelihood loss=nan, Accuracy=0.2590448558330536\n"
     ]
    },
    {
     "name": "stderr",
     "output_type": "stream",
     "text": [
      "\n",
      "Epoch 301: 100%|██████████| 7/7 [00:00<00:00, 92.10batch/s, acc=0.262, loss=nan] \n"
     ]
    },
    {
     "name": "stdout",
     "output_type": "stream",
     "text": [
      "Epoch 301 validation: negative log likelihood loss=nan, Accuracy=0.2590448558330536\n"
     ]
    },
    {
     "name": "stderr",
     "output_type": "stream",
     "text": [
      "Epoch 302: 100%|██████████| 7/7 [00:00<00:00, 97.23batch/s, acc=0.262, loss=nan] \n"
     ]
    },
    {
     "name": "stdout",
     "output_type": "stream",
     "text": [
      "Epoch 302 validation: negative log likelihood loss=nan, Accuracy=0.2590448558330536\n"
     ]
    },
    {
     "name": "stderr",
     "output_type": "stream",
     "text": [
      "Epoch 303: 100%|██████████| 7/7 [00:00<00:00, 94.59batch/s, acc=0.262, loss=nan]\n"
     ]
    },
    {
     "name": "stdout",
     "output_type": "stream",
     "text": [
      "Epoch 303 validation: negative log likelihood loss=nan, Accuracy=0.2590448558330536\n"
     ]
    },
    {
     "name": "stderr",
     "output_type": "stream",
     "text": [
      "Epoch 304: 100%|██████████| 7/7 [00:00<00:00, 90.91batch/s, acc=0.262, loss=nan]\n"
     ]
    },
    {
     "name": "stdout",
     "output_type": "stream",
     "text": [
      "Epoch 304 validation: negative log likelihood loss=nan, Accuracy=0.2590448558330536\n"
     ]
    },
    {
     "name": "stderr",
     "output_type": "stream",
     "text": [
      "Epoch 305: 100%|██████████| 7/7 [00:00<00:00, 92.11batch/s, acc=0.262, loss=nan]\n"
     ]
    },
    {
     "name": "stdout",
     "output_type": "stream",
     "text": [
      "Epoch 305 validation: negative log likelihood loss=nan, Accuracy=0.2590448558330536\n"
     ]
    },
    {
     "name": "stderr",
     "output_type": "stream",
     "text": [
      "Epoch 306: 100%|██████████| 7/7 [00:00<00:00, 94.60batch/s, acc=0.262, loss=nan]\n"
     ]
    },
    {
     "name": "stdout",
     "output_type": "stream",
     "text": [
      "Epoch 306 validation: negative log likelihood loss=nan, Accuracy=0.2590448558330536\n"
     ]
    },
    {
     "name": "stderr",
     "output_type": "stream",
     "text": [
      "Epoch 307: 100%|██████████| 7/7 [00:00<00:00, 93.33batch/s, acc=0.262, loss=nan]\n"
     ]
    },
    {
     "name": "stdout",
     "output_type": "stream",
     "text": [
      "Epoch 307 validation: negative log likelihood loss=nan, Accuracy=0.2590448558330536\n"
     ]
    },
    {
     "name": "stderr",
     "output_type": "stream",
     "text": [
      "Epoch 308: 100%|██████████| 7/7 [00:00<00:00, 93.33batch/s, acc=0.262, loss=nan]\n"
     ]
    },
    {
     "name": "stdout",
     "output_type": "stream",
     "text": [
      "Epoch 308 validation: negative log likelihood loss=nan, Accuracy=0.2590448558330536\n"
     ]
    },
    {
     "name": "stderr",
     "output_type": "stream",
     "text": [
      "Epoch 309: 100%|██████████| 7/7 [00:00<00:00, 93.33batch/s, acc=0.262, loss=nan]\n"
     ]
    },
    {
     "name": "stdout",
     "output_type": "stream",
     "text": [
      "Epoch 309 validation: negative log likelihood loss=nan, Accuracy=0.2590448558330536\n"
     ]
    },
    {
     "name": "stderr",
     "output_type": "stream",
     "text": [
      "Epoch 310: 100%|██████████| 7/7 [00:00<00:00, 49.65batch/s, acc=0.262, loss=nan]\n"
     ]
    },
    {
     "name": "stdout",
     "output_type": "stream",
     "text": [
      "Epoch 310 validation: negative log likelihood loss=nan, Accuracy=0.2590448558330536\n"
     ]
    },
    {
     "name": "stderr",
     "output_type": "stream",
     "text": [
      "Epoch 311: 100%|██████████| 7/7 [00:00<00:00, 88.61batch/s, acc=0.262, loss=nan] \n"
     ]
    },
    {
     "name": "stdout",
     "output_type": "stream",
     "text": [
      "Epoch 311 validation: negative log likelihood loss=nan, Accuracy=0.2590448558330536\n"
     ]
    },
    {
     "name": "stderr",
     "output_type": "stream",
     "text": [
      "Epoch 312: 100%|██████████| 7/7 [00:00<00:00, 94.59batch/s, acc=0.262, loss=nan]\n"
     ]
    },
    {
     "name": "stdout",
     "output_type": "stream",
     "text": [
      "Epoch 312 validation: negative log likelihood loss=nan, Accuracy=0.2590448558330536\n"
     ]
    },
    {
     "name": "stderr",
     "output_type": "stream",
     "text": [
      "Epoch 313: 100%|██████████| 7/7 [00:00<00:00, 94.60batch/s, acc=0.262, loss=nan]\n"
     ]
    },
    {
     "name": "stdout",
     "output_type": "stream",
     "text": [
      "Epoch 313 validation: negative log likelihood loss=nan, Accuracy=0.2590448558330536\n"
     ]
    },
    {
     "name": "stderr",
     "output_type": "stream",
     "text": [
      "Epoch 314: 100%|██████████| 7/7 [00:00<00:00, 94.59batch/s, acc=0.262, loss=nan]\n"
     ]
    },
    {
     "name": "stdout",
     "output_type": "stream",
     "text": [
      "Epoch 314 validation: negative log likelihood loss=nan, Accuracy=0.2590448558330536\n"
     ]
    },
    {
     "name": "stderr",
     "output_type": "stream",
     "text": [
      "Epoch 315: 100%|██████████| 7/7 [00:00<00:00, 93.34batch/s, acc=0.262, loss=nan]\n"
     ]
    },
    {
     "name": "stdout",
     "output_type": "stream",
     "text": [
      "Epoch 315 validation: negative log likelihood loss=nan, Accuracy=0.2590448558330536\n"
     ]
    },
    {
     "name": "stderr",
     "output_type": "stream",
     "text": [
      "Epoch 316: 100%|██████████| 7/7 [00:00<00:00, 95.89batch/s, acc=0.262, loss=nan] \n"
     ]
    },
    {
     "name": "stdout",
     "output_type": "stream",
     "text": [
      "Epoch 316 validation: negative log likelihood loss=nan, Accuracy=0.2590448558330536\n"
     ]
    },
    {
     "name": "stderr",
     "output_type": "stream",
     "text": [
      "Epoch 317: 100%|██████████| 7/7 [00:00<00:00, 94.60batch/s, acc=0.262, loss=nan]\n"
     ]
    },
    {
     "name": "stdout",
     "output_type": "stream",
     "text": [
      "Epoch 317 validation: negative log likelihood loss=nan, Accuracy=0.2590448558330536\n"
     ]
    },
    {
     "name": "stderr",
     "output_type": "stream",
     "text": [
      "Epoch 318: 100%|██████████| 7/7 [00:00<00:00, 95.89batch/s, acc=0.262, loss=nan] \n"
     ]
    },
    {
     "name": "stdout",
     "output_type": "stream",
     "text": [
      "Epoch 318 validation: negative log likelihood loss=nan, Accuracy=0.2590448558330536\n"
     ]
    },
    {
     "name": "stderr",
     "output_type": "stream",
     "text": [
      "Epoch 319: 100%|██████████| 7/7 [00:00<00:00, 76.92batch/s, acc=0.262, loss=nan]\n"
     ]
    },
    {
     "name": "stdout",
     "output_type": "stream",
     "text": [
      "Epoch 319 validation: negative log likelihood loss=nan, Accuracy=0.2590448558330536\n"
     ]
    },
    {
     "name": "stderr",
     "output_type": "stream",
     "text": [
      "Epoch 320: 100%|██████████| 7/7 [00:00<00:00, 92.11batch/s, acc=0.262, loss=nan]\n"
     ]
    },
    {
     "name": "stdout",
     "output_type": "stream",
     "text": [
      "Epoch 320 validation: negative log likelihood loss=nan, Accuracy=0.2590448558330536\n"
     ]
    },
    {
     "name": "stderr",
     "output_type": "stream",
     "text": [
      "Epoch 321: 100%|██████████| 7/7 [00:00<00:00, 98.59batch/s, acc=0.262, loss=nan] \n"
     ]
    },
    {
     "name": "stdout",
     "output_type": "stream",
     "text": [
      "Epoch 321 validation: negative log likelihood loss=nan, Accuracy=0.2590448558330536\n"
     ]
    },
    {
     "name": "stderr",
     "output_type": "stream",
     "text": [
      "Epoch 322: 100%|██████████| 7/7 [00:00<00:00, 98.59batch/s, acc=0.262, loss=nan] \n"
     ]
    },
    {
     "name": "stdout",
     "output_type": "stream",
     "text": [
      "Epoch 322 validation: negative log likelihood loss=nan, Accuracy=0.2590448558330536\n"
     ]
    },
    {
     "name": "stderr",
     "output_type": "stream",
     "text": [
      "Epoch 323: 100%|██████████| 7/7 [00:00<00:00, 94.60batch/s, acc=0.262, loss=nan] \n"
     ]
    },
    {
     "name": "stdout",
     "output_type": "stream",
     "text": [
      "Epoch 323 validation: negative log likelihood loss=nan, Accuracy=0.2590448558330536\n"
     ]
    },
    {
     "name": "stderr",
     "output_type": "stream",
     "text": [
      "Epoch 324: 100%|██████████| 7/7 [00:00<00:00, 95.89batch/s, acc=0.262, loss=nan] \n"
     ]
    },
    {
     "name": "stdout",
     "output_type": "stream",
     "text": [
      "Epoch 324 validation: negative log likelihood loss=nan, Accuracy=0.2590448558330536\n"
     ]
    },
    {
     "name": "stderr",
     "output_type": "stream",
     "text": [
      "Epoch 325: 100%|██████████| 7/7 [00:00<00:00, 43.75batch/s, acc=0.262, loss=nan]\n"
     ]
    },
    {
     "name": "stdout",
     "output_type": "stream",
     "text": [
      "Epoch 325 validation: negative log likelihood loss=nan, Accuracy=0.2590448558330536\n"
     ]
    },
    {
     "name": "stderr",
     "output_type": "stream",
     "text": [
      "Epoch 326: 100%|██████████| 7/7 [00:00<00:00, 92.11batch/s, acc=0.262, loss=nan]\n"
     ]
    },
    {
     "name": "stdout",
     "output_type": "stream",
     "text": [
      "Epoch 326 validation: negative log likelihood loss=nan, Accuracy=0.2590448558330536\n"
     ]
    },
    {
     "name": "stderr",
     "output_type": "stream",
     "text": [
      "Epoch 327: 100%|██████████| 7/7 [00:00<00:00, 95.89batch/s, acc=0.262, loss=nan] \n"
     ]
    },
    {
     "name": "stdout",
     "output_type": "stream",
     "text": [
      "Epoch 327 validation: negative log likelihood loss=nan, Accuracy=0.2590448558330536\n"
     ]
    },
    {
     "name": "stderr",
     "output_type": "stream",
     "text": [
      "Epoch 328: 100%|██████████| 7/7 [00:00<00:00, 97.22batch/s, acc=0.262, loss=nan] \n"
     ]
    },
    {
     "name": "stdout",
     "output_type": "stream",
     "text": [
      "Epoch 328 validation: negative log likelihood loss=nan, Accuracy=0.2590448558330536\n"
     ]
    },
    {
     "name": "stderr",
     "output_type": "stream",
     "text": [
      "Epoch 329: 100%|██████████| 7/7 [00:00<00:00, 76.92batch/s, acc=0.262, loss=nan]\n"
     ]
    },
    {
     "name": "stdout",
     "output_type": "stream",
     "text": [
      "Epoch 329 validation: negative log likelihood loss=nan, Accuracy=0.2590448558330536\n"
     ]
    },
    {
     "name": "stderr",
     "output_type": "stream",
     "text": [
      "Epoch 330: 100%|██████████| 7/7 [00:00<00:00, 89.74batch/s, acc=0.262, loss=nan]\n"
     ]
    },
    {
     "name": "stdout",
     "output_type": "stream",
     "text": [
      "Epoch 330 validation: negative log likelihood loss=nan, Accuracy=0.2590448558330536\n"
     ]
    },
    {
     "name": "stderr",
     "output_type": "stream",
     "text": [
      "Epoch 331: 100%|██████████| 7/7 [00:00<00:00, 92.11batch/s, acc=0.262, loss=nan]\n"
     ]
    },
    {
     "name": "stdout",
     "output_type": "stream",
     "text": [
      "Epoch 331 validation: negative log likelihood loss=nan, Accuracy=0.2590448558330536\n"
     ]
    },
    {
     "name": "stderr",
     "output_type": "stream",
     "text": [
      "Epoch 332: 100%|██████████| 7/7 [00:00<00:00, 94.60batch/s, acc=0.262, loss=nan]\n"
     ]
    },
    {
     "name": "stdout",
     "output_type": "stream",
     "text": [
      "Epoch 332 validation: negative log likelihood loss=nan, Accuracy=0.2590448558330536\n"
     ]
    },
    {
     "name": "stderr",
     "output_type": "stream",
     "text": [
      "Epoch 333: 100%|██████████| 7/7 [00:00<00:00, 93.33batch/s, acc=0.262, loss=nan]\n"
     ]
    },
    {
     "name": "stdout",
     "output_type": "stream",
     "text": [
      "Epoch 333 validation: negative log likelihood loss=nan, Accuracy=0.2590448558330536\n"
     ]
    },
    {
     "name": "stderr",
     "output_type": "stream",
     "text": [
      "Epoch 334: 100%|██████████| 7/7 [00:00<00:00, 97.22batch/s, acc=0.262, loss=nan] \n"
     ]
    },
    {
     "name": "stdout",
     "output_type": "stream",
     "text": [
      "Epoch 334 validation: negative log likelihood loss=nan, Accuracy=0.2590448558330536\n"
     ]
    },
    {
     "name": "stderr",
     "output_type": "stream",
     "text": [
      "Epoch 335: 100%|██████████| 7/7 [00:00<00:00, 98.59batch/s, acc=0.262, loss=nan] \n"
     ]
    },
    {
     "name": "stdout",
     "output_type": "stream",
     "text": [
      "Epoch 335 validation: negative log likelihood loss=nan, Accuracy=0.2590448558330536\n"
     ]
    },
    {
     "name": "stderr",
     "output_type": "stream",
     "text": [
      "Epoch 336: 100%|██████████| 7/7 [00:00<00:00, 97.22batch/s, acc=0.262, loss=nan] \n"
     ]
    },
    {
     "name": "stdout",
     "output_type": "stream",
     "text": [
      "Epoch 336 validation: negative log likelihood loss=nan, Accuracy=0.2590448558330536\n"
     ]
    },
    {
     "name": "stderr",
     "output_type": "stream",
     "text": [
      "Epoch 337: 100%|██████████| 7/7 [00:00<00:00, 48.28batch/s, acc=0.262, loss=nan]\n"
     ]
    },
    {
     "name": "stdout",
     "output_type": "stream",
     "text": [
      "Epoch 337 validation: negative log likelihood loss=nan, Accuracy=0.2590448558330536\n"
     ]
    },
    {
     "name": "stderr",
     "output_type": "stream",
     "text": [
      "Epoch 338: 100%|██████████| 7/7 [00:00<00:00, 93.34batch/s, acc=0.262, loss=nan] \n"
     ]
    },
    {
     "name": "stdout",
     "output_type": "stream",
     "text": [
      "Epoch 338 validation: negative log likelihood loss=nan, Accuracy=0.2590448558330536\n"
     ]
    },
    {
     "name": "stderr",
     "output_type": "stream",
     "text": [
      "Epoch 339: 100%|██████████| 7/7 [00:00<00:00, 95.89batch/s, acc=0.262, loss=nan] \n"
     ]
    },
    {
     "name": "stdout",
     "output_type": "stream",
     "text": [
      "Epoch 339 validation: negative log likelihood loss=nan, Accuracy=0.2590448558330536\n"
     ]
    },
    {
     "name": "stderr",
     "output_type": "stream",
     "text": [
      "Epoch 340: 100%|██████████| 7/7 [00:00<00:00, 88.61batch/s, acc=0.262, loss=nan]\n"
     ]
    },
    {
     "name": "stdout",
     "output_type": "stream",
     "text": [
      "Epoch 340 validation: negative log likelihood loss=nan, Accuracy=0.2590448558330536\n"
     ]
    },
    {
     "name": "stderr",
     "output_type": "stream",
     "text": [
      "Epoch 341: 100%|██████████| 7/7 [00:00<00:00, 97.23batch/s, acc=0.262, loss=nan] \n"
     ]
    },
    {
     "name": "stdout",
     "output_type": "stream",
     "text": [
      "Epoch 341 validation: negative log likelihood loss=nan, Accuracy=0.2590448558330536\n"
     ]
    },
    {
     "name": "stderr",
     "output_type": "stream",
     "text": [
      "Epoch 342: 100%|██████████| 7/7 [00:00<00:00, 94.59batch/s, acc=0.262, loss=nan]\n"
     ]
    },
    {
     "name": "stdout",
     "output_type": "stream",
     "text": [
      "Epoch 342 validation: negative log likelihood loss=nan, Accuracy=0.2590448558330536\n"
     ]
    },
    {
     "name": "stderr",
     "output_type": "stream",
     "text": [
      "Epoch 343: 100%|██████████| 7/7 [00:00<00:00, 92.11batch/s, acc=0.262, loss=nan]\n"
     ]
    },
    {
     "name": "stdout",
     "output_type": "stream",
     "text": [
      "Epoch 343 validation: negative log likelihood loss=nan, Accuracy=0.2590448558330536\n"
     ]
    },
    {
     "name": "stderr",
     "output_type": "stream",
     "text": [
      "Epoch 344: 100%|██████████| 7/7 [00:00<00:00, 94.60batch/s, acc=0.262, loss=nan]\n"
     ]
    },
    {
     "name": "stdout",
     "output_type": "stream",
     "text": [
      "Epoch 344 validation: negative log likelihood loss=nan, Accuracy=0.2590448558330536\n"
     ]
    },
    {
     "name": "stderr",
     "output_type": "stream",
     "text": [
      "Epoch 345: 100%|██████████| 7/7 [00:00<00:00, 95.89batch/s, acc=0.262, loss=nan] \n"
     ]
    },
    {
     "name": "stdout",
     "output_type": "stream",
     "text": [
      "Epoch 345 validation: negative log likelihood loss=nan, Accuracy=0.2590448558330536\n"
     ]
    },
    {
     "name": "stderr",
     "output_type": "stream",
     "text": [
      "Epoch 346: 100%|██████████| 7/7 [00:00<00:00, 92.11batch/s, acc=0.262, loss=nan]\n"
     ]
    },
    {
     "name": "stdout",
     "output_type": "stream",
     "text": [
      "Epoch 346 validation: negative log likelihood loss=nan, Accuracy=0.2590448558330536\n"
     ]
    },
    {
     "name": "stderr",
     "output_type": "stream",
     "text": [
      "Epoch 347: 100%|██████████| 7/7 [00:00<00:00, 43.48batch/s, acc=0.262, loss=nan]\n"
     ]
    },
    {
     "name": "stdout",
     "output_type": "stream",
     "text": [
      "Epoch 347 validation: negative log likelihood loss=nan, Accuracy=0.2590448558330536\n"
     ]
    },
    {
     "name": "stderr",
     "output_type": "stream",
     "text": [
      "Epoch 348: 100%|██████████| 7/7 [00:00<00:00, 83.33batch/s, acc=0.262, loss=nan]\n"
     ]
    },
    {
     "name": "stdout",
     "output_type": "stream",
     "text": [
      "Epoch 348 validation: negative log likelihood loss=nan, Accuracy=0.2590448558330536\n"
     ]
    },
    {
     "name": "stderr",
     "output_type": "stream",
     "text": [
      "Epoch 349: 100%|██████████| 7/7 [00:00<00:00, 89.74batch/s, acc=0.262, loss=nan]\n"
     ]
    },
    {
     "name": "stdout",
     "output_type": "stream",
     "text": [
      "Epoch 349 validation: negative log likelihood loss=nan, Accuracy=0.2590448558330536\n"
     ]
    },
    {
     "name": "stderr",
     "output_type": "stream",
     "text": [
      "Epoch 350: 100%|██████████| 7/7 [00:00<00:00, 90.91batch/s, acc=0.262, loss=nan]\n"
     ]
    },
    {
     "name": "stdout",
     "output_type": "stream",
     "text": [
      "Epoch 350 validation: negative log likelihood loss=nan, Accuracy=0.2590448558330536\n"
     ]
    },
    {
     "name": "stderr",
     "output_type": "stream",
     "text": [
      "Epoch 351: 100%|██████████| 7/7 [00:00<00:00, 89.74batch/s, acc=0.262, loss=nan]\n"
     ]
    },
    {
     "name": "stdout",
     "output_type": "stream",
     "text": [
      "Epoch 351 validation: negative log likelihood loss=nan, Accuracy=0.2590448558330536\n"
     ]
    },
    {
     "name": "stderr",
     "output_type": "stream",
     "text": [
      "Epoch 352: 100%|██████████| 7/7 [00:00<00:00, 95.89batch/s, acc=0.262, loss=nan]\n"
     ]
    },
    {
     "name": "stdout",
     "output_type": "stream",
     "text": [
      "Epoch 352 validation: negative log likelihood loss=nan, Accuracy=0.2590448558330536\n"
     ]
    },
    {
     "name": "stderr",
     "output_type": "stream",
     "text": [
      "Epoch 353: 100%|██████████| 7/7 [00:00<00:00, 93.33batch/s, acc=0.262, loss=nan]\n"
     ]
    },
    {
     "name": "stdout",
     "output_type": "stream",
     "text": [
      "Epoch 353 validation: negative log likelihood loss=nan, Accuracy=0.2590448558330536\n"
     ]
    },
    {
     "name": "stderr",
     "output_type": "stream",
     "text": [
      "Epoch 354: 100%|██████████| 7/7 [00:00<00:00, 92.11batch/s, acc=0.262, loss=nan]\n"
     ]
    },
    {
     "name": "stdout",
     "output_type": "stream",
     "text": [
      "Epoch 354 validation: negative log likelihood loss=nan, Accuracy=0.2590448558330536\n"
     ]
    },
    {
     "name": "stderr",
     "output_type": "stream",
     "text": [
      "Epoch 355: 100%|██████████| 7/7 [00:00<00:00, 93.34batch/s, acc=0.262, loss=nan]\n"
     ]
    },
    {
     "name": "stdout",
     "output_type": "stream",
     "text": [
      "Epoch 355 validation: negative log likelihood loss=nan, Accuracy=0.2590448558330536\n"
     ]
    },
    {
     "name": "stderr",
     "output_type": "stream",
     "text": [
      "Epoch 356: 100%|██████████| 7/7 [00:00<00:00, 94.60batch/s, acc=0.262, loss=nan]\n"
     ]
    },
    {
     "name": "stdout",
     "output_type": "stream",
     "text": [
      "Epoch 356 validation: negative log likelihood loss=nan, Accuracy=0.2590448558330536\n"
     ]
    },
    {
     "name": "stderr",
     "output_type": "stream",
     "text": [
      "Epoch 357: 100%|██████████| 7/7 [00:00<00:00, 89.75batch/s, acc=0.262, loss=nan]\n"
     ]
    },
    {
     "name": "stdout",
     "output_type": "stream",
     "text": [
      "Epoch 357 validation: negative log likelihood loss=nan, Accuracy=0.2590448558330536\n"
     ]
    },
    {
     "name": "stderr",
     "output_type": "stream",
     "text": [
      "Epoch 358: 100%|██████████| 7/7 [00:00<00:00, 42.95batch/s, acc=0.262, loss=nan]\n"
     ]
    },
    {
     "name": "stdout",
     "output_type": "stream",
     "text": [
      "Epoch 358 validation: negative log likelihood loss=nan, Accuracy=0.2590448558330536\n"
     ]
    },
    {
     "name": "stderr",
     "output_type": "stream",
     "text": [
      "Epoch 359: 100%|██████████| 7/7 [00:00<00:00, 93.33batch/s, acc=0.262, loss=nan]\n"
     ]
    },
    {
     "name": "stdout",
     "output_type": "stream",
     "text": [
      "Epoch 359 validation: negative log likelihood loss=nan, Accuracy=0.2590448558330536\n"
     ]
    },
    {
     "name": "stderr",
     "output_type": "stream",
     "text": [
      "Epoch 360: 100%|██████████| 7/7 [00:00<00:00, 93.33batch/s, acc=0.262, loss=nan]\n"
     ]
    },
    {
     "name": "stdout",
     "output_type": "stream",
     "text": [
      "Epoch 360 validation: negative log likelihood loss=nan, Accuracy=0.2590448558330536\n"
     ]
    },
    {
     "name": "stderr",
     "output_type": "stream",
     "text": [
      "Epoch 361: 100%|██████████| 7/7 [00:00<00:00, 88.61batch/s, acc=0.262, loss=nan]\n"
     ]
    },
    {
     "name": "stdout",
     "output_type": "stream",
     "text": [
      "Epoch 361 validation: negative log likelihood loss=nan, Accuracy=0.2590448558330536\n"
     ]
    },
    {
     "name": "stderr",
     "output_type": "stream",
     "text": [
      "Epoch 362: 100%|██████████| 7/7 [00:00<00:00, 97.22batch/s, acc=0.262, loss=nan] \n"
     ]
    },
    {
     "name": "stdout",
     "output_type": "stream",
     "text": [
      "Epoch 362 validation: negative log likelihood loss=nan, Accuracy=0.2590448558330536\n"
     ]
    },
    {
     "name": "stderr",
     "output_type": "stream",
     "text": [
      "Epoch 363: 100%|██████████| 7/7 [00:00<00:00, 97.23batch/s, acc=0.262, loss=nan] \n"
     ]
    },
    {
     "name": "stdout",
     "output_type": "stream",
     "text": [
      "Epoch 363 validation: negative log likelihood loss=nan, Accuracy=0.2590448558330536\n"
     ]
    },
    {
     "name": "stderr",
     "output_type": "stream",
     "text": [
      "Epoch 364: 100%|██████████| 7/7 [00:00<00:00, 97.22batch/s, acc=0.262, loss=nan]\n"
     ]
    },
    {
     "name": "stdout",
     "output_type": "stream",
     "text": [
      "Epoch 364 validation: negative log likelihood loss=nan, Accuracy=0.2590448558330536\n"
     ]
    },
    {
     "name": "stderr",
     "output_type": "stream",
     "text": [
      "Epoch 365: 100%|██████████| 7/7 [00:00<00:00, 79.55batch/s, acc=0.262, loss=nan] \n"
     ]
    },
    {
     "name": "stdout",
     "output_type": "stream",
     "text": [
      "Epoch 365 validation: negative log likelihood loss=nan, Accuracy=0.2590448558330536\n"
     ]
    },
    {
     "name": "stderr",
     "output_type": "stream",
     "text": [
      "Epoch 366: 100%|██████████| 7/7 [00:00<00:00, 97.22batch/s, acc=0.262, loss=nan] \n"
     ]
    },
    {
     "name": "stdout",
     "output_type": "stream",
     "text": [
      "Epoch 366 validation: negative log likelihood loss=nan, Accuracy=0.2590448558330536\n"
     ]
    },
    {
     "name": "stderr",
     "output_type": "stream",
     "text": [
      "Epoch 367: 100%|██████████| 7/7 [00:00<00:00, 86.42batch/s, acc=0.262, loss=nan]\n"
     ]
    },
    {
     "name": "stdout",
     "output_type": "stream",
     "text": [
      "Epoch 367 validation: negative log likelihood loss=nan, Accuracy=0.2590448558330536\n"
     ]
    },
    {
     "name": "stderr",
     "output_type": "stream",
     "text": [
      "Epoch 368: 100%|██████████| 7/7 [00:00<00:00, 101.45batch/s, acc=0.262, loss=nan]\n"
     ]
    },
    {
     "name": "stdout",
     "output_type": "stream",
     "text": [
      "Epoch 368 validation: negative log likelihood loss=nan, Accuracy=0.2590448558330536\n"
     ]
    },
    {
     "name": "stderr",
     "output_type": "stream",
     "text": [
      "Epoch 369: 100%|██████████| 7/7 [00:00<00:00, 87.50batch/s, acc=0.262, loss=nan]\n"
     ]
    },
    {
     "name": "stdout",
     "output_type": "stream",
     "text": [
      "Epoch 369 validation: negative log likelihood loss=nan, Accuracy=0.2590448558330536\n"
     ]
    },
    {
     "name": "stderr",
     "output_type": "stream",
     "text": [
      "Epoch 370: 100%|██████████| 7/7 [00:00<00:00, 94.60batch/s, acc=0.262, loss=nan]\n"
     ]
    },
    {
     "name": "stdout",
     "output_type": "stream",
     "text": [
      "Epoch 370 validation: negative log likelihood loss=nan, Accuracy=0.2590448558330536\n"
     ]
    },
    {
     "name": "stderr",
     "output_type": "stream",
     "text": [
      "Epoch 371: 100%|██████████| 7/7 [00:00<00:00, 93.33batch/s, acc=0.262, loss=nan]\n"
     ]
    },
    {
     "name": "stdout",
     "output_type": "stream",
     "text": [
      "Epoch 371 validation: negative log likelihood loss=nan, Accuracy=0.2590448558330536\n"
     ]
    },
    {
     "name": "stderr",
     "output_type": "stream",
     "text": [
      "Epoch 372: 100%|██████████| 7/7 [00:00<00:00, 94.60batch/s, acc=0.262, loss=nan] \n"
     ]
    },
    {
     "name": "stdout",
     "output_type": "stream",
     "text": [
      "Epoch 372 validation: negative log likelihood loss=nan, Accuracy=0.2590448558330536\n"
     ]
    },
    {
     "name": "stderr",
     "output_type": "stream",
     "text": [
      "Epoch 373: 100%|██████████| 7/7 [00:00<00:00, 93.33batch/s, acc=0.262, loss=nan] \n"
     ]
    },
    {
     "name": "stdout",
     "output_type": "stream",
     "text": [
      "Epoch 373 validation: negative log likelihood loss=nan, Accuracy=0.2590448558330536\n"
     ]
    },
    {
     "name": "stderr",
     "output_type": "stream",
     "text": [
      "Epoch 374: 100%|██████████| 7/7 [00:00<00:00, 94.60batch/s, acc=0.262, loss=nan]\n"
     ]
    },
    {
     "name": "stdout",
     "output_type": "stream",
     "text": [
      "Epoch 374 validation: negative log likelihood loss=nan, Accuracy=0.2590448558330536\n"
     ]
    },
    {
     "name": "stderr",
     "output_type": "stream",
     "text": [
      "Epoch 375: 100%|██████████| 7/7 [00:00<00:00, 81.40batch/s, acc=0.262, loss=nan]\n"
     ]
    },
    {
     "name": "stdout",
     "output_type": "stream",
     "text": [
      "Epoch 375 validation: negative log likelihood loss=nan, Accuracy=0.2590448558330536\n"
     ]
    },
    {
     "name": "stderr",
     "output_type": "stream",
     "text": [
      "Epoch 376: 100%|██████████| 7/7 [00:00<00:00, 92.11batch/s, acc=0.262, loss=nan]\n"
     ]
    },
    {
     "name": "stdout",
     "output_type": "stream",
     "text": [
      "Epoch 376 validation: negative log likelihood loss=nan, Accuracy=0.2590448558330536\n"
     ]
    },
    {
     "name": "stderr",
     "output_type": "stream",
     "text": [
      "Epoch 377: 100%|██████████| 7/7 [00:00<00:00, 93.33batch/s, acc=0.262, loss=nan]\n"
     ]
    },
    {
     "name": "stdout",
     "output_type": "stream",
     "text": [
      "Epoch 377 validation: negative log likelihood loss=nan, Accuracy=0.2590448558330536\n"
     ]
    },
    {
     "name": "stderr",
     "output_type": "stream",
     "text": [
      "Epoch 378: 100%|██████████| 7/7 [00:00<00:00, 90.91batch/s, acc=0.262, loss=nan]\n"
     ]
    },
    {
     "name": "stdout",
     "output_type": "stream",
     "text": [
      "Epoch 378 validation: negative log likelihood loss=nan, Accuracy=0.2590448558330536\n"
     ]
    },
    {
     "name": "stderr",
     "output_type": "stream",
     "text": [
      "Epoch 379: 100%|██████████| 7/7 [00:00<00:00, 41.42batch/s, acc=0.262, loss=nan]\n"
     ]
    },
    {
     "name": "stdout",
     "output_type": "stream",
     "text": [
      "Epoch 379 validation: negative log likelihood loss=nan, Accuracy=0.2590448558330536\n"
     ]
    },
    {
     "name": "stderr",
     "output_type": "stream",
     "text": [
      "Epoch 380: 100%|██████████| 7/7 [00:00<00:00, 94.60batch/s, acc=0.262, loss=nan]\n"
     ]
    },
    {
     "name": "stdout",
     "output_type": "stream",
     "text": [
      "Epoch 380 validation: negative log likelihood loss=nan, Accuracy=0.2590448558330536\n"
     ]
    },
    {
     "name": "stderr",
     "output_type": "stream",
     "text": [
      "Epoch 381: 100%|██████████| 7/7 [00:00<00:00, 93.33batch/s, acc=0.262, loss=nan]\n"
     ]
    },
    {
     "name": "stdout",
     "output_type": "stream",
     "text": [
      "Epoch 381 validation: negative log likelihood loss=nan, Accuracy=0.2590448558330536\n"
     ]
    },
    {
     "name": "stderr",
     "output_type": "stream",
     "text": [
      "Epoch 382: 100%|██████████| 7/7 [00:00<00:00, 94.60batch/s, acc=0.262, loss=nan]\n"
     ]
    },
    {
     "name": "stdout",
     "output_type": "stream",
     "text": [
      "Epoch 382 validation: negative log likelihood loss=nan, Accuracy=0.2590448558330536\n"
     ]
    },
    {
     "name": "stderr",
     "output_type": "stream",
     "text": [
      "Epoch 383: 100%|██████████| 7/7 [00:00<00:00, 92.11batch/s, acc=0.262, loss=nan]\n"
     ]
    },
    {
     "name": "stdout",
     "output_type": "stream",
     "text": [
      "Epoch 383 validation: negative log likelihood loss=nan, Accuracy=0.2590448558330536\n"
     ]
    },
    {
     "name": "stderr",
     "output_type": "stream",
     "text": [
      "Epoch 384: 100%|██████████| 7/7 [00:00<00:00, 95.89batch/s, acc=0.262, loss=nan]\n"
     ]
    },
    {
     "name": "stdout",
     "output_type": "stream",
     "text": [
      "Epoch 384 validation: negative log likelihood loss=nan, Accuracy=0.2590448558330536\n"
     ]
    },
    {
     "name": "stderr",
     "output_type": "stream",
     "text": [
      "Epoch 385: 100%|██████████| 7/7 [00:00<00:00, 78.65batch/s, acc=0.262, loss=nan]\n"
     ]
    },
    {
     "name": "stdout",
     "output_type": "stream",
     "text": [
      "Epoch 385 validation: negative log likelihood loss=nan, Accuracy=0.2590448558330536\n"
     ]
    },
    {
     "name": "stderr",
     "output_type": "stream",
     "text": [
      "Epoch 386: 100%|██████████| 7/7 [00:00<00:00, 93.33batch/s, acc=0.262, loss=nan]\n"
     ]
    },
    {
     "name": "stdout",
     "output_type": "stream",
     "text": [
      "Epoch 386 validation: negative log likelihood loss=nan, Accuracy=0.2590448558330536\n"
     ]
    },
    {
     "name": "stderr",
     "output_type": "stream",
     "text": [
      "Epoch 387: 100%|██████████| 7/7 [00:00<00:00, 90.91batch/s, acc=0.262, loss=nan]\n"
     ]
    },
    {
     "name": "stdout",
     "output_type": "stream",
     "text": [
      "Epoch 387 validation: negative log likelihood loss=nan, Accuracy=0.2590448558330536\n"
     ]
    },
    {
     "name": "stderr",
     "output_type": "stream",
     "text": [
      "Epoch 388: 100%|██████████| 7/7 [00:00<00:00, 49.65batch/s, acc=0.262, loss=nan]\n"
     ]
    },
    {
     "name": "stdout",
     "output_type": "stream",
     "text": [
      "Epoch 388 validation: negative log likelihood loss=nan, Accuracy=0.2590448558330536\n"
     ]
    },
    {
     "name": "stderr",
     "output_type": "stream",
     "text": [
      "Epoch 389: 100%|██████████| 7/7 [00:00<00:00, 98.60batch/s, acc=0.262, loss=nan] \n"
     ]
    },
    {
     "name": "stdout",
     "output_type": "stream",
     "text": [
      "Epoch 389 validation: negative log likelihood loss=nan, Accuracy=0.2590448558330536\n"
     ]
    },
    {
     "name": "stderr",
     "output_type": "stream",
     "text": [
      "Epoch 390: 100%|██████████| 7/7 [00:00<00:00, 94.60batch/s, acc=0.262, loss=nan]\n"
     ]
    },
    {
     "name": "stdout",
     "output_type": "stream",
     "text": [
      "Epoch 390 validation: negative log likelihood loss=nan, Accuracy=0.2590448558330536\n"
     ]
    },
    {
     "name": "stderr",
     "output_type": "stream",
     "text": [
      "Epoch 391: 100%|██████████| 7/7 [00:00<00:00, 93.33batch/s, acc=0.262, loss=nan]\n"
     ]
    },
    {
     "name": "stdout",
     "output_type": "stream",
     "text": [
      "Epoch 391 validation: negative log likelihood loss=nan, Accuracy=0.2590448558330536\n"
     ]
    },
    {
     "name": "stderr",
     "output_type": "stream",
     "text": [
      "Epoch 392: 100%|██████████| 7/7 [00:00<00:00, 95.89batch/s, acc=0.262, loss=nan] \n"
     ]
    },
    {
     "name": "stdout",
     "output_type": "stream",
     "text": [
      "Epoch 392 validation: negative log likelihood loss=nan, Accuracy=0.2590448558330536\n"
     ]
    },
    {
     "name": "stderr",
     "output_type": "stream",
     "text": [
      "Epoch 393: 100%|██████████| 7/7 [00:00<00:00, 92.11batch/s, acc=0.262, loss=nan]\n"
     ]
    },
    {
     "name": "stdout",
     "output_type": "stream",
     "text": [
      "Epoch 393 validation: negative log likelihood loss=nan, Accuracy=0.2590448558330536\n"
     ]
    },
    {
     "name": "stderr",
     "output_type": "stream",
     "text": [
      "Epoch 394: 100%|██████████| 7/7 [00:00<00:00, 93.34batch/s, acc=0.262, loss=nan]\n"
     ]
    },
    {
     "name": "stdout",
     "output_type": "stream",
     "text": [
      "Epoch 394 validation: negative log likelihood loss=nan, Accuracy=0.2590448558330536\n"
     ]
    },
    {
     "name": "stderr",
     "output_type": "stream",
     "text": [
      "Epoch 395: 100%|██████████| 7/7 [00:00<00:00, 78.65batch/s, acc=0.262, loss=nan]"
     ]
    },
    {
     "name": "stdout",
     "output_type": "stream",
     "text": [
      "Epoch 395 validation: negative log likelihood loss=nan, Accuracy=0.2590448558330536\n"
     ]
    },
    {
     "name": "stderr",
     "output_type": "stream",
     "text": [
      "\n",
      "Epoch 396: 100%|██████████| 7/7 [00:00<00:00, 95.89batch/s, acc=0.262, loss=nan] \n"
     ]
    },
    {
     "name": "stdout",
     "output_type": "stream",
     "text": [
      "Epoch 396 validation: negative log likelihood loss=nan, Accuracy=0.2590448558330536\n"
     ]
    },
    {
     "name": "stderr",
     "output_type": "stream",
     "text": [
      "Epoch 397: 100%|██████████| 7/7 [00:00<00:00, 84.34batch/s, acc=0.262, loss=nan]\n"
     ]
    },
    {
     "name": "stdout",
     "output_type": "stream",
     "text": [
      "Epoch 397 validation: negative log likelihood loss=nan, Accuracy=0.2590448558330536\n"
     ]
    },
    {
     "name": "stderr",
     "output_type": "stream",
     "text": [
      "Epoch 398: 100%|██████████| 7/7 [00:00<00:00, 93.33batch/s, acc=0.262, loss=nan]\n"
     ]
    },
    {
     "name": "stdout",
     "output_type": "stream",
     "text": [
      "Epoch 398 validation: negative log likelihood loss=nan, Accuracy=0.2590448558330536\n"
     ]
    },
    {
     "name": "stderr",
     "output_type": "stream",
     "text": [
      "Epoch 399: 100%|██████████| 7/7 [00:00<00:00, 70.00batch/s, acc=0.262, loss=nan]\n"
     ]
    },
    {
     "name": "stdout",
     "output_type": "stream",
     "text": [
      "Epoch 399 validation: negative log likelihood loss=nan, Accuracy=0.2590448558330536\n"
     ]
    },
    {
     "name": "stderr",
     "output_type": "stream",
     "text": [
      "Epoch 400: 100%|██████████| 7/7 [00:00<00:00, 93.34batch/s, acc=0.262, loss=nan]\n"
     ]
    },
    {
     "name": "stdout",
     "output_type": "stream",
     "text": [
      "Epoch 400 validation: negative log likelihood loss=nan, Accuracy=0.2590448558330536\n"
     ]
    },
    {
     "name": "stderr",
     "output_type": "stream",
     "text": [
      "Epoch 401: 100%|██████████| 7/7 [00:00<00:00, 89.74batch/s, acc=0.262, loss=nan]\n"
     ]
    },
    {
     "name": "stdout",
     "output_type": "stream",
     "text": [
      "Epoch 401 validation: negative log likelihood loss=nan, Accuracy=0.2590448558330536\n"
     ]
    },
    {
     "name": "stderr",
     "output_type": "stream",
     "text": [
      "Epoch 402: 100%|██████████| 7/7 [00:00<00:00, 89.75batch/s, acc=0.262, loss=nan]\n"
     ]
    },
    {
     "name": "stdout",
     "output_type": "stream",
     "text": [
      "Epoch 402 validation: negative log likelihood loss=nan, Accuracy=0.2590448558330536\n"
     ]
    },
    {
     "name": "stderr",
     "output_type": "stream",
     "text": [
      "Epoch 403: 100%|██████████| 7/7 [00:00<00:00, 90.91batch/s, acc=0.262, loss=nan]\n"
     ]
    },
    {
     "name": "stdout",
     "output_type": "stream",
     "text": [
      "Epoch 403 validation: negative log likelihood loss=nan, Accuracy=0.2590448558330536\n"
     ]
    },
    {
     "name": "stderr",
     "output_type": "stream",
     "text": [
      "Epoch 404: 100%|██████████| 7/7 [00:00<00:00, 88.61batch/s, acc=0.262, loss=nan]\n"
     ]
    },
    {
     "name": "stdout",
     "output_type": "stream",
     "text": [
      "Epoch 404 validation: negative log likelihood loss=nan, Accuracy=0.2590448558330536\n"
     ]
    },
    {
     "name": "stderr",
     "output_type": "stream",
     "text": [
      "Epoch 405: 100%|██████████| 7/7 [00:00<00:00, 70.71batch/s, acc=0.262, loss=nan]\n"
     ]
    },
    {
     "name": "stdout",
     "output_type": "stream",
     "text": [
      "Epoch 405 validation: negative log likelihood loss=nan, Accuracy=0.2590448558330536\n"
     ]
    },
    {
     "name": "stderr",
     "output_type": "stream",
     "text": [
      "Epoch 406: 100%|██████████| 7/7 [00:00<00:00, 87.50batch/s, acc=0.262, loss=nan]\n"
     ]
    },
    {
     "name": "stdout",
     "output_type": "stream",
     "text": [
      "Epoch 406 validation: negative log likelihood loss=nan, Accuracy=0.2590448558330536\n"
     ]
    },
    {
     "name": "stderr",
     "output_type": "stream",
     "text": [
      "Epoch 407: 100%|██████████| 7/7 [00:00<00:00, 89.74batch/s, acc=0.262, loss=nan]\n"
     ]
    },
    {
     "name": "stdout",
     "output_type": "stream",
     "text": [
      "Epoch 407 validation: negative log likelihood loss=nan, Accuracy=0.2590448558330536\n"
     ]
    },
    {
     "name": "stderr",
     "output_type": "stream",
     "text": [
      "Epoch 408: 100%|██████████| 7/7 [00:00<00:00, 87.50batch/s, acc=0.262, loss=nan]\n"
     ]
    },
    {
     "name": "stdout",
     "output_type": "stream",
     "text": [
      "Epoch 408 validation: negative log likelihood loss=nan, Accuracy=0.2590448558330536\n"
     ]
    },
    {
     "name": "stderr",
     "output_type": "stream",
     "text": [
      "Epoch 409: 100%|██████████| 7/7 [00:00<00:00, 45.46batch/s, acc=0.262, loss=nan]\n"
     ]
    },
    {
     "name": "stdout",
     "output_type": "stream",
     "text": [
      "Epoch 409 validation: negative log likelihood loss=nan, Accuracy=0.2590448558330536\n"
     ]
    },
    {
     "name": "stderr",
     "output_type": "stream",
     "text": [
      "Epoch 410: 100%|██████████| 7/7 [00:00<00:00, 87.50batch/s, acc=0.262, loss=nan]\n"
     ]
    },
    {
     "name": "stdout",
     "output_type": "stream",
     "text": [
      "Epoch 410 validation: negative log likelihood loss=nan, Accuracy=0.2590448558330536\n"
     ]
    },
    {
     "name": "stderr",
     "output_type": "stream",
     "text": [
      "Epoch 411: 100%|██████████| 7/7 [00:00<00:00, 90.91batch/s, acc=0.262, loss=nan]\n"
     ]
    },
    {
     "name": "stdout",
     "output_type": "stream",
     "text": [
      "Epoch 411 validation: negative log likelihood loss=nan, Accuracy=0.2590448558330536\n"
     ]
    },
    {
     "name": "stderr",
     "output_type": "stream",
     "text": [
      "Epoch 412: 100%|██████████| 7/7 [00:00<00:00, 90.91batch/s, acc=0.262, loss=nan]\n"
     ]
    },
    {
     "name": "stdout",
     "output_type": "stream",
     "text": [
      "Epoch 412 validation: negative log likelihood loss=nan, Accuracy=0.2590448558330536\n"
     ]
    },
    {
     "name": "stderr",
     "output_type": "stream",
     "text": [
      "Epoch 413: 100%|██████████| 7/7 [00:00<00:00, 94.59batch/s, acc=0.262, loss=nan] \n"
     ]
    },
    {
     "name": "stdout",
     "output_type": "stream",
     "text": [
      "Epoch 413 validation: negative log likelihood loss=nan, Accuracy=0.2590448558330536\n"
     ]
    },
    {
     "name": "stderr",
     "output_type": "stream",
     "text": [
      "Epoch 414: 100%|██████████| 7/7 [00:00<00:00, 94.60batch/s, acc=0.262, loss=nan] \n"
     ]
    },
    {
     "name": "stdout",
     "output_type": "stream",
     "text": [
      "Epoch 414 validation: negative log likelihood loss=nan, Accuracy=0.2590448558330536\n"
     ]
    },
    {
     "name": "stderr",
     "output_type": "stream",
     "text": [
      "Epoch 415: 100%|██████████| 7/7 [00:00<00:00, 74.46batch/s, acc=0.262, loss=nan]\n"
     ]
    },
    {
     "name": "stdout",
     "output_type": "stream",
     "text": [
      "Epoch 415 validation: negative log likelihood loss=nan, Accuracy=0.2590448558330536\n"
     ]
    },
    {
     "name": "stderr",
     "output_type": "stream",
     "text": [
      "Epoch 416: 100%|██████████| 7/7 [00:00<00:00, 92.10batch/s, acc=0.262, loss=nan]\n"
     ]
    },
    {
     "name": "stdout",
     "output_type": "stream",
     "text": [
      "Epoch 416 validation: negative log likelihood loss=nan, Accuracy=0.2590448558330536\n"
     ]
    },
    {
     "name": "stderr",
     "output_type": "stream",
     "text": [
      "Epoch 417: 100%|██████████| 7/7 [00:00<00:00, 88.61batch/s, acc=0.262, loss=nan]\n"
     ]
    },
    {
     "name": "stdout",
     "output_type": "stream",
     "text": [
      "Epoch 417 validation: negative log likelihood loss=nan, Accuracy=0.2590448558330536\n"
     ]
    },
    {
     "name": "stderr",
     "output_type": "stream",
     "text": [
      "Epoch 418: 100%|██████████| 7/7 [00:00<00:00, 86.42batch/s, acc=0.262, loss=nan]\n"
     ]
    },
    {
     "name": "stdout",
     "output_type": "stream",
     "text": [
      "Epoch 418 validation: negative log likelihood loss=nan, Accuracy=0.2590448558330536\n"
     ]
    },
    {
     "name": "stderr",
     "output_type": "stream",
     "text": [
      "Epoch 419: 100%|██████████| 7/7 [00:00<00:00, 46.05batch/s, acc=0.262, loss=nan]\n"
     ]
    },
    {
     "name": "stdout",
     "output_type": "stream",
     "text": [
      "Epoch 419 validation: negative log likelihood loss=nan, Accuracy=0.2590448558330536\n"
     ]
    },
    {
     "name": "stderr",
     "output_type": "stream",
     "text": [
      "Epoch 420: 100%|██████████| 7/7 [00:00<00:00, 90.92batch/s, acc=0.262, loss=nan]\n"
     ]
    },
    {
     "name": "stdout",
     "output_type": "stream",
     "text": [
      "Epoch 420 validation: negative log likelihood loss=nan, Accuracy=0.2590448558330536\n"
     ]
    },
    {
     "name": "stderr",
     "output_type": "stream",
     "text": [
      "Epoch 421: 100%|██████████| 7/7 [00:00<00:00, 93.34batch/s, acc=0.262, loss=nan] \n"
     ]
    },
    {
     "name": "stdout",
     "output_type": "stream",
     "text": [
      "Epoch 421 validation: negative log likelihood loss=nan, Accuracy=0.2590448558330536\n"
     ]
    },
    {
     "name": "stderr",
     "output_type": "stream",
     "text": [
      "Epoch 422: 100%|██████████| 7/7 [00:00<00:00, 90.91batch/s, acc=0.262, loss=nan]\n"
     ]
    },
    {
     "name": "stdout",
     "output_type": "stream",
     "text": [
      "Epoch 422 validation: negative log likelihood loss=nan, Accuracy=0.2590448558330536\n"
     ]
    },
    {
     "name": "stderr",
     "output_type": "stream",
     "text": [
      "Epoch 423: 100%|██████████| 7/7 [00:00<00:00, 95.90batch/s, acc=0.262, loss=nan] \n"
     ]
    },
    {
     "name": "stdout",
     "output_type": "stream",
     "text": [
      "Epoch 423 validation: negative log likelihood loss=nan, Accuracy=0.2590448558330536\n"
     ]
    },
    {
     "name": "stderr",
     "output_type": "stream",
     "text": [
      "Epoch 424: 100%|██████████| 7/7 [00:00<00:00, 97.23batch/s, acc=0.262, loss=nan] \n"
     ]
    },
    {
     "name": "stdout",
     "output_type": "stream",
     "text": [
      "Epoch 424 validation: negative log likelihood loss=nan, Accuracy=0.2590448558330536\n"
     ]
    },
    {
     "name": "stderr",
     "output_type": "stream",
     "text": [
      "Epoch 425: 100%|██████████| 7/7 [00:00<00:00, 80.46batch/s, acc=0.262, loss=nan]\n"
     ]
    },
    {
     "name": "stdout",
     "output_type": "stream",
     "text": [
      "Epoch 425 validation: negative log likelihood loss=nan, Accuracy=0.2590448558330536\n"
     ]
    },
    {
     "name": "stderr",
     "output_type": "stream",
     "text": [
      "Epoch 426: 100%|██████████| 7/7 [00:00<00:00, 98.59batch/s, acc=0.262, loss=nan] \n"
     ]
    },
    {
     "name": "stdout",
     "output_type": "stream",
     "text": [
      "Epoch 426 validation: negative log likelihood loss=nan, Accuracy=0.2590448558330536\n"
     ]
    },
    {
     "name": "stderr",
     "output_type": "stream",
     "text": [
      "Epoch 427: 100%|██████████| 7/7 [00:00<00:00, 90.91batch/s, acc=0.262, loss=nan]\n"
     ]
    },
    {
     "name": "stdout",
     "output_type": "stream",
     "text": [
      "Epoch 427 validation: negative log likelihood loss=nan, Accuracy=0.2590448558330536\n"
     ]
    },
    {
     "name": "stderr",
     "output_type": "stream",
     "text": [
      "Epoch 428: 100%|██████████| 7/7 [00:00<00:00, 95.90batch/s, acc=0.262, loss=nan] \n"
     ]
    },
    {
     "name": "stdout",
     "output_type": "stream",
     "text": [
      "Epoch 428 validation: negative log likelihood loss=nan, Accuracy=0.2590448558330536\n"
     ]
    },
    {
     "name": "stderr",
     "output_type": "stream",
     "text": [
      "Epoch 429: 100%|██████████| 7/7 [00:00<00:00, 94.59batch/s, acc=0.262, loss=nan]\n"
     ]
    },
    {
     "name": "stdout",
     "output_type": "stream",
     "text": [
      "Epoch 429 validation: negative log likelihood loss=nan, Accuracy=0.2590448558330536\n"
     ]
    },
    {
     "name": "stderr",
     "output_type": "stream",
     "text": [
      "Epoch 430: 100%|██████████| 7/7 [00:00<00:00, 44.59batch/s, acc=0.262, loss=nan]\n"
     ]
    },
    {
     "name": "stdout",
     "output_type": "stream",
     "text": [
      "Epoch 430 validation: negative log likelihood loss=nan, Accuracy=0.2590448558330536\n"
     ]
    },
    {
     "name": "stderr",
     "output_type": "stream",
     "text": [
      "Epoch 431: 100%|██████████| 7/7 [00:00<00:00, 94.60batch/s, acc=0.262, loss=nan] \n"
     ]
    },
    {
     "name": "stdout",
     "output_type": "stream",
     "text": [
      "Epoch 431 validation: negative log likelihood loss=nan, Accuracy=0.2590448558330536\n"
     ]
    },
    {
     "name": "stderr",
     "output_type": "stream",
     "text": [
      "Epoch 432: 100%|██████████| 7/7 [00:00<00:00, 100.00batch/s, acc=0.262, loss=nan]\n"
     ]
    },
    {
     "name": "stdout",
     "output_type": "stream",
     "text": [
      "Epoch 432 validation: negative log likelihood loss=nan, Accuracy=0.2590448558330536\n"
     ]
    },
    {
     "name": "stderr",
     "output_type": "stream",
     "text": [
      "Epoch 433: 100%|██████████| 7/7 [00:00<00:00, 94.60batch/s, acc=0.262, loss=nan]\n"
     ]
    },
    {
     "name": "stdout",
     "output_type": "stream",
     "text": [
      "Epoch 433 validation: negative log likelihood loss=nan, Accuracy=0.2590448558330536\n"
     ]
    },
    {
     "name": "stderr",
     "output_type": "stream",
     "text": [
      "Epoch 434: 100%|██████████| 7/7 [00:00<00:00, 95.89batch/s, acc=0.262, loss=nan]\n"
     ]
    },
    {
     "name": "stdout",
     "output_type": "stream",
     "text": [
      "Epoch 434 validation: negative log likelihood loss=nan, Accuracy=0.2590448558330536\n"
     ]
    },
    {
     "name": "stderr",
     "output_type": "stream",
     "text": [
      "Epoch 435: 100%|██████████| 7/7 [00:00<00:00, 93.33batch/s, acc=0.262, loss=nan]\n"
     ]
    },
    {
     "name": "stdout",
     "output_type": "stream",
     "text": [
      "Epoch 435 validation: negative log likelihood loss=nan, Accuracy=0.2590448558330536\n"
     ]
    },
    {
     "name": "stderr",
     "output_type": "stream",
     "text": [
      "Epoch 436: 100%|██████████| 7/7 [00:00<00:00, 79.55batch/s, acc=0.262, loss=nan]\n"
     ]
    },
    {
     "name": "stdout",
     "output_type": "stream",
     "text": [
      "Epoch 436 validation: negative log likelihood loss=nan, Accuracy=0.2590448558330536\n"
     ]
    },
    {
     "name": "stderr",
     "output_type": "stream",
     "text": [
      "Epoch 437: 100%|██████████| 7/7 [00:00<00:00, 92.10batch/s, acc=0.262, loss=nan]\n"
     ]
    },
    {
     "name": "stdout",
     "output_type": "stream",
     "text": [
      "Epoch 437 validation: negative log likelihood loss=nan, Accuracy=0.2590448558330536\n"
     ]
    },
    {
     "name": "stderr",
     "output_type": "stream",
     "text": [
      "Epoch 438: 100%|██████████| 7/7 [00:00<00:00, 92.11batch/s, acc=0.262, loss=nan]\n"
     ]
    },
    {
     "name": "stdout",
     "output_type": "stream",
     "text": [
      "Epoch 438 validation: negative log likelihood loss=nan, Accuracy=0.2590448558330536\n"
     ]
    },
    {
     "name": "stderr",
     "output_type": "stream",
     "text": [
      "Epoch 439: 100%|██████████| 7/7 [00:00<00:00, 90.91batch/s, acc=0.262, loss=nan]\n"
     ]
    },
    {
     "name": "stdout",
     "output_type": "stream",
     "text": [
      "Epoch 439 validation: negative log likelihood loss=nan, Accuracy=0.2590448558330536\n"
     ]
    },
    {
     "name": "stderr",
     "output_type": "stream",
     "text": [
      "Epoch 440: 100%|██████████| 7/7 [00:00<00:00, 42.94batch/s, acc=0.262, loss=nan]\n"
     ]
    },
    {
     "name": "stdout",
     "output_type": "stream",
     "text": [
      "Epoch 440 validation: negative log likelihood loss=nan, Accuracy=0.2590448558330536\n"
     ]
    },
    {
     "name": "stderr",
     "output_type": "stream",
     "text": [
      "Epoch 441: 100%|██████████| 7/7 [00:00<00:00, 87.50batch/s, acc=0.262, loss=nan]\n"
     ]
    },
    {
     "name": "stdout",
     "output_type": "stream",
     "text": [
      "Epoch 441 validation: negative log likelihood loss=nan, Accuracy=0.2590448558330536\n"
     ]
    },
    {
     "name": "stderr",
     "output_type": "stream",
     "text": [
      "Epoch 442: 100%|██████████| 7/7 [00:00<00:00, 83.34batch/s, acc=0.262, loss=nan]\n"
     ]
    },
    {
     "name": "stdout",
     "output_type": "stream",
     "text": [
      "Epoch 442 validation: negative log likelihood loss=nan, Accuracy=0.2590448558330536\n"
     ]
    },
    {
     "name": "stderr",
     "output_type": "stream",
     "text": [
      "Epoch 443: 100%|██████████| 7/7 [00:00<00:00, 86.42batch/s, acc=0.262, loss=nan]\n"
     ]
    },
    {
     "name": "stdout",
     "output_type": "stream",
     "text": [
      "Epoch 443 validation: negative log likelihood loss=nan, Accuracy=0.2590448558330536\n"
     ]
    },
    {
     "name": "stderr",
     "output_type": "stream",
     "text": [
      "Epoch 444: 100%|██████████| 7/7 [00:00<00:00, 88.61batch/s, acc=0.262, loss=nan]\n"
     ]
    },
    {
     "name": "stdout",
     "output_type": "stream",
     "text": [
      "Epoch 444 validation: negative log likelihood loss=nan, Accuracy=0.2590448558330536\n"
     ]
    },
    {
     "name": "stderr",
     "output_type": "stream",
     "text": [
      "Epoch 445: 100%|██████████| 7/7 [00:00<00:00, 90.91batch/s, acc=0.262, loss=nan]\n"
     ]
    },
    {
     "name": "stdout",
     "output_type": "stream",
     "text": [
      "Epoch 445 validation: negative log likelihood loss=nan, Accuracy=0.2590448558330536\n"
     ]
    },
    {
     "name": "stderr",
     "output_type": "stream",
     "text": [
      "Epoch 446: 100%|██████████| 7/7 [00:00<00:00, 76.93batch/s, acc=0.262, loss=nan]\n"
     ]
    },
    {
     "name": "stdout",
     "output_type": "stream",
     "text": [
      "Epoch 446 validation: negative log likelihood loss=nan, Accuracy=0.2590448558330536\n"
     ]
    },
    {
     "name": "stderr",
     "output_type": "stream",
     "text": [
      "Epoch 447: 100%|██████████| 7/7 [00:00<00:00, 90.91batch/s, acc=0.262, loss=nan]\n"
     ]
    },
    {
     "name": "stdout",
     "output_type": "stream",
     "text": [
      "Epoch 447 validation: negative log likelihood loss=nan, Accuracy=0.2590448558330536\n"
     ]
    },
    {
     "name": "stderr",
     "output_type": "stream",
     "text": [
      "Epoch 448: 100%|██████████| 7/7 [00:00<00:00, 86.42batch/s, acc=0.262, loss=nan]\n"
     ]
    },
    {
     "name": "stdout",
     "output_type": "stream",
     "text": [
      "Epoch 448 validation: negative log likelihood loss=nan, Accuracy=0.2590448558330536\n"
     ]
    },
    {
     "name": "stderr",
     "output_type": "stream",
     "text": [
      "Epoch 449: 100%|██████████| 7/7 [00:00<00:00, 87.50batch/s, acc=0.262, loss=nan]\n"
     ]
    },
    {
     "name": "stdout",
     "output_type": "stream",
     "text": [
      "Epoch 449 validation: negative log likelihood loss=nan, Accuracy=0.2590448558330536\n"
     ]
    },
    {
     "name": "stderr",
     "output_type": "stream",
     "text": [
      "Epoch 450: 100%|██████████| 7/7 [00:00<00:00, 86.43batch/s, acc=0.262, loss=nan]\n"
     ]
    },
    {
     "name": "stdout",
     "output_type": "stream",
     "text": [
      "Epoch 450 validation: negative log likelihood loss=nan, Accuracy=0.2590448558330536\n"
     ]
    },
    {
     "name": "stderr",
     "output_type": "stream",
     "text": [
      "Epoch 451: 100%|██████████| 7/7 [00:00<00:00, 36.84batch/s, acc=0.262, loss=nan]\n"
     ]
    },
    {
     "name": "stdout",
     "output_type": "stream",
     "text": [
      "Epoch 451 validation: negative log likelihood loss=nan, Accuracy=0.2590448558330536\n"
     ]
    },
    {
     "name": "stderr",
     "output_type": "stream",
     "text": [
      "Epoch 452: 100%|██████████| 7/7 [00:00<00:00, 92.11batch/s, acc=0.262, loss=nan]\n"
     ]
    },
    {
     "name": "stdout",
     "output_type": "stream",
     "text": [
      "Epoch 452 validation: negative log likelihood loss=nan, Accuracy=0.2590448558330536\n"
     ]
    },
    {
     "name": "stderr",
     "output_type": "stream",
     "text": [
      "Epoch 453: 100%|██████████| 7/7 [00:00<00:00, 98.59batch/s, acc=0.262, loss=nan] \n"
     ]
    },
    {
     "name": "stdout",
     "output_type": "stream",
     "text": [
      "Epoch 453 validation: negative log likelihood loss=nan, Accuracy=0.2590448558330536\n"
     ]
    },
    {
     "name": "stderr",
     "output_type": "stream",
     "text": [
      "Epoch 454: 100%|██████████| 7/7 [00:00<00:00, 93.33batch/s, acc=0.262, loss=nan]\n"
     ]
    },
    {
     "name": "stdout",
     "output_type": "stream",
     "text": [
      "Epoch 454 validation: negative log likelihood loss=nan, Accuracy=0.2590448558330536\n"
     ]
    },
    {
     "name": "stderr",
     "output_type": "stream",
     "text": [
      "Epoch 455: 100%|██████████| 7/7 [00:00<00:00, 94.60batch/s, acc=0.262, loss=nan]\n"
     ]
    },
    {
     "name": "stdout",
     "output_type": "stream",
     "text": [
      "Epoch 455 validation: negative log likelihood loss=nan, Accuracy=0.2590448558330536\n"
     ]
    },
    {
     "name": "stderr",
     "output_type": "stream",
     "text": [
      "Epoch 456: 100%|██████████| 7/7 [00:00<00:00, 59.32batch/s, acc=0.262, loss=nan]\n"
     ]
    },
    {
     "name": "stdout",
     "output_type": "stream",
     "text": [
      "Epoch 456 validation: negative log likelihood loss=nan, Accuracy=0.2590448558330536\n"
     ]
    },
    {
     "name": "stderr",
     "output_type": "stream",
     "text": [
      "Epoch 457: 100%|██████████| 7/7 [00:00<00:00, 52.63batch/s, acc=0.262, loss=nan]\n"
     ]
    },
    {
     "name": "stdout",
     "output_type": "stream",
     "text": [
      "Epoch 457 validation: negative log likelihood loss=nan, Accuracy=0.2590448558330536\n"
     ]
    },
    {
     "name": "stderr",
     "output_type": "stream",
     "text": [
      "Epoch 458: 100%|██████████| 7/7 [00:00<00:00, 71.43batch/s, acc=0.262, loss=nan]\n"
     ]
    },
    {
     "name": "stdout",
     "output_type": "stream",
     "text": [
      "Epoch 458 validation: negative log likelihood loss=nan, Accuracy=0.2590448558330536\n"
     ]
    },
    {
     "name": "stderr",
     "output_type": "stream",
     "text": [
      "Epoch 459: 100%|██████████| 7/7 [00:00<00:00, 89.74batch/s, acc=0.262, loss=nan]\n"
     ]
    },
    {
     "name": "stdout",
     "output_type": "stream",
     "text": [
      "Epoch 459 validation: negative log likelihood loss=nan, Accuracy=0.2590448558330536\n"
     ]
    },
    {
     "name": "stderr",
     "output_type": "stream",
     "text": [
      "Epoch 460: 100%|██████████| 7/7 [00:00<00:00, 79.54batch/s, acc=0.262, loss=nan]\n"
     ]
    },
    {
     "name": "stdout",
     "output_type": "stream",
     "text": [
      "Epoch 460 validation: negative log likelihood loss=nan, Accuracy=0.2590448558330536\n"
     ]
    },
    {
     "name": "stderr",
     "output_type": "stream",
     "text": [
      "Epoch 461: 100%|██████████| 7/7 [00:00<00:00, 86.42batch/s, acc=0.262, loss=nan]\n"
     ]
    },
    {
     "name": "stdout",
     "output_type": "stream",
     "text": [
      "Epoch 461 validation: negative log likelihood loss=nan, Accuracy=0.2590448558330536\n"
     ]
    },
    {
     "name": "stderr",
     "output_type": "stream",
     "text": [
      "Epoch 462: 100%|██████████| 7/7 [00:00<00:00, 83.34batch/s, acc=0.262, loss=nan]\n"
     ]
    },
    {
     "name": "stdout",
     "output_type": "stream",
     "text": [
      "Epoch 462 validation: negative log likelihood loss=nan, Accuracy=0.2590448558330536\n"
     ]
    },
    {
     "name": "stderr",
     "output_type": "stream",
     "text": [
      "Epoch 463: 100%|██████████| 7/7 [00:00<00:00, 82.35batch/s, acc=0.262, loss=nan]\n"
     ]
    },
    {
     "name": "stdout",
     "output_type": "stream",
     "text": [
      "Epoch 463 validation: negative log likelihood loss=nan, Accuracy=0.2590448558330536\n"
     ]
    },
    {
     "name": "stderr",
     "output_type": "stream",
     "text": [
      "Epoch 464: 100%|██████████| 7/7 [00:00<00:00, 85.37batch/s, acc=0.262, loss=nan]\n"
     ]
    },
    {
     "name": "stdout",
     "output_type": "stream",
     "text": [
      "Epoch 464 validation: negative log likelihood loss=nan, Accuracy=0.2590448558330536\n"
     ]
    },
    {
     "name": "stderr",
     "output_type": "stream",
     "text": [
      "Epoch 465: 100%|██████████| 7/7 [00:00<00:00, 42.43batch/s, acc=0.262, loss=nan]\n"
     ]
    },
    {
     "name": "stdout",
     "output_type": "stream",
     "text": [
      "Epoch 465 validation: negative log likelihood loss=nan, Accuracy=0.2590448558330536\n"
     ]
    },
    {
     "name": "stderr",
     "output_type": "stream",
     "text": [
      "Epoch 466: 100%|██████████| 7/7 [00:00<00:00, 90.91batch/s, acc=0.262, loss=nan]\n"
     ]
    },
    {
     "name": "stdout",
     "output_type": "stream",
     "text": [
      "Epoch 466 validation: negative log likelihood loss=nan, Accuracy=0.2590448558330536\n"
     ]
    },
    {
     "name": "stderr",
     "output_type": "stream",
     "text": [
      "Epoch 467: 100%|██████████| 7/7 [00:00<00:00, 71.43batch/s, acc=0.262, loss=nan]\n"
     ]
    },
    {
     "name": "stdout",
     "output_type": "stream",
     "text": [
      "Epoch 467 validation: negative log likelihood loss=nan, Accuracy=0.2590448558330536\n"
     ]
    },
    {
     "name": "stderr",
     "output_type": "stream",
     "text": [
      "Epoch 468: 100%|██████████| 7/7 [00:00<00:00, 88.61batch/s, acc=0.262, loss=nan]\n"
     ]
    },
    {
     "name": "stdout",
     "output_type": "stream",
     "text": [
      "Epoch 468 validation: negative log likelihood loss=nan, Accuracy=0.2590448558330536\n"
     ]
    },
    {
     "name": "stderr",
     "output_type": "stream",
     "text": [
      "Epoch 469: 100%|██████████| 7/7 [00:00<00:00, 84.34batch/s, acc=0.262, loss=nan]\n"
     ]
    },
    {
     "name": "stdout",
     "output_type": "stream",
     "text": [
      "Epoch 469 validation: negative log likelihood loss=nan, Accuracy=0.2590448558330536\n"
     ]
    },
    {
     "name": "stderr",
     "output_type": "stream",
     "text": [
      "Epoch 470: 100%|██████████| 7/7 [00:00<00:00, 84.33batch/s, acc=0.262, loss=nan]\n"
     ]
    },
    {
     "name": "stdout",
     "output_type": "stream",
     "text": [
      "Epoch 470 validation: negative log likelihood loss=nan, Accuracy=0.2590448558330536\n"
     ]
    },
    {
     "name": "stderr",
     "output_type": "stream",
     "text": [
      "Epoch 471: 100%|██████████| 7/7 [00:00<00:00, 83.33batch/s, acc=0.262, loss=nan]\n"
     ]
    },
    {
     "name": "stdout",
     "output_type": "stream",
     "text": [
      "Epoch 471 validation: negative log likelihood loss=nan, Accuracy=0.2590448558330536\n"
     ]
    },
    {
     "name": "stderr",
     "output_type": "stream",
     "text": [
      "Epoch 472: 100%|██████████| 7/7 [00:00<00:00, 88.61batch/s, acc=0.262, loss=nan]\n"
     ]
    },
    {
     "name": "stdout",
     "output_type": "stream",
     "text": [
      "Epoch 472 validation: negative log likelihood loss=nan, Accuracy=0.2590448558330536\n"
     ]
    },
    {
     "name": "stderr",
     "output_type": "stream",
     "text": [
      "Epoch 473: 100%|██████████| 7/7 [00:00<00:00, 87.51batch/s, acc=0.262, loss=nan]\n"
     ]
    },
    {
     "name": "stdout",
     "output_type": "stream",
     "text": [
      "Epoch 473 validation: negative log likelihood loss=nan, Accuracy=0.2590448558330536\n"
     ]
    },
    {
     "name": "stderr",
     "output_type": "stream",
     "text": [
      "Epoch 474: 100%|██████████| 7/7 [00:00<00:00, 83.33batch/s, acc=0.262, loss=nan]\n"
     ]
    },
    {
     "name": "stdout",
     "output_type": "stream",
     "text": [
      "Epoch 474 validation: negative log likelihood loss=nan, Accuracy=0.2590448558330536\n"
     ]
    },
    {
     "name": "stderr",
     "output_type": "stream",
     "text": [
      "Epoch 475: 100%|██████████| 7/7 [00:00<00:00, 42.68batch/s, acc=0.262, loss=nan]\n"
     ]
    },
    {
     "name": "stdout",
     "output_type": "stream",
     "text": [
      "Epoch 475 validation: negative log likelihood loss=nan, Accuracy=0.2590448558330536\n"
     ]
    },
    {
     "name": "stderr",
     "output_type": "stream",
     "text": [
      "Epoch 476: 100%|██████████| 7/7 [00:00<00:00, 85.37batch/s, acc=0.262, loss=nan]\n"
     ]
    },
    {
     "name": "stdout",
     "output_type": "stream",
     "text": [
      "Epoch 476 validation: negative log likelihood loss=nan, Accuracy=0.2590448558330536\n"
     ]
    },
    {
     "name": "stderr",
     "output_type": "stream",
     "text": [
      "Epoch 477: 100%|██████████| 7/7 [00:00<00:00, 87.50batch/s, acc=0.262, loss=nan]\n"
     ]
    },
    {
     "name": "stdout",
     "output_type": "stream",
     "text": [
      "Epoch 477 validation: negative log likelihood loss=nan, Accuracy=0.2590448558330536\n"
     ]
    },
    {
     "name": "stderr",
     "output_type": "stream",
     "text": [
      "Epoch 478: 100%|██████████| 7/7 [00:00<00:00, 86.42batch/s, acc=0.262, loss=nan]\n"
     ]
    },
    {
     "name": "stdout",
     "output_type": "stream",
     "text": [
      "Epoch 478 validation: negative log likelihood loss=nan, Accuracy=0.2590448558330536\n"
     ]
    },
    {
     "name": "stderr",
     "output_type": "stream",
     "text": [
      "Epoch 479: 100%|██████████| 7/7 [00:00<00:00, 84.34batch/s, acc=0.262, loss=nan]\n"
     ]
    },
    {
     "name": "stdout",
     "output_type": "stream",
     "text": [
      "Epoch 479 validation: negative log likelihood loss=nan, Accuracy=0.2590448558330536\n"
     ]
    },
    {
     "name": "stderr",
     "output_type": "stream",
     "text": [
      "Epoch 480: 100%|██████████| 7/7 [00:00<00:00, 70.71batch/s, acc=0.262, loss=nan]\n"
     ]
    },
    {
     "name": "stdout",
     "output_type": "stream",
     "text": [
      "Epoch 480 validation: negative log likelihood loss=nan, Accuracy=0.2590448558330536\n"
     ]
    },
    {
     "name": "stderr",
     "output_type": "stream",
     "text": [
      "Epoch 481: 100%|██████████| 7/7 [00:00<00:00, 88.61batch/s, acc=0.262, loss=nan]\n"
     ]
    },
    {
     "name": "stdout",
     "output_type": "stream",
     "text": [
      "Epoch 481 validation: negative log likelihood loss=nan, Accuracy=0.2590448558330536\n"
     ]
    },
    {
     "name": "stderr",
     "output_type": "stream",
     "text": [
      "Epoch 482: 100%|██████████| 7/7 [00:00<00:00, 84.34batch/s, acc=0.262, loss=nan]\n"
     ]
    },
    {
     "name": "stdout",
     "output_type": "stream",
     "text": [
      "Epoch 482 validation: negative log likelihood loss=nan, Accuracy=0.2590448558330536\n"
     ]
    },
    {
     "name": "stderr",
     "output_type": "stream",
     "text": [
      "Epoch 483: 100%|██████████| 7/7 [00:00<00:00, 87.50batch/s, acc=0.262, loss=nan]\n"
     ]
    },
    {
     "name": "stdout",
     "output_type": "stream",
     "text": [
      "Epoch 483 validation: negative log likelihood loss=nan, Accuracy=0.2590448558330536\n"
     ]
    },
    {
     "name": "stderr",
     "output_type": "stream",
     "text": [
      "Epoch 484: 100%|██████████| 7/7 [00:00<00:00, 40.23batch/s, acc=0.262, loss=nan]\n"
     ]
    },
    {
     "name": "stdout",
     "output_type": "stream",
     "text": [
      "Epoch 484 validation: negative log likelihood loss=nan, Accuracy=0.2590448558330536\n"
     ]
    },
    {
     "name": "stderr",
     "output_type": "stream",
     "text": [
      "Epoch 485: 100%|██████████| 7/7 [00:00<00:00, 86.42batch/s, acc=0.262, loss=nan]\n"
     ]
    },
    {
     "name": "stdout",
     "output_type": "stream",
     "text": [
      "Epoch 485 validation: negative log likelihood loss=nan, Accuracy=0.2590448558330536\n"
     ]
    },
    {
     "name": "stderr",
     "output_type": "stream",
     "text": [
      "Epoch 486: 100%|██████████| 7/7 [00:00<00:00, 84.34batch/s, acc=0.262, loss=nan]\n"
     ]
    },
    {
     "name": "stdout",
     "output_type": "stream",
     "text": [
      "Epoch 486 validation: negative log likelihood loss=nan, Accuracy=0.2590448558330536\n"
     ]
    },
    {
     "name": "stderr",
     "output_type": "stream",
     "text": [
      "Epoch 487: 100%|██████████| 7/7 [00:00<00:00, 85.37batch/s, acc=0.262, loss=nan]\n"
     ]
    },
    {
     "name": "stdout",
     "output_type": "stream",
     "text": [
      "Epoch 487 validation: negative log likelihood loss=nan, Accuracy=0.2590448558330536\n"
     ]
    },
    {
     "name": "stderr",
     "output_type": "stream",
     "text": [
      "Epoch 488: 100%|██████████| 7/7 [00:00<00:00, 86.42batch/s, acc=0.262, loss=nan]\n"
     ]
    },
    {
     "name": "stdout",
     "output_type": "stream",
     "text": [
      "Epoch 488 validation: negative log likelihood loss=nan, Accuracy=0.2590448558330536\n"
     ]
    },
    {
     "name": "stderr",
     "output_type": "stream",
     "text": [
      "Epoch 489: 100%|██████████| 7/7 [00:00<00:00, 83.33batch/s, acc=0.262, loss=nan]\n"
     ]
    },
    {
     "name": "stdout",
     "output_type": "stream",
     "text": [
      "Epoch 489 validation: negative log likelihood loss=nan, Accuracy=0.2590448558330536\n"
     ]
    },
    {
     "name": "stderr",
     "output_type": "stream",
     "text": [
      "Epoch 490: 100%|██████████| 7/7 [00:00<00:00, 88.61batch/s, acc=0.262, loss=nan]\n"
     ]
    },
    {
     "name": "stdout",
     "output_type": "stream",
     "text": [
      "Epoch 490 validation: negative log likelihood loss=nan, Accuracy=0.2590448558330536\n"
     ]
    },
    {
     "name": "stderr",
     "output_type": "stream",
     "text": [
      "Epoch 491: 100%|██████████| 7/7 [00:00<00:00, 89.74batch/s, acc=0.262, loss=nan]\n"
     ]
    },
    {
     "name": "stdout",
     "output_type": "stream",
     "text": [
      "Epoch 491 validation: negative log likelihood loss=nan, Accuracy=0.2590448558330536\n"
     ]
    },
    {
     "name": "stderr",
     "output_type": "stream",
     "text": [
      "Epoch 492: 100%|██████████| 7/7 [00:00<00:00, 73.69batch/s, acc=0.262, loss=nan]\n"
     ]
    },
    {
     "name": "stdout",
     "output_type": "stream",
     "text": [
      "Epoch 492 validation: negative log likelihood loss=nan, Accuracy=0.2590448558330536\n"
     ]
    },
    {
     "name": "stderr",
     "output_type": "stream",
     "text": [
      "Epoch 493: 100%|██████████| 7/7 [00:00<00:00, 87.50batch/s, acc=0.262, loss=nan]\n"
     ]
    },
    {
     "name": "stdout",
     "output_type": "stream",
     "text": [
      "Epoch 493 validation: negative log likelihood loss=nan, Accuracy=0.2590448558330536\n"
     ]
    },
    {
     "name": "stderr",
     "output_type": "stream",
     "text": [
      "Epoch 494: 100%|██████████| 7/7 [00:00<00:00, 89.75batch/s, acc=0.262, loss=nan]\n"
     ]
    },
    {
     "name": "stdout",
     "output_type": "stream",
     "text": [
      "Epoch 494 validation: negative log likelihood loss=nan, Accuracy=0.2590448558330536\n"
     ]
    },
    {
     "name": "stderr",
     "output_type": "stream",
     "text": [
      "Epoch 495: 100%|██████████| 7/7 [00:00<00:00, 38.89batch/s, acc=0.262, loss=nan]\n"
     ]
    },
    {
     "name": "stdout",
     "output_type": "stream",
     "text": [
      "Epoch 495 validation: negative log likelihood loss=nan, Accuracy=0.2590448558330536\n"
     ]
    },
    {
     "name": "stderr",
     "output_type": "stream",
     "text": [
      "Epoch 496: 100%|██████████| 7/7 [00:00<00:00, 90.91batch/s, acc=0.262, loss=nan]\n"
     ]
    },
    {
     "name": "stdout",
     "output_type": "stream",
     "text": [
      "Epoch 496 validation: negative log likelihood loss=nan, Accuracy=0.2590448558330536\n"
     ]
    },
    {
     "name": "stderr",
     "output_type": "stream",
     "text": [
      "Epoch 497: 100%|██████████| 7/7 [00:00<00:00, 93.34batch/s, acc=0.262, loss=nan]\n"
     ]
    },
    {
     "name": "stdout",
     "output_type": "stream",
     "text": [
      "Epoch 497 validation: negative log likelihood loss=nan, Accuracy=0.2590448558330536\n"
     ]
    },
    {
     "name": "stderr",
     "output_type": "stream",
     "text": [
      "Epoch 498: 100%|██████████| 7/7 [00:00<00:00, 93.33batch/s, acc=0.262, loss=nan]\n"
     ]
    },
    {
     "name": "stdout",
     "output_type": "stream",
     "text": [
      "Epoch 498 validation: negative log likelihood loss=nan, Accuracy=0.2590448558330536\n"
     ]
    },
    {
     "name": "stderr",
     "output_type": "stream",
     "text": [
      "Epoch 499: 100%|██████████| 7/7 [00:00<00:00, 82.35batch/s, acc=0.262, loss=nan]\n"
     ]
    },
    {
     "name": "stdout",
     "output_type": "stream",
     "text": [
      "Epoch 499 validation: negative log likelihood loss=nan, Accuracy=0.2590448558330536\n"
     ]
    },
    {
     "name": "stderr",
     "output_type": "stream",
     "text": [
      "Epoch 500: 100%|██████████| 7/7 [00:00<00:00, 88.61batch/s, acc=0.262, loss=nan]\n"
     ]
    },
    {
     "name": "stdout",
     "output_type": "stream",
     "text": [
      "Epoch 500 validation: negative log likelihood loss=nan, Accuracy=0.2590448558330536\n"
     ]
    },
    {
     "name": "stderr",
     "output_type": "stream",
     "text": [
      "Epoch 501: 100%|██████████| 7/7 [00:00<00:00, 86.42batch/s, acc=0.262, loss=nan]\n"
     ]
    },
    {
     "name": "stdout",
     "output_type": "stream",
     "text": [
      "Epoch 501 validation: negative log likelihood loss=nan, Accuracy=0.2590448558330536\n"
     ]
    },
    {
     "name": "stderr",
     "output_type": "stream",
     "text": [
      "Epoch 502: 100%|██████████| 7/7 [00:00<00:00, 88.61batch/s, acc=0.262, loss=nan]\n"
     ]
    },
    {
     "name": "stdout",
     "output_type": "stream",
     "text": [
      "Epoch 502 validation: negative log likelihood loss=nan, Accuracy=0.2590448558330536\n"
     ]
    },
    {
     "name": "stderr",
     "output_type": "stream",
     "text": [
      "Epoch 503: 100%|██████████| 7/7 [00:00<00:00, 86.42batch/s, acc=0.262, loss=nan]\n"
     ]
    },
    {
     "name": "stdout",
     "output_type": "stream",
     "text": [
      "Epoch 503 validation: negative log likelihood loss=nan, Accuracy=0.2590448558330536\n"
     ]
    },
    {
     "name": "stderr",
     "output_type": "stream",
     "text": [
      "Epoch 504: 100%|██████████| 7/7 [00:00<00:00, 39.77batch/s, acc=0.262, loss=nan]\n"
     ]
    },
    {
     "name": "stdout",
     "output_type": "stream",
     "text": [
      "Epoch 504 validation: negative log likelihood loss=nan, Accuracy=0.2590448558330536\n"
     ]
    },
    {
     "name": "stderr",
     "output_type": "stream",
     "text": [
      "Epoch 505: 100%|██████████| 7/7 [00:00<00:00, 90.91batch/s, acc=0.262, loss=nan]\n"
     ]
    },
    {
     "name": "stdout",
     "output_type": "stream",
     "text": [
      "Epoch 505 validation: negative log likelihood loss=nan, Accuracy=0.2590448558330536\n"
     ]
    },
    {
     "name": "stderr",
     "output_type": "stream",
     "text": [
      "Epoch 506: 100%|██████████| 7/7 [00:00<00:00, 89.75batch/s, acc=0.262, loss=nan]\n"
     ]
    },
    {
     "name": "stdout",
     "output_type": "stream",
     "text": [
      "Epoch 506 validation: negative log likelihood loss=nan, Accuracy=0.2590448558330536\n"
     ]
    },
    {
     "name": "stderr",
     "output_type": "stream",
     "text": [
      "Epoch 507: 100%|██████████| 7/7 [00:00<00:00, 82.36batch/s, acc=0.262, loss=nan]\n"
     ]
    },
    {
     "name": "stdout",
     "output_type": "stream",
     "text": [
      "Epoch 507 validation: negative log likelihood loss=nan, Accuracy=0.2590448558330536\n"
     ]
    },
    {
     "name": "stderr",
     "output_type": "stream",
     "text": [
      "Epoch 508: 100%|██████████| 7/7 [00:00<00:00, 86.42batch/s, acc=0.262, loss=nan]\n"
     ]
    },
    {
     "name": "stdout",
     "output_type": "stream",
     "text": [
      "Epoch 508 validation: negative log likelihood loss=nan, Accuracy=0.2590448558330536\n"
     ]
    },
    {
     "name": "stderr",
     "output_type": "stream",
     "text": [
      "Epoch 509: 100%|██████████| 7/7 [00:00<00:00, 89.75batch/s, acc=0.262, loss=nan]\n"
     ]
    },
    {
     "name": "stdout",
     "output_type": "stream",
     "text": [
      "Epoch 509 validation: negative log likelihood loss=nan, Accuracy=0.2590448558330536\n"
     ]
    },
    {
     "name": "stderr",
     "output_type": "stream",
     "text": [
      "Epoch 510: 100%|██████████| 7/7 [00:00<00:00, 87.50batch/s, acc=0.262, loss=nan]\n"
     ]
    },
    {
     "name": "stdout",
     "output_type": "stream",
     "text": [
      "Epoch 510 validation: negative log likelihood loss=nan, Accuracy=0.2590448558330536\n"
     ]
    },
    {
     "name": "stderr",
     "output_type": "stream",
     "text": [
      "Epoch 511: 100%|██████████| 7/7 [00:00<00:00, 88.61batch/s, acc=0.262, loss=nan]\n"
     ]
    },
    {
     "name": "stdout",
     "output_type": "stream",
     "text": [
      "Epoch 511 validation: negative log likelihood loss=nan, Accuracy=0.2590448558330536\n"
     ]
    },
    {
     "name": "stderr",
     "output_type": "stream",
     "text": [
      "Epoch 512: 100%|██████████| 7/7 [00:00<00:00, 89.74batch/s, acc=0.262, loss=nan]\n"
     ]
    },
    {
     "name": "stdout",
     "output_type": "stream",
     "text": [
      "Epoch 512 validation: negative log likelihood loss=nan, Accuracy=0.2590448558330536\n"
     ]
    },
    {
     "name": "stderr",
     "output_type": "stream",
     "text": [
      "Epoch 513: 100%|██████████| 7/7 [00:00<00:00, 86.42batch/s, acc=0.262, loss=nan]\n"
     ]
    },
    {
     "name": "stdout",
     "output_type": "stream",
     "text": [
      "Epoch 513 validation: negative log likelihood loss=nan, Accuracy=0.2590448558330536\n"
     ]
    },
    {
     "name": "stderr",
     "output_type": "stream",
     "text": [
      "Epoch 514: 100%|██████████| 7/7 [00:00<00:00, 47.62batch/s, acc=0.262, loss=nan]\n"
     ]
    },
    {
     "name": "stdout",
     "output_type": "stream",
     "text": [
      "Epoch 514 validation: negative log likelihood loss=nan, Accuracy=0.2590448558330536\n"
     ]
    },
    {
     "name": "stderr",
     "output_type": "stream",
     "text": [
      "Epoch 515: 100%|██████████| 7/7 [00:00<00:00, 83.33batch/s, acc=0.262, loss=nan]\n"
     ]
    },
    {
     "name": "stdout",
     "output_type": "stream",
     "text": [
      "Epoch 515 validation: negative log likelihood loss=nan, Accuracy=0.2590448558330536\n"
     ]
    },
    {
     "name": "stderr",
     "output_type": "stream",
     "text": [
      "Epoch 516: 100%|██████████| 7/7 [00:00<00:00, 90.91batch/s, acc=0.262, loss=nan]\n"
     ]
    },
    {
     "name": "stdout",
     "output_type": "stream",
     "text": [
      "Epoch 516 validation: negative log likelihood loss=nan, Accuracy=0.2590448558330536\n"
     ]
    },
    {
     "name": "stderr",
     "output_type": "stream",
     "text": [
      "Epoch 517: 100%|██████████| 7/7 [00:00<00:00, 88.61batch/s, acc=0.262, loss=nan]\n"
     ]
    },
    {
     "name": "stdout",
     "output_type": "stream",
     "text": [
      "Epoch 517 validation: negative log likelihood loss=nan, Accuracy=0.2590448558330536\n"
     ]
    },
    {
     "name": "stderr",
     "output_type": "stream",
     "text": [
      "Epoch 518: 100%|██████████| 7/7 [00:00<00:00, 88.61batch/s, acc=0.262, loss=nan]\n"
     ]
    },
    {
     "name": "stdout",
     "output_type": "stream",
     "text": [
      "Epoch 518 validation: negative log likelihood loss=nan, Accuracy=0.2590448558330536\n"
     ]
    },
    {
     "name": "stderr",
     "output_type": "stream",
     "text": [
      "Epoch 519: 100%|██████████| 7/7 [00:00<00:00, 90.91batch/s, acc=0.262, loss=nan]\n"
     ]
    },
    {
     "name": "stdout",
     "output_type": "stream",
     "text": [
      "Epoch 519 validation: negative log likelihood loss=nan, Accuracy=0.2590448558330536\n"
     ]
    },
    {
     "name": "stderr",
     "output_type": "stream",
     "text": [
      "Epoch 520: 100%|██████████| 7/7 [00:00<00:00, 85.37batch/s, acc=0.262, loss=nan]\n"
     ]
    },
    {
     "name": "stdout",
     "output_type": "stream",
     "text": [
      "Epoch 520 validation: negative log likelihood loss=nan, Accuracy=0.2590448558330536\n"
     ]
    },
    {
     "name": "stderr",
     "output_type": "stream",
     "text": [
      "Epoch 521: 100%|██████████| 7/7 [00:00<00:00, 87.50batch/s, acc=0.262, loss=nan]\n"
     ]
    },
    {
     "name": "stdout",
     "output_type": "stream",
     "text": [
      "Epoch 521 validation: negative log likelihood loss=nan, Accuracy=0.2590448558330536\n"
     ]
    },
    {
     "name": "stderr",
     "output_type": "stream",
     "text": [
      "Epoch 522: 100%|██████████| 7/7 [00:00<00:00, 88.60batch/s, acc=0.262, loss=nan]\n"
     ]
    },
    {
     "name": "stdout",
     "output_type": "stream",
     "text": [
      "Epoch 522 validation: negative log likelihood loss=nan, Accuracy=0.2590448558330536\n"
     ]
    },
    {
     "name": "stderr",
     "output_type": "stream",
     "text": [
      "Epoch 523: 100%|██████████| 7/7 [00:00<00:00, 90.91batch/s, acc=0.262, loss=nan]\n"
     ]
    },
    {
     "name": "stdout",
     "output_type": "stream",
     "text": [
      "Epoch 523 validation: negative log likelihood loss=nan, Accuracy=0.2590448558330536\n"
     ]
    },
    {
     "name": "stderr",
     "output_type": "stream",
     "text": [
      "Epoch 524: 100%|██████████| 7/7 [00:00<00:00, 39.33batch/s, acc=0.262, loss=nan]\n"
     ]
    },
    {
     "name": "stdout",
     "output_type": "stream",
     "text": [
      "Epoch 524 validation: negative log likelihood loss=nan, Accuracy=0.2590448558330536\n"
     ]
    },
    {
     "name": "stderr",
     "output_type": "stream",
     "text": [
      "Epoch 525: 100%|██████████| 7/7 [00:00<00:00, 86.41batch/s, acc=0.262, loss=nan]\n"
     ]
    },
    {
     "name": "stdout",
     "output_type": "stream",
     "text": [
      "Epoch 525 validation: negative log likelihood loss=nan, Accuracy=0.2590448558330536\n"
     ]
    },
    {
     "name": "stderr",
     "output_type": "stream",
     "text": [
      "Epoch 526: 100%|██████████| 7/7 [00:00<00:00, 87.50batch/s, acc=0.262, loss=nan]\n"
     ]
    },
    {
     "name": "stdout",
     "output_type": "stream",
     "text": [
      "Epoch 526 validation: negative log likelihood loss=nan, Accuracy=0.2590448558330536\n"
     ]
    },
    {
     "name": "stderr",
     "output_type": "stream",
     "text": [
      "Epoch 527: 100%|██████████| 7/7 [00:00<00:00, 88.61batch/s, acc=0.262, loss=nan]\n"
     ]
    },
    {
     "name": "stdout",
     "output_type": "stream",
     "text": [
      "Epoch 527 validation: negative log likelihood loss=nan, Accuracy=0.2590448558330536\n"
     ]
    },
    {
     "name": "stderr",
     "output_type": "stream",
     "text": [
      "Epoch 528: 100%|██████████| 7/7 [00:00<00:00, 85.37batch/s, acc=0.262, loss=nan]\n"
     ]
    },
    {
     "name": "stdout",
     "output_type": "stream",
     "text": [
      "Epoch 528 validation: negative log likelihood loss=nan, Accuracy=0.2590448558330536\n"
     ]
    },
    {
     "name": "stderr",
     "output_type": "stream",
     "text": [
      "Epoch 529: 100%|██████████| 7/7 [00:00<00:00, 83.33batch/s, acc=0.262, loss=nan]\n"
     ]
    },
    {
     "name": "stdout",
     "output_type": "stream",
     "text": [
      "Epoch 529 validation: negative log likelihood loss=nan, Accuracy=0.2590448558330536\n"
     ]
    },
    {
     "name": "stderr",
     "output_type": "stream",
     "text": [
      "Epoch 530: 100%|██████████| 7/7 [00:00<00:00, 86.42batch/s, acc=0.262, loss=nan]\n"
     ]
    },
    {
     "name": "stdout",
     "output_type": "stream",
     "text": [
      "Epoch 530 validation: negative log likelihood loss=nan, Accuracy=0.2590448558330536\n"
     ]
    },
    {
     "name": "stderr",
     "output_type": "stream",
     "text": [
      "Epoch 531: 100%|██████████| 7/7 [00:00<00:00, 88.61batch/s, acc=0.262, loss=nan]\n"
     ]
    },
    {
     "name": "stdout",
     "output_type": "stream",
     "text": [
      "Epoch 531 validation: negative log likelihood loss=nan, Accuracy=0.2590448558330536\n"
     ]
    },
    {
     "name": "stderr",
     "output_type": "stream",
     "text": [
      "Epoch 532: 100%|██████████| 7/7 [00:00<00:00, 89.74batch/s, acc=0.262, loss=nan]\n"
     ]
    },
    {
     "name": "stdout",
     "output_type": "stream",
     "text": [
      "Epoch 532 validation: negative log likelihood loss=nan, Accuracy=0.2590448558330536\n"
     ]
    },
    {
     "name": "stderr",
     "output_type": "stream",
     "text": [
      "Epoch 533: 100%|██████████| 7/7 [00:00<00:00, 43.48batch/s, acc=0.262, loss=nan]\n"
     ]
    },
    {
     "name": "stdout",
     "output_type": "stream",
     "text": [
      "Epoch 533 validation: negative log likelihood loss=nan, Accuracy=0.2590448558330536\n"
     ]
    },
    {
     "name": "stderr",
     "output_type": "stream",
     "text": [
      "Epoch 534: 100%|██████████| 7/7 [00:00<00:00, 87.50batch/s, acc=0.262, loss=nan]\n"
     ]
    },
    {
     "name": "stdout",
     "output_type": "stream",
     "text": [
      "Epoch 534 validation: negative log likelihood loss=nan, Accuracy=0.2590448558330536\n"
     ]
    },
    {
     "name": "stderr",
     "output_type": "stream",
     "text": [
      "Epoch 535: 100%|██████████| 7/7 [00:00<00:00, 83.33batch/s, acc=0.262, loss=nan]\n"
     ]
    },
    {
     "name": "stdout",
     "output_type": "stream",
     "text": [
      "Epoch 535 validation: negative log likelihood loss=nan, Accuracy=0.2590448558330536\n"
     ]
    },
    {
     "name": "stderr",
     "output_type": "stream",
     "text": [
      "Epoch 536: 100%|██████████| 7/7 [00:00<00:00, 83.33batch/s, acc=0.262, loss=nan]\n"
     ]
    },
    {
     "name": "stdout",
     "output_type": "stream",
     "text": [
      "Epoch 536 validation: negative log likelihood loss=nan, Accuracy=0.2590448558330536\n"
     ]
    },
    {
     "name": "stderr",
     "output_type": "stream",
     "text": [
      "Epoch 537: 100%|██████████| 7/7 [00:00<00:00, 89.75batch/s, acc=0.262, loss=nan]\n"
     ]
    },
    {
     "name": "stdout",
     "output_type": "stream",
     "text": [
      "Epoch 537 validation: negative log likelihood loss=nan, Accuracy=0.2590448558330536\n"
     ]
    },
    {
     "name": "stderr",
     "output_type": "stream",
     "text": [
      "Epoch 538: 100%|██████████| 7/7 [00:00<00:00, 67.96batch/s, acc=0.262, loss=nan]\n"
     ]
    },
    {
     "name": "stdout",
     "output_type": "stream",
     "text": [
      "Epoch 538 validation: negative log likelihood loss=nan, Accuracy=0.2590448558330536\n"
     ]
    },
    {
     "name": "stderr",
     "output_type": "stream",
     "text": [
      "Epoch 539: 100%|██████████| 7/7 [00:00<00:00, 84.34batch/s, acc=0.262, loss=nan]\n"
     ]
    },
    {
     "name": "stdout",
     "output_type": "stream",
     "text": [
      "Epoch 539 validation: negative log likelihood loss=nan, Accuracy=0.2590448558330536\n"
     ]
    },
    {
     "name": "stderr",
     "output_type": "stream",
     "text": [
      "Epoch 540: 100%|██████████| 7/7 [00:00<00:00, 83.33batch/s, acc=0.262, loss=nan]\n"
     ]
    },
    {
     "name": "stdout",
     "output_type": "stream",
     "text": [
      "Epoch 540 validation: negative log likelihood loss=nan, Accuracy=0.2590448558330536\n"
     ]
    },
    {
     "name": "stderr",
     "output_type": "stream",
     "text": [
      "Epoch 541: 100%|██████████| 7/7 [00:00<00:00, 84.34batch/s, acc=0.262, loss=nan]\n"
     ]
    },
    {
     "name": "stdout",
     "output_type": "stream",
     "text": [
      "Epoch 541 validation: negative log likelihood loss=nan, Accuracy=0.2590448558330536\n"
     ]
    },
    {
     "name": "stderr",
     "output_type": "stream",
     "text": [
      "Epoch 542: 100%|██████████| 7/7 [00:00<00:00, 76.09batch/s, acc=0.262, loss=nan]\n"
     ]
    },
    {
     "name": "stdout",
     "output_type": "stream",
     "text": [
      "Epoch 542 validation: negative log likelihood loss=nan, Accuracy=0.2590448558330536\n"
     ]
    },
    {
     "name": "stderr",
     "output_type": "stream",
     "text": [
      "Epoch 543: 100%|██████████| 7/7 [00:00<00:00, 70.00batch/s, acc=0.262, loss=nan]\n"
     ]
    },
    {
     "name": "stdout",
     "output_type": "stream",
     "text": [
      "Epoch 543 validation: negative log likelihood loss=nan, Accuracy=0.2590448558330536\n"
     ]
    },
    {
     "name": "stderr",
     "output_type": "stream",
     "text": [
      "Epoch 544: 100%|██████████| 7/7 [00:00<00:00, 87.50batch/s, acc=0.262, loss=nan]\n"
     ]
    },
    {
     "name": "stdout",
     "output_type": "stream",
     "text": [
      "Epoch 544 validation: negative log likelihood loss=nan, Accuracy=0.2590448558330536\n"
     ]
    },
    {
     "name": "stderr",
     "output_type": "stream",
     "text": [
      "Epoch 545: 100%|██████████| 7/7 [00:00<00:00, 82.35batch/s, acc=0.262, loss=nan]\n"
     ]
    },
    {
     "name": "stdout",
     "output_type": "stream",
     "text": [
      "Epoch 545 validation: negative log likelihood loss=nan, Accuracy=0.2590448558330536\n"
     ]
    },
    {
     "name": "stderr",
     "output_type": "stream",
     "text": [
      "Epoch 546: 100%|██████████| 7/7 [00:00<00:00, 84.34batch/s, acc=0.262, loss=nan]\n"
     ]
    },
    {
     "name": "stdout",
     "output_type": "stream",
     "text": [
      "Epoch 546 validation: negative log likelihood loss=nan, Accuracy=0.2590448558330536\n"
     ]
    },
    {
     "name": "stderr",
     "output_type": "stream",
     "text": [
      "Epoch 547: 100%|██████████| 7/7 [00:00<00:00, 85.36batch/s, acc=0.262, loss=nan]\n"
     ]
    },
    {
     "name": "stdout",
     "output_type": "stream",
     "text": [
      "Epoch 547 validation: negative log likelihood loss=nan, Accuracy=0.2590448558330536\n"
     ]
    },
    {
     "name": "stderr",
     "output_type": "stream",
     "text": [
      "Epoch 548: 100%|██████████| 7/7 [00:00<00:00, 77.78batch/s, acc=0.262, loss=nan]\n"
     ]
    },
    {
     "name": "stdout",
     "output_type": "stream",
     "text": [
      "Epoch 548 validation: negative log likelihood loss=nan, Accuracy=0.2590448558330536\n"
     ]
    },
    {
     "name": "stderr",
     "output_type": "stream",
     "text": [
      "Epoch 549: 100%|██████████| 7/7 [00:00<00:00, 85.36batch/s, acc=0.262, loss=nan]\n"
     ]
    },
    {
     "name": "stdout",
     "output_type": "stream",
     "text": [
      "Epoch 549 validation: negative log likelihood loss=nan, Accuracy=0.2590448558330536\n"
     ]
    },
    {
     "name": "stderr",
     "output_type": "stream",
     "text": [
      "Epoch 550: 100%|██████████| 7/7 [00:00<00:00, 85.37batch/s, acc=0.262, loss=nan]\n"
     ]
    },
    {
     "name": "stdout",
     "output_type": "stream",
     "text": [
      "Epoch 550 validation: negative log likelihood loss=nan, Accuracy=0.2590448558330536\n"
     ]
    },
    {
     "name": "stderr",
     "output_type": "stream",
     "text": [
      "Epoch 551: 100%|██████████| 7/7 [00:00<00:00, 44.30batch/s, acc=0.262, loss=nan]\n"
     ]
    },
    {
     "name": "stdout",
     "output_type": "stream",
     "text": [
      "Epoch 551 validation: negative log likelihood loss=nan, Accuracy=0.2590448558330536\n"
     ]
    },
    {
     "name": "stderr",
     "output_type": "stream",
     "text": [
      "Epoch 552: 100%|██████████| 7/7 [00:00<00:00, 80.46batch/s, acc=0.262, loss=nan]\n"
     ]
    },
    {
     "name": "stdout",
     "output_type": "stream",
     "text": [
      "Epoch 552 validation: negative log likelihood loss=nan, Accuracy=0.2590448558330536\n"
     ]
    },
    {
     "name": "stderr",
     "output_type": "stream",
     "text": [
      "Epoch 553: 100%|██████████| 7/7 [00:00<00:00, 84.34batch/s, acc=0.262, loss=nan]\n"
     ]
    },
    {
     "name": "stdout",
     "output_type": "stream",
     "text": [
      "Epoch 553 validation: negative log likelihood loss=nan, Accuracy=0.2590448558330536\n"
     ]
    },
    {
     "name": "stderr",
     "output_type": "stream",
     "text": [
      "Epoch 554: 100%|██████████| 7/7 [00:00<00:00, 70.00batch/s, acc=0.262, loss=nan]\n"
     ]
    },
    {
     "name": "stdout",
     "output_type": "stream",
     "text": [
      "Epoch 554 validation: negative log likelihood loss=nan, Accuracy=0.2590448558330536\n"
     ]
    },
    {
     "name": "stderr",
     "output_type": "stream",
     "text": [
      "Epoch 555: 100%|██████████| 7/7 [00:00<00:00, 86.42batch/s, acc=0.262, loss=nan]\n"
     ]
    },
    {
     "name": "stdout",
     "output_type": "stream",
     "text": [
      "Epoch 555 validation: negative log likelihood loss=nan, Accuracy=0.2590448558330536\n"
     ]
    },
    {
     "name": "stderr",
     "output_type": "stream",
     "text": [
      "Epoch 556: 100%|██████████| 7/7 [00:00<00:00, 79.55batch/s, acc=0.262, loss=nan]\n"
     ]
    },
    {
     "name": "stdout",
     "output_type": "stream",
     "text": [
      "Epoch 556 validation: negative log likelihood loss=nan, Accuracy=0.2590448558330536\n"
     ]
    },
    {
     "name": "stderr",
     "output_type": "stream",
     "text": [
      "Epoch 557: 100%|██████████| 7/7 [00:00<00:00, 84.34batch/s, acc=0.262, loss=nan]\n"
     ]
    },
    {
     "name": "stdout",
     "output_type": "stream",
     "text": [
      "Epoch 557 validation: negative log likelihood loss=nan, Accuracy=0.2590448558330536\n"
     ]
    },
    {
     "name": "stderr",
     "output_type": "stream",
     "text": [
      "Epoch 558: 100%|██████████| 7/7 [00:00<00:00, 90.91batch/s, acc=0.262, loss=nan]\n"
     ]
    },
    {
     "name": "stdout",
     "output_type": "stream",
     "text": [
      "Epoch 558 validation: negative log likelihood loss=nan, Accuracy=0.2590448558330536\n"
     ]
    },
    {
     "name": "stderr",
     "output_type": "stream",
     "text": [
      "Epoch 559: 100%|██████████| 7/7 [00:00<00:00, 92.11batch/s, acc=0.262, loss=nan]\n"
     ]
    },
    {
     "name": "stdout",
     "output_type": "stream",
     "text": [
      "Epoch 559 validation: negative log likelihood loss=nan, Accuracy=0.2590448558330536\n"
     ]
    },
    {
     "name": "stderr",
     "output_type": "stream",
     "text": [
      "Epoch 560: 100%|██████████| 7/7 [00:00<00:00, 94.59batch/s, acc=0.262, loss=nan]\n"
     ]
    },
    {
     "name": "stdout",
     "output_type": "stream",
     "text": [
      "Epoch 560 validation: negative log likelihood loss=nan, Accuracy=0.2590448558330536\n"
     ]
    },
    {
     "name": "stderr",
     "output_type": "stream",
     "text": [
      "Epoch 561: 100%|██████████| 7/7 [00:00<00:00, 70.00batch/s, acc=0.262, loss=nan]\n"
     ]
    },
    {
     "name": "stdout",
     "output_type": "stream",
     "text": [
      "Epoch 561 validation: negative log likelihood loss=nan, Accuracy=0.2590448558330536\n"
     ]
    },
    {
     "name": "stderr",
     "output_type": "stream",
     "text": [
      "Epoch 562: 100%|██████████| 7/7 [00:00<00:00, 53.85batch/s, acc=0.262, loss=nan]\n"
     ]
    },
    {
     "name": "stdout",
     "output_type": "stream",
     "text": [
      "Epoch 562 validation: negative log likelihood loss=nan, Accuracy=0.2590448558330536\n"
     ]
    },
    {
     "name": "stderr",
     "output_type": "stream",
     "text": [
      "Epoch 563: 100%|██████████| 7/7 [00:00<00:00, 90.91batch/s, acc=0.262, loss=nan]\n"
     ]
    },
    {
     "name": "stdout",
     "output_type": "stream",
     "text": [
      "Epoch 563 validation: negative log likelihood loss=nan, Accuracy=0.2590448558330536\n"
     ]
    },
    {
     "name": "stderr",
     "output_type": "stream",
     "text": [
      "Epoch 564: 100%|██████████| 7/7 [00:00<00:00, 93.34batch/s, acc=0.262, loss=nan]\n"
     ]
    },
    {
     "name": "stdout",
     "output_type": "stream",
     "text": [
      "Epoch 564 validation: negative log likelihood loss=nan, Accuracy=0.2590448558330536\n"
     ]
    },
    {
     "name": "stderr",
     "output_type": "stream",
     "text": [
      "Epoch 565: 100%|██████████| 7/7 [00:00<00:00, 95.89batch/s, acc=0.262, loss=nan] \n"
     ]
    },
    {
     "name": "stdout",
     "output_type": "stream",
     "text": [
      "Epoch 565 validation: negative log likelihood loss=nan, Accuracy=0.2590448558330536\n"
     ]
    },
    {
     "name": "stderr",
     "output_type": "stream",
     "text": [
      "Epoch 566: 100%|██████████| 7/7 [00:00<00:00, 90.91batch/s, acc=0.262, loss=nan]\n"
     ]
    },
    {
     "name": "stdout",
     "output_type": "stream",
     "text": [
      "Epoch 566 validation: negative log likelihood loss=nan, Accuracy=0.2590448558330536\n"
     ]
    },
    {
     "name": "stderr",
     "output_type": "stream",
     "text": [
      "Epoch 567: 100%|██████████| 7/7 [00:00<00:00, 84.33batch/s, acc=0.262, loss=nan]\n"
     ]
    },
    {
     "name": "stdout",
     "output_type": "stream",
     "text": [
      "Epoch 567 validation: negative log likelihood loss=nan, Accuracy=0.2590448558330536\n"
     ]
    },
    {
     "name": "stderr",
     "output_type": "stream",
     "text": [
      "Epoch 568: 100%|██████████| 7/7 [00:00<00:00, 89.75batch/s, acc=0.262, loss=nan]\n"
     ]
    },
    {
     "name": "stdout",
     "output_type": "stream",
     "text": [
      "Epoch 568 validation: negative log likelihood loss=nan, Accuracy=0.2590448558330536\n"
     ]
    },
    {
     "name": "stderr",
     "output_type": "stream",
     "text": [
      "Epoch 569: 100%|██████████| 7/7 [00:00<00:00, 93.33batch/s, acc=0.262, loss=nan]\n"
     ]
    },
    {
     "name": "stdout",
     "output_type": "stream",
     "text": [
      "Epoch 569 validation: negative log likelihood loss=nan, Accuracy=0.2590448558330536\n"
     ]
    },
    {
     "name": "stderr",
     "output_type": "stream",
     "text": [
      "Epoch 570: 100%|██████████| 7/7 [00:00<00:00, 75.27batch/s, acc=0.262, loss=nan]\n"
     ]
    },
    {
     "name": "stdout",
     "output_type": "stream",
     "text": [
      "Epoch 570 validation: negative log likelihood loss=nan, Accuracy=0.2590448558330536\n"
     ]
    },
    {
     "name": "stderr",
     "output_type": "stream",
     "text": [
      "Epoch 571: 100%|██████████| 7/7 [00:00<00:00, 41.18batch/s, acc=0.262, loss=nan]\n"
     ]
    },
    {
     "name": "stdout",
     "output_type": "stream",
     "text": [
      "Epoch 571 validation: negative log likelihood loss=nan, Accuracy=0.2590448558330536\n"
     ]
    },
    {
     "name": "stderr",
     "output_type": "stream",
     "text": [
      "Epoch 572: 100%|██████████| 7/7 [00:00<00:00, 89.74batch/s, acc=0.262, loss=nan]\n"
     ]
    },
    {
     "name": "stdout",
     "output_type": "stream",
     "text": [
      "Epoch 572 validation: negative log likelihood loss=nan, Accuracy=0.2590448558330536\n"
     ]
    },
    {
     "name": "stderr",
     "output_type": "stream",
     "text": [
      "Epoch 573: 100%|██████████| 7/7 [00:00<00:00, 88.61batch/s, acc=0.262, loss=nan]\n"
     ]
    },
    {
     "name": "stdout",
     "output_type": "stream",
     "text": [
      "Epoch 573 validation: negative log likelihood loss=nan, Accuracy=0.2590448558330536\n"
     ]
    },
    {
     "name": "stderr",
     "output_type": "stream",
     "text": [
      "Epoch 574: 100%|██████████| 7/7 [00:00<00:00, 88.61batch/s, acc=0.262, loss=nan]\n"
     ]
    },
    {
     "name": "stdout",
     "output_type": "stream",
     "text": [
      "Epoch 574 validation: negative log likelihood loss=nan, Accuracy=0.2590448558330536\n"
     ]
    },
    {
     "name": "stderr",
     "output_type": "stream",
     "text": [
      "Epoch 575: 100%|██████████| 7/7 [00:00<00:00, 89.74batch/s, acc=0.262, loss=nan]\n"
     ]
    },
    {
     "name": "stdout",
     "output_type": "stream",
     "text": [
      "Epoch 575 validation: negative log likelihood loss=nan, Accuracy=0.2590448558330536\n"
     ]
    },
    {
     "name": "stderr",
     "output_type": "stream",
     "text": [
      "Epoch 576: 100%|██████████| 7/7 [00:00<00:00, 87.50batch/s, acc=0.262, loss=nan]\n"
     ]
    },
    {
     "name": "stdout",
     "output_type": "stream",
     "text": [
      "Epoch 576 validation: negative log likelihood loss=nan, Accuracy=0.2590448558330536\n"
     ]
    },
    {
     "name": "stderr",
     "output_type": "stream",
     "text": [
      "Epoch 577: 100%|██████████| 7/7 [00:00<00:00, 89.75batch/s, acc=0.262, loss=nan]\n"
     ]
    },
    {
     "name": "stdout",
     "output_type": "stream",
     "text": [
      "Epoch 577 validation: negative log likelihood loss=nan, Accuracy=0.2590448558330536\n"
     ]
    },
    {
     "name": "stderr",
     "output_type": "stream",
     "text": [
      "Epoch 578: 100%|██████████| 7/7 [00:00<00:00, 72.17batch/s, acc=0.262, loss=nan]\n"
     ]
    },
    {
     "name": "stdout",
     "output_type": "stream",
     "text": [
      "Epoch 578 validation: negative log likelihood loss=nan, Accuracy=0.2590448558330536\n"
     ]
    },
    {
     "name": "stderr",
     "output_type": "stream",
     "text": [
      "Epoch 579: 100%|██████████| 7/7 [00:00<00:00, 40.23batch/s, acc=0.262, loss=nan]\n"
     ]
    },
    {
     "name": "stdout",
     "output_type": "stream",
     "text": [
      "Epoch 579 validation: negative log likelihood loss=nan, Accuracy=0.2590448558330536\n"
     ]
    },
    {
     "name": "stderr",
     "output_type": "stream",
     "text": [
      "Epoch 580: 100%|██████████| 7/7 [00:00<00:00, 89.74batch/s, acc=0.262, loss=nan]\n"
     ]
    },
    {
     "name": "stdout",
     "output_type": "stream",
     "text": [
      "Epoch 580 validation: negative log likelihood loss=nan, Accuracy=0.2590448558330536\n"
     ]
    },
    {
     "name": "stderr",
     "output_type": "stream",
     "text": [
      "Epoch 581: 100%|██████████| 7/7 [00:00<00:00, 87.51batch/s, acc=0.262, loss=nan]\n"
     ]
    },
    {
     "name": "stdout",
     "output_type": "stream",
     "text": [
      "Epoch 581 validation: negative log likelihood loss=nan, Accuracy=0.2590448558330536\n"
     ]
    },
    {
     "name": "stderr",
     "output_type": "stream",
     "text": [
      "Epoch 582: 100%|██████████| 7/7 [00:00<00:00, 77.78batch/s, acc=0.262, loss=nan]\n"
     ]
    },
    {
     "name": "stdout",
     "output_type": "stream",
     "text": [
      "Epoch 582 validation: negative log likelihood loss=nan, Accuracy=0.2590448558330536\n"
     ]
    },
    {
     "name": "stderr",
     "output_type": "stream",
     "text": [
      "Epoch 583: 100%|██████████| 7/7 [00:00<00:00, 82.35batch/s, acc=0.262, loss=nan]\n"
     ]
    },
    {
     "name": "stdout",
     "output_type": "stream",
     "text": [
      "Epoch 583 validation: negative log likelihood loss=nan, Accuracy=0.2590448558330536\n"
     ]
    },
    {
     "name": "stderr",
     "output_type": "stream",
     "text": [
      "Epoch 584: 100%|██████████| 7/7 [00:00<00:00, 83.34batch/s, acc=0.262, loss=nan]\n"
     ]
    },
    {
     "name": "stdout",
     "output_type": "stream",
     "text": [
      "Epoch 584 validation: negative log likelihood loss=nan, Accuracy=0.2590448558330536\n"
     ]
    },
    {
     "name": "stderr",
     "output_type": "stream",
     "text": [
      "Epoch 585: 100%|██████████| 7/7 [00:00<00:00, 70.00batch/s, acc=0.262, loss=nan]\n"
     ]
    },
    {
     "name": "stdout",
     "output_type": "stream",
     "text": [
      "Epoch 585 validation: negative log likelihood loss=nan, Accuracy=0.2590448558330536\n"
     ]
    },
    {
     "name": "stderr",
     "output_type": "stream",
     "text": [
      "Epoch 586: 100%|██████████| 7/7 [00:00<00:00, 85.36batch/s, acc=0.262, loss=nan]\n"
     ]
    },
    {
     "name": "stdout",
     "output_type": "stream",
     "text": [
      "Epoch 586 validation: negative log likelihood loss=nan, Accuracy=0.2590448558330536\n"
     ]
    },
    {
     "name": "stderr",
     "output_type": "stream",
     "text": [
      "Epoch 587: 100%|██████████| 7/7 [00:00<00:00, 84.33batch/s, acc=0.262, loss=nan]\n"
     ]
    },
    {
     "name": "stdout",
     "output_type": "stream",
     "text": [
      "Epoch 587 validation: negative log likelihood loss=nan, Accuracy=0.2590448558330536\n"
     ]
    },
    {
     "name": "stderr",
     "output_type": "stream",
     "text": [
      "Epoch 588: 100%|██████████| 7/7 [00:00<00:00, 38.67batch/s, acc=0.262, loss=nan]\n"
     ]
    },
    {
     "name": "stdout",
     "output_type": "stream",
     "text": [
      "Epoch 588 validation: negative log likelihood loss=nan, Accuracy=0.2590448558330536\n"
     ]
    },
    {
     "name": "stderr",
     "output_type": "stream",
     "text": [
      "Epoch 589: 100%|██████████| 7/7 [00:00<00:00, 93.34batch/s, acc=0.262, loss=nan]\n"
     ]
    },
    {
     "name": "stdout",
     "output_type": "stream",
     "text": [
      "Epoch 589 validation: negative log likelihood loss=nan, Accuracy=0.2590448558330536\n"
     ]
    },
    {
     "name": "stderr",
     "output_type": "stream",
     "text": [
      "Epoch 590: 100%|██████████| 7/7 [00:00<00:00, 94.60batch/s, acc=0.262, loss=nan]\n"
     ]
    },
    {
     "name": "stdout",
     "output_type": "stream",
     "text": [
      "Epoch 590 validation: negative log likelihood loss=nan, Accuracy=0.2590448558330536\n"
     ]
    },
    {
     "name": "stderr",
     "output_type": "stream",
     "text": [
      "Epoch 591: 100%|██████████| 7/7 [00:00<00:00, 92.10batch/s, acc=0.262, loss=nan]\n"
     ]
    },
    {
     "name": "stdout",
     "output_type": "stream",
     "text": [
      "Epoch 591 validation: negative log likelihood loss=nan, Accuracy=0.2590448558330536\n"
     ]
    },
    {
     "name": "stderr",
     "output_type": "stream",
     "text": [
      "Epoch 592: 100%|██████████| 7/7 [00:00<00:00, 93.33batch/s, acc=0.262, loss=nan]\n"
     ]
    },
    {
     "name": "stdout",
     "output_type": "stream",
     "text": [
      "Epoch 592 validation: negative log likelihood loss=nan, Accuracy=0.2590448558330536\n"
     ]
    },
    {
     "name": "stderr",
     "output_type": "stream",
     "text": [
      "Epoch 593: 100%|██████████| 7/7 [00:00<00:00, 82.36batch/s, acc=0.262, loss=nan]\n"
     ]
    },
    {
     "name": "stdout",
     "output_type": "stream",
     "text": [
      "Epoch 593 validation: negative log likelihood loss=nan, Accuracy=0.2590448558330536\n"
     ]
    },
    {
     "name": "stderr",
     "output_type": "stream",
     "text": [
      "Epoch 594: 100%|██████████| 7/7 [00:00<00:00, 90.91batch/s, acc=0.262, loss=nan]\n"
     ]
    },
    {
     "name": "stdout",
     "output_type": "stream",
     "text": [
      "Epoch 594 validation: negative log likelihood loss=nan, Accuracy=0.2590448558330536\n"
     ]
    },
    {
     "name": "stderr",
     "output_type": "stream",
     "text": [
      "Epoch 595: 100%|██████████| 7/7 [00:00<00:00, 93.33batch/s, acc=0.262, loss=nan] \n"
     ]
    },
    {
     "name": "stdout",
     "output_type": "stream",
     "text": [
      "Epoch 595 validation: negative log likelihood loss=nan, Accuracy=0.2590448558330536\n"
     ]
    },
    {
     "name": "stderr",
     "output_type": "stream",
     "text": [
      "Epoch 596: 100%|██████████| 7/7 [00:00<00:00, 92.10batch/s, acc=0.262, loss=nan]\n"
     ]
    },
    {
     "name": "stdout",
     "output_type": "stream",
     "text": [
      "Epoch 596 validation: negative log likelihood loss=nan, Accuracy=0.2590448558330536\n"
     ]
    },
    {
     "name": "stderr",
     "output_type": "stream",
     "text": [
      "Epoch 597: 100%|██████████| 7/7 [00:00<00:00, 47.62batch/s, acc=0.262, loss=nan]\n"
     ]
    },
    {
     "name": "stdout",
     "output_type": "stream",
     "text": [
      "Epoch 597 validation: negative log likelihood loss=nan, Accuracy=0.2590448558330536\n"
     ]
    },
    {
     "name": "stderr",
     "output_type": "stream",
     "text": [
      "Epoch 598: 100%|██████████| 7/7 [00:00<00:00, 89.75batch/s, acc=0.262, loss=nan]\n"
     ]
    },
    {
     "name": "stdout",
     "output_type": "stream",
     "text": [
      "Epoch 598 validation: negative log likelihood loss=nan, Accuracy=0.2590448558330536\n"
     ]
    },
    {
     "name": "stderr",
     "output_type": "stream",
     "text": [
      "Epoch 599: 100%|██████████| 7/7 [00:00<00:00, 95.89batch/s, acc=0.262, loss=nan]\n"
     ]
    },
    {
     "name": "stdout",
     "output_type": "stream",
     "text": [
      "Epoch 599 validation: negative log likelihood loss=nan, Accuracy=0.2590448558330536\n"
     ]
    },
    {
     "name": "stderr",
     "output_type": "stream",
     "text": [
      "Epoch 600: 100%|██████████| 7/7 [00:00<00:00, 95.90batch/s, acc=0.262, loss=nan]\n"
     ]
    },
    {
     "name": "stdout",
     "output_type": "stream",
     "text": [
      "Epoch 600 validation: negative log likelihood loss=nan, Accuracy=0.2590448558330536\n"
     ]
    },
    {
     "name": "stderr",
     "output_type": "stream",
     "text": [
      "Epoch 601: 100%|██████████| 7/7 [00:00<00:00, 78.65batch/s, acc=0.262, loss=nan]\n"
     ]
    },
    {
     "name": "stdout",
     "output_type": "stream",
     "text": [
      "Epoch 601 validation: negative log likelihood loss=nan, Accuracy=0.2590448558330536\n"
     ]
    },
    {
     "name": "stderr",
     "output_type": "stream",
     "text": [
      "Epoch 602: 100%|██████████| 7/7 [00:00<00:00, 87.50batch/s, acc=0.262, loss=nan]\n"
     ]
    },
    {
     "name": "stdout",
     "output_type": "stream",
     "text": [
      "Epoch 602 validation: negative log likelihood loss=nan, Accuracy=0.2590448558330536\n"
     ]
    },
    {
     "name": "stderr",
     "output_type": "stream",
     "text": [
      "Epoch 603: 100%|██████████| 7/7 [00:00<00:00, 80.46batch/s, acc=0.262, loss=nan]\n"
     ]
    },
    {
     "name": "stdout",
     "output_type": "stream",
     "text": [
      "Epoch 603 validation: negative log likelihood loss=nan, Accuracy=0.2590448558330536\n"
     ]
    },
    {
     "name": "stderr",
     "output_type": "stream",
     "text": [
      "Epoch 604: 100%|██████████| 7/7 [00:00<00:00, 87.50batch/s, acc=0.262, loss=nan]\n"
     ]
    },
    {
     "name": "stdout",
     "output_type": "stream",
     "text": [
      "Epoch 604 validation: negative log likelihood loss=nan, Accuracy=0.2590448558330536\n"
     ]
    },
    {
     "name": "stderr",
     "output_type": "stream",
     "text": [
      "Epoch 605: 100%|██████████| 7/7 [00:00<00:00, 42.68batch/s, acc=0.262, loss=nan]\n"
     ]
    },
    {
     "name": "stdout",
     "output_type": "stream",
     "text": [
      "Epoch 605 validation: negative log likelihood loss=nan, Accuracy=0.2590448558330536\n"
     ]
    },
    {
     "name": "stderr",
     "output_type": "stream",
     "text": [
      "Epoch 606: 100%|██████████| 7/7 [00:00<00:00, 86.42batch/s, acc=0.262, loss=nan]\n"
     ]
    },
    {
     "name": "stdout",
     "output_type": "stream",
     "text": [
      "Epoch 606 validation: negative log likelihood loss=nan, Accuracy=0.2590448558330536\n"
     ]
    },
    {
     "name": "stderr",
     "output_type": "stream",
     "text": [
      "Epoch 607: 100%|██████████| 7/7 [00:00<00:00, 88.61batch/s, acc=0.262, loss=nan]\n"
     ]
    },
    {
     "name": "stdout",
     "output_type": "stream",
     "text": [
      "Epoch 607 validation: negative log likelihood loss=nan, Accuracy=0.2590448558330536\n"
     ]
    },
    {
     "name": "stderr",
     "output_type": "stream",
     "text": [
      "Epoch 608: 100%|██████████| 7/7 [00:00<00:00, 90.91batch/s, acc=0.262, loss=nan]\n"
     ]
    },
    {
     "name": "stdout",
     "output_type": "stream",
     "text": [
      "Epoch 608 validation: negative log likelihood loss=nan, Accuracy=0.2590448558330536\n"
     ]
    },
    {
     "name": "stderr",
     "output_type": "stream",
     "text": [
      "Epoch 609: 100%|██████████| 7/7 [00:00<00:00, 69.31batch/s, acc=0.262, loss=nan]\n"
     ]
    },
    {
     "name": "stdout",
     "output_type": "stream",
     "text": [
      "Epoch 609 validation: negative log likelihood loss=nan, Accuracy=0.2590448558330536\n"
     ]
    },
    {
     "name": "stderr",
     "output_type": "stream",
     "text": [
      "Epoch 610: 100%|██████████| 7/7 [00:00<00:00, 90.91batch/s, acc=0.262, loss=nan]\n"
     ]
    },
    {
     "name": "stdout",
     "output_type": "stream",
     "text": [
      "Epoch 610 validation: negative log likelihood loss=nan, Accuracy=0.2590448558330536\n"
     ]
    },
    {
     "name": "stderr",
     "output_type": "stream",
     "text": [
      "Epoch 611: 100%|██████████| 7/7 [00:00<00:00, 95.89batch/s, acc=0.262, loss=nan] \n"
     ]
    },
    {
     "name": "stdout",
     "output_type": "stream",
     "text": [
      "Epoch 611 validation: negative log likelihood loss=nan, Accuracy=0.2590448558330536\n"
     ]
    },
    {
     "name": "stderr",
     "output_type": "stream",
     "text": [
      "Epoch 612: 100%|██████████| 7/7 [00:00<00:00, 90.91batch/s, acc=0.262, loss=nan]\n"
     ]
    },
    {
     "name": "stdout",
     "output_type": "stream",
     "text": [
      "Epoch 612 validation: negative log likelihood loss=nan, Accuracy=0.2590448558330536\n"
     ]
    },
    {
     "name": "stderr",
     "output_type": "stream",
     "text": [
      "Epoch 613: 100%|██████████| 7/7 [00:00<00:00, 89.75batch/s, acc=0.262, loss=nan]\n"
     ]
    },
    {
     "name": "stdout",
     "output_type": "stream",
     "text": [
      "Epoch 613 validation: negative log likelihood loss=nan, Accuracy=0.2590448558330536\n"
     ]
    },
    {
     "name": "stderr",
     "output_type": "stream",
     "text": [
      "Epoch 614: 100%|██████████| 7/7 [00:00<00:00, 93.34batch/s, acc=0.262, loss=nan]\n"
     ]
    },
    {
     "name": "stdout",
     "output_type": "stream",
     "text": [
      "Epoch 614 validation: negative log likelihood loss=nan, Accuracy=0.2590448558330536\n"
     ]
    },
    {
     "name": "stderr",
     "output_type": "stream",
     "text": [
      "Epoch 615: 100%|██████████| 7/7 [00:00<00:00, 90.91batch/s, acc=0.262, loss=nan]\n"
     ]
    },
    {
     "name": "stdout",
     "output_type": "stream",
     "text": [
      "Epoch 615 validation: negative log likelihood loss=nan, Accuracy=0.2590448558330536\n"
     ]
    },
    {
     "name": "stderr",
     "output_type": "stream",
     "text": [
      "Epoch 616: 100%|██████████| 7/7 [00:00<00:00, 46.05batch/s, acc=0.262, loss=nan]\n"
     ]
    },
    {
     "name": "stdout",
     "output_type": "stream",
     "text": [
      "Epoch 616 validation: negative log likelihood loss=nan, Accuracy=0.2590448558330536\n"
     ]
    },
    {
     "name": "stderr",
     "output_type": "stream",
     "text": [
      "Epoch 617: 100%|██████████| 7/7 [00:00<00:00, 95.89batch/s, acc=0.262, loss=nan]\n"
     ]
    },
    {
     "name": "stdout",
     "output_type": "stream",
     "text": [
      "Epoch 617 validation: negative log likelihood loss=nan, Accuracy=0.2590448558330536\n"
     ]
    },
    {
     "name": "stderr",
     "output_type": "stream",
     "text": [
      "Epoch 618: 100%|██████████| 7/7 [00:00<00:00, 93.34batch/s, acc=0.262, loss=nan] \n"
     ]
    },
    {
     "name": "stdout",
     "output_type": "stream",
     "text": [
      "Epoch 618 validation: negative log likelihood loss=nan, Accuracy=0.2590448558330536\n"
     ]
    },
    {
     "name": "stderr",
     "output_type": "stream",
     "text": [
      "Epoch 619: 100%|██████████| 7/7 [00:00<00:00, 94.59batch/s, acc=0.262, loss=nan] \n"
     ]
    },
    {
     "name": "stdout",
     "output_type": "stream",
     "text": [
      "Epoch 619 validation: negative log likelihood loss=nan, Accuracy=0.2590448558330536\n"
     ]
    },
    {
     "name": "stderr",
     "output_type": "stream",
     "text": [
      "Epoch 620: 100%|██████████| 7/7 [00:00<00:00, 92.10batch/s, acc=0.262, loss=nan]\n"
     ]
    },
    {
     "name": "stdout",
     "output_type": "stream",
     "text": [
      "Epoch 620 validation: negative log likelihood loss=nan, Accuracy=0.2590448558330536\n"
     ]
    },
    {
     "name": "stderr",
     "output_type": "stream",
     "text": [
      "Epoch 621: 100%|██████████| 7/7 [00:00<00:00, 92.11batch/s, acc=0.262, loss=nan]\n"
     ]
    },
    {
     "name": "stdout",
     "output_type": "stream",
     "text": [
      "Epoch 621 validation: negative log likelihood loss=nan, Accuracy=0.2590448558330536\n"
     ]
    },
    {
     "name": "stderr",
     "output_type": "stream",
     "text": [
      "Epoch 622: 100%|██████████| 7/7 [00:00<00:00, 89.75batch/s, acc=0.262, loss=nan]\n"
     ]
    },
    {
     "name": "stdout",
     "output_type": "stream",
     "text": [
      "Epoch 622 validation: negative log likelihood loss=nan, Accuracy=0.2590448558330536\n"
     ]
    },
    {
     "name": "stderr",
     "output_type": "stream",
     "text": [
      "Epoch 623: 100%|██████████| 7/7 [00:00<00:00, 94.59batch/s, acc=0.262, loss=nan] \n"
     ]
    },
    {
     "name": "stdout",
     "output_type": "stream",
     "text": [
      "Epoch 623 validation: negative log likelihood loss=nan, Accuracy=0.2590448558330536\n"
     ]
    },
    {
     "name": "stderr",
     "output_type": "stream",
     "text": [
      "Epoch 624: 100%|██████████| 7/7 [00:00<00:00, 100.01batch/s, acc=0.262, loss=nan]\n"
     ]
    },
    {
     "name": "stdout",
     "output_type": "stream",
     "text": [
      "Epoch 624 validation: negative log likelihood loss=nan, Accuracy=0.2590448558330536\n"
     ]
    },
    {
     "name": "stderr",
     "output_type": "stream",
     "text": [
      "Epoch 625: 100%|██████████| 7/7 [00:00<00:00, 95.90batch/s, acc=0.262, loss=nan]\n"
     ]
    },
    {
     "name": "stdout",
     "output_type": "stream",
     "text": [
      "Epoch 625 validation: negative log likelihood loss=nan, Accuracy=0.2590448558330536\n"
     ]
    },
    {
     "name": "stderr",
     "output_type": "stream",
     "text": [
      "Epoch 626: 100%|██████████| 7/7 [00:00<00:00, 86.42batch/s, acc=0.262, loss=nan]\n"
     ]
    },
    {
     "name": "stdout",
     "output_type": "stream",
     "text": [
      "Epoch 626 validation: negative log likelihood loss=nan, Accuracy=0.2590448558330536\n"
     ]
    },
    {
     "name": "stderr",
     "output_type": "stream",
     "text": [
      "Epoch 627: 100%|██████████| 7/7 [00:00<00:00, 54.27batch/s, acc=0.262, loss=nan]\n"
     ]
    },
    {
     "name": "stdout",
     "output_type": "stream",
     "text": [
      "Epoch 627 validation: negative log likelihood loss=nan, Accuracy=0.2590448558330536\n"
     ]
    },
    {
     "name": "stderr",
     "output_type": "stream",
     "text": [
      "Epoch 628: 100%|██████████| 7/7 [00:00<00:00, 95.89batch/s, acc=0.262, loss=nan] \n"
     ]
    },
    {
     "name": "stdout",
     "output_type": "stream",
     "text": [
      "Epoch 628 validation: negative log likelihood loss=nan, Accuracy=0.2590448558330536\n"
     ]
    },
    {
     "name": "stderr",
     "output_type": "stream",
     "text": [
      "Epoch 629: 100%|██████████| 7/7 [00:00<00:00, 97.22batch/s, acc=0.262, loss=nan] \n"
     ]
    },
    {
     "name": "stdout",
     "output_type": "stream",
     "text": [
      "Epoch 629 validation: negative log likelihood loss=nan, Accuracy=0.2590448558330536\n"
     ]
    },
    {
     "name": "stderr",
     "output_type": "stream",
     "text": [
      "Epoch 630: 100%|██████████| 7/7 [00:00<00:00, 89.74batch/s, acc=0.262, loss=nan]\n"
     ]
    },
    {
     "name": "stdout",
     "output_type": "stream",
     "text": [
      "Epoch 630 validation: negative log likelihood loss=nan, Accuracy=0.2590448558330536\n"
     ]
    },
    {
     "name": "stderr",
     "output_type": "stream",
     "text": [
      "Epoch 631: 100%|██████████| 7/7 [00:00<00:00, 92.11batch/s, acc=0.262, loss=nan]\n"
     ]
    },
    {
     "name": "stdout",
     "output_type": "stream",
     "text": [
      "Epoch 631 validation: negative log likelihood loss=nan, Accuracy=0.2590448558330536\n"
     ]
    },
    {
     "name": "stderr",
     "output_type": "stream",
     "text": [
      "Epoch 632: 100%|██████████| 7/7 [00:00<00:00, 92.11batch/s, acc=0.262, loss=nan]\n"
     ]
    },
    {
     "name": "stdout",
     "output_type": "stream",
     "text": [
      "Epoch 632 validation: negative log likelihood loss=nan, Accuracy=0.2590448558330536\n"
     ]
    },
    {
     "name": "stderr",
     "output_type": "stream",
     "text": [
      "Epoch 633: 100%|██████████| 7/7 [00:00<00:00, 93.34batch/s, acc=0.262, loss=nan]\n"
     ]
    },
    {
     "name": "stdout",
     "output_type": "stream",
     "text": [
      "Epoch 633 validation: negative log likelihood loss=nan, Accuracy=0.2590448558330536\n"
     ]
    },
    {
     "name": "stderr",
     "output_type": "stream",
     "text": [
      "Epoch 634: 100%|██████████| 7/7 [00:00<00:00, 90.91batch/s, acc=0.262, loss=nan]\n"
     ]
    },
    {
     "name": "stdout",
     "output_type": "stream",
     "text": [
      "Epoch 634 validation: negative log likelihood loss=nan, Accuracy=0.2590448558330536\n"
     ]
    },
    {
     "name": "stderr",
     "output_type": "stream",
     "text": [
      "Epoch 635: 100%|██████████| 7/7 [00:00<00:00, 94.59batch/s, acc=0.262, loss=nan]\n"
     ]
    },
    {
     "name": "stdout",
     "output_type": "stream",
     "text": [
      "Epoch 635 validation: negative log likelihood loss=nan, Accuracy=0.2590448558330536\n"
     ]
    },
    {
     "name": "stderr",
     "output_type": "stream",
     "text": [
      "Epoch 636: 100%|██████████| 7/7 [00:00<00:00, 94.60batch/s, acc=0.262, loss=nan]\n"
     ]
    },
    {
     "name": "stdout",
     "output_type": "stream",
     "text": [
      "Epoch 636 validation: negative log likelihood loss=nan, Accuracy=0.2590448558330536\n"
     ]
    },
    {
     "name": "stderr",
     "output_type": "stream",
     "text": [
      "Epoch 637: 100%|██████████| 7/7 [00:00<00:00, 47.94batch/s, acc=0.262, loss=nan]\n"
     ]
    },
    {
     "name": "stdout",
     "output_type": "stream",
     "text": [
      "Epoch 637 validation: negative log likelihood loss=nan, Accuracy=0.2590448558330536\n"
     ]
    },
    {
     "name": "stderr",
     "output_type": "stream",
     "text": [
      "Epoch 638: 100%|██████████| 7/7 [00:00<00:00, 90.92batch/s, acc=0.262, loss=nan]\n"
     ]
    },
    {
     "name": "stdout",
     "output_type": "stream",
     "text": [
      "Epoch 638 validation: negative log likelihood loss=nan, Accuracy=0.2590448558330536\n"
     ]
    },
    {
     "name": "stderr",
     "output_type": "stream",
     "text": [
      "Epoch 639: 100%|██████████| 7/7 [00:00<00:00, 93.34batch/s, acc=0.262, loss=nan] \n"
     ]
    },
    {
     "name": "stdout",
     "output_type": "stream",
     "text": [
      "Epoch 639 validation: negative log likelihood loss=nan, Accuracy=0.2590448558330536\n"
     ]
    },
    {
     "name": "stderr",
     "output_type": "stream",
     "text": [
      "Epoch 640: 100%|██████████| 7/7 [00:00<00:00, 100.00batch/s, acc=0.262, loss=nan]\n"
     ]
    },
    {
     "name": "stdout",
     "output_type": "stream",
     "text": [
      "Epoch 640 validation: negative log likelihood loss=nan, Accuracy=0.2590448558330536\n"
     ]
    },
    {
     "name": "stderr",
     "output_type": "stream",
     "text": [
      "Epoch 641: 100%|██████████| 7/7 [00:00<00:00, 95.89batch/s, acc=0.262, loss=nan]\n"
     ]
    },
    {
     "name": "stdout",
     "output_type": "stream",
     "text": [
      "Epoch 641 validation: negative log likelihood loss=nan, Accuracy=0.2590448558330536\n"
     ]
    },
    {
     "name": "stderr",
     "output_type": "stream",
     "text": [
      "Epoch 642: 100%|██████████| 7/7 [00:00<00:00, 100.01batch/s, acc=0.262, loss=nan]\n"
     ]
    },
    {
     "name": "stdout",
     "output_type": "stream",
     "text": [
      "Epoch 642 validation: negative log likelihood loss=nan, Accuracy=0.2590448558330536\n"
     ]
    },
    {
     "name": "stderr",
     "output_type": "stream",
     "text": [
      "Epoch 643: 100%|██████████| 7/7 [00:00<00:00, 95.89batch/s, acc=0.262, loss=nan] \n"
     ]
    },
    {
     "name": "stdout",
     "output_type": "stream",
     "text": [
      "Epoch 643 validation: negative log likelihood loss=nan, Accuracy=0.2590448558330536\n"
     ]
    },
    {
     "name": "stderr",
     "output_type": "stream",
     "text": [
      "Epoch 644: 100%|██████████| 7/7 [00:00<00:00, 95.89batch/s, acc=0.262, loss=nan]\n"
     ]
    },
    {
     "name": "stdout",
     "output_type": "stream",
     "text": [
      "Epoch 644 validation: negative log likelihood loss=nan, Accuracy=0.2590448558330536\n"
     ]
    },
    {
     "name": "stderr",
     "output_type": "stream",
     "text": [
      "Epoch 645: 100%|██████████| 7/7 [00:00<00:00, 89.74batch/s, acc=0.262, loss=nan]\n"
     ]
    },
    {
     "name": "stdout",
     "output_type": "stream",
     "text": [
      "Epoch 645 validation: negative log likelihood loss=nan, Accuracy=0.2590448558330536\n"
     ]
    },
    {
     "name": "stderr",
     "output_type": "stream",
     "text": [
      "Epoch 646: 100%|██████████| 7/7 [00:00<00:00, 92.10batch/s, acc=0.262, loss=nan]\n"
     ]
    },
    {
     "name": "stdout",
     "output_type": "stream",
     "text": [
      "Epoch 646 validation: negative log likelihood loss=nan, Accuracy=0.2590448558330536\n"
     ]
    },
    {
     "name": "stderr",
     "output_type": "stream",
     "text": [
      "Epoch 647: 100%|██████████| 7/7 [00:00<00:00, 43.75batch/s, acc=0.262, loss=nan]\n"
     ]
    },
    {
     "name": "stdout",
     "output_type": "stream",
     "text": [
      "Epoch 647 validation: negative log likelihood loss=nan, Accuracy=0.2590448558330536\n"
     ]
    },
    {
     "name": "stderr",
     "output_type": "stream",
     "text": [
      "Epoch 648: 100%|██████████| 7/7 [00:00<00:00, 93.33batch/s, acc=0.262, loss=nan]\n"
     ]
    },
    {
     "name": "stdout",
     "output_type": "stream",
     "text": [
      "Epoch 648 validation: negative log likelihood loss=nan, Accuracy=0.2590448558330536\n"
     ]
    },
    {
     "name": "stderr",
     "output_type": "stream",
     "text": [
      "Epoch 649: 100%|██████████| 7/7 [00:00<00:00, 90.91batch/s, acc=0.262, loss=nan]\n"
     ]
    },
    {
     "name": "stdout",
     "output_type": "stream",
     "text": [
      "Epoch 649 validation: negative log likelihood loss=nan, Accuracy=0.2590448558330536\n"
     ]
    },
    {
     "name": "stderr",
     "output_type": "stream",
     "text": [
      "Epoch 650: 100%|██████████| 7/7 [00:00<00:00, 87.50batch/s, acc=0.262, loss=nan]\n"
     ]
    },
    {
     "name": "stdout",
     "output_type": "stream",
     "text": [
      "Epoch 650 validation: negative log likelihood loss=nan, Accuracy=0.2590448558330536\n"
     ]
    },
    {
     "name": "stderr",
     "output_type": "stream",
     "text": [
      "Epoch 651: 100%|██████████| 7/7 [00:00<00:00, 87.50batch/s, acc=0.262, loss=nan]"
     ]
    },
    {
     "name": "stdout",
     "output_type": "stream",
     "text": [
      "Epoch 651 validation: negative log likelihood loss=nan, Accuracy=0.2590448558330536\n"
     ]
    },
    {
     "name": "stderr",
     "output_type": "stream",
     "text": [
      "\n",
      "Epoch 652: 100%|██████████| 7/7 [00:00<00:00, 87.50batch/s, acc=0.262, loss=nan]\n"
     ]
    },
    {
     "name": "stdout",
     "output_type": "stream",
     "text": [
      "Epoch 652 validation: negative log likelihood loss=nan, Accuracy=0.2590448558330536\n"
     ]
    },
    {
     "name": "stderr",
     "output_type": "stream",
     "text": [
      "Epoch 653: 100%|██████████| 7/7 [00:00<00:00, 83.33batch/s, acc=0.262, loss=nan]\n"
     ]
    },
    {
     "name": "stdout",
     "output_type": "stream",
     "text": [
      "Epoch 653 validation: negative log likelihood loss=nan, Accuracy=0.2590448558330536\n"
     ]
    },
    {
     "name": "stderr",
     "output_type": "stream",
     "text": [
      "Epoch 654: 100%|██████████| 7/7 [00:00<00:00, 89.74batch/s, acc=0.262, loss=nan]\n"
     ]
    },
    {
     "name": "stdout",
     "output_type": "stream",
     "text": [
      "Epoch 654 validation: negative log likelihood loss=nan, Accuracy=0.2590448558330536\n"
     ]
    },
    {
     "name": "stderr",
     "output_type": "stream",
     "text": [
      "Epoch 655: 100%|██████████| 7/7 [00:00<00:00, 89.74batch/s, acc=0.262, loss=nan]\n"
     ]
    },
    {
     "name": "stdout",
     "output_type": "stream",
     "text": [
      "Epoch 655 validation: negative log likelihood loss=nan, Accuracy=0.2590448558330536\n"
     ]
    },
    {
     "name": "stderr",
     "output_type": "stream",
     "text": [
      "Epoch 656: 100%|██████████| 7/7 [00:00<00:00, 43.21batch/s, acc=0.262, loss=nan]\n"
     ]
    },
    {
     "name": "stdout",
     "output_type": "stream",
     "text": [
      "Epoch 656 validation: negative log likelihood loss=nan, Accuracy=0.2590448558330536\n"
     ]
    },
    {
     "name": "stderr",
     "output_type": "stream",
     "text": [
      "Epoch 657: 100%|██████████| 7/7 [00:00<00:00, 87.50batch/s, acc=0.262, loss=nan]\n"
     ]
    },
    {
     "name": "stdout",
     "output_type": "stream",
     "text": [
      "Epoch 657 validation: negative log likelihood loss=nan, Accuracy=0.2590448558330536\n"
     ]
    },
    {
     "name": "stderr",
     "output_type": "stream",
     "text": [
      "Epoch 658: 100%|██████████| 7/7 [00:00<00:00, 89.75batch/s, acc=0.262, loss=nan]\n"
     ]
    },
    {
     "name": "stdout",
     "output_type": "stream",
     "text": [
      "Epoch 658 validation: negative log likelihood loss=nan, Accuracy=0.2590448558330536\n"
     ]
    },
    {
     "name": "stderr",
     "output_type": "stream",
     "text": [
      "Epoch 659: 100%|██████████| 7/7 [00:00<00:00, 84.34batch/s, acc=0.262, loss=nan]\n"
     ]
    },
    {
     "name": "stdout",
     "output_type": "stream",
     "text": [
      "Epoch 659 validation: negative log likelihood loss=nan, Accuracy=0.2590448558330536\n"
     ]
    },
    {
     "name": "stderr",
     "output_type": "stream",
     "text": [
      "Epoch 660: 100%|██████████| 7/7 [00:00<00:00, 86.42batch/s, acc=0.262, loss=nan]\n"
     ]
    },
    {
     "name": "stdout",
     "output_type": "stream",
     "text": [
      "Epoch 660 validation: negative log likelihood loss=nan, Accuracy=0.2590448558330536\n"
     ]
    },
    {
     "name": "stderr",
     "output_type": "stream",
     "text": [
      "Epoch 661: 100%|██████████| 7/7 [00:00<00:00, 89.75batch/s, acc=0.262, loss=nan]\n"
     ]
    },
    {
     "name": "stdout",
     "output_type": "stream",
     "text": [
      "Epoch 661 validation: negative log likelihood loss=nan, Accuracy=0.2590448558330536\n"
     ]
    },
    {
     "name": "stderr",
     "output_type": "stream",
     "text": [
      "Epoch 662: 100%|██████████| 7/7 [00:00<00:00, 92.11batch/s, acc=0.262, loss=nan]\n"
     ]
    },
    {
     "name": "stdout",
     "output_type": "stream",
     "text": [
      "Epoch 662 validation: negative log likelihood loss=nan, Accuracy=0.2590448558330536\n"
     ]
    },
    {
     "name": "stderr",
     "output_type": "stream",
     "text": [
      "Epoch 663: 100%|██████████| 7/7 [00:00<00:00, 94.59batch/s, acc=0.262, loss=nan]\n"
     ]
    },
    {
     "name": "stdout",
     "output_type": "stream",
     "text": [
      "Epoch 663 validation: negative log likelihood loss=nan, Accuracy=0.2590448558330536\n"
     ]
    },
    {
     "name": "stderr",
     "output_type": "stream",
     "text": [
      "Epoch 664: 100%|██████████| 7/7 [00:00<00:00, 93.33batch/s, acc=0.262, loss=nan]\n"
     ]
    },
    {
     "name": "stdout",
     "output_type": "stream",
     "text": [
      "Epoch 664 validation: negative log likelihood loss=nan, Accuracy=0.2590448558330536\n"
     ]
    },
    {
     "name": "stderr",
     "output_type": "stream",
     "text": [
      "Epoch 665: 100%|██████████| 7/7 [00:00<00:00, 88.61batch/s, acc=0.262, loss=nan]\n"
     ]
    },
    {
     "name": "stdout",
     "output_type": "stream",
     "text": [
      "Epoch 665 validation: negative log likelihood loss=nan, Accuracy=0.2590448558330536\n"
     ]
    },
    {
     "name": "stderr",
     "output_type": "stream",
     "text": [
      "Epoch 666: 100%|██████████| 7/7 [00:00<00:00, 90.90batch/s, acc=0.262, loss=nan]\n"
     ]
    },
    {
     "name": "stdout",
     "output_type": "stream",
     "text": [
      "Epoch 666 validation: negative log likelihood loss=nan, Accuracy=0.2590448558330536\n"
     ]
    },
    {
     "name": "stderr",
     "output_type": "stream",
     "text": [
      "Epoch 667: 100%|██████████| 7/7 [00:00<00:00, 89.74batch/s, acc=0.262, loss=nan]\n"
     ]
    },
    {
     "name": "stdout",
     "output_type": "stream",
     "text": [
      "Epoch 667 validation: negative log likelihood loss=nan, Accuracy=0.2590448558330536\n"
     ]
    },
    {
     "name": "stderr",
     "output_type": "stream",
     "text": [
      "Epoch 668: 100%|██████████| 7/7 [00:00<00:00, 86.42batch/s, acc=0.262, loss=nan]\n"
     ]
    },
    {
     "name": "stdout",
     "output_type": "stream",
     "text": [
      "Epoch 668 validation: negative log likelihood loss=nan, Accuracy=0.2590448558330536\n"
     ]
    },
    {
     "name": "stderr",
     "output_type": "stream",
     "text": [
      "Epoch 669: 100%|██████████| 7/7 [00:00<00:00, 86.42batch/s, acc=0.262, loss=nan]\n"
     ]
    },
    {
     "name": "stdout",
     "output_type": "stream",
     "text": [
      "Epoch 669 validation: negative log likelihood loss=nan, Accuracy=0.2590448558330536\n"
     ]
    },
    {
     "name": "stderr",
     "output_type": "stream",
     "text": [
      "Epoch 670: 100%|██████████| 7/7 [00:00<00:00, 80.46batch/s, acc=0.262, loss=nan]\n"
     ]
    },
    {
     "name": "stdout",
     "output_type": "stream",
     "text": [
      "Epoch 670 validation: negative log likelihood loss=nan, Accuracy=0.2590448558330536\n"
     ]
    },
    {
     "name": "stderr",
     "output_type": "stream",
     "text": [
      "Epoch 671: 100%|██████████| 7/7 [00:00<00:00, 80.46batch/s, acc=0.262, loss=nan]\n"
     ]
    },
    {
     "name": "stdout",
     "output_type": "stream",
     "text": [
      "Epoch 671 validation: negative log likelihood loss=nan, Accuracy=0.2590448558330536\n"
     ]
    },
    {
     "name": "stderr",
     "output_type": "stream",
     "text": [
      "Epoch 672: 100%|██████████| 7/7 [00:00<00:00, 81.40batch/s, acc=0.262, loss=nan]\n"
     ]
    },
    {
     "name": "stdout",
     "output_type": "stream",
     "text": [
      "Epoch 672 validation: negative log likelihood loss=nan, Accuracy=0.2590448558330536\n"
     ]
    },
    {
     "name": "stderr",
     "output_type": "stream",
     "text": [
      "Epoch 673: 100%|██████████| 7/7 [00:00<00:00, 86.42batch/s, acc=0.262, loss=nan]\n"
     ]
    },
    {
     "name": "stdout",
     "output_type": "stream",
     "text": [
      "Epoch 673 validation: negative log likelihood loss=nan, Accuracy=0.2590448558330536\n"
     ]
    },
    {
     "name": "stderr",
     "output_type": "stream",
     "text": [
      "Epoch 674: 100%|██████████| 7/7 [00:00<00:00, 84.33batch/s, acc=0.262, loss=nan]\n"
     ]
    },
    {
     "name": "stdout",
     "output_type": "stream",
     "text": [
      "Epoch 674 validation: negative log likelihood loss=nan, Accuracy=0.2590448558330536\n"
     ]
    },
    {
     "name": "stderr",
     "output_type": "stream",
     "text": [
      "Epoch 675: 100%|██████████| 7/7 [00:00<00:00, 82.35batch/s, acc=0.262, loss=nan]\n"
     ]
    },
    {
     "name": "stdout",
     "output_type": "stream",
     "text": [
      "Epoch 675 validation: negative log likelihood loss=nan, Accuracy=0.2590448558330536\n"
     ]
    },
    {
     "name": "stderr",
     "output_type": "stream",
     "text": [
      "Epoch 676: 100%|██████████| 7/7 [00:00<00:00, 81.40batch/s, acc=0.262, loss=nan]\n"
     ]
    },
    {
     "name": "stdout",
     "output_type": "stream",
     "text": [
      "Epoch 676 validation: negative log likelihood loss=nan, Accuracy=0.2590448558330536\n"
     ]
    },
    {
     "name": "stderr",
     "output_type": "stream",
     "text": [
      "Epoch 677: 100%|██████████| 7/7 [00:00<00:00, 80.46batch/s, acc=0.262, loss=nan]\n"
     ]
    },
    {
     "name": "stdout",
     "output_type": "stream",
     "text": [
      "Epoch 677 validation: negative log likelihood loss=nan, Accuracy=0.2590448558330536\n"
     ]
    },
    {
     "name": "stderr",
     "output_type": "stream",
     "text": [
      "Epoch 678: 100%|██████████| 7/7 [00:00<00:00, 84.34batch/s, acc=0.262, loss=nan]\n"
     ]
    },
    {
     "name": "stdout",
     "output_type": "stream",
     "text": [
      "Epoch 678 validation: negative log likelihood loss=nan, Accuracy=0.2590448558330536\n"
     ]
    },
    {
     "name": "stderr",
     "output_type": "stream",
     "text": [
      "Epoch 679: 100%|██████████| 7/7 [00:00<00:00, 89.75batch/s, acc=0.262, loss=nan]\n"
     ]
    },
    {
     "name": "stdout",
     "output_type": "stream",
     "text": [
      "Epoch 679 validation: negative log likelihood loss=nan, Accuracy=0.2590448558330536\n"
     ]
    },
    {
     "name": "stderr",
     "output_type": "stream",
     "text": [
      "Epoch 680: 100%|██████████| 7/7 [00:00<00:00, 90.91batch/s, acc=0.262, loss=nan]\n"
     ]
    },
    {
     "name": "stdout",
     "output_type": "stream",
     "text": [
      "Epoch 680 validation: negative log likelihood loss=nan, Accuracy=0.2590448558330536\n"
     ]
    },
    {
     "name": "stderr",
     "output_type": "stream",
     "text": [
      "Epoch 681: 100%|██████████| 7/7 [00:00<00:00, 95.89batch/s, acc=0.262, loss=nan]\n"
     ]
    },
    {
     "name": "stdout",
     "output_type": "stream",
     "text": [
      "Epoch 681 validation: negative log likelihood loss=nan, Accuracy=0.2590448558330536\n"
     ]
    },
    {
     "name": "stderr",
     "output_type": "stream",
     "text": [
      "Epoch 682: 100%|██████████| 7/7 [00:00<00:00, 95.89batch/s, acc=0.262, loss=nan] \n"
     ]
    },
    {
     "name": "stdout",
     "output_type": "stream",
     "text": [
      "Epoch 682 validation: negative log likelihood loss=nan, Accuracy=0.2590448558330536\n"
     ]
    },
    {
     "name": "stderr",
     "output_type": "stream",
     "text": [
      "Epoch 683: 100%|██████████| 7/7 [00:00<00:00, 97.22batch/s, acc=0.262, loss=nan] \n"
     ]
    },
    {
     "name": "stdout",
     "output_type": "stream",
     "text": [
      "Epoch 683 validation: negative log likelihood loss=nan, Accuracy=0.2590448558330536\n"
     ]
    },
    {
     "name": "stderr",
     "output_type": "stream",
     "text": [
      "Epoch 684: 100%|██████████| 7/7 [00:00<00:00, 47.62batch/s, acc=0.262, loss=nan]\n"
     ]
    },
    {
     "name": "stdout",
     "output_type": "stream",
     "text": [
      "Epoch 684 validation: negative log likelihood loss=nan, Accuracy=0.2590448558330536\n"
     ]
    },
    {
     "name": "stderr",
     "output_type": "stream",
     "text": [
      "Epoch 685: 100%|██████████| 7/7 [00:00<00:00, 92.10batch/s, acc=0.262, loss=nan]\n"
     ]
    },
    {
     "name": "stdout",
     "output_type": "stream",
     "text": [
      "Epoch 685 validation: negative log likelihood loss=nan, Accuracy=0.2590448558330536\n"
     ]
    },
    {
     "name": "stderr",
     "output_type": "stream",
     "text": [
      "Epoch 686: 100%|██████████| 7/7 [00:00<00:00, 100.00batch/s, acc=0.262, loss=nan]\n"
     ]
    },
    {
     "name": "stdout",
     "output_type": "stream",
     "text": [
      "Epoch 686 validation: negative log likelihood loss=nan, Accuracy=0.2590448558330536\n"
     ]
    },
    {
     "name": "stderr",
     "output_type": "stream",
     "text": [
      "Epoch 687: 100%|██████████| 7/7 [00:00<00:00, 101.45batch/s, acc=0.262, loss=nan]\n"
     ]
    },
    {
     "name": "stdout",
     "output_type": "stream",
     "text": [
      "Epoch 687 validation: negative log likelihood loss=nan, Accuracy=0.2590448558330536\n"
     ]
    },
    {
     "name": "stderr",
     "output_type": "stream",
     "text": [
      "Epoch 688: 100%|██████████| 7/7 [00:00<00:00, 97.22batch/s, acc=0.262, loss=nan] \n"
     ]
    },
    {
     "name": "stdout",
     "output_type": "stream",
     "text": [
      "Epoch 688 validation: negative log likelihood loss=nan, Accuracy=0.2590448558330536\n"
     ]
    },
    {
     "name": "stderr",
     "output_type": "stream",
     "text": [
      "Epoch 689: 100%|██████████| 7/7 [00:00<00:00, 104.48batch/s, acc=0.262, loss=nan]\n"
     ]
    },
    {
     "name": "stdout",
     "output_type": "stream",
     "text": [
      "Epoch 689 validation: negative log likelihood loss=nan, Accuracy=0.2590448558330536\n"
     ]
    },
    {
     "name": "stderr",
     "output_type": "stream",
     "text": [
      "Epoch 690: 100%|██████████| 7/7 [00:00<00:00, 104.48batch/s, acc=0.262, loss=nan]\n"
     ]
    },
    {
     "name": "stdout",
     "output_type": "stream",
     "text": [
      "Epoch 690 validation: negative log likelihood loss=nan, Accuracy=0.2590448558330536\n"
     ]
    },
    {
     "name": "stderr",
     "output_type": "stream",
     "text": [
      "Epoch 691: 100%|██████████| 7/7 [00:00<00:00, 102.94batch/s, acc=0.262, loss=nan]\n"
     ]
    },
    {
     "name": "stdout",
     "output_type": "stream",
     "text": [
      "Epoch 691 validation: negative log likelihood loss=nan, Accuracy=0.2590448558330536\n"
     ]
    },
    {
     "name": "stderr",
     "output_type": "stream",
     "text": [
      "Epoch 692: 100%|██████████| 7/7 [00:00<00:00, 107.69batch/s, acc=0.262, loss=nan]\n"
     ]
    },
    {
     "name": "stdout",
     "output_type": "stream",
     "text": [
      "Epoch 692 validation: negative log likelihood loss=nan, Accuracy=0.2590448558330536\n"
     ]
    },
    {
     "name": "stderr",
     "output_type": "stream",
     "text": [
      "Epoch 693: 100%|██████████| 7/7 [00:00<00:00, 100.00batch/s, acc=0.262, loss=nan]\n"
     ]
    },
    {
     "name": "stdout",
     "output_type": "stream",
     "text": [
      "Epoch 693 validation: negative log likelihood loss=nan, Accuracy=0.2590448558330536\n"
     ]
    },
    {
     "name": "stderr",
     "output_type": "stream",
     "text": [
      "Epoch 694: 100%|██████████| 7/7 [00:00<00:00, 104.48batch/s, acc=0.262, loss=nan]\n"
     ]
    },
    {
     "name": "stdout",
     "output_type": "stream",
     "text": [
      "Epoch 694 validation: negative log likelihood loss=nan, Accuracy=0.2590448558330536\n"
     ]
    },
    {
     "name": "stderr",
     "output_type": "stream",
     "text": [
      "Epoch 695: 100%|██████████| 7/7 [00:00<00:00, 102.94batch/s, acc=0.262, loss=nan]\n"
     ]
    },
    {
     "name": "stdout",
     "output_type": "stream",
     "text": [
      "Epoch 695 validation: negative log likelihood loss=nan, Accuracy=0.2590448558330536\n"
     ]
    },
    {
     "name": "stderr",
     "output_type": "stream",
     "text": [
      "Epoch 696: 100%|██████████| 7/7 [00:00<00:00, 94.59batch/s, acc=0.262, loss=nan]\n"
     ]
    },
    {
     "name": "stdout",
     "output_type": "stream",
     "text": [
      "Epoch 696 validation: negative log likelihood loss=nan, Accuracy=0.2590448558330536\n"
     ]
    },
    {
     "name": "stderr",
     "output_type": "stream",
     "text": [
      "Epoch 697: 100%|██████████| 7/7 [00:00<00:00, 53.85batch/s, acc=0.262, loss=nan]\n"
     ]
    },
    {
     "name": "stdout",
     "output_type": "stream",
     "text": [
      "Epoch 697 validation: negative log likelihood loss=nan, Accuracy=0.2590448558330536\n"
     ]
    },
    {
     "name": "stderr",
     "output_type": "stream",
     "text": [
      "Epoch 698: 100%|██████████| 7/7 [00:00<00:00, 97.23batch/s, acc=0.262, loss=nan] \n"
     ]
    },
    {
     "name": "stdout",
     "output_type": "stream",
     "text": [
      "Epoch 698 validation: negative log likelihood loss=nan, Accuracy=0.2590448558330536\n"
     ]
    },
    {
     "name": "stderr",
     "output_type": "stream",
     "text": [
      "Epoch 699: 100%|██████████| 7/7 [00:00<00:00, 98.59batch/s, acc=0.262, loss=nan] \n"
     ]
    },
    {
     "name": "stdout",
     "output_type": "stream",
     "text": [
      "Epoch 699 validation: negative log likelihood loss=nan, Accuracy=0.2590448558330536\n"
     ]
    },
    {
     "name": "stderr",
     "output_type": "stream",
     "text": [
      "Epoch 700: 100%|██████████| 7/7 [00:00<00:00, 97.22batch/s, acc=0.262, loss=nan]\n"
     ]
    },
    {
     "name": "stdout",
     "output_type": "stream",
     "text": [
      "Epoch 700 validation: negative log likelihood loss=nan, Accuracy=0.2590448558330536\n"
     ]
    },
    {
     "name": "stderr",
     "output_type": "stream",
     "text": [
      "Epoch 701: 100%|██████████| 7/7 [00:00<00:00, 101.45batch/s, acc=0.262, loss=nan]\n"
     ]
    },
    {
     "name": "stdout",
     "output_type": "stream",
     "text": [
      "Epoch 701 validation: negative log likelihood loss=nan, Accuracy=0.2590448558330536\n"
     ]
    },
    {
     "name": "stderr",
     "output_type": "stream",
     "text": [
      "Epoch 702: 100%|██████████| 7/7 [00:00<00:00, 102.94batch/s, acc=0.262, loss=nan]\n"
     ]
    },
    {
     "name": "stdout",
     "output_type": "stream",
     "text": [
      "Epoch 702 validation: negative log likelihood loss=nan, Accuracy=0.2590448558330536\n"
     ]
    },
    {
     "name": "stderr",
     "output_type": "stream",
     "text": [
      "Epoch 703: 100%|██████████| 7/7 [00:00<00:00, 101.45batch/s, acc=0.262, loss=nan]\n"
     ]
    },
    {
     "name": "stdout",
     "output_type": "stream",
     "text": [
      "Epoch 703 validation: negative log likelihood loss=nan, Accuracy=0.2590448558330536\n"
     ]
    },
    {
     "name": "stderr",
     "output_type": "stream",
     "text": [
      "Epoch 704: 100%|██████████| 7/7 [00:00<00:00, 102.94batch/s, acc=0.262, loss=nan]\n"
     ]
    },
    {
     "name": "stdout",
     "output_type": "stream",
     "text": [
      "Epoch 704 validation: negative log likelihood loss=nan, Accuracy=0.2590448558330536\n"
     ]
    },
    {
     "name": "stderr",
     "output_type": "stream",
     "text": [
      "Epoch 705: 100%|██████████| 7/7 [00:00<00:00, 100.00batch/s, acc=0.262, loss=nan]\n"
     ]
    },
    {
     "name": "stdout",
     "output_type": "stream",
     "text": [
      "Epoch 705 validation: negative log likelihood loss=nan, Accuracy=0.2590448558330536\n"
     ]
    },
    {
     "name": "stderr",
     "output_type": "stream",
     "text": [
      "Epoch 706: 100%|██████████| 7/7 [00:00<00:00, 101.45batch/s, acc=0.262, loss=nan]\n"
     ]
    },
    {
     "name": "stdout",
     "output_type": "stream",
     "text": [
      "Epoch 706 validation: negative log likelihood loss=nan, Accuracy=0.2590448558330536\n"
     ]
    },
    {
     "name": "stderr",
     "output_type": "stream",
     "text": [
      "Epoch 707: 100%|██████████| 7/7 [00:00<00:00, 101.45batch/s, acc=0.262, loss=nan]\n"
     ]
    },
    {
     "name": "stdout",
     "output_type": "stream",
     "text": [
      "Epoch 707 validation: negative log likelihood loss=nan, Accuracy=0.2590448558330536\n"
     ]
    },
    {
     "name": "stderr",
     "output_type": "stream",
     "text": [
      "Epoch 708: 100%|██████████| 7/7 [00:00<00:00, 101.45batch/s, acc=0.262, loss=nan]\n"
     ]
    },
    {
     "name": "stdout",
     "output_type": "stream",
     "text": [
      "Epoch 708 validation: negative log likelihood loss=nan, Accuracy=0.2590448558330536\n"
     ]
    },
    {
     "name": "stderr",
     "output_type": "stream",
     "text": [
      "Epoch 709: 100%|██████████| 7/7 [00:00<00:00, 98.59batch/s, acc=0.262, loss=nan] \n"
     ]
    },
    {
     "name": "stdout",
     "output_type": "stream",
     "text": [
      "Epoch 709 validation: negative log likelihood loss=nan, Accuracy=0.2590448558330536\n"
     ]
    },
    {
     "name": "stderr",
     "output_type": "stream",
     "text": [
      "Epoch 710: 100%|██████████| 7/7 [00:00<00:00, 98.59batch/s, acc=0.262, loss=nan] \n"
     ]
    },
    {
     "name": "stdout",
     "output_type": "stream",
     "text": [
      "Epoch 710 validation: negative log likelihood loss=nan, Accuracy=0.2590448558330536\n"
     ]
    },
    {
     "name": "stderr",
     "output_type": "stream",
     "text": [
      "Epoch 711: 100%|██████████| 7/7 [00:00<00:00, 97.22batch/s, acc=0.262, loss=nan]\n"
     ]
    },
    {
     "name": "stdout",
     "output_type": "stream",
     "text": [
      "Epoch 711 validation: negative log likelihood loss=nan, Accuracy=0.2590448558330536\n"
     ]
    },
    {
     "name": "stderr",
     "output_type": "stream",
     "text": [
      "Epoch 712: 100%|██████████| 7/7 [00:00<00:00, 48.95batch/s, acc=0.262, loss=nan]\n"
     ]
    },
    {
     "name": "stdout",
     "output_type": "stream",
     "text": [
      "Epoch 712 validation: negative log likelihood loss=nan, Accuracy=0.2590448558330536\n"
     ]
    },
    {
     "name": "stderr",
     "output_type": "stream",
     "text": [
      "Epoch 713: 100%|██████████| 7/7 [00:00<00:00, 93.33batch/s, acc=0.262, loss=nan]\n"
     ]
    },
    {
     "name": "stdout",
     "output_type": "stream",
     "text": [
      "Epoch 713 validation: negative log likelihood loss=nan, Accuracy=0.2590448558330536\n"
     ]
    },
    {
     "name": "stderr",
     "output_type": "stream",
     "text": [
      "Epoch 714: 100%|██████████| 7/7 [00:00<00:00, 95.89batch/s, acc=0.262, loss=nan]\n"
     ]
    },
    {
     "name": "stdout",
     "output_type": "stream",
     "text": [
      "Epoch 714 validation: negative log likelihood loss=nan, Accuracy=0.2590448558330536\n"
     ]
    },
    {
     "name": "stderr",
     "output_type": "stream",
     "text": [
      "Epoch 715: 100%|██████████| 7/7 [00:00<00:00, 101.45batch/s, acc=0.262, loss=nan]\n"
     ]
    },
    {
     "name": "stdout",
     "output_type": "stream",
     "text": [
      "Epoch 715 validation: negative log likelihood loss=nan, Accuracy=0.2590448558330536\n"
     ]
    },
    {
     "name": "stderr",
     "output_type": "stream",
     "text": [
      "Epoch 716: 100%|██████████| 7/7 [00:00<00:00, 97.22batch/s, acc=0.262, loss=nan] \n"
     ]
    },
    {
     "name": "stdout",
     "output_type": "stream",
     "text": [
      "Epoch 716 validation: negative log likelihood loss=nan, Accuracy=0.2590448558330536\n"
     ]
    },
    {
     "name": "stderr",
     "output_type": "stream",
     "text": [
      "Epoch 717: 100%|██████████| 7/7 [00:00<00:00, 97.23batch/s, acc=0.262, loss=nan] \n"
     ]
    },
    {
     "name": "stdout",
     "output_type": "stream",
     "text": [
      "Epoch 717 validation: negative log likelihood loss=nan, Accuracy=0.2590448558330536\n"
     ]
    },
    {
     "name": "stderr",
     "output_type": "stream",
     "text": [
      "Epoch 718: 100%|██████████| 7/7 [00:00<00:00, 97.22batch/s, acc=0.262, loss=nan]\n"
     ]
    },
    {
     "name": "stdout",
     "output_type": "stream",
     "text": [
      "Epoch 718 validation: negative log likelihood loss=nan, Accuracy=0.2590448558330536\n"
     ]
    },
    {
     "name": "stderr",
     "output_type": "stream",
     "text": [
      "Epoch 719: 100%|██████████| 7/7 [00:00<00:00, 94.60batch/s, acc=0.262, loss=nan]\n"
     ]
    },
    {
     "name": "stdout",
     "output_type": "stream",
     "text": [
      "Epoch 719 validation: negative log likelihood loss=nan, Accuracy=0.2590448558330536\n"
     ]
    },
    {
     "name": "stderr",
     "output_type": "stream",
     "text": [
      "Epoch 720: 100%|██████████| 7/7 [00:00<00:00, 97.22batch/s, acc=0.262, loss=nan] \n"
     ]
    },
    {
     "name": "stdout",
     "output_type": "stream",
     "text": [
      "Epoch 720 validation: negative log likelihood loss=nan, Accuracy=0.2590448558330536\n"
     ]
    },
    {
     "name": "stderr",
     "output_type": "stream",
     "text": [
      "Epoch 721: 100%|██████████| 7/7 [00:00<00:00, 46.36batch/s, acc=0.262, loss=nan]\n"
     ]
    },
    {
     "name": "stdout",
     "output_type": "stream",
     "text": [
      "Epoch 721 validation: negative log likelihood loss=nan, Accuracy=0.2590448558330536\n"
     ]
    },
    {
     "name": "stderr",
     "output_type": "stream",
     "text": [
      "Epoch 722: 100%|██████████| 7/7 [00:00<00:00, 89.74batch/s, acc=0.262, loss=nan]\n"
     ]
    },
    {
     "name": "stdout",
     "output_type": "stream",
     "text": [
      "Epoch 722 validation: negative log likelihood loss=nan, Accuracy=0.2590448558330536\n"
     ]
    },
    {
     "name": "stderr",
     "output_type": "stream",
     "text": [
      "Epoch 723: 100%|██████████| 7/7 [00:00<00:00, 100.00batch/s, acc=0.262, loss=nan]\n"
     ]
    },
    {
     "name": "stdout",
     "output_type": "stream",
     "text": [
      "Epoch 723 validation: negative log likelihood loss=nan, Accuracy=0.2590448558330536\n"
     ]
    },
    {
     "name": "stderr",
     "output_type": "stream",
     "text": [
      "Epoch 724: 100%|██████████| 7/7 [00:00<00:00, 98.60batch/s, acc=0.262, loss=nan] \n"
     ]
    },
    {
     "name": "stdout",
     "output_type": "stream",
     "text": [
      "Epoch 724 validation: negative log likelihood loss=nan, Accuracy=0.2590448558330536\n"
     ]
    },
    {
     "name": "stderr",
     "output_type": "stream",
     "text": [
      "Epoch 725: 100%|██████████| 7/7 [00:00<00:00, 100.00batch/s, acc=0.262, loss=nan]\n"
     ]
    },
    {
     "name": "stdout",
     "output_type": "stream",
     "text": [
      "Epoch 725 validation: negative log likelihood loss=nan, Accuracy=0.2590448558330536\n"
     ]
    },
    {
     "name": "stderr",
     "output_type": "stream",
     "text": [
      "Epoch 726: 100%|██████████| 7/7 [00:00<00:00, 106.07batch/s, acc=0.262, loss=nan]\n"
     ]
    },
    {
     "name": "stdout",
     "output_type": "stream",
     "text": [
      "Epoch 726 validation: negative log likelihood loss=nan, Accuracy=0.2590448558330536\n"
     ]
    },
    {
     "name": "stderr",
     "output_type": "stream",
     "text": [
      "Epoch 727: 100%|██████████| 7/7 [00:00<00:00, 98.60batch/s, acc=0.262, loss=nan] \n"
     ]
    },
    {
     "name": "stdout",
     "output_type": "stream",
     "text": [
      "Epoch 727 validation: negative log likelihood loss=nan, Accuracy=0.2590448558330536\n"
     ]
    },
    {
     "name": "stderr",
     "output_type": "stream",
     "text": [
      "Epoch 728: 100%|██████████| 7/7 [00:00<00:00, 101.45batch/s, acc=0.262, loss=nan]\n"
     ]
    },
    {
     "name": "stdout",
     "output_type": "stream",
     "text": [
      "Epoch 728 validation: negative log likelihood loss=nan, Accuracy=0.2590448558330536\n"
     ]
    },
    {
     "name": "stderr",
     "output_type": "stream",
     "text": [
      "Epoch 729: 100%|██████████| 7/7 [00:00<00:00, 102.94batch/s, acc=0.262, loss=nan]\n"
     ]
    },
    {
     "name": "stdout",
     "output_type": "stream",
     "text": [
      "Epoch 729 validation: negative log likelihood loss=nan, Accuracy=0.2590448558330536\n"
     ]
    },
    {
     "name": "stderr",
     "output_type": "stream",
     "text": [
      "Epoch 730: 100%|██████████| 7/7 [00:00<00:00, 106.06batch/s, acc=0.262, loss=nan]\n"
     ]
    },
    {
     "name": "stdout",
     "output_type": "stream",
     "text": [
      "Epoch 730 validation: negative log likelihood loss=nan, Accuracy=0.2590448558330536\n"
     ]
    },
    {
     "name": "stderr",
     "output_type": "stream",
     "text": [
      "Epoch 731: 100%|██████████| 7/7 [00:00<00:00, 46.36batch/s, acc=0.262, loss=nan]\n"
     ]
    },
    {
     "name": "stdout",
     "output_type": "stream",
     "text": [
      "Epoch 731 validation: negative log likelihood loss=nan, Accuracy=0.2590448558330536\n"
     ]
    },
    {
     "name": "stderr",
     "output_type": "stream",
     "text": [
      "Epoch 732: 100%|██████████| 7/7 [00:00<00:00, 98.59batch/s, acc=0.262, loss=nan] \n"
     ]
    },
    {
     "name": "stdout",
     "output_type": "stream",
     "text": [
      "Epoch 732 validation: negative log likelihood loss=nan, Accuracy=0.2590448558330536\n"
     ]
    },
    {
     "name": "stderr",
     "output_type": "stream",
     "text": [
      "Epoch 733: 100%|██████████| 7/7 [00:00<00:00, 97.22batch/s, acc=0.262, loss=nan]\n"
     ]
    },
    {
     "name": "stdout",
     "output_type": "stream",
     "text": [
      "Epoch 733 validation: negative log likelihood loss=nan, Accuracy=0.2590448558330536\n"
     ]
    },
    {
     "name": "stderr",
     "output_type": "stream",
     "text": [
      "Epoch 734: 100%|██████████| 7/7 [00:00<00:00, 104.48batch/s, acc=0.262, loss=nan]\n"
     ]
    },
    {
     "name": "stdout",
     "output_type": "stream",
     "text": [
      "Epoch 734 validation: negative log likelihood loss=nan, Accuracy=0.2590448558330536\n"
     ]
    },
    {
     "name": "stderr",
     "output_type": "stream",
     "text": [
      "Epoch 735: 100%|██████████| 7/7 [00:00<00:00, 106.07batch/s, acc=0.262, loss=nan]\n"
     ]
    },
    {
     "name": "stdout",
     "output_type": "stream",
     "text": [
      "Epoch 735 validation: negative log likelihood loss=nan, Accuracy=0.2590448558330536\n"
     ]
    },
    {
     "name": "stderr",
     "output_type": "stream",
     "text": [
      "Epoch 736: 100%|██████████| 7/7 [00:00<00:00, 94.60batch/s, acc=0.262, loss=nan]\n"
     ]
    },
    {
     "name": "stdout",
     "output_type": "stream",
     "text": [
      "Epoch 736 validation: negative log likelihood loss=nan, Accuracy=0.2590448558330536\n"
     ]
    },
    {
     "name": "stderr",
     "output_type": "stream",
     "text": [
      "Epoch 737: 100%|██████████| 7/7 [00:00<00:00, 104.47batch/s, acc=0.262, loss=nan]\n"
     ]
    },
    {
     "name": "stdout",
     "output_type": "stream",
     "text": [
      "Epoch 737 validation: negative log likelihood loss=nan, Accuracy=0.2590448558330536\n"
     ]
    },
    {
     "name": "stderr",
     "output_type": "stream",
     "text": [
      "Epoch 738: 100%|██████████| 7/7 [00:00<00:00, 109.38batch/s, acc=0.262, loss=nan]\n"
     ]
    },
    {
     "name": "stdout",
     "output_type": "stream",
     "text": [
      "Epoch 738 validation: negative log likelihood loss=nan, Accuracy=0.2590448558330536\n"
     ]
    },
    {
     "name": "stderr",
     "output_type": "stream",
     "text": [
      "Epoch 739: 100%|██████████| 7/7 [00:00<00:00, 97.22batch/s, acc=0.262, loss=nan] \n"
     ]
    },
    {
     "name": "stdout",
     "output_type": "stream",
     "text": [
      "Epoch 739 validation: negative log likelihood loss=nan, Accuracy=0.2590448558330536\n"
     ]
    },
    {
     "name": "stderr",
     "output_type": "stream",
     "text": [
      "Epoch 740: 100%|██████████| 7/7 [00:00<00:00, 42.95batch/s, acc=0.262, loss=nan]\n"
     ]
    },
    {
     "name": "stdout",
     "output_type": "stream",
     "text": [
      "Epoch 740 validation: negative log likelihood loss=nan, Accuracy=0.2590448558330536\n"
     ]
    },
    {
     "name": "stderr",
     "output_type": "stream",
     "text": [
      "Epoch 741: 100%|██████████| 7/7 [00:00<00:00, 100.00batch/s, acc=0.262, loss=nan]\n"
     ]
    },
    {
     "name": "stdout",
     "output_type": "stream",
     "text": [
      "Epoch 741 validation: negative log likelihood loss=nan, Accuracy=0.2590448558330536\n"
     ]
    },
    {
     "name": "stderr",
     "output_type": "stream",
     "text": [
      "Epoch 742: 100%|██████████| 7/7 [00:00<00:00, 98.59batch/s, acc=0.262, loss=nan] \n"
     ]
    },
    {
     "name": "stdout",
     "output_type": "stream",
     "text": [
      "Epoch 742 validation: negative log likelihood loss=nan, Accuracy=0.2590448558330536\n"
     ]
    },
    {
     "name": "stderr",
     "output_type": "stream",
     "text": [
      "Epoch 743: 100%|██████████| 7/7 [00:00<00:00, 98.59batch/s, acc=0.262, loss=nan] \n"
     ]
    },
    {
     "name": "stdout",
     "output_type": "stream",
     "text": [
      "Epoch 743 validation: negative log likelihood loss=nan, Accuracy=0.2590448558330536\n"
     ]
    },
    {
     "name": "stderr",
     "output_type": "stream",
     "text": [
      "Epoch 744: 100%|██████████| 7/7 [00:00<00:00, 98.60batch/s, acc=0.262, loss=nan] \n"
     ]
    },
    {
     "name": "stdout",
     "output_type": "stream",
     "text": [
      "Epoch 744 validation: negative log likelihood loss=nan, Accuracy=0.2590448558330536\n"
     ]
    },
    {
     "name": "stderr",
     "output_type": "stream",
     "text": [
      "Epoch 745: 100%|██████████| 7/7 [00:00<00:00, 100.00batch/s, acc=0.262, loss=nan]\n"
     ]
    },
    {
     "name": "stdout",
     "output_type": "stream",
     "text": [
      "Epoch 745 validation: negative log likelihood loss=nan, Accuracy=0.2590448558330536\n"
     ]
    },
    {
     "name": "stderr",
     "output_type": "stream",
     "text": [
      "Epoch 746: 100%|██████████| 7/7 [00:00<00:00, 101.45batch/s, acc=0.262, loss=nan]\n"
     ]
    },
    {
     "name": "stdout",
     "output_type": "stream",
     "text": [
      "Epoch 746 validation: negative log likelihood loss=nan, Accuracy=0.2590448558330536\n"
     ]
    },
    {
     "name": "stderr",
     "output_type": "stream",
     "text": [
      "Epoch 747: 100%|██████████| 7/7 [00:00<00:00, 97.22batch/s, acc=0.262, loss=nan] \n"
     ]
    },
    {
     "name": "stdout",
     "output_type": "stream",
     "text": [
      "Epoch 747 validation: negative log likelihood loss=nan, Accuracy=0.2590448558330536\n"
     ]
    },
    {
     "name": "stderr",
     "output_type": "stream",
     "text": [
      "Epoch 748: 100%|██████████| 7/7 [00:00<00:00, 48.95batch/s, acc=0.262, loss=nan]\n"
     ]
    },
    {
     "name": "stdout",
     "output_type": "stream",
     "text": [
      "Epoch 748 validation: negative log likelihood loss=nan, Accuracy=0.2590448558330536\n"
     ]
    },
    {
     "name": "stderr",
     "output_type": "stream",
     "text": [
      "Epoch 749: 100%|██████████| 7/7 [00:00<00:00, 88.61batch/s, acc=0.262, loss=nan]\n"
     ]
    },
    {
     "name": "stdout",
     "output_type": "stream",
     "text": [
      "Epoch 749 validation: negative log likelihood loss=nan, Accuracy=0.2590448558330536\n"
     ]
    },
    {
     "name": "stderr",
     "output_type": "stream",
     "text": [
      "Epoch 750: 100%|██████████| 7/7 [00:00<00:00, 92.11batch/s, acc=0.262, loss=nan]\n"
     ]
    },
    {
     "name": "stdout",
     "output_type": "stream",
     "text": [
      "Epoch 750 validation: negative log likelihood loss=nan, Accuracy=0.2590448558330536\n"
     ]
    },
    {
     "name": "stderr",
     "output_type": "stream",
     "text": [
      "Epoch 751: 100%|██████████| 7/7 [00:00<00:00, 89.74batch/s, acc=0.262, loss=nan]\n"
     ]
    },
    {
     "name": "stdout",
     "output_type": "stream",
     "text": [
      "Epoch 751 validation: negative log likelihood loss=nan, Accuracy=0.2590448558330536\n"
     ]
    },
    {
     "name": "stderr",
     "output_type": "stream",
     "text": [
      "Epoch 752: 100%|██████████| 7/7 [00:00<00:00, 89.74batch/s, acc=0.262, loss=nan]"
     ]
    },
    {
     "name": "stdout",
     "output_type": "stream",
     "text": [
      "Epoch 752 validation: negative log likelihood loss=nan, Accuracy=0.2590448558330536\n"
     ]
    },
    {
     "name": "stderr",
     "output_type": "stream",
     "text": [
      "\n",
      "Epoch 753: 100%|██████████| 7/7 [00:00<00:00, 95.89batch/s, acc=0.262, loss=nan]\n"
     ]
    },
    {
     "name": "stdout",
     "output_type": "stream",
     "text": [
      "Epoch 753 validation: negative log likelihood loss=nan, Accuracy=0.2590448558330536\n"
     ]
    },
    {
     "name": "stderr",
     "output_type": "stream",
     "text": [
      "Epoch 754: 100%|██████████| 7/7 [00:00<00:00, 98.59batch/s, acc=0.262, loss=nan] \n"
     ]
    },
    {
     "name": "stdout",
     "output_type": "stream",
     "text": [
      "Epoch 754 validation: negative log likelihood loss=nan, Accuracy=0.2590448558330536\n"
     ]
    },
    {
     "name": "stderr",
     "output_type": "stream",
     "text": [
      "Epoch 755: 100%|██████████| 7/7 [00:00<00:00, 97.22batch/s, acc=0.262, loss=nan] \n"
     ]
    },
    {
     "name": "stdout",
     "output_type": "stream",
     "text": [
      "Epoch 755 validation: negative log likelihood loss=nan, Accuracy=0.2590448558330536\n"
     ]
    },
    {
     "name": "stderr",
     "output_type": "stream",
     "text": [
      "Epoch 756: 100%|██████████| 7/7 [00:00<00:00, 98.60batch/s, acc=0.262, loss=nan] \n"
     ]
    },
    {
     "name": "stdout",
     "output_type": "stream",
     "text": [
      "Epoch 756 validation: negative log likelihood loss=nan, Accuracy=0.2590448558330536\n"
     ]
    },
    {
     "name": "stderr",
     "output_type": "stream",
     "text": [
      "Epoch 757: 100%|██████████| 7/7 [00:00<00:00, 48.95batch/s, acc=0.262, loss=nan]\n"
     ]
    },
    {
     "name": "stdout",
     "output_type": "stream",
     "text": [
      "Epoch 757 validation: negative log likelihood loss=nan, Accuracy=0.2590448558330536\n"
     ]
    },
    {
     "name": "stderr",
     "output_type": "stream",
     "text": [
      "Epoch 758: 100%|██████████| 7/7 [00:00<00:00, 97.23batch/s, acc=0.262, loss=nan] \n"
     ]
    },
    {
     "name": "stdout",
     "output_type": "stream",
     "text": [
      "Epoch 758 validation: negative log likelihood loss=nan, Accuracy=0.2590448558330536\n"
     ]
    },
    {
     "name": "stderr",
     "output_type": "stream",
     "text": [
      "Epoch 759: 100%|██████████| 7/7 [00:00<00:00, 100.00batch/s, acc=0.262, loss=nan]\n"
     ]
    },
    {
     "name": "stdout",
     "output_type": "stream",
     "text": [
      "Epoch 759 validation: negative log likelihood loss=nan, Accuracy=0.2590448558330536\n"
     ]
    },
    {
     "name": "stderr",
     "output_type": "stream",
     "text": [
      "Epoch 760: 100%|██████████| 7/7 [00:00<00:00, 89.74batch/s, acc=0.262, loss=nan]\n"
     ]
    },
    {
     "name": "stdout",
     "output_type": "stream",
     "text": [
      "Epoch 760 validation: negative log likelihood loss=nan, Accuracy=0.2590448558330536\n"
     ]
    },
    {
     "name": "stderr",
     "output_type": "stream",
     "text": [
      "Epoch 761: 100%|██████████| 7/7 [00:00<00:00, 100.00batch/s, acc=0.262, loss=nan]\n"
     ]
    },
    {
     "name": "stdout",
     "output_type": "stream",
     "text": [
      "Epoch 761 validation: negative log likelihood loss=nan, Accuracy=0.2590448558330536\n"
     ]
    },
    {
     "name": "stderr",
     "output_type": "stream",
     "text": [
      "Epoch 762: 100%|██████████| 7/7 [00:00<00:00, 97.22batch/s, acc=0.262, loss=nan] \n"
     ]
    },
    {
     "name": "stdout",
     "output_type": "stream",
     "text": [
      "Epoch 762 validation: negative log likelihood loss=nan, Accuracy=0.2590448558330536\n"
     ]
    },
    {
     "name": "stderr",
     "output_type": "stream",
     "text": [
      "Epoch 763: 100%|██████████| 7/7 [00:00<00:00, 98.59batch/s, acc=0.262, loss=nan] \n"
     ]
    },
    {
     "name": "stdout",
     "output_type": "stream",
     "text": [
      "Epoch 763 validation: negative log likelihood loss=nan, Accuracy=0.2590448558330536\n"
     ]
    },
    {
     "name": "stderr",
     "output_type": "stream",
     "text": [
      "Epoch 764: 100%|██████████| 7/7 [00:00<00:00, 98.59batch/s, acc=0.262, loss=nan] \n"
     ]
    },
    {
     "name": "stdout",
     "output_type": "stream",
     "text": [
      "Epoch 764 validation: negative log likelihood loss=nan, Accuracy=0.2590448558330536\n"
     ]
    },
    {
     "name": "stderr",
     "output_type": "stream",
     "text": [
      "Epoch 765: 100%|██████████| 7/7 [00:00<00:00, 44.03batch/s, acc=0.262, loss=nan]\n"
     ]
    },
    {
     "name": "stdout",
     "output_type": "stream",
     "text": [
      "Epoch 765 validation: negative log likelihood loss=nan, Accuracy=0.2590448558330536\n"
     ]
    },
    {
     "name": "stderr",
     "output_type": "stream",
     "text": [
      "Epoch 766: 100%|██████████| 7/7 [00:00<00:00, 89.75batch/s, acc=0.262, loss=nan]\n"
     ]
    },
    {
     "name": "stdout",
     "output_type": "stream",
     "text": [
      "Epoch 766 validation: negative log likelihood loss=nan, Accuracy=0.2590448558330536\n"
     ]
    },
    {
     "name": "stderr",
     "output_type": "stream",
     "text": [
      "Epoch 767: 100%|██████████| 7/7 [00:00<00:00, 90.91batch/s, acc=0.262, loss=nan]\n"
     ]
    },
    {
     "name": "stdout",
     "output_type": "stream",
     "text": [
      "Epoch 767 validation: negative log likelihood loss=nan, Accuracy=0.2590448558330536\n"
     ]
    },
    {
     "name": "stderr",
     "output_type": "stream",
     "text": [
      "Epoch 768: 100%|██████████| 7/7 [00:00<00:00, 95.89batch/s, acc=0.262, loss=nan]\n"
     ]
    },
    {
     "name": "stdout",
     "output_type": "stream",
     "text": [
      "Epoch 768 validation: negative log likelihood loss=nan, Accuracy=0.2590448558330536\n"
     ]
    },
    {
     "name": "stderr",
     "output_type": "stream",
     "text": [
      "Epoch 769: 100%|██████████| 7/7 [00:00<00:00, 93.34batch/s, acc=0.262, loss=nan]\n"
     ]
    },
    {
     "name": "stdout",
     "output_type": "stream",
     "text": [
      "Epoch 769 validation: negative log likelihood loss=nan, Accuracy=0.2590448558330536\n"
     ]
    },
    {
     "name": "stderr",
     "output_type": "stream",
     "text": [
      "Epoch 770: 100%|██████████| 7/7 [00:00<00:00, 98.59batch/s, acc=0.262, loss=nan] \n"
     ]
    },
    {
     "name": "stdout",
     "output_type": "stream",
     "text": [
      "Epoch 770 validation: negative log likelihood loss=nan, Accuracy=0.2590448558330536\n"
     ]
    },
    {
     "name": "stderr",
     "output_type": "stream",
     "text": [
      "Epoch 771: 100%|██████████| 7/7 [00:00<00:00, 98.59batch/s, acc=0.262, loss=nan] \n"
     ]
    },
    {
     "name": "stdout",
     "output_type": "stream",
     "text": [
      "Epoch 771 validation: negative log likelihood loss=nan, Accuracy=0.2590448558330536\n"
     ]
    },
    {
     "name": "stderr",
     "output_type": "stream",
     "text": [
      "Epoch 772: 100%|██████████| 7/7 [00:00<00:00, 101.45batch/s, acc=0.262, loss=nan]\n"
     ]
    },
    {
     "name": "stdout",
     "output_type": "stream",
     "text": [
      "Epoch 772 validation: negative log likelihood loss=nan, Accuracy=0.2590448558330536\n"
     ]
    },
    {
     "name": "stderr",
     "output_type": "stream",
     "text": [
      "Epoch 773: 100%|██████████| 7/7 [00:00<00:00, 100.00batch/s, acc=0.262, loss=nan]\n"
     ]
    },
    {
     "name": "stdout",
     "output_type": "stream",
     "text": [
      "Epoch 773 validation: negative log likelihood loss=nan, Accuracy=0.2590448558330536\n"
     ]
    },
    {
     "name": "stderr",
     "output_type": "stream",
     "text": [
      "Epoch 774: 100%|██████████| 7/7 [00:00<00:00, 45.75batch/s, acc=0.262, loss=nan]\n"
     ]
    },
    {
     "name": "stdout",
     "output_type": "stream",
     "text": [
      "Epoch 774 validation: negative log likelihood loss=nan, Accuracy=0.2590448558330536\n"
     ]
    },
    {
     "name": "stderr",
     "output_type": "stream",
     "text": [
      "Epoch 775: 100%|██████████| 7/7 [00:00<00:00, 95.88batch/s, acc=0.262, loss=nan]\n"
     ]
    },
    {
     "name": "stdout",
     "output_type": "stream",
     "text": [
      "Epoch 775 validation: negative log likelihood loss=nan, Accuracy=0.2590448558330536\n"
     ]
    },
    {
     "name": "stderr",
     "output_type": "stream",
     "text": [
      "Epoch 776: 100%|██████████| 7/7 [00:00<00:00, 101.45batch/s, acc=0.262, loss=nan]\n"
     ]
    },
    {
     "name": "stdout",
     "output_type": "stream",
     "text": [
      "Epoch 776 validation: negative log likelihood loss=nan, Accuracy=0.2590448558330536\n"
     ]
    },
    {
     "name": "stderr",
     "output_type": "stream",
     "text": [
      "Epoch 777: 100%|██████████| 7/7 [00:00<00:00, 104.48batch/s, acc=0.262, loss=nan]\n"
     ]
    },
    {
     "name": "stdout",
     "output_type": "stream",
     "text": [
      "Epoch 777 validation: negative log likelihood loss=nan, Accuracy=0.2590448558330536\n"
     ]
    },
    {
     "name": "stderr",
     "output_type": "stream",
     "text": [
      "Epoch 778: 100%|██████████| 7/7 [00:00<00:00, 97.23batch/s, acc=0.262, loss=nan]\n"
     ]
    },
    {
     "name": "stdout",
     "output_type": "stream",
     "text": [
      "Epoch 778 validation: negative log likelihood loss=nan, Accuracy=0.2590448558330536\n"
     ]
    },
    {
     "name": "stderr",
     "output_type": "stream",
     "text": [
      "Epoch 779: 100%|██████████| 7/7 [00:00<00:00, 92.11batch/s, acc=0.262, loss=nan]\n"
     ]
    },
    {
     "name": "stdout",
     "output_type": "stream",
     "text": [
      "Epoch 779 validation: negative log likelihood loss=nan, Accuracy=0.2590448558330536\n"
     ]
    },
    {
     "name": "stderr",
     "output_type": "stream",
     "text": [
      "Epoch 780: 100%|██████████| 7/7 [00:00<00:00, 90.91batch/s, acc=0.262, loss=nan]\n"
     ]
    },
    {
     "name": "stdout",
     "output_type": "stream",
     "text": [
      "Epoch 780 validation: negative log likelihood loss=nan, Accuracy=0.2590448558330536\n"
     ]
    },
    {
     "name": "stderr",
     "output_type": "stream",
     "text": [
      "Epoch 781: 100%|██████████| 7/7 [00:00<00:00, 83.33batch/s, acc=0.262, loss=nan]\n"
     ]
    },
    {
     "name": "stdout",
     "output_type": "stream",
     "text": [
      "Epoch 781 validation: negative log likelihood loss=nan, Accuracy=0.2590448558330536\n"
     ]
    },
    {
     "name": "stderr",
     "output_type": "stream",
     "text": [
      "Epoch 782: 100%|██████████| 7/7 [00:00<00:00, 46.05batch/s, acc=0.262, loss=nan]\n"
     ]
    },
    {
     "name": "stdout",
     "output_type": "stream",
     "text": [
      "Epoch 782 validation: negative log likelihood loss=nan, Accuracy=0.2590448558330536\n"
     ]
    },
    {
     "name": "stderr",
     "output_type": "stream",
     "text": [
      "Epoch 783: 100%|██████████| 7/7 [00:00<00:00, 94.59batch/s, acc=0.262, loss=nan]\n"
     ]
    },
    {
     "name": "stdout",
     "output_type": "stream",
     "text": [
      "Epoch 783 validation: negative log likelihood loss=nan, Accuracy=0.2590448558330536\n"
     ]
    },
    {
     "name": "stderr",
     "output_type": "stream",
     "text": [
      "Epoch 784: 100%|██████████| 7/7 [00:00<00:00, 97.22batch/s, acc=0.262, loss=nan]\n"
     ]
    },
    {
     "name": "stdout",
     "output_type": "stream",
     "text": [
      "Epoch 784 validation: negative log likelihood loss=nan, Accuracy=0.2590448558330536\n"
     ]
    },
    {
     "name": "stderr",
     "output_type": "stream",
     "text": [
      "Epoch 785: 100%|██████████| 7/7 [00:00<00:00, 100.00batch/s, acc=0.262, loss=nan]\n"
     ]
    },
    {
     "name": "stdout",
     "output_type": "stream",
     "text": [
      "Epoch 785 validation: negative log likelihood loss=nan, Accuracy=0.2590448558330536\n"
     ]
    },
    {
     "name": "stderr",
     "output_type": "stream",
     "text": [
      "Epoch 786: 100%|██████████| 7/7 [00:00<00:00, 95.89batch/s, acc=0.262, loss=nan]\n"
     ]
    },
    {
     "name": "stdout",
     "output_type": "stream",
     "text": [
      "Epoch 786 validation: negative log likelihood loss=nan, Accuracy=0.2590448558330536\n"
     ]
    },
    {
     "name": "stderr",
     "output_type": "stream",
     "text": [
      "Epoch 787: 100%|██████████| 7/7 [00:00<00:00, 93.33batch/s, acc=0.262, loss=nan]\n"
     ]
    },
    {
     "name": "stdout",
     "output_type": "stream",
     "text": [
      "Epoch 787 validation: negative log likelihood loss=nan, Accuracy=0.2590448558330536\n"
     ]
    },
    {
     "name": "stderr",
     "output_type": "stream",
     "text": [
      "Epoch 788: 100%|██████████| 7/7 [00:00<00:00, 95.90batch/s, acc=0.262, loss=nan] \n"
     ]
    },
    {
     "name": "stdout",
     "output_type": "stream",
     "text": [
      "Epoch 788 validation: negative log likelihood loss=nan, Accuracy=0.2590448558330536\n"
     ]
    },
    {
     "name": "stderr",
     "output_type": "stream",
     "text": [
      "Epoch 789: 100%|██████████| 7/7 [00:00<00:00, 87.50batch/s, acc=0.262, loss=nan]\n"
     ]
    },
    {
     "name": "stdout",
     "output_type": "stream",
     "text": [
      "Epoch 789 validation: negative log likelihood loss=nan, Accuracy=0.2590448558330536\n"
     ]
    },
    {
     "name": "stderr",
     "output_type": "stream",
     "text": [
      "Epoch 790: 100%|██████████| 7/7 [00:00<00:00, 93.33batch/s, acc=0.262, loss=nan]\n"
     ]
    },
    {
     "name": "stdout",
     "output_type": "stream",
     "text": [
      "Epoch 790 validation: negative log likelihood loss=nan, Accuracy=0.2590448558330536\n"
     ]
    },
    {
     "name": "stderr",
     "output_type": "stream",
     "text": [
      "Epoch 791: 100%|██████████| 7/7 [00:00<00:00, 43.21batch/s, acc=0.262, loss=nan]\n"
     ]
    },
    {
     "name": "stdout",
     "output_type": "stream",
     "text": [
      "Epoch 791 validation: negative log likelihood loss=nan, Accuracy=0.2590448558330536\n"
     ]
    },
    {
     "name": "stderr",
     "output_type": "stream",
     "text": [
      "Epoch 792: 100%|██████████| 7/7 [00:00<00:00, 92.11batch/s, acc=0.262, loss=nan]\n"
     ]
    },
    {
     "name": "stdout",
     "output_type": "stream",
     "text": [
      "Epoch 792 validation: negative log likelihood loss=nan, Accuracy=0.2590448558330536\n"
     ]
    },
    {
     "name": "stderr",
     "output_type": "stream",
     "text": [
      "Epoch 793: 100%|██████████| 7/7 [00:00<00:00, 94.59batch/s, acc=0.262, loss=nan]\n"
     ]
    },
    {
     "name": "stdout",
     "output_type": "stream",
     "text": [
      "Epoch 793 validation: negative log likelihood loss=nan, Accuracy=0.2590448558330536\n"
     ]
    },
    {
     "name": "stderr",
     "output_type": "stream",
     "text": [
      "Epoch 794: 100%|██████████| 7/7 [00:00<00:00, 95.89batch/s, acc=0.262, loss=nan]\n"
     ]
    },
    {
     "name": "stdout",
     "output_type": "stream",
     "text": [
      "Epoch 794 validation: negative log likelihood loss=nan, Accuracy=0.2590448558330536\n"
     ]
    },
    {
     "name": "stderr",
     "output_type": "stream",
     "text": [
      "Epoch 795: 100%|██████████| 7/7 [00:00<00:00, 95.89batch/s, acc=0.262, loss=nan] \n"
     ]
    },
    {
     "name": "stdout",
     "output_type": "stream",
     "text": [
      "Epoch 795 validation: negative log likelihood loss=nan, Accuracy=0.2590448558330536\n"
     ]
    },
    {
     "name": "stderr",
     "output_type": "stream",
     "text": [
      "Epoch 796: 100%|██████████| 7/7 [00:00<00:00, 93.33batch/s, acc=0.262, loss=nan]\n"
     ]
    },
    {
     "name": "stdout",
     "output_type": "stream",
     "text": [
      "Epoch 796 validation: negative log likelihood loss=nan, Accuracy=0.2590448558330536\n"
     ]
    },
    {
     "name": "stderr",
     "output_type": "stream",
     "text": [
      "Epoch 797: 100%|██████████| 7/7 [00:00<00:00, 93.33batch/s, acc=0.262, loss=nan]\n"
     ]
    },
    {
     "name": "stdout",
     "output_type": "stream",
     "text": [
      "Epoch 797 validation: negative log likelihood loss=nan, Accuracy=0.2590448558330536\n"
     ]
    },
    {
     "name": "stderr",
     "output_type": "stream",
     "text": [
      "Epoch 798: 100%|██████████| 7/7 [00:00<00:00, 74.47batch/s, acc=0.262, loss=nan]\n"
     ]
    },
    {
     "name": "stdout",
     "output_type": "stream",
     "text": [
      "Epoch 798 validation: negative log likelihood loss=nan, Accuracy=0.2590448558330536\n"
     ]
    },
    {
     "name": "stderr",
     "output_type": "stream",
     "text": [
      "Epoch 799: 100%|██████████| 7/7 [00:00<00:00, 89.75batch/s, acc=0.262, loss=nan]\n"
     ]
    },
    {
     "name": "stdout",
     "output_type": "stream",
     "text": [
      "Epoch 799 validation: negative log likelihood loss=nan, Accuracy=0.2590448558330536\n"
     ]
    },
    {
     "name": "stderr",
     "output_type": "stream",
     "text": [
      "Epoch 800: 100%|██████████| 7/7 [00:00<00:00, 93.33batch/s, acc=0.262, loss=nan]\n"
     ]
    },
    {
     "name": "stdout",
     "output_type": "stream",
     "text": [
      "Epoch 800 validation: negative log likelihood loss=nan, Accuracy=0.2590448558330536\n"
     ]
    },
    {
     "name": "stderr",
     "output_type": "stream",
     "text": [
      "Epoch 801: 100%|██████████| 7/7 [00:00<00:00, 92.11batch/s, acc=0.262, loss=nan]\n"
     ]
    },
    {
     "name": "stdout",
     "output_type": "stream",
     "text": [
      "Epoch 801 validation: negative log likelihood loss=nan, Accuracy=0.2590448558330536\n"
     ]
    },
    {
     "name": "stderr",
     "output_type": "stream",
     "text": [
      "Epoch 802: 100%|██████████| 7/7 [00:00<00:00, 92.10batch/s, acc=0.262, loss=nan]\n"
     ]
    },
    {
     "name": "stdout",
     "output_type": "stream",
     "text": [
      "Epoch 802 validation: negative log likelihood loss=nan, Accuracy=0.2590448558330536\n"
     ]
    },
    {
     "name": "stderr",
     "output_type": "stream",
     "text": [
      "Epoch 803: 100%|██████████| 7/7 [00:00<00:00, 93.33batch/s, acc=0.262, loss=nan]\n"
     ]
    },
    {
     "name": "stdout",
     "output_type": "stream",
     "text": [
      "Epoch 803 validation: negative log likelihood loss=nan, Accuracy=0.2590448558330536\n"
     ]
    },
    {
     "name": "stderr",
     "output_type": "stream",
     "text": [
      "Epoch 804: 100%|██████████| 7/7 [00:00<00:00, 101.45batch/s, acc=0.262, loss=nan]\n"
     ]
    },
    {
     "name": "stdout",
     "output_type": "stream",
     "text": [
      "Epoch 804 validation: negative log likelihood loss=nan, Accuracy=0.2590448558330536\n"
     ]
    },
    {
     "name": "stderr",
     "output_type": "stream",
     "text": [
      "Epoch 805: 100%|██████████| 7/7 [00:00<00:00, 101.45batch/s, acc=0.262, loss=nan]\n"
     ]
    },
    {
     "name": "stdout",
     "output_type": "stream",
     "text": [
      "Epoch 805 validation: negative log likelihood loss=nan, Accuracy=0.2590448558330536\n"
     ]
    },
    {
     "name": "stderr",
     "output_type": "stream",
     "text": [
      "Epoch 806: 100%|██████████| 7/7 [00:00<00:00, 94.59batch/s, acc=0.262, loss=nan]\n"
     ]
    },
    {
     "name": "stdout",
     "output_type": "stream",
     "text": [
      "Epoch 806 validation: negative log likelihood loss=nan, Accuracy=0.2590448558330536\n"
     ]
    },
    {
     "name": "stderr",
     "output_type": "stream",
     "text": [
      "Epoch 807: 100%|██████████| 7/7 [00:00<00:00, 93.33batch/s, acc=0.262, loss=nan]\n"
     ]
    },
    {
     "name": "stdout",
     "output_type": "stream",
     "text": [
      "Epoch 807 validation: negative log likelihood loss=nan, Accuracy=0.2590448558330536\n"
     ]
    },
    {
     "name": "stderr",
     "output_type": "stream",
     "text": [
      "Epoch 808: 100%|██████████| 7/7 [00:00<00:00, 97.22batch/s, acc=0.262, loss=nan] \n"
     ]
    },
    {
     "name": "stdout",
     "output_type": "stream",
     "text": [
      "Epoch 808 validation: negative log likelihood loss=nan, Accuracy=0.2590448558330536\n"
     ]
    },
    {
     "name": "stderr",
     "output_type": "stream",
     "text": [
      "Epoch 809: 100%|██████████| 7/7 [00:00<00:00, 97.23batch/s, acc=0.262, loss=nan] \n"
     ]
    },
    {
     "name": "stdout",
     "output_type": "stream",
     "text": [
      "Epoch 809 validation: negative log likelihood loss=nan, Accuracy=0.2590448558330536\n"
     ]
    },
    {
     "name": "stderr",
     "output_type": "stream",
     "text": [
      "Epoch 810: 100%|██████████| 7/7 [00:00<00:00, 97.22batch/s, acc=0.262, loss=nan] \n"
     ]
    },
    {
     "name": "stdout",
     "output_type": "stream",
     "text": [
      "Epoch 810 validation: negative log likelihood loss=nan, Accuracy=0.2590448558330536\n"
     ]
    },
    {
     "name": "stderr",
     "output_type": "stream",
     "text": [
      "Epoch 811: 100%|██████████| 7/7 [00:00<00:00, 97.22batch/s, acc=0.262, loss=nan]\n"
     ]
    },
    {
     "name": "stdout",
     "output_type": "stream",
     "text": [
      "Epoch 811 validation: negative log likelihood loss=nan, Accuracy=0.2590448558330536\n"
     ]
    },
    {
     "name": "stderr",
     "output_type": "stream",
     "text": [
      "Epoch 812: 100%|██████████| 7/7 [00:00<00:00, 44.03batch/s, acc=0.262, loss=nan]\n"
     ]
    },
    {
     "name": "stdout",
     "output_type": "stream",
     "text": [
      "Epoch 812 validation: negative log likelihood loss=nan, Accuracy=0.2590448558330536\n"
     ]
    },
    {
     "name": "stderr",
     "output_type": "stream",
     "text": [
      "Epoch 813: 100%|██████████| 7/7 [00:00<00:00, 95.89batch/s, acc=0.262, loss=nan] \n"
     ]
    },
    {
     "name": "stdout",
     "output_type": "stream",
     "text": [
      "Epoch 813 validation: negative log likelihood loss=nan, Accuracy=0.2590448558330536\n"
     ]
    },
    {
     "name": "stderr",
     "output_type": "stream",
     "text": [
      "Epoch 814: 100%|██████████| 7/7 [00:00<00:00, 97.22batch/s, acc=0.262, loss=nan] \n"
     ]
    },
    {
     "name": "stdout",
     "output_type": "stream",
     "text": [
      "Epoch 814 validation: negative log likelihood loss=nan, Accuracy=0.2590448558330536\n"
     ]
    },
    {
     "name": "stderr",
     "output_type": "stream",
     "text": [
      "Epoch 815: 100%|██████████| 7/7 [00:00<00:00, 92.11batch/s, acc=0.262, loss=nan]\n"
     ]
    },
    {
     "name": "stdout",
     "output_type": "stream",
     "text": [
      "Epoch 815 validation: negative log likelihood loss=nan, Accuracy=0.2590448558330536\n"
     ]
    },
    {
     "name": "stderr",
     "output_type": "stream",
     "text": [
      "Epoch 816: 100%|██████████| 7/7 [00:00<00:00, 94.60batch/s, acc=0.262, loss=nan]\n"
     ]
    },
    {
     "name": "stdout",
     "output_type": "stream",
     "text": [
      "Epoch 816 validation: negative log likelihood loss=nan, Accuracy=0.2590448558330536\n"
     ]
    },
    {
     "name": "stderr",
     "output_type": "stream",
     "text": [
      "Epoch 817: 100%|██████████| 7/7 [00:00<00:00, 94.59batch/s, acc=0.262, loss=nan]\n"
     ]
    },
    {
     "name": "stdout",
     "output_type": "stream",
     "text": [
      "Epoch 817 validation: negative log likelihood loss=nan, Accuracy=0.2590448558330536\n"
     ]
    },
    {
     "name": "stderr",
     "output_type": "stream",
     "text": [
      "Epoch 818: 100%|██████████| 7/7 [00:00<00:00, 98.59batch/s, acc=0.262, loss=nan] \n"
     ]
    },
    {
     "name": "stdout",
     "output_type": "stream",
     "text": [
      "Epoch 818 validation: negative log likelihood loss=nan, Accuracy=0.2590448558330536\n"
     ]
    },
    {
     "name": "stderr",
     "output_type": "stream",
     "text": [
      "Epoch 819: 100%|██████████| 7/7 [00:00<00:00, 98.59batch/s, acc=0.262, loss=nan] \n"
     ]
    },
    {
     "name": "stdout",
     "output_type": "stream",
     "text": [
      "Epoch 819 validation: negative log likelihood loss=nan, Accuracy=0.2590448558330536\n"
     ]
    },
    {
     "name": "stderr",
     "output_type": "stream",
     "text": [
      "Epoch 820: 100%|██████████| 7/7 [00:00<00:00, 97.22batch/s, acc=0.262, loss=nan]\n"
     ]
    },
    {
     "name": "stdout",
     "output_type": "stream",
     "text": [
      "Epoch 820 validation: negative log likelihood loss=nan, Accuracy=0.2590448558330536\n"
     ]
    },
    {
     "name": "stderr",
     "output_type": "stream",
     "text": [
      "Epoch 821: 100%|██████████| 7/7 [00:00<00:00, 95.89batch/s, acc=0.262, loss=nan] \n"
     ]
    },
    {
     "name": "stdout",
     "output_type": "stream",
     "text": [
      "Epoch 821 validation: negative log likelihood loss=nan, Accuracy=0.2590448558330536\n"
     ]
    },
    {
     "name": "stderr",
     "output_type": "stream",
     "text": [
      "Epoch 822: 100%|██████████| 7/7 [00:00<00:00, 100.00batch/s, acc=0.262, loss=nan]\n"
     ]
    },
    {
     "name": "stdout",
     "output_type": "stream",
     "text": [
      "Epoch 822 validation: negative log likelihood loss=nan, Accuracy=0.2590448558330536\n"
     ]
    },
    {
     "name": "stderr",
     "output_type": "stream",
     "text": [
      "Epoch 823: 100%|██████████| 7/7 [00:00<00:00, 101.45batch/s, acc=0.262, loss=nan]\n"
     ]
    },
    {
     "name": "stdout",
     "output_type": "stream",
     "text": [
      "Epoch 823 validation: negative log likelihood loss=nan, Accuracy=0.2590448558330536\n"
     ]
    },
    {
     "name": "stderr",
     "output_type": "stream",
     "text": [
      "Epoch 824: 100%|██████████| 7/7 [00:00<00:00, 89.75batch/s, acc=0.262, loss=nan]\n"
     ]
    },
    {
     "name": "stdout",
     "output_type": "stream",
     "text": [
      "Epoch 824 validation: negative log likelihood loss=nan, Accuracy=0.2590448558330536\n"
     ]
    },
    {
     "name": "stderr",
     "output_type": "stream",
     "text": [
      "Epoch 825: 100%|██████████| 7/7 [00:00<00:00, 46.05batch/s, acc=0.262, loss=nan]\n"
     ]
    },
    {
     "name": "stdout",
     "output_type": "stream",
     "text": [
      "Epoch 825 validation: negative log likelihood loss=nan, Accuracy=0.2590448558330536\n"
     ]
    },
    {
     "name": "stderr",
     "output_type": "stream",
     "text": [
      "Epoch 826: 100%|██████████| 7/7 [00:00<00:00, 94.60batch/s, acc=0.262, loss=nan]\n"
     ]
    },
    {
     "name": "stdout",
     "output_type": "stream",
     "text": [
      "Epoch 826 validation: negative log likelihood loss=nan, Accuracy=0.2590448558330536\n"
     ]
    },
    {
     "name": "stderr",
     "output_type": "stream",
     "text": [
      "Epoch 827: 100%|██████████| 7/7 [00:00<00:00, 94.59batch/s, acc=0.262, loss=nan]\n"
     ]
    },
    {
     "name": "stdout",
     "output_type": "stream",
     "text": [
      "Epoch 827 validation: negative log likelihood loss=nan, Accuracy=0.2590448558330536\n"
     ]
    },
    {
     "name": "stderr",
     "output_type": "stream",
     "text": [
      "Epoch 828: 100%|██████████| 7/7 [00:00<00:00, 97.22batch/s, acc=0.262, loss=nan] \n"
     ]
    },
    {
     "name": "stdout",
     "output_type": "stream",
     "text": [
      "Epoch 828 validation: negative log likelihood loss=nan, Accuracy=0.2590448558330536\n"
     ]
    },
    {
     "name": "stderr",
     "output_type": "stream",
     "text": [
      "Epoch 829: 100%|██████████| 7/7 [00:00<00:00, 100.00batch/s, acc=0.262, loss=nan]\n"
     ]
    },
    {
     "name": "stdout",
     "output_type": "stream",
     "text": [
      "Epoch 829 validation: negative log likelihood loss=nan, Accuracy=0.2590448558330536\n"
     ]
    },
    {
     "name": "stderr",
     "output_type": "stream",
     "text": [
      "Epoch 830: 100%|██████████| 7/7 [00:00<00:00, 97.22batch/s, acc=0.262, loss=nan] \n"
     ]
    },
    {
     "name": "stdout",
     "output_type": "stream",
     "text": [
      "Epoch 830 validation: negative log likelihood loss=nan, Accuracy=0.2590448558330536\n"
     ]
    },
    {
     "name": "stderr",
     "output_type": "stream",
     "text": [
      "Epoch 831: 100%|██████████| 7/7 [00:00<00:00, 95.89batch/s, acc=0.262, loss=nan]\n"
     ]
    },
    {
     "name": "stdout",
     "output_type": "stream",
     "text": [
      "Epoch 831 validation: negative log likelihood loss=nan, Accuracy=0.2590448558330536\n"
     ]
    },
    {
     "name": "stderr",
     "output_type": "stream",
     "text": [
      "Epoch 832: 100%|██████████| 7/7 [00:00<00:00, 90.92batch/s, acc=0.262, loss=nan]\n"
     ]
    },
    {
     "name": "stdout",
     "output_type": "stream",
     "text": [
      "Epoch 832 validation: negative log likelihood loss=nan, Accuracy=0.2590448558330536\n"
     ]
    },
    {
     "name": "stderr",
     "output_type": "stream",
     "text": [
      "Epoch 833: 100%|██████████| 7/7 [00:00<00:00, 100.00batch/s, acc=0.262, loss=nan]\n"
     ]
    },
    {
     "name": "stdout",
     "output_type": "stream",
     "text": [
      "Epoch 833 validation: negative log likelihood loss=nan, Accuracy=0.2590448558330536\n"
     ]
    },
    {
     "name": "stderr",
     "output_type": "stream",
     "text": [
      "Epoch 834: 100%|██████████| 7/7 [00:00<00:00, 101.45batch/s, acc=0.262, loss=nan]\n"
     ]
    },
    {
     "name": "stdout",
     "output_type": "stream",
     "text": [
      "Epoch 834 validation: negative log likelihood loss=nan, Accuracy=0.2590448558330536\n"
     ]
    },
    {
     "name": "stderr",
     "output_type": "stream",
     "text": [
      "Epoch 835: 100%|██████████| 7/7 [00:00<00:00, 100.00batch/s, acc=0.262, loss=nan]\n"
     ]
    },
    {
     "name": "stdout",
     "output_type": "stream",
     "text": [
      "Epoch 835 validation: negative log likelihood loss=nan, Accuracy=0.2590448558330536\n"
     ]
    },
    {
     "name": "stderr",
     "output_type": "stream",
     "text": [
      "Epoch 836: 100%|██████████| 7/7 [00:00<00:00, 101.45batch/s, acc=0.262, loss=nan]\n"
     ]
    },
    {
     "name": "stdout",
     "output_type": "stream",
     "text": [
      "Epoch 836 validation: negative log likelihood loss=nan, Accuracy=0.2590448558330536\n"
     ]
    },
    {
     "name": "stderr",
     "output_type": "stream",
     "text": [
      "Epoch 837: 100%|██████████| 7/7 [00:00<00:00, 101.46batch/s, acc=0.262, loss=nan]\n"
     ]
    },
    {
     "name": "stdout",
     "output_type": "stream",
     "text": [
      "Epoch 837 validation: negative log likelihood loss=nan, Accuracy=0.2590448558330536\n"
     ]
    },
    {
     "name": "stderr",
     "output_type": "stream",
     "text": [
      "Epoch 838: 100%|██████████| 7/7 [00:00<00:00, 107.69batch/s, acc=0.262, loss=nan]\n"
     ]
    },
    {
     "name": "stdout",
     "output_type": "stream",
     "text": [
      "Epoch 838 validation: negative log likelihood loss=nan, Accuracy=0.2590448558330536\n"
     ]
    },
    {
     "name": "stderr",
     "output_type": "stream",
     "text": [
      "Epoch 839: 100%|██████████| 7/7 [00:00<00:00, 100.00batch/s, acc=0.262, loss=nan]\n"
     ]
    },
    {
     "name": "stdout",
     "output_type": "stream",
     "text": [
      "Epoch 839 validation: negative log likelihood loss=nan, Accuracy=0.2590448558330536\n"
     ]
    },
    {
     "name": "stderr",
     "output_type": "stream",
     "text": [
      "Epoch 840: 100%|██████████| 7/7 [00:00<00:00, 101.45batch/s, acc=0.262, loss=nan]\n"
     ]
    },
    {
     "name": "stdout",
     "output_type": "stream",
     "text": [
      "Epoch 840 validation: negative log likelihood loss=nan, Accuracy=0.2590448558330536\n"
     ]
    },
    {
     "name": "stderr",
     "output_type": "stream",
     "text": [
      "Epoch 841: 100%|██████████| 7/7 [00:00<00:00, 104.48batch/s, acc=0.262, loss=nan]\n"
     ]
    },
    {
     "name": "stdout",
     "output_type": "stream",
     "text": [
      "Epoch 841 validation: negative log likelihood loss=nan, Accuracy=0.2590448558330536\n"
     ]
    },
    {
     "name": "stderr",
     "output_type": "stream",
     "text": [
      "Epoch 842: 100%|██████████| 7/7 [00:00<00:00, 98.60batch/s, acc=0.262, loss=nan] \n"
     ]
    },
    {
     "name": "stdout",
     "output_type": "stream",
     "text": [
      "Epoch 842 validation: negative log likelihood loss=nan, Accuracy=0.2590448558330536\n"
     ]
    },
    {
     "name": "stderr",
     "output_type": "stream",
     "text": [
      "Epoch 843: 100%|██████████| 7/7 [00:00<00:00, 97.22batch/s, acc=0.262, loss=nan] \n"
     ]
    },
    {
     "name": "stdout",
     "output_type": "stream",
     "text": [
      "Epoch 843 validation: negative log likelihood loss=nan, Accuracy=0.2590448558330536\n"
     ]
    },
    {
     "name": "stderr",
     "output_type": "stream",
     "text": [
      "Epoch 844: 100%|██████████| 7/7 [00:00<00:00, 53.85batch/s, acc=0.262, loss=nan]\n"
     ]
    },
    {
     "name": "stdout",
     "output_type": "stream",
     "text": [
      "Epoch 844 validation: negative log likelihood loss=nan, Accuracy=0.2590448558330536\n"
     ]
    },
    {
     "name": "stderr",
     "output_type": "stream",
     "text": [
      "Epoch 845: 100%|██████████| 7/7 [00:00<00:00, 101.46batch/s, acc=0.262, loss=nan]\n"
     ]
    },
    {
     "name": "stdout",
     "output_type": "stream",
     "text": [
      "Epoch 845 validation: negative log likelihood loss=nan, Accuracy=0.2590448558330536\n"
     ]
    },
    {
     "name": "stderr",
     "output_type": "stream",
     "text": [
      "Epoch 846: 100%|██████████| 7/7 [00:00<00:00, 98.60batch/s, acc=0.262, loss=nan] \n"
     ]
    },
    {
     "name": "stdout",
     "output_type": "stream",
     "text": [
      "Epoch 846 validation: negative log likelihood loss=nan, Accuracy=0.2590448558330536\n"
     ]
    },
    {
     "name": "stderr",
     "output_type": "stream",
     "text": [
      "Epoch 847: 100%|██████████| 7/7 [00:00<00:00, 106.06batch/s, acc=0.262, loss=nan]\n"
     ]
    },
    {
     "name": "stdout",
     "output_type": "stream",
     "text": [
      "Epoch 847 validation: negative log likelihood loss=nan, Accuracy=0.2590448558330536\n"
     ]
    },
    {
     "name": "stderr",
     "output_type": "stream",
     "text": [
      "Epoch 848: 100%|██████████| 7/7 [00:00<00:00, 102.94batch/s, acc=0.262, loss=nan]\n"
     ]
    },
    {
     "name": "stdout",
     "output_type": "stream",
     "text": [
      "Epoch 848 validation: negative log likelihood loss=nan, Accuracy=0.2590448558330536\n"
     ]
    },
    {
     "name": "stderr",
     "output_type": "stream",
     "text": [
      "Epoch 849: 100%|██████████| 7/7 [00:00<00:00, 106.06batch/s, acc=0.262, loss=nan]\n"
     ]
    },
    {
     "name": "stdout",
     "output_type": "stream",
     "text": [
      "Epoch 849 validation: negative log likelihood loss=nan, Accuracy=0.2590448558330536\n"
     ]
    },
    {
     "name": "stderr",
     "output_type": "stream",
     "text": [
      "Epoch 850: 100%|██████████| 7/7 [00:00<00:00, 102.94batch/s, acc=0.262, loss=nan]\n"
     ]
    },
    {
     "name": "stdout",
     "output_type": "stream",
     "text": [
      "Epoch 850 validation: negative log likelihood loss=nan, Accuracy=0.2590448558330536\n"
     ]
    },
    {
     "name": "stderr",
     "output_type": "stream",
     "text": [
      "Epoch 851: 100%|██████████| 7/7 [00:00<00:00, 95.89batch/s, acc=0.262, loss=nan]\n"
     ]
    },
    {
     "name": "stdout",
     "output_type": "stream",
     "text": [
      "Epoch 851 validation: negative log likelihood loss=nan, Accuracy=0.2590448558330536\n"
     ]
    },
    {
     "name": "stderr",
     "output_type": "stream",
     "text": [
      "Epoch 852: 100%|██████████| 7/7 [00:00<00:00, 95.89batch/s, acc=0.262, loss=nan]\n"
     ]
    },
    {
     "name": "stdout",
     "output_type": "stream",
     "text": [
      "Epoch 852 validation: negative log likelihood loss=nan, Accuracy=0.2590448558330536\n"
     ]
    },
    {
     "name": "stderr",
     "output_type": "stream",
     "text": [
      "Epoch 853: 100%|██████████| 7/7 [00:00<00:00, 100.00batch/s, acc=0.262, loss=nan]\n"
     ]
    },
    {
     "name": "stdout",
     "output_type": "stream",
     "text": [
      "Epoch 853 validation: negative log likelihood loss=nan, Accuracy=0.2590448558330536\n"
     ]
    },
    {
     "name": "stderr",
     "output_type": "stream",
     "text": [
      "Epoch 854: 100%|██████████| 7/7 [00:00<00:00, 98.60batch/s, acc=0.262, loss=nan] \n"
     ]
    },
    {
     "name": "stdout",
     "output_type": "stream",
     "text": [
      "Epoch 854 validation: negative log likelihood loss=nan, Accuracy=0.2590448558330536\n"
     ]
    },
    {
     "name": "stderr",
     "output_type": "stream",
     "text": [
      "Epoch 855: 100%|██████████| 7/7 [00:00<00:00, 46.67batch/s, acc=0.262, loss=nan]\n"
     ]
    },
    {
     "name": "stdout",
     "output_type": "stream",
     "text": [
      "Epoch 855 validation: negative log likelihood loss=nan, Accuracy=0.2590448558330536\n"
     ]
    },
    {
     "name": "stderr",
     "output_type": "stream",
     "text": [
      "Epoch 856: 100%|██████████| 7/7 [00:00<00:00, 87.50batch/s, acc=0.262, loss=nan]\n"
     ]
    },
    {
     "name": "stdout",
     "output_type": "stream",
     "text": [
      "Epoch 856 validation: negative log likelihood loss=nan, Accuracy=0.2590448558330536\n"
     ]
    },
    {
     "name": "stderr",
     "output_type": "stream",
     "text": [
      "Epoch 857: 100%|██████████| 7/7 [00:00<00:00, 87.50batch/s, acc=0.262, loss=nan]\n"
     ]
    },
    {
     "name": "stdout",
     "output_type": "stream",
     "text": [
      "Epoch 857 validation: negative log likelihood loss=nan, Accuracy=0.2590448558330536\n"
     ]
    },
    {
     "name": "stderr",
     "output_type": "stream",
     "text": [
      "Epoch 858: 100%|██████████| 7/7 [00:00<00:00, 87.50batch/s, acc=0.262, loss=nan]\n"
     ]
    },
    {
     "name": "stdout",
     "output_type": "stream",
     "text": [
      "Epoch 858 validation: negative log likelihood loss=nan, Accuracy=0.2590448558330536\n"
     ]
    },
    {
     "name": "stderr",
     "output_type": "stream",
     "text": [
      "Epoch 859: 100%|██████████| 7/7 [00:00<00:00, 89.74batch/s, acc=0.262, loss=nan]\n"
     ]
    },
    {
     "name": "stdout",
     "output_type": "stream",
     "text": [
      "Epoch 859 validation: negative log likelihood loss=nan, Accuracy=0.2590448558330536\n"
     ]
    },
    {
     "name": "stderr",
     "output_type": "stream",
     "text": [
      "Epoch 860: 100%|██████████| 7/7 [00:00<00:00, 79.55batch/s, acc=0.262, loss=nan]\n"
     ]
    },
    {
     "name": "stdout",
     "output_type": "stream",
     "text": [
      "Epoch 860 validation: negative log likelihood loss=nan, Accuracy=0.2590448558330536\n"
     ]
    },
    {
     "name": "stderr",
     "output_type": "stream",
     "text": [
      "Epoch 861: 100%|██████████| 7/7 [00:00<00:00, 90.91batch/s, acc=0.262, loss=nan]\n"
     ]
    },
    {
     "name": "stdout",
     "output_type": "stream",
     "text": [
      "Epoch 861 validation: negative log likelihood loss=nan, Accuracy=0.2590448558330536\n"
     ]
    },
    {
     "name": "stderr",
     "output_type": "stream",
     "text": [
      "Epoch 862: 100%|██████████| 7/7 [00:00<00:00, 101.45batch/s, acc=0.262, loss=nan]\n"
     ]
    },
    {
     "name": "stdout",
     "output_type": "stream",
     "text": [
      "Epoch 862 validation: negative log likelihood loss=nan, Accuracy=0.2590448558330536\n"
     ]
    },
    {
     "name": "stderr",
     "output_type": "stream",
     "text": [
      "Epoch 863: 100%|██████████| 7/7 [00:00<00:00, 46.67batch/s, acc=0.262, loss=nan]\n"
     ]
    },
    {
     "name": "stdout",
     "output_type": "stream",
     "text": [
      "Epoch 863 validation: negative log likelihood loss=nan, Accuracy=0.2590448558330536\n"
     ]
    },
    {
     "name": "stderr",
     "output_type": "stream",
     "text": [
      "Epoch 864: 100%|██████████| 7/7 [00:00<00:00, 100.00batch/s, acc=0.262, loss=nan]\n"
     ]
    },
    {
     "name": "stdout",
     "output_type": "stream",
     "text": [
      "Epoch 864 validation: negative log likelihood loss=nan, Accuracy=0.2590448558330536\n"
     ]
    },
    {
     "name": "stderr",
     "output_type": "stream",
     "text": [
      "Epoch 865: 100%|██████████| 7/7 [00:00<00:00, 95.90batch/s, acc=0.262, loss=nan] \n"
     ]
    },
    {
     "name": "stdout",
     "output_type": "stream",
     "text": [
      "Epoch 865 validation: negative log likelihood loss=nan, Accuracy=0.2590448558330536\n"
     ]
    },
    {
     "name": "stderr",
     "output_type": "stream",
     "text": [
      "Epoch 866: 100%|██████████| 7/7 [00:00<00:00, 98.60batch/s, acc=0.262, loss=nan] \n"
     ]
    },
    {
     "name": "stdout",
     "output_type": "stream",
     "text": [
      "Epoch 866 validation: negative log likelihood loss=nan, Accuracy=0.2590448558330536\n"
     ]
    },
    {
     "name": "stderr",
     "output_type": "stream",
     "text": [
      "Epoch 867: 100%|██████████| 7/7 [00:00<00:00, 93.34batch/s, acc=0.262, loss=nan]\n"
     ]
    },
    {
     "name": "stdout",
     "output_type": "stream",
     "text": [
      "Epoch 867 validation: negative log likelihood loss=nan, Accuracy=0.2590448558330536\n"
     ]
    },
    {
     "name": "stderr",
     "output_type": "stream",
     "text": [
      "Epoch 868: 100%|██████████| 7/7 [00:00<00:00, 94.60batch/s, acc=0.262, loss=nan]\n"
     ]
    },
    {
     "name": "stdout",
     "output_type": "stream",
     "text": [
      "Epoch 868 validation: negative log likelihood loss=nan, Accuracy=0.2590448558330536\n"
     ]
    },
    {
     "name": "stderr",
     "output_type": "stream",
     "text": [
      "Epoch 869: 100%|██████████| 7/7 [00:00<00:00, 94.60batch/s, acc=0.262, loss=nan] \n"
     ]
    },
    {
     "name": "stdout",
     "output_type": "stream",
     "text": [
      "Epoch 869 validation: negative log likelihood loss=nan, Accuracy=0.2590448558330536\n"
     ]
    },
    {
     "name": "stderr",
     "output_type": "stream",
     "text": [
      "Epoch 870: 100%|██████████| 7/7 [00:00<00:00, 90.91batch/s, acc=0.262, loss=nan]\n"
     ]
    },
    {
     "name": "stdout",
     "output_type": "stream",
     "text": [
      "Epoch 870 validation: negative log likelihood loss=nan, Accuracy=0.2590448558330536\n"
     ]
    },
    {
     "name": "stderr",
     "output_type": "stream",
     "text": [
      "Epoch 871: 100%|██████████| 7/7 [00:00<00:00, 102.95batch/s, acc=0.262, loss=nan]\n"
     ]
    },
    {
     "name": "stdout",
     "output_type": "stream",
     "text": [
      "Epoch 871 validation: negative log likelihood loss=nan, Accuracy=0.2590448558330536\n"
     ]
    },
    {
     "name": "stderr",
     "output_type": "stream",
     "text": [
      "Epoch 872: 100%|██████████| 7/7 [00:00<00:00, 51.10batch/s, acc=0.262, loss=nan]\n"
     ]
    },
    {
     "name": "stdout",
     "output_type": "stream",
     "text": [
      "Epoch 872 validation: negative log likelihood loss=nan, Accuracy=0.2590448558330536\n"
     ]
    },
    {
     "name": "stderr",
     "output_type": "stream",
     "text": [
      "Epoch 873: 100%|██████████| 7/7 [00:00<00:00, 92.11batch/s, acc=0.262, loss=nan] \n"
     ]
    },
    {
     "name": "stdout",
     "output_type": "stream",
     "text": [
      "Epoch 873 validation: negative log likelihood loss=nan, Accuracy=0.2590448558330536\n"
     ]
    },
    {
     "name": "stderr",
     "output_type": "stream",
     "text": [
      "Epoch 874: 100%|██████████| 7/7 [00:00<00:00, 98.59batch/s, acc=0.262, loss=nan] \n"
     ]
    },
    {
     "name": "stdout",
     "output_type": "stream",
     "text": [
      "Epoch 874 validation: negative log likelihood loss=nan, Accuracy=0.2590448558330536\n"
     ]
    },
    {
     "name": "stderr",
     "output_type": "stream",
     "text": [
      "Epoch 875: 100%|██████████| 7/7 [00:00<00:00, 100.00batch/s, acc=0.262, loss=nan]\n"
     ]
    },
    {
     "name": "stdout",
     "output_type": "stream",
     "text": [
      "Epoch 875 validation: negative log likelihood loss=nan, Accuracy=0.2590448558330536\n"
     ]
    },
    {
     "name": "stderr",
     "output_type": "stream",
     "text": [
      "Epoch 876: 100%|██████████| 7/7 [00:00<00:00, 98.59batch/s, acc=0.262, loss=nan] \n"
     ]
    },
    {
     "name": "stdout",
     "output_type": "stream",
     "text": [
      "Epoch 876 validation: negative log likelihood loss=nan, Accuracy=0.2590448558330536\n"
     ]
    },
    {
     "name": "stderr",
     "output_type": "stream",
     "text": [
      "Epoch 877: 100%|██████████| 7/7 [00:00<00:00, 84.34batch/s, acc=0.262, loss=nan]\n"
     ]
    },
    {
     "name": "stdout",
     "output_type": "stream",
     "text": [
      "Epoch 877 validation: negative log likelihood loss=nan, Accuracy=0.2590448558330536\n"
     ]
    },
    {
     "name": "stderr",
     "output_type": "stream",
     "text": [
      "Epoch 878: 100%|██████████| 7/7 [00:00<00:00, 98.60batch/s, acc=0.262, loss=nan]\n"
     ]
    },
    {
     "name": "stdout",
     "output_type": "stream",
     "text": [
      "Epoch 878 validation: negative log likelihood loss=nan, Accuracy=0.2590448558330536\n"
     ]
    },
    {
     "name": "stderr",
     "output_type": "stream",
     "text": [
      "Epoch 879: 100%|██████████| 7/7 [00:00<00:00, 104.48batch/s, acc=0.262, loss=nan]\n"
     ]
    },
    {
     "name": "stdout",
     "output_type": "stream",
     "text": [
      "Epoch 879 validation: negative log likelihood loss=nan, Accuracy=0.2590448558330536\n"
     ]
    },
    {
     "name": "stderr",
     "output_type": "stream",
     "text": [
      "Epoch 880: 100%|██████████| 7/7 [00:00<00:00, 100.00batch/s, acc=0.262, loss=nan]\n"
     ]
    },
    {
     "name": "stdout",
     "output_type": "stream",
     "text": [
      "Epoch 880 validation: negative log likelihood loss=nan, Accuracy=0.2590448558330536\n"
     ]
    },
    {
     "name": "stderr",
     "output_type": "stream",
     "text": [
      "Epoch 881: 100%|██████████| 7/7 [00:00<00:00, 100.00batch/s, acc=0.262, loss=nan]\n"
     ]
    },
    {
     "name": "stdout",
     "output_type": "stream",
     "text": [
      "Epoch 881 validation: negative log likelihood loss=nan, Accuracy=0.2590448558330536\n"
     ]
    },
    {
     "name": "stderr",
     "output_type": "stream",
     "text": [
      "Epoch 882: 100%|██████████| 7/7 [00:00<00:00, 48.95batch/s, acc=0.262, loss=nan]\n"
     ]
    },
    {
     "name": "stdout",
     "output_type": "stream",
     "text": [
      "Epoch 882 validation: negative log likelihood loss=nan, Accuracy=0.2590448558330536\n"
     ]
    },
    {
     "name": "stderr",
     "output_type": "stream",
     "text": [
      "Epoch 883: 100%|██████████| 7/7 [00:00<00:00, 93.33batch/s, acc=0.262, loss=nan] \n"
     ]
    },
    {
     "name": "stdout",
     "output_type": "stream",
     "text": [
      "Epoch 883 validation: negative log likelihood loss=nan, Accuracy=0.2590448558330536\n"
     ]
    },
    {
     "name": "stderr",
     "output_type": "stream",
     "text": [
      "Epoch 884: 100%|██████████| 7/7 [00:00<00:00, 97.22batch/s, acc=0.262, loss=nan]\n"
     ]
    },
    {
     "name": "stdout",
     "output_type": "stream",
     "text": [
      "Epoch 884 validation: negative log likelihood loss=nan, Accuracy=0.2590448558330536\n"
     ]
    },
    {
     "name": "stderr",
     "output_type": "stream",
     "text": [
      "Epoch 885: 100%|██████████| 7/7 [00:00<00:00, 87.51batch/s, acc=0.262, loss=nan]\n"
     ]
    },
    {
     "name": "stdout",
     "output_type": "stream",
     "text": [
      "Epoch 885 validation: negative log likelihood loss=nan, Accuracy=0.2590448558330536\n"
     ]
    },
    {
     "name": "stderr",
     "output_type": "stream",
     "text": [
      "Epoch 886: 100%|██████████| 7/7 [00:00<00:00, 97.23batch/s, acc=0.262, loss=nan] \n"
     ]
    },
    {
     "name": "stdout",
     "output_type": "stream",
     "text": [
      "Epoch 886 validation: negative log likelihood loss=nan, Accuracy=0.2590448558330536\n"
     ]
    },
    {
     "name": "stderr",
     "output_type": "stream",
     "text": [
      "Epoch 887: 100%|██████████| 7/7 [00:00<00:00, 98.60batch/s, acc=0.262, loss=nan] \n"
     ]
    },
    {
     "name": "stdout",
     "output_type": "stream",
     "text": [
      "Epoch 887 validation: negative log likelihood loss=nan, Accuracy=0.2590448558330536\n"
     ]
    },
    {
     "name": "stderr",
     "output_type": "stream",
     "text": [
      "Epoch 888: 100%|██████████| 7/7 [00:00<00:00, 92.10batch/s, acc=0.262, loss=nan]\n"
     ]
    },
    {
     "name": "stdout",
     "output_type": "stream",
     "text": [
      "Epoch 888 validation: negative log likelihood loss=nan, Accuracy=0.2590448558330536\n"
     ]
    },
    {
     "name": "stderr",
     "output_type": "stream",
     "text": [
      "Epoch 889: 100%|██████████| 7/7 [00:00<00:00, 98.60batch/s, acc=0.262, loss=nan] \n"
     ]
    },
    {
     "name": "stdout",
     "output_type": "stream",
     "text": [
      "Epoch 889 validation: negative log likelihood loss=nan, Accuracy=0.2590448558330536\n"
     ]
    },
    {
     "name": "stderr",
     "output_type": "stream",
     "text": [
      "Epoch 890: 100%|██████████| 7/7 [00:00<00:00, 47.62batch/s, acc=0.262, loss=nan]\n"
     ]
    },
    {
     "name": "stdout",
     "output_type": "stream",
     "text": [
      "Epoch 890 validation: negative log likelihood loss=nan, Accuracy=0.2590448558330536\n"
     ]
    },
    {
     "name": "stderr",
     "output_type": "stream",
     "text": [
      "Epoch 891: 100%|██████████| 7/7 [00:00<00:00, 86.42batch/s, acc=0.262, loss=nan]\n"
     ]
    },
    {
     "name": "stdout",
     "output_type": "stream",
     "text": [
      "Epoch 891 validation: negative log likelihood loss=nan, Accuracy=0.2590448558330536\n"
     ]
    },
    {
     "name": "stderr",
     "output_type": "stream",
     "text": [
      "Epoch 892: 100%|██████████| 7/7 [00:00<00:00, 97.23batch/s, acc=0.262, loss=nan]\n"
     ]
    },
    {
     "name": "stdout",
     "output_type": "stream",
     "text": [
      "Epoch 892 validation: negative log likelihood loss=nan, Accuracy=0.2590448558330536\n"
     ]
    },
    {
     "name": "stderr",
     "output_type": "stream",
     "text": [
      "Epoch 893: 100%|██████████| 7/7 [00:00<00:00, 101.45batch/s, acc=0.262, loss=nan]\n"
     ]
    },
    {
     "name": "stdout",
     "output_type": "stream",
     "text": [
      "Epoch 893 validation: negative log likelihood loss=nan, Accuracy=0.2590448558330536\n"
     ]
    },
    {
     "name": "stderr",
     "output_type": "stream",
     "text": [
      "Epoch 894: 100%|██████████| 7/7 [00:00<00:00, 93.34batch/s, acc=0.262, loss=nan] \n"
     ]
    },
    {
     "name": "stdout",
     "output_type": "stream",
     "text": [
      "Epoch 894 validation: negative log likelihood loss=nan, Accuracy=0.2590448558330536\n"
     ]
    },
    {
     "name": "stderr",
     "output_type": "stream",
     "text": [
      "Epoch 895: 100%|██████████| 7/7 [00:00<00:00, 95.89batch/s, acc=0.262, loss=nan]\n"
     ]
    },
    {
     "name": "stdout",
     "output_type": "stream",
     "text": [
      "Epoch 895 validation: negative log likelihood loss=nan, Accuracy=0.2590448558330536\n"
     ]
    },
    {
     "name": "stderr",
     "output_type": "stream",
     "text": [
      "Epoch 896: 100%|██████████| 7/7 [00:00<00:00, 98.59batch/s, acc=0.262, loss=nan] \n"
     ]
    },
    {
     "name": "stdout",
     "output_type": "stream",
     "text": [
      "Epoch 896 validation: negative log likelihood loss=nan, Accuracy=0.2590448558330536\n"
     ]
    },
    {
     "name": "stderr",
     "output_type": "stream",
     "text": [
      "Epoch 897: 100%|██████████| 7/7 [00:00<00:00, 94.60batch/s, acc=0.262, loss=nan]\n"
     ]
    },
    {
     "name": "stdout",
     "output_type": "stream",
     "text": [
      "Epoch 897 validation: negative log likelihood loss=nan, Accuracy=0.2590448558330536\n"
     ]
    },
    {
     "name": "stderr",
     "output_type": "stream",
     "text": [
      "Epoch 898: 100%|██████████| 7/7 [00:00<00:00, 45.16batch/s, acc=0.262, loss=nan]\n"
     ]
    },
    {
     "name": "stdout",
     "output_type": "stream",
     "text": [
      "Epoch 898 validation: negative log likelihood loss=nan, Accuracy=0.2590448558330536\n"
     ]
    },
    {
     "name": "stderr",
     "output_type": "stream",
     "text": [
      "Epoch 899: 100%|██████████| 7/7 [00:00<00:00, 95.90batch/s, acc=0.262, loss=nan] \n"
     ]
    },
    {
     "name": "stdout",
     "output_type": "stream",
     "text": [
      "Epoch 899 validation: negative log likelihood loss=nan, Accuracy=0.2590448558330536\n"
     ]
    },
    {
     "name": "stderr",
     "output_type": "stream",
     "text": [
      "Epoch 900: 100%|██████████| 7/7 [00:00<00:00, 95.89batch/s, acc=0.262, loss=nan] \n"
     ]
    },
    {
     "name": "stdout",
     "output_type": "stream",
     "text": [
      "Epoch 900 validation: negative log likelihood loss=nan, Accuracy=0.2590448558330536\n"
     ]
    },
    {
     "name": "stderr",
     "output_type": "stream",
     "text": [
      "Epoch 901: 100%|██████████| 7/7 [00:00<00:00, 101.44batch/s, acc=0.262, loss=nan]\n"
     ]
    },
    {
     "name": "stdout",
     "output_type": "stream",
     "text": [
      "Epoch 901 validation: negative log likelihood loss=nan, Accuracy=0.2590448558330536\n"
     ]
    },
    {
     "name": "stderr",
     "output_type": "stream",
     "text": [
      "Epoch 902: 100%|██████████| 7/7 [00:00<00:00, 94.60batch/s, acc=0.262, loss=nan] \n"
     ]
    },
    {
     "name": "stdout",
     "output_type": "stream",
     "text": [
      "Epoch 902 validation: negative log likelihood loss=nan, Accuracy=0.2590448558330536\n"
     ]
    },
    {
     "name": "stderr",
     "output_type": "stream",
     "text": [
      "Epoch 903: 100%|██████████| 7/7 [00:00<00:00, 95.89batch/s, acc=0.262, loss=nan] \n"
     ]
    },
    {
     "name": "stdout",
     "output_type": "stream",
     "text": [
      "Epoch 903 validation: negative log likelihood loss=nan, Accuracy=0.2590448558330536\n"
     ]
    },
    {
     "name": "stderr",
     "output_type": "stream",
     "text": [
      "Epoch 904: 100%|██████████| 7/7 [00:00<00:00, 101.45batch/s, acc=0.262, loss=nan]\n"
     ]
    },
    {
     "name": "stdout",
     "output_type": "stream",
     "text": [
      "Epoch 904 validation: negative log likelihood loss=nan, Accuracy=0.2590448558330536\n"
     ]
    },
    {
     "name": "stderr",
     "output_type": "stream",
     "text": [
      "Epoch 905: 100%|██████████| 7/7 [00:00<00:00, 98.59batch/s, acc=0.262, loss=nan]\n"
     ]
    },
    {
     "name": "stdout",
     "output_type": "stream",
     "text": [
      "Epoch 905 validation: negative log likelihood loss=nan, Accuracy=0.2590448558330536\n"
     ]
    },
    {
     "name": "stderr",
     "output_type": "stream",
     "text": [
      "Epoch 906: 100%|██████████| 7/7 [00:00<00:00, 101.46batch/s, acc=0.262, loss=nan]\n"
     ]
    },
    {
     "name": "stdout",
     "output_type": "stream",
     "text": [
      "Epoch 906 validation: negative log likelihood loss=nan, Accuracy=0.2590448558330536\n"
     ]
    },
    {
     "name": "stderr",
     "output_type": "stream",
     "text": [
      "Epoch 907: 100%|██████████| 7/7 [00:00<00:00, 47.95batch/s, acc=0.262, loss=nan]\n"
     ]
    },
    {
     "name": "stdout",
     "output_type": "stream",
     "text": [
      "Epoch 907 validation: negative log likelihood loss=nan, Accuracy=0.2590448558330536\n"
     ]
    },
    {
     "name": "stderr",
     "output_type": "stream",
     "text": [
      "Epoch 908: 100%|██████████| 7/7 [00:00<00:00, 90.50batch/s, acc=0.262, loss=nan]\n"
     ]
    },
    {
     "name": "stdout",
     "output_type": "stream",
     "text": [
      "Epoch 908 validation: negative log likelihood loss=nan, Accuracy=0.2590448558330536\n"
     ]
    },
    {
     "name": "stderr",
     "output_type": "stream",
     "text": [
      "Epoch 909: 100%|██████████| 7/7 [00:00<00:00, 98.59batch/s, acc=0.262, loss=nan] \n"
     ]
    },
    {
     "name": "stdout",
     "output_type": "stream",
     "text": [
      "Epoch 909 validation: negative log likelihood loss=nan, Accuracy=0.2590448558330536\n"
     ]
    },
    {
     "name": "stderr",
     "output_type": "stream",
     "text": [
      "Epoch 910: 100%|██████████| 7/7 [00:00<00:00, 92.10batch/s, acc=0.262, loss=nan]\n"
     ]
    },
    {
     "name": "stdout",
     "output_type": "stream",
     "text": [
      "Epoch 910 validation: negative log likelihood loss=nan, Accuracy=0.2590448558330536\n"
     ]
    },
    {
     "name": "stderr",
     "output_type": "stream",
     "text": [
      "Epoch 911: 100%|██████████| 7/7 [00:00<00:00, 93.33batch/s, acc=0.262, loss=nan]\n"
     ]
    },
    {
     "name": "stdout",
     "output_type": "stream",
     "text": [
      "Epoch 911 validation: negative log likelihood loss=nan, Accuracy=0.2590448558330536\n"
     ]
    },
    {
     "name": "stderr",
     "output_type": "stream",
     "text": [
      "Epoch 912: 100%|██████████| 7/7 [00:00<00:00, 95.89batch/s, acc=0.262, loss=nan]\n"
     ]
    },
    {
     "name": "stdout",
     "output_type": "stream",
     "text": [
      "Epoch 912 validation: negative log likelihood loss=nan, Accuracy=0.2590448558330536\n"
     ]
    },
    {
     "name": "stderr",
     "output_type": "stream",
     "text": [
      "Epoch 913: 100%|██████████| 7/7 [00:00<00:00, 89.75batch/s, acc=0.262, loss=nan]\n"
     ]
    },
    {
     "name": "stdout",
     "output_type": "stream",
     "text": [
      "Epoch 913 validation: negative log likelihood loss=nan, Accuracy=0.2590448558330536\n"
     ]
    },
    {
     "name": "stderr",
     "output_type": "stream",
     "text": [
      "Epoch 914: 100%|██████████| 7/7 [00:00<00:00, 94.60batch/s, acc=0.262, loss=nan] \n"
     ]
    },
    {
     "name": "stdout",
     "output_type": "stream",
     "text": [
      "Epoch 914 validation: negative log likelihood loss=nan, Accuracy=0.2590448558330536\n"
     ]
    },
    {
     "name": "stderr",
     "output_type": "stream",
     "text": [
      "Epoch 915: 100%|██████████| 7/7 [00:00<00:00, 48.95batch/s, acc=0.262, loss=nan]\n"
     ]
    },
    {
     "name": "stdout",
     "output_type": "stream",
     "text": [
      "Epoch 915 validation: negative log likelihood loss=nan, Accuracy=0.2590448558330536\n"
     ]
    },
    {
     "name": "stderr",
     "output_type": "stream",
     "text": [
      "Epoch 916: 100%|██████████| 7/7 [00:00<00:00, 94.60batch/s, acc=0.262, loss=nan] \n"
     ]
    },
    {
     "name": "stdout",
     "output_type": "stream",
     "text": [
      "Epoch 916 validation: negative log likelihood loss=nan, Accuracy=0.2590448558330536\n"
     ]
    },
    {
     "name": "stderr",
     "output_type": "stream",
     "text": [
      "Epoch 917: 100%|██████████| 7/7 [00:00<00:00, 88.61batch/s, acc=0.262, loss=nan]\n"
     ]
    },
    {
     "name": "stdout",
     "output_type": "stream",
     "text": [
      "Epoch 917 validation: negative log likelihood loss=nan, Accuracy=0.2590448558330536\n"
     ]
    },
    {
     "name": "stderr",
     "output_type": "stream",
     "text": [
      "Epoch 918: 100%|██████████| 7/7 [00:00<00:00, 94.59batch/s, acc=0.262, loss=nan]\n"
     ]
    },
    {
     "name": "stdout",
     "output_type": "stream",
     "text": [
      "Epoch 918 validation: negative log likelihood loss=nan, Accuracy=0.2590448558330536\n"
     ]
    },
    {
     "name": "stderr",
     "output_type": "stream",
     "text": [
      "Epoch 919: 100%|██████████| 7/7 [00:00<00:00, 94.60batch/s, acc=0.262, loss=nan] \n"
     ]
    },
    {
     "name": "stdout",
     "output_type": "stream",
     "text": [
      "Epoch 919 validation: negative log likelihood loss=nan, Accuracy=0.2590448558330536\n"
     ]
    },
    {
     "name": "stderr",
     "output_type": "stream",
     "text": [
      "Epoch 920: 100%|██████████| 7/7 [00:00<00:00, 93.34batch/s, acc=0.262, loss=nan] \n"
     ]
    },
    {
     "name": "stdout",
     "output_type": "stream",
     "text": [
      "Epoch 920 validation: negative log likelihood loss=nan, Accuracy=0.2590448558330536\n"
     ]
    },
    {
     "name": "stderr",
     "output_type": "stream",
     "text": [
      "Epoch 921: 100%|██████████| 7/7 [00:00<00:00, 93.33batch/s, acc=0.262, loss=nan] \n"
     ]
    },
    {
     "name": "stdout",
     "output_type": "stream",
     "text": [
      "Epoch 921 validation: negative log likelihood loss=nan, Accuracy=0.2590448558330536\n"
     ]
    },
    {
     "name": "stderr",
     "output_type": "stream",
     "text": [
      "Epoch 922: 100%|██████████| 7/7 [00:00<00:00, 94.58batch/s, acc=0.262, loss=nan]\n"
     ]
    },
    {
     "name": "stdout",
     "output_type": "stream",
     "text": [
      "Epoch 922 validation: negative log likelihood loss=nan, Accuracy=0.2590448558330536\n"
     ]
    },
    {
     "name": "stderr",
     "output_type": "stream",
     "text": [
      "Epoch 923: 100%|██████████| 7/7 [00:00<00:00, 44.59batch/s, acc=0.262, loss=nan]\n"
     ]
    },
    {
     "name": "stdout",
     "output_type": "stream",
     "text": [
      "Epoch 923 validation: negative log likelihood loss=nan, Accuracy=0.2590448558330536\n"
     ]
    },
    {
     "name": "stderr",
     "output_type": "stream",
     "text": [
      "Epoch 924: 100%|██████████| 7/7 [00:00<00:00, 94.60batch/s, acc=0.262, loss=nan]\n"
     ]
    },
    {
     "name": "stdout",
     "output_type": "stream",
     "text": [
      "Epoch 924 validation: negative log likelihood loss=nan, Accuracy=0.2590448558330536\n"
     ]
    },
    {
     "name": "stderr",
     "output_type": "stream",
     "text": [
      "Epoch 925: 100%|██████████| 7/7 [00:00<00:00, 94.60batch/s, acc=0.262, loss=nan] \n"
     ]
    },
    {
     "name": "stdout",
     "output_type": "stream",
     "text": [
      "Epoch 925 validation: negative log likelihood loss=nan, Accuracy=0.2590448558330536\n"
     ]
    },
    {
     "name": "stderr",
     "output_type": "stream",
     "text": [
      "Epoch 926: 100%|██████████| 7/7 [00:00<00:00, 101.45batch/s, acc=0.262, loss=nan]\n"
     ]
    },
    {
     "name": "stdout",
     "output_type": "stream",
     "text": [
      "Epoch 926 validation: negative log likelihood loss=nan, Accuracy=0.2590448558330536\n"
     ]
    },
    {
     "name": "stderr",
     "output_type": "stream",
     "text": [
      "Epoch 927: 100%|██████████| 7/7 [00:00<00:00, 98.59batch/s, acc=0.262, loss=nan] \n"
     ]
    },
    {
     "name": "stdout",
     "output_type": "stream",
     "text": [
      "Epoch 927 validation: negative log likelihood loss=nan, Accuracy=0.2590448558330536\n"
     ]
    },
    {
     "name": "stderr",
     "output_type": "stream",
     "text": [
      "Epoch 928: 100%|██████████| 7/7 [00:00<00:00, 100.01batch/s, acc=0.262, loss=nan]\n"
     ]
    },
    {
     "name": "stdout",
     "output_type": "stream",
     "text": [
      "Epoch 928 validation: negative log likelihood loss=nan, Accuracy=0.2590448558330536\n"
     ]
    },
    {
     "name": "stderr",
     "output_type": "stream",
     "text": [
      "Epoch 929: 100%|██████████| 7/7 [00:00<00:00, 100.00batch/s, acc=0.262, loss=nan]\n"
     ]
    },
    {
     "name": "stdout",
     "output_type": "stream",
     "text": [
      "Epoch 929 validation: negative log likelihood loss=nan, Accuracy=0.2590448558330536\n"
     ]
    },
    {
     "name": "stderr",
     "output_type": "stream",
     "text": [
      "Epoch 930: 100%|██████████| 7/7 [00:00<00:00, 100.00batch/s, acc=0.262, loss=nan]\n"
     ]
    },
    {
     "name": "stdout",
     "output_type": "stream",
     "text": [
      "Epoch 930 validation: negative log likelihood loss=nan, Accuracy=0.2590448558330536\n"
     ]
    },
    {
     "name": "stderr",
     "output_type": "stream",
     "text": [
      "Epoch 931: 100%|██████████| 7/7 [00:00<00:00, 102.94batch/s, acc=0.262, loss=nan]\n"
     ]
    },
    {
     "name": "stdout",
     "output_type": "stream",
     "text": [
      "Epoch 931 validation: negative log likelihood loss=nan, Accuracy=0.2590448558330536\n"
     ]
    },
    {
     "name": "stderr",
     "output_type": "stream",
     "text": [
      "Epoch 932: 100%|██████████| 7/7 [00:00<00:00, 107.70batch/s, acc=0.262, loss=nan]\n"
     ]
    },
    {
     "name": "stdout",
     "output_type": "stream",
     "text": [
      "Epoch 932 validation: negative log likelihood loss=nan, Accuracy=0.2590448558330536\n"
     ]
    },
    {
     "name": "stderr",
     "output_type": "stream",
     "text": [
      "Epoch 933: 100%|██████████| 7/7 [00:00<00:00, 75.27batch/s, acc=0.262, loss=nan]\n"
     ]
    },
    {
     "name": "stdout",
     "output_type": "stream",
     "text": [
      "Epoch 933 validation: negative log likelihood loss=nan, Accuracy=0.2590448558330536\n"
     ]
    },
    {
     "name": "stderr",
     "output_type": "stream",
     "text": [
      "Epoch 934: 100%|██████████| 7/7 [00:00<00:00, 85.37batch/s, acc=0.262, loss=nan]\n"
     ]
    },
    {
     "name": "stdout",
     "output_type": "stream",
     "text": [
      "Epoch 934 validation: negative log likelihood loss=nan, Accuracy=0.2590448558330536\n"
     ]
    },
    {
     "name": "stderr",
     "output_type": "stream",
     "text": [
      "Epoch 935: 100%|██████████| 7/7 [00:00<00:00, 97.23batch/s, acc=0.262, loss=nan]\n"
     ]
    },
    {
     "name": "stdout",
     "output_type": "stream",
     "text": [
      "Epoch 935 validation: negative log likelihood loss=nan, Accuracy=0.2590448558330536\n"
     ]
    },
    {
     "name": "stderr",
     "output_type": "stream",
     "text": [
      "Epoch 936: 100%|██████████| 7/7 [00:00<00:00, 98.59batch/s, acc=0.262, loss=nan] \n"
     ]
    },
    {
     "name": "stdout",
     "output_type": "stream",
     "text": [
      "Epoch 936 validation: negative log likelihood loss=nan, Accuracy=0.2590448558330536\n"
     ]
    },
    {
     "name": "stderr",
     "output_type": "stream",
     "text": [
      "Epoch 937: 100%|██████████| 7/7 [00:00<00:00, 101.73batch/s, acc=0.262, loss=nan]\n"
     ]
    },
    {
     "name": "stdout",
     "output_type": "stream",
     "text": [
      "Epoch 937 validation: negative log likelihood loss=nan, Accuracy=0.2590448558330536\n"
     ]
    },
    {
     "name": "stderr",
     "output_type": "stream",
     "text": [
      "Epoch 938: 100%|██████████| 7/7 [00:00<00:00, 99.99batch/s, acc=0.262, loss=nan] \n"
     ]
    },
    {
     "name": "stdout",
     "output_type": "stream",
     "text": [
      "Epoch 938 validation: negative log likelihood loss=nan, Accuracy=0.2590448558330536\n"
     ]
    },
    {
     "name": "stderr",
     "output_type": "stream",
     "text": [
      "Epoch 939: 100%|██████████| 7/7 [00:00<00:00, 101.45batch/s, acc=0.262, loss=nan]\n"
     ]
    },
    {
     "name": "stdout",
     "output_type": "stream",
     "text": [
      "Epoch 939 validation: negative log likelihood loss=nan, Accuracy=0.2590448558330536\n"
     ]
    },
    {
     "name": "stderr",
     "output_type": "stream",
     "text": [
      "Epoch 940: 100%|██████████| 7/7 [00:00<00:00, 93.34batch/s, acc=0.262, loss=nan]\n"
     ]
    },
    {
     "name": "stdout",
     "output_type": "stream",
     "text": [
      "Epoch 940 validation: negative log likelihood loss=nan, Accuracy=0.2590448558330536\n"
     ]
    },
    {
     "name": "stderr",
     "output_type": "stream",
     "text": [
      "Epoch 941: 100%|██████████| 7/7 [00:00<00:00, 95.89batch/s, acc=0.262, loss=nan]\n"
     ]
    },
    {
     "name": "stdout",
     "output_type": "stream",
     "text": [
      "Epoch 941 validation: negative log likelihood loss=nan, Accuracy=0.2590448558330536\n"
     ]
    },
    {
     "name": "stderr",
     "output_type": "stream",
     "text": [
      "Epoch 942: 100%|██████████| 7/7 [00:00<00:00, 88.61batch/s, acc=0.262, loss=nan]\n"
     ]
    },
    {
     "name": "stdout",
     "output_type": "stream",
     "text": [
      "Epoch 942 validation: negative log likelihood loss=nan, Accuracy=0.2590448558330536\n"
     ]
    },
    {
     "name": "stderr",
     "output_type": "stream",
     "text": [
      "Epoch 943: 100%|██████████| 7/7 [00:00<00:00, 95.90batch/s, acc=0.262, loss=nan]\n"
     ]
    },
    {
     "name": "stdout",
     "output_type": "stream",
     "text": [
      "Epoch 943 validation: negative log likelihood loss=nan, Accuracy=0.2590448558330536\n"
     ]
    },
    {
     "name": "stderr",
     "output_type": "stream",
     "text": [
      "Epoch 944: 100%|██████████| 7/7 [00:00<00:00, 97.22batch/s, acc=0.262, loss=nan] \n"
     ]
    },
    {
     "name": "stdout",
     "output_type": "stream",
     "text": [
      "Epoch 944 validation: negative log likelihood loss=nan, Accuracy=0.2590448558330536\n"
     ]
    },
    {
     "name": "stderr",
     "output_type": "stream",
     "text": [
      "Epoch 945: 100%|██████████| 7/7 [00:00<00:00, 42.68batch/s, acc=0.262, loss=nan]\n"
     ]
    },
    {
     "name": "stdout",
     "output_type": "stream",
     "text": [
      "Epoch 945 validation: negative log likelihood loss=nan, Accuracy=0.2590448558330536\n"
     ]
    },
    {
     "name": "stderr",
     "output_type": "stream",
     "text": [
      "Epoch 946: 100%|██████████| 7/7 [00:00<00:00, 97.22batch/s, acc=0.262, loss=nan] \n"
     ]
    },
    {
     "name": "stdout",
     "output_type": "stream",
     "text": [
      "Epoch 946 validation: negative log likelihood loss=nan, Accuracy=0.2590448558330536\n"
     ]
    },
    {
     "name": "stderr",
     "output_type": "stream",
     "text": [
      "Epoch 947: 100%|██████████| 7/7 [00:00<00:00, 97.22batch/s, acc=0.262, loss=nan] \n"
     ]
    },
    {
     "name": "stdout",
     "output_type": "stream",
     "text": [
      "Epoch 947 validation: negative log likelihood loss=nan, Accuracy=0.2590448558330536\n"
     ]
    },
    {
     "name": "stderr",
     "output_type": "stream",
     "text": [
      "Epoch 948: 100%|██████████| 7/7 [00:00<00:00, 95.89batch/s, acc=0.262, loss=nan]\n"
     ]
    },
    {
     "name": "stdout",
     "output_type": "stream",
     "text": [
      "Epoch 948 validation: negative log likelihood loss=nan, Accuracy=0.2590448558330536\n"
     ]
    },
    {
     "name": "stderr",
     "output_type": "stream",
     "text": [
      "Epoch 949: 100%|██████████| 7/7 [00:00<00:00, 89.74batch/s, acc=0.262, loss=nan]\n"
     ]
    },
    {
     "name": "stdout",
     "output_type": "stream",
     "text": [
      "Epoch 949 validation: negative log likelihood loss=nan, Accuracy=0.2590448558330536\n"
     ]
    },
    {
     "name": "stderr",
     "output_type": "stream",
     "text": [
      "Epoch 950: 100%|██████████| 7/7 [00:00<00:00, 101.45batch/s, acc=0.262, loss=nan]\n"
     ]
    },
    {
     "name": "stdout",
     "output_type": "stream",
     "text": [
      "Epoch 950 validation: negative log likelihood loss=nan, Accuracy=0.2590448558330536\n"
     ]
    },
    {
     "name": "stderr",
     "output_type": "stream",
     "text": [
      "Epoch 951: 100%|██████████| 7/7 [00:00<00:00, 101.45batch/s, acc=0.262, loss=nan]\n"
     ]
    },
    {
     "name": "stdout",
     "output_type": "stream",
     "text": [
      "Epoch 951 validation: negative log likelihood loss=nan, Accuracy=0.2590448558330536\n"
     ]
    },
    {
     "name": "stderr",
     "output_type": "stream",
     "text": [
      "Epoch 952: 100%|██████████| 7/7 [00:00<00:00, 100.00batch/s, acc=0.262, loss=nan]\n"
     ]
    },
    {
     "name": "stdout",
     "output_type": "stream",
     "text": [
      "Epoch 952 validation: negative log likelihood loss=nan, Accuracy=0.2590448558330536\n"
     ]
    },
    {
     "name": "stderr",
     "output_type": "stream",
     "text": [
      "Epoch 953: 100%|██████████| 7/7 [00:00<00:00, 90.91batch/s, acc=0.262, loss=nan]\n"
     ]
    },
    {
     "name": "stdout",
     "output_type": "stream",
     "text": [
      "Epoch 953 validation: negative log likelihood loss=nan, Accuracy=0.2590448558330536\n"
     ]
    },
    {
     "name": "stderr",
     "output_type": "stream",
     "text": [
      "Epoch 954: 100%|██████████| 7/7 [00:00<00:00, 98.60batch/s, acc=0.262, loss=nan]\n"
     ]
    },
    {
     "name": "stdout",
     "output_type": "stream",
     "text": [
      "Epoch 954 validation: negative log likelihood loss=nan, Accuracy=0.2590448558330536\n"
     ]
    },
    {
     "name": "stderr",
     "output_type": "stream",
     "text": [
      "Epoch 955: 100%|██████████| 7/7 [00:00<00:00, 95.89batch/s, acc=0.262, loss=nan]\n"
     ]
    },
    {
     "name": "stdout",
     "output_type": "stream",
     "text": [
      "Epoch 955 validation: negative log likelihood loss=nan, Accuracy=0.2590448558330536\n"
     ]
    },
    {
     "name": "stderr",
     "output_type": "stream",
     "text": [
      "Epoch 956: 100%|██████████| 7/7 [00:00<00:00, 95.89batch/s, acc=0.262, loss=nan] \n"
     ]
    },
    {
     "name": "stdout",
     "output_type": "stream",
     "text": [
      "Epoch 956 validation: negative log likelihood loss=nan, Accuracy=0.2590448558330536\n"
     ]
    },
    {
     "name": "stderr",
     "output_type": "stream",
     "text": [
      "Epoch 957: 100%|██████████| 7/7 [00:00<00:00, 100.00batch/s, acc=0.262, loss=nan]\n"
     ]
    },
    {
     "name": "stdout",
     "output_type": "stream",
     "text": [
      "Epoch 957 validation: negative log likelihood loss=nan, Accuracy=0.2590448558330536\n"
     ]
    },
    {
     "name": "stderr",
     "output_type": "stream",
     "text": [
      "Epoch 958: 100%|██████████| 7/7 [00:00<00:00, 98.59batch/s, acc=0.262, loss=nan] \n"
     ]
    },
    {
     "name": "stdout",
     "output_type": "stream",
     "text": [
      "Epoch 958 validation: negative log likelihood loss=nan, Accuracy=0.2590448558330536\n"
     ]
    },
    {
     "name": "stderr",
     "output_type": "stream",
     "text": [
      "Epoch 959: 100%|██████████| 7/7 [00:00<00:00, 93.33batch/s, acc=0.262, loss=nan]\n"
     ]
    },
    {
     "name": "stdout",
     "output_type": "stream",
     "text": [
      "Epoch 959 validation: negative log likelihood loss=nan, Accuracy=0.2590448558330536\n"
     ]
    },
    {
     "name": "stderr",
     "output_type": "stream",
     "text": [
      "Epoch 960: 100%|██████████| 7/7 [00:00<00:00, 93.34batch/s, acc=0.262, loss=nan]\n"
     ]
    },
    {
     "name": "stdout",
     "output_type": "stream",
     "text": [
      "Epoch 960 validation: negative log likelihood loss=nan, Accuracy=0.2590448558330536\n"
     ]
    },
    {
     "name": "stderr",
     "output_type": "stream",
     "text": [
      "Epoch 961: 100%|██████████| 7/7 [00:00<00:00, 90.90batch/s, acc=0.262, loss=nan]\n"
     ]
    },
    {
     "name": "stdout",
     "output_type": "stream",
     "text": [
      "Epoch 961 validation: negative log likelihood loss=nan, Accuracy=0.2590448558330536\n"
     ]
    },
    {
     "name": "stderr",
     "output_type": "stream",
     "text": [
      "Epoch 962: 100%|██████████| 7/7 [00:00<00:00, 97.22batch/s, acc=0.262, loss=nan] \n"
     ]
    },
    {
     "name": "stdout",
     "output_type": "stream",
     "text": [
      "Epoch 962 validation: negative log likelihood loss=nan, Accuracy=0.2590448558330536\n"
     ]
    },
    {
     "name": "stderr",
     "output_type": "stream",
     "text": [
      "Epoch 963: 100%|██████████| 7/7 [00:00<00:00, 101.45batch/s, acc=0.262, loss=nan]\n"
     ]
    },
    {
     "name": "stdout",
     "output_type": "stream",
     "text": [
      "Epoch 963 validation: negative log likelihood loss=nan, Accuracy=0.2590448558330536\n"
     ]
    },
    {
     "name": "stderr",
     "output_type": "stream",
     "text": [
      "Epoch 964: 100%|██████████| 7/7 [00:00<00:00, 93.34batch/s, acc=0.262, loss=nan]\n"
     ]
    },
    {
     "name": "stdout",
     "output_type": "stream",
     "text": [
      "Epoch 964 validation: negative log likelihood loss=nan, Accuracy=0.2590448558330536\n"
     ]
    },
    {
     "name": "stderr",
     "output_type": "stream",
     "text": [
      "Epoch 965: 100%|██████████| 7/7 [00:00<00:00, 98.59batch/s, acc=0.262, loss=nan] \n"
     ]
    },
    {
     "name": "stdout",
     "output_type": "stream",
     "text": [
      "Epoch 965 validation: negative log likelihood loss=nan, Accuracy=0.2590448558330536\n"
     ]
    },
    {
     "name": "stderr",
     "output_type": "stream",
     "text": [
      "Epoch 966: 100%|██████████| 7/7 [00:00<00:00, 97.22batch/s, acc=0.262, loss=nan] \n"
     ]
    },
    {
     "name": "stdout",
     "output_type": "stream",
     "text": [
      "Epoch 966 validation: negative log likelihood loss=nan, Accuracy=0.2590448558330536\n"
     ]
    },
    {
     "name": "stderr",
     "output_type": "stream",
     "text": [
      "Epoch 967: 100%|██████████| 7/7 [00:00<00:00, 95.89batch/s, acc=0.262, loss=nan] \n"
     ]
    },
    {
     "name": "stdout",
     "output_type": "stream",
     "text": [
      "Epoch 967 validation: negative log likelihood loss=nan, Accuracy=0.2590448558330536\n"
     ]
    },
    {
     "name": "stderr",
     "output_type": "stream",
     "text": [
      "Epoch 968: 100%|██████████| 7/7 [00:00<00:00, 98.59batch/s, acc=0.262, loss=nan] \n"
     ]
    },
    {
     "name": "stdout",
     "output_type": "stream",
     "text": [
      "Epoch 968 validation: negative log likelihood loss=nan, Accuracy=0.2590448558330536\n"
     ]
    },
    {
     "name": "stderr",
     "output_type": "stream",
     "text": [
      "Epoch 969: 100%|██████████| 7/7 [00:00<00:00, 98.59batch/s, acc=0.262, loss=nan] \n"
     ]
    },
    {
     "name": "stdout",
     "output_type": "stream",
     "text": [
      "Epoch 969 validation: negative log likelihood loss=nan, Accuracy=0.2590448558330536\n"
     ]
    },
    {
     "name": "stderr",
     "output_type": "stream",
     "text": [
      "Epoch 970: 100%|██████████| 7/7 [00:00<00:00, 97.22batch/s, acc=0.262, loss=nan] \n"
     ]
    },
    {
     "name": "stdout",
     "output_type": "stream",
     "text": [
      "Epoch 970 validation: negative log likelihood loss=nan, Accuracy=0.2590448558330536\n"
     ]
    },
    {
     "name": "stderr",
     "output_type": "stream",
     "text": [
      "Epoch 971: 100%|██████████| 7/7 [00:00<00:00, 49.30batch/s, acc=0.262, loss=nan]\n"
     ]
    },
    {
     "name": "stdout",
     "output_type": "stream",
     "text": [
      "Epoch 971 validation: negative log likelihood loss=nan, Accuracy=0.2590448558330536\n"
     ]
    },
    {
     "name": "stderr",
     "output_type": "stream",
     "text": [
      "Epoch 972: 100%|██████████| 7/7 [00:00<00:00, 94.60batch/s, acc=0.262, loss=nan] \n"
     ]
    },
    {
     "name": "stdout",
     "output_type": "stream",
     "text": [
      "Epoch 972 validation: negative log likelihood loss=nan, Accuracy=0.2590448558330536\n"
     ]
    },
    {
     "name": "stderr",
     "output_type": "stream",
     "text": [
      "Epoch 973: 100%|██████████| 7/7 [00:00<00:00, 100.00batch/s, acc=0.262, loss=nan]\n"
     ]
    },
    {
     "name": "stdout",
     "output_type": "stream",
     "text": [
      "Epoch 973 validation: negative log likelihood loss=nan, Accuracy=0.2590448558330536\n"
     ]
    },
    {
     "name": "stderr",
     "output_type": "stream",
     "text": [
      "Epoch 974: 100%|██████████| 7/7 [00:00<00:00, 98.59batch/s, acc=0.262, loss=nan]\n"
     ]
    },
    {
     "name": "stdout",
     "output_type": "stream",
     "text": [
      "Epoch 974 validation: negative log likelihood loss=nan, Accuracy=0.2590448558330536\n"
     ]
    },
    {
     "name": "stderr",
     "output_type": "stream",
     "text": [
      "Epoch 975: 100%|██████████| 7/7 [00:00<00:00, 100.00batch/s, acc=0.262, loss=nan]\n"
     ]
    },
    {
     "name": "stdout",
     "output_type": "stream",
     "text": [
      "Epoch 975 validation: negative log likelihood loss=nan, Accuracy=0.2590448558330536\n"
     ]
    },
    {
     "name": "stderr",
     "output_type": "stream",
     "text": [
      "Epoch 976: 100%|██████████| 7/7 [00:00<00:00, 101.45batch/s, acc=0.262, loss=nan]\n"
     ]
    },
    {
     "name": "stdout",
     "output_type": "stream",
     "text": [
      "Epoch 976 validation: negative log likelihood loss=nan, Accuracy=0.2590448558330536\n"
     ]
    },
    {
     "name": "stderr",
     "output_type": "stream",
     "text": [
      "Epoch 977: 100%|██████████| 7/7 [00:00<00:00, 100.00batch/s, acc=0.262, loss=nan]\n"
     ]
    },
    {
     "name": "stdout",
     "output_type": "stream",
     "text": [
      "Epoch 977 validation: negative log likelihood loss=nan, Accuracy=0.2590448558330536\n"
     ]
    },
    {
     "name": "stderr",
     "output_type": "stream",
     "text": [
      "Epoch 978: 100%|██████████| 7/7 [00:00<00:00, 97.22batch/s, acc=0.262, loss=nan] \n"
     ]
    },
    {
     "name": "stdout",
     "output_type": "stream",
     "text": [
      "Epoch 978 validation: negative log likelihood loss=nan, Accuracy=0.2590448558330536\n"
     ]
    },
    {
     "name": "stderr",
     "output_type": "stream",
     "text": [
      "Epoch 979: 100%|██████████| 7/7 [00:00<00:00, 101.45batch/s, acc=0.262, loss=nan]\n"
     ]
    },
    {
     "name": "stdout",
     "output_type": "stream",
     "text": [
      "Epoch 979 validation: negative log likelihood loss=nan, Accuracy=0.2590448558330536\n"
     ]
    },
    {
     "name": "stderr",
     "output_type": "stream",
     "text": [
      "Epoch 980: 100%|██████████| 7/7 [00:00<00:00, 97.22batch/s, acc=0.262, loss=nan] \n"
     ]
    },
    {
     "name": "stdout",
     "output_type": "stream",
     "text": [
      "Epoch 980 validation: negative log likelihood loss=nan, Accuracy=0.2590448558330536\n"
     ]
    },
    {
     "name": "stderr",
     "output_type": "stream",
     "text": [
      "Epoch 981: 100%|██████████| 7/7 [00:00<00:00, 98.59batch/s, acc=0.262, loss=nan] \n"
     ]
    },
    {
     "name": "stdout",
     "output_type": "stream",
     "text": [
      "Epoch 981 validation: negative log likelihood loss=nan, Accuracy=0.2590448558330536\n"
     ]
    },
    {
     "name": "stderr",
     "output_type": "stream",
     "text": [
      "Epoch 982: 100%|██████████| 7/7 [00:00<00:00, 90.91batch/s, acc=0.262, loss=nan]\n"
     ]
    },
    {
     "name": "stdout",
     "output_type": "stream",
     "text": [
      "Epoch 982 validation: negative log likelihood loss=nan, Accuracy=0.2590448558330536\n"
     ]
    },
    {
     "name": "stderr",
     "output_type": "stream",
     "text": [
      "Epoch 983: 100%|██████████| 7/7 [00:00<00:00, 101.45batch/s, acc=0.262, loss=nan]\n"
     ]
    },
    {
     "name": "stdout",
     "output_type": "stream",
     "text": [
      "Epoch 983 validation: negative log likelihood loss=nan, Accuracy=0.2590448558330536\n"
     ]
    },
    {
     "name": "stderr",
     "output_type": "stream",
     "text": [
      "Epoch 984: 100%|██████████| 7/7 [00:00<00:00, 98.59batch/s, acc=0.262, loss=nan] \n"
     ]
    },
    {
     "name": "stdout",
     "output_type": "stream",
     "text": [
      "Epoch 984 validation: negative log likelihood loss=nan, Accuracy=0.2590448558330536\n"
     ]
    },
    {
     "name": "stderr",
     "output_type": "stream",
     "text": [
      "Epoch 985: 100%|██████████| 7/7 [00:00<00:00, 101.45batch/s, acc=0.262, loss=nan]\n"
     ]
    },
    {
     "name": "stdout",
     "output_type": "stream",
     "text": [
      "Epoch 985 validation: negative log likelihood loss=nan, Accuracy=0.2590448558330536\n"
     ]
    },
    {
     "name": "stderr",
     "output_type": "stream",
     "text": [
      "Epoch 986: 100%|██████████| 7/7 [00:00<00:00, 97.23batch/s, acc=0.262, loss=nan] \n"
     ]
    },
    {
     "name": "stdout",
     "output_type": "stream",
     "text": [
      "Epoch 986 validation: negative log likelihood loss=nan, Accuracy=0.2590448558330536\n"
     ]
    },
    {
     "name": "stderr",
     "output_type": "stream",
     "text": [
      "Epoch 987: 100%|██████████| 7/7 [00:00<00:00, 97.23batch/s, acc=0.262, loss=nan]\n"
     ]
    },
    {
     "name": "stdout",
     "output_type": "stream",
     "text": [
      "Epoch 987 validation: negative log likelihood loss=nan, Accuracy=0.2590448558330536\n"
     ]
    },
    {
     "name": "stderr",
     "output_type": "stream",
     "text": [
      "Epoch 988: 100%|██████████| 7/7 [00:00<00:00, 94.60batch/s, acc=0.262, loss=nan]\n"
     ]
    },
    {
     "name": "stdout",
     "output_type": "stream",
     "text": [
      "Epoch 988 validation: negative log likelihood loss=nan, Accuracy=0.2590448558330536\n"
     ]
    },
    {
     "name": "stderr",
     "output_type": "stream",
     "text": [
      "Epoch 989: 100%|██████████| 7/7 [00:00<00:00, 98.59batch/s, acc=0.262, loss=nan] \n"
     ]
    },
    {
     "name": "stdout",
     "output_type": "stream",
     "text": [
      "Epoch 989 validation: negative log likelihood loss=nan, Accuracy=0.2590448558330536\n"
     ]
    },
    {
     "name": "stderr",
     "output_type": "stream",
     "text": [
      "Epoch 990: 100%|██████████| 7/7 [00:00<00:00, 97.22batch/s, acc=0.262, loss=nan]\n"
     ]
    },
    {
     "name": "stdout",
     "output_type": "stream",
     "text": [
      "Epoch 990 validation: negative log likelihood loss=nan, Accuracy=0.2590448558330536\n"
     ]
    },
    {
     "name": "stderr",
     "output_type": "stream",
     "text": [
      "Epoch 991: 100%|██████████| 7/7 [00:00<00:00, 97.22batch/s, acc=0.262, loss=nan]\n"
     ]
    },
    {
     "name": "stdout",
     "output_type": "stream",
     "text": [
      "Epoch 991 validation: negative log likelihood loss=nan, Accuracy=0.2590448558330536\n"
     ]
    },
    {
     "name": "stderr",
     "output_type": "stream",
     "text": [
      "Epoch 992: 100%|██████████| 7/7 [00:00<00:00, 94.60batch/s, acc=0.262, loss=nan]\n"
     ]
    },
    {
     "name": "stdout",
     "output_type": "stream",
     "text": [
      "Epoch 992 validation: negative log likelihood loss=nan, Accuracy=0.2590448558330536\n"
     ]
    },
    {
     "name": "stderr",
     "output_type": "stream",
     "text": [
      "Epoch 993: 100%|██████████| 7/7 [00:00<00:00, 98.59batch/s, acc=0.262, loss=nan] \n"
     ]
    },
    {
     "name": "stdout",
     "output_type": "stream",
     "text": [
      "Epoch 993 validation: negative log likelihood loss=nan, Accuracy=0.2590448558330536\n"
     ]
    },
    {
     "name": "stderr",
     "output_type": "stream",
     "text": [
      "Epoch 994: 100%|██████████| 7/7 [00:00<00:00, 101.45batch/s, acc=0.262, loss=nan]\n"
     ]
    },
    {
     "name": "stdout",
     "output_type": "stream",
     "text": [
      "Epoch 994 validation: negative log likelihood loss=nan, Accuracy=0.2590448558330536\n"
     ]
    },
    {
     "name": "stderr",
     "output_type": "stream",
     "text": [
      "Epoch 995: 100%|██████████| 7/7 [00:00<00:00, 102.94batch/s, acc=0.262, loss=nan]\n"
     ]
    },
    {
     "name": "stdout",
     "output_type": "stream",
     "text": [
      "Epoch 995 validation: negative log likelihood loss=nan, Accuracy=0.2590448558330536\n"
     ]
    },
    {
     "name": "stderr",
     "output_type": "stream",
     "text": [
      "Epoch 996: 100%|██████████| 7/7 [00:00<00:00, 49.30batch/s, acc=0.262, loss=nan]\n"
     ]
    },
    {
     "name": "stdout",
     "output_type": "stream",
     "text": [
      "Epoch 996 validation: negative log likelihood loss=nan, Accuracy=0.2590448558330536\n"
     ]
    },
    {
     "name": "stderr",
     "output_type": "stream",
     "text": [
      "Epoch 997: 100%|██████████| 7/7 [00:00<00:00, 95.89batch/s, acc=0.262, loss=nan]\n"
     ]
    },
    {
     "name": "stdout",
     "output_type": "stream",
     "text": [
      "Epoch 997 validation: negative log likelihood loss=nan, Accuracy=0.2590448558330536\n"
     ]
    },
    {
     "name": "stderr",
     "output_type": "stream",
     "text": [
      "Epoch 998: 100%|██████████| 7/7 [00:00<00:00, 100.00batch/s, acc=0.262, loss=nan]\n"
     ]
    },
    {
     "name": "stdout",
     "output_type": "stream",
     "text": [
      "Epoch 998 validation: negative log likelihood loss=nan, Accuracy=0.2590448558330536\n"
     ]
    },
    {
     "name": "stderr",
     "output_type": "stream",
     "text": [
      "Epoch 999: 100%|██████████| 7/7 [00:00<00:00, 97.22batch/s, acc=0.262, loss=nan]\n"
     ]
    },
    {
     "name": "stdout",
     "output_type": "stream",
     "text": [
      "Epoch 999 validation: negative log likelihood loss=nan, Accuracy=0.2590448558330536\n"
     ]
    },
    {
     "name": "stderr",
     "output_type": "stream",
     "text": [
      "Epoch 1000: 100%|██████████| 7/7 [00:00<00:00, 101.45batch/s, acc=0.262, loss=nan]\n"
     ]
    },
    {
     "name": "stdout",
     "output_type": "stream",
     "text": [
      "Epoch 1000 validation: negative log likelihood loss=nan, Accuracy=0.2590448558330536\n"
     ]
    },
    {
     "name": "stderr",
     "output_type": "stream",
     "text": [
      "Epoch 1001: 100%|██████████| 7/7 [00:00<00:00, 95.89batch/s, acc=0.262, loss=nan] \n"
     ]
    },
    {
     "name": "stdout",
     "output_type": "stream",
     "text": [
      "Epoch 1001 validation: negative log likelihood loss=nan, Accuracy=0.2590448558330536\n"
     ]
    },
    {
     "name": "stderr",
     "output_type": "stream",
     "text": [
      "Epoch 1002: 100%|██████████| 7/7 [00:00<00:00, 93.34batch/s, acc=0.262, loss=nan]\n"
     ]
    },
    {
     "name": "stdout",
     "output_type": "stream",
     "text": [
      "Epoch 1002 validation: negative log likelihood loss=nan, Accuracy=0.2590448558330536\n"
     ]
    },
    {
     "name": "stderr",
     "output_type": "stream",
     "text": [
      "Epoch 1003: 100%|██████████| 7/7 [00:00<00:00, 94.60batch/s, acc=0.262, loss=nan]\n"
     ]
    },
    {
     "name": "stdout",
     "output_type": "stream",
     "text": [
      "Epoch 1003 validation: negative log likelihood loss=nan, Accuracy=0.2590448558330536\n"
     ]
    },
    {
     "name": "stderr",
     "output_type": "stream",
     "text": [
      "Epoch 1004: 100%|██████████| 7/7 [00:00<00:00, 100.00batch/s, acc=0.262, loss=nan]\n"
     ]
    },
    {
     "name": "stdout",
     "output_type": "stream",
     "text": [
      "Epoch 1004 validation: negative log likelihood loss=nan, Accuracy=0.2590448558330536\n"
     ]
    },
    {
     "name": "stderr",
     "output_type": "stream",
     "text": [
      "Epoch 1005: 100%|██████████| 7/7 [00:00<00:00, 46.98batch/s, acc=0.262, loss=nan]\n"
     ]
    },
    {
     "name": "stdout",
     "output_type": "stream",
     "text": [
      "Epoch 1005 validation: negative log likelihood loss=nan, Accuracy=0.2590448558330536\n"
     ]
    },
    {
     "name": "stderr",
     "output_type": "stream",
     "text": [
      "Epoch 1006: 100%|██████████| 7/7 [00:00<00:00, 86.42batch/s, acc=0.262, loss=nan]\n"
     ]
    },
    {
     "name": "stdout",
     "output_type": "stream",
     "text": [
      "Epoch 1006 validation: negative log likelihood loss=nan, Accuracy=0.2590448558330536\n"
     ]
    },
    {
     "name": "stderr",
     "output_type": "stream",
     "text": [
      "Epoch 1007: 100%|██████████| 7/7 [00:00<00:00, 100.00batch/s, acc=0.262, loss=nan]\n"
     ]
    },
    {
     "name": "stdout",
     "output_type": "stream",
     "text": [
      "Epoch 1007 validation: negative log likelihood loss=nan, Accuracy=0.2590448558330536\n"
     ]
    },
    {
     "name": "stderr",
     "output_type": "stream",
     "text": [
      "Epoch 1008: 100%|██████████| 7/7 [00:00<00:00, 98.59batch/s, acc=0.262, loss=nan] \n"
     ]
    },
    {
     "name": "stdout",
     "output_type": "stream",
     "text": [
      "Epoch 1008 validation: negative log likelihood loss=nan, Accuracy=0.2590448558330536\n"
     ]
    },
    {
     "name": "stderr",
     "output_type": "stream",
     "text": [
      "Epoch 1009: 100%|██████████| 7/7 [00:00<00:00, 101.45batch/s, acc=0.262, loss=nan]\n"
     ]
    },
    {
     "name": "stdout",
     "output_type": "stream",
     "text": [
      "Epoch 1009 validation: negative log likelihood loss=nan, Accuracy=0.2590448558330536\n"
     ]
    },
    {
     "name": "stderr",
     "output_type": "stream",
     "text": [
      "Epoch 1010: 100%|██████████| 7/7 [00:00<00:00, 94.60batch/s, acc=0.262, loss=nan] \n"
     ]
    },
    {
     "name": "stdout",
     "output_type": "stream",
     "text": [
      "Epoch 1010 validation: negative log likelihood loss=nan, Accuracy=0.2590448558330536\n"
     ]
    },
    {
     "name": "stderr",
     "output_type": "stream",
     "text": [
      "Epoch 1011: 100%|██████████| 7/7 [00:00<00:00, 95.89batch/s, acc=0.262, loss=nan]\n"
     ]
    },
    {
     "name": "stdout",
     "output_type": "stream",
     "text": [
      "Epoch 1011 validation: negative log likelihood loss=nan, Accuracy=0.2590448558330536\n"
     ]
    },
    {
     "name": "stderr",
     "output_type": "stream",
     "text": [
      "Epoch 1012: 100%|██████████| 7/7 [00:00<00:00, 94.59batch/s, acc=0.262, loss=nan]\n"
     ]
    },
    {
     "name": "stdout",
     "output_type": "stream",
     "text": [
      "Epoch 1012 validation: negative log likelihood loss=nan, Accuracy=0.2590448558330536\n"
     ]
    },
    {
     "name": "stderr",
     "output_type": "stream",
     "text": [
      "Epoch 1013: 100%|██████████| 7/7 [00:00<00:00, 45.16batch/s, acc=0.262, loss=nan]\n"
     ]
    },
    {
     "name": "stdout",
     "output_type": "stream",
     "text": [
      "Epoch 1013 validation: negative log likelihood loss=nan, Accuracy=0.2590448558330536\n"
     ]
    },
    {
     "name": "stderr",
     "output_type": "stream",
     "text": [
      "Epoch 1014: 100%|██████████| 7/7 [00:00<00:00, 90.91batch/s, acc=0.262, loss=nan]\n"
     ]
    },
    {
     "name": "stdout",
     "output_type": "stream",
     "text": [
      "Epoch 1014 validation: negative log likelihood loss=nan, Accuracy=0.2590448558330536\n"
     ]
    },
    {
     "name": "stderr",
     "output_type": "stream",
     "text": [
      "Epoch 1015: 100%|██████████| 7/7 [00:00<00:00, 92.11batch/s, acc=0.262, loss=nan] \n"
     ]
    },
    {
     "name": "stdout",
     "output_type": "stream",
     "text": [
      "Epoch 1015 validation: negative log likelihood loss=nan, Accuracy=0.2590448558330536\n"
     ]
    },
    {
     "name": "stderr",
     "output_type": "stream",
     "text": [
      "Epoch 1016: 100%|██████████| 7/7 [00:00<00:00, 97.23batch/s, acc=0.262, loss=nan] \n"
     ]
    },
    {
     "name": "stdout",
     "output_type": "stream",
     "text": [
      "Epoch 1016 validation: negative log likelihood loss=nan, Accuracy=0.2590448558330536\n"
     ]
    },
    {
     "name": "stderr",
     "output_type": "stream",
     "text": [
      "Epoch 1017: 100%|██████████| 7/7 [00:00<00:00, 97.22batch/s, acc=0.262, loss=nan] \n"
     ]
    },
    {
     "name": "stdout",
     "output_type": "stream",
     "text": [
      "Epoch 1017 validation: negative log likelihood loss=nan, Accuracy=0.2590448558330536\n"
     ]
    },
    {
     "name": "stderr",
     "output_type": "stream",
     "text": [
      "Epoch 1018: 100%|██████████| 7/7 [00:00<00:00, 97.22batch/s, acc=0.262, loss=nan] \n"
     ]
    },
    {
     "name": "stdout",
     "output_type": "stream",
     "text": [
      "Epoch 1018 validation: negative log likelihood loss=nan, Accuracy=0.2590448558330536\n"
     ]
    },
    {
     "name": "stderr",
     "output_type": "stream",
     "text": [
      "Epoch 1019: 100%|██████████| 7/7 [00:00<00:00, 100.00batch/s, acc=0.262, loss=nan]\n"
     ]
    },
    {
     "name": "stdout",
     "output_type": "stream",
     "text": [
      "Epoch 1019 validation: negative log likelihood loss=nan, Accuracy=0.2590448558330536\n"
     ]
    },
    {
     "name": "stderr",
     "output_type": "stream",
     "text": [
      "Epoch 1020: 100%|██████████| 7/7 [00:00<00:00, 97.23batch/s, acc=0.262, loss=nan] \n"
     ]
    },
    {
     "name": "stdout",
     "output_type": "stream",
     "text": [
      "Epoch 1020 validation: negative log likelihood loss=nan, Accuracy=0.2590448558330536\n"
     ]
    },
    {
     "name": "stderr",
     "output_type": "stream",
     "text": [
      "Epoch 1021: 100%|██████████| 7/7 [00:00<00:00, 97.23batch/s, acc=0.262, loss=nan] \n"
     ]
    },
    {
     "name": "stdout",
     "output_type": "stream",
     "text": [
      "Epoch 1021 validation: negative log likelihood loss=nan, Accuracy=0.2590448558330536\n"
     ]
    },
    {
     "name": "stderr",
     "output_type": "stream",
     "text": [
      "Epoch 1022: 100%|██████████| 7/7 [00:00<00:00, 46.05batch/s, acc=0.262, loss=nan]\n"
     ]
    },
    {
     "name": "stdout",
     "output_type": "stream",
     "text": [
      "Epoch 1022 validation: negative log likelihood loss=nan, Accuracy=0.2590448558330536\n"
     ]
    },
    {
     "name": "stderr",
     "output_type": "stream",
     "text": [
      "Epoch 1023: 100%|██████████| 7/7 [00:00<00:00, 100.00batch/s, acc=0.262, loss=nan]\n"
     ]
    },
    {
     "name": "stdout",
     "output_type": "stream",
     "text": [
      "Epoch 1023 validation: negative log likelihood loss=nan, Accuracy=0.2590448558330536\n"
     ]
    },
    {
     "name": "stderr",
     "output_type": "stream",
     "text": [
      "Epoch 1024: 100%|██████████| 7/7 [00:00<00:00, 94.60batch/s, acc=0.262, loss=nan]\n"
     ]
    },
    {
     "name": "stdout",
     "output_type": "stream",
     "text": [
      "Epoch 1024 validation: negative log likelihood loss=nan, Accuracy=0.2590448558330536\n"
     ]
    },
    {
     "name": "stderr",
     "output_type": "stream",
     "text": [
      "Epoch 1025: 100%|██████████| 7/7 [00:00<00:00, 98.60batch/s, acc=0.262, loss=nan] \n"
     ]
    },
    {
     "name": "stdout",
     "output_type": "stream",
     "text": [
      "Epoch 1025 validation: negative log likelihood loss=nan, Accuracy=0.2590448558330536\n"
     ]
    },
    {
     "name": "stderr",
     "output_type": "stream",
     "text": [
      "Epoch 1026: 100%|██████████| 7/7 [00:00<00:00, 98.59batch/s, acc=0.262, loss=nan] \n"
     ]
    },
    {
     "name": "stdout",
     "output_type": "stream",
     "text": [
      "Epoch 1026 validation: negative log likelihood loss=nan, Accuracy=0.2590448558330536\n"
     ]
    },
    {
     "name": "stderr",
     "output_type": "stream",
     "text": [
      "Epoch 1027: 100%|██████████| 7/7 [00:00<00:00, 94.59batch/s, acc=0.262, loss=nan]\n"
     ]
    },
    {
     "name": "stdout",
     "output_type": "stream",
     "text": [
      "Epoch 1027 validation: negative log likelihood loss=nan, Accuracy=0.2590448558330536\n"
     ]
    },
    {
     "name": "stderr",
     "output_type": "stream",
     "text": [
      "Epoch 1028: 100%|██████████| 7/7 [00:00<00:00, 90.91batch/s, acc=0.262, loss=nan]\n"
     ]
    },
    {
     "name": "stdout",
     "output_type": "stream",
     "text": [
      "Epoch 1028 validation: negative log likelihood loss=nan, Accuracy=0.2590448558330536\n"
     ]
    },
    {
     "name": "stderr",
     "output_type": "stream",
     "text": [
      "Epoch 1029: 100%|██████████| 7/7 [00:00<00:00, 97.23batch/s, acc=0.262, loss=nan] \n"
     ]
    },
    {
     "name": "stdout",
     "output_type": "stream",
     "text": [
      "Epoch 1029 validation: negative log likelihood loss=nan, Accuracy=0.2590448558330536\n"
     ]
    },
    {
     "name": "stderr",
     "output_type": "stream",
     "text": [
      "Epoch 1030: 100%|██████████| 7/7 [00:00<00:00, 86.41batch/s, acc=0.262, loss=nan]\n"
     ]
    },
    {
     "name": "stdout",
     "output_type": "stream",
     "text": [
      "Epoch 1030 validation: negative log likelihood loss=nan, Accuracy=0.2590448558330536\n"
     ]
    },
    {
     "name": "stderr",
     "output_type": "stream",
     "text": [
      "Epoch 1031: 100%|██████████| 7/7 [00:00<00:00, 73.68batch/s, acc=0.262, loss=nan]\n"
     ]
    },
    {
     "name": "stdout",
     "output_type": "stream",
     "text": [
      "Epoch 1031 validation: negative log likelihood loss=nan, Accuracy=0.2590448558330536\n"
     ]
    },
    {
     "name": "stderr",
     "output_type": "stream",
     "text": [
      "Epoch 1032: 100%|██████████| 7/7 [00:00<00:00, 88.61batch/s, acc=0.262, loss=nan]\n"
     ]
    },
    {
     "name": "stdout",
     "output_type": "stream",
     "text": [
      "Epoch 1032 validation: negative log likelihood loss=nan, Accuracy=0.2590448558330536\n"
     ]
    },
    {
     "name": "stderr",
     "output_type": "stream",
     "text": [
      "Epoch 1033: 100%|██████████| 7/7 [00:00<00:00, 93.33batch/s, acc=0.262, loss=nan]\n"
     ]
    },
    {
     "name": "stdout",
     "output_type": "stream",
     "text": [
      "Epoch 1033 validation: negative log likelihood loss=nan, Accuracy=0.2590448558330536\n"
     ]
    },
    {
     "name": "stderr",
     "output_type": "stream",
     "text": [
      "Epoch 1034: 100%|██████████| 7/7 [00:00<00:00, 93.33batch/s, acc=0.262, loss=nan]\n"
     ]
    },
    {
     "name": "stdout",
     "output_type": "stream",
     "text": [
      "Epoch 1034 validation: negative log likelihood loss=nan, Accuracy=0.2590448558330536\n"
     ]
    },
    {
     "name": "stderr",
     "output_type": "stream",
     "text": [
      "Epoch 1035: 100%|██████████| 7/7 [00:00<00:00, 97.22batch/s, acc=0.262, loss=nan] \n"
     ]
    },
    {
     "name": "stdout",
     "output_type": "stream",
     "text": [
      "Epoch 1035 validation: negative log likelihood loss=nan, Accuracy=0.2590448558330536\n"
     ]
    },
    {
     "name": "stderr",
     "output_type": "stream",
     "text": [
      "Epoch 1036: 100%|██████████| 7/7 [00:00<00:00, 97.22batch/s, acc=0.262, loss=nan] \n"
     ]
    },
    {
     "name": "stdout",
     "output_type": "stream",
     "text": [
      "Epoch 1036 validation: negative log likelihood loss=nan, Accuracy=0.2590448558330536\n"
     ]
    },
    {
     "name": "stderr",
     "output_type": "stream",
     "text": [
      "Epoch 1037: 100%|██████████| 7/7 [00:00<00:00, 98.59batch/s, acc=0.262, loss=nan] \n"
     ]
    },
    {
     "name": "stdout",
     "output_type": "stream",
     "text": [
      "Epoch 1037 validation: negative log likelihood loss=nan, Accuracy=0.2590448558330536\n"
     ]
    },
    {
     "name": "stderr",
     "output_type": "stream",
     "text": [
      "Epoch 1038: 100%|██████████| 7/7 [00:00<00:00, 98.60batch/s, acc=0.262, loss=nan] \n"
     ]
    },
    {
     "name": "stdout",
     "output_type": "stream",
     "text": [
      "Epoch 1038 validation: negative log likelihood loss=nan, Accuracy=0.2590448558330536\n"
     ]
    },
    {
     "name": "stderr",
     "output_type": "stream",
     "text": [
      "Epoch 1039: 100%|██████████| 7/7 [00:00<00:00, 49.65batch/s, acc=0.262, loss=nan]\n"
     ]
    },
    {
     "name": "stdout",
     "output_type": "stream",
     "text": [
      "Epoch 1039 validation: negative log likelihood loss=nan, Accuracy=0.2590448558330536\n"
     ]
    },
    {
     "name": "stderr",
     "output_type": "stream",
     "text": [
      "Epoch 1040: 100%|██████████| 7/7 [00:00<00:00, 93.34batch/s, acc=0.262, loss=nan] \n"
     ]
    },
    {
     "name": "stdout",
     "output_type": "stream",
     "text": [
      "Epoch 1040 validation: negative log likelihood loss=nan, Accuracy=0.2590448558330536\n"
     ]
    },
    {
     "name": "stderr",
     "output_type": "stream",
     "text": [
      "Epoch 1041: 100%|██████████| 7/7 [00:00<00:00, 95.89batch/s, acc=0.262, loss=nan] \n"
     ]
    },
    {
     "name": "stdout",
     "output_type": "stream",
     "text": [
      "Epoch 1041 validation: negative log likelihood loss=nan, Accuracy=0.2590448558330536\n"
     ]
    },
    {
     "name": "stderr",
     "output_type": "stream",
     "text": [
      "Epoch 1042: 100%|██████████| 7/7 [00:00<00:00, 93.33batch/s, acc=0.262, loss=nan]\n"
     ]
    },
    {
     "name": "stdout",
     "output_type": "stream",
     "text": [
      "Epoch 1042 validation: negative log likelihood loss=nan, Accuracy=0.2590448558330536\n"
     ]
    },
    {
     "name": "stderr",
     "output_type": "stream",
     "text": [
      "Epoch 1043: 100%|██████████| 7/7 [00:00<00:00, 97.22batch/s, acc=0.262, loss=nan]\n"
     ]
    },
    {
     "name": "stdout",
     "output_type": "stream",
     "text": [
      "Epoch 1043 validation: negative log likelihood loss=nan, Accuracy=0.2590448558330536\n"
     ]
    },
    {
     "name": "stderr",
     "output_type": "stream",
     "text": [
      "Epoch 1044: 100%|██████████| 7/7 [00:00<00:00, 101.45batch/s, acc=0.262, loss=nan]\n"
     ]
    },
    {
     "name": "stdout",
     "output_type": "stream",
     "text": [
      "Epoch 1044 validation: negative log likelihood loss=nan, Accuracy=0.2590448558330536\n"
     ]
    },
    {
     "name": "stderr",
     "output_type": "stream",
     "text": [
      "Epoch 1045: 100%|██████████| 7/7 [00:00<00:00, 98.59batch/s, acc=0.262, loss=nan] \n"
     ]
    },
    {
     "name": "stdout",
     "output_type": "stream",
     "text": [
      "Epoch 1045 validation: negative log likelihood loss=nan, Accuracy=0.2590448558330536\n"
     ]
    },
    {
     "name": "stderr",
     "output_type": "stream",
     "text": [
      "Epoch 1046: 100%|██████████| 7/7 [00:00<00:00, 95.89batch/s, acc=0.262, loss=nan] \n"
     ]
    },
    {
     "name": "stdout",
     "output_type": "stream",
     "text": [
      "Epoch 1046 validation: negative log likelihood loss=nan, Accuracy=0.2590448558330536\n"
     ]
    },
    {
     "name": "stderr",
     "output_type": "stream",
     "text": [
      "Epoch 1047: 100%|██████████| 7/7 [00:00<00:00, 95.89batch/s, acc=0.262, loss=nan]\n"
     ]
    },
    {
     "name": "stdout",
     "output_type": "stream",
     "text": [
      "Epoch 1047 validation: negative log likelihood loss=nan, Accuracy=0.2590448558330536\n"
     ]
    },
    {
     "name": "stderr",
     "output_type": "stream",
     "text": [
      "Epoch 1048: 100%|██████████| 7/7 [00:00<00:00, 53.03batch/s, acc=0.262, loss=nan]\n"
     ]
    },
    {
     "name": "stdout",
     "output_type": "stream",
     "text": [
      "Epoch 1048 validation: negative log likelihood loss=nan, Accuracy=0.2590448558330536\n"
     ]
    },
    {
     "name": "stderr",
     "output_type": "stream",
     "text": [
      "Epoch 1049: 100%|██████████| 7/7 [00:00<00:00, 85.37batch/s, acc=0.262, loss=nan]\n"
     ]
    },
    {
     "name": "stdout",
     "output_type": "stream",
     "text": [
      "Epoch 1049 validation: negative log likelihood loss=nan, Accuracy=0.2590448558330536\n"
     ]
    },
    {
     "name": "stderr",
     "output_type": "stream",
     "text": [
      "Epoch 1050: 100%|██████████| 7/7 [00:00<00:00, 92.10batch/s, acc=0.262, loss=nan]\n"
     ]
    },
    {
     "name": "stdout",
     "output_type": "stream",
     "text": [
      "Epoch 1050 validation: negative log likelihood loss=nan, Accuracy=0.2590448558330536\n"
     ]
    },
    {
     "name": "stderr",
     "output_type": "stream",
     "text": [
      "Epoch 1051: 100%|██████████| 7/7 [00:00<00:00, 95.89batch/s, acc=0.262, loss=nan] \n"
     ]
    },
    {
     "name": "stdout",
     "output_type": "stream",
     "text": [
      "Epoch 1051 validation: negative log likelihood loss=nan, Accuracy=0.2590448558330536\n"
     ]
    },
    {
     "name": "stderr",
     "output_type": "stream",
     "text": [
      "Epoch 1052: 100%|██████████| 7/7 [00:00<00:00, 94.60batch/s, acc=0.262, loss=nan]\n"
     ]
    },
    {
     "name": "stdout",
     "output_type": "stream",
     "text": [
      "Epoch 1052 validation: negative log likelihood loss=nan, Accuracy=0.2590448558330536\n"
     ]
    },
    {
     "name": "stderr",
     "output_type": "stream",
     "text": [
      "Epoch 1053: 100%|██████████| 7/7 [00:00<00:00, 89.74batch/s, acc=0.262, loss=nan]\n"
     ]
    },
    {
     "name": "stdout",
     "output_type": "stream",
     "text": [
      "Epoch 1053 validation: negative log likelihood loss=nan, Accuracy=0.2590448558330536\n"
     ]
    },
    {
     "name": "stderr",
     "output_type": "stream",
     "text": [
      "Epoch 1054: 100%|██████████| 7/7 [00:00<00:00, 95.89batch/s, acc=0.262, loss=nan] \n"
     ]
    },
    {
     "name": "stdout",
     "output_type": "stream",
     "text": [
      "Epoch 1054 validation: negative log likelihood loss=nan, Accuracy=0.2590448558330536\n"
     ]
    },
    {
     "name": "stderr",
     "output_type": "stream",
     "text": [
      "Epoch 1055: 100%|██████████| 7/7 [00:00<00:00, 95.89batch/s, acc=0.262, loss=nan] \n"
     ]
    },
    {
     "name": "stdout",
     "output_type": "stream",
     "text": [
      "Epoch 1055 validation: negative log likelihood loss=nan, Accuracy=0.2590448558330536\n"
     ]
    },
    {
     "name": "stderr",
     "output_type": "stream",
     "text": [
      "Epoch 1056: 100%|██████████| 7/7 [00:00<00:00, 95.90batch/s, acc=0.262, loss=nan] \n"
     ]
    },
    {
     "name": "stdout",
     "output_type": "stream",
     "text": [
      "Epoch 1056 validation: negative log likelihood loss=nan, Accuracy=0.2590448558330536\n"
     ]
    },
    {
     "name": "stderr",
     "output_type": "stream",
     "text": [
      "Epoch 1057: 100%|██████████| 7/7 [00:00<00:00, 46.67batch/s, acc=0.262, loss=nan]\n"
     ]
    },
    {
     "name": "stdout",
     "output_type": "stream",
     "text": [
      "Epoch 1057 validation: negative log likelihood loss=nan, Accuracy=0.2590448558330536\n"
     ]
    },
    {
     "name": "stderr",
     "output_type": "stream",
     "text": [
      "Epoch 1058: 100%|██████████| 7/7 [00:00<00:00, 92.11batch/s, acc=0.262, loss=nan]\n"
     ]
    },
    {
     "name": "stdout",
     "output_type": "stream",
     "text": [
      "Epoch 1058 validation: negative log likelihood loss=nan, Accuracy=0.2590448558330536\n"
     ]
    },
    {
     "name": "stderr",
     "output_type": "stream",
     "text": [
      "Epoch 1059: 100%|██████████| 7/7 [00:00<00:00, 92.11batch/s, acc=0.262, loss=nan]\n"
     ]
    },
    {
     "name": "stdout",
     "output_type": "stream",
     "text": [
      "Epoch 1059 validation: negative log likelihood loss=nan, Accuracy=0.2590448558330536\n"
     ]
    },
    {
     "name": "stderr",
     "output_type": "stream",
     "text": [
      "Epoch 1060: 100%|██████████| 7/7 [00:00<00:00, 93.33batch/s, acc=0.262, loss=nan]\n"
     ]
    },
    {
     "name": "stdout",
     "output_type": "stream",
     "text": [
      "Epoch 1060 validation: negative log likelihood loss=nan, Accuracy=0.2590448558330536\n"
     ]
    },
    {
     "name": "stderr",
     "output_type": "stream",
     "text": [
      "Epoch 1061: 100%|██████████| 7/7 [00:00<00:00, 86.42batch/s, acc=0.262, loss=nan]\n"
     ]
    },
    {
     "name": "stdout",
     "output_type": "stream",
     "text": [
      "Epoch 1061 validation: negative log likelihood loss=nan, Accuracy=0.2590448558330536\n"
     ]
    },
    {
     "name": "stderr",
     "output_type": "stream",
     "text": [
      "Epoch 1062: 100%|██████████| 7/7 [00:00<00:00, 92.11batch/s, acc=0.262, loss=nan]\n"
     ]
    },
    {
     "name": "stdout",
     "output_type": "stream",
     "text": [
      "Epoch 1062 validation: negative log likelihood loss=nan, Accuracy=0.2590448558330536\n"
     ]
    },
    {
     "name": "stderr",
     "output_type": "stream",
     "text": [
      "Epoch 1063: 100%|██████████| 7/7 [00:00<00:00, 90.91batch/s, acc=0.262, loss=nan]\n"
     ]
    },
    {
     "name": "stdout",
     "output_type": "stream",
     "text": [
      "Epoch 1063 validation: negative log likelihood loss=nan, Accuracy=0.2590448558330536\n"
     ]
    },
    {
     "name": "stderr",
     "output_type": "stream",
     "text": [
      "Epoch 1064: 100%|██████████| 7/7 [00:00<00:00, 89.74batch/s, acc=0.262, loss=nan]\n"
     ]
    },
    {
     "name": "stdout",
     "output_type": "stream",
     "text": [
      "Epoch 1064 validation: negative log likelihood loss=nan, Accuracy=0.2590448558330536\n"
     ]
    },
    {
     "name": "stderr",
     "output_type": "stream",
     "text": [
      "Epoch 1065: 100%|██████████| 7/7 [00:00<00:00, 93.33batch/s, acc=0.262, loss=nan]\n"
     ]
    },
    {
     "name": "stdout",
     "output_type": "stream",
     "text": [
      "Epoch 1065 validation: negative log likelihood loss=nan, Accuracy=0.2590448558330536\n"
     ]
    },
    {
     "name": "stderr",
     "output_type": "stream",
     "text": [
      "Epoch 1066: 100%|██████████| 7/7 [00:00<00:00, 95.89batch/s, acc=0.262, loss=nan] \n"
     ]
    },
    {
     "name": "stdout",
     "output_type": "stream",
     "text": [
      "Epoch 1066 validation: negative log likelihood loss=nan, Accuracy=0.2590448558330536\n"
     ]
    },
    {
     "name": "stderr",
     "output_type": "stream",
     "text": [
      "Epoch 1067: 100%|██████████| 7/7 [00:00<00:00, 47.94batch/s, acc=0.262, loss=nan]\n"
     ]
    },
    {
     "name": "stdout",
     "output_type": "stream",
     "text": [
      "Epoch 1067 validation: negative log likelihood loss=nan, Accuracy=0.2590448558330536\n"
     ]
    },
    {
     "name": "stderr",
     "output_type": "stream",
     "text": [
      "Epoch 1068: 100%|██████████| 7/7 [00:00<00:00, 89.75batch/s, acc=0.262, loss=nan]\n"
     ]
    },
    {
     "name": "stdout",
     "output_type": "stream",
     "text": [
      "Epoch 1068 validation: negative log likelihood loss=nan, Accuracy=0.2590448558330536\n"
     ]
    },
    {
     "name": "stderr",
     "output_type": "stream",
     "text": [
      "Epoch 1069: 100%|██████████| 7/7 [00:00<00:00, 89.74batch/s, acc=0.262, loss=nan]\n"
     ]
    },
    {
     "name": "stdout",
     "output_type": "stream",
     "text": [
      "Epoch 1069 validation: negative log likelihood loss=nan, Accuracy=0.2590448558330536\n"
     ]
    },
    {
     "name": "stderr",
     "output_type": "stream",
     "text": [
      "Epoch 1070: 100%|██████████| 7/7 [00:00<00:00, 90.91batch/s, acc=0.262, loss=nan]\n"
     ]
    },
    {
     "name": "stdout",
     "output_type": "stream",
     "text": [
      "Epoch 1070 validation: negative log likelihood loss=nan, Accuracy=0.2590448558330536\n"
     ]
    },
    {
     "name": "stderr",
     "output_type": "stream",
     "text": [
      "Epoch 1071: 100%|██████████| 7/7 [00:00<00:00, 90.91batch/s, acc=0.262, loss=nan]\n"
     ]
    },
    {
     "name": "stdout",
     "output_type": "stream",
     "text": [
      "Epoch 1071 validation: negative log likelihood loss=nan, Accuracy=0.2590448558330536\n"
     ]
    },
    {
     "name": "stderr",
     "output_type": "stream",
     "text": [
      "Epoch 1072: 100%|██████████| 7/7 [00:00<00:00, 89.75batch/s, acc=0.262, loss=nan]\n"
     ]
    },
    {
     "name": "stdout",
     "output_type": "stream",
     "text": [
      "Epoch 1072 validation: negative log likelihood loss=nan, Accuracy=0.2590448558330536\n"
     ]
    },
    {
     "name": "stderr",
     "output_type": "stream",
     "text": [
      "Epoch 1073: 100%|██████████| 7/7 [00:00<00:00, 93.34batch/s, acc=0.262, loss=nan]\n"
     ]
    },
    {
     "name": "stdout",
     "output_type": "stream",
     "text": [
      "Epoch 1073 validation: negative log likelihood loss=nan, Accuracy=0.2590448558330536\n"
     ]
    },
    {
     "name": "stderr",
     "output_type": "stream",
     "text": [
      "Epoch 1074: 100%|██████████| 7/7 [00:00<00:00, 93.33batch/s, acc=0.262, loss=nan]\n"
     ]
    },
    {
     "name": "stdout",
     "output_type": "stream",
     "text": [
      "Epoch 1074 validation: negative log likelihood loss=nan, Accuracy=0.2590448558330536\n"
     ]
    },
    {
     "name": "stderr",
     "output_type": "stream",
     "text": [
      "Epoch 1075: 100%|██████████| 7/7 [00:00<00:00, 92.11batch/s, acc=0.262, loss=nan]\n"
     ]
    },
    {
     "name": "stdout",
     "output_type": "stream",
     "text": [
      "Epoch 1075 validation: negative log likelihood loss=nan, Accuracy=0.2590448558330536\n"
     ]
    },
    {
     "name": "stderr",
     "output_type": "stream",
     "text": [
      "Epoch 1076: 100%|██████████| 7/7 [00:00<00:00, 97.23batch/s, acc=0.262, loss=nan] \n"
     ]
    },
    {
     "name": "stdout",
     "output_type": "stream",
     "text": [
      "Epoch 1076 validation: negative log likelihood loss=nan, Accuracy=0.2590448558330536\n"
     ]
    },
    {
     "name": "stderr",
     "output_type": "stream",
     "text": [
      "Epoch 1077: 100%|██████████| 7/7 [00:00<00:00, 93.33batch/s, acc=0.262, loss=nan]\n"
     ]
    },
    {
     "name": "stdout",
     "output_type": "stream",
     "text": [
      "Epoch 1077 validation: negative log likelihood loss=nan, Accuracy=0.2590448558330536\n"
     ]
    },
    {
     "name": "stderr",
     "output_type": "stream",
     "text": [
      "Epoch 1078: 100%|██████████| 7/7 [00:00<00:00, 92.11batch/s, acc=0.262, loss=nan]\n"
     ]
    },
    {
     "name": "stdout",
     "output_type": "stream",
     "text": [
      "Epoch 1078 validation: negative log likelihood loss=nan, Accuracy=0.2590448558330536\n"
     ]
    },
    {
     "name": "stderr",
     "output_type": "stream",
     "text": [
      "Epoch 1079: 100%|██████████| 7/7 [00:00<00:00, 58.33batch/s, acc=0.262, loss=nan]\n"
     ]
    },
    {
     "name": "stdout",
     "output_type": "stream",
     "text": [
      "Epoch 1079 validation: negative log likelihood loss=nan, Accuracy=0.2590448558330536\n"
     ]
    },
    {
     "name": "stderr",
     "output_type": "stream",
     "text": [
      "Epoch 1080: 100%|██████████| 7/7 [00:00<00:00, 86.42batch/s, acc=0.262, loss=nan]\n"
     ]
    },
    {
     "name": "stdout",
     "output_type": "stream",
     "text": [
      "Epoch 1080 validation: negative log likelihood loss=nan, Accuracy=0.2590448558330536\n"
     ]
    },
    {
     "name": "stderr",
     "output_type": "stream",
     "text": [
      "Epoch 1081: 100%|██████████| 7/7 [00:00<00:00, 92.10batch/s, acc=0.262, loss=nan]\n"
     ]
    },
    {
     "name": "stdout",
     "output_type": "stream",
     "text": [
      "Epoch 1081 validation: negative log likelihood loss=nan, Accuracy=0.2590448558330536\n"
     ]
    },
    {
     "name": "stderr",
     "output_type": "stream",
     "text": [
      "Epoch 1082: 100%|██████████| 7/7 [00:00<00:00, 85.36batch/s, acc=0.262, loss=nan]\n"
     ]
    },
    {
     "name": "stdout",
     "output_type": "stream",
     "text": [
      "Epoch 1082 validation: negative log likelihood loss=nan, Accuracy=0.2590448558330536\n"
     ]
    },
    {
     "name": "stderr",
     "output_type": "stream",
     "text": [
      "Epoch 1083: 100%|██████████| 7/7 [00:00<00:00, 100.00batch/s, acc=0.262, loss=nan]\n"
     ]
    },
    {
     "name": "stdout",
     "output_type": "stream",
     "text": [
      "Epoch 1083 validation: negative log likelihood loss=nan, Accuracy=0.2590448558330536\n"
     ]
    },
    {
     "name": "stderr",
     "output_type": "stream",
     "text": [
      "Epoch 1084: 100%|██████████| 7/7 [00:00<00:00, 98.60batch/s, acc=0.262, loss=nan] \n"
     ]
    },
    {
     "name": "stdout",
     "output_type": "stream",
     "text": [
      "Epoch 1084 validation: negative log likelihood loss=nan, Accuracy=0.2590448558330536\n"
     ]
    },
    {
     "name": "stderr",
     "output_type": "stream",
     "text": [
      "Epoch 1085: 100%|██████████| 7/7 [00:00<00:00, 97.23batch/s, acc=0.262, loss=nan] \n"
     ]
    },
    {
     "name": "stdout",
     "output_type": "stream",
     "text": [
      "Epoch 1085 validation: negative log likelihood loss=nan, Accuracy=0.2590448558330536\n"
     ]
    },
    {
     "name": "stderr",
     "output_type": "stream",
     "text": [
      "Epoch 1086: 100%|██████████| 7/7 [00:00<00:00, 95.89batch/s, acc=0.262, loss=nan] \n"
     ]
    },
    {
     "name": "stdout",
     "output_type": "stream",
     "text": [
      "Epoch 1086 validation: negative log likelihood loss=nan, Accuracy=0.2590448558330536\n"
     ]
    },
    {
     "name": "stderr",
     "output_type": "stream",
     "text": [
      "Epoch 1087: 100%|██████████| 7/7 [00:00<00:00, 93.34batch/s, acc=0.262, loss=nan]\n"
     ]
    },
    {
     "name": "stdout",
     "output_type": "stream",
     "text": [
      "Epoch 1087 validation: negative log likelihood loss=nan, Accuracy=0.2590448558330536\n"
     ]
    },
    {
     "name": "stderr",
     "output_type": "stream",
     "text": [
      "Epoch 1088: 100%|██████████| 7/7 [00:00<00:00, 98.60batch/s, acc=0.262, loss=nan] \n"
     ]
    },
    {
     "name": "stdout",
     "output_type": "stream",
     "text": [
      "Epoch 1088 validation: negative log likelihood loss=nan, Accuracy=0.2590448558330536\n"
     ]
    },
    {
     "name": "stderr",
     "output_type": "stream",
     "text": [
      "Epoch 1089: 100%|██████████| 7/7 [00:00<00:00, 92.11batch/s, acc=0.262, loss=nan]\n"
     ]
    },
    {
     "name": "stdout",
     "output_type": "stream",
     "text": [
      "Epoch 1089 validation: negative log likelihood loss=nan, Accuracy=0.2590448558330536\n"
     ]
    },
    {
     "name": "stderr",
     "output_type": "stream",
     "text": [
      "Epoch 1090: 100%|██████████| 7/7 [00:00<00:00, 93.33batch/s, acc=0.262, loss=nan]\n"
     ]
    },
    {
     "name": "stdout",
     "output_type": "stream",
     "text": [
      "Epoch 1090 validation: negative log likelihood loss=nan, Accuracy=0.2590448558330536\n"
     ]
    },
    {
     "name": "stderr",
     "output_type": "stream",
     "text": [
      "Epoch 1091: 100%|██████████| 7/7 [00:00<00:00, 46.67batch/s, acc=0.262, loss=nan]\n"
     ]
    },
    {
     "name": "stdout",
     "output_type": "stream",
     "text": [
      "Epoch 1091 validation: negative log likelihood loss=nan, Accuracy=0.2590448558330536\n"
     ]
    },
    {
     "name": "stderr",
     "output_type": "stream",
     "text": [
      "Epoch 1092: 100%|██████████| 7/7 [00:00<00:00, 81.40batch/s, acc=0.262, loss=nan]\n"
     ]
    },
    {
     "name": "stdout",
     "output_type": "stream",
     "text": [
      "Epoch 1092 validation: negative log likelihood loss=nan, Accuracy=0.2590448558330536\n"
     ]
    },
    {
     "name": "stderr",
     "output_type": "stream",
     "text": [
      "Epoch 1093: 100%|██████████| 7/7 [00:00<00:00, 93.34batch/s, acc=0.262, loss=nan]\n"
     ]
    },
    {
     "name": "stdout",
     "output_type": "stream",
     "text": [
      "Epoch 1093 validation: negative log likelihood loss=nan, Accuracy=0.2590448558330536\n"
     ]
    },
    {
     "name": "stderr",
     "output_type": "stream",
     "text": [
      "Epoch 1094: 100%|██████████| 7/7 [00:00<00:00, 90.91batch/s, acc=0.262, loss=nan]\n"
     ]
    },
    {
     "name": "stdout",
     "output_type": "stream",
     "text": [
      "Epoch 1094 validation: negative log likelihood loss=nan, Accuracy=0.2590448558330536\n"
     ]
    },
    {
     "name": "stderr",
     "output_type": "stream",
     "text": [
      "Epoch 1095: 100%|██████████| 7/7 [00:00<00:00, 95.89batch/s, acc=0.262, loss=nan] \n"
     ]
    },
    {
     "name": "stdout",
     "output_type": "stream",
     "text": [
      "Epoch 1095 validation: negative log likelihood loss=nan, Accuracy=0.2590448558330536\n"
     ]
    },
    {
     "name": "stderr",
     "output_type": "stream",
     "text": [
      "Epoch 1096: 100%|██████████| 7/7 [00:00<00:00, 95.89batch/s, acc=0.262, loss=nan] \n"
     ]
    },
    {
     "name": "stdout",
     "output_type": "stream",
     "text": [
      "Epoch 1096 validation: negative log likelihood loss=nan, Accuracy=0.2590448558330536\n"
     ]
    },
    {
     "name": "stderr",
     "output_type": "stream",
     "text": [
      "Epoch 1097: 100%|██████████| 7/7 [00:00<00:00, 100.00batch/s, acc=0.262, loss=nan]\n"
     ]
    },
    {
     "name": "stdout",
     "output_type": "stream",
     "text": [
      "Epoch 1097 validation: negative log likelihood loss=nan, Accuracy=0.2590448558330536\n"
     ]
    },
    {
     "name": "stderr",
     "output_type": "stream",
     "text": [
      "Epoch 1098: 100%|██████████| 7/7 [00:00<00:00, 101.45batch/s, acc=0.262, loss=nan]\n"
     ]
    },
    {
     "name": "stdout",
     "output_type": "stream",
     "text": [
      "Epoch 1098 validation: negative log likelihood loss=nan, Accuracy=0.2590448558330536\n"
     ]
    },
    {
     "name": "stderr",
     "output_type": "stream",
     "text": [
      "Epoch 1099: 100%|██████████| 7/7 [00:00<00:00, 93.34batch/s, acc=0.262, loss=nan]\n"
     ]
    },
    {
     "name": "stdout",
     "output_type": "stream",
     "text": [
      "Epoch 1099 validation: negative log likelihood loss=nan, Accuracy=0.2590448558330536\n"
     ]
    },
    {
     "name": "stderr",
     "output_type": "stream",
     "text": [
      "Epoch 1100: 100%|██████████| 7/7 [00:00<00:00, 95.89batch/s, acc=0.262, loss=nan] \n"
     ]
    },
    {
     "name": "stdout",
     "output_type": "stream",
     "text": [
      "Epoch 1100 validation: negative log likelihood loss=nan, Accuracy=0.2590448558330536\n"
     ]
    },
    {
     "name": "stderr",
     "output_type": "stream",
     "text": [
      "Epoch 1101: 100%|██████████| 7/7 [00:00<00:00, 98.59batch/s, acc=0.262, loss=nan] \n"
     ]
    },
    {
     "name": "stdout",
     "output_type": "stream",
     "text": [
      "Epoch 1101 validation: negative log likelihood loss=nan, Accuracy=0.2590448558330536\n"
     ]
    },
    {
     "name": "stderr",
     "output_type": "stream",
     "text": [
      "Epoch 1102: 100%|██████████| 7/7 [00:00<00:00, 101.45batch/s, acc=0.262, loss=nan]\n"
     ]
    },
    {
     "name": "stdout",
     "output_type": "stream",
     "text": [
      "Epoch 1102 validation: negative log likelihood loss=nan, Accuracy=0.2590448558330536\n"
     ]
    },
    {
     "name": "stderr",
     "output_type": "stream",
     "text": [
      "Epoch 1103: 100%|██████████| 7/7 [00:00<00:00, 98.59batch/s, acc=0.262, loss=nan] \n"
     ]
    },
    {
     "name": "stdout",
     "output_type": "stream",
     "text": [
      "Epoch 1103 validation: negative log likelihood loss=nan, Accuracy=0.2590448558330536\n"
     ]
    },
    {
     "name": "stderr",
     "output_type": "stream",
     "text": [
      "Epoch 1104: 100%|██████████| 7/7 [00:00<00:00, 43.75batch/s, acc=0.262, loss=nan]\n"
     ]
    },
    {
     "name": "stdout",
     "output_type": "stream",
     "text": [
      "Epoch 1104 validation: negative log likelihood loss=nan, Accuracy=0.2590448558330536\n"
     ]
    },
    {
     "name": "stderr",
     "output_type": "stream",
     "text": [
      "Epoch 1105: 100%|██████████| 7/7 [00:00<00:00, 92.10batch/s, acc=0.262, loss=nan]\n"
     ]
    },
    {
     "name": "stdout",
     "output_type": "stream",
     "text": [
      "Epoch 1105 validation: negative log likelihood loss=nan, Accuracy=0.2590448558330536\n"
     ]
    },
    {
     "name": "stderr",
     "output_type": "stream",
     "text": [
      "Epoch 1106: 100%|██████████| 7/7 [00:00<00:00, 92.11batch/s, acc=0.262, loss=nan]\n"
     ]
    },
    {
     "name": "stdout",
     "output_type": "stream",
     "text": [
      "Epoch 1106 validation: negative log likelihood loss=nan, Accuracy=0.2590448558330536\n"
     ]
    },
    {
     "name": "stderr",
     "output_type": "stream",
     "text": [
      "Epoch 1107: 100%|██████████| 7/7 [00:00<00:00, 97.22batch/s, acc=0.262, loss=nan]\n"
     ]
    },
    {
     "name": "stdout",
     "output_type": "stream",
     "text": [
      "Epoch 1107 validation: negative log likelihood loss=nan, Accuracy=0.2590448558330536\n"
     ]
    },
    {
     "name": "stderr",
     "output_type": "stream",
     "text": [
      "Epoch 1108: 100%|██████████| 7/7 [00:00<00:00, 98.60batch/s, acc=0.262, loss=nan] \n"
     ]
    },
    {
     "name": "stdout",
     "output_type": "stream",
     "text": [
      "Epoch 1108 validation: negative log likelihood loss=nan, Accuracy=0.2590448558330536\n"
     ]
    },
    {
     "name": "stderr",
     "output_type": "stream",
     "text": [
      "Epoch 1109: 100%|██████████| 7/7 [00:00<00:00, 100.00batch/s, acc=0.262, loss=nan]\n"
     ]
    },
    {
     "name": "stdout",
     "output_type": "stream",
     "text": [
      "Epoch 1109 validation: negative log likelihood loss=nan, Accuracy=0.2590448558330536\n"
     ]
    },
    {
     "name": "stderr",
     "output_type": "stream",
     "text": [
      "Epoch 1110: 100%|██████████| 7/7 [00:00<00:00, 93.33batch/s, acc=0.262, loss=nan]\n"
     ]
    },
    {
     "name": "stdout",
     "output_type": "stream",
     "text": [
      "Epoch 1110 validation: negative log likelihood loss=nan, Accuracy=0.2590448558330536\n"
     ]
    },
    {
     "name": "stderr",
     "output_type": "stream",
     "text": [
      "Epoch 1111: 100%|██████████| 7/7 [00:00<00:00, 97.22batch/s, acc=0.262, loss=nan]\n"
     ]
    },
    {
     "name": "stdout",
     "output_type": "stream",
     "text": [
      "Epoch 1111 validation: negative log likelihood loss=nan, Accuracy=0.2590448558330536\n"
     ]
    },
    {
     "name": "stderr",
     "output_type": "stream",
     "text": [
      "Epoch 1112: 100%|██████████| 7/7 [00:00<00:00, 45.46batch/s, acc=0.262, loss=nan]\n"
     ]
    },
    {
     "name": "stdout",
     "output_type": "stream",
     "text": [
      "Epoch 1112 validation: negative log likelihood loss=nan, Accuracy=0.2590448558330536\n"
     ]
    },
    {
     "name": "stderr",
     "output_type": "stream",
     "text": [
      "Epoch 1113: 100%|██████████| 7/7 [00:00<00:00, 89.75batch/s, acc=0.262, loss=nan]\n"
     ]
    },
    {
     "name": "stdout",
     "output_type": "stream",
     "text": [
      "Epoch 1113 validation: negative log likelihood loss=nan, Accuracy=0.2590448558330536\n"
     ]
    },
    {
     "name": "stderr",
     "output_type": "stream",
     "text": [
      "Epoch 1114: 100%|██████████| 7/7 [00:00<00:00, 92.10batch/s, acc=0.262, loss=nan]\n"
     ]
    },
    {
     "name": "stdout",
     "output_type": "stream",
     "text": [
      "Epoch 1114 validation: negative log likelihood loss=nan, Accuracy=0.2590448558330536\n"
     ]
    },
    {
     "name": "stderr",
     "output_type": "stream",
     "text": [
      "Epoch 1115: 100%|██████████| 7/7 [00:00<00:00, 98.59batch/s, acc=0.262, loss=nan] \n"
     ]
    },
    {
     "name": "stdout",
     "output_type": "stream",
     "text": [
      "Epoch 1115 validation: negative log likelihood loss=nan, Accuracy=0.2590448558330536\n"
     ]
    },
    {
     "name": "stderr",
     "output_type": "stream",
     "text": [
      "Epoch 1116: 100%|██████████| 7/7 [00:00<00:00, 101.45batch/s, acc=0.262, loss=nan]\n"
     ]
    },
    {
     "name": "stdout",
     "output_type": "stream",
     "text": [
      "Epoch 1116 validation: negative log likelihood loss=nan, Accuracy=0.2590448558330536\n"
     ]
    },
    {
     "name": "stderr",
     "output_type": "stream",
     "text": [
      "Epoch 1117: 100%|██████████| 7/7 [00:00<00:00, 101.45batch/s, acc=0.262, loss=nan]\n"
     ]
    },
    {
     "name": "stdout",
     "output_type": "stream",
     "text": [
      "Epoch 1117 validation: negative log likelihood loss=nan, Accuracy=0.2590448558330536\n"
     ]
    },
    {
     "name": "stderr",
     "output_type": "stream",
     "text": [
      "Epoch 1118: 100%|██████████| 7/7 [00:00<00:00, 98.59batch/s, acc=0.262, loss=nan] \n"
     ]
    },
    {
     "name": "stdout",
     "output_type": "stream",
     "text": [
      "Epoch 1118 validation: negative log likelihood loss=nan, Accuracy=0.2590448558330536\n"
     ]
    },
    {
     "name": "stderr",
     "output_type": "stream",
     "text": [
      "Epoch 1119: 100%|██████████| 7/7 [00:00<00:00, 97.22batch/s, acc=0.262, loss=nan] \n"
     ]
    },
    {
     "name": "stdout",
     "output_type": "stream",
     "text": [
      "Epoch 1119 validation: negative log likelihood loss=nan, Accuracy=0.2590448558330536\n"
     ]
    },
    {
     "name": "stderr",
     "output_type": "stream",
     "text": [
      "Epoch 1120: 100%|██████████| 7/7 [00:00<00:00, 94.59batch/s, acc=0.262, loss=nan]\n"
     ]
    },
    {
     "name": "stdout",
     "output_type": "stream",
     "text": [
      "Epoch 1120 validation: negative log likelihood loss=nan, Accuracy=0.2590448558330536\n"
     ]
    },
    {
     "name": "stderr",
     "output_type": "stream",
     "text": [
      "Epoch 1121: 100%|██████████| 7/7 [00:00<00:00, 97.22batch/s, acc=0.262, loss=nan] \n"
     ]
    },
    {
     "name": "stdout",
     "output_type": "stream",
     "text": [
      "Epoch 1121 validation: negative log likelihood loss=nan, Accuracy=0.2590448558330536\n"
     ]
    },
    {
     "name": "stderr",
     "output_type": "stream",
     "text": [
      "Epoch 1122: 100%|██████████| 7/7 [00:00<00:00, 88.61batch/s, acc=0.262, loss=nan]\n"
     ]
    },
    {
     "name": "stdout",
     "output_type": "stream",
     "text": [
      "Epoch 1122 validation: negative log likelihood loss=nan, Accuracy=0.2590448558330536\n"
     ]
    },
    {
     "name": "stderr",
     "output_type": "stream",
     "text": [
      "Epoch 1123: 100%|██████████| 7/7 [00:00<00:00, 97.22batch/s, acc=0.262, loss=nan]\n"
     ]
    },
    {
     "name": "stdout",
     "output_type": "stream",
     "text": [
      "Epoch 1123 validation: negative log likelihood loss=nan, Accuracy=0.2590448558330536\n"
     ]
    },
    {
     "name": "stderr",
     "output_type": "stream",
     "text": [
      "Epoch 1124: 100%|██████████| 7/7 [00:00<00:00, 97.22batch/s, acc=0.262, loss=nan] \n"
     ]
    },
    {
     "name": "stdout",
     "output_type": "stream",
     "text": [
      "Epoch 1124 validation: negative log likelihood loss=nan, Accuracy=0.2590448558330536\n"
     ]
    },
    {
     "name": "stderr",
     "output_type": "stream",
     "text": [
      "Epoch 1125: 100%|██████████| 7/7 [00:00<00:00, 43.75batch/s, acc=0.262, loss=nan]\n"
     ]
    },
    {
     "name": "stdout",
     "output_type": "stream",
     "text": [
      "Epoch 1125 validation: negative log likelihood loss=nan, Accuracy=0.2590448558330536\n"
     ]
    },
    {
     "name": "stderr",
     "output_type": "stream",
     "text": [
      "Epoch 1126: 100%|██████████| 7/7 [00:00<00:00, 98.59batch/s, acc=0.262, loss=nan] \n"
     ]
    },
    {
     "name": "stdout",
     "output_type": "stream",
     "text": [
      "Epoch 1126 validation: negative log likelihood loss=nan, Accuracy=0.2590448558330536\n"
     ]
    },
    {
     "name": "stderr",
     "output_type": "stream",
     "text": [
      "Epoch 1127: 100%|██████████| 7/7 [00:00<00:00, 94.60batch/s, acc=0.262, loss=nan]\n"
     ]
    },
    {
     "name": "stdout",
     "output_type": "stream",
     "text": [
      "Epoch 1127 validation: negative log likelihood loss=nan, Accuracy=0.2590448558330536\n"
     ]
    },
    {
     "name": "stderr",
     "output_type": "stream",
     "text": [
      "Epoch 1128: 100%|██████████| 7/7 [00:00<00:00, 90.91batch/s, acc=0.262, loss=nan]\n"
     ]
    },
    {
     "name": "stdout",
     "output_type": "stream",
     "text": [
      "Epoch 1128 validation: negative log likelihood loss=nan, Accuracy=0.2590448558330536\n"
     ]
    },
    {
     "name": "stderr",
     "output_type": "stream",
     "text": [
      "Epoch 1129: 100%|██████████| 7/7 [00:00<00:00, 94.60batch/s, acc=0.262, loss=nan]\n"
     ]
    },
    {
     "name": "stdout",
     "output_type": "stream",
     "text": [
      "Epoch 1129 validation: negative log likelihood loss=nan, Accuracy=0.2590448558330536\n"
     ]
    },
    {
     "name": "stderr",
     "output_type": "stream",
     "text": [
      "Epoch 1130: 100%|██████████| 7/7 [00:00<00:00, 93.33batch/s, acc=0.262, loss=nan]\n"
     ]
    },
    {
     "name": "stdout",
     "output_type": "stream",
     "text": [
      "Epoch 1130 validation: negative log likelihood loss=nan, Accuracy=0.2590448558330536\n"
     ]
    },
    {
     "name": "stderr",
     "output_type": "stream",
     "text": [
      "Epoch 1131: 100%|██████████| 7/7 [00:00<00:00, 89.74batch/s, acc=0.262, loss=nan]\n"
     ]
    },
    {
     "name": "stdout",
     "output_type": "stream",
     "text": [
      "Epoch 1131 validation: negative log likelihood loss=nan, Accuracy=0.2590448558330536\n"
     ]
    },
    {
     "name": "stderr",
     "output_type": "stream",
     "text": [
      "Epoch 1132: 100%|██████████| 7/7 [00:00<00:00, 95.89batch/s, acc=0.262, loss=nan]\n"
     ]
    },
    {
     "name": "stdout",
     "output_type": "stream",
     "text": [
      "Epoch 1132 validation: negative log likelihood loss=nan, Accuracy=0.2590448558330536\n"
     ]
    },
    {
     "name": "stderr",
     "output_type": "stream",
     "text": [
      "Epoch 1133: 100%|██████████| 7/7 [00:00<00:00, 92.11batch/s, acc=0.262, loss=nan]\n"
     ]
    },
    {
     "name": "stdout",
     "output_type": "stream",
     "text": [
      "Epoch 1133 validation: negative log likelihood loss=nan, Accuracy=0.2590448558330536\n"
     ]
    },
    {
     "name": "stderr",
     "output_type": "stream",
     "text": [
      "Epoch 1134: 100%|██████████| 7/7 [00:00<00:00, 95.90batch/s, acc=0.262, loss=nan] \n"
     ]
    },
    {
     "name": "stdout",
     "output_type": "stream",
     "text": [
      "Epoch 1134 validation: negative log likelihood loss=nan, Accuracy=0.2590448558330536\n"
     ]
    },
    {
     "name": "stderr",
     "output_type": "stream",
     "text": [
      "Epoch 1135: 100%|██████████| 7/7 [00:00<00:00, 97.23batch/s, acc=0.262, loss=nan]\n"
     ]
    },
    {
     "name": "stdout",
     "output_type": "stream",
     "text": [
      "Epoch 1135 validation: negative log likelihood loss=nan, Accuracy=0.2590448558330536\n"
     ]
    },
    {
     "name": "stderr",
     "output_type": "stream",
     "text": [
      "Epoch 1136: 100%|██████████| 7/7 [00:00<00:00, 104.48batch/s, acc=0.262, loss=nan]\n"
     ]
    },
    {
     "name": "stdout",
     "output_type": "stream",
     "text": [
      "Epoch 1136 validation: negative log likelihood loss=nan, Accuracy=0.2590448558330536\n"
     ]
    },
    {
     "name": "stderr",
     "output_type": "stream",
     "text": [
      "Epoch 1137: 100%|██████████| 7/7 [00:00<00:00, 46.67batch/s, acc=0.262, loss=nan]\n"
     ]
    },
    {
     "name": "stdout",
     "output_type": "stream",
     "text": [
      "Epoch 1137 validation: negative log likelihood loss=nan, Accuracy=0.2590448558330536\n"
     ]
    },
    {
     "name": "stderr",
     "output_type": "stream",
     "text": [
      "Epoch 1138: 100%|██████████| 7/7 [00:00<00:00, 89.74batch/s, acc=0.262, loss=nan]\n"
     ]
    },
    {
     "name": "stdout",
     "output_type": "stream",
     "text": [
      "Epoch 1138 validation: negative log likelihood loss=nan, Accuracy=0.2590448558330536\n"
     ]
    },
    {
     "name": "stderr",
     "output_type": "stream",
     "text": [
      "Epoch 1139: 100%|██████████| 7/7 [00:00<00:00, 93.34batch/s, acc=0.262, loss=nan]\n"
     ]
    },
    {
     "name": "stdout",
     "output_type": "stream",
     "text": [
      "Epoch 1139 validation: negative log likelihood loss=nan, Accuracy=0.2590448558330536\n"
     ]
    },
    {
     "name": "stderr",
     "output_type": "stream",
     "text": [
      "Epoch 1140: 100%|██████████| 7/7 [00:00<00:00, 93.33batch/s, acc=0.262, loss=nan]\n"
     ]
    },
    {
     "name": "stdout",
     "output_type": "stream",
     "text": [
      "Epoch 1140 validation: negative log likelihood loss=nan, Accuracy=0.2590448558330536\n"
     ]
    },
    {
     "name": "stderr",
     "output_type": "stream",
     "text": [
      "Epoch 1141: 100%|██████████| 7/7 [00:00<00:00, 90.91batch/s, acc=0.262, loss=nan]\n"
     ]
    },
    {
     "name": "stdout",
     "output_type": "stream",
     "text": [
      "Epoch 1141 validation: negative log likelihood loss=nan, Accuracy=0.2590448558330536\n"
     ]
    },
    {
     "name": "stderr",
     "output_type": "stream",
     "text": [
      "Epoch 1142: 100%|██████████| 7/7 [00:00<00:00, 87.50batch/s, acc=0.262, loss=nan]\n"
     ]
    },
    {
     "name": "stdout",
     "output_type": "stream",
     "text": [
      "Epoch 1142 validation: negative log likelihood loss=nan, Accuracy=0.2590448558330536\n"
     ]
    },
    {
     "name": "stderr",
     "output_type": "stream",
     "text": [
      "Epoch 1143: 100%|██████████| 7/7 [00:00<00:00, 88.61batch/s, acc=0.262, loss=nan]\n"
     ]
    },
    {
     "name": "stdout",
     "output_type": "stream",
     "text": [
      "Epoch 1143 validation: negative log likelihood loss=nan, Accuracy=0.2590448558330536\n"
     ]
    },
    {
     "name": "stderr",
     "output_type": "stream",
     "text": [
      "Epoch 1144: 100%|██████████| 7/7 [00:00<00:00, 90.91batch/s, acc=0.262, loss=nan]\n"
     ]
    },
    {
     "name": "stdout",
     "output_type": "stream",
     "text": [
      "Epoch 1144 validation: negative log likelihood loss=nan, Accuracy=0.2590448558330536\n"
     ]
    },
    {
     "name": "stderr",
     "output_type": "stream",
     "text": [
      "Epoch 1145: 100%|██████████| 7/7 [00:00<00:00, 90.91batch/s, acc=0.262, loss=nan]\n"
     ]
    },
    {
     "name": "stdout",
     "output_type": "stream",
     "text": [
      "Epoch 1145 validation: negative log likelihood loss=nan, Accuracy=0.2590448558330536\n"
     ]
    },
    {
     "name": "stderr",
     "output_type": "stream",
     "text": [
      "Epoch 1146: 100%|██████████| 7/7 [00:00<00:00, 95.89batch/s, acc=0.262, loss=nan]\n"
     ]
    },
    {
     "name": "stdout",
     "output_type": "stream",
     "text": [
      "Epoch 1146 validation: negative log likelihood loss=nan, Accuracy=0.2590448558330536\n"
     ]
    },
    {
     "name": "stderr",
     "output_type": "stream",
     "text": [
      "Epoch 1147: 100%|██████████| 7/7 [00:00<00:00, 95.89batch/s, acc=0.262, loss=nan] \n"
     ]
    },
    {
     "name": "stdout",
     "output_type": "stream",
     "text": [
      "Epoch 1147 validation: negative log likelihood loss=nan, Accuracy=0.2590448558330536\n"
     ]
    },
    {
     "name": "stderr",
     "output_type": "stream",
     "text": [
      "Epoch 1148: 100%|██████████| 7/7 [00:00<00:00, 90.91batch/s, acc=0.262, loss=nan]\n"
     ]
    },
    {
     "name": "stdout",
     "output_type": "stream",
     "text": [
      "Epoch 1148 validation: negative log likelihood loss=nan, Accuracy=0.2590448558330536\n"
     ]
    },
    {
     "name": "stderr",
     "output_type": "stream",
     "text": [
      "Epoch 1149: 100%|██████████| 7/7 [00:00<00:00, 92.10batch/s, acc=0.262, loss=nan]\n"
     ]
    },
    {
     "name": "stdout",
     "output_type": "stream",
     "text": [
      "Epoch 1149 validation: negative log likelihood loss=nan, Accuracy=0.2590448558330536\n"
     ]
    },
    {
     "name": "stderr",
     "output_type": "stream",
     "text": [
      "Epoch 1150: 100%|██████████| 7/7 [00:00<00:00, 100.00batch/s, acc=0.262, loss=nan]\n"
     ]
    },
    {
     "name": "stdout",
     "output_type": "stream",
     "text": [
      "Epoch 1150 validation: negative log likelihood loss=nan, Accuracy=0.2590448558330536\n"
     ]
    },
    {
     "name": "stderr",
     "output_type": "stream",
     "text": [
      "Epoch 1151: 100%|██████████| 7/7 [00:00<00:00, 100.00batch/s, acc=0.262, loss=nan]\n"
     ]
    },
    {
     "name": "stdout",
     "output_type": "stream",
     "text": [
      "Epoch 1151 validation: negative log likelihood loss=nan, Accuracy=0.2590448558330536\n"
     ]
    },
    {
     "name": "stderr",
     "output_type": "stream",
     "text": [
      "Epoch 1152: 100%|██████████| 7/7 [00:00<00:00, 94.59batch/s, acc=0.262, loss=nan]\n"
     ]
    },
    {
     "name": "stdout",
     "output_type": "stream",
     "text": [
      "Epoch 1152 validation: negative log likelihood loss=nan, Accuracy=0.2590448558330536\n"
     ]
    },
    {
     "name": "stderr",
     "output_type": "stream",
     "text": [
      "Epoch 1153: 100%|██████████| 7/7 [00:00<00:00, 90.91batch/s, acc=0.262, loss=nan]\n"
     ]
    },
    {
     "name": "stdout",
     "output_type": "stream",
     "text": [
      "Epoch 1153 validation: negative log likelihood loss=nan, Accuracy=0.2590448558330536\n"
     ]
    },
    {
     "name": "stderr",
     "output_type": "stream",
     "text": [
      "Epoch 1154: 100%|██████████| 7/7 [00:00<00:00, 92.11batch/s, acc=0.262, loss=nan]\n"
     ]
    },
    {
     "name": "stdout",
     "output_type": "stream",
     "text": [
      "Epoch 1154 validation: negative log likelihood loss=nan, Accuracy=0.2590448558330536\n"
     ]
    },
    {
     "name": "stderr",
     "output_type": "stream",
     "text": [
      "Epoch 1155: 100%|██████████| 7/7 [00:00<00:00, 90.91batch/s, acc=0.262, loss=nan]\n"
     ]
    },
    {
     "name": "stdout",
     "output_type": "stream",
     "text": [
      "Epoch 1155 validation: negative log likelihood loss=nan, Accuracy=0.2590448558330536\n"
     ]
    },
    {
     "name": "stderr",
     "output_type": "stream",
     "text": [
      "Epoch 1156: 100%|██████████| 7/7 [00:00<00:00, 90.91batch/s, acc=0.262, loss=nan]\n"
     ]
    },
    {
     "name": "stdout",
     "output_type": "stream",
     "text": [
      "Epoch 1156 validation: negative log likelihood loss=nan, Accuracy=0.2590448558330536\n"
     ]
    },
    {
     "name": "stderr",
     "output_type": "stream",
     "text": [
      "Epoch 1157: 100%|██████████| 7/7 [00:00<00:00, 94.60batch/s, acc=0.262, loss=nan] \n"
     ]
    },
    {
     "name": "stdout",
     "output_type": "stream",
     "text": [
      "Epoch 1157 validation: negative log likelihood loss=nan, Accuracy=0.2590448558330536\n"
     ]
    },
    {
     "name": "stderr",
     "output_type": "stream",
     "text": [
      "Epoch 1158: 100%|██████████| 7/7 [00:00<00:00, 50.00batch/s, acc=0.262, loss=nan]\n"
     ]
    },
    {
     "name": "stdout",
     "output_type": "stream",
     "text": [
      "Epoch 1158 validation: negative log likelihood loss=nan, Accuracy=0.2590448558330536\n"
     ]
    },
    {
     "name": "stderr",
     "output_type": "stream",
     "text": [
      "Epoch 1159: 100%|██████████| 7/7 [00:00<00:00, 87.51batch/s, acc=0.262, loss=nan]\n"
     ]
    },
    {
     "name": "stdout",
     "output_type": "stream",
     "text": [
      "Epoch 1159 validation: negative log likelihood loss=nan, Accuracy=0.2590448558330536\n"
     ]
    },
    {
     "name": "stderr",
     "output_type": "stream",
     "text": [
      "Epoch 1160: 100%|██████████| 7/7 [00:00<00:00, 92.10batch/s, acc=0.262, loss=nan]\n"
     ]
    },
    {
     "name": "stdout",
     "output_type": "stream",
     "text": [
      "Epoch 1160 validation: negative log likelihood loss=nan, Accuracy=0.2590448558330536\n"
     ]
    },
    {
     "name": "stderr",
     "output_type": "stream",
     "text": [
      "Epoch 1161: 100%|██████████| 7/7 [00:00<00:00, 92.11batch/s, acc=0.262, loss=nan]\n"
     ]
    },
    {
     "name": "stdout",
     "output_type": "stream",
     "text": [
      "Epoch 1161 validation: negative log likelihood loss=nan, Accuracy=0.2590448558330536\n"
     ]
    },
    {
     "name": "stderr",
     "output_type": "stream",
     "text": [
      "Epoch 1162: 100%|██████████| 7/7 [00:00<00:00, 92.10batch/s, acc=0.262, loss=nan]\n"
     ]
    },
    {
     "name": "stdout",
     "output_type": "stream",
     "text": [
      "Epoch 1162 validation: negative log likelihood loss=nan, Accuracy=0.2590448558330536\n"
     ]
    },
    {
     "name": "stderr",
     "output_type": "stream",
     "text": [
      "Epoch 1163: 100%|██████████| 7/7 [00:00<00:00, 95.89batch/s, acc=0.262, loss=nan] \n"
     ]
    },
    {
     "name": "stdout",
     "output_type": "stream",
     "text": [
      "Epoch 1163 validation: negative log likelihood loss=nan, Accuracy=0.2590448558330536\n"
     ]
    },
    {
     "name": "stderr",
     "output_type": "stream",
     "text": [
      "Epoch 1164: 100%|██████████| 7/7 [00:00<00:00, 95.89batch/s, acc=0.262, loss=nan]\n"
     ]
    },
    {
     "name": "stdout",
     "output_type": "stream",
     "text": [
      "Epoch 1164 validation: negative log likelihood loss=nan, Accuracy=0.2590448558330536\n"
     ]
    },
    {
     "name": "stderr",
     "output_type": "stream",
     "text": [
      "Epoch 1165: 100%|██████████| 7/7 [00:00<00:00, 95.89batch/s, acc=0.262, loss=nan] \n"
     ]
    },
    {
     "name": "stdout",
     "output_type": "stream",
     "text": [
      "Epoch 1165 validation: negative log likelihood loss=nan, Accuracy=0.2590448558330536\n"
     ]
    },
    {
     "name": "stderr",
     "output_type": "stream",
     "text": [
      "Epoch 1166: 100%|██████████| 7/7 [00:00<00:00, 94.60batch/s, acc=0.262, loss=nan]\n"
     ]
    },
    {
     "name": "stdout",
     "output_type": "stream",
     "text": [
      "Epoch 1166 validation: negative log likelihood loss=nan, Accuracy=0.2590448558330536\n"
     ]
    },
    {
     "name": "stderr",
     "output_type": "stream",
     "text": [
      "Epoch 1167: 100%|██████████| 7/7 [00:00<00:00, 89.75batch/s, acc=0.262, loss=nan]\n"
     ]
    },
    {
     "name": "stdout",
     "output_type": "stream",
     "text": [
      "Epoch 1167 validation: negative log likelihood loss=nan, Accuracy=0.2590448558330536\n"
     ]
    },
    {
     "name": "stderr",
     "output_type": "stream",
     "text": [
      "Epoch 1168: 100%|██████████| 7/7 [00:00<00:00, 90.91batch/s, acc=0.262, loss=nan]\n"
     ]
    },
    {
     "name": "stdout",
     "output_type": "stream",
     "text": [
      "Epoch 1168 validation: negative log likelihood loss=nan, Accuracy=0.2590448558330536\n"
     ]
    },
    {
     "name": "stderr",
     "output_type": "stream",
     "text": [
      "Epoch 1169: 100%|██████████| 7/7 [00:00<00:00, 92.11batch/s, acc=0.262, loss=nan]\n"
     ]
    },
    {
     "name": "stdout",
     "output_type": "stream",
     "text": [
      "Epoch 1169 validation: negative log likelihood loss=nan, Accuracy=0.2590448558330536\n"
     ]
    },
    {
     "name": "stderr",
     "output_type": "stream",
     "text": [
      "Epoch 1170: 100%|██████████| 7/7 [00:00<00:00, 98.59batch/s, acc=0.262, loss=nan] \n"
     ]
    },
    {
     "name": "stdout",
     "output_type": "stream",
     "text": [
      "Epoch 1170 validation: negative log likelihood loss=nan, Accuracy=0.2590448558330536\n"
     ]
    },
    {
     "name": "stderr",
     "output_type": "stream",
     "text": [
      "Epoch 1171: 100%|██████████| 7/7 [00:00<00:00, 98.59batch/s, acc=0.262, loss=nan]\n"
     ]
    },
    {
     "name": "stdout",
     "output_type": "stream",
     "text": [
      "Epoch 1171 validation: negative log likelihood loss=nan, Accuracy=0.2590448558330536\n"
     ]
    },
    {
     "name": "stderr",
     "output_type": "stream",
     "text": [
      "Epoch 1172: 100%|██████████| 7/7 [00:00<00:00, 97.22batch/s, acc=0.262, loss=nan] \n"
     ]
    },
    {
     "name": "stdout",
     "output_type": "stream",
     "text": [
      "Epoch 1172 validation: negative log likelihood loss=nan, Accuracy=0.2590448558330536\n"
     ]
    },
    {
     "name": "stderr",
     "output_type": "stream",
     "text": [
      "Epoch 1173: 100%|██████████| 7/7 [00:00<00:00, 97.22batch/s, acc=0.262, loss=nan] \n"
     ]
    },
    {
     "name": "stdout",
     "output_type": "stream",
     "text": [
      "Epoch 1173 validation: negative log likelihood loss=nan, Accuracy=0.2590448558330536\n"
     ]
    },
    {
     "name": "stderr",
     "output_type": "stream",
     "text": [
      "Epoch 1174: 100%|██████████| 7/7 [00:00<00:00, 101.45batch/s, acc=0.262, loss=nan]\n"
     ]
    },
    {
     "name": "stdout",
     "output_type": "stream",
     "text": [
      "Epoch 1174 validation: negative log likelihood loss=nan, Accuracy=0.2590448558330536\n"
     ]
    },
    {
     "name": "stderr",
     "output_type": "stream",
     "text": [
      "Epoch 1175: 100%|██████████| 7/7 [00:00<00:00, 94.59batch/s, acc=0.262, loss=nan] \n"
     ]
    },
    {
     "name": "stdout",
     "output_type": "stream",
     "text": [
      "Epoch 1175 validation: negative log likelihood loss=nan, Accuracy=0.2590448558330536\n"
     ]
    },
    {
     "name": "stderr",
     "output_type": "stream",
     "text": [
      "Epoch 1176: 100%|██████████| 7/7 [00:00<00:00, 101.45batch/s, acc=0.262, loss=nan]\n"
     ]
    },
    {
     "name": "stdout",
     "output_type": "stream",
     "text": [
      "Epoch 1176 validation: negative log likelihood loss=nan, Accuracy=0.2590448558330536\n"
     ]
    },
    {
     "name": "stderr",
     "output_type": "stream",
     "text": [
      "Epoch 1177: 100%|██████████| 7/7 [00:00<00:00, 97.23batch/s, acc=0.262, loss=nan]\n"
     ]
    },
    {
     "name": "stdout",
     "output_type": "stream",
     "text": [
      "Epoch 1177 validation: negative log likelihood loss=nan, Accuracy=0.2590448558330536\n"
     ]
    },
    {
     "name": "stderr",
     "output_type": "stream",
     "text": [
      "Epoch 1178: 100%|██████████| 7/7 [00:00<00:00, 95.89batch/s, acc=0.262, loss=nan]\n"
     ]
    },
    {
     "name": "stdout",
     "output_type": "stream",
     "text": [
      "Epoch 1178 validation: negative log likelihood loss=nan, Accuracy=0.2590448558330536\n"
     ]
    },
    {
     "name": "stderr",
     "output_type": "stream",
     "text": [
      "Epoch 1179: 100%|██████████| 7/7 [00:00<00:00, 98.60batch/s, acc=0.262, loss=nan] \n"
     ]
    },
    {
     "name": "stdout",
     "output_type": "stream",
     "text": [
      "Epoch 1179 validation: negative log likelihood loss=nan, Accuracy=0.2590448558330536\n"
     ]
    },
    {
     "name": "stderr",
     "output_type": "stream",
     "text": [
      "Epoch 1180: 100%|██████████| 7/7 [00:00<00:00, 100.00batch/s, acc=0.262, loss=nan]\n"
     ]
    },
    {
     "name": "stdout",
     "output_type": "stream",
     "text": [
      "Epoch 1180 validation: negative log likelihood loss=nan, Accuracy=0.2590448558330536\n"
     ]
    },
    {
     "name": "stderr",
     "output_type": "stream",
     "text": [
      "Epoch 1181: 100%|██████████| 7/7 [00:00<00:00, 98.60batch/s, acc=0.262, loss=nan] \n"
     ]
    },
    {
     "name": "stdout",
     "output_type": "stream",
     "text": [
      "Epoch 1181 validation: negative log likelihood loss=nan, Accuracy=0.2590448558330536\n"
     ]
    },
    {
     "name": "stderr",
     "output_type": "stream",
     "text": [
      "Epoch 1182: 100%|██████████| 7/7 [00:00<00:00, 97.22batch/s, acc=0.262, loss=nan]\n"
     ]
    },
    {
     "name": "stdout",
     "output_type": "stream",
     "text": [
      "Epoch 1182 validation: negative log likelihood loss=nan, Accuracy=0.2590448558330536\n"
     ]
    },
    {
     "name": "stderr",
     "output_type": "stream",
     "text": [
      "Epoch 1183: 100%|██████████| 7/7 [00:00<00:00, 100.00batch/s, acc=0.262, loss=nan]\n"
     ]
    },
    {
     "name": "stdout",
     "output_type": "stream",
     "text": [
      "Epoch 1183 validation: negative log likelihood loss=nan, Accuracy=0.2590448558330536\n"
     ]
    },
    {
     "name": "stderr",
     "output_type": "stream",
     "text": [
      "Epoch 1184: 100%|██████████| 7/7 [00:00<00:00, 100.00batch/s, acc=0.262, loss=nan]\n"
     ]
    },
    {
     "name": "stdout",
     "output_type": "stream",
     "text": [
      "Epoch 1184 validation: negative log likelihood loss=nan, Accuracy=0.2590448558330536\n"
     ]
    },
    {
     "name": "stderr",
     "output_type": "stream",
     "text": [
      "Epoch 1185: 100%|██████████| 7/7 [00:00<00:00, 97.22batch/s, acc=0.262, loss=nan] \n"
     ]
    },
    {
     "name": "stdout",
     "output_type": "stream",
     "text": [
      "Epoch 1185 validation: negative log likelihood loss=nan, Accuracy=0.2590448558330536\n"
     ]
    },
    {
     "name": "stderr",
     "output_type": "stream",
     "text": [
      "Epoch 1186: 100%|██████████| 7/7 [00:00<00:00, 46.36batch/s, acc=0.262, loss=nan]\n"
     ]
    },
    {
     "name": "stdout",
     "output_type": "stream",
     "text": [
      "Epoch 1186 validation: negative log likelihood loss=nan, Accuracy=0.2590448558330536\n"
     ]
    },
    {
     "name": "stderr",
     "output_type": "stream",
     "text": [
      "Epoch 1187: 100%|██████████| 7/7 [00:00<00:00, 88.60batch/s, acc=0.262, loss=nan]\n"
     ]
    },
    {
     "name": "stdout",
     "output_type": "stream",
     "text": [
      "Epoch 1187 validation: negative log likelihood loss=nan, Accuracy=0.2590448558330536\n"
     ]
    },
    {
     "name": "stderr",
     "output_type": "stream",
     "text": [
      "Epoch 1188: 100%|██████████| 7/7 [00:00<00:00, 93.34batch/s, acc=0.262, loss=nan]\n"
     ]
    },
    {
     "name": "stdout",
     "output_type": "stream",
     "text": [
      "Epoch 1188 validation: negative log likelihood loss=nan, Accuracy=0.2590448558330536\n"
     ]
    },
    {
     "name": "stderr",
     "output_type": "stream",
     "text": [
      "Epoch 1189: 100%|██████████| 7/7 [00:00<00:00, 93.33batch/s, acc=0.262, loss=nan]\n"
     ]
    },
    {
     "name": "stdout",
     "output_type": "stream",
     "text": [
      "Epoch 1189 validation: negative log likelihood loss=nan, Accuracy=0.2590448558330536\n"
     ]
    },
    {
     "name": "stderr",
     "output_type": "stream",
     "text": [
      "Epoch 1190: 100%|██████████| 7/7 [00:00<00:00, 93.33batch/s, acc=0.262, loss=nan]\n"
     ]
    },
    {
     "name": "stdout",
     "output_type": "stream",
     "text": [
      "Epoch 1190 validation: negative log likelihood loss=nan, Accuracy=0.2590448558330536\n"
     ]
    },
    {
     "name": "stderr",
     "output_type": "stream",
     "text": [
      "Epoch 1191: 100%|██████████| 7/7 [00:00<00:00, 93.34batch/s, acc=0.262, loss=nan]\n"
     ]
    },
    {
     "name": "stdout",
     "output_type": "stream",
     "text": [
      "Epoch 1191 validation: negative log likelihood loss=nan, Accuracy=0.2590448558330536\n"
     ]
    },
    {
     "name": "stderr",
     "output_type": "stream",
     "text": [
      "Epoch 1192: 100%|██████████| 7/7 [00:00<00:00, 88.60batch/s, acc=0.262, loss=nan]\n"
     ]
    },
    {
     "name": "stdout",
     "output_type": "stream",
     "text": [
      "Epoch 1192 validation: negative log likelihood loss=nan, Accuracy=0.2590448558330536\n"
     ]
    },
    {
     "name": "stderr",
     "output_type": "stream",
     "text": [
      "Epoch 1193: 100%|██████████| 7/7 [00:00<00:00, 97.23batch/s, acc=0.262, loss=nan]\n"
     ]
    },
    {
     "name": "stdout",
     "output_type": "stream",
     "text": [
      "Epoch 1193 validation: negative log likelihood loss=nan, Accuracy=0.2590448558330536\n"
     ]
    },
    {
     "name": "stderr",
     "output_type": "stream",
     "text": [
      "Epoch 1194: 100%|██████████| 7/7 [00:00<00:00, 90.90batch/s, acc=0.262, loss=nan]\n"
     ]
    },
    {
     "name": "stdout",
     "output_type": "stream",
     "text": [
      "Epoch 1194 validation: negative log likelihood loss=nan, Accuracy=0.2590448558330536\n"
     ]
    },
    {
     "name": "stderr",
     "output_type": "stream",
     "text": [
      "Epoch 1195: 100%|██████████| 7/7 [00:00<00:00, 42.68batch/s, acc=0.262, loss=nan]\n"
     ]
    },
    {
     "name": "stdout",
     "output_type": "stream",
     "text": [
      "Epoch 1195 validation: negative log likelihood loss=nan, Accuracy=0.2590448558330536\n"
     ]
    },
    {
     "name": "stderr",
     "output_type": "stream",
     "text": [
      "Epoch 1196: 100%|██████████| 7/7 [00:00<00:00, 94.60batch/s, acc=0.262, loss=nan]\n"
     ]
    },
    {
     "name": "stdout",
     "output_type": "stream",
     "text": [
      "Epoch 1196 validation: negative log likelihood loss=nan, Accuracy=0.2590448558330536\n"
     ]
    },
    {
     "name": "stderr",
     "output_type": "stream",
     "text": [
      "Epoch 1197: 100%|██████████| 7/7 [00:00<00:00, 97.22batch/s, acc=0.262, loss=nan] \n"
     ]
    },
    {
     "name": "stdout",
     "output_type": "stream",
     "text": [
      "Epoch 1197 validation: negative log likelihood loss=nan, Accuracy=0.2590448558330536\n"
     ]
    },
    {
     "name": "stderr",
     "output_type": "stream",
     "text": [
      "Epoch 1198: 100%|██████████| 7/7 [00:00<00:00, 97.22batch/s, acc=0.262, loss=nan]\n"
     ]
    },
    {
     "name": "stdout",
     "output_type": "stream",
     "text": [
      "Epoch 1198 validation: negative log likelihood loss=nan, Accuracy=0.2590448558330536\n"
     ]
    },
    {
     "name": "stderr",
     "output_type": "stream",
     "text": [
      "Epoch 1199: 100%|██████████| 7/7 [00:00<00:00, 98.60batch/s, acc=0.262, loss=nan] \n"
     ]
    },
    {
     "name": "stdout",
     "output_type": "stream",
     "text": [
      "Epoch 1199 validation: negative log likelihood loss=nan, Accuracy=0.2590448558330536\n"
     ]
    },
    {
     "name": "stderr",
     "output_type": "stream",
     "text": [
      "Epoch 1200: 100%|██████████| 7/7 [00:00<00:00, 93.33batch/s, acc=0.262, loss=nan]\n"
     ]
    },
    {
     "name": "stdout",
     "output_type": "stream",
     "text": [
      "Epoch 1200 validation: negative log likelihood loss=nan, Accuracy=0.2590448558330536\n"
     ]
    },
    {
     "name": "stderr",
     "output_type": "stream",
     "text": [
      "Epoch 1201: 100%|██████████| 7/7 [00:00<00:00, 92.11batch/s, acc=0.262, loss=nan]\n"
     ]
    },
    {
     "name": "stdout",
     "output_type": "stream",
     "text": [
      "Epoch 1201 validation: negative log likelihood loss=nan, Accuracy=0.2590448558330536\n"
     ]
    },
    {
     "name": "stderr",
     "output_type": "stream",
     "text": [
      "Epoch 1202: 100%|██████████| 7/7 [00:00<00:00, 92.11batch/s, acc=0.262, loss=nan]\n"
     ]
    },
    {
     "name": "stdout",
     "output_type": "stream",
     "text": [
      "Epoch 1202 validation: negative log likelihood loss=nan, Accuracy=0.2590448558330536\n"
     ]
    },
    {
     "name": "stderr",
     "output_type": "stream",
     "text": [
      "Epoch 1203: 100%|██████████| 7/7 [00:00<00:00, 90.91batch/s, acc=0.262, loss=nan]\n"
     ]
    },
    {
     "name": "stdout",
     "output_type": "stream",
     "text": [
      "Epoch 1203 validation: negative log likelihood loss=nan, Accuracy=0.2590448558330536\n"
     ]
    },
    {
     "name": "stderr",
     "output_type": "stream",
     "text": [
      "Epoch 1204: 100%|██████████| 7/7 [00:00<00:00, 94.60batch/s, acc=0.262, loss=nan]"
     ]
    },
    {
     "name": "stdout",
     "output_type": "stream",
     "text": [
      "Epoch 1204 validation: negative log likelihood loss=nan, Accuracy=0.2590448558330536\n"
     ]
    },
    {
     "name": "stderr",
     "output_type": "stream",
     "text": [
      "\n",
      "Epoch 1205: 100%|██████████| 7/7 [00:00<00:00, 98.59batch/s, acc=0.262, loss=nan] \n"
     ]
    },
    {
     "name": "stdout",
     "output_type": "stream",
     "text": [
      "Epoch 1205 validation: negative log likelihood loss=nan, Accuracy=0.2590448558330536\n"
     ]
    },
    {
     "name": "stderr",
     "output_type": "stream",
     "text": [
      "Epoch 1206: 100%|██████████| 7/7 [00:00<00:00, 97.22batch/s, acc=0.262, loss=nan] \n"
     ]
    },
    {
     "name": "stdout",
     "output_type": "stream",
     "text": [
      "Epoch 1206 validation: negative log likelihood loss=nan, Accuracy=0.2590448558330536\n"
     ]
    },
    {
     "name": "stderr",
     "output_type": "stream",
     "text": [
      "Epoch 1207: 100%|██████████| 7/7 [00:00<00:00, 90.91batch/s, acc=0.262, loss=nan]\n"
     ]
    },
    {
     "name": "stdout",
     "output_type": "stream",
     "text": [
      "Epoch 1207 validation: negative log likelihood loss=nan, Accuracy=0.2590448558330536\n"
     ]
    },
    {
     "name": "stderr",
     "output_type": "stream",
     "text": [
      "Epoch 1208: 100%|██████████| 7/7 [00:00<00:00, 93.33batch/s, acc=0.262, loss=nan]\n"
     ]
    },
    {
     "name": "stdout",
     "output_type": "stream",
     "text": [
      "Epoch 1208 validation: negative log likelihood loss=nan, Accuracy=0.2590448558330536\n"
     ]
    },
    {
     "name": "stderr",
     "output_type": "stream",
     "text": [
      "Epoch 1209: 100%|██████████| 7/7 [00:00<00:00, 92.11batch/s, acc=0.262, loss=nan]\n"
     ]
    },
    {
     "name": "stdout",
     "output_type": "stream",
     "text": [
      "Epoch 1209 validation: negative log likelihood loss=nan, Accuracy=0.2590448558330536\n"
     ]
    },
    {
     "name": "stderr",
     "output_type": "stream",
     "text": [
      "Epoch 1210: 100%|██████████| 7/7 [00:00<00:00, 93.34batch/s, acc=0.262, loss=nan]\n"
     ]
    },
    {
     "name": "stdout",
     "output_type": "stream",
     "text": [
      "Epoch 1210 validation: negative log likelihood loss=nan, Accuracy=0.2590448558330536\n"
     ]
    },
    {
     "name": "stderr",
     "output_type": "stream",
     "text": [
      "Epoch 1211: 100%|██████████| 7/7 [00:00<00:00, 40.00batch/s, acc=0.262, loss=nan]\n"
     ]
    },
    {
     "name": "stdout",
     "output_type": "stream",
     "text": [
      "Epoch 1211 validation: negative log likelihood loss=nan, Accuracy=0.2590448558330536\n"
     ]
    },
    {
     "name": "stderr",
     "output_type": "stream",
     "text": [
      "Epoch 1212: 100%|██████████| 7/7 [00:00<00:00, 84.34batch/s, acc=0.262, loss=nan]\n"
     ]
    },
    {
     "name": "stdout",
     "output_type": "stream",
     "text": [
      "Epoch 1212 validation: negative log likelihood loss=nan, Accuracy=0.2590448558330536\n"
     ]
    },
    {
     "name": "stderr",
     "output_type": "stream",
     "text": [
      "Epoch 1213: 100%|██████████| 7/7 [00:00<00:00, 87.50batch/s, acc=0.262, loss=nan]\n"
     ]
    },
    {
     "name": "stdout",
     "output_type": "stream",
     "text": [
      "Epoch 1213 validation: negative log likelihood loss=nan, Accuracy=0.2590448558330536\n"
     ]
    },
    {
     "name": "stderr",
     "output_type": "stream",
     "text": [
      "Epoch 1214: 100%|██████████| 7/7 [00:00<00:00, 90.91batch/s, acc=0.262, loss=nan]\n"
     ]
    },
    {
     "name": "stdout",
     "output_type": "stream",
     "text": [
      "Epoch 1214 validation: negative log likelihood loss=nan, Accuracy=0.2590448558330536\n"
     ]
    },
    {
     "name": "stderr",
     "output_type": "stream",
     "text": [
      "Epoch 1215: 100%|██████████| 7/7 [00:00<00:00, 86.42batch/s, acc=0.262, loss=nan]\n"
     ]
    },
    {
     "name": "stdout",
     "output_type": "stream",
     "text": [
      "Epoch 1215 validation: negative log likelihood loss=nan, Accuracy=0.2590448558330536\n"
     ]
    },
    {
     "name": "stderr",
     "output_type": "stream",
     "text": [
      "Epoch 1216: 100%|██████████| 7/7 [00:00<00:00, 87.50batch/s, acc=0.262, loss=nan]\n"
     ]
    },
    {
     "name": "stdout",
     "output_type": "stream",
     "text": [
      "Epoch 1216 validation: negative log likelihood loss=nan, Accuracy=0.2590448558330536\n"
     ]
    },
    {
     "name": "stderr",
     "output_type": "stream",
     "text": [
      "Epoch 1217: 100%|██████████| 7/7 [00:00<00:00, 87.50batch/s, acc=0.262, loss=nan]\n"
     ]
    },
    {
     "name": "stdout",
     "output_type": "stream",
     "text": [
      "Epoch 1217 validation: negative log likelihood loss=nan, Accuracy=0.2590448558330536\n"
     ]
    },
    {
     "name": "stderr",
     "output_type": "stream",
     "text": [
      "Epoch 1218: 100%|██████████| 7/7 [00:00<00:00, 90.91batch/s, acc=0.262, loss=nan]\n"
     ]
    },
    {
     "name": "stdout",
     "output_type": "stream",
     "text": [
      "Epoch 1218 validation: negative log likelihood loss=nan, Accuracy=0.2590448558330536\n"
     ]
    },
    {
     "name": "stderr",
     "output_type": "stream",
     "text": [
      "Epoch 1219: 100%|██████████| 7/7 [00:00<00:00, 88.61batch/s, acc=0.262, loss=nan]\n"
     ]
    },
    {
     "name": "stdout",
     "output_type": "stream",
     "text": [
      "Epoch 1219 validation: negative log likelihood loss=nan, Accuracy=0.2590448558330536\n"
     ]
    },
    {
     "name": "stderr",
     "output_type": "stream",
     "text": [
      "Epoch 1220: 100%|██████████| 7/7 [00:00<00:00, 92.11batch/s, acc=0.262, loss=nan]\n"
     ]
    },
    {
     "name": "stdout",
     "output_type": "stream",
     "text": [
      "Epoch 1220 validation: negative log likelihood loss=nan, Accuracy=0.2590448558330536\n"
     ]
    },
    {
     "name": "stderr",
     "output_type": "stream",
     "text": [
      "Epoch 1221: 100%|██████████| 7/7 [00:00<00:00, 92.11batch/s, acc=0.262, loss=nan]\n"
     ]
    },
    {
     "name": "stdout",
     "output_type": "stream",
     "text": [
      "Epoch 1221 validation: negative log likelihood loss=nan, Accuracy=0.2590448558330536\n"
     ]
    },
    {
     "name": "stderr",
     "output_type": "stream",
     "text": [
      "Epoch 1222: 100%|██████████| 7/7 [00:00<00:00, 93.33batch/s, acc=0.262, loss=nan]\n"
     ]
    },
    {
     "name": "stdout",
     "output_type": "stream",
     "text": [
      "Epoch 1222 validation: negative log likelihood loss=nan, Accuracy=0.2590448558330536\n"
     ]
    },
    {
     "name": "stderr",
     "output_type": "stream",
     "text": [
      "Epoch 1223: 100%|██████████| 7/7 [00:00<00:00, 94.59batch/s, acc=0.262, loss=nan]\n"
     ]
    },
    {
     "name": "stdout",
     "output_type": "stream",
     "text": [
      "Epoch 1223 validation: negative log likelihood loss=nan, Accuracy=0.2590448558330536\n"
     ]
    },
    {
     "name": "stderr",
     "output_type": "stream",
     "text": [
      "Epoch 1224: 100%|██████████| 7/7 [00:00<00:00, 88.61batch/s, acc=0.262, loss=nan]\n"
     ]
    },
    {
     "name": "stdout",
     "output_type": "stream",
     "text": [
      "Epoch 1224 validation: negative log likelihood loss=nan, Accuracy=0.2590448558330536\n"
     ]
    },
    {
     "name": "stderr",
     "output_type": "stream",
     "text": [
      "Epoch 1225: 100%|██████████| 7/7 [00:00<00:00, 94.60batch/s, acc=0.262, loss=nan]\n"
     ]
    },
    {
     "name": "stdout",
     "output_type": "stream",
     "text": [
      "Epoch 1225 validation: negative log likelihood loss=nan, Accuracy=0.2590448558330536\n"
     ]
    },
    {
     "name": "stderr",
     "output_type": "stream",
     "text": [
      "Epoch 1226: 100%|██████████| 7/7 [00:00<00:00, 46.67batch/s, acc=0.262, loss=nan]\n"
     ]
    },
    {
     "name": "stdout",
     "output_type": "stream",
     "text": [
      "Epoch 1226 validation: negative log likelihood loss=nan, Accuracy=0.2590448558330536\n"
     ]
    },
    {
     "name": "stderr",
     "output_type": "stream",
     "text": [
      "Epoch 1227: 100%|██████████| 7/7 [00:00<00:00, 94.60batch/s, acc=0.262, loss=nan]\n"
     ]
    },
    {
     "name": "stdout",
     "output_type": "stream",
     "text": [
      "Epoch 1227 validation: negative log likelihood loss=nan, Accuracy=0.2590448558330536\n"
     ]
    },
    {
     "name": "stderr",
     "output_type": "stream",
     "text": [
      "Epoch 1228: 100%|██████████| 7/7 [00:00<00:00, 94.60batch/s, acc=0.262, loss=nan]\n"
     ]
    },
    {
     "name": "stdout",
     "output_type": "stream",
     "text": [
      "Epoch 1228 validation: negative log likelihood loss=nan, Accuracy=0.2590448558330536\n"
     ]
    },
    {
     "name": "stderr",
     "output_type": "stream",
     "text": [
      "Epoch 1229: 100%|██████████| 7/7 [00:00<00:00, 102.94batch/s, acc=0.262, loss=nan]\n"
     ]
    },
    {
     "name": "stdout",
     "output_type": "stream",
     "text": [
      "Epoch 1229 validation: negative log likelihood loss=nan, Accuracy=0.2590448558330536\n"
     ]
    },
    {
     "name": "stderr",
     "output_type": "stream",
     "text": [
      "Epoch 1230: 100%|██████████| 7/7 [00:00<00:00, 97.22batch/s, acc=0.262, loss=nan] \n"
     ]
    },
    {
     "name": "stdout",
     "output_type": "stream",
     "text": [
      "Epoch 1230 validation: negative log likelihood loss=nan, Accuracy=0.2590448558330536\n"
     ]
    },
    {
     "name": "stderr",
     "output_type": "stream",
     "text": [
      "Epoch 1231: 100%|██████████| 7/7 [00:00<00:00, 95.89batch/s, acc=0.262, loss=nan]\n"
     ]
    },
    {
     "name": "stdout",
     "output_type": "stream",
     "text": [
      "Epoch 1231 validation: negative log likelihood loss=nan, Accuracy=0.2590448558330536\n"
     ]
    },
    {
     "name": "stderr",
     "output_type": "stream",
     "text": [
      "Epoch 1232: 100%|██████████| 7/7 [00:00<00:00, 95.90batch/s, acc=0.262, loss=nan] \n"
     ]
    },
    {
     "name": "stdout",
     "output_type": "stream",
     "text": [
      "Epoch 1232 validation: negative log likelihood loss=nan, Accuracy=0.2590448558330536\n"
     ]
    },
    {
     "name": "stderr",
     "output_type": "stream",
     "text": [
      "Epoch 1233: 100%|██████████| 7/7 [00:00<00:00, 93.34batch/s, acc=0.262, loss=nan]\n"
     ]
    },
    {
     "name": "stdout",
     "output_type": "stream",
     "text": [
      "Epoch 1233 validation: negative log likelihood loss=nan, Accuracy=0.2590448558330536\n"
     ]
    },
    {
     "name": "stderr",
     "output_type": "stream",
     "text": [
      "Epoch 1234: 100%|██████████| 7/7 [00:00<00:00, 92.11batch/s, acc=0.262, loss=nan]\n"
     ]
    },
    {
     "name": "stdout",
     "output_type": "stream",
     "text": [
      "Epoch 1234 validation: negative log likelihood loss=nan, Accuracy=0.2590448558330536\n"
     ]
    },
    {
     "name": "stderr",
     "output_type": "stream",
     "text": [
      "Epoch 1235: 100%|██████████| 7/7 [00:00<00:00, 92.11batch/s, acc=0.262, loss=nan]\n"
     ]
    },
    {
     "name": "stdout",
     "output_type": "stream",
     "text": [
      "Epoch 1235 validation: negative log likelihood loss=nan, Accuracy=0.2590448558330536\n"
     ]
    },
    {
     "name": "stderr",
     "output_type": "stream",
     "text": [
      "Epoch 1236: 100%|██████████| 7/7 [00:00<00:00, 97.23batch/s, acc=0.262, loss=nan] \n"
     ]
    },
    {
     "name": "stdout",
     "output_type": "stream",
     "text": [
      "Epoch 1236 validation: negative log likelihood loss=nan, Accuracy=0.2590448558330536\n"
     ]
    },
    {
     "name": "stderr",
     "output_type": "stream",
     "text": [
      "Epoch 1237: 100%|██████████| 7/7 [00:00<00:00, 89.74batch/s, acc=0.262, loss=nan]\n"
     ]
    },
    {
     "name": "stdout",
     "output_type": "stream",
     "text": [
      "Epoch 1237 validation: negative log likelihood loss=nan, Accuracy=0.2590448558330536\n"
     ]
    },
    {
     "name": "stderr",
     "output_type": "stream",
     "text": [
      "Epoch 1238: 100%|██████████| 7/7 [00:00<00:00, 90.91batch/s, acc=0.262, loss=nan]\n"
     ]
    },
    {
     "name": "stdout",
     "output_type": "stream",
     "text": [
      "Epoch 1238 validation: negative log likelihood loss=nan, Accuracy=0.2590448558330536\n"
     ]
    },
    {
     "name": "stderr",
     "output_type": "stream",
     "text": [
      "Epoch 1239: 100%|██████████| 7/7 [00:00<00:00, 88.61batch/s, acc=0.262, loss=nan]\n"
     ]
    },
    {
     "name": "stdout",
     "output_type": "stream",
     "text": [
      "Epoch 1239 validation: negative log likelihood loss=nan, Accuracy=0.2590448558330536\n"
     ]
    },
    {
     "name": "stderr",
     "output_type": "stream",
     "text": [
      "Epoch 1240: 100%|██████████| 7/7 [00:00<00:00, 89.75batch/s, acc=0.262, loss=nan]\n"
     ]
    },
    {
     "name": "stdout",
     "output_type": "stream",
     "text": [
      "Epoch 1240 validation: negative log likelihood loss=nan, Accuracy=0.2590448558330536\n"
     ]
    },
    {
     "name": "stderr",
     "output_type": "stream",
     "text": [
      "Epoch 1241: 100%|██████████| 7/7 [00:00<00:00, 93.34batch/s, acc=0.262, loss=nan]\n"
     ]
    },
    {
     "name": "stdout",
     "output_type": "stream",
     "text": [
      "Epoch 1241 validation: negative log likelihood loss=nan, Accuracy=0.2590448558330536\n"
     ]
    },
    {
     "name": "stderr",
     "output_type": "stream",
     "text": [
      "Epoch 1242: 100%|██████████| 7/7 [00:00<00:00, 40.70batch/s, acc=0.262, loss=nan]\n"
     ]
    },
    {
     "name": "stdout",
     "output_type": "stream",
     "text": [
      "Epoch 1242 validation: negative log likelihood loss=nan, Accuracy=0.2590448558330536\n"
     ]
    },
    {
     "name": "stderr",
     "output_type": "stream",
     "text": [
      "Epoch 1243: 100%|██████████| 7/7 [00:00<00:00, 87.50batch/s, acc=0.262, loss=nan]\n"
     ]
    },
    {
     "name": "stdout",
     "output_type": "stream",
     "text": [
      "Epoch 1243 validation: negative log likelihood loss=nan, Accuracy=0.2590448558330536\n"
     ]
    },
    {
     "name": "stderr",
     "output_type": "stream",
     "text": [
      "Epoch 1244: 100%|██████████| 7/7 [00:00<00:00, 90.91batch/s, acc=0.262, loss=nan]\n"
     ]
    },
    {
     "name": "stdout",
     "output_type": "stream",
     "text": [
      "Epoch 1244 validation: negative log likelihood loss=nan, Accuracy=0.2590448558330536\n"
     ]
    },
    {
     "name": "stderr",
     "output_type": "stream",
     "text": [
      "Epoch 1245: 100%|██████████| 7/7 [00:00<00:00, 94.59batch/s, acc=0.262, loss=nan]"
     ]
    },
    {
     "name": "stdout",
     "output_type": "stream",
     "text": [
      "Epoch 1245 validation: negative log likelihood loss=nan, Accuracy=0.2590448558330536\n"
     ]
    },
    {
     "name": "stderr",
     "output_type": "stream",
     "text": [
      "\n",
      "Epoch 1246: 100%|██████████| 7/7 [00:00<00:00, 90.91batch/s, acc=0.262, loss=nan]\n"
     ]
    },
    {
     "name": "stdout",
     "output_type": "stream",
     "text": [
      "Epoch 1246 validation: negative log likelihood loss=nan, Accuracy=0.2590448558330536\n"
     ]
    },
    {
     "name": "stderr",
     "output_type": "stream",
     "text": [
      "Epoch 1247: 100%|██████████| 7/7 [00:00<00:00, 92.10batch/s, acc=0.262, loss=nan]\n"
     ]
    },
    {
     "name": "stdout",
     "output_type": "stream",
     "text": [
      "Epoch 1247 validation: negative log likelihood loss=nan, Accuracy=0.2590448558330536\n"
     ]
    },
    {
     "name": "stderr",
     "output_type": "stream",
     "text": [
      "Epoch 1248: 100%|██████████| 7/7 [00:00<00:00, 90.91batch/s, acc=0.262, loss=nan]\n"
     ]
    },
    {
     "name": "stdout",
     "output_type": "stream",
     "text": [
      "Epoch 1248 validation: negative log likelihood loss=nan, Accuracy=0.2590448558330536\n"
     ]
    },
    {
     "name": "stderr",
     "output_type": "stream",
     "text": [
      "Epoch 1249: 100%|██████████| 7/7 [00:00<00:00, 95.89batch/s, acc=0.262, loss=nan] \n"
     ]
    },
    {
     "name": "stdout",
     "output_type": "stream",
     "text": [
      "Epoch 1249 validation: negative log likelihood loss=nan, Accuracy=0.2590448558330536\n"
     ]
    },
    {
     "name": "stderr",
     "output_type": "stream",
     "text": [
      "Epoch 1250: 100%|██████████| 7/7 [00:00<00:00, 92.10batch/s, acc=0.262, loss=nan]\n"
     ]
    },
    {
     "name": "stdout",
     "output_type": "stream",
     "text": [
      "Epoch 1250 validation: negative log likelihood loss=nan, Accuracy=0.2590448558330536\n"
     ]
    },
    {
     "name": "stderr",
     "output_type": "stream",
     "text": [
      "Epoch 1251: 100%|██████████| 7/7 [00:00<00:00, 43.75batch/s, acc=0.262, loss=nan]\n"
     ]
    },
    {
     "name": "stdout",
     "output_type": "stream",
     "text": [
      "Epoch 1251 validation: negative log likelihood loss=nan, Accuracy=0.2590448558330536\n"
     ]
    },
    {
     "name": "stderr",
     "output_type": "stream",
     "text": [
      "Epoch 1252: 100%|██████████| 7/7 [00:00<00:00, 93.33batch/s, acc=0.262, loss=nan]\n"
     ]
    },
    {
     "name": "stdout",
     "output_type": "stream",
     "text": [
      "Epoch 1252 validation: negative log likelihood loss=nan, Accuracy=0.2590448558330536\n"
     ]
    },
    {
     "name": "stderr",
     "output_type": "stream",
     "text": [
      "Epoch 1253: 100%|██████████| 7/7 [00:00<00:00, 92.11batch/s, acc=0.262, loss=nan]\n"
     ]
    },
    {
     "name": "stdout",
     "output_type": "stream",
     "text": [
      "Epoch 1253 validation: negative log likelihood loss=nan, Accuracy=0.2590448558330536\n"
     ]
    },
    {
     "name": "stderr",
     "output_type": "stream",
     "text": [
      "Epoch 1254: 100%|██████████| 7/7 [00:00<00:00, 94.60batch/s, acc=0.262, loss=nan]\n"
     ]
    },
    {
     "name": "stdout",
     "output_type": "stream",
     "text": [
      "Epoch 1254 validation: negative log likelihood loss=nan, Accuracy=0.2590448558330536\n"
     ]
    },
    {
     "name": "stderr",
     "output_type": "stream",
     "text": [
      "Epoch 1255: 100%|██████████| 7/7 [00:00<00:00, 90.91batch/s, acc=0.262, loss=nan]\n"
     ]
    },
    {
     "name": "stdout",
     "output_type": "stream",
     "text": [
      "Epoch 1255 validation: negative log likelihood loss=nan, Accuracy=0.2590448558330536\n"
     ]
    },
    {
     "name": "stderr",
     "output_type": "stream",
     "text": [
      "Epoch 1256: 100%|██████████| 7/7 [00:00<00:00, 92.11batch/s, acc=0.262, loss=nan]\n"
     ]
    },
    {
     "name": "stdout",
     "output_type": "stream",
     "text": [
      "Epoch 1256 validation: negative log likelihood loss=nan, Accuracy=0.2590448558330536\n"
     ]
    },
    {
     "name": "stderr",
     "output_type": "stream",
     "text": [
      "Epoch 1257: 100%|██████████| 7/7 [00:00<00:00, 88.61batch/s, acc=0.262, loss=nan]\n"
     ]
    },
    {
     "name": "stdout",
     "output_type": "stream",
     "text": [
      "Epoch 1257 validation: negative log likelihood loss=nan, Accuracy=0.2590448558330536\n"
     ]
    },
    {
     "name": "stderr",
     "output_type": "stream",
     "text": [
      "Epoch 1258: 100%|██████████| 7/7 [00:00<00:00, 93.33batch/s, acc=0.262, loss=nan]\n"
     ]
    },
    {
     "name": "stdout",
     "output_type": "stream",
     "text": [
      "Epoch 1258 validation: negative log likelihood loss=nan, Accuracy=0.2590448558330536\n"
     ]
    },
    {
     "name": "stderr",
     "output_type": "stream",
     "text": [
      "Epoch 1259: 100%|██████████| 7/7 [00:00<00:00, 90.91batch/s, acc=0.262, loss=nan]\n"
     ]
    },
    {
     "name": "stdout",
     "output_type": "stream",
     "text": [
      "Epoch 1259 validation: negative log likelihood loss=nan, Accuracy=0.2590448558330536\n"
     ]
    },
    {
     "name": "stderr",
     "output_type": "stream",
     "text": [
      "Epoch 1260: 100%|██████████| 7/7 [00:00<00:00, 48.95batch/s, acc=0.262, loss=nan]\n"
     ]
    },
    {
     "name": "stdout",
     "output_type": "stream",
     "text": [
      "Epoch 1260 validation: negative log likelihood loss=nan, Accuracy=0.2590448558330536\n"
     ]
    },
    {
     "name": "stderr",
     "output_type": "stream",
     "text": [
      "Epoch 1261: 100%|██████████| 7/7 [00:00<00:00, 94.59batch/s, acc=0.262, loss=nan] \n"
     ]
    },
    {
     "name": "stdout",
     "output_type": "stream",
     "text": [
      "Epoch 1261 validation: negative log likelihood loss=nan, Accuracy=0.2590448558330536\n"
     ]
    },
    {
     "name": "stderr",
     "output_type": "stream",
     "text": [
      "Epoch 1262: 100%|██████████| 7/7 [00:00<00:00, 90.91batch/s, acc=0.262, loss=nan]\n"
     ]
    },
    {
     "name": "stdout",
     "output_type": "stream",
     "text": [
      "Epoch 1262 validation: negative log likelihood loss=nan, Accuracy=0.2590448558330536\n"
     ]
    },
    {
     "name": "stderr",
     "output_type": "stream",
     "text": [
      "Epoch 1263: 100%|██████████| 7/7 [00:00<00:00, 92.11batch/s, acc=0.262, loss=nan]\n"
     ]
    },
    {
     "name": "stdout",
     "output_type": "stream",
     "text": [
      "Epoch 1263 validation: negative log likelihood loss=nan, Accuracy=0.2590448558330536\n"
     ]
    },
    {
     "name": "stderr",
     "output_type": "stream",
     "text": [
      "Epoch 1264: 100%|██████████| 7/7 [00:00<00:00, 92.11batch/s, acc=0.262, loss=nan]\n"
     ]
    },
    {
     "name": "stdout",
     "output_type": "stream",
     "text": [
      "Epoch 1264 validation: negative log likelihood loss=nan, Accuracy=0.2590448558330536\n"
     ]
    },
    {
     "name": "stderr",
     "output_type": "stream",
     "text": [
      "Epoch 1265: 100%|██████████| 7/7 [00:00<00:00, 92.10batch/s, acc=0.262, loss=nan]\n"
     ]
    },
    {
     "name": "stdout",
     "output_type": "stream",
     "text": [
      "Epoch 1265 validation: negative log likelihood loss=nan, Accuracy=0.2590448558330536\n"
     ]
    },
    {
     "name": "stderr",
     "output_type": "stream",
     "text": [
      "Epoch 1266: 100%|██████████| 7/7 [00:00<00:00, 95.89batch/s, acc=0.262, loss=nan] \n"
     ]
    },
    {
     "name": "stdout",
     "output_type": "stream",
     "text": [
      "Epoch 1266 validation: negative log likelihood loss=nan, Accuracy=0.2590448558330536\n"
     ]
    },
    {
     "name": "stderr",
     "output_type": "stream",
     "text": [
      "Epoch 1267: 100%|██████████| 7/7 [00:00<00:00, 95.89batch/s, acc=0.262, loss=nan]\n"
     ]
    },
    {
     "name": "stdout",
     "output_type": "stream",
     "text": [
      "Epoch 1267 validation: negative log likelihood loss=nan, Accuracy=0.2590448558330536\n"
     ]
    },
    {
     "name": "stderr",
     "output_type": "stream",
     "text": [
      "Epoch 1268: 100%|██████████| 7/7 [00:00<00:00, 93.33batch/s, acc=0.262, loss=nan]\n"
     ]
    },
    {
     "name": "stdout",
     "output_type": "stream",
     "text": [
      "Epoch 1268 validation: negative log likelihood loss=nan, Accuracy=0.2590448558330536\n"
     ]
    },
    {
     "name": "stderr",
     "output_type": "stream",
     "text": [
      "Epoch 1269: 100%|██████████| 7/7 [00:00<00:00, 92.11batch/s, acc=0.262, loss=nan]\n"
     ]
    },
    {
     "name": "stdout",
     "output_type": "stream",
     "text": [
      "Epoch 1269 validation: negative log likelihood loss=nan, Accuracy=0.2590448558330536\n"
     ]
    },
    {
     "name": "stderr",
     "output_type": "stream",
     "text": [
      "Epoch 1270: 100%|██████████| 7/7 [00:00<00:00, 87.50batch/s, acc=0.262, loss=nan]\n"
     ]
    },
    {
     "name": "stdout",
     "output_type": "stream",
     "text": [
      "Epoch 1270 validation: negative log likelihood loss=nan, Accuracy=0.2590448558330536\n"
     ]
    },
    {
     "name": "stderr",
     "output_type": "stream",
     "text": [
      "Epoch 1271: 100%|██████████| 7/7 [00:00<00:00, 92.11batch/s, acc=0.262, loss=nan]\n"
     ]
    },
    {
     "name": "stdout",
     "output_type": "stream",
     "text": [
      "Epoch 1271 validation: negative log likelihood loss=nan, Accuracy=0.2590448558330536\n"
     ]
    },
    {
     "name": "stderr",
     "output_type": "stream",
     "text": [
      "Epoch 1272: 100%|██████████| 7/7 [00:00<00:00, 94.59batch/s, acc=0.262, loss=nan]\n"
     ]
    },
    {
     "name": "stdout",
     "output_type": "stream",
     "text": [
      "Epoch 1272 validation: negative log likelihood loss=nan, Accuracy=0.2590448558330536\n"
     ]
    },
    {
     "name": "stderr",
     "output_type": "stream",
     "text": [
      "Epoch 1273: 100%|██████████| 7/7 [00:00<00:00, 101.45batch/s, acc=0.262, loss=nan]\n"
     ]
    },
    {
     "name": "stdout",
     "output_type": "stream",
     "text": [
      "Epoch 1273 validation: negative log likelihood loss=nan, Accuracy=0.2590448558330536\n"
     ]
    },
    {
     "name": "stderr",
     "output_type": "stream",
     "text": [
      "Epoch 1274: 100%|██████████| 7/7 [00:00<00:00, 93.33batch/s, acc=0.262, loss=nan]\n"
     ]
    },
    {
     "name": "stdout",
     "output_type": "stream",
     "text": [
      "Epoch 1274 validation: negative log likelihood loss=nan, Accuracy=0.2590448558330536\n"
     ]
    },
    {
     "name": "stderr",
     "output_type": "stream",
     "text": [
      "Epoch 1275: 100%|██████████| 7/7 [00:00<00:00, 94.60batch/s, acc=0.262, loss=nan] \n"
     ]
    },
    {
     "name": "stdout",
     "output_type": "stream",
     "text": [
      "Epoch 1275 validation: negative log likelihood loss=nan, Accuracy=0.2590448558330536\n"
     ]
    },
    {
     "name": "stderr",
     "output_type": "stream",
     "text": [
      "Epoch 1276: 100%|██████████| 7/7 [00:00<00:00, 93.33batch/s, acc=0.262, loss=nan]\n"
     ]
    },
    {
     "name": "stdout",
     "output_type": "stream",
     "text": [
      "Epoch 1276 validation: negative log likelihood loss=nan, Accuracy=0.2590448558330536\n"
     ]
    },
    {
     "name": "stderr",
     "output_type": "stream",
     "text": [
      "Epoch 1277: 100%|██████████| 7/7 [00:00<00:00, 98.59batch/s, acc=0.262, loss=nan] \n"
     ]
    },
    {
     "name": "stdout",
     "output_type": "stream",
     "text": [
      "Epoch 1277 validation: negative log likelihood loss=nan, Accuracy=0.2590448558330536\n"
     ]
    },
    {
     "name": "stderr",
     "output_type": "stream",
     "text": [
      "Epoch 1278: 100%|██████████| 7/7 [00:00<00:00, 97.22batch/s, acc=0.262, loss=nan]\n"
     ]
    },
    {
     "name": "stdout",
     "output_type": "stream",
     "text": [
      "Epoch 1278 validation: negative log likelihood loss=nan, Accuracy=0.2590448558330536\n"
     ]
    },
    {
     "name": "stderr",
     "output_type": "stream",
     "text": [
      "Epoch 1279: 100%|██████████| 7/7 [00:00<00:00, 93.34batch/s, acc=0.262, loss=nan]\n"
     ]
    },
    {
     "name": "stdout",
     "output_type": "stream",
     "text": [
      "Epoch 1279 validation: negative log likelihood loss=nan, Accuracy=0.2590448558330536\n"
     ]
    },
    {
     "name": "stderr",
     "output_type": "stream",
     "text": [
      "Epoch 1280: 100%|██████████| 7/7 [00:00<00:00, 44.30batch/s, acc=0.262, loss=nan]\n"
     ]
    },
    {
     "name": "stdout",
     "output_type": "stream",
     "text": [
      "Epoch 1280 validation: negative log likelihood loss=nan, Accuracy=0.2590448558330536\n"
     ]
    },
    {
     "name": "stderr",
     "output_type": "stream",
     "text": [
      "Epoch 1281: 100%|██████████| 7/7 [00:00<00:00, 93.34batch/s, acc=0.262, loss=nan]\n"
     ]
    },
    {
     "name": "stdout",
     "output_type": "stream",
     "text": [
      "Epoch 1281 validation: negative log likelihood loss=nan, Accuracy=0.2590448558330536\n"
     ]
    },
    {
     "name": "stderr",
     "output_type": "stream",
     "text": [
      "Epoch 1282: 100%|██████████| 7/7 [00:00<00:00, 88.61batch/s, acc=0.262, loss=nan]\n"
     ]
    },
    {
     "name": "stdout",
     "output_type": "stream",
     "text": [
      "Epoch 1282 validation: negative log likelihood loss=nan, Accuracy=0.2590448558330536\n"
     ]
    },
    {
     "name": "stderr",
     "output_type": "stream",
     "text": [
      "Epoch 1283: 100%|██████████| 7/7 [00:00<00:00, 92.11batch/s, acc=0.262, loss=nan]\n"
     ]
    },
    {
     "name": "stdout",
     "output_type": "stream",
     "text": [
      "Epoch 1283 validation: negative log likelihood loss=nan, Accuracy=0.2590448558330536\n"
     ]
    },
    {
     "name": "stderr",
     "output_type": "stream",
     "text": [
      "Epoch 1284: 100%|██████████| 7/7 [00:00<00:00, 90.91batch/s, acc=0.262, loss=nan]\n"
     ]
    },
    {
     "name": "stdout",
     "output_type": "stream",
     "text": [
      "Epoch 1284 validation: negative log likelihood loss=nan, Accuracy=0.2590448558330536\n"
     ]
    },
    {
     "name": "stderr",
     "output_type": "stream",
     "text": [
      "Epoch 1285: 100%|██████████| 7/7 [00:00<00:00, 97.22batch/s, acc=0.262, loss=nan] \n"
     ]
    },
    {
     "name": "stdout",
     "output_type": "stream",
     "text": [
      "Epoch 1285 validation: negative log likelihood loss=nan, Accuracy=0.2590448558330536\n"
     ]
    },
    {
     "name": "stderr",
     "output_type": "stream",
     "text": [
      "Epoch 1286: 100%|██████████| 7/7 [00:00<00:00, 93.34batch/s, acc=0.262, loss=nan]\n"
     ]
    },
    {
     "name": "stdout",
     "output_type": "stream",
     "text": [
      "Epoch 1286 validation: negative log likelihood loss=nan, Accuracy=0.2590448558330536\n"
     ]
    },
    {
     "name": "stderr",
     "output_type": "stream",
     "text": [
      "Epoch 1287: 100%|██████████| 7/7 [00:00<00:00, 101.46batch/s, acc=0.262, loss=nan]\n"
     ]
    },
    {
     "name": "stdout",
     "output_type": "stream",
     "text": [
      "Epoch 1287 validation: negative log likelihood loss=nan, Accuracy=0.2590448558330536\n"
     ]
    },
    {
     "name": "stderr",
     "output_type": "stream",
     "text": [
      "Epoch 1288: 100%|██████████| 7/7 [00:00<00:00, 98.60batch/s, acc=0.262, loss=nan] \n"
     ]
    },
    {
     "name": "stdout",
     "output_type": "stream",
     "text": [
      "Epoch 1288 validation: negative log likelihood loss=nan, Accuracy=0.2590448558330536\n"
     ]
    },
    {
     "name": "stderr",
     "output_type": "stream",
     "text": [
      "Epoch 1289: 100%|██████████| 7/7 [00:00<00:00, 92.11batch/s, acc=0.262, loss=nan]\n"
     ]
    },
    {
     "name": "stdout",
     "output_type": "stream",
     "text": [
      "Epoch 1289 validation: negative log likelihood loss=nan, Accuracy=0.2590448558330536\n"
     ]
    },
    {
     "name": "stderr",
     "output_type": "stream",
     "text": [
      "Epoch 1290: 100%|██████████| 7/7 [00:00<00:00, 97.22batch/s, acc=0.262, loss=nan] \n"
     ]
    },
    {
     "name": "stdout",
     "output_type": "stream",
     "text": [
      "Epoch 1290 validation: negative log likelihood loss=nan, Accuracy=0.2590448558330536\n"
     ]
    },
    {
     "name": "stderr",
     "output_type": "stream",
     "text": [
      "Epoch 1291: 100%|██████████| 7/7 [00:00<00:00, 99.99batch/s, acc=0.262, loss=nan] \n"
     ]
    },
    {
     "name": "stdout",
     "output_type": "stream",
     "text": [
      "Epoch 1291 validation: negative log likelihood loss=nan, Accuracy=0.2590448558330536\n"
     ]
    },
    {
     "name": "stderr",
     "output_type": "stream",
     "text": [
      "Epoch 1292: 100%|██████████| 7/7 [00:00<00:00, 98.60batch/s, acc=0.262, loss=nan] \n"
     ]
    },
    {
     "name": "stdout",
     "output_type": "stream",
     "text": [
      "Epoch 1292 validation: negative log likelihood loss=nan, Accuracy=0.2590448558330536\n"
     ]
    },
    {
     "name": "stderr",
     "output_type": "stream",
     "text": [
      "Epoch 1293: 100%|██████████| 7/7 [00:00<00:00, 93.33batch/s, acc=0.262, loss=nan]\n"
     ]
    },
    {
     "name": "stdout",
     "output_type": "stream",
     "text": [
      "Epoch 1293 validation: negative log likelihood loss=nan, Accuracy=0.2590448558330536\n"
     ]
    },
    {
     "name": "stderr",
     "output_type": "stream",
     "text": [
      "Epoch 1294: 100%|██████████| 7/7 [00:00<00:00, 93.33batch/s, acc=0.262, loss=nan]\n"
     ]
    },
    {
     "name": "stdout",
     "output_type": "stream",
     "text": [
      "Epoch 1294 validation: negative log likelihood loss=nan, Accuracy=0.2590448558330536\n"
     ]
    },
    {
     "name": "stderr",
     "output_type": "stream",
     "text": [
      "Epoch 1295: 100%|██████████| 7/7 [00:00<00:00, 93.33batch/s, acc=0.262, loss=nan]\n"
     ]
    },
    {
     "name": "stdout",
     "output_type": "stream",
     "text": [
      "Epoch 1295 validation: negative log likelihood loss=nan, Accuracy=0.2590448558330536\n"
     ]
    },
    {
     "name": "stderr",
     "output_type": "stream",
     "text": [
      "Epoch 1296: 100%|██████████| 7/7 [00:00<00:00, 95.89batch/s, acc=0.262, loss=nan] \n"
     ]
    },
    {
     "name": "stdout",
     "output_type": "stream",
     "text": [
      "Epoch 1296 validation: negative log likelihood loss=nan, Accuracy=0.2590448558330536\n"
     ]
    },
    {
     "name": "stderr",
     "output_type": "stream",
     "text": [
      "Epoch 1297: 100%|██████████| 7/7 [00:00<00:00, 98.59batch/s, acc=0.262, loss=nan]\n"
     ]
    },
    {
     "name": "stdout",
     "output_type": "stream",
     "text": [
      "Epoch 1297 validation: negative log likelihood loss=nan, Accuracy=0.2590448558330536\n"
     ]
    },
    {
     "name": "stderr",
     "output_type": "stream",
     "text": [
      "Epoch 1298: 100%|██████████| 7/7 [00:00<00:00, 94.60batch/s, acc=0.262, loss=nan] \n"
     ]
    },
    {
     "name": "stdout",
     "output_type": "stream",
     "text": [
      "Epoch 1298 validation: negative log likelihood loss=nan, Accuracy=0.2590448558330536\n"
     ]
    },
    {
     "name": "stderr",
     "output_type": "stream",
     "text": [
      "Epoch 1299: 100%|██████████| 7/7 [00:00<00:00, 89.75batch/s, acc=0.262, loss=nan]\n"
     ]
    },
    {
     "name": "stdout",
     "output_type": "stream",
     "text": [
      "Epoch 1299 validation: negative log likelihood loss=nan, Accuracy=0.2590448558330536\n"
     ]
    },
    {
     "name": "stderr",
     "output_type": "stream",
     "text": [
      "Epoch 1300: 100%|██████████| 7/7 [00:00<00:00, 92.11batch/s, acc=0.262, loss=nan]\n"
     ]
    },
    {
     "name": "stdout",
     "output_type": "stream",
     "text": [
      "Epoch 1300 validation: negative log likelihood loss=nan, Accuracy=0.2590448558330536\n"
     ]
    },
    {
     "name": "stderr",
     "output_type": "stream",
     "text": [
      "Epoch 1301: 100%|██████████| 7/7 [00:00<00:00, 93.34batch/s, acc=0.262, loss=nan]\n"
     ]
    },
    {
     "name": "stdout",
     "output_type": "stream",
     "text": [
      "Epoch 1301 validation: negative log likelihood loss=nan, Accuracy=0.2590448558330536\n"
     ]
    },
    {
     "name": "stderr",
     "output_type": "stream",
     "text": [
      "Epoch 1302: 100%|██████████| 7/7 [00:00<00:00, 89.75batch/s, acc=0.262, loss=nan]\n"
     ]
    },
    {
     "name": "stdout",
     "output_type": "stream",
     "text": [
      "Epoch 1302 validation: negative log likelihood loss=nan, Accuracy=0.2590448558330536\n"
     ]
    },
    {
     "name": "stderr",
     "output_type": "stream",
     "text": [
      "Epoch 1303: 100%|██████████| 7/7 [00:00<00:00, 98.59batch/s, acc=0.262, loss=nan]\n"
     ]
    },
    {
     "name": "stdout",
     "output_type": "stream",
     "text": [
      "Epoch 1303 validation: negative log likelihood loss=nan, Accuracy=0.2590448558330536\n"
     ]
    },
    {
     "name": "stderr",
     "output_type": "stream",
     "text": [
      "Epoch 1304: 100%|██████████| 7/7 [00:00<00:00, 94.59batch/s, acc=0.262, loss=nan] \n"
     ]
    },
    {
     "name": "stdout",
     "output_type": "stream",
     "text": [
      "Epoch 1304 validation: negative log likelihood loss=nan, Accuracy=0.2590448558330536\n"
     ]
    },
    {
     "name": "stderr",
     "output_type": "stream",
     "text": [
      "Epoch 1305: 100%|██████████| 7/7 [00:00<00:00, 90.91batch/s, acc=0.262, loss=nan]\n"
     ]
    },
    {
     "name": "stdout",
     "output_type": "stream",
     "text": [
      "Epoch 1305 validation: negative log likelihood loss=nan, Accuracy=0.2590448558330536\n"
     ]
    },
    {
     "name": "stderr",
     "output_type": "stream",
     "text": [
      "Epoch 1306: 100%|██████████| 7/7 [00:00<00:00, 90.91batch/s, acc=0.262, loss=nan]\n"
     ]
    },
    {
     "name": "stdout",
     "output_type": "stream",
     "text": [
      "Epoch 1306 validation: negative log likelihood loss=nan, Accuracy=0.2590448558330536\n"
     ]
    },
    {
     "name": "stderr",
     "output_type": "stream",
     "text": [
      "Epoch 1307: 100%|██████████| 7/7 [00:00<00:00, 83.33batch/s, acc=0.262, loss=nan]\n"
     ]
    },
    {
     "name": "stdout",
     "output_type": "stream",
     "text": [
      "Epoch 1307 validation: negative log likelihood loss=nan, Accuracy=0.2590448558330536\n"
     ]
    },
    {
     "name": "stderr",
     "output_type": "stream",
     "text": [
      "Epoch 1308: 100%|██████████| 7/7 [00:00<00:00, 90.91batch/s, acc=0.262, loss=nan]\n"
     ]
    },
    {
     "name": "stdout",
     "output_type": "stream",
     "text": [
      "Epoch 1308 validation: negative log likelihood loss=nan, Accuracy=0.2590448558330536\n"
     ]
    },
    {
     "name": "stderr",
     "output_type": "stream",
     "text": [
      "Epoch 1309: 100%|██████████| 7/7 [00:00<00:00, 95.89batch/s, acc=0.262, loss=nan]\n"
     ]
    },
    {
     "name": "stdout",
     "output_type": "stream",
     "text": [
      "Epoch 1309 validation: negative log likelihood loss=nan, Accuracy=0.2590448558330536\n"
     ]
    },
    {
     "name": "stderr",
     "output_type": "stream",
     "text": [
      "Epoch 1310: 100%|██████████| 7/7 [00:00<00:00, 94.59batch/s, acc=0.262, loss=nan]\n"
     ]
    },
    {
     "name": "stdout",
     "output_type": "stream",
     "text": [
      "Epoch 1310 validation: negative log likelihood loss=nan, Accuracy=0.2590448558330536\n"
     ]
    },
    {
     "name": "stderr",
     "output_type": "stream",
     "text": [
      "Epoch 1311: 100%|██████████| 7/7 [00:00<00:00, 92.11batch/s, acc=0.262, loss=nan]\n"
     ]
    },
    {
     "name": "stdout",
     "output_type": "stream",
     "text": [
      "Epoch 1311 validation: negative log likelihood loss=nan, Accuracy=0.2590448558330536\n"
     ]
    },
    {
     "name": "stderr",
     "output_type": "stream",
     "text": [
      "Epoch 1312: 100%|██████████| 7/7 [00:00<00:00, 48.28batch/s, acc=0.262, loss=nan]\n"
     ]
    },
    {
     "name": "stdout",
     "output_type": "stream",
     "text": [
      "Epoch 1312 validation: negative log likelihood loss=nan, Accuracy=0.2590448558330536\n"
     ]
    },
    {
     "name": "stderr",
     "output_type": "stream",
     "text": [
      "Epoch 1313: 100%|██████████| 7/7 [00:00<00:00, 79.55batch/s, acc=0.262, loss=nan]\n"
     ]
    },
    {
     "name": "stdout",
     "output_type": "stream",
     "text": [
      "Epoch 1313 validation: negative log likelihood loss=nan, Accuracy=0.2590448558330536\n"
     ]
    },
    {
     "name": "stderr",
     "output_type": "stream",
     "text": [
      "Epoch 1314: 100%|██████████| 7/7 [00:00<00:00, 89.75batch/s, acc=0.262, loss=nan]\n"
     ]
    },
    {
     "name": "stdout",
     "output_type": "stream",
     "text": [
      "Epoch 1314 validation: negative log likelihood loss=nan, Accuracy=0.2590448558330536\n"
     ]
    },
    {
     "name": "stderr",
     "output_type": "stream",
     "text": [
      "Epoch 1315: 100%|██████████| 7/7 [00:00<00:00, 92.10batch/s, acc=0.262, loss=nan]\n"
     ]
    },
    {
     "name": "stdout",
     "output_type": "stream",
     "text": [
      "Epoch 1315 validation: negative log likelihood loss=nan, Accuracy=0.2590448558330536\n"
     ]
    },
    {
     "name": "stderr",
     "output_type": "stream",
     "text": [
      "Epoch 1316: 100%|██████████| 7/7 [00:00<00:00, 90.91batch/s, acc=0.262, loss=nan]\n"
     ]
    },
    {
     "name": "stdout",
     "output_type": "stream",
     "text": [
      "Epoch 1316 validation: negative log likelihood loss=nan, Accuracy=0.2590448558330536\n"
     ]
    },
    {
     "name": "stderr",
     "output_type": "stream",
     "text": [
      "Epoch 1317: 100%|██████████| 7/7 [00:00<00:00, 88.61batch/s, acc=0.262, loss=nan]\n"
     ]
    },
    {
     "name": "stdout",
     "output_type": "stream",
     "text": [
      "Epoch 1317 validation: negative log likelihood loss=nan, Accuracy=0.2590448558330536\n"
     ]
    },
    {
     "name": "stderr",
     "output_type": "stream",
     "text": [
      "Epoch 1318: 100%|██████████| 7/7 [00:00<00:00, 90.91batch/s, acc=0.262, loss=nan]\n"
     ]
    },
    {
     "name": "stdout",
     "output_type": "stream",
     "text": [
      "Epoch 1318 validation: negative log likelihood loss=nan, Accuracy=0.2590448558330536\n"
     ]
    },
    {
     "name": "stderr",
     "output_type": "stream",
     "text": [
      "Epoch 1319: 100%|██████████| 7/7 [00:00<00:00, 90.91batch/s, acc=0.262, loss=nan]\n"
     ]
    },
    {
     "name": "stdout",
     "output_type": "stream",
     "text": [
      "Epoch 1319 validation: negative log likelihood loss=nan, Accuracy=0.2590448558330536\n"
     ]
    },
    {
     "name": "stderr",
     "output_type": "stream",
     "text": [
      "Epoch 1320: 100%|██████████| 7/7 [00:00<00:00, 50.36batch/s, acc=0.262, loss=nan]\n"
     ]
    },
    {
     "name": "stdout",
     "output_type": "stream",
     "text": [
      "Epoch 1320 validation: negative log likelihood loss=nan, Accuracy=0.2590448558330536\n"
     ]
    },
    {
     "name": "stderr",
     "output_type": "stream",
     "text": [
      "Epoch 1321: 100%|██████████| 7/7 [00:00<00:00, 87.50batch/s, acc=0.262, loss=nan]\n"
     ]
    },
    {
     "name": "stdout",
     "output_type": "stream",
     "text": [
      "Epoch 1321 validation: negative log likelihood loss=nan, Accuracy=0.2590448558330536\n"
     ]
    },
    {
     "name": "stderr",
     "output_type": "stream",
     "text": [
      "Epoch 1322: 100%|██████████| 7/7 [00:00<00:00, 92.11batch/s, acc=0.262, loss=nan]\n"
     ]
    },
    {
     "name": "stdout",
     "output_type": "stream",
     "text": [
      "Epoch 1322 validation: negative log likelihood loss=nan, Accuracy=0.2590448558330536\n"
     ]
    },
    {
     "name": "stderr",
     "output_type": "stream",
     "text": [
      "Epoch 1323: 100%|██████████| 7/7 [00:00<00:00, 90.91batch/s, acc=0.262, loss=nan] \n"
     ]
    },
    {
     "name": "stdout",
     "output_type": "stream",
     "text": [
      "Epoch 1323 validation: negative log likelihood loss=nan, Accuracy=0.2590448558330536\n"
     ]
    },
    {
     "name": "stderr",
     "output_type": "stream",
     "text": [
      "Epoch 1324: 100%|██████████| 7/7 [00:00<00:00, 94.59batch/s, acc=0.262, loss=nan] \n"
     ]
    },
    {
     "name": "stdout",
     "output_type": "stream",
     "text": [
      "Epoch 1324 validation: negative log likelihood loss=nan, Accuracy=0.2590448558330536\n"
     ]
    },
    {
     "name": "stderr",
     "output_type": "stream",
     "text": [
      "Epoch 1325: 100%|██████████| 7/7 [00:00<00:00, 93.33batch/s, acc=0.262, loss=nan]\n"
     ]
    },
    {
     "name": "stdout",
     "output_type": "stream",
     "text": [
      "Epoch 1325 validation: negative log likelihood loss=nan, Accuracy=0.2590448558330536\n"
     ]
    },
    {
     "name": "stderr",
     "output_type": "stream",
     "text": [
      "Epoch 1326: 100%|██████████| 7/7 [00:00<00:00, 87.50batch/s, acc=0.262, loss=nan]\n"
     ]
    },
    {
     "name": "stdout",
     "output_type": "stream",
     "text": [
      "Epoch 1326 validation: negative log likelihood loss=nan, Accuracy=0.2590448558330536\n"
     ]
    },
    {
     "name": "stderr",
     "output_type": "stream",
     "text": [
      "Epoch 1327: 100%|██████████| 7/7 [00:00<00:00, 94.59batch/s, acc=0.262, loss=nan]\n"
     ]
    },
    {
     "name": "stdout",
     "output_type": "stream",
     "text": [
      "Epoch 1327 validation: negative log likelihood loss=nan, Accuracy=0.2590448558330536\n"
     ]
    },
    {
     "name": "stderr",
     "output_type": "stream",
     "text": [
      "Epoch 1328: 100%|██████████| 7/7 [00:00<00:00, 90.91batch/s, acc=0.262, loss=nan]\n"
     ]
    },
    {
     "name": "stdout",
     "output_type": "stream",
     "text": [
      "Epoch 1328 validation: negative log likelihood loss=nan, Accuracy=0.2590448558330536\n"
     ]
    },
    {
     "name": "stderr",
     "output_type": "stream",
     "text": [
      "Epoch 1329: 100%|██████████| 7/7 [00:00<00:00, 92.11batch/s, acc=0.262, loss=nan]\n"
     ]
    },
    {
     "name": "stdout",
     "output_type": "stream",
     "text": [
      "Epoch 1329 validation: negative log likelihood loss=nan, Accuracy=0.2590448558330536\n"
     ]
    },
    {
     "name": "stderr",
     "output_type": "stream",
     "text": [
      "Epoch 1330: 100%|██████████| 7/7 [00:00<00:00, 87.50batch/s, acc=0.262, loss=nan]\n"
     ]
    },
    {
     "name": "stdout",
     "output_type": "stream",
     "text": [
      "Epoch 1330 validation: negative log likelihood loss=nan, Accuracy=0.2590448558330536\n"
     ]
    },
    {
     "name": "stderr",
     "output_type": "stream",
     "text": [
      "Epoch 1331: 100%|██████████| 7/7 [00:00<00:00, 90.91batch/s, acc=0.262, loss=nan]\n"
     ]
    },
    {
     "name": "stdout",
     "output_type": "stream",
     "text": [
      "Epoch 1331 validation: negative log likelihood loss=nan, Accuracy=0.2590448558330536\n"
     ]
    },
    {
     "name": "stderr",
     "output_type": "stream",
     "text": [
      "Epoch 1332: 100%|██████████| 7/7 [00:00<00:00, 88.61batch/s, acc=0.262, loss=nan]\n"
     ]
    },
    {
     "name": "stdout",
     "output_type": "stream",
     "text": [
      "Epoch 1332 validation: negative log likelihood loss=nan, Accuracy=0.2590448558330536\n"
     ]
    },
    {
     "name": "stderr",
     "output_type": "stream",
     "text": [
      "Epoch 1333: 100%|██████████| 7/7 [00:00<00:00, 85.36batch/s, acc=0.262, loss=nan]\n"
     ]
    },
    {
     "name": "stdout",
     "output_type": "stream",
     "text": [
      "Epoch 1333 validation: negative log likelihood loss=nan, Accuracy=0.2590448558330536\n"
     ]
    },
    {
     "name": "stderr",
     "output_type": "stream",
     "text": [
      "Epoch 1334: 100%|██████████| 7/7 [00:00<00:00, 88.61batch/s, acc=0.262, loss=nan]\n"
     ]
    },
    {
     "name": "stdout",
     "output_type": "stream",
     "text": [
      "Epoch 1334 validation: negative log likelihood loss=nan, Accuracy=0.2590448558330536\n"
     ]
    },
    {
     "name": "stderr",
     "output_type": "stream",
     "text": [
      "Epoch 1335: 100%|██████████| 7/7 [00:00<00:00, 92.11batch/s, acc=0.262, loss=nan]\n"
     ]
    },
    {
     "name": "stdout",
     "output_type": "stream",
     "text": [
      "Epoch 1335 validation: negative log likelihood loss=nan, Accuracy=0.2590448558330536\n"
     ]
    },
    {
     "name": "stderr",
     "output_type": "stream",
     "text": [
      "Epoch 1336: 100%|██████████| 7/7 [00:00<00:00, 41.92batch/s, acc=0.262, loss=nan]"
     ]
    },
    {
     "name": "stdout",
     "output_type": "stream",
     "text": [
      "Epoch 1336 validation: negative log likelihood loss=nan, Accuracy=0.2590448558330536\n"
     ]
    },
    {
     "name": "stderr",
     "output_type": "stream",
     "text": [
      "\n",
      "Epoch 1337: 100%|██████████| 7/7 [00:00<00:00, 93.33batch/s, acc=0.262, loss=nan]\n"
     ]
    },
    {
     "name": "stdout",
     "output_type": "stream",
     "text": [
      "Epoch 1337 validation: negative log likelihood loss=nan, Accuracy=0.2590448558330536\n"
     ]
    },
    {
     "name": "stderr",
     "output_type": "stream",
     "text": [
      "Epoch 1338: 100%|██████████| 7/7 [00:00<00:00, 94.60batch/s, acc=0.262, loss=nan]\n"
     ]
    },
    {
     "name": "stdout",
     "output_type": "stream",
     "text": [
      "Epoch 1338 validation: negative log likelihood loss=nan, Accuracy=0.2590448558330536\n"
     ]
    },
    {
     "name": "stderr",
     "output_type": "stream",
     "text": [
      "Epoch 1339: 100%|██████████| 7/7 [00:00<00:00, 93.34batch/s, acc=0.262, loss=nan]\n"
     ]
    },
    {
     "name": "stdout",
     "output_type": "stream",
     "text": [
      "Epoch 1339 validation: negative log likelihood loss=nan, Accuracy=0.2590448558330536\n"
     ]
    },
    {
     "name": "stderr",
     "output_type": "stream",
     "text": [
      "Epoch 1340: 100%|██████████| 7/7 [00:00<00:00, 89.74batch/s, acc=0.262, loss=nan]\n"
     ]
    },
    {
     "name": "stdout",
     "output_type": "stream",
     "text": [
      "Epoch 1340 validation: negative log likelihood loss=nan, Accuracy=0.2590448558330536\n"
     ]
    },
    {
     "name": "stderr",
     "output_type": "stream",
     "text": [
      "Epoch 1341: 100%|██████████| 7/7 [00:00<00:00, 95.89batch/s, acc=0.262, loss=nan] \n"
     ]
    },
    {
     "name": "stdout",
     "output_type": "stream",
     "text": [
      "Epoch 1341 validation: negative log likelihood loss=nan, Accuracy=0.2590448558330536\n"
     ]
    },
    {
     "name": "stderr",
     "output_type": "stream",
     "text": [
      "Epoch 1342: 100%|██████████| 7/7 [00:00<00:00, 93.34batch/s, acc=0.262, loss=nan]\n"
     ]
    },
    {
     "name": "stdout",
     "output_type": "stream",
     "text": [
      "Epoch 1342 validation: negative log likelihood loss=nan, Accuracy=0.2590448558330536\n"
     ]
    },
    {
     "name": "stderr",
     "output_type": "stream",
     "text": [
      "Epoch 1343: 100%|██████████| 7/7 [00:00<00:00, 87.50batch/s, acc=0.262, loss=nan]\n"
     ]
    },
    {
     "name": "stdout",
     "output_type": "stream",
     "text": [
      "Epoch 1343 validation: negative log likelihood loss=nan, Accuracy=0.2590448558330536\n"
     ]
    },
    {
     "name": "stderr",
     "output_type": "stream",
     "text": [
      "Epoch 1344: 100%|██████████| 7/7 [00:00<00:00, 95.89batch/s, acc=0.262, loss=nan] \n"
     ]
    },
    {
     "name": "stdout",
     "output_type": "stream",
     "text": [
      "Epoch 1344 validation: negative log likelihood loss=nan, Accuracy=0.2590448558330536\n"
     ]
    },
    {
     "name": "stderr",
     "output_type": "stream",
     "text": [
      "Epoch 1345: 100%|██████████| 7/7 [00:00<00:00, 94.59batch/s, acc=0.262, loss=nan] \n"
     ]
    },
    {
     "name": "stdout",
     "output_type": "stream",
     "text": [
      "Epoch 1345 validation: negative log likelihood loss=nan, Accuracy=0.2590448558330536\n"
     ]
    },
    {
     "name": "stderr",
     "output_type": "stream",
     "text": [
      "Epoch 1346: 100%|██████████| 7/7 [00:00<00:00, 77.78batch/s, acc=0.262, loss=nan]\n"
     ]
    },
    {
     "name": "stdout",
     "output_type": "stream",
     "text": [
      "Epoch 1346 validation: negative log likelihood loss=nan, Accuracy=0.2590448558330536\n"
     ]
    },
    {
     "name": "stderr",
     "output_type": "stream",
     "text": [
      "Epoch 1347: 100%|██████████| 7/7 [00:00<00:00, 81.40batch/s, acc=0.262, loss=nan]\n"
     ]
    },
    {
     "name": "stdout",
     "output_type": "stream",
     "text": [
      "Epoch 1347 validation: negative log likelihood loss=nan, Accuracy=0.2590448558330536\n"
     ]
    },
    {
     "name": "stderr",
     "output_type": "stream",
     "text": [
      "Epoch 1348: 100%|██████████| 7/7 [00:00<00:00, 76.09batch/s, acc=0.262, loss=nan]\n"
     ]
    },
    {
     "name": "stdout",
     "output_type": "stream",
     "text": [
      "Epoch 1348 validation: negative log likelihood loss=nan, Accuracy=0.2590448558330536\n"
     ]
    },
    {
     "name": "stderr",
     "output_type": "stream",
     "text": [
      "Epoch 1349: 100%|██████████| 7/7 [00:00<00:00, 83.34batch/s, acc=0.262, loss=nan]\n"
     ]
    },
    {
     "name": "stdout",
     "output_type": "stream",
     "text": [
      "Epoch 1349 validation: negative log likelihood loss=nan, Accuracy=0.2590448558330536\n"
     ]
    },
    {
     "name": "stderr",
     "output_type": "stream",
     "text": [
      "Epoch 1350: 100%|██████████| 7/7 [00:00<00:00, 82.36batch/s, acc=0.262, loss=nan]\n"
     ]
    },
    {
     "name": "stdout",
     "output_type": "stream",
     "text": [
      "Epoch 1350 validation: negative log likelihood loss=nan, Accuracy=0.2590448558330536\n"
     ]
    },
    {
     "name": "stderr",
     "output_type": "stream",
     "text": [
      "Epoch 1351: 100%|██████████| 7/7 [00:00<00:00, 88.61batch/s, acc=0.262, loss=nan]\n"
     ]
    },
    {
     "name": "stdout",
     "output_type": "stream",
     "text": [
      "Epoch 1351 validation: negative log likelihood loss=nan, Accuracy=0.2590448558330536\n"
     ]
    },
    {
     "name": "stderr",
     "output_type": "stream",
     "text": [
      "Epoch 1352: 100%|██████████| 7/7 [00:00<00:00, 88.61batch/s, acc=0.262, loss=nan]\n"
     ]
    },
    {
     "name": "stdout",
     "output_type": "stream",
     "text": [
      "Epoch 1352 validation: negative log likelihood loss=nan, Accuracy=0.2590448558330536\n"
     ]
    },
    {
     "name": "stderr",
     "output_type": "stream",
     "text": [
      "Epoch 1353: 100%|██████████| 7/7 [00:00<00:00, 88.61batch/s, acc=0.262, loss=nan]\n"
     ]
    },
    {
     "name": "stdout",
     "output_type": "stream",
     "text": [
      "Epoch 1353 validation: negative log likelihood loss=nan, Accuracy=0.2590448558330536\n"
     ]
    },
    {
     "name": "stderr",
     "output_type": "stream",
     "text": [
      "Epoch 1354: 100%|██████████| 7/7 [00:00<00:00, 90.91batch/s, acc=0.262, loss=nan]\n"
     ]
    },
    {
     "name": "stdout",
     "output_type": "stream",
     "text": [
      "Epoch 1354 validation: negative log likelihood loss=nan, Accuracy=0.2590448558330536\n"
     ]
    },
    {
     "name": "stderr",
     "output_type": "stream",
     "text": [
      "Epoch 1355: 100%|██████████| 7/7 [00:00<00:00, 90.91batch/s, acc=0.262, loss=nan]\n"
     ]
    },
    {
     "name": "stdout",
     "output_type": "stream",
     "text": [
      "Epoch 1355 validation: negative log likelihood loss=nan, Accuracy=0.2590448558330536\n"
     ]
    },
    {
     "name": "stderr",
     "output_type": "stream",
     "text": [
      "Epoch 1356: 100%|██████████| 7/7 [00:00<00:00, 93.33batch/s, acc=0.262, loss=nan]\n"
     ]
    },
    {
     "name": "stdout",
     "output_type": "stream",
     "text": [
      "Epoch 1356 validation: negative log likelihood loss=nan, Accuracy=0.2590448558330536\n"
     ]
    },
    {
     "name": "stderr",
     "output_type": "stream",
     "text": [
      "Epoch 1357: 100%|██████████| 7/7 [00:00<00:00, 95.89batch/s, acc=0.262, loss=nan]\n"
     ]
    },
    {
     "name": "stdout",
     "output_type": "stream",
     "text": [
      "Epoch 1357 validation: negative log likelihood loss=nan, Accuracy=0.2590448558330536\n"
     ]
    },
    {
     "name": "stderr",
     "output_type": "stream",
     "text": [
      "Epoch 1358: 100%|██████████| 7/7 [00:00<00:00, 93.34batch/s, acc=0.262, loss=nan]\n"
     ]
    },
    {
     "name": "stdout",
     "output_type": "stream",
     "text": [
      "Epoch 1358 validation: negative log likelihood loss=nan, Accuracy=0.2590448558330536\n"
     ]
    },
    {
     "name": "stderr",
     "output_type": "stream",
     "text": [
      "Epoch 1359: 100%|██████████| 7/7 [00:00<00:00, 93.34batch/s, acc=0.262, loss=nan]\n"
     ]
    },
    {
     "name": "stdout",
     "output_type": "stream",
     "text": [
      "Epoch 1359 validation: negative log likelihood loss=nan, Accuracy=0.2590448558330536\n"
     ]
    },
    {
     "name": "stderr",
     "output_type": "stream",
     "text": [
      "Epoch 1360: 100%|██████████| 7/7 [00:00<00:00, 95.89batch/s, acc=0.262, loss=nan] \n"
     ]
    },
    {
     "name": "stdout",
     "output_type": "stream",
     "text": [
      "Epoch 1360 validation: negative log likelihood loss=nan, Accuracy=0.2590448558330536\n"
     ]
    },
    {
     "name": "stderr",
     "output_type": "stream",
     "text": [
      "Epoch 1361: 100%|██████████| 7/7 [00:00<00:00, 93.33batch/s, acc=0.262, loss=nan]\n"
     ]
    },
    {
     "name": "stdout",
     "output_type": "stream",
     "text": [
      "Epoch 1361 validation: negative log likelihood loss=nan, Accuracy=0.2590448558330536\n"
     ]
    },
    {
     "name": "stderr",
     "output_type": "stream",
     "text": [
      "Epoch 1362: 100%|██████████| 7/7 [00:00<00:00, 44.87batch/s, acc=0.262, loss=nan]\n"
     ]
    },
    {
     "name": "stdout",
     "output_type": "stream",
     "text": [
      "Epoch 1362 validation: negative log likelihood loss=nan, Accuracy=0.2590448558330536\n"
     ]
    },
    {
     "name": "stderr",
     "output_type": "stream",
     "text": [
      "Epoch 1363: 100%|██████████| 7/7 [00:00<00:00, 90.91batch/s, acc=0.262, loss=nan]\n"
     ]
    },
    {
     "name": "stdout",
     "output_type": "stream",
     "text": [
      "Epoch 1363 validation: negative log likelihood loss=nan, Accuracy=0.2590448558330536\n"
     ]
    },
    {
     "name": "stderr",
     "output_type": "stream",
     "text": [
      "Epoch 1364: 100%|██████████| 7/7 [00:00<00:00, 94.60batch/s, acc=0.262, loss=nan]\n"
     ]
    },
    {
     "name": "stdout",
     "output_type": "stream",
     "text": [
      "Epoch 1364 validation: negative log likelihood loss=nan, Accuracy=0.2590448558330536\n"
     ]
    },
    {
     "name": "stderr",
     "output_type": "stream",
     "text": [
      "Epoch 1365: 100%|██████████| 7/7 [00:00<00:00, 93.34batch/s, acc=0.262, loss=nan]\n"
     ]
    },
    {
     "name": "stdout",
     "output_type": "stream",
     "text": [
      "Epoch 1365 validation: negative log likelihood loss=nan, Accuracy=0.2590448558330536\n"
     ]
    },
    {
     "name": "stderr",
     "output_type": "stream",
     "text": [
      "Epoch 1366: 100%|██████████| 7/7 [00:00<00:00, 97.22batch/s, acc=0.262, loss=nan] \n"
     ]
    },
    {
     "name": "stdout",
     "output_type": "stream",
     "text": [
      "Epoch 1366 validation: negative log likelihood loss=nan, Accuracy=0.2590448558330536\n"
     ]
    },
    {
     "name": "stderr",
     "output_type": "stream",
     "text": [
      "Epoch 1367: 100%|██████████| 7/7 [00:00<00:00, 93.33batch/s, acc=0.262, loss=nan]\n"
     ]
    },
    {
     "name": "stdout",
     "output_type": "stream",
     "text": [
      "Epoch 1367 validation: negative log likelihood loss=nan, Accuracy=0.2590448558330536\n"
     ]
    },
    {
     "name": "stderr",
     "output_type": "stream",
     "text": [
      "Epoch 1368: 100%|██████████| 7/7 [00:00<00:00, 89.75batch/s, acc=0.262, loss=nan]\n"
     ]
    },
    {
     "name": "stdout",
     "output_type": "stream",
     "text": [
      "Epoch 1368 validation: negative log likelihood loss=nan, Accuracy=0.2590448558330536\n"
     ]
    },
    {
     "name": "stderr",
     "output_type": "stream",
     "text": [
      "Epoch 1369: 100%|██████████| 7/7 [00:00<00:00, 87.50batch/s, acc=0.262, loss=nan]\n"
     ]
    },
    {
     "name": "stdout",
     "output_type": "stream",
     "text": [
      "Epoch 1369 validation: negative log likelihood loss=nan, Accuracy=0.2590448558330536\n"
     ]
    },
    {
     "name": "stderr",
     "output_type": "stream",
     "text": [
      "Epoch 1370: 100%|██████████| 7/7 [00:00<00:00, 100.00batch/s, acc=0.262, loss=nan]\n"
     ]
    },
    {
     "name": "stdout",
     "output_type": "stream",
     "text": [
      "Epoch 1370 validation: negative log likelihood loss=nan, Accuracy=0.2590448558330536\n"
     ]
    },
    {
     "name": "stderr",
     "output_type": "stream",
     "text": [
      "Epoch 1371: 100%|██████████| 7/7 [00:00<00:00, 89.74batch/s, acc=0.262, loss=nan]\n"
     ]
    },
    {
     "name": "stdout",
     "output_type": "stream",
     "text": [
      "Epoch 1371 validation: negative log likelihood loss=nan, Accuracy=0.2590448558330536\n"
     ]
    },
    {
     "name": "stderr",
     "output_type": "stream",
     "text": [
      "Epoch 1372: 100%|██████████| 7/7 [00:00<00:00, 90.91batch/s, acc=0.262, loss=nan]\n"
     ]
    },
    {
     "name": "stdout",
     "output_type": "stream",
     "text": [
      "Epoch 1372 validation: negative log likelihood loss=nan, Accuracy=0.2590448558330536\n"
     ]
    },
    {
     "name": "stderr",
     "output_type": "stream",
     "text": [
      "Epoch 1373: 100%|██████████| 7/7 [00:00<00:00, 92.11batch/s, acc=0.262, loss=nan]\n"
     ]
    },
    {
     "name": "stdout",
     "output_type": "stream",
     "text": [
      "Epoch 1373 validation: negative log likelihood loss=nan, Accuracy=0.2590448558330536\n"
     ]
    },
    {
     "name": "stderr",
     "output_type": "stream",
     "text": [
      "Epoch 1374: 100%|██████████| 7/7 [00:00<00:00, 45.16batch/s, acc=0.262, loss=nan]\n"
     ]
    },
    {
     "name": "stdout",
     "output_type": "stream",
     "text": [
      "Epoch 1374 validation: negative log likelihood loss=nan, Accuracy=0.2590448558330536\n"
     ]
    },
    {
     "name": "stderr",
     "output_type": "stream",
     "text": [
      "Epoch 1375: 100%|██████████| 7/7 [00:00<00:00, 89.74batch/s, acc=0.262, loss=nan]\n"
     ]
    },
    {
     "name": "stdout",
     "output_type": "stream",
     "text": [
      "Epoch 1375 validation: negative log likelihood loss=nan, Accuracy=0.2590448558330536\n"
     ]
    },
    {
     "name": "stderr",
     "output_type": "stream",
     "text": [
      "Epoch 1376: 100%|██████████| 7/7 [00:00<00:00, 89.75batch/s, acc=0.262, loss=nan]\n"
     ]
    },
    {
     "name": "stdout",
     "output_type": "stream",
     "text": [
      "Epoch 1376 validation: negative log likelihood loss=nan, Accuracy=0.2590448558330536\n"
     ]
    },
    {
     "name": "stderr",
     "output_type": "stream",
     "text": [
      "Epoch 1377: 100%|██████████| 7/7 [00:00<00:00, 92.11batch/s, acc=0.262, loss=nan]\n"
     ]
    },
    {
     "name": "stdout",
     "output_type": "stream",
     "text": [
      "Epoch 1377 validation: negative log likelihood loss=nan, Accuracy=0.2590448558330536\n"
     ]
    },
    {
     "name": "stderr",
     "output_type": "stream",
     "text": [
      "Epoch 1378: 100%|██████████| 7/7 [00:00<00:00, 93.33batch/s, acc=0.262, loss=nan]\n"
     ]
    },
    {
     "name": "stdout",
     "output_type": "stream",
     "text": [
      "Epoch 1378 validation: negative log likelihood loss=nan, Accuracy=0.2590448558330536\n"
     ]
    },
    {
     "name": "stderr",
     "output_type": "stream",
     "text": [
      "Epoch 1379: 100%|██████████| 7/7 [00:00<00:00, 93.33batch/s, acc=0.262, loss=nan] \n"
     ]
    },
    {
     "name": "stdout",
     "output_type": "stream",
     "text": [
      "Epoch 1379 validation: negative log likelihood loss=nan, Accuracy=0.2590448558330536\n"
     ]
    },
    {
     "name": "stderr",
     "output_type": "stream",
     "text": [
      "Epoch 1380: 100%|██████████| 7/7 [00:00<00:00, 93.33batch/s, acc=0.262, loss=nan]\n"
     ]
    },
    {
     "name": "stdout",
     "output_type": "stream",
     "text": [
      "Epoch 1380 validation: negative log likelihood loss=nan, Accuracy=0.2590448558330536\n"
     ]
    },
    {
     "name": "stderr",
     "output_type": "stream",
     "text": [
      "Epoch 1381: 100%|██████████| 7/7 [00:00<00:00, 90.91batch/s, acc=0.262, loss=nan]\n"
     ]
    },
    {
     "name": "stdout",
     "output_type": "stream",
     "text": [
      "Epoch 1381 validation: negative log likelihood loss=nan, Accuracy=0.2590448558330536\n"
     ]
    },
    {
     "name": "stderr",
     "output_type": "stream",
     "text": [
      "Epoch 1382: 100%|██████████| 7/7 [00:00<00:00, 93.34batch/s, acc=0.262, loss=nan]\n"
     ]
    },
    {
     "name": "stdout",
     "output_type": "stream",
     "text": [
      "Epoch 1382 validation: negative log likelihood loss=nan, Accuracy=0.2590448558330536\n"
     ]
    },
    {
     "name": "stderr",
     "output_type": "stream",
     "text": [
      "Epoch 1383: 100%|██████████| 7/7 [00:00<00:00, 93.33batch/s, acc=0.262, loss=nan]\n"
     ]
    },
    {
     "name": "stdout",
     "output_type": "stream",
     "text": [
      "Epoch 1383 validation: negative log likelihood loss=nan, Accuracy=0.2590448558330536\n"
     ]
    },
    {
     "name": "stderr",
     "output_type": "stream",
     "text": [
      "Epoch 1384: 100%|██████████| 7/7 [00:00<00:00, 93.33batch/s, acc=0.262, loss=nan]\n"
     ]
    },
    {
     "name": "stdout",
     "output_type": "stream",
     "text": [
      "Epoch 1384 validation: negative log likelihood loss=nan, Accuracy=0.2590448558330536\n"
     ]
    },
    {
     "name": "stderr",
     "output_type": "stream",
     "text": [
      "Epoch 1385: 100%|██████████| 7/7 [00:00<00:00, 94.59batch/s, acc=0.262, loss=nan]\n"
     ]
    },
    {
     "name": "stdout",
     "output_type": "stream",
     "text": [
      "Epoch 1385 validation: negative log likelihood loss=nan, Accuracy=0.2590448558330536\n"
     ]
    },
    {
     "name": "stderr",
     "output_type": "stream",
     "text": [
      "Epoch 1386: 100%|██████████| 7/7 [00:00<00:00, 88.61batch/s, acc=0.262, loss=nan]\n"
     ]
    },
    {
     "name": "stdout",
     "output_type": "stream",
     "text": [
      "Epoch 1386 validation: negative log likelihood loss=nan, Accuracy=0.2590448558330536\n"
     ]
    },
    {
     "name": "stderr",
     "output_type": "stream",
     "text": [
      "Epoch 1387: 100%|██████████| 7/7 [00:00<00:00, 44.03batch/s, acc=0.262, loss=nan]\n"
     ]
    },
    {
     "name": "stdout",
     "output_type": "stream",
     "text": [
      "Epoch 1387 validation: negative log likelihood loss=nan, Accuracy=0.2590448558330536\n"
     ]
    },
    {
     "name": "stderr",
     "output_type": "stream",
     "text": [
      "Epoch 1388: 100%|██████████| 7/7 [00:00<00:00, 92.10batch/s, acc=0.262, loss=nan]\n"
     ]
    },
    {
     "name": "stdout",
     "output_type": "stream",
     "text": [
      "Epoch 1388 validation: negative log likelihood loss=nan, Accuracy=0.2590448558330536\n"
     ]
    },
    {
     "name": "stderr",
     "output_type": "stream",
     "text": [
      "Epoch 1389: 100%|██████████| 7/7 [00:00<00:00, 92.10batch/s, acc=0.262, loss=nan]\n"
     ]
    },
    {
     "name": "stdout",
     "output_type": "stream",
     "text": [
      "Epoch 1389 validation: negative log likelihood loss=nan, Accuracy=0.2590448558330536\n"
     ]
    },
    {
     "name": "stderr",
     "output_type": "stream",
     "text": [
      "Epoch 1390: 100%|██████████| 7/7 [00:00<00:00, 90.91batch/s, acc=0.262, loss=nan]\n"
     ]
    },
    {
     "name": "stdout",
     "output_type": "stream",
     "text": [
      "Epoch 1390 validation: negative log likelihood loss=nan, Accuracy=0.2590448558330536\n"
     ]
    },
    {
     "name": "stderr",
     "output_type": "stream",
     "text": [
      "Epoch 1391: 100%|██████████| 7/7 [00:00<00:00, 97.22batch/s, acc=0.262, loss=nan]\n"
     ]
    },
    {
     "name": "stdout",
     "output_type": "stream",
     "text": [
      "Epoch 1391 validation: negative log likelihood loss=nan, Accuracy=0.2590448558330536\n"
     ]
    },
    {
     "name": "stderr",
     "output_type": "stream",
     "text": [
      "Epoch 1392: 100%|██████████| 7/7 [00:00<00:00, 92.11batch/s, acc=0.262, loss=nan]\n"
     ]
    },
    {
     "name": "stdout",
     "output_type": "stream",
     "text": [
      "Epoch 1392 validation: negative log likelihood loss=nan, Accuracy=0.2590448558330536\n"
     ]
    },
    {
     "name": "stderr",
     "output_type": "stream",
     "text": [
      "Epoch 1393: 100%|██████████| 7/7 [00:00<00:00, 92.11batch/s, acc=0.262, loss=nan]\n"
     ]
    },
    {
     "name": "stdout",
     "output_type": "stream",
     "text": [
      "Epoch 1393 validation: negative log likelihood loss=nan, Accuracy=0.2590448558330536\n"
     ]
    },
    {
     "name": "stderr",
     "output_type": "stream",
     "text": [
      "Epoch 1394: 100%|██████████| 7/7 [00:00<00:00, 44.87batch/s, acc=0.262, loss=nan]\n"
     ]
    },
    {
     "name": "stdout",
     "output_type": "stream",
     "text": [
      "Epoch 1394 validation: negative log likelihood loss=nan, Accuracy=0.2590448558330536\n"
     ]
    },
    {
     "name": "stderr",
     "output_type": "stream",
     "text": [
      "Epoch 1395: 100%|██████████| 7/7 [00:00<00:00, 81.40batch/s, acc=0.262, loss=nan]\n"
     ]
    },
    {
     "name": "stdout",
     "output_type": "stream",
     "text": [
      "Epoch 1395 validation: negative log likelihood loss=nan, Accuracy=0.2590448558330536\n"
     ]
    },
    {
     "name": "stderr",
     "output_type": "stream",
     "text": [
      "Epoch 1396: 100%|██████████| 7/7 [00:00<00:00, 85.36batch/s, acc=0.262, loss=nan]\n"
     ]
    },
    {
     "name": "stdout",
     "output_type": "stream",
     "text": [
      "Epoch 1396 validation: negative log likelihood loss=nan, Accuracy=0.2590448558330536\n"
     ]
    },
    {
     "name": "stderr",
     "output_type": "stream",
     "text": [
      "Epoch 1397: 100%|██████████| 7/7 [00:00<00:00, 90.91batch/s, acc=0.262, loss=nan]\n"
     ]
    },
    {
     "name": "stdout",
     "output_type": "stream",
     "text": [
      "Epoch 1397 validation: negative log likelihood loss=nan, Accuracy=0.2590448558330536\n"
     ]
    },
    {
     "name": "stderr",
     "output_type": "stream",
     "text": [
      "Epoch 1398: 100%|██████████| 7/7 [00:00<00:00, 88.61batch/s, acc=0.262, loss=nan]\n"
     ]
    },
    {
     "name": "stdout",
     "output_type": "stream",
     "text": [
      "Epoch 1398 validation: negative log likelihood loss=nan, Accuracy=0.2590448558330536\n"
     ]
    },
    {
     "name": "stderr",
     "output_type": "stream",
     "text": [
      "Epoch 1399: 100%|██████████| 7/7 [00:00<00:00, 86.42batch/s, acc=0.262, loss=nan]\n"
     ]
    },
    {
     "name": "stdout",
     "output_type": "stream",
     "text": [
      "Epoch 1399 validation: negative log likelihood loss=nan, Accuracy=0.2590448558330536\n"
     ]
    },
    {
     "name": "stderr",
     "output_type": "stream",
     "text": [
      "Epoch 1400: 100%|██████████| 7/7 [00:00<00:00, 86.42batch/s, acc=0.262, loss=nan]\n"
     ]
    },
    {
     "name": "stdout",
     "output_type": "stream",
     "text": [
      "Epoch 1400 validation: negative log likelihood loss=nan, Accuracy=0.2590448558330536\n"
     ]
    },
    {
     "name": "stderr",
     "output_type": "stream",
     "text": [
      "Epoch 1401: 100%|██████████| 7/7 [00:00<00:00, 43.21batch/s, acc=0.262, loss=nan]\n"
     ]
    },
    {
     "name": "stdout",
     "output_type": "stream",
     "text": [
      "Epoch 1401 validation: negative log likelihood loss=nan, Accuracy=0.2590448558330536\n"
     ]
    },
    {
     "name": "stderr",
     "output_type": "stream",
     "text": [
      "Epoch 1402: 100%|██████████| 7/7 [00:00<00:00, 87.51batch/s, acc=0.262, loss=nan]\n"
     ]
    },
    {
     "name": "stdout",
     "output_type": "stream",
     "text": [
      "Epoch 1402 validation: negative log likelihood loss=nan, Accuracy=0.2590448558330536\n"
     ]
    },
    {
     "name": "stderr",
     "output_type": "stream",
     "text": [
      "Epoch 1403: 100%|██████████| 7/7 [00:00<00:00, 84.34batch/s, acc=0.262, loss=nan]\n"
     ]
    },
    {
     "name": "stdout",
     "output_type": "stream",
     "text": [
      "Epoch 1403 validation: negative log likelihood loss=nan, Accuracy=0.2590448558330536\n"
     ]
    },
    {
     "name": "stderr",
     "output_type": "stream",
     "text": [
      "Epoch 1404: 100%|██████████| 7/7 [00:00<00:00, 88.61batch/s, acc=0.262, loss=nan]\n"
     ]
    },
    {
     "name": "stdout",
     "output_type": "stream",
     "text": [
      "Epoch 1404 validation: negative log likelihood loss=nan, Accuracy=0.2590448558330536\n"
     ]
    },
    {
     "name": "stderr",
     "output_type": "stream",
     "text": [
      "Epoch 1405: 100%|██████████| 7/7 [00:00<00:00, 90.91batch/s, acc=0.262, loss=nan]\n"
     ]
    },
    {
     "name": "stdout",
     "output_type": "stream",
     "text": [
      "Epoch 1405 validation: negative log likelihood loss=nan, Accuracy=0.2590448558330536\n"
     ]
    },
    {
     "name": "stderr",
     "output_type": "stream",
     "text": [
      "Epoch 1406: 100%|██████████| 7/7 [00:00<00:00, 90.91batch/s, acc=0.262, loss=nan]\n"
     ]
    },
    {
     "name": "stdout",
     "output_type": "stream",
     "text": [
      "Epoch 1406 validation: negative log likelihood loss=nan, Accuracy=0.2590448558330536\n"
     ]
    },
    {
     "name": "stderr",
     "output_type": "stream",
     "text": [
      "Epoch 1407: 100%|██████████| 7/7 [00:00<00:00, 92.11batch/s, acc=0.262, loss=nan]\n"
     ]
    },
    {
     "name": "stdout",
     "output_type": "stream",
     "text": [
      "Epoch 1407 validation: negative log likelihood loss=nan, Accuracy=0.2590448558330536\n"
     ]
    },
    {
     "name": "stderr",
     "output_type": "stream",
     "text": [
      "Epoch 1408: 100%|██████████| 7/7 [00:00<00:00, 93.33batch/s, acc=0.262, loss=nan]\n"
     ]
    },
    {
     "name": "stdout",
     "output_type": "stream",
     "text": [
      "Epoch 1408 validation: negative log likelihood loss=nan, Accuracy=0.2590448558330536\n"
     ]
    },
    {
     "name": "stderr",
     "output_type": "stream",
     "text": [
      "Epoch 1409: 100%|██████████| 7/7 [00:00<00:00, 42.17batch/s, acc=0.262, loss=nan]\n"
     ]
    },
    {
     "name": "stdout",
     "output_type": "stream",
     "text": [
      "Epoch 1409 validation: negative log likelihood loss=nan, Accuracy=0.2590448558330536\n"
     ]
    },
    {
     "name": "stderr",
     "output_type": "stream",
     "text": [
      "Epoch 1410: 100%|██████████| 7/7 [00:00<00:00, 93.33batch/s, acc=0.262, loss=nan]\n"
     ]
    },
    {
     "name": "stdout",
     "output_type": "stream",
     "text": [
      "Epoch 1410 validation: negative log likelihood loss=nan, Accuracy=0.2590448558330536\n"
     ]
    },
    {
     "name": "stderr",
     "output_type": "stream",
     "text": [
      "Epoch 1411: 100%|██████████| 7/7 [00:00<00:00, 98.59batch/s, acc=0.262, loss=nan]\n"
     ]
    },
    {
     "name": "stdout",
     "output_type": "stream",
     "text": [
      "Epoch 1411 validation: negative log likelihood loss=nan, Accuracy=0.2590448558330536\n"
     ]
    },
    {
     "name": "stderr",
     "output_type": "stream",
     "text": [
      "Epoch 1412: 100%|██████████| 7/7 [00:00<00:00, 97.22batch/s, acc=0.262, loss=nan] \n"
     ]
    },
    {
     "name": "stdout",
     "output_type": "stream",
     "text": [
      "Epoch 1412 validation: negative log likelihood loss=nan, Accuracy=0.2590448558330536\n"
     ]
    },
    {
     "name": "stderr",
     "output_type": "stream",
     "text": [
      "Epoch 1413: 100%|██████████| 7/7 [00:00<00:00, 100.00batch/s, acc=0.262, loss=nan]\n"
     ]
    },
    {
     "name": "stdout",
     "output_type": "stream",
     "text": [
      "Epoch 1413 validation: negative log likelihood loss=nan, Accuracy=0.2590448558330536\n"
     ]
    },
    {
     "name": "stderr",
     "output_type": "stream",
     "text": [
      "Epoch 1414: 100%|██████████| 7/7 [00:00<00:00, 93.34batch/s, acc=0.262, loss=nan]\n"
     ]
    },
    {
     "name": "stdout",
     "output_type": "stream",
     "text": [
      "Epoch 1414 validation: negative log likelihood loss=nan, Accuracy=0.2590448558330536\n"
     ]
    },
    {
     "name": "stderr",
     "output_type": "stream",
     "text": [
      "Epoch 1415: 100%|██████████| 7/7 [00:00<00:00, 92.11batch/s, acc=0.262, loss=nan]\n"
     ]
    },
    {
     "name": "stdout",
     "output_type": "stream",
     "text": [
      "Epoch 1415 validation: negative log likelihood loss=nan, Accuracy=0.2590448558330536\n"
     ]
    },
    {
     "name": "stderr",
     "output_type": "stream",
     "text": [
      "Epoch 1416: 100%|██████████| 7/7 [00:00<00:00, 94.59batch/s, acc=0.262, loss=nan] \n"
     ]
    },
    {
     "name": "stdout",
     "output_type": "stream",
     "text": [
      "Epoch 1416 validation: negative log likelihood loss=nan, Accuracy=0.2590448558330536\n"
     ]
    },
    {
     "name": "stderr",
     "output_type": "stream",
     "text": [
      "Epoch 1417: 100%|██████████| 7/7 [00:00<00:00, 64.22batch/s, acc=0.262, loss=nan]\n"
     ]
    },
    {
     "name": "stdout",
     "output_type": "stream",
     "text": [
      "Epoch 1417 validation: negative log likelihood loss=nan, Accuracy=0.2590448558330536\n"
     ]
    },
    {
     "name": "stderr",
     "output_type": "stream",
     "text": [
      "Epoch 1418: 100%|██████████| 7/7 [00:00<00:00, 88.61batch/s, acc=0.262, loss=nan]\n"
     ]
    },
    {
     "name": "stdout",
     "output_type": "stream",
     "text": [
      "Epoch 1418 validation: negative log likelihood loss=nan, Accuracy=0.2590448558330536\n"
     ]
    },
    {
     "name": "stderr",
     "output_type": "stream",
     "text": [
      "Epoch 1419: 100%|██████████| 7/7 [00:00<00:00, 95.89batch/s, acc=0.262, loss=nan] \n"
     ]
    },
    {
     "name": "stdout",
     "output_type": "stream",
     "text": [
      "Epoch 1419 validation: negative log likelihood loss=nan, Accuracy=0.2590448558330536\n"
     ]
    },
    {
     "name": "stderr",
     "output_type": "stream",
     "text": [
      "Epoch 1420: 100%|██████████| 7/7 [00:00<00:00, 86.41batch/s, acc=0.262, loss=nan]\n"
     ]
    },
    {
     "name": "stdout",
     "output_type": "stream",
     "text": [
      "Epoch 1420 validation: negative log likelihood loss=nan, Accuracy=0.2590448558330536\n"
     ]
    },
    {
     "name": "stderr",
     "output_type": "stream",
     "text": [
      "Epoch 1421: 100%|██████████| 7/7 [00:00<00:00, 88.61batch/s, acc=0.262, loss=nan]\n"
     ]
    },
    {
     "name": "stdout",
     "output_type": "stream",
     "text": [
      "Epoch 1421 validation: negative log likelihood loss=nan, Accuracy=0.2590448558330536\n"
     ]
    },
    {
     "name": "stderr",
     "output_type": "stream",
     "text": [
      "Epoch 1422: 100%|██████████| 7/7 [00:00<00:00, 85.36batch/s, acc=0.262, loss=nan]\n"
     ]
    },
    {
     "name": "stdout",
     "output_type": "stream",
     "text": [
      "Epoch 1422 validation: negative log likelihood loss=nan, Accuracy=0.2590448558330536\n"
     ]
    },
    {
     "name": "stderr",
     "output_type": "stream",
     "text": [
      "Epoch 1423: 100%|██████████| 7/7 [00:00<00:00, 92.11batch/s, acc=0.262, loss=nan]\n"
     ]
    },
    {
     "name": "stdout",
     "output_type": "stream",
     "text": [
      "Epoch 1423 validation: negative log likelihood loss=nan, Accuracy=0.2590448558330536\n"
     ]
    },
    {
     "name": "stderr",
     "output_type": "stream",
     "text": [
      "Epoch 1424: 100%|██████████| 7/7 [00:00<00:00, 90.91batch/s, acc=0.262, loss=nan]\n"
     ]
    },
    {
     "name": "stdout",
     "output_type": "stream",
     "text": [
      "Epoch 1424 validation: negative log likelihood loss=nan, Accuracy=0.2590448558330536\n"
     ]
    },
    {
     "name": "stderr",
     "output_type": "stream",
     "text": [
      "Epoch 1425: 100%|██████████| 7/7 [00:00<00:00, 86.42batch/s, acc=0.262, loss=nan]\n"
     ]
    },
    {
     "name": "stdout",
     "output_type": "stream",
     "text": [
      "Epoch 1425 validation: negative log likelihood loss=nan, Accuracy=0.2590448558330536\n"
     ]
    },
    {
     "name": "stderr",
     "output_type": "stream",
     "text": [
      "Epoch 1426: 100%|██████████| 7/7 [00:00<00:00, 92.11batch/s, acc=0.262, loss=nan]\n"
     ]
    },
    {
     "name": "stdout",
     "output_type": "stream",
     "text": [
      "Epoch 1426 validation: negative log likelihood loss=nan, Accuracy=0.2590448558330536\n"
     ]
    },
    {
     "name": "stderr",
     "output_type": "stream",
     "text": [
      "Epoch 1427: 100%|██████████| 7/7 [00:00<00:00, 92.10batch/s, acc=0.262, loss=nan] \n"
     ]
    },
    {
     "name": "stdout",
     "output_type": "stream",
     "text": [
      "Epoch 1427 validation: negative log likelihood loss=nan, Accuracy=0.2590448558330536\n"
     ]
    },
    {
     "name": "stderr",
     "output_type": "stream",
     "text": [
      "Epoch 1428: 100%|██████████| 7/7 [00:00<00:00, 92.11batch/s, acc=0.262, loss=nan]\n"
     ]
    },
    {
     "name": "stdout",
     "output_type": "stream",
     "text": [
      "Epoch 1428 validation: negative log likelihood loss=nan, Accuracy=0.2590448558330536\n"
     ]
    },
    {
     "name": "stderr",
     "output_type": "stream",
     "text": [
      "Epoch 1429: 100%|██████████| 7/7 [00:00<00:00, 93.33batch/s, acc=0.262, loss=nan]\n"
     ]
    },
    {
     "name": "stdout",
     "output_type": "stream",
     "text": [
      "Epoch 1429 validation: negative log likelihood loss=nan, Accuracy=0.2590448558330536\n"
     ]
    },
    {
     "name": "stderr",
     "output_type": "stream",
     "text": [
      "Epoch 1430: 100%|██████████| 7/7 [00:00<00:00, 94.59batch/s, acc=0.262, loss=nan] \n"
     ]
    },
    {
     "name": "stdout",
     "output_type": "stream",
     "text": [
      "Epoch 1430 validation: negative log likelihood loss=nan, Accuracy=0.2590448558330536\n"
     ]
    },
    {
     "name": "stderr",
     "output_type": "stream",
     "text": [
      "Epoch 1431: 100%|██████████| 7/7 [00:00<00:00, 88.61batch/s, acc=0.262, loss=nan]\n"
     ]
    },
    {
     "name": "stdout",
     "output_type": "stream",
     "text": [
      "Epoch 1431 validation: negative log likelihood loss=nan, Accuracy=0.2590448558330536\n"
     ]
    },
    {
     "name": "stderr",
     "output_type": "stream",
     "text": [
      "Epoch 1432: 100%|██████████| 7/7 [00:00<00:00, 88.61batch/s, acc=0.262, loss=nan]\n"
     ]
    },
    {
     "name": "stdout",
     "output_type": "stream",
     "text": [
      "Epoch 1432 validation: negative log likelihood loss=nan, Accuracy=0.2590448558330536\n"
     ]
    },
    {
     "name": "stderr",
     "output_type": "stream",
     "text": [
      "Epoch 1433: 100%|██████████| 7/7 [00:00<00:00, 94.60batch/s, acc=0.262, loss=nan]\n"
     ]
    },
    {
     "name": "stdout",
     "output_type": "stream",
     "text": [
      "Epoch 1433 validation: negative log likelihood loss=nan, Accuracy=0.2590448558330536\n"
     ]
    },
    {
     "name": "stderr",
     "output_type": "stream",
     "text": [
      "Epoch 1434: 100%|██████████| 7/7 [00:00<00:00, 90.91batch/s, acc=0.262, loss=nan]\n"
     ]
    },
    {
     "name": "stdout",
     "output_type": "stream",
     "text": [
      "Epoch 1434 validation: negative log likelihood loss=nan, Accuracy=0.2590448558330536\n"
     ]
    },
    {
     "name": "stderr",
     "output_type": "stream",
     "text": [
      "Epoch 1435: 100%|██████████| 7/7 [00:00<00:00, 87.50batch/s, acc=0.262, loss=nan]\n"
     ]
    },
    {
     "name": "stdout",
     "output_type": "stream",
     "text": [
      "Epoch 1435 validation: negative log likelihood loss=nan, Accuracy=0.2590448558330536\n"
     ]
    },
    {
     "name": "stderr",
     "output_type": "stream",
     "text": [
      "Epoch 1436: 100%|██████████| 7/7 [00:00<00:00, 90.91batch/s, acc=0.262, loss=nan]\n"
     ]
    },
    {
     "name": "stdout",
     "output_type": "stream",
     "text": [
      "Epoch 1436 validation: negative log likelihood loss=nan, Accuracy=0.2590448558330536\n"
     ]
    },
    {
     "name": "stderr",
     "output_type": "stream",
     "text": [
      "Epoch 1437: 100%|██████████| 7/7 [00:00<00:00, 89.75batch/s, acc=0.262, loss=nan]\n"
     ]
    },
    {
     "name": "stdout",
     "output_type": "stream",
     "text": [
      "Epoch 1437 validation: negative log likelihood loss=nan, Accuracy=0.2590448558330536\n"
     ]
    },
    {
     "name": "stderr",
     "output_type": "stream",
     "text": [
      "Epoch 1438: 100%|██████████| 7/7 [00:00<00:00, 82.35batch/s, acc=0.262, loss=nan]\n"
     ]
    },
    {
     "name": "stdout",
     "output_type": "stream",
     "text": [
      "Epoch 1438 validation: negative log likelihood loss=nan, Accuracy=0.2590448558330536\n"
     ]
    },
    {
     "name": "stderr",
     "output_type": "stream",
     "text": [
      "Epoch 1439: 100%|██████████| 7/7 [00:00<00:00, 38.46batch/s, acc=0.262, loss=nan]\n"
     ]
    },
    {
     "name": "stdout",
     "output_type": "stream",
     "text": [
      "Epoch 1439 validation: negative log likelihood loss=nan, Accuracy=0.2590448558330536\n"
     ]
    },
    {
     "name": "stderr",
     "output_type": "stream",
     "text": [
      "Epoch 1440: 100%|██████████| 7/7 [00:00<00:00, 84.34batch/s, acc=0.262, loss=nan]\n"
     ]
    },
    {
     "name": "stdout",
     "output_type": "stream",
     "text": [
      "Epoch 1440 validation: negative log likelihood loss=nan, Accuracy=0.2590448558330536\n"
     ]
    },
    {
     "name": "stderr",
     "output_type": "stream",
     "text": [
      "Epoch 1441: 100%|██████████| 7/7 [00:00<00:00, 85.37batch/s, acc=0.262, loss=nan]\n"
     ]
    },
    {
     "name": "stdout",
     "output_type": "stream",
     "text": [
      "Epoch 1441 validation: negative log likelihood loss=nan, Accuracy=0.2590448558330536\n"
     ]
    },
    {
     "name": "stderr",
     "output_type": "stream",
     "text": [
      "Epoch 1442: 100%|██████████| 7/7 [00:00<00:00, 85.37batch/s, acc=0.262, loss=nan]\n"
     ]
    },
    {
     "name": "stdout",
     "output_type": "stream",
     "text": [
      "Epoch 1442 validation: negative log likelihood loss=nan, Accuracy=0.2590448558330536\n"
     ]
    },
    {
     "name": "stderr",
     "output_type": "stream",
     "text": [
      "Epoch 1443: 100%|██████████| 7/7 [00:00<00:00, 93.34batch/s, acc=0.262, loss=nan]\n"
     ]
    },
    {
     "name": "stdout",
     "output_type": "stream",
     "text": [
      "Epoch 1443 validation: negative log likelihood loss=nan, Accuracy=0.2590448558330536\n"
     ]
    },
    {
     "name": "stderr",
     "output_type": "stream",
     "text": [
      "Epoch 1444: 100%|██████████| 7/7 [00:00<00:00, 93.33batch/s, acc=0.262, loss=nan]"
     ]
    },
    {
     "name": "stdout",
     "output_type": "stream",
     "text": [
      "Epoch 1444 validation: negative log likelihood loss=nan, Accuracy=0.2590448558330536\n"
     ]
    },
    {
     "name": "stderr",
     "output_type": "stream",
     "text": [
      "\n",
      "Epoch 1445: 100%|██████████| 7/7 [00:00<00:00, 93.33batch/s, acc=0.262, loss=nan]\n"
     ]
    },
    {
     "name": "stdout",
     "output_type": "stream",
     "text": [
      "Epoch 1445 validation: negative log likelihood loss=nan, Accuracy=0.2590448558330536\n"
     ]
    },
    {
     "name": "stderr",
     "output_type": "stream",
     "text": [
      "Epoch 1446: 100%|██████████| 7/7 [00:00<00:00, 98.60batch/s, acc=0.262, loss=nan] \n"
     ]
    },
    {
     "name": "stdout",
     "output_type": "stream",
     "text": [
      "Epoch 1446 validation: negative log likelihood loss=nan, Accuracy=0.2590448558330536\n"
     ]
    },
    {
     "name": "stderr",
     "output_type": "stream",
     "text": [
      "Epoch 1447: 100%|██████████| 7/7 [00:00<00:00, 100.00batch/s, acc=0.262, loss=nan]\n"
     ]
    },
    {
     "name": "stdout",
     "output_type": "stream",
     "text": [
      "Epoch 1447 validation: negative log likelihood loss=nan, Accuracy=0.2590448558330536\n"
     ]
    },
    {
     "name": "stderr",
     "output_type": "stream",
     "text": [
      "Epoch 1448: 100%|██████████| 7/7 [00:00<00:00, 97.22batch/s, acc=0.262, loss=nan] \n"
     ]
    },
    {
     "name": "stdout",
     "output_type": "stream",
     "text": [
      "Epoch 1448 validation: negative log likelihood loss=nan, Accuracy=0.2590448558330536\n"
     ]
    },
    {
     "name": "stderr",
     "output_type": "stream",
     "text": [
      "Epoch 1449: 100%|██████████| 7/7 [00:00<00:00, 95.89batch/s, acc=0.262, loss=nan] \n"
     ]
    },
    {
     "name": "stdout",
     "output_type": "stream",
     "text": [
      "Epoch 1449 validation: negative log likelihood loss=nan, Accuracy=0.2590448558330536\n"
     ]
    },
    {
     "name": "stderr",
     "output_type": "stream",
     "text": [
      "Epoch 1450: 100%|██████████| 7/7 [00:00<00:00, 93.34batch/s, acc=0.262, loss=nan]\n"
     ]
    },
    {
     "name": "stdout",
     "output_type": "stream",
     "text": [
      "Epoch 1450 validation: negative log likelihood loss=nan, Accuracy=0.2590448558330536\n"
     ]
    },
    {
     "name": "stderr",
     "output_type": "stream",
     "text": [
      "Epoch 1451: 100%|██████████| 7/7 [00:00<00:00, 89.74batch/s, acc=0.262, loss=nan]\n"
     ]
    },
    {
     "name": "stdout",
     "output_type": "stream",
     "text": [
      "Epoch 1451 validation: negative log likelihood loss=nan, Accuracy=0.2590448558330536\n"
     ]
    },
    {
     "name": "stderr",
     "output_type": "stream",
     "text": [
      "Epoch 1452: 100%|██████████| 7/7 [00:00<00:00, 95.89batch/s, acc=0.262, loss=nan] \n"
     ]
    },
    {
     "name": "stdout",
     "output_type": "stream",
     "text": [
      "Epoch 1452 validation: negative log likelihood loss=nan, Accuracy=0.2590448558330536\n"
     ]
    },
    {
     "name": "stderr",
     "output_type": "stream",
     "text": [
      "Epoch 1453: 100%|██████████| 7/7 [00:00<00:00, 90.91batch/s, acc=0.262, loss=nan]\n"
     ]
    },
    {
     "name": "stdout",
     "output_type": "stream",
     "text": [
      "Epoch 1453 validation: negative log likelihood loss=nan, Accuracy=0.2590448558330536\n"
     ]
    },
    {
     "name": "stderr",
     "output_type": "stream",
     "text": [
      "Epoch 1454: 100%|██████████| 7/7 [00:00<00:00, 92.10batch/s, acc=0.262, loss=nan]\n"
     ]
    },
    {
     "name": "stdout",
     "output_type": "stream",
     "text": [
      "Epoch 1454 validation: negative log likelihood loss=nan, Accuracy=0.2590448558330536\n"
     ]
    },
    {
     "name": "stderr",
     "output_type": "stream",
     "text": [
      "Epoch 1455: 100%|██████████| 7/7 [00:00<00:00, 88.61batch/s, acc=0.262, loss=nan]\n"
     ]
    },
    {
     "name": "stdout",
     "output_type": "stream",
     "text": [
      "Epoch 1455 validation: negative log likelihood loss=nan, Accuracy=0.2590448558330536\n"
     ]
    },
    {
     "name": "stderr",
     "output_type": "stream",
     "text": [
      "Epoch 1456: 100%|██████████| 7/7 [00:00<00:00, 45.75batch/s, acc=0.262, loss=nan]\n"
     ]
    },
    {
     "name": "stdout",
     "output_type": "stream",
     "text": [
      "Epoch 1456 validation: negative log likelihood loss=nan, Accuracy=0.2590448558330536\n"
     ]
    },
    {
     "name": "stderr",
     "output_type": "stream",
     "text": [
      "Epoch 1457: 100%|██████████| 7/7 [00:00<00:00, 82.35batch/s, acc=0.262, loss=nan]\n"
     ]
    },
    {
     "name": "stdout",
     "output_type": "stream",
     "text": [
      "Epoch 1457 validation: negative log likelihood loss=nan, Accuracy=0.2590448558330536\n"
     ]
    },
    {
     "name": "stderr",
     "output_type": "stream",
     "text": [
      "Epoch 1458: 100%|██████████| 7/7 [00:00<00:00, 90.91batch/s, acc=0.262, loss=nan]\n"
     ]
    },
    {
     "name": "stdout",
     "output_type": "stream",
     "text": [
      "Epoch 1458 validation: negative log likelihood loss=nan, Accuracy=0.2590448558330536\n"
     ]
    },
    {
     "name": "stderr",
     "output_type": "stream",
     "text": [
      "Epoch 1459: 100%|██████████| 7/7 [00:00<00:00, 89.75batch/s, acc=0.262, loss=nan]\n"
     ]
    },
    {
     "name": "stdout",
     "output_type": "stream",
     "text": [
      "Epoch 1459 validation: negative log likelihood loss=nan, Accuracy=0.2590448558330536\n"
     ]
    },
    {
     "name": "stderr",
     "output_type": "stream",
     "text": [
      "Epoch 1460: 100%|██████████| 7/7 [00:00<00:00, 94.60batch/s, acc=0.262, loss=nan]\n"
     ]
    },
    {
     "name": "stdout",
     "output_type": "stream",
     "text": [
      "Epoch 1460 validation: negative log likelihood loss=nan, Accuracy=0.2590448558330536\n"
     ]
    },
    {
     "name": "stderr",
     "output_type": "stream",
     "text": [
      "Epoch 1461: 100%|██████████| 7/7 [00:00<00:00, 92.10batch/s, acc=0.262, loss=nan]\n"
     ]
    },
    {
     "name": "stdout",
     "output_type": "stream",
     "text": [
      "Epoch 1461 validation: negative log likelihood loss=nan, Accuracy=0.2590448558330536\n"
     ]
    },
    {
     "name": "stderr",
     "output_type": "stream",
     "text": [
      "Epoch 1462: 100%|██████████| 7/7 [00:00<00:00, 92.10batch/s, acc=0.262, loss=nan]\n"
     ]
    },
    {
     "name": "stdout",
     "output_type": "stream",
     "text": [
      "Epoch 1462 validation: negative log likelihood loss=nan, Accuracy=0.2590448558330536\n"
     ]
    },
    {
     "name": "stderr",
     "output_type": "stream",
     "text": [
      "Epoch 1463: 100%|██████████| 7/7 [00:00<00:00, 92.11batch/s, acc=0.262, loss=nan]\n"
     ]
    },
    {
     "name": "stdout",
     "output_type": "stream",
     "text": [
      "Epoch 1463 validation: negative log likelihood loss=nan, Accuracy=0.2590448558330536\n"
     ]
    },
    {
     "name": "stderr",
     "output_type": "stream",
     "text": [
      "Epoch 1464: 100%|██████████| 7/7 [00:00<00:00, 45.75batch/s, acc=0.262, loss=nan]\n"
     ]
    },
    {
     "name": "stdout",
     "output_type": "stream",
     "text": [
      "Epoch 1464 validation: negative log likelihood loss=nan, Accuracy=0.2590448558330536\n"
     ]
    },
    {
     "name": "stderr",
     "output_type": "stream",
     "text": [
      "Epoch 1465: 100%|██████████| 7/7 [00:00<00:00, 92.11batch/s, acc=0.262, loss=nan]\n"
     ]
    },
    {
     "name": "stdout",
     "output_type": "stream",
     "text": [
      "Epoch 1465 validation: negative log likelihood loss=nan, Accuracy=0.2590448558330536\n"
     ]
    },
    {
     "name": "stderr",
     "output_type": "stream",
     "text": [
      "Epoch 1466: 100%|██████████| 7/7 [00:00<00:00, 90.91batch/s, acc=0.262, loss=nan]\n"
     ]
    },
    {
     "name": "stdout",
     "output_type": "stream",
     "text": [
      "Epoch 1466 validation: negative log likelihood loss=nan, Accuracy=0.2590448558330536\n"
     ]
    },
    {
     "name": "stderr",
     "output_type": "stream",
     "text": [
      "Epoch 1467: 100%|██████████| 7/7 [00:00<00:00, 89.75batch/s, acc=0.262, loss=nan]\n"
     ]
    },
    {
     "name": "stdout",
     "output_type": "stream",
     "text": [
      "Epoch 1467 validation: negative log likelihood loss=nan, Accuracy=0.2590448558330536\n"
     ]
    },
    {
     "name": "stderr",
     "output_type": "stream",
     "text": [
      "Epoch 1468: 100%|██████████| 7/7 [00:00<00:00, 95.89batch/s, acc=0.262, loss=nan]\n"
     ]
    },
    {
     "name": "stdout",
     "output_type": "stream",
     "text": [
      "Epoch 1468 validation: negative log likelihood loss=nan, Accuracy=0.2590448558330536\n"
     ]
    },
    {
     "name": "stderr",
     "output_type": "stream",
     "text": [
      "Epoch 1469: 100%|██████████| 7/7 [00:00<00:00, 98.60batch/s, acc=0.262, loss=nan] \n"
     ]
    },
    {
     "name": "stdout",
     "output_type": "stream",
     "text": [
      "Epoch 1469 validation: negative log likelihood loss=nan, Accuracy=0.2590448558330536\n"
     ]
    },
    {
     "name": "stderr",
     "output_type": "stream",
     "text": [
      "Epoch 1470: 100%|██████████| 7/7 [00:00<00:00, 102.94batch/s, acc=0.262, loss=nan]\n"
     ]
    },
    {
     "name": "stdout",
     "output_type": "stream",
     "text": [
      "Epoch 1470 validation: negative log likelihood loss=nan, Accuracy=0.2590448558330536\n"
     ]
    },
    {
     "name": "stderr",
     "output_type": "stream",
     "text": [
      "Epoch 1471: 100%|██████████| 7/7 [00:00<00:00, 41.42batch/s, acc=0.262, loss=nan]\n"
     ]
    },
    {
     "name": "stdout",
     "output_type": "stream",
     "text": [
      "Epoch 1471 validation: negative log likelihood loss=nan, Accuracy=0.2590448558330536\n"
     ]
    },
    {
     "name": "stderr",
     "output_type": "stream",
     "text": [
      "Epoch 1472: 100%|██████████| 7/7 [00:00<00:00, 93.33batch/s, acc=0.262, loss=nan]\n"
     ]
    },
    {
     "name": "stdout",
     "output_type": "stream",
     "text": [
      "Epoch 1472 validation: negative log likelihood loss=nan, Accuracy=0.2590448558330536\n"
     ]
    },
    {
     "name": "stderr",
     "output_type": "stream",
     "text": [
      "Epoch 1473: 100%|██████████| 7/7 [00:00<00:00, 90.91batch/s, acc=0.262, loss=nan]\n"
     ]
    },
    {
     "name": "stdout",
     "output_type": "stream",
     "text": [
      "Epoch 1473 validation: negative log likelihood loss=nan, Accuracy=0.2590448558330536\n"
     ]
    },
    {
     "name": "stderr",
     "output_type": "stream",
     "text": [
      "Epoch 1474: 100%|██████████| 7/7 [00:00<00:00, 97.23batch/s, acc=0.262, loss=nan]\n"
     ]
    },
    {
     "name": "stdout",
     "output_type": "stream",
     "text": [
      "Epoch 1474 validation: negative log likelihood loss=nan, Accuracy=0.2590448558330536\n"
     ]
    },
    {
     "name": "stderr",
     "output_type": "stream",
     "text": [
      "Epoch 1475: 100%|██████████| 7/7 [00:00<00:00, 100.00batch/s, acc=0.262, loss=nan]\n"
     ]
    },
    {
     "name": "stdout",
     "output_type": "stream",
     "text": [
      "Epoch 1475 validation: negative log likelihood loss=nan, Accuracy=0.2590448558330536\n"
     ]
    },
    {
     "name": "stderr",
     "output_type": "stream",
     "text": [
      "Epoch 1476: 100%|██████████| 7/7 [00:00<00:00, 95.89batch/s, acc=0.262, loss=nan] \n"
     ]
    },
    {
     "name": "stdout",
     "output_type": "stream",
     "text": [
      "Epoch 1476 validation: negative log likelihood loss=nan, Accuracy=0.2590448558330536\n"
     ]
    },
    {
     "name": "stderr",
     "output_type": "stream",
     "text": [
      "Epoch 1477: 100%|██████████| 7/7 [00:00<00:00, 46.05batch/s, acc=0.262, loss=nan]\n"
     ]
    },
    {
     "name": "stdout",
     "output_type": "stream",
     "text": [
      "Epoch 1477 validation: negative log likelihood loss=nan, Accuracy=0.2590448558330536\n"
     ]
    },
    {
     "name": "stderr",
     "output_type": "stream",
     "text": [
      "Epoch 1478: 100%|██████████| 7/7 [00:00<00:00, 76.09batch/s, acc=0.262, loss=nan]\n"
     ]
    },
    {
     "name": "stdout",
     "output_type": "stream",
     "text": [
      "Epoch 1478 validation: negative log likelihood loss=nan, Accuracy=0.2590448558330536\n"
     ]
    },
    {
     "name": "stderr",
     "output_type": "stream",
     "text": [
      "Epoch 1479: 100%|██████████| 7/7 [00:00<00:00, 92.10batch/s, acc=0.262, loss=nan]\n"
     ]
    },
    {
     "name": "stdout",
     "output_type": "stream",
     "text": [
      "Epoch 1479 validation: negative log likelihood loss=nan, Accuracy=0.2590448558330536\n"
     ]
    },
    {
     "name": "stderr",
     "output_type": "stream",
     "text": [
      "Epoch 1480: 100%|██████████| 7/7 [00:00<00:00, 94.60batch/s, acc=0.262, loss=nan]\n"
     ]
    },
    {
     "name": "stdout",
     "output_type": "stream",
     "text": [
      "Epoch 1480 validation: negative log likelihood loss=nan, Accuracy=0.2590448558330536\n"
     ]
    },
    {
     "name": "stderr",
     "output_type": "stream",
     "text": [
      "Epoch 1481: 100%|██████████| 7/7 [00:00<00:00, 90.91batch/s, acc=0.262, loss=nan]\n"
     ]
    },
    {
     "name": "stdout",
     "output_type": "stream",
     "text": [
      "Epoch 1481 validation: negative log likelihood loss=nan, Accuracy=0.2590448558330536\n"
     ]
    },
    {
     "name": "stderr",
     "output_type": "stream",
     "text": [
      "Epoch 1482: 100%|██████████| 7/7 [00:00<00:00, 89.75batch/s, acc=0.262, loss=nan]\n"
     ]
    },
    {
     "name": "stdout",
     "output_type": "stream",
     "text": [
      "Epoch 1482 validation: negative log likelihood loss=nan, Accuracy=0.2590448558330536\n"
     ]
    },
    {
     "name": "stderr",
     "output_type": "stream",
     "text": [
      "Epoch 1483: 100%|██████████| 7/7 [00:00<00:00, 89.75batch/s, acc=0.262, loss=nan]\n"
     ]
    },
    {
     "name": "stdout",
     "output_type": "stream",
     "text": [
      "Epoch 1483 validation: negative log likelihood loss=nan, Accuracy=0.2590448558330536\n"
     ]
    },
    {
     "name": "stderr",
     "output_type": "stream",
     "text": [
      "Epoch 1484: 100%|██████████| 7/7 [00:00<00:00, 92.11batch/s, acc=0.262, loss=nan]"
     ]
    },
    {
     "name": "stdout",
     "output_type": "stream",
     "text": [
      "Epoch 1484 validation: negative log likelihood loss=nan, Accuracy=0.2590448558330536\n"
     ]
    },
    {
     "name": "stderr",
     "output_type": "stream",
     "text": [
      "\n",
      "Epoch 1485: 100%|██████████| 7/7 [00:00<00:00, 93.34batch/s, acc=0.262, loss=nan]\n"
     ]
    },
    {
     "name": "stdout",
     "output_type": "stream",
     "text": [
      "Epoch 1485 validation: negative log likelihood loss=nan, Accuracy=0.2590448558330536\n"
     ]
    },
    {
     "name": "stderr",
     "output_type": "stream",
     "text": [
      "Epoch 1486: 100%|██████████| 7/7 [00:00<00:00, 92.11batch/s, acc=0.262, loss=nan]\n"
     ]
    },
    {
     "name": "stdout",
     "output_type": "stream",
     "text": [
      "Epoch 1486 validation: negative log likelihood loss=nan, Accuracy=0.2590448558330536\n"
     ]
    },
    {
     "name": "stderr",
     "output_type": "stream",
     "text": [
      "Epoch 1487: 100%|██████████| 7/7 [00:00<00:00, 100.00batch/s, acc=0.262, loss=nan]\n"
     ]
    },
    {
     "name": "stdout",
     "output_type": "stream",
     "text": [
      "Epoch 1487 validation: negative log likelihood loss=nan, Accuracy=0.2590448558330536\n"
     ]
    },
    {
     "name": "stderr",
     "output_type": "stream",
     "text": [
      "Epoch 1488: 100%|██████████| 7/7 [00:00<00:00, 95.89batch/s, acc=0.262, loss=nan]\n"
     ]
    },
    {
     "name": "stdout",
     "output_type": "stream",
     "text": [
      "Epoch 1488 validation: negative log likelihood loss=nan, Accuracy=0.2590448558330536\n"
     ]
    },
    {
     "name": "stderr",
     "output_type": "stream",
     "text": [
      "Epoch 1489: 100%|██████████| 7/7 [00:00<00:00, 98.60batch/s, acc=0.262, loss=nan] \n"
     ]
    },
    {
     "name": "stdout",
     "output_type": "stream",
     "text": [
      "Epoch 1489 validation: negative log likelihood loss=nan, Accuracy=0.2590448558330536\n"
     ]
    },
    {
     "name": "stderr",
     "output_type": "stream",
     "text": [
      "Epoch 1490: 100%|██████████| 7/7 [00:00<00:00, 97.22batch/s, acc=0.262, loss=nan]\n"
     ]
    },
    {
     "name": "stdout",
     "output_type": "stream",
     "text": [
      "Epoch 1490 validation: negative log likelihood loss=nan, Accuracy=0.2590448558330536\n"
     ]
    },
    {
     "name": "stderr",
     "output_type": "stream",
     "text": [
      "Epoch 1491: 100%|██████████| 7/7 [00:00<00:00, 42.42batch/s, acc=0.262, loss=nan]\n"
     ]
    },
    {
     "name": "stdout",
     "output_type": "stream",
     "text": [
      "Epoch 1491 validation: negative log likelihood loss=nan, Accuracy=0.2590448558330536\n"
     ]
    },
    {
     "name": "stderr",
     "output_type": "stream",
     "text": [
      "Epoch 1492: 100%|██████████| 7/7 [00:00<00:00, 92.10batch/s, acc=0.262, loss=nan]\n"
     ]
    },
    {
     "name": "stdout",
     "output_type": "stream",
     "text": [
      "Epoch 1492 validation: negative log likelihood loss=nan, Accuracy=0.2590448558330536\n"
     ]
    },
    {
     "name": "stderr",
     "output_type": "stream",
     "text": [
      "Epoch 1493: 100%|██████████| 7/7 [00:00<00:00, 97.23batch/s, acc=0.262, loss=nan] \n"
     ]
    },
    {
     "name": "stdout",
     "output_type": "stream",
     "text": [
      "Epoch 1493 validation: negative log likelihood loss=nan, Accuracy=0.2590448558330536\n"
     ]
    },
    {
     "name": "stderr",
     "output_type": "stream",
     "text": [
      "Epoch 1494: 100%|██████████| 7/7 [00:00<00:00, 92.10batch/s, acc=0.262, loss=nan]\n"
     ]
    },
    {
     "name": "stdout",
     "output_type": "stream",
     "text": [
      "Epoch 1494 validation: negative log likelihood loss=nan, Accuracy=0.2590448558330536\n"
     ]
    },
    {
     "name": "stderr",
     "output_type": "stream",
     "text": [
      "Epoch 1495: 100%|██████████| 7/7 [00:00<00:00, 90.91batch/s, acc=0.262, loss=nan]\n"
     ]
    },
    {
     "name": "stdout",
     "output_type": "stream",
     "text": [
      "Epoch 1495 validation: negative log likelihood loss=nan, Accuracy=0.2590448558330536\n"
     ]
    },
    {
     "name": "stderr",
     "output_type": "stream",
     "text": [
      "Epoch 1496: 100%|██████████| 7/7 [00:00<00:00, 94.59batch/s, acc=0.262, loss=nan] \n"
     ]
    },
    {
     "name": "stdout",
     "output_type": "stream",
     "text": [
      "Epoch 1496 validation: negative log likelihood loss=nan, Accuracy=0.2590448558330536\n"
     ]
    },
    {
     "name": "stderr",
     "output_type": "stream",
     "text": [
      "Epoch 1497: 100%|██████████| 7/7 [00:00<00:00, 92.11batch/s, acc=0.262, loss=nan]\n"
     ]
    },
    {
     "name": "stdout",
     "output_type": "stream",
     "text": [
      "Epoch 1497 validation: negative log likelihood loss=nan, Accuracy=0.2590448558330536\n"
     ]
    },
    {
     "name": "stderr",
     "output_type": "stream",
     "text": [
      "Epoch 1498: 100%|██████████| 7/7 [00:00<00:00, 92.11batch/s, acc=0.262, loss=nan]\n"
     ]
    },
    {
     "name": "stdout",
     "output_type": "stream",
     "text": [
      "Epoch 1498 validation: negative log likelihood loss=nan, Accuracy=0.2590448558330536\n"
     ]
    },
    {
     "name": "stderr",
     "output_type": "stream",
     "text": [
      "Epoch 1499: 100%|██████████| 7/7 [00:00<00:00, 92.10batch/s, acc=0.262, loss=nan]"
     ]
    },
    {
     "name": "stdout",
     "output_type": "stream",
     "text": [
      "Epoch 1499 validation: negative log likelihood loss=nan, Accuracy=0.2590448558330536\n"
     ]
    },
    {
     "name": "stderr",
     "output_type": "stream",
     "text": [
      "\n"
     ]
    },
    {
     "data": {
      "text/plain": [
       "<All keys matched successfully>"
      ]
     },
     "execution_count": 78,
     "metadata": {},
     "output_type": "execute_result"
    }
   ],
   "source": [
    "# real training loop\n",
    "import copy\n",
    "import tqdm\n",
    "import numpy as np\n",
    "\n",
    "# split\n",
    "X_train, X_test, y_train, y_test = train_test_split(Xr_normalized, yr_onehot, train_size=0.7, shuffle=True)\n",
    "\n",
    "n_epochs = 1500\n",
    "batch_size = 450\n",
    "batches_per_epoch = len(X_train) // batch_size\n",
    "\n",
    "best_acc = - np.inf   # init to negative infinity\n",
    "best_weights = None\n",
    "train_loss_hist = []\n",
    "train_acc_hist = []\n",
    "test_loss_hist = []\n",
    "test_acc_hist = []\n",
    "\n",
    "for epoch in range(n_epochs):\n",
    "    epoch_loss = []\n",
    "    epoch_acc = []\n",
    "    # set model in training mode and run through each batch\n",
    "    model.train()\n",
    "    with tqdm.trange(batches_per_epoch, unit=\"batch\", mininterval=0) as bar:\n",
    "        bar.set_description(f\"Epoch {epoch}\")\n",
    "        for i in bar:\n",
    "            # take a batch\n",
    "            start = i * batch_size\n",
    "            X_batch = X_train[start:start+batch_size]\n",
    "            y_batch = y_train[start:start+batch_size]\n",
    "            # forward pass\n",
    "            y_pred = model(X_batch)\n",
    "            y_batch_labeled = torch.argmax(y_batch, 1)\n",
    "            loss = loss_fn(y_pred, y_batch_labeled)\n",
    "            # backward pass\n",
    "            optimizer.zero_grad()\n",
    "            loss.backward()\n",
    "            # update weights\n",
    "            optimizer.step()\n",
    "            # compute and store metrics\n",
    "            acc = (torch.argmax(y_pred, 1) == torch.argmax(y_batch, 1)).float().mean()\n",
    "            epoch_loss.append(float(loss))\n",
    "            epoch_acc.append(float(acc))\n",
    "            bar.set_postfix(\n",
    "                loss=float(loss),\n",
    "                acc=float(acc)\n",
    "            )\n",
    "    # set model in evaluation mode and run through the test set\n",
    "    model.eval()\n",
    "    y_pred = model(X_test)\n",
    "    ce = loss_fn(y_pred, torch.argmax(y_test, 1))\n",
    "    acc = (torch.argmax(y_pred, 1) == torch.argmax(y_test, 1)).float().mean()\n",
    "    ce = float(ce)\n",
    "    acc = float(acc)\n",
    "    train_loss_hist.append(np.mean(epoch_loss))\n",
    "    train_acc_hist.append(np.mean(epoch_acc))\n",
    "    test_loss_hist.append(ce)\n",
    "    test_acc_hist.append(acc)\n",
    "    if acc > best_acc:\n",
    "        best_acc = acc\n",
    "        best_weights = copy.deepcopy(model.state_dict())\n",
    "    print(f\"Epoch {epoch} validation: negative log likelihood loss={ce}, Accuracy={acc}\")\n",
    "    \n",
    "model.load_state_dict(best_weights)"
   ]
  },
  {
   "cell_type": "code",
   "execution_count": null,
   "id": "14e9164b",
   "metadata": {},
   "outputs": [],
   "source": [
    "# plot the losses\n",
    "import matplotlib.pyplot as plt\n",
    "\n",
    "plt.plot(train_loss_hist, label=\"train\")\n",
    "plt.plot(test_loss_hist, label=\"test\")\n",
    "plt.xlabel(\"epochs\")\n",
    "plt.ylabel(\"cross entropy\")\n",
    "plt.legend()\n",
    "plt.show()\n",
    "\n",
    "plt.plot(train_acc_hist, label=\"train\")\n",
    "plt.plot(test_acc_hist, label=\"test\")\n",
    "plt.xlabel(\"epochs\")\n",
    "plt.ylabel(\"accuracy\")\n",
    "plt.legend()\n",
    "plt.show()"
   ]
  },
  {
   "cell_type": "code",
   "execution_count": null,
   "id": "f89d174f",
   "metadata": {},
   "outputs": [],
   "source": [
    "#OLD CODE"
   ]
  },
  {
   "cell_type": "code",
   "execution_count": null,
   "id": "05a71b08",
   "metadata": {},
   "outputs": [],
   "source": [
    "#Gives accuracy and f1 score for using every stat possible\n",
    "rfc=RandomForestClassifier()\n",
    "Xr=ufc_fights[possible_stats]\n",
    "yr=ufc_fights['method']\n",
    "\n",
    "rfc.fit(Xr,yr)\n",
    "accuracy = cross_val_score(rfc,Xr,yr,cv=3).mean()\n",
    "precision = cross_val_score(rfc,Xr,yr,cv=3, scoring='precision_micro').mean()\n",
    "recall = cross_val_score(rfc, Xr, yr, cv=3, scoring='recall_macro').mean()\n",
    "print('Accuracy: '+str(accuracy),'F1 score: '+str(precision*recall/(precision+recall)))"
   ]
  },
  {
   "cell_type": "code",
   "execution_count": null,
   "id": "1a4608a8",
   "metadata": {},
   "outputs": [],
   "source": [
    "#scores a model\n",
    "def model_score(dataframe,features, iloc_val = 3200):\n",
    "    yyy=dataframe['method'].iloc[0:iloc_val]\n",
    "    XXX=dataframe[features].iloc[0:iloc_val]\n",
    "    XXXscaler = preprocessing.StandardScaler().fit(XXX)\n",
    "    XXX_scaled = XXXscaler.transform(XXX) \n",
    "    rfc=RandomForestClassifier()\n",
    "    return cross_val_score(rfc,XXX_scaled,yyy,cv=4).mean()\n",
    "    \n",
    "#CODE FOR THE GREEDY ALGORITHM FOR FEATURE SELECTION\n",
    "def greedy(dataframe, features, subsetsize, iloc_val=3200):\n",
    "    i=0\n",
    "    best_stats=[]\n",
    "    s=set(features)\n",
    "    subsets=list(map(set, itertools.combinations(s, subsetsize))) #subsets of size (subsetsize)\n",
    "    possible_stat_dict = {}\n",
    "    scores={0:0}\n",
    "    for stat_pair in subsets:\n",
    "        possible_stat_dict[tuple(stat_pair)]=0\n",
    "    while (i==0) or (scores[i]>scores[i-1]):\n",
    "        i+=1\n",
    "        for stat_pair in list(possible_stat_dict.keys()):\n",
    "            stats_temp = best_stats+list(stat_pair)\n",
    "            possible_stat_dict[tuple(stat_pair)]=model_score(ufc_fights,stats_temp,iloc_val)\n",
    "        max_key = max(possible_stat_dict, key=possible_stat_dict.get)\n",
    "        best_stats.extend(list(max_key))\n",
    "        scores[i]=possible_stat_dict[max_key]\n",
    "        possible_stat_dict.pop(max_key)\n",
    "        print(best_stats,scores[i])\n",
    "    return (best_stats[:-subsetsize], scores[i-1])"
   ]
  },
  {
   "cell_type": "code",
   "execution_count": null,
   "id": "b9968a6e",
   "metadata": {},
   "outputs": [],
   "source": [
    "#searches over all single stats for the highest scoring, then it trys to add one and sees if that scores higher\n",
    "#this will keep adding stats as long as they improve the accuracy of the model\n",
    "greedy(ufc_fights, possible_stats, 1)"
   ]
  },
  {
   "cell_type": "code",
   "execution_count": null,
   "id": "d3d268a9",
   "metadata": {},
   "outputs": [],
   "source": [
    "greedy(ufc_fights, possible_stats, 2)"
   ]
  },
  {
   "cell_type": "code",
   "execution_count": null,
   "id": "dc5f8dc4",
   "metadata": {},
   "outputs": [],
   "source": [
    "#random forest does way better for picking the method!\n",
    "best_stats=['fighter_ko_losses_diff_2']\n",
    "rfc=RandomForestClassifier()\n",
    "Xr=ufc_fights[best_stats]\n",
    "yr=ufc_fights['method']\n",
    "\n",
    "rfc.fit(Xr,yr)\n",
    "accuracy = cross_val_score(rfc,Xr,yr,cv=3).mean()\n",
    "precision = cross_val_score(rfc,Xr,yr,cv=3, scoring='precision_micro').mean()\n",
    "recall = cross_val_score(rfc, Xr, yr, cv=3, scoring='recall_macro').mean()\n",
    "print('Accuracy: '+str(accuracy),'F1 score: '+str(precision*recall/(precision+recall)))"
   ]
  },
  {
   "cell_type": "code",
   "execution_count": null,
   "id": "c780a9e1",
   "metadata": {},
   "outputs": [],
   "source": [
    "#random forest does way better for picking the method!\n",
    "best_stats=['fighter_ko_losses_diff_2', 'fighter_sub_losses_diff_2']\n",
    "rfc=RandomForestClassifier()\n",
    "Xr=ufc_fights[best_stats]\n",
    "yr=ufc_fights['method']\n",
    "\n",
    "rfc.fit(Xr,yr)\n",
    "accuracy = cross_val_score(rfc,Xr,yr,cv=3).mean()\n",
    "precision = cross_val_score(rfc,Xr,yr,cv=3, scoring='precision_micro').mean()\n",
    "recall = cross_val_score(rfc, Xr, yr, cv=3, scoring='recall_macro').mean()\n",
    "print('Accuracy: '+str(accuracy),'F1 score: '+str(precision*recall/(precision+recall)))"
   ]
  },
  {
   "cell_type": "code",
   "execution_count": null,
   "id": "61434a92",
   "metadata": {},
   "outputs": [],
   "source": [
    "#checking how the score changes with iloc value\n",
    "for i in range(1,50):\n",
    "    iloc_val = 100*i\n",
    "    best_stats=['fighter_ko_losses_diff_2', 'fighter_sub_losses_diff_2']\n",
    "    rfc=RandomForestClassifier()\n",
    "    Xr=ufc_fights[best_stats].iloc[0:iloc_val]\n",
    "    yr=ufc_fights['method'].iloc[0:iloc_val]\n",
    "\n",
    "    rfc.fit(Xr,yr)\n",
    "    accuracy = cross_val_score(rfc,Xr,yr,cv=3).mean()\n",
    "    precision = cross_val_score(rfc,Xr,yr,cv=3, scoring='precision_micro').mean()\n",
    "    recall = cross_val_score(rfc, Xr, yr, cv=3, scoring='recall_macro').mean()\n",
    "    print(100*i, 'Accuracy: '+str(accuracy),'F1 score: '+str(precision*recall/(precision+recall)))"
   ]
  },
  {
   "cell_type": "code",
   "execution_count": null,
   "id": "aeed4595",
   "metadata": {},
   "outputs": [],
   "source": [
    "#crazy... one single stat puts us at .51, higher than using every possible stat... but two gives no improvement at all"
   ]
  },
  {
   "cell_type": "code",
   "execution_count": null,
   "id": "dfc24364",
   "metadata": {},
   "outputs": [],
   "source": [
    "num_subs = len([i for i in ufc_fights['method'] if i=='SUB'])\n",
    "num_kos = len([i for i in ufc_fights['method'] if i=='KO/TKO'])\n",
    "num_dec = len([i for i in ufc_fights['method'] if i=='DEC'])"
   ]
  },
  {
   "cell_type": "code",
   "execution_count": null,
   "id": "cfa493e5",
   "metadata": {},
   "outputs": [],
   "source": [
    "print('number of subs: '+str(num_subs))\n",
    "print('number of kos: '+str(num_kos))\n",
    "print('number of decisions: '+str(num_dec))"
   ]
  },
  {
   "cell_type": "code",
   "execution_count": null,
   "id": "4d202cdd",
   "metadata": {},
   "outputs": [],
   "source": [
    "num_fights=len(ufc_fights['method'])\n",
    "print('percentage of subs: '+str(num_subs/num_fights))\n",
    "print('percentage of kos: '+str(num_kos/num_fights))\n",
    "print('percentage of decisions: '+str(num_dec/num_fights))"
   ]
  },
  {
   "cell_type": "code",
   "execution_count": null,
   "id": "3e92c5bd",
   "metadata": {},
   "outputs": [],
   "source": [
    "# so picking DEC victory every single time would get us a score of .494. We are not really beating that by much...\n",
    "# but we have a better f1 score than picking DEC every time. Having a higher f1 score is important since the \n",
    "# odds are better usually when you correctly pick KO or SUB"
   ]
  }
 ],
 "metadata": {
  "kernelspec": {
   "display_name": "Python 3 (ipykernel)",
   "language": "python",
   "name": "python3"
  },
  "language_info": {
   "codemirror_mode": {
    "name": "ipython",
    "version": 3
   },
   "file_extension": ".py",
   "mimetype": "text/x-python",
   "name": "python",
   "nbconvert_exporter": "python",
   "pygments_lexer": "ipython3",
   "version": "3.9.13"
  }
 },
 "nbformat": 4,
 "nbformat_minor": 5
}
