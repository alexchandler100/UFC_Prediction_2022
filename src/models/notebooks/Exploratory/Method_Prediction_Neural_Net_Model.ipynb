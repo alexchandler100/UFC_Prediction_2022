{
 "cells": [
  {
   "cell_type": "code",
   "execution_count": 1,
   "id": "26cf9ae5",
   "metadata": {},
   "outputs": [
    {
     "name": "stderr",
     "output_type": "stream",
     "text": [
      "C:\\Users\\Alex\\AppData\\Local\\Packages\\PythonSoftwareFoundation.Python.3.9_qbz5n2kfra8p0\\LocalCache\\local-packages\\Python39\\site-packages\\tqdm\\auto.py:21: TqdmWarning: IProgress not found. Please update jupyter and ipywidgets. See https://ipywidgets.readthedocs.io/en/stable/user_install.html\n",
      "  from .autonotebook import tqdm as notebook_tqdm\n"
     ]
    }
   ],
   "source": [
    "#needed after restructuring of directory\n",
    "import os\n",
    "import pandas as pd\n",
    "import numpy as np\n",
    "import matplotlib.pyplot as plt\n",
    "from sklearn.model_selection import train_test_split, KFold, cross_val_score\n",
    "from sklearn import preprocessing\n",
    "from sklearn.preprocessing import OneHotEncoder\n",
    "import itertools\n",
    "import torch\n",
    "import torch.nn as nn\n",
    "import torch.optim as optim\n",
    "# change directory to src so that we can import functions\n",
    "os.chdir(os.path.join(\"..\",\"..\",\"..\"))\n",
    "from functions import *\n",
    "# back to repo root\n",
    "os.chdir(\"..\")"
   ]
  },
  {
   "cell_type": "code",
   "execution_count": 2,
   "id": "640eb84e",
   "metadata": {},
   "outputs": [],
   "source": [
    "#importing csv fight data and saving as dataframes\n",
    "ufc_fights = pd.read_csv('src/models/buildingMLModel/data/processed/ufc_fights.csv',low_memory=False)\n",
    "ufcfighterscrap =pd.read_csv('src/models/buildingMLModel/data/processed/fighter_stats.csv',sep=',',low_memory=False)\n",
    "#cleaning the methods column for method prediction (counting split decisions as decisions)\n",
    "ufc_fights['method'] = clean_method_vect(ufc_fights['method'])\n",
    "ufc_fights['method'].unique()\n",
    "#getting rid of rows with incomplete or useless data\n",
    "#fights with outcome \"Win\" or \"Loss\" (no \"Draw\")\n",
    "draw_mask=ufc_fights['result'] != 'D' \n",
    "#fights where the method of victory is TKO/SUB/DEC (no bullshit)\n",
    "method_mask=(ufc_fights['method']=='DEC')|(ufc_fights['method']=='SUB')|(ufc_fights['method']=='KO/TKO')\n",
    "#fights where age is known\n",
    "age_mask=(ufc_fights['fighter_age']!='unknown')&(ufc_fights['opponent_age']!='unknown')\n",
    "#fights where height reach is known\n",
    "height_mask=(ufc_fights['fighter_height']!='unknown')&(ufc_fights['opponent_height']!='unknown')\n",
    "reach_mask=(ufc_fights['fighter_reach']!='unknown')&(ufc_fights['opponent_reach']!='unknown')\n",
    "#fights where number of wins is known\n",
    "wins_mask=(ufc_fights['fighter_wins'] != 'unknown' )& (ufc_fights['opponent_wins'] != 'unknown')\n",
    "#fights where both fighters have strike statistics (gets rid of UFC debuts)\n",
    "strikes_mask=(ufc_fights['fighter_inf_sig_strikes_attempts_avg'] != 0)&(ufc_fights['opponent_inf_sig_strikes_attempts_avg'] != 0)\n",
    "#includes only the fights satisfying these conditions\n",
    "ufc_fights=ufc_fights[draw_mask&method_mask&age_mask&height_mask&reach_mask&wins_mask&strikes_mask]\n",
    "\n",
    "record_statistics=[u'fighter_wins', u'fighter_losses',u'fighter_L5Y_wins',u'fighter_L5Y_losses', u'fighter_L2Y_wins', u'fighter_L2Y_losses', u'fighter_ko_wins',u'fighter_ko_losses',u'fighter_L5Y_ko_wins',u'fighter_L5Y_ko_losses',u'fighter_L2Y_ko_wins', u'fighter_L2Y_ko_losses',u'fighter_sub_wins',u'fighter_sub_losses',u'fighter_L5Y_sub_wins', u'fighter_L5Y_sub_losses', u'fighter_L2Y_sub_wins', u'fighter_L2Y_sub_losses',u'opponent_wins', u'opponent_losses',u'opponent_L5Y_wins', u'opponent_L5Y_losses', u'opponent_L2Y_wins', u'opponent_L2Y_losses',  u'opponent_ko_wins', u'opponent_ko_losses', u'opponent_L5Y_ko_wins', u'opponent_L5Y_ko_losses', u'opponent_L2Y_ko_wins', u'opponent_L2Y_ko_losses', u'opponent_sub_wins', u'opponent_sub_losses',u'opponent_L5Y_sub_wins',  u'opponent_L5Y_sub_losses', u'opponent_L2Y_sub_wins', u'opponent_L2Y_sub_losses']\n",
    "physical_stats=[ u'fighter_age',u'fighter_height',    u'fighter_reach',  u'opponent_age',  u'opponent_height', u'opponent_reach']\n",
    "punch_statistics=[ u'fighter_inf_knockdowns_avg',u'fighter_inf_pass_avg',u'fighter_inf_reversals_avg',u'fighter_inf_sub_attempts_avg',u'fighter_inf_takedowns_landed_avg',u'fighter_inf_takedowns_attempts_avg',u'fighter_inf_sig_strikes_landed_avg',u'fighter_inf_sig_strikes_attempts_avg',u'fighter_inf_total_strikes_landed_avg',u'fighter_inf_total_strikes_attempts_avg',u'fighter_inf_head_strikes_landed_avg',u'fighter_inf_head_strikes_attempts_avg',u'fighter_inf_body_strikes_landed_avg',u'fighter_inf_body_strikes_attempts_avg',u'fighter_inf_leg_strikes_landed_avg',u'fighter_inf_leg_strikes_attempts_avg',u'fighter_inf_distance_strikes_landed_avg',u'fighter_inf_distance_strikes_attempts_avg',u'fighter_inf_clinch_strikes_landed_avg',u'fighter_inf_clinch_strikes_attempts_avg',u'fighter_inf_ground_strikes_landed_avg',u'fighter_inf_ground_strikes_attempts_avg',u'fighter_abs_knockdowns_avg',u'fighter_abs_pass_avg',u'fighter_abs_reversals_avg',u'fighter_abs_sub_attempts_avg',u'fighter_abs_takedowns_landed_avg',u'fighter_abs_takedowns_attempts_avg',u'fighter_abs_sig_strikes_landed_avg',u'fighter_abs_sig_strikes_attempts_avg',u'fighter_abs_total_strikes_landed_avg',u'fighter_abs_total_strikes_attempts_avg',u'fighter_abs_head_strikes_landed_avg',u'fighter_abs_head_strikes_attempts_avg',u'fighter_abs_body_strikes_landed_avg',u'fighter_abs_body_strikes_attempts_avg',u'fighter_abs_leg_strikes_landed_avg',u'fighter_abs_leg_strikes_attempts_avg',u'fighter_abs_distance_strikes_landed_avg',u'fighter_abs_distance_strikes_attempts_avg',u'fighter_abs_clinch_strikes_landed_avg',u'fighter_abs_clinch_strikes_attempts_avg',u'fighter_abs_ground_strikes_landed_avg',u'fighter_abs_ground_strikes_attempts_avg',u'opponent_inf_knockdowns_avg',u'opponent_inf_pass_avg',u'opponent_inf_reversals_avg',u'opponent_inf_sub_attempts_avg',u'opponent_inf_takedowns_landed_avg',u'opponent_inf_takedowns_attempts_avg',u'opponent_inf_sig_strikes_landed_avg',u'opponent_inf_sig_strikes_attempts_avg',u'opponent_inf_total_strikes_landed_avg',u'opponent_inf_total_strikes_attempts_avg',u'opponent_inf_head_strikes_landed_avg',u'opponent_inf_head_strikes_attempts_avg',u'opponent_inf_body_strikes_landed_avg',u'opponent_inf_body_strikes_attempts_avg',u'opponent_inf_leg_strikes_landed_avg',u'opponent_inf_leg_strikes_attempts_avg',u'opponent_inf_distance_strikes_landed_avg',u'opponent_inf_distance_strikes_attempts_avg',u'opponent_inf_clinch_strikes_landed_avg',u'opponent_inf_clinch_strikes_attempts_avg',u'opponent_inf_ground_strikes_landed_avg',u'opponent_inf_ground_strikes_attempts_avg',u'opponent_abs_knockdowns_avg',u'opponent_abs_pass_avg',u'opponent_abs_reversals_avg',u'opponent_abs_sub_attempts_avg',u'opponent_abs_takedowns_landed_avg',u'opponent_abs_takedowns_attempts_avg',u'opponent_abs_sig_strikes_landed_avg',u'opponent_abs_sig_strikes_attempts_avg',u'opponent_abs_total_strikes_landed_avg',u'opponent_abs_total_strikes_attempts_avg',u'opponent_abs_head_strikes_landed_avg',u'opponent_abs_head_strikes_attempts_avg',u'opponent_abs_body_strikes_landed_avg',u'opponent_abs_body_strikes_attempts_avg',u'opponent_abs_leg_strikes_landed_avg',u'opponent_abs_leg_strikes_attempts_avg',u'opponent_abs_distance_strikes_landed_avg',u'opponent_abs_distance_strikes_attempts_avg',u'opponent_abs_clinch_strikes_landed_avg',u'opponent_abs_clinch_strikes_attempts_avg',u'opponent_abs_ground_strikes_landed_avg',u'opponent_abs_ground_strikes_attempts_avg']\n",
    "\n",
    "#here is the version of punch stats geared for comparing fighter_inf to opponent_abs\n",
    "\n",
    "fight_math_stats=['4-fighter_score_diff','9-fighter_score_diff','15-fighter_score_diff','1-fight_math','6-fight_math',]\n",
    "\n",
    "#adding record differences to ufc_fights\n",
    "record_statistics_diff = []\n",
    "half_length=int(len(record_statistics)/2)\n",
    "for i in range(half_length):\n",
    "    ufc_fights[record_statistics[i]+'_diff_2']=ufc_fights[record_statistics[i]]-ufc_fights[record_statistics[i+half_length]]\n",
    "    record_statistics_diff.append(record_statistics[i]+'_diff_2')\n",
    "    \n",
    "#lets try and improve the greedy algorithm by considering differences. Lets start by replacing height and reach by their differences\n",
    "ufc_fights['height_diff']=ufc_fights['fighter_height'].apply(float)-ufc_fights['opponent_height'].apply(float)\n",
    "ufc_fights['reach_diff']=ufc_fights['fighter_reach'].apply(float)-ufc_fights['opponent_reach'].apply(float)\n",
    "physical_stats_diff = [ 'fighter_age','opponent_age', 'height_diff', 'reach_diff']\n",
    "\n",
    "#adding punch differences to ufc_fights\n",
    "punch_statistics_diff = []\n",
    "half_length=int(len(punch_statistics)/2)\n",
    "for i in range(half_length):\n",
    "    ufc_fights[punch_statistics[i]+'_diff_2']=ufc_fights[punch_statistics[i]]-ufc_fights[punch_statistics[i+half_length]]\n",
    "    punch_statistics_diff.append(punch_statistics[i]+'_diff_2')\n",
    "    \n",
    "possible_stats =record_statistics_diff+physical_stats_diff+punch_statistics_diff+fight_math_stats\n",
    " \n",
    "ufc_fights['fighter_age'] = ufc_fights['fighter_age'].apply(float)\n",
    "ufc_fights['opponent_age'] = ufc_fights['opponent_age'].apply(float)"
   ]
  },
  {
   "cell_type": "code",
   "execution_count": 47,
   "id": "da69c8f8",
   "metadata": {},
   "outputs": [],
   "source": [
    "ufc_fights = ufc_fights.dropna(subset=possible_stats)"
   ]
  },
  {
   "cell_type": "code",
   "execution_count": 48,
   "id": "da1e409d",
   "metadata": {},
   "outputs": [],
   "source": [
    "# Create tensors to input into neural net\n",
    "Xr=ufc_fights[possible_stats]\n",
    "yr = ufc_fights['method'].to_numpy().reshape(-1,1)\n",
    "\n",
    "# Normalize Xr to have mean 0 and std 1\n",
    "Xr_mean = Xr.mean()\n",
    "Xr_std = Xr.std()\n",
    "Xr_normalized=(Xr-Xr_mean)/Xr_std\n",
    "\n",
    "# One-hot encode yr so \n",
    "ohe = OneHotEncoder(handle_unknown='ignore',sparse=False).fit(yr)\n",
    "yr_onehot = ohe.transform(yr)\n",
    "\n",
    "# convert pandas DataFrame (X) and numpy array (y) into PyTorch tensors\n",
    "Xr_normalized = torch.tensor(Xr_normalized.values, dtype=torch.float32)\n",
    "yr_onehot = torch.tensor(yr_onehot, dtype=torch.float32)"
   ]
  },
  {
   "cell_type": "code",
   "execution_count": 50,
   "id": "6a9657b7",
   "metadata": {},
   "outputs": [
    {
     "name": "stdout",
     "output_type": "stream",
     "text": [
      "label: 0 <-----> method:    DEC <-----> [1,0,0]\n",
      "label: 1 <-----> method: KO/TKO <-----> [0,1,0]\n",
      "label: 2 <-----> method:    SUB <-----> [0,0,1]\n"
     ]
    }
   ],
   "source": [
    "# shows which labels correspond to which methods\n",
    "method_0 = ohe.inverse_transform(np.array([[1,0,0]]))[0,0]\n",
    "method_1 = ohe.inverse_transform(np.array([[0,1,0]]))[0,0]\n",
    "method_2 = ohe.inverse_transform(np.array([[0,0,1]]))[0,0]\n",
    "print(f'label: 0 <-----> method:    {method_0} <-----> [1,0,0]')\n",
    "print(f'label: 1 <-----> method: {method_1} <-----> [0,1,0]')\n",
    "print(f'label: 2 <-----> method:    {method_2} <-----> [0,0,1]')"
   ]
  },
  {
   "cell_type": "code",
   "execution_count": 62,
   "id": "95370b56",
   "metadata": {},
   "outputs": [
    {
     "data": {
      "text/plain": [
       "(torch.Size([4572, 71]), torch.Size([4572, 3]))"
      ]
     },
     "execution_count": 62,
     "metadata": {},
     "output_type": "execute_result"
    }
   ],
   "source": [
    "Xr_normalized.shape, yr_onehot.shape"
   ]
  },
  {
   "cell_type": "code",
   "execution_count": 86,
   "id": "6c1385f5",
   "metadata": {},
   "outputs": [],
   "source": [
    "# Defining parameters\n",
    "lr_ = 0.00005                    # learning rate (default: 1e-3)\n",
    "betas_ = (0.9, 0.999)           # coefficients used for computing running averages of gradient and its square (default: (0.9, 0.999))\n",
    "eps_ = 1e-08                    # term added to the denominator to improve numerical stability (default: 1e-8)\n",
    "weight_decay_ = 0.01               # weight decay (L2 penalty) (default: 0)\n",
    "num_neurons_ = 80              # number of neurons in hidden layer (default: 100)"
   ]
  },
  {
   "cell_type": "code",
   "execution_count": 87,
   "id": "7ece3ee0",
   "metadata": {},
   "outputs": [],
   "source": [
    "# using https://machinelearningmastery.com/building-a-multiclass-classification-model-in-pytorch/\n",
    "# but trying to get logsoftmax to work\n",
    "class Multiclass(nn.Module):\n",
    "    def __init__(self, num_features, num_neurons, num_classes):\n",
    "        super().__init__()\n",
    "        self.hidden = nn.Linear(num_features, num_neurons)\n",
    "        self.relu = nn.ReLU()\n",
    "        self.output = nn.Linear(num_neurons, num_classes)\n",
    "        self.softmax = nn.LogSoftmax(dim = 1)\n",
    "        \n",
    "    def forward(self, x):\n",
    "        x = self.relu(self.hidden(x))\n",
    "        x = self.softmax(self.output(x))\n",
    "        return x\n",
    "    \n",
    "# defining the learning model\n",
    "model = Multiclass(Xr_normalized.shape[1], num_neurons_, yr_onehot.shape[1])\n",
    "\n",
    "# choosing NLLLoss since we are using LogSoftmax as our output activation\n",
    "#loss_fn = nn.CrossEntropyLoss()\n",
    "loss_fn = nn.NLLLoss()\n",
    "optimizer = optim.Adam(model.parameters(), lr=lr_, betas=betas_, eps=eps_, weight_decay=weight_decay_)"
   ]
  },
  {
   "cell_type": "code",
   "execution_count": 88,
   "id": "a06745fe",
   "metadata": {},
   "outputs": [
    {
     "data": {
      "text/plain": [
       "tensor([2, 1, 2,  ..., 0, 2, 1])"
      ]
     },
     "execution_count": 88,
     "metadata": {},
     "output_type": "execute_result"
    }
   ],
   "source": [
    "yr_labels = torch.argmax(yr_onehot, dim=1)\n",
    "yr_labels"
   ]
  },
  {
   "cell_type": "code",
   "execution_count": 89,
   "id": "6d70077d",
   "metadata": {},
   "outputs": [
    {
     "name": "stderr",
     "output_type": "stream",
     "text": [
      "Epoch 0: 100%|██████████| 12/12 [00:00<00:00, 196.73batch/s, acc=0.36, loss=1.1]  \n"
     ]
    },
    {
     "name": "stdout",
     "output_type": "stream",
     "text": [
      "Epoch 0 validation: negative log likelihood loss=1.1065177917480469, Accuracy=0.3338192403316498\n"
     ]
    },
    {
     "name": "stderr",
     "output_type": "stream",
     "text": [
      "Epoch 1: 100%|██████████| 12/12 [00:00<00:00, 169.02batch/s, acc=0.372, loss=1.09]\n"
     ]
    },
    {
     "name": "stdout",
     "output_type": "stream",
     "text": [
      "Epoch 1 validation: negative log likelihood loss=1.1025707721710205, Accuracy=0.3352769613265991\n"
     ]
    },
    {
     "name": "stderr",
     "output_type": "stream",
     "text": [
      "Epoch 2: 100%|██████████| 12/12 [00:00<00:00, 166.67batch/s, acc=0.368, loss=1.09]\n"
     ]
    },
    {
     "name": "stdout",
     "output_type": "stream",
     "text": [
      "Epoch 2 validation: negative log likelihood loss=1.0988601446151733, Accuracy=0.3469387888908386\n"
     ]
    },
    {
     "name": "stderr",
     "output_type": "stream",
     "text": [
      "Epoch 3: 100%|██████████| 12/12 [00:00<00:00, 176.48batch/s, acc=0.38, loss=1.08]\n"
     ]
    },
    {
     "name": "stdout",
     "output_type": "stream",
     "text": [
      "Epoch 3 validation: negative log likelihood loss=1.0953882932662964, Accuracy=0.36297374963760376\n"
     ]
    },
    {
     "name": "stderr",
     "output_type": "stream",
     "text": [
      "Epoch 4: 100%|██████████| 12/12 [00:00<00:00, 148.16batch/s, acc=0.384, loss=1.08]\n"
     ]
    },
    {
     "name": "stdout",
     "output_type": "stream",
     "text": [
      "Epoch 4 validation: negative log likelihood loss=1.0921392440795898, Accuracy=0.3760932981967926\n"
     ]
    },
    {
     "name": "stderr",
     "output_type": "stream",
     "text": [
      "Epoch 5: 100%|██████████| 12/12 [00:00<00:00, 166.67batch/s, acc=0.392, loss=1.08]\n"
     ]
    },
    {
     "name": "stdout",
     "output_type": "stream",
     "text": [
      "Epoch 5 validation: negative log likelihood loss=1.0890984535217285, Accuracy=0.37973761558532715\n"
     ]
    },
    {
     "name": "stderr",
     "output_type": "stream",
     "text": [
      "Epoch 6: 100%|██████████| 12/12 [00:00<00:00, 169.02batch/s, acc=0.424, loss=1.07]\n"
     ]
    },
    {
     "name": "stdout",
     "output_type": "stream",
     "text": [
      "Epoch 6 validation: negative log likelihood loss=1.0862563848495483, Accuracy=0.3884839713573456\n"
     ]
    },
    {
     "name": "stderr",
     "output_type": "stream",
     "text": [
      "Epoch 7: 100%|██████████| 12/12 [00:00<00:00, 171.44batch/s, acc=0.44, loss=1.07] \n"
     ]
    },
    {
     "name": "stdout",
     "output_type": "stream",
     "text": [
      "Epoch 7 validation: negative log likelihood loss=1.0836018323898315, Accuracy=0.39431485533714294\n"
     ]
    },
    {
     "name": "stderr",
     "output_type": "stream",
     "text": [
      "Epoch 8: 100%|██████████| 12/12 [00:00<00:00, 90.91batch/s, acc=0.452, loss=1.07] \n"
     ]
    },
    {
     "name": "stdout",
     "output_type": "stream",
     "text": [
      "Epoch 8 validation: negative log likelihood loss=1.0811192989349365, Accuracy=0.397230327129364\n"
     ]
    },
    {
     "name": "stderr",
     "output_type": "stream",
     "text": [
      "Epoch 9: 100%|██████████| 12/12 [00:00<00:00, 139.54batch/s, acc=0.48, loss=1.06] \n"
     ]
    },
    {
     "name": "stdout",
     "output_type": "stream",
     "text": [
      "Epoch 9 validation: negative log likelihood loss=1.0787979364395142, Accuracy=0.4052478075027466\n"
     ]
    },
    {
     "name": "stderr",
     "output_type": "stream",
     "text": [
      "Epoch 10: 100%|██████████| 12/12 [00:00<00:00, 171.43batch/s, acc=0.484, loss=1.06]\n"
     ]
    },
    {
     "name": "stdout",
     "output_type": "stream",
     "text": [
      "Epoch 10 validation: negative log likelihood loss=1.0766267776489258, Accuracy=0.4118075668811798\n"
     ]
    },
    {
     "name": "stderr",
     "output_type": "stream",
     "text": [
      "Epoch 11: 100%|██████████| 12/12 [00:00<00:00, 171.43batch/s, acc=0.484, loss=1.06]\n"
     ]
    },
    {
     "name": "stdout",
     "output_type": "stream",
     "text": [
      "Epoch 11 validation: negative log likelihood loss=1.0745974779129028, Accuracy=0.413994163274765\n"
     ]
    },
    {
     "name": "stderr",
     "output_type": "stream",
     "text": [
      "Epoch 12: 100%|██████████| 12/12 [00:00<00:00, 166.68batch/s, acc=0.476, loss=1.06]\n"
     ]
    },
    {
     "name": "stdout",
     "output_type": "stream",
     "text": [
      "Epoch 12 validation: negative log likelihood loss=1.072698950767517, Accuracy=0.42201167345046997\n"
     ]
    },
    {
     "name": "stderr",
     "output_type": "stream",
     "text": [
      "Epoch 13: 100%|██████████| 12/12 [00:00<00:00, 166.68batch/s, acc=0.484, loss=1.05]\n"
     ]
    },
    {
     "name": "stdout",
     "output_type": "stream",
     "text": [
      "Epoch 13 validation: negative log likelihood loss=1.070923089981079, Accuracy=0.4212827980518341\n"
     ]
    },
    {
     "name": "stderr",
     "output_type": "stream",
     "text": [
      "Epoch 14: 100%|██████████| 12/12 [00:00<00:00, 176.46batch/s, acc=0.5, loss=1.05]  \n"
     ]
    },
    {
     "name": "stdout",
     "output_type": "stream",
     "text": [
      "Epoch 14 validation: negative log likelihood loss=1.0692607164382935, Accuracy=0.41763848066329956\n"
     ]
    },
    {
     "name": "stderr",
     "output_type": "stream",
     "text": [
      "Epoch 15: 100%|██████████| 12/12 [00:00<00:00, 103.45batch/s, acc=0.492, loss=1.05]\n"
     ]
    },
    {
     "name": "stdout",
     "output_type": "stream",
     "text": [
      "Epoch 15 validation: negative log likelihood loss=1.067704200744629, Accuracy=0.4234693944454193\n"
     ]
    },
    {
     "name": "stderr",
     "output_type": "stream",
     "text": [
      "Epoch 16: 100%|██████████| 12/12 [00:00<00:00, 146.35batch/s, acc=0.484, loss=1.05]\n"
     ]
    },
    {
     "name": "stdout",
     "output_type": "stream",
     "text": [
      "Epoch 16 validation: negative log likelihood loss=1.0662449598312378, Accuracy=0.42711371183395386\n"
     ]
    },
    {
     "name": "stderr",
     "output_type": "stream",
     "text": [
      "Epoch 17: 100%|██████████| 12/12 [00:00<00:00, 157.91batch/s, acc=0.492, loss=1.05]\n"
     ]
    },
    {
     "name": "stdout",
     "output_type": "stream",
     "text": [
      "Epoch 17 validation: negative log likelihood loss=1.0648791790008545, Accuracy=0.4329445958137512\n"
     ]
    },
    {
     "name": "stderr",
     "output_type": "stream",
     "text": [
      "Epoch 18: 100%|██████████| 12/12 [00:00<00:00, 155.86batch/s, acc=0.488, loss=1.05]\n"
     ]
    },
    {
     "name": "stdout",
     "output_type": "stream",
     "text": [
      "Epoch 18 validation: negative log likelihood loss=1.063602089881897, Accuracy=0.43950438499450684\n"
     ]
    },
    {
     "name": "stderr",
     "output_type": "stream",
     "text": [
      "Epoch 19: 100%|██████████| 12/12 [00:00<00:00, 164.39batch/s, acc=0.492, loss=1.04]\n"
     ]
    },
    {
     "name": "stdout",
     "output_type": "stream",
     "text": [
      "Epoch 19 validation: negative log likelihood loss=1.0624048709869385, Accuracy=0.4453352689743042\n"
     ]
    },
    {
     "name": "stderr",
     "output_type": "stream",
     "text": [
      "Epoch 20: 100%|██████████| 12/12 [00:00<00:00, 153.85batch/s, acc=0.492, loss=1.04]\n"
     ]
    },
    {
     "name": "stdout",
     "output_type": "stream",
     "text": [
      "Epoch 20 validation: negative log likelihood loss=1.0612820386886597, Accuracy=0.4497084617614746\n"
     ]
    },
    {
     "name": "stderr",
     "output_type": "stream",
     "text": [
      "Epoch 21: 100%|██████████| 12/12 [00:00<00:00, 130.44batch/s, acc=0.472, loss=1.04]\n"
     ]
    },
    {
     "name": "stdout",
     "output_type": "stream",
     "text": [
      "Epoch 21 validation: negative log likelihood loss=1.0602302551269531, Accuracy=0.4518950581550598\n"
     ]
    },
    {
     "name": "stderr",
     "output_type": "stream",
     "text": [
      "Epoch 22: 100%|██████████| 12/12 [00:00<00:00, 155.86batch/s, acc=0.476, loss=1.04]\n"
     ]
    },
    {
     "name": "stdout",
     "output_type": "stream",
     "text": [
      "Epoch 22 validation: negative log likelihood loss=1.0592399835586548, Accuracy=0.4548105001449585\n"
     ]
    },
    {
     "name": "stderr",
     "output_type": "stream",
     "text": [
      "Epoch 23: 100%|██████████| 12/12 [00:00<00:00, 157.90batch/s, acc=0.488, loss=1.04]\n"
     ]
    },
    {
     "name": "stdout",
     "output_type": "stream",
     "text": [
      "Epoch 23 validation: negative log likelihood loss=1.05830979347229, Accuracy=0.45845481753349304\n"
     ]
    },
    {
     "name": "stderr",
     "output_type": "stream",
     "text": [
      "Epoch 24: 100%|██████████| 12/12 [00:00<00:00, 151.90batch/s, acc=0.5, loss=1.04]  \n"
     ]
    },
    {
     "name": "stdout",
     "output_type": "stream",
     "text": [
      "Epoch 24 validation: negative log likelihood loss=1.0574328899383545, Accuracy=0.4599125385284424\n"
     ]
    },
    {
     "name": "stderr",
     "output_type": "stream",
     "text": [
      "Epoch 25: 100%|██████████| 12/12 [00:00<00:00, 157.90batch/s, acc=0.5, loss=1.04]  \n"
     ]
    },
    {
     "name": "stdout",
     "output_type": "stream",
     "text": [
      "Epoch 25 validation: negative log likelihood loss=1.056604266166687, Accuracy=0.46064141392707825\n"
     ]
    },
    {
     "name": "stderr",
     "output_type": "stream",
     "text": [
      "Epoch 26: 100%|██████████| 12/12 [00:00<00:00, 81.63batch/s, acc=0.496, loss=1.04] \n"
     ]
    },
    {
     "name": "stdout",
     "output_type": "stream",
     "text": [
      "Epoch 26 validation: negative log likelihood loss=1.0558204650878906, Accuracy=0.46282798051834106\n"
     ]
    },
    {
     "name": "stderr",
     "output_type": "stream",
     "text": [
      "Epoch 27: 100%|██████████| 12/12 [00:00<00:00, 142.86batch/s, acc=0.5, loss=1.04]  \n"
     ]
    },
    {
     "name": "stdout",
     "output_type": "stream",
     "text": [
      "Epoch 27 validation: negative log likelihood loss=1.055080533027649, Accuracy=0.4613702595233917\n"
     ]
    },
    {
     "name": "stderr",
     "output_type": "stream",
     "text": [
      "Epoch 28: 100%|██████████| 12/12 [00:00<00:00, 148.16batch/s, acc=0.508, loss=1.03]\n"
     ]
    },
    {
     "name": "stdout",
     "output_type": "stream",
     "text": [
      "Epoch 28 validation: negative log likelihood loss=1.054381012916565, Accuracy=0.46282798051834106\n"
     ]
    },
    {
     "name": "stderr",
     "output_type": "stream",
     "text": [
      "Epoch 29: 100%|██████████| 12/12 [00:00<00:00, 153.85batch/s, acc=0.508, loss=1.03]\n"
     ]
    },
    {
     "name": "stdout",
     "output_type": "stream",
     "text": [
      "Epoch 29 validation: negative log likelihood loss=1.0537201166152954, Accuracy=0.4642857015132904\n"
     ]
    },
    {
     "name": "stderr",
     "output_type": "stream",
     "text": [
      "Epoch 30: 100%|██████████| 12/12 [00:00<00:00, 146.35batch/s, acc=0.508, loss=1.03]\n"
     ]
    },
    {
     "name": "stdout",
     "output_type": "stream",
     "text": [
      "Epoch 30 validation: negative log likelihood loss=1.0530952215194702, Accuracy=0.4686588943004608\n"
     ]
    },
    {
     "name": "stderr",
     "output_type": "stream",
     "text": [
      "Epoch 31: 100%|██████████| 12/12 [00:00<00:00, 151.90batch/s, acc=0.508, loss=1.03]\n"
     ]
    },
    {
     "name": "stdout",
     "output_type": "stream",
     "text": [
      "Epoch 31 validation: negative log likelihood loss=1.0525051355361938, Accuracy=0.4664722979068756\n"
     ]
    },
    {
     "name": "stderr",
     "output_type": "stream",
     "text": [
      "Epoch 32: 100%|██████████| 12/12 [00:00<00:00, 160.01batch/s, acc=0.508, loss=1.03]\n"
     ]
    },
    {
     "name": "stdout",
     "output_type": "stream",
     "text": [
      "Epoch 32 validation: negative log likelihood loss=1.0519455671310425, Accuracy=0.4664722979068756\n"
     ]
    },
    {
     "name": "stderr",
     "output_type": "stream",
     "text": [
      "Epoch 33: 100%|██████████| 12/12 [00:00<00:00, 153.85batch/s, acc=0.512, loss=1.03]\n"
     ]
    },
    {
     "name": "stdout",
     "output_type": "stream",
     "text": [
      "Epoch 33 validation: negative log likelihood loss=1.051412582397461, Accuracy=0.4693877696990967\n"
     ]
    },
    {
     "name": "stderr",
     "output_type": "stream",
     "text": [
      "Epoch 34: 100%|██████████| 12/12 [00:00<00:00, 151.91batch/s, acc=0.508, loss=1.03]\n"
     ]
    },
    {
     "name": "stdout",
     "output_type": "stream",
     "text": [
      "Epoch 34 validation: negative log likelihood loss=1.050907015800476, Accuracy=0.4686588943004608\n"
     ]
    },
    {
     "name": "stderr",
     "output_type": "stream",
     "text": [
      "Epoch 35: 100%|██████████| 12/12 [00:00<00:00, 139.54batch/s, acc=0.508, loss=1.03]\n"
     ]
    },
    {
     "name": "stdout",
     "output_type": "stream",
     "text": [
      "Epoch 35 validation: negative log likelihood loss=1.0504237413406372, Accuracy=0.47011661529541016\n"
     ]
    },
    {
     "name": "stderr",
     "output_type": "stream",
     "text": [
      "Epoch 36: 100%|██████████| 12/12 [00:00<00:00, 151.91batch/s, acc=0.512, loss=1.03]\n"
     ]
    },
    {
     "name": "stdout",
     "output_type": "stream",
     "text": [
      "Epoch 36 validation: negative log likelihood loss=1.049963355064392, Accuracy=0.470845490694046\n"
     ]
    },
    {
     "name": "stderr",
     "output_type": "stream",
     "text": [
      "Epoch 37: 100%|██████████| 12/12 [00:00<00:00, 146.35batch/s, acc=0.512, loss=1.03]\n"
     ]
    },
    {
     "name": "stdout",
     "output_type": "stream",
     "text": [
      "Epoch 37 validation: negative log likelihood loss=1.0495245456695557, Accuracy=0.47011661529541016\n"
     ]
    },
    {
     "name": "stderr",
     "output_type": "stream",
     "text": [
      "Epoch 38: 100%|██████████| 12/12 [00:00<00:00, 146.34batch/s, acc=0.5, loss=1.03]  \n"
     ]
    },
    {
     "name": "stdout",
     "output_type": "stream",
     "text": [
      "Epoch 38 validation: negative log likelihood loss=1.0491039752960205, Accuracy=0.47303205728530884\n"
     ]
    },
    {
     "name": "stderr",
     "output_type": "stream",
     "text": [
      "Epoch 39: 100%|██████████| 12/12 [00:00<00:00, 144.58batch/s, acc=0.5, loss=1.03]  \n"
     ]
    },
    {
     "name": "stdout",
     "output_type": "stream",
     "text": [
      "Epoch 39 validation: negative log likelihood loss=1.0487027168273926, Accuracy=0.470845490694046\n"
     ]
    },
    {
     "name": "stderr",
     "output_type": "stream",
     "text": [
      "Epoch 40: 100%|██████████| 12/12 [00:00<00:00, 141.18batch/s, acc=0.496, loss=1.03]\n"
     ]
    },
    {
     "name": "stdout",
     "output_type": "stream",
     "text": [
      "Epoch 40 validation: negative log likelihood loss=1.0483161211013794, Accuracy=0.4737609326839447\n"
     ]
    },
    {
     "name": "stderr",
     "output_type": "stream",
     "text": [
      "Epoch 41: 100%|██████████| 12/12 [00:00<00:00, 133.34batch/s, acc=0.504, loss=1.03]\n"
     ]
    },
    {
     "name": "stdout",
     "output_type": "stream",
     "text": [
      "Epoch 41 validation: negative log likelihood loss=1.0479457378387451, Accuracy=0.4737609326839447\n"
     ]
    },
    {
     "name": "stderr",
     "output_type": "stream",
     "text": [
      "Epoch 42: 100%|██████████| 12/12 [00:00<00:00, 101.70batch/s, acc=0.504, loss=1.03]\n"
     ]
    },
    {
     "name": "stdout",
     "output_type": "stream",
     "text": [
      "Epoch 42 validation: negative log likelihood loss=1.0475940704345703, Accuracy=0.4737609326839447\n"
     ]
    },
    {
     "name": "stderr",
     "output_type": "stream",
     "text": [
      "Epoch 43: 100%|██████████| 12/12 [00:00<00:00, 122.46batch/s, acc=0.5, loss=1.03]  \n"
     ]
    },
    {
     "name": "stdout",
     "output_type": "stream",
     "text": [
      "Epoch 43 validation: negative log likelihood loss=1.047257900238037, Accuracy=0.47303205728530884\n"
     ]
    },
    {
     "name": "stderr",
     "output_type": "stream",
     "text": [
      "Epoch 44: 100%|██████████| 12/12 [00:00<00:00, 133.34batch/s, acc=0.5, loss=1.03]  \n"
     ]
    },
    {
     "name": "stdout",
     "output_type": "stream",
     "text": [
      "Epoch 44 validation: negative log likelihood loss=1.0469366312026978, Accuracy=0.4737609326839447\n"
     ]
    },
    {
     "name": "stderr",
     "output_type": "stream",
     "text": [
      "Epoch 45: 100%|██████████| 12/12 [00:00<00:00, 144.58batch/s, acc=0.5, loss=1.02] \n"
     ]
    },
    {
     "name": "stdout",
     "output_type": "stream",
     "text": [
      "Epoch 45 validation: negative log likelihood loss=1.0466289520263672, Accuracy=0.47521865367889404\n"
     ]
    },
    {
     "name": "stderr",
     "output_type": "stream",
     "text": [
      "Epoch 46: 100%|██████████| 12/12 [00:00<00:00, 146.35batch/s, acc=0.5, loss=1.02]  \n"
     ]
    },
    {
     "name": "stdout",
     "output_type": "stream",
     "text": [
      "Epoch 46 validation: negative log likelihood loss=1.046331763267517, Accuracy=0.47521865367889404\n"
     ]
    },
    {
     "name": "stderr",
     "output_type": "stream",
     "text": [
      "Epoch 47: 100%|██████████| 12/12 [00:00<00:00, 139.54batch/s, acc=0.496, loss=1.02]\n"
     ]
    },
    {
     "name": "stdout",
     "output_type": "stream",
     "text": [
      "Epoch 47 validation: negative log likelihood loss=1.046046257019043, Accuracy=0.4759475290775299\n"
     ]
    },
    {
     "name": "stderr",
     "output_type": "stream",
     "text": [
      "Epoch 48: 100%|██████████| 12/12 [00:00<00:00, 141.19batch/s, acc=0.5, loss=1.02] \n"
     ]
    },
    {
     "name": "stdout",
     "output_type": "stream",
     "text": [
      "Epoch 48 validation: negative log likelihood loss=1.0457713603973389, Accuracy=0.4759475290775299\n"
     ]
    },
    {
     "name": "stderr",
     "output_type": "stream",
     "text": [
      "Epoch 49: 100%|██████████| 12/12 [00:00<00:00, 129.04batch/s, acc=0.5, loss=1.02] \n"
     ]
    },
    {
     "name": "stdout",
     "output_type": "stream",
     "text": [
      "Epoch 49 validation: negative log likelihood loss=1.045501708984375, Accuracy=0.4766763746738434\n"
     ]
    },
    {
     "name": "stderr",
     "output_type": "stream",
     "text": [
      "Epoch 50: 100%|██████████| 12/12 [00:00<00:00, 136.37batch/s, acc=0.5, loss=1.02] \n"
     ]
    },
    {
     "name": "stdout",
     "output_type": "stream",
     "text": [
      "Epoch 50 validation: negative log likelihood loss=1.0452395677566528, Accuracy=0.4766763746738434\n"
     ]
    },
    {
     "name": "stderr",
     "output_type": "stream",
     "text": [
      "Epoch 51: 100%|██████████| 12/12 [00:00<00:00, 142.86batch/s, acc=0.504, loss=1.02]\n"
     ]
    },
    {
     "name": "stdout",
     "output_type": "stream",
     "text": [
      "Epoch 51 validation: negative log likelihood loss=1.0449883937835693, Accuracy=0.47740525007247925\n"
     ]
    },
    {
     "name": "stderr",
     "output_type": "stream",
     "text": [
      "Epoch 52: 100%|██████████| 12/12 [00:00<00:00, 125.00batch/s, acc=0.508, loss=1.02]\n"
     ]
    },
    {
     "name": "stdout",
     "output_type": "stream",
     "text": [
      "Epoch 52 validation: negative log likelihood loss=1.04474675655365, Accuracy=0.4781341254711151\n"
     ]
    },
    {
     "name": "stderr",
     "output_type": "stream",
     "text": [
      "Epoch 53: 100%|██████████| 12/12 [00:00<00:00, 134.83batch/s, acc=0.508, loss=1.02]\n"
     ]
    },
    {
     "name": "stdout",
     "output_type": "stream",
     "text": [
      "Epoch 53 validation: negative log likelihood loss=1.0445129871368408, Accuracy=0.47740525007247925\n"
     ]
    },
    {
     "name": "stderr",
     "output_type": "stream",
     "text": [
      "Epoch 54: 100%|██████████| 12/12 [00:00<00:00, 139.54batch/s, acc=0.508, loss=1.02]\n"
     ]
    },
    {
     "name": "stdout",
     "output_type": "stream",
     "text": [
      "Epoch 54 validation: negative log likelihood loss=1.0442856550216675, Accuracy=0.47740525007247925\n"
     ]
    },
    {
     "name": "stderr",
     "output_type": "stream",
     "text": [
      "Epoch 55: 100%|██████████| 12/12 [00:00<00:00, 134.83batch/s, acc=0.508, loss=1.02]\n"
     ]
    },
    {
     "name": "stdout",
     "output_type": "stream",
     "text": [
      "Epoch 55 validation: negative log likelihood loss=1.0440669059753418, Accuracy=0.47959184646606445\n"
     ]
    },
    {
     "name": "stderr",
     "output_type": "stream",
     "text": [
      "Epoch 56: 100%|██████████| 12/12 [00:00<00:00, 136.37batch/s, acc=0.508, loss=1.02]\n"
     ]
    },
    {
     "name": "stdout",
     "output_type": "stream",
     "text": [
      "Epoch 56 validation: negative log likelihood loss=1.0438557863235474, Accuracy=0.48032069206237793\n"
     ]
    },
    {
     "name": "stderr",
     "output_type": "stream",
     "text": [
      "Epoch 57: 100%|██████████| 12/12 [00:00<00:00, 141.19batch/s, acc=0.508, loss=1.02]\n"
     ]
    },
    {
     "name": "stdout",
     "output_type": "stream",
     "text": [
      "Epoch 57 validation: negative log likelihood loss=1.0436480045318604, Accuracy=0.4810495674610138\n"
     ]
    },
    {
     "name": "stderr",
     "output_type": "stream",
     "text": [
      "Epoch 58: 100%|██████████| 12/12 [00:00<00:00, 136.37batch/s, acc=0.508, loss=1.02]\n"
     ]
    },
    {
     "name": "stdout",
     "output_type": "stream",
     "text": [
      "Epoch 58 validation: negative log likelihood loss=1.043447494506836, Accuracy=0.4788629710674286\n"
     ]
    },
    {
     "name": "stderr",
     "output_type": "stream",
     "text": [
      "Epoch 59: 100%|██████████| 12/12 [00:00<00:00, 137.94batch/s, acc=0.508, loss=1.02]\n"
     ]
    },
    {
     "name": "stdout",
     "output_type": "stream",
     "text": [
      "Epoch 59 validation: negative log likelihood loss=1.0432528257369995, Accuracy=0.4781341254711151\n"
     ]
    },
    {
     "name": "stderr",
     "output_type": "stream",
     "text": [
      "Epoch 60: 100%|██████████| 12/12 [00:00<00:00, 136.37batch/s, acc=0.504, loss=1.02]\n"
     ]
    },
    {
     "name": "stdout",
     "output_type": "stream",
     "text": [
      "Epoch 60 validation: negative log likelihood loss=1.0430635213851929, Accuracy=0.4781341254711151\n"
     ]
    },
    {
     "name": "stderr",
     "output_type": "stream",
     "text": [
      "Epoch 61: 100%|██████████| 12/12 [00:00<00:00, 142.86batch/s, acc=0.5, loss=1.02]   \n"
     ]
    },
    {
     "name": "stdout",
     "output_type": "stream",
     "text": [
      "Epoch 61 validation: negative log likelihood loss=1.0428816080093384, Accuracy=0.47740525007247925\n"
     ]
    },
    {
     "name": "stderr",
     "output_type": "stream",
     "text": [
      "Epoch 62: 100%|██████████| 12/12 [00:00<00:00, 74.08batch/s, acc=0.504, loss=1.02] \n"
     ]
    },
    {
     "name": "stdout",
     "output_type": "stream",
     "text": [
      "Epoch 62 validation: negative log likelihood loss=1.042704463005066, Accuracy=0.47740525007247925\n"
     ]
    },
    {
     "name": "stderr",
     "output_type": "stream",
     "text": [
      "Epoch 63: 100%|██████████| 12/12 [00:00<00:00, 126.32batch/s, acc=0.504, loss=1.02] \n"
     ]
    },
    {
     "name": "stdout",
     "output_type": "stream",
     "text": [
      "Epoch 63 validation: negative log likelihood loss=1.0425305366516113, Accuracy=0.4781341254711151\n"
     ]
    },
    {
     "name": "stderr",
     "output_type": "stream",
     "text": [
      "Epoch 64: 100%|██████████| 12/12 [00:00<00:00, 130.44batch/s, acc=0.504, loss=1.02] \n"
     ]
    },
    {
     "name": "stdout",
     "output_type": "stream",
     "text": [
      "Epoch 64 validation: negative log likelihood loss=1.0423628091812134, Accuracy=0.4788629710674286\n"
     ]
    },
    {
     "name": "stderr",
     "output_type": "stream",
     "text": [
      "Epoch 65: 100%|██████████| 12/12 [00:00<00:00, 130.44batch/s, acc=0.504, loss=1.02] \n"
     ]
    },
    {
     "name": "stdout",
     "output_type": "stream",
     "text": [
      "Epoch 65 validation: negative log likelihood loss=1.042197585105896, Accuracy=0.4781341254711151\n"
     ]
    },
    {
     "name": "stderr",
     "output_type": "stream",
     "text": [
      "Epoch 66: 100%|██████████| 12/12 [00:00<00:00, 123.72batch/s, acc=0.504, loss=1.02] \n"
     ]
    },
    {
     "name": "stdout",
     "output_type": "stream",
     "text": [
      "Epoch 66 validation: negative log likelihood loss=1.0420368909835815, Accuracy=0.4781341254711151\n"
     ]
    },
    {
     "name": "stderr",
     "output_type": "stream",
     "text": [
      "Epoch 67: 100%|██████████| 12/12 [00:00<00:00, 134.83batch/s, acc=0.504, loss=1.02] \n"
     ]
    },
    {
     "name": "stdout",
     "output_type": "stream",
     "text": [
      "Epoch 67 validation: negative log likelihood loss=1.041883111000061, Accuracy=0.4781341254711151\n"
     ]
    },
    {
     "name": "stderr",
     "output_type": "stream",
     "text": [
      "Epoch 68: 100%|██████████| 12/12 [00:00<00:00, 129.03batch/s, acc=0.504, loss=1.02] \n"
     ]
    },
    {
     "name": "stdout",
     "output_type": "stream",
     "text": [
      "Epoch 68 validation: negative log likelihood loss=1.041733980178833, Accuracy=0.47740525007247925\n"
     ]
    },
    {
     "name": "stderr",
     "output_type": "stream",
     "text": [
      "Epoch 69: 100%|██████████| 12/12 [00:00<00:00, 134.84batch/s, acc=0.504, loss=1.02] \n"
     ]
    },
    {
     "name": "stdout",
     "output_type": "stream",
     "text": [
      "Epoch 69 validation: negative log likelihood loss=1.041589379310608, Accuracy=0.47740525007247925\n"
     ]
    },
    {
     "name": "stderr",
     "output_type": "stream",
     "text": [
      "Epoch 70: 100%|██████████| 12/12 [00:00<00:00, 134.83batch/s, acc=0.504, loss=1.02] \n"
     ]
    },
    {
     "name": "stdout",
     "output_type": "stream",
     "text": [
      "Epoch 70 validation: negative log likelihood loss=1.0414464473724365, Accuracy=0.47740525007247925\n"
     ]
    },
    {
     "name": "stderr",
     "output_type": "stream",
     "text": [
      "Epoch 71: 100%|██████████| 12/12 [00:00<00:00, 139.55batch/s, acc=0.504, loss=1.02] \n"
     ]
    },
    {
     "name": "stdout",
     "output_type": "stream",
     "text": [
      "Epoch 71 validation: negative log likelihood loss=1.041308045387268, Accuracy=0.47740525007247925\n"
     ]
    },
    {
     "name": "stderr",
     "output_type": "stream",
     "text": [
      "Epoch 72: 100%|██████████| 12/12 [00:00<00:00, 130.44batch/s, acc=0.504, loss=1.02] \n"
     ]
    },
    {
     "name": "stdout",
     "output_type": "stream",
     "text": [
      "Epoch 72 validation: negative log likelihood loss=1.041174054145813, Accuracy=0.47740525007247925\n"
     ]
    },
    {
     "name": "stderr",
     "output_type": "stream",
     "text": [
      "Epoch 73: 100%|██████████| 12/12 [00:00<00:00, 130.44batch/s, acc=0.504, loss=1.02] \n"
     ]
    },
    {
     "name": "stdout",
     "output_type": "stream",
     "text": [
      "Epoch 73 validation: negative log likelihood loss=1.0410430431365967, Accuracy=0.47740525007247925\n"
     ]
    },
    {
     "name": "stderr",
     "output_type": "stream",
     "text": [
      "Epoch 74: 100%|██████████| 12/12 [00:00<00:00, 148.15batch/s, acc=0.504, loss=1.02] \n"
     ]
    },
    {
     "name": "stdout",
     "output_type": "stream",
     "text": [
      "Epoch 74 validation: negative log likelihood loss=1.0409154891967773, Accuracy=0.4766763746738434\n"
     ]
    },
    {
     "name": "stderr",
     "output_type": "stream",
     "text": [
      "Epoch 75: 100%|██████████| 12/12 [00:00<00:00, 130.44batch/s, acc=0.504, loss=1.02] \n"
     ]
    },
    {
     "name": "stdout",
     "output_type": "stream",
     "text": [
      "Epoch 75 validation: negative log likelihood loss=1.0407897233963013, Accuracy=0.4766763746738434\n"
     ]
    },
    {
     "name": "stderr",
     "output_type": "stream",
     "text": [
      "Epoch 76: 100%|██████████| 12/12 [00:00<00:00, 134.84batch/s, acc=0.504, loss=1.02] \n"
     ]
    },
    {
     "name": "stdout",
     "output_type": "stream",
     "text": [
      "Epoch 76 validation: negative log likelihood loss=1.0406653881072998, Accuracy=0.4766763746738434\n"
     ]
    },
    {
     "name": "stderr",
     "output_type": "stream",
     "text": [
      "Epoch 77: 100%|██████████| 12/12 [00:00<00:00, 141.18batch/s, acc=0.504, loss=1.01] \n"
     ]
    },
    {
     "name": "stdout",
     "output_type": "stream",
     "text": [
      "Epoch 77 validation: negative log likelihood loss=1.0405447483062744, Accuracy=0.4766763746738434\n"
     ]
    },
    {
     "name": "stderr",
     "output_type": "stream",
     "text": [
      "Epoch 78: 100%|██████████| 12/12 [00:00<00:00, 141.19batch/s, acc=0.504, loss=1.01] \n"
     ]
    },
    {
     "name": "stdout",
     "output_type": "stream",
     "text": [
      "Epoch 78 validation: negative log likelihood loss=1.0404267311096191, Accuracy=0.47740525007247925\n"
     ]
    },
    {
     "name": "stderr",
     "output_type": "stream",
     "text": [
      "Epoch 79: 100%|██████████| 12/12 [00:00<00:00, 134.84batch/s, acc=0.512, loss=1.01] \n"
     ]
    },
    {
     "name": "stdout",
     "output_type": "stream",
     "text": [
      "Epoch 79 validation: negative log likelihood loss=1.0403108596801758, Accuracy=0.4781341254711151\n"
     ]
    },
    {
     "name": "stderr",
     "output_type": "stream",
     "text": [
      "Epoch 80: 100%|██████████| 12/12 [00:00<00:00, 134.84batch/s, acc=0.512, loss=1.01] \n"
     ]
    },
    {
     "name": "stdout",
     "output_type": "stream",
     "text": [
      "Epoch 80 validation: negative log likelihood loss=1.0401973724365234, Accuracy=0.4781341254711151\n"
     ]
    },
    {
     "name": "stderr",
     "output_type": "stream",
     "text": [
      "Epoch 81: 100%|██████████| 12/12 [00:00<00:00, 117.65batch/s, acc=0.512, loss=1.01]\n"
     ]
    },
    {
     "name": "stdout",
     "output_type": "stream",
     "text": [
      "Epoch 81 validation: negative log likelihood loss=1.0400856733322144, Accuracy=0.4781341254711151\n"
     ]
    },
    {
     "name": "stderr",
     "output_type": "stream",
     "text": [
      "Epoch 82: 100%|██████████| 12/12 [00:00<00:00, 131.87batch/s, acc=0.512, loss=1.01]\n"
     ]
    },
    {
     "name": "stdout",
     "output_type": "stream",
     "text": [
      "Epoch 82 validation: negative log likelihood loss=1.0399757623672485, Accuracy=0.4781341254711151\n"
     ]
    },
    {
     "name": "stderr",
     "output_type": "stream",
     "text": [
      "Epoch 83: 100%|██████████| 12/12 [00:00<00:00, 141.18batch/s, acc=0.512, loss=1.01] \n"
     ]
    },
    {
     "name": "stdout",
     "output_type": "stream",
     "text": [
      "Epoch 83 validation: negative log likelihood loss=1.039867639541626, Accuracy=0.4781341254711151\n"
     ]
    },
    {
     "name": "stderr",
     "output_type": "stream",
     "text": [
      "Epoch 84: 100%|██████████| 12/12 [00:00<00:00, 134.84batch/s, acc=0.512, loss=1.01] \n"
     ]
    },
    {
     "name": "stdout",
     "output_type": "stream",
     "text": [
      "Epoch 84 validation: negative log likelihood loss=1.0397621393203735, Accuracy=0.4781341254711151\n"
     ]
    },
    {
     "name": "stderr",
     "output_type": "stream",
     "text": [
      "Epoch 85: 100%|██████████| 12/12 [00:00<00:00, 134.83batch/s, acc=0.512, loss=1.01] \n"
     ]
    },
    {
     "name": "stdout",
     "output_type": "stream",
     "text": [
      "Epoch 85 validation: negative log likelihood loss=1.039658784866333, Accuracy=0.47740525007247925\n"
     ]
    },
    {
     "name": "stderr",
     "output_type": "stream",
     "text": [
      "Epoch 86: 100%|██████████| 12/12 [00:00<00:00, 67.80batch/s, acc=0.512, loss=1.01] \n"
     ]
    },
    {
     "name": "stdout",
     "output_type": "stream",
     "text": [
      "Epoch 86 validation: negative log likelihood loss=1.0395580530166626, Accuracy=0.47740525007247925\n"
     ]
    },
    {
     "name": "stderr",
     "output_type": "stream",
     "text": [
      "Epoch 87: 100%|██████████| 12/12 [00:00<00:00, 118.81batch/s, acc=0.512, loss=1.01] \n"
     ]
    },
    {
     "name": "stdout",
     "output_type": "stream",
     "text": [
      "Epoch 87 validation: negative log likelihood loss=1.0394580364227295, Accuracy=0.47740525007247925\n"
     ]
    },
    {
     "name": "stderr",
     "output_type": "stream",
     "text": [
      "Epoch 88: 100%|██████████| 12/12 [00:00<00:00, 131.87batch/s, acc=0.512, loss=1.01] \n"
     ]
    },
    {
     "name": "stdout",
     "output_type": "stream",
     "text": [
      "Epoch 88 validation: negative log likelihood loss=1.0393627882003784, Accuracy=0.4766763746738434\n"
     ]
    },
    {
     "name": "stderr",
     "output_type": "stream",
     "text": [
      "Epoch 89: 100%|██████████| 12/12 [00:00<00:00, 141.19batch/s, acc=0.512, loss=1.01] \n"
     ]
    },
    {
     "name": "stdout",
     "output_type": "stream",
     "text": [
      "Epoch 89 validation: negative log likelihood loss=1.0392675399780273, Accuracy=0.4766763746738434\n"
     ]
    },
    {
     "name": "stderr",
     "output_type": "stream",
     "text": [
      "Epoch 90: 100%|██████████| 12/12 [00:00<00:00, 131.87batch/s, acc=0.512, loss=1.01] \n"
     ]
    },
    {
     "name": "stdout",
     "output_type": "stream",
     "text": [
      "Epoch 90 validation: negative log likelihood loss=1.0391730070114136, Accuracy=0.4759475290775299\n"
     ]
    },
    {
     "name": "stderr",
     "output_type": "stream",
     "text": [
      "Epoch 91: 100%|██████████| 12/12 [00:00<00:00, 134.83batch/s, acc=0.512, loss=1.01] \n"
     ]
    },
    {
     "name": "stdout",
     "output_type": "stream",
     "text": [
      "Epoch 91 validation: negative log likelihood loss=1.0390793085098267, Accuracy=0.4759475290775299\n"
     ]
    },
    {
     "name": "stderr",
     "output_type": "stream",
     "text": [
      "Epoch 92: 100%|██████████| 12/12 [00:00<00:00, 134.84batch/s, acc=0.512, loss=1.01] \n"
     ]
    },
    {
     "name": "stdout",
     "output_type": "stream",
     "text": [
      "Epoch 92 validation: negative log likelihood loss=1.0389834642410278, Accuracy=0.4766763746738434\n"
     ]
    },
    {
     "name": "stderr",
     "output_type": "stream",
     "text": [
      "Epoch 93: 100%|██████████| 12/12 [00:00<00:00, 133.34batch/s, acc=0.512, loss=1.01] \n"
     ]
    },
    {
     "name": "stdout",
     "output_type": "stream",
     "text": [
      "Epoch 93 validation: negative log likelihood loss=1.0388925075531006, Accuracy=0.4766763746738434\n"
     ]
    },
    {
     "name": "stderr",
     "output_type": "stream",
     "text": [
      "Epoch 94: 100%|██████████| 12/12 [00:00<00:00, 131.88batch/s, acc=0.508, loss=1.01] \n"
     ]
    },
    {
     "name": "stdout",
     "output_type": "stream",
     "text": [
      "Epoch 94 validation: negative log likelihood loss=1.0388072729110718, Accuracy=0.4766763746738434\n"
     ]
    },
    {
     "name": "stderr",
     "output_type": "stream",
     "text": [
      "Epoch 95: 100%|██████████| 12/12 [00:00<00:00, 133.33batch/s, acc=0.504, loss=1.01] \n"
     ]
    },
    {
     "name": "stdout",
     "output_type": "stream",
     "text": [
      "Epoch 95 validation: negative log likelihood loss=1.0387259721755981, Accuracy=0.4766763746738434\n"
     ]
    },
    {
     "name": "stderr",
     "output_type": "stream",
     "text": [
      "Epoch 96: 100%|██████████| 12/12 [00:00<00:00, 131.87batch/s, acc=0.504, loss=1.01] \n"
     ]
    },
    {
     "name": "stdout",
     "output_type": "stream",
     "text": [
      "Epoch 96 validation: negative log likelihood loss=1.0386474132537842, Accuracy=0.4759475290775299\n"
     ]
    },
    {
     "name": "stderr",
     "output_type": "stream",
     "text": [
      "Epoch 97: 100%|██████████| 12/12 [00:00<00:00, 118.82batch/s, acc=0.504, loss=1.01] \n"
     ]
    },
    {
     "name": "stdout",
     "output_type": "stream",
     "text": [
      "Epoch 97 validation: negative log likelihood loss=1.0385698080062866, Accuracy=0.4759475290775299\n"
     ]
    },
    {
     "name": "stderr",
     "output_type": "stream",
     "text": [
      "Epoch 98: 100%|██████████| 12/12 [00:00<00:00, 133.34batch/s, acc=0.504, loss=1.01] \n"
     ]
    },
    {
     "name": "stdout",
     "output_type": "stream",
     "text": [
      "Epoch 98 validation: negative log likelihood loss=1.038492202758789, Accuracy=0.4759475290775299\n"
     ]
    },
    {
     "name": "stderr",
     "output_type": "stream",
     "text": [
      "Epoch 99: 100%|██████████| 12/12 [00:00<00:00, 136.36batch/s, acc=0.504, loss=1.01] \n"
     ]
    },
    {
     "name": "stdout",
     "output_type": "stream",
     "text": [
      "Epoch 99 validation: negative log likelihood loss=1.0384169816970825, Accuracy=0.4759475290775299\n"
     ]
    },
    {
     "name": "stderr",
     "output_type": "stream",
     "text": [
      "Epoch 100: 100%|██████████| 12/12 [00:00<00:00, 130.44batch/s, acc=0.504, loss=1.01]\n"
     ]
    },
    {
     "name": "stdout",
     "output_type": "stream",
     "text": [
      "Epoch 100 validation: negative log likelihood loss=1.0383429527282715, Accuracy=0.4759475290775299\n"
     ]
    },
    {
     "name": "stderr",
     "output_type": "stream",
     "text": [
      "Epoch 101: 100%|██████████| 12/12 [00:00<00:00, 141.18batch/s, acc=0.504, loss=1.01]\n"
     ]
    },
    {
     "name": "stdout",
     "output_type": "stream",
     "text": [
      "Epoch 101 validation: negative log likelihood loss=1.038273811340332, Accuracy=0.4759475290775299\n"
     ]
    },
    {
     "name": "stderr",
     "output_type": "stream",
     "text": [
      "Epoch 102: 100%|██████████| 12/12 [00:00<00:00, 137.94batch/s, acc=0.504, loss=1.01] \n"
     ]
    },
    {
     "name": "stdout",
     "output_type": "stream",
     "text": [
      "Epoch 102 validation: negative log likelihood loss=1.038205862045288, Accuracy=0.4766763746738434\n"
     ]
    },
    {
     "name": "stderr",
     "output_type": "stream",
     "text": [
      "Epoch 103: 100%|██████████| 12/12 [00:00<00:00, 129.04batch/s, acc=0.508, loss=1.01] \n"
     ]
    },
    {
     "name": "stdout",
     "output_type": "stream",
     "text": [
      "Epoch 103 validation: negative log likelihood loss=1.0381369590759277, Accuracy=0.47740525007247925\n"
     ]
    },
    {
     "name": "stderr",
     "output_type": "stream",
     "text": [
      "Epoch 104: 100%|██████████| 12/12 [00:00<00:00, 134.84batch/s, acc=0.508, loss=1.01] \n"
     ]
    },
    {
     "name": "stdout",
     "output_type": "stream",
     "text": [
      "Epoch 104 validation: negative log likelihood loss=1.0380722284317017, Accuracy=0.47740525007247925\n"
     ]
    },
    {
     "name": "stderr",
     "output_type": "stream",
     "text": [
      "Epoch 105: 100%|██████████| 12/12 [00:00<00:00, 139.54batch/s, acc=0.508, loss=1.01] \n"
     ]
    },
    {
     "name": "stdout",
     "output_type": "stream",
     "text": [
      "Epoch 105 validation: negative log likelihood loss=1.038008213043213, Accuracy=0.47740525007247925\n"
     ]
    },
    {
     "name": "stderr",
     "output_type": "stream",
     "text": [
      "Epoch 106: 100%|██████████| 12/12 [00:00<00:00, 133.33batch/s, acc=0.508, loss=1.01] \n"
     ]
    },
    {
     "name": "stdout",
     "output_type": "stream",
     "text": [
      "Epoch 106 validation: negative log likelihood loss=1.0379427671432495, Accuracy=0.47740525007247925\n"
     ]
    },
    {
     "name": "stderr",
     "output_type": "stream",
     "text": [
      "Epoch 107: 100%|██████████| 12/12 [00:00<00:00, 137.94batch/s, acc=0.508, loss=1.01] \n"
     ]
    },
    {
     "name": "stdout",
     "output_type": "stream",
     "text": [
      "Epoch 107 validation: negative log likelihood loss=1.037880301475525, Accuracy=0.47740525007247925\n"
     ]
    },
    {
     "name": "stderr",
     "output_type": "stream",
     "text": [
      "Epoch 108: 100%|██████████| 12/12 [00:00<00:00, 139.54batch/s, acc=0.504, loss=1.01] \n"
     ]
    },
    {
     "name": "stdout",
     "output_type": "stream",
     "text": [
      "Epoch 108 validation: negative log likelihood loss=1.0378187894821167, Accuracy=0.47740525007247925\n"
     ]
    },
    {
     "name": "stderr",
     "output_type": "stream",
     "text": [
      "Epoch 109: 100%|██████████| 12/12 [00:00<00:00, 139.54batch/s, acc=0.504, loss=1.01]\n"
     ]
    },
    {
     "name": "stdout",
     "output_type": "stream",
     "text": [
      "Epoch 109 validation: negative log likelihood loss=1.0377591848373413, Accuracy=0.47740525007247925\n"
     ]
    },
    {
     "name": "stderr",
     "output_type": "stream",
     "text": [
      "Epoch 110: 100%|██████████| 12/12 [00:00<00:00, 123.72batch/s, acc=0.504, loss=1.01]\n"
     ]
    },
    {
     "name": "stdout",
     "output_type": "stream",
     "text": [
      "Epoch 110 validation: negative log likelihood loss=1.0377047061920166, Accuracy=0.47740525007247925\n"
     ]
    },
    {
     "name": "stderr",
     "output_type": "stream",
     "text": [
      "Epoch 111: 100%|██████████| 12/12 [00:00<00:00, 78.95batch/s, acc=0.504, loss=1.01] \n"
     ]
    },
    {
     "name": "stdout",
     "output_type": "stream",
     "text": [
      "Epoch 111 validation: negative log likelihood loss=1.0376524925231934, Accuracy=0.4766763746738434\n"
     ]
    },
    {
     "name": "stderr",
     "output_type": "stream",
     "text": [
      "Epoch 112: 100%|██████████| 12/12 [00:00<00:00, 130.44batch/s, acc=0.504, loss=1.01] \n"
     ]
    },
    {
     "name": "stdout",
     "output_type": "stream",
     "text": [
      "Epoch 112 validation: negative log likelihood loss=1.037606120109558, Accuracy=0.4759475290775299\n"
     ]
    },
    {
     "name": "stderr",
     "output_type": "stream",
     "text": [
      "Epoch 113: 100%|██████████| 12/12 [00:00<00:00, 141.19batch/s, acc=0.508, loss=1.01] \n"
     ]
    },
    {
     "name": "stdout",
     "output_type": "stream",
     "text": [
      "Epoch 113 validation: negative log likelihood loss=1.037561297416687, Accuracy=0.4759475290775299\n"
     ]
    },
    {
     "name": "stderr",
     "output_type": "stream",
     "text": [
      "Epoch 114: 100%|██████████| 12/12 [00:00<00:00, 144.59batch/s, acc=0.508, loss=1.01] \n"
     ]
    },
    {
     "name": "stdout",
     "output_type": "stream",
     "text": [
      "Epoch 114 validation: negative log likelihood loss=1.0375168323516846, Accuracy=0.4759475290775299\n"
     ]
    },
    {
     "name": "stderr",
     "output_type": "stream",
     "text": [
      "Epoch 115: 100%|██████████| 12/12 [00:00<00:00, 131.87batch/s, acc=0.508, loss=1.01] \n"
     ]
    },
    {
     "name": "stdout",
     "output_type": "stream",
     "text": [
      "Epoch 115 validation: negative log likelihood loss=1.0374737977981567, Accuracy=0.4759475290775299\n"
     ]
    },
    {
     "name": "stderr",
     "output_type": "stream",
     "text": [
      "Epoch 116: 100%|██████████| 12/12 [00:00<00:00, 136.37batch/s, acc=0.508, loss=1.01] \n"
     ]
    },
    {
     "name": "stdout",
     "output_type": "stream",
     "text": [
      "Epoch 116 validation: negative log likelihood loss=1.0374304056167603, Accuracy=0.4759475290775299\n"
     ]
    },
    {
     "name": "stderr",
     "output_type": "stream",
     "text": [
      "Epoch 117: 100%|██████████| 12/12 [00:00<00:00, 142.87batch/s, acc=0.508, loss=1.01] \n"
     ]
    },
    {
     "name": "stdout",
     "output_type": "stream",
     "text": [
      "Epoch 117 validation: negative log likelihood loss=1.0373858213424683, Accuracy=0.4759475290775299\n"
     ]
    },
    {
     "name": "stderr",
     "output_type": "stream",
     "text": [
      "Epoch 118: 100%|██████████| 12/12 [00:00<00:00, 137.94batch/s, acc=0.508, loss=1.01] \n"
     ]
    },
    {
     "name": "stdout",
     "output_type": "stream",
     "text": [
      "Epoch 118 validation: negative log likelihood loss=1.0373426675796509, Accuracy=0.4759475290775299\n"
     ]
    },
    {
     "name": "stderr",
     "output_type": "stream",
     "text": [
      "Epoch 119: 100%|██████████| 12/12 [00:00<00:00, 142.86batch/s, acc=0.512, loss=1.01] \n"
     ]
    },
    {
     "name": "stdout",
     "output_type": "stream",
     "text": [
      "Epoch 119 validation: negative log likelihood loss=1.0372992753982544, Accuracy=0.4759475290775299\n"
     ]
    },
    {
     "name": "stderr",
     "output_type": "stream",
     "text": [
      "Epoch 120: 100%|██████████| 12/12 [00:00<00:00, 141.18batch/s, acc=0.516, loss=1]    \n"
     ]
    },
    {
     "name": "stdout",
     "output_type": "stream",
     "text": [
      "Epoch 120 validation: negative log likelihood loss=1.0372564792633057, Accuracy=0.4759475290775299\n"
     ]
    },
    {
     "name": "stderr",
     "output_type": "stream",
     "text": [
      "Epoch 121: 100%|██████████| 12/12 [00:00<00:00, 137.93batch/s, acc=0.516, loss=1]    \n"
     ]
    },
    {
     "name": "stdout",
     "output_type": "stream",
     "text": [
      "Epoch 121 validation: negative log likelihood loss=1.03721284866333, Accuracy=0.47448980808258057\n"
     ]
    },
    {
     "name": "stderr",
     "output_type": "stream",
     "text": [
      "Epoch 122: 100%|██████████| 12/12 [00:00<00:00, 134.83batch/s, acc=0.516, loss=1]    \n"
     ]
    },
    {
     "name": "stdout",
     "output_type": "stream",
     "text": [
      "Epoch 122 validation: negative log likelihood loss=1.0371649265289307, Accuracy=0.47448980808258057\n"
     ]
    },
    {
     "name": "stderr",
     "output_type": "stream",
     "text": [
      "Epoch 123: 100%|██████████| 12/12 [00:00<00:00, 139.54batch/s, acc=0.516, loss=1]    \n"
     ]
    },
    {
     "name": "stdout",
     "output_type": "stream",
     "text": [
      "Epoch 123 validation: negative log likelihood loss=1.037121057510376, Accuracy=0.4737609326839447\n"
     ]
    },
    {
     "name": "stderr",
     "output_type": "stream",
     "text": [
      "Epoch 124: 100%|██████████| 12/12 [00:00<00:00, 137.94batch/s, acc=0.516, loss=1]    \n"
     ]
    },
    {
     "name": "stdout",
     "output_type": "stream",
     "text": [
      "Epoch 124 validation: negative log likelihood loss=1.0370800495147705, Accuracy=0.4737609326839447\n"
     ]
    },
    {
     "name": "stderr",
     "output_type": "stream",
     "text": [
      "Epoch 125: 100%|██████████| 12/12 [00:00<00:00, 115.39batch/s, acc=0.516, loss=1]    \n"
     ]
    },
    {
     "name": "stdout",
     "output_type": "stream",
     "text": [
      "Epoch 125 validation: negative log likelihood loss=1.037042260169983, Accuracy=0.4737609326839447\n"
     ]
    },
    {
     "name": "stderr",
     "output_type": "stream",
     "text": [
      "Epoch 126: 100%|██████████| 12/12 [00:00<00:00, 127.67batch/s, acc=0.512, loss=1]   \n"
     ]
    },
    {
     "name": "stdout",
     "output_type": "stream",
     "text": [
      "Epoch 126 validation: negative log likelihood loss=1.037002444267273, Accuracy=0.47303205728530884\n"
     ]
    },
    {
     "name": "stderr",
     "output_type": "stream",
     "text": [
      "Epoch 127: 100%|██████████| 12/12 [00:00<00:00, 127.67batch/s, acc=0.512, loss=1]   \n"
     ]
    },
    {
     "name": "stdout",
     "output_type": "stream",
     "text": [
      "Epoch 127 validation: negative log likelihood loss=1.036963701248169, Accuracy=0.4737609326839447\n"
     ]
    },
    {
     "name": "stderr",
     "output_type": "stream",
     "text": [
      "Epoch 128: 100%|██████████| 12/12 [00:00<00:00, 129.04batch/s, acc=0.512, loss=1]   \n"
     ]
    },
    {
     "name": "stdout",
     "output_type": "stream",
     "text": [
      "Epoch 128 validation: negative log likelihood loss=1.0369246006011963, Accuracy=0.4737609326839447\n"
     ]
    },
    {
     "name": "stderr",
     "output_type": "stream",
     "text": [
      "Epoch 129: 100%|██████████| 12/12 [00:00<00:00, 136.37batch/s, acc=0.512, loss=1]   \n"
     ]
    },
    {
     "name": "stdout",
     "output_type": "stream",
     "text": [
      "Epoch 129 validation: negative log likelihood loss=1.0368869304656982, Accuracy=0.47448980808258057\n"
     ]
    },
    {
     "name": "stderr",
     "output_type": "stream",
     "text": [
      "Epoch 130: 100%|██████████| 12/12 [00:00<00:00, 133.34batch/s, acc=0.512, loss=1]   \n"
     ]
    },
    {
     "name": "stdout",
     "output_type": "stream",
     "text": [
      "Epoch 130 validation: negative log likelihood loss=1.036849856376648, Accuracy=0.47448980808258057\n"
     ]
    },
    {
     "name": "stderr",
     "output_type": "stream",
     "text": [
      "Epoch 131: 100%|██████████| 12/12 [00:00<00:00, 144.58batch/s, acc=0.512, loss=1]   \n"
     ]
    },
    {
     "name": "stdout",
     "output_type": "stream",
     "text": [
      "Epoch 131 validation: negative log likelihood loss=1.036812663078308, Accuracy=0.47448980808258057\n"
     ]
    },
    {
     "name": "stderr",
     "output_type": "stream",
     "text": [
      "Epoch 132: 100%|██████████| 12/12 [00:00<00:00, 137.94batch/s, acc=0.512, loss=1]   \n"
     ]
    },
    {
     "name": "stdout",
     "output_type": "stream",
     "text": [
      "Epoch 132 validation: negative log likelihood loss=1.0367746353149414, Accuracy=0.47448980808258057\n"
     ]
    },
    {
     "name": "stderr",
     "output_type": "stream",
     "text": [
      "Epoch 133: 100%|██████████| 12/12 [00:00<00:00, 137.93batch/s, acc=0.512, loss=1]   \n"
     ]
    },
    {
     "name": "stdout",
     "output_type": "stream",
     "text": [
      "Epoch 133 validation: negative log likelihood loss=1.0367405414581299, Accuracy=0.47448980808258057\n"
     ]
    },
    {
     "name": "stderr",
     "output_type": "stream",
     "text": [
      "Epoch 134: 100%|██████████| 12/12 [00:00<00:00, 134.83batch/s, acc=0.512, loss=1]   \n"
     ]
    },
    {
     "name": "stdout",
     "output_type": "stream",
     "text": [
      "Epoch 134 validation: negative log likelihood loss=1.0367084741592407, Accuracy=0.47521865367889404\n"
     ]
    },
    {
     "name": "stderr",
     "output_type": "stream",
     "text": [
      "Epoch 135: 100%|██████████| 12/12 [00:00<00:00, 136.37batch/s, acc=0.512, loss=1]   \n"
     ]
    },
    {
     "name": "stdout",
     "output_type": "stream",
     "text": [
      "Epoch 135 validation: negative log likelihood loss=1.0366730690002441, Accuracy=0.47521865367889404\n"
     ]
    },
    {
     "name": "stderr",
     "output_type": "stream",
     "text": [
      "Epoch 136: 100%|██████████| 12/12 [00:00<00:00, 67.42batch/s, acc=0.512, loss=1]   \n"
     ]
    },
    {
     "name": "stdout",
     "output_type": "stream",
     "text": [
      "Epoch 136 validation: negative log likelihood loss=1.0366392135620117, Accuracy=0.4766763746738434\n"
     ]
    },
    {
     "name": "stderr",
     "output_type": "stream",
     "text": [
      "Epoch 137: 100%|██████████| 12/12 [00:00<00:00, 133.34batch/s, acc=0.512, loss=1]   \n"
     ]
    },
    {
     "name": "stdout",
     "output_type": "stream",
     "text": [
      "Epoch 137 validation: negative log likelihood loss=1.0366021394729614, Accuracy=0.4766763746738434\n"
     ]
    },
    {
     "name": "stderr",
     "output_type": "stream",
     "text": [
      "Epoch 138: 100%|██████████| 12/12 [00:00<00:00, 139.55batch/s, acc=0.512, loss=1]   \n"
     ]
    },
    {
     "name": "stdout",
     "output_type": "stream",
     "text": [
      "Epoch 138 validation: negative log likelihood loss=1.0365667343139648, Accuracy=0.4766763746738434\n"
     ]
    },
    {
     "name": "stderr",
     "output_type": "stream",
     "text": [
      "Epoch 139: 100%|██████████| 12/12 [00:00<00:00, 139.54batch/s, acc=0.512, loss=1]   \n"
     ]
    },
    {
     "name": "stdout",
     "output_type": "stream",
     "text": [
      "Epoch 139 validation: negative log likelihood loss=1.0365334749221802, Accuracy=0.4759475290775299\n"
     ]
    },
    {
     "name": "stderr",
     "output_type": "stream",
     "text": [
      "Epoch 140: 100%|██████████| 12/12 [00:00<00:00, 137.94batch/s, acc=0.512, loss=1]   \n"
     ]
    },
    {
     "name": "stdout",
     "output_type": "stream",
     "text": [
      "Epoch 140 validation: negative log likelihood loss=1.0365030765533447, Accuracy=0.4759475290775299\n"
     ]
    },
    {
     "name": "stderr",
     "output_type": "stream",
     "text": [
      "Epoch 141: 100%|██████████| 12/12 [00:00<00:00, 144.59batch/s, acc=0.512, loss=1]    \n"
     ]
    },
    {
     "name": "stdout",
     "output_type": "stream",
     "text": [
      "Epoch 141 validation: negative log likelihood loss=1.0364710092544556, Accuracy=0.4759475290775299\n"
     ]
    },
    {
     "name": "stderr",
     "output_type": "stream",
     "text": [
      "Epoch 142: 100%|██████████| 12/12 [00:00<00:00, 133.34batch/s, acc=0.508, loss=1]    \n"
     ]
    },
    {
     "name": "stdout",
     "output_type": "stream",
     "text": [
      "Epoch 142 validation: negative log likelihood loss=1.0364383459091187, Accuracy=0.4766763746738434\n"
     ]
    },
    {
     "name": "stderr",
     "output_type": "stream",
     "text": [
      "Epoch 143: 100%|██████████| 12/12 [00:00<00:00, 134.84batch/s, acc=0.508, loss=1]    \n"
     ]
    },
    {
     "name": "stdout",
     "output_type": "stream",
     "text": [
      "Epoch 143 validation: negative log likelihood loss=1.0364114046096802, Accuracy=0.4766763746738434\n"
     ]
    },
    {
     "name": "stderr",
     "output_type": "stream",
     "text": [
      "Epoch 144: 100%|██████████| 12/12 [00:00<00:00, 137.94batch/s, acc=0.508, loss=0.999]\n"
     ]
    },
    {
     "name": "stdout",
     "output_type": "stream",
     "text": [
      "Epoch 144 validation: negative log likelihood loss=1.036381721496582, Accuracy=0.4759475290775299\n"
     ]
    },
    {
     "name": "stderr",
     "output_type": "stream",
     "text": [
      "Epoch 145: 100%|██████████| 12/12 [00:00<00:00, 136.37batch/s, acc=0.508, loss=0.999]\n"
     ]
    },
    {
     "name": "stdout",
     "output_type": "stream",
     "text": [
      "Epoch 145 validation: negative log likelihood loss=1.036353349685669, Accuracy=0.4759475290775299\n"
     ]
    },
    {
     "name": "stderr",
     "output_type": "stream",
     "text": [
      "Epoch 146: 100%|██████████| 12/12 [00:00<00:00, 130.44batch/s, acc=0.508, loss=0.999]\n"
     ]
    },
    {
     "name": "stdout",
     "output_type": "stream",
     "text": [
      "Epoch 146 validation: negative log likelihood loss=1.0363248586654663, Accuracy=0.4759475290775299\n"
     ]
    },
    {
     "name": "stderr",
     "output_type": "stream",
     "text": [
      "Epoch 147: 100%|██████████| 12/12 [00:00<00:00, 118.82batch/s, acc=0.508, loss=0.999]\n"
     ]
    },
    {
     "name": "stdout",
     "output_type": "stream",
     "text": [
      "Epoch 147 validation: negative log likelihood loss=1.0362986326217651, Accuracy=0.4759475290775299\n"
     ]
    },
    {
     "name": "stderr",
     "output_type": "stream",
     "text": [
      "Epoch 148: 100%|██████████| 12/12 [00:00<00:00, 127.67batch/s, acc=0.508, loss=0.999]\n"
     ]
    },
    {
     "name": "stdout",
     "output_type": "stream",
     "text": [
      "Epoch 148 validation: negative log likelihood loss=1.036271572113037, Accuracy=0.4766763746738434\n"
     ]
    },
    {
     "name": "stderr",
     "output_type": "stream",
     "text": [
      "Epoch 149: 100%|██████████| 12/12 [00:00<00:00, 130.45batch/s, acc=0.504, loss=0.998]\n"
     ]
    },
    {
     "name": "stdout",
     "output_type": "stream",
     "text": [
      "Epoch 149 validation: negative log likelihood loss=1.0362437963485718, Accuracy=0.4766763746738434\n"
     ]
    },
    {
     "name": "stderr",
     "output_type": "stream",
     "text": [
      "Epoch 150: 100%|██████████| 12/12 [00:00<00:00, 142.86batch/s, acc=0.504, loss=0.998]\n"
     ]
    },
    {
     "name": "stdout",
     "output_type": "stream",
     "text": [
      "Epoch 150 validation: negative log likelihood loss=1.0362203121185303, Accuracy=0.4766763746738434\n"
     ]
    },
    {
     "name": "stderr",
     "output_type": "stream",
     "text": [
      "Epoch 151: 100%|██████████| 12/12 [00:00<00:00, 141.19batch/s, acc=0.504, loss=0.998]\n"
     ]
    },
    {
     "name": "stdout",
     "output_type": "stream",
     "text": [
      "Epoch 151 validation: negative log likelihood loss=1.0361939668655396, Accuracy=0.4766763746738434\n"
     ]
    },
    {
     "name": "stderr",
     "output_type": "stream",
     "text": [
      "Epoch 152: 100%|██████████| 12/12 [00:00<00:00, 133.34batch/s, acc=0.504, loss=0.998]\n"
     ]
    },
    {
     "name": "stdout",
     "output_type": "stream",
     "text": [
      "Epoch 152 validation: negative log likelihood loss=1.0361701250076294, Accuracy=0.4766763746738434\n"
     ]
    },
    {
     "name": "stderr",
     "output_type": "stream",
     "text": [
      "Epoch 153: 100%|██████████| 12/12 [00:00<00:00, 141.19batch/s, acc=0.5, loss=0.998]  \n"
     ]
    },
    {
     "name": "stdout",
     "output_type": "stream",
     "text": [
      "Epoch 153 validation: negative log likelihood loss=1.0361499786376953, Accuracy=0.4781341254711151\n"
     ]
    },
    {
     "name": "stderr",
     "output_type": "stream",
     "text": [
      "Epoch 154: 100%|██████████| 12/12 [00:00<00:00, 141.19batch/s, acc=0.5, loss=0.997]  \n"
     ]
    },
    {
     "name": "stdout",
     "output_type": "stream",
     "text": [
      "Epoch 154 validation: negative log likelihood loss=1.0361295938491821, Accuracy=0.4781341254711151\n"
     ]
    },
    {
     "name": "stderr",
     "output_type": "stream",
     "text": [
      "Epoch 155: 100%|██████████| 12/12 [00:00<00:00, 136.37batch/s, acc=0.5, loss=0.997]  \n"
     ]
    },
    {
     "name": "stdout",
     "output_type": "stream",
     "text": [
      "Epoch 155 validation: negative log likelihood loss=1.0361138582229614, Accuracy=0.47740525007247925\n"
     ]
    },
    {
     "name": "stderr",
     "output_type": "stream",
     "text": [
      "Epoch 156: 100%|██████████| 12/12 [00:00<00:00, 126.32batch/s, acc=0.5, loss=0.997]  \n"
     ]
    },
    {
     "name": "stdout",
     "output_type": "stream",
     "text": [
      "Epoch 156 validation: negative log likelihood loss=1.0360974073410034, Accuracy=0.47740525007247925\n"
     ]
    },
    {
     "name": "stderr",
     "output_type": "stream",
     "text": [
      "Epoch 157: 100%|██████████| 12/12 [00:00<00:00, 134.84batch/s, acc=0.5, loss=0.997]  \n"
     ]
    },
    {
     "name": "stdout",
     "output_type": "stream",
     "text": [
      "Epoch 157 validation: negative log likelihood loss=1.0360804796218872, Accuracy=0.47740525007247925\n"
     ]
    },
    {
     "name": "stderr",
     "output_type": "stream",
     "text": [
      "Epoch 158: 100%|██████████| 12/12 [00:00<00:00, 141.18batch/s, acc=0.496, loss=0.996]\n"
     ]
    },
    {
     "name": "stdout",
     "output_type": "stream",
     "text": [
      "Epoch 158 validation: negative log likelihood loss=1.0360685586929321, Accuracy=0.47740525007247925\n"
     ]
    },
    {
     "name": "stderr",
     "output_type": "stream",
     "text": [
      "Epoch 159: 100%|██████████| 12/12 [00:00<00:00, 133.34batch/s, acc=0.496, loss=0.996]\n"
     ]
    },
    {
     "name": "stdout",
     "output_type": "stream",
     "text": [
      "Epoch 159 validation: negative log likelihood loss=1.036055088043213, Accuracy=0.47740525007247925\n"
     ]
    },
    {
     "name": "stderr",
     "output_type": "stream",
     "text": [
      "Epoch 160: 100%|██████████| 12/12 [00:00<00:00, 131.87batch/s, acc=0.5, loss=0.996]  \n"
     ]
    },
    {
     "name": "stdout",
     "output_type": "stream",
     "text": [
      "Epoch 160 validation: negative log likelihood loss=1.0360428094863892, Accuracy=0.47740525007247925\n"
     ]
    },
    {
     "name": "stderr",
     "output_type": "stream",
     "text": [
      "Epoch 161: 100%|██████████| 12/12 [00:00<00:00, 60.30batch/s, acc=0.5, loss=0.996]  \n"
     ]
    },
    {
     "name": "stdout",
     "output_type": "stream",
     "text": [
      "Epoch 161 validation: negative log likelihood loss=1.036030888557434, Accuracy=0.4781341254711151\n"
     ]
    },
    {
     "name": "stderr",
     "output_type": "stream",
     "text": [
      "Epoch 162: 100%|██████████| 12/12 [00:00<00:00, 130.43batch/s, acc=0.5, loss=0.996]  \n"
     ]
    },
    {
     "name": "stdout",
     "output_type": "stream",
     "text": [
      "Epoch 162 validation: negative log likelihood loss=1.036021113395691, Accuracy=0.4781341254711151\n"
     ]
    },
    {
     "name": "stderr",
     "output_type": "stream",
     "text": [
      "Epoch 163: 100%|██████████| 12/12 [00:00<00:00, 131.88batch/s, acc=0.5, loss=0.995]  \n"
     ]
    },
    {
     "name": "stdout",
     "output_type": "stream",
     "text": [
      "Epoch 163 validation: negative log likelihood loss=1.0360084772109985, Accuracy=0.47740525007247925\n"
     ]
    },
    {
     "name": "stderr",
     "output_type": "stream",
     "text": [
      "Epoch 164: 100%|██████████| 12/12 [00:00<00:00, 131.88batch/s, acc=0.5, loss=0.995]  \n"
     ]
    },
    {
     "name": "stdout",
     "output_type": "stream",
     "text": [
      "Epoch 164 validation: negative log likelihood loss=1.0359992980957031, Accuracy=0.47740525007247925\n"
     ]
    },
    {
     "name": "stderr",
     "output_type": "stream",
     "text": [
      "Epoch 165: 100%|██████████| 12/12 [00:00<00:00, 141.19batch/s, acc=0.5, loss=0.995]  \n"
     ]
    },
    {
     "name": "stdout",
     "output_type": "stream",
     "text": [
      "Epoch 165 validation: negative log likelihood loss=1.0359913110733032, Accuracy=0.4781341254711151\n"
     ]
    },
    {
     "name": "stderr",
     "output_type": "stream",
     "text": [
      "Epoch 166: 100%|██████████| 12/12 [00:00<00:00, 139.54batch/s, acc=0.5, loss=0.995]  \n"
     ]
    },
    {
     "name": "stdout",
     "output_type": "stream",
     "text": [
      "Epoch 166 validation: negative log likelihood loss=1.035984992980957, Accuracy=0.47740525007247925\n"
     ]
    },
    {
     "name": "stderr",
     "output_type": "stream",
     "text": [
      "Epoch 167: 100%|██████████| 12/12 [00:00<00:00, 113.22batch/s, acc=0.5, loss=0.995]  \n"
     ]
    },
    {
     "name": "stdout",
     "output_type": "stream",
     "text": [
      "Epoch 167 validation: negative log likelihood loss=1.035974144935608, Accuracy=0.4766763746738434\n"
     ]
    },
    {
     "name": "stderr",
     "output_type": "stream",
     "text": [
      "Epoch 168: 100%|██████████| 12/12 [00:00<00:00, 125.01batch/s, acc=0.5, loss=0.994]  \n"
     ]
    },
    {
     "name": "stdout",
     "output_type": "stream",
     "text": [
      "Epoch 168 validation: negative log likelihood loss=1.035965919494629, Accuracy=0.4766763746738434\n"
     ]
    },
    {
     "name": "stderr",
     "output_type": "stream",
     "text": [
      "Epoch 169: 100%|██████████| 12/12 [00:00<00:00, 141.19batch/s, acc=0.5, loss=0.994]  \n"
     ]
    },
    {
     "name": "stdout",
     "output_type": "stream",
     "text": [
      "Epoch 169 validation: negative log likelihood loss=1.0359586477279663, Accuracy=0.4766763746738434\n"
     ]
    },
    {
     "name": "stderr",
     "output_type": "stream",
     "text": [
      "Epoch 170: 100%|██████████| 12/12 [00:00<00:00, 142.86batch/s, acc=0.496, loss=0.994]\n"
     ]
    },
    {
     "name": "stdout",
     "output_type": "stream",
     "text": [
      "Epoch 170 validation: negative log likelihood loss=1.0359481573104858, Accuracy=0.47740525007247925\n"
     ]
    },
    {
     "name": "stderr",
     "output_type": "stream",
     "text": [
      "Epoch 171: 100%|██████████| 12/12 [00:00<00:00, 139.54batch/s, acc=0.496, loss=0.994]\n"
     ]
    },
    {
     "name": "stdout",
     "output_type": "stream",
     "text": [
      "Epoch 171 validation: negative log likelihood loss=1.0359452962875366, Accuracy=0.47740525007247925\n"
     ]
    },
    {
     "name": "stderr",
     "output_type": "stream",
     "text": [
      "Epoch 172: 100%|██████████| 12/12 [00:00<00:00, 134.83batch/s, acc=0.496, loss=0.994]\n"
     ]
    },
    {
     "name": "stdout",
     "output_type": "stream",
     "text": [
      "Epoch 172 validation: negative log likelihood loss=1.0359430313110352, Accuracy=0.4781341254711151\n"
     ]
    },
    {
     "name": "stderr",
     "output_type": "stream",
     "text": [
      "Epoch 173: 100%|██████████| 12/12 [00:00<00:00, 141.19batch/s, acc=0.496, loss=0.993]\n"
     ]
    },
    {
     "name": "stdout",
     "output_type": "stream",
     "text": [
      "Epoch 173 validation: negative log likelihood loss=1.035941481590271, Accuracy=0.47740525007247925\n"
     ]
    },
    {
     "name": "stderr",
     "output_type": "stream",
     "text": [
      "Epoch 174: 100%|██████████| 12/12 [00:00<00:00, 115.39batch/s, acc=0.496, loss=0.993]\n"
     ]
    },
    {
     "name": "stdout",
     "output_type": "stream",
     "text": [
      "Epoch 174 validation: negative log likelihood loss=1.0359331369400024, Accuracy=0.4781341254711151\n"
     ]
    },
    {
     "name": "stderr",
     "output_type": "stream",
     "text": [
      "Epoch 175: 100%|██████████| 12/12 [00:00<00:00, 136.37batch/s, acc=0.496, loss=0.993]\n"
     ]
    },
    {
     "name": "stdout",
     "output_type": "stream",
     "text": [
      "Epoch 175 validation: negative log likelihood loss=1.0359302759170532, Accuracy=0.4781341254711151\n"
     ]
    },
    {
     "name": "stderr",
     "output_type": "stream",
     "text": [
      "Epoch 176: 100%|██████████| 12/12 [00:00<00:00, 139.54batch/s, acc=0.496, loss=0.993]\n"
     ]
    },
    {
     "name": "stdout",
     "output_type": "stream",
     "text": [
      "Epoch 176 validation: negative log likelihood loss=1.0359277725219727, Accuracy=0.47740525007247925\n"
     ]
    },
    {
     "name": "stderr",
     "output_type": "stream",
     "text": [
      "Epoch 177: 100%|██████████| 12/12 [00:00<00:00, 133.34batch/s, acc=0.496, loss=0.993]\n"
     ]
    },
    {
     "name": "stdout",
     "output_type": "stream",
     "text": [
      "Epoch 177 validation: negative log likelihood loss=1.0359258651733398, Accuracy=0.4766763746738434\n"
     ]
    },
    {
     "name": "stderr",
     "output_type": "stream",
     "text": [
      "Epoch 178: 100%|██████████| 12/12 [00:00<00:00, 127.67batch/s, acc=0.496, loss=0.992]\n"
     ]
    },
    {
     "name": "stdout",
     "output_type": "stream",
     "text": [
      "Epoch 178 validation: negative log likelihood loss=1.0359199047088623, Accuracy=0.4759475290775299\n"
     ]
    },
    {
     "name": "stderr",
     "output_type": "stream",
     "text": [
      "Epoch 179: 100%|██████████| 12/12 [00:00<00:00, 123.72batch/s, acc=0.496, loss=0.992]\n"
     ]
    },
    {
     "name": "stdout",
     "output_type": "stream",
     "text": [
      "Epoch 179 validation: negative log likelihood loss=1.0359132289886475, Accuracy=0.4759475290775299\n"
     ]
    },
    {
     "name": "stderr",
     "output_type": "stream",
     "text": [
      "Epoch 180: 100%|██████████| 12/12 [00:00<00:00, 120.00batch/s, acc=0.496, loss=0.992]\n"
     ]
    },
    {
     "name": "stdout",
     "output_type": "stream",
     "text": [
      "Epoch 180 validation: negative log likelihood loss=1.0359067916870117, Accuracy=0.4759475290775299\n"
     ]
    },
    {
     "name": "stderr",
     "output_type": "stream",
     "text": [
      "Epoch 181: 100%|██████████| 12/12 [00:00<00:00, 131.87batch/s, acc=0.496, loss=0.992]\n"
     ]
    },
    {
     "name": "stdout",
     "output_type": "stream",
     "text": [
      "Epoch 181 validation: negative log likelihood loss=1.0358995199203491, Accuracy=0.4759475290775299\n"
     ]
    },
    {
     "name": "stderr",
     "output_type": "stream",
     "text": [
      "Epoch 182: 100%|██████████| 12/12 [00:00<00:00, 131.88batch/s, acc=0.508, loss=0.992]\n"
     ]
    },
    {
     "name": "stdout",
     "output_type": "stream",
     "text": [
      "Epoch 182 validation: negative log likelihood loss=1.0358935594558716, Accuracy=0.4759475290775299\n"
     ]
    },
    {
     "name": "stderr",
     "output_type": "stream",
     "text": [
      "Epoch 183: 100%|██████████| 12/12 [00:00<00:00, 141.18batch/s, acc=0.512, loss=0.991]\n"
     ]
    },
    {
     "name": "stdout",
     "output_type": "stream",
     "text": [
      "Epoch 183 validation: negative log likelihood loss=1.035884976387024, Accuracy=0.4759475290775299\n"
     ]
    },
    {
     "name": "stderr",
     "output_type": "stream",
     "text": [
      "Epoch 184: 100%|██████████| 12/12 [00:00<00:00, 133.36batch/s, acc=0.512, loss=0.991]\n"
     ]
    },
    {
     "name": "stdout",
     "output_type": "stream",
     "text": [
      "Epoch 184 validation: negative log likelihood loss=1.0358742475509644, Accuracy=0.4759475290775299\n"
     ]
    },
    {
     "name": "stderr",
     "output_type": "stream",
     "text": [
      "Epoch 185: 100%|██████████| 12/12 [00:00<00:00, 146.36batch/s, acc=0.512, loss=0.991]\n"
     ]
    },
    {
     "name": "stdout",
     "output_type": "stream",
     "text": [
      "Epoch 185 validation: negative log likelihood loss=1.035866379737854, Accuracy=0.47521865367889404\n"
     ]
    },
    {
     "name": "stderr",
     "output_type": "stream",
     "text": [
      "Epoch 186: 100%|██████████| 12/12 [00:00<00:00, 137.94batch/s, acc=0.512, loss=0.991]\n"
     ]
    },
    {
     "name": "stdout",
     "output_type": "stream",
     "text": [
      "Epoch 186 validation: negative log likelihood loss=1.0358576774597168, Accuracy=0.47521865367889404\n"
     ]
    },
    {
     "name": "stderr",
     "output_type": "stream",
     "text": [
      "Epoch 187: 100%|██████████| 12/12 [00:00<00:00, 65.22batch/s, acc=0.512, loss=0.991]\n"
     ]
    },
    {
     "name": "stdout",
     "output_type": "stream",
     "text": [
      "Epoch 187 validation: negative log likelihood loss=1.035852074623108, Accuracy=0.47521865367889404\n"
     ]
    },
    {
     "name": "stderr",
     "output_type": "stream",
     "text": [
      "Epoch 188: 100%|██████████| 12/12 [00:00<00:00, 131.87batch/s, acc=0.512, loss=0.99] \n"
     ]
    },
    {
     "name": "stdout",
     "output_type": "stream",
     "text": [
      "Epoch 188 validation: negative log likelihood loss=1.035847544670105, Accuracy=0.47448980808258057\n"
     ]
    },
    {
     "name": "stderr",
     "output_type": "stream",
     "text": [
      "Epoch 189: 100%|██████████| 12/12 [00:00<00:00, 140.33batch/s, acc=0.512, loss=0.99] \n"
     ]
    },
    {
     "name": "stdout",
     "output_type": "stream",
     "text": [
      "Epoch 189 validation: negative log likelihood loss=1.0358366966247559, Accuracy=0.4737609326839447\n"
     ]
    },
    {
     "name": "stderr",
     "output_type": "stream",
     "text": [
      "Epoch 190: 100%|██████████| 12/12 [00:00<00:00, 142.86batch/s, acc=0.512, loss=0.99] \n"
     ]
    },
    {
     "name": "stdout",
     "output_type": "stream",
     "text": [
      "Epoch 190 validation: negative log likelihood loss=1.035832405090332, Accuracy=0.4737609326839447\n"
     ]
    },
    {
     "name": "stderr",
     "output_type": "stream",
     "text": [
      "Epoch 191: 100%|██████████| 12/12 [00:00<00:00, 136.37batch/s, acc=0.508, loss=0.99] \n"
     ]
    },
    {
     "name": "stdout",
     "output_type": "stream",
     "text": [
      "Epoch 191 validation: negative log likelihood loss=1.035828709602356, Accuracy=0.4737609326839447\n"
     ]
    },
    {
     "name": "stderr",
     "output_type": "stream",
     "text": [
      "Epoch 192: 100%|██████████| 12/12 [00:00<00:00, 137.93batch/s, acc=0.508, loss=0.99] \n"
     ]
    },
    {
     "name": "stdout",
     "output_type": "stream",
     "text": [
      "Epoch 192 validation: negative log likelihood loss=1.0358246564865112, Accuracy=0.4737609326839447\n"
     ]
    },
    {
     "name": "stderr",
     "output_type": "stream",
     "text": [
      "Epoch 193: 100%|██████████| 12/12 [00:00<00:00, 125.00batch/s, acc=0.508, loss=0.99] \n"
     ]
    },
    {
     "name": "stdout",
     "output_type": "stream",
     "text": [
      "Epoch 193 validation: negative log likelihood loss=1.0358206033706665, Accuracy=0.4737609326839447\n"
     ]
    },
    {
     "name": "stderr",
     "output_type": "stream",
     "text": [
      "Epoch 194: 100%|██████████| 12/12 [00:00<00:00, 100.84batch/s, acc=0.508, loss=0.989]\n"
     ]
    },
    {
     "name": "stdout",
     "output_type": "stream",
     "text": [
      "Epoch 194 validation: negative log likelihood loss=1.0358136892318726, Accuracy=0.4737609326839447\n"
     ]
    },
    {
     "name": "stderr",
     "output_type": "stream",
     "text": [
      "Epoch 195: 100%|██████████| 12/12 [00:00<00:00, 114.29batch/s, acc=0.508, loss=0.989]\n"
     ]
    },
    {
     "name": "stdout",
     "output_type": "stream",
     "text": [
      "Epoch 195 validation: negative log likelihood loss=1.0358151197433472, Accuracy=0.4737609326839447\n"
     ]
    },
    {
     "name": "stderr",
     "output_type": "stream",
     "text": [
      "Epoch 196: 100%|██████████| 12/12 [00:00<00:00, 116.51batch/s, acc=0.508, loss=0.989]\n"
     ]
    },
    {
     "name": "stdout",
     "output_type": "stream",
     "text": [
      "Epoch 196 validation: negative log likelihood loss=1.0358160734176636, Accuracy=0.47230321168899536\n"
     ]
    },
    {
     "name": "stderr",
     "output_type": "stream",
     "text": [
      "Epoch 197: 100%|██████████| 12/12 [00:00<00:00, 114.29batch/s, acc=0.508, loss=0.989]\n"
     ]
    },
    {
     "name": "stdout",
     "output_type": "stream",
     "text": [
      "Epoch 197 validation: negative log likelihood loss=1.0358166694641113, Accuracy=0.4737609326839447\n"
     ]
    },
    {
     "name": "stderr",
     "output_type": "stream",
     "text": [
      "Epoch 198: 100%|██████████| 12/12 [00:00<00:00, 125.00batch/s, acc=0.508, loss=0.989]\n"
     ]
    },
    {
     "name": "stdout",
     "output_type": "stream",
     "text": [
      "Epoch 198 validation: negative log likelihood loss=1.035814881324768, Accuracy=0.4737609326839447\n"
     ]
    },
    {
     "name": "stderr",
     "output_type": "stream",
     "text": [
      "Epoch 199: 100%|██████████| 12/12 [00:00<00:00, 109.09batch/s, acc=0.508, loss=0.988]\n"
     ]
    },
    {
     "name": "stdout",
     "output_type": "stream",
     "text": [
      "Epoch 199 validation: negative log likelihood loss=1.035814881324768, Accuracy=0.4737609326839447\n"
     ]
    },
    {
     "name": "stderr",
     "output_type": "stream",
     "text": [
      "Epoch 200: 100%|██████████| 12/12 [00:00<00:00, 127.67batch/s, acc=0.508, loss=0.988]\n"
     ]
    },
    {
     "name": "stdout",
     "output_type": "stream",
     "text": [
      "Epoch 200 validation: negative log likelihood loss=1.03581702709198, Accuracy=0.4737609326839447\n"
     ]
    },
    {
     "name": "stderr",
     "output_type": "stream",
     "text": [
      "Epoch 201: 100%|██████████| 12/12 [00:00<00:00, 129.03batch/s, acc=0.508, loss=0.988]\n"
     ]
    },
    {
     "name": "stdout",
     "output_type": "stream",
     "text": [
      "Epoch 201 validation: negative log likelihood loss=1.035819411277771, Accuracy=0.47303205728530884\n"
     ]
    },
    {
     "name": "stderr",
     "output_type": "stream",
     "text": [
      "Epoch 202: 100%|██████████| 12/12 [00:00<00:00, 127.67batch/s, acc=0.508, loss=0.988]\n"
     ]
    },
    {
     "name": "stdout",
     "output_type": "stream",
     "text": [
      "Epoch 202 validation: negative log likelihood loss=1.0358234643936157, Accuracy=0.47303205728530884\n"
     ]
    },
    {
     "name": "stderr",
     "output_type": "stream",
     "text": [
      "Epoch 203: 100%|██████████| 12/12 [00:00<00:00, 129.04batch/s, acc=0.508, loss=0.988]\n"
     ]
    },
    {
     "name": "stdout",
     "output_type": "stream",
     "text": [
      "Epoch 203 validation: negative log likelihood loss=1.0358223915100098, Accuracy=0.4737609326839447\n"
     ]
    },
    {
     "name": "stderr",
     "output_type": "stream",
     "text": [
      "Epoch 204: 100%|██████████| 12/12 [00:00<00:00, 120.01batch/s, acc=0.508, loss=0.988]\n"
     ]
    },
    {
     "name": "stdout",
     "output_type": "stream",
     "text": [
      "Epoch 204 validation: negative log likelihood loss=1.0358208417892456, Accuracy=0.4737609326839447\n"
     ]
    },
    {
     "name": "stderr",
     "output_type": "stream",
     "text": [
      "Epoch 205: 100%|██████████| 12/12 [00:00<00:00, 125.01batch/s, acc=0.508, loss=0.987]\n"
     ]
    },
    {
     "name": "stdout",
     "output_type": "stream",
     "text": [
      "Epoch 205 validation: negative log likelihood loss=1.0358245372772217, Accuracy=0.4737609326839447\n"
     ]
    },
    {
     "name": "stderr",
     "output_type": "stream",
     "text": [
      "Epoch 206: 100%|██████████| 12/12 [00:00<00:00, 101.70batch/s, acc=0.512, loss=0.987]\n"
     ]
    },
    {
     "name": "stdout",
     "output_type": "stream",
     "text": [
      "Epoch 206 validation: negative log likelihood loss=1.0358291864395142, Accuracy=0.4737609326839447\n"
     ]
    },
    {
     "name": "stderr",
     "output_type": "stream",
     "text": [
      "Epoch 207: 100%|██████████| 12/12 [00:00<00:00, 129.04batch/s, acc=0.512, loss=0.987]\n"
     ]
    },
    {
     "name": "stdout",
     "output_type": "stream",
     "text": [
      "Epoch 207 validation: negative log likelihood loss=1.0358331203460693, Accuracy=0.4737609326839447\n"
     ]
    },
    {
     "name": "stderr",
     "output_type": "stream",
     "text": [
      "Epoch 208: 100%|██████████| 12/12 [00:00<00:00, 116.51batch/s, acc=0.512, loss=0.987]\n"
     ]
    },
    {
     "name": "stdout",
     "output_type": "stream",
     "text": [
      "Epoch 208 validation: negative log likelihood loss=1.0358394384384155, Accuracy=0.4737609326839447\n"
     ]
    },
    {
     "name": "stderr",
     "output_type": "stream",
     "text": [
      "Epoch 209: 100%|██████████| 12/12 [00:00<00:00, 103.46batch/s, acc=0.512, loss=0.987]\n"
     ]
    },
    {
     "name": "stdout",
     "output_type": "stream",
     "text": [
      "Epoch 209 validation: negative log likelihood loss=1.0358455181121826, Accuracy=0.4737609326839447\n"
     ]
    },
    {
     "name": "stderr",
     "output_type": "stream",
     "text": [
      "Epoch 210: 100%|██████████| 12/12 [00:00<00:00, 113.21batch/s, acc=0.512, loss=0.986]\n"
     ]
    },
    {
     "name": "stdout",
     "output_type": "stream",
     "text": [
      "Epoch 210 validation: negative log likelihood loss=1.0358549356460571, Accuracy=0.4737609326839447\n"
     ]
    },
    {
     "name": "stderr",
     "output_type": "stream",
     "text": [
      "Epoch 211: 100%|██████████| 12/12 [00:00<00:00, 121.22batch/s, acc=0.516, loss=0.986]\n"
     ]
    },
    {
     "name": "stdout",
     "output_type": "stream",
     "text": [
      "Epoch 211 validation: negative log likelihood loss=1.0358612537384033, Accuracy=0.4737609326839447\n"
     ]
    },
    {
     "name": "stderr",
     "output_type": "stream",
     "text": [
      "Epoch 212: 100%|██████████| 12/12 [00:00<00:00, 78.43batch/s, acc=0.516, loss=0.986]\n"
     ]
    },
    {
     "name": "stdout",
     "output_type": "stream",
     "text": [
      "Epoch 212 validation: negative log likelihood loss=1.0358649492263794, Accuracy=0.4737609326839447\n"
     ]
    },
    {
     "name": "stderr",
     "output_type": "stream",
     "text": [
      "Epoch 213: 100%|██████████| 12/12 [00:00<00:00, 113.21batch/s, acc=0.516, loss=0.986]\n"
     ]
    },
    {
     "name": "stdout",
     "output_type": "stream",
     "text": [
      "Epoch 213 validation: negative log likelihood loss=1.0358717441558838, Accuracy=0.47448980808258057\n"
     ]
    },
    {
     "name": "stderr",
     "output_type": "stream",
     "text": [
      "Epoch 214: 100%|██████████| 12/12 [00:00<00:00, 118.82batch/s, acc=0.516, loss=0.986]\n"
     ]
    },
    {
     "name": "stdout",
     "output_type": "stream",
     "text": [
      "Epoch 214 validation: negative log likelihood loss=1.0358786582946777, Accuracy=0.47521865367889404\n"
     ]
    },
    {
     "name": "stderr",
     "output_type": "stream",
     "text": [
      "Epoch 215: 100%|██████████| 12/12 [00:00<00:00, 134.84batch/s, acc=0.516, loss=0.986]\n"
     ]
    },
    {
     "name": "stdout",
     "output_type": "stream",
     "text": [
      "Epoch 215 validation: negative log likelihood loss=1.0358858108520508, Accuracy=0.47521865367889404\n"
     ]
    },
    {
     "name": "stderr",
     "output_type": "stream",
     "text": [
      "Epoch 216: 100%|██████████| 12/12 [00:00<00:00, 130.44batch/s, acc=0.516, loss=0.985]\n"
     ]
    },
    {
     "name": "stdout",
     "output_type": "stream",
     "text": [
      "Epoch 216 validation: negative log likelihood loss=1.0358911752700806, Accuracy=0.47521865367889404\n"
     ]
    },
    {
     "name": "stderr",
     "output_type": "stream",
     "text": [
      "Epoch 217: 100%|██████████| 12/12 [00:00<00:00, 142.86batch/s, acc=0.516, loss=0.985]\n"
     ]
    },
    {
     "name": "stdout",
     "output_type": "stream",
     "text": [
      "Epoch 217 validation: negative log likelihood loss=1.0358978509902954, Accuracy=0.47448980808258057\n"
     ]
    },
    {
     "name": "stderr",
     "output_type": "stream",
     "text": [
      "Epoch 218: 100%|██████████| 12/12 [00:00<00:00, 125.01batch/s, acc=0.516, loss=0.985]\n"
     ]
    },
    {
     "name": "stdout",
     "output_type": "stream",
     "text": [
      "Epoch 218 validation: negative log likelihood loss=1.0359030961990356, Accuracy=0.4737609326839447\n"
     ]
    },
    {
     "name": "stderr",
     "output_type": "stream",
     "text": [
      "Epoch 219: 100%|██████████| 12/12 [00:00<00:00, 136.37batch/s, acc=0.516, loss=0.985]\n"
     ]
    },
    {
     "name": "stdout",
     "output_type": "stream",
     "text": [
      "Epoch 219 validation: negative log likelihood loss=1.0359052419662476, Accuracy=0.47303205728530884\n"
     ]
    },
    {
     "name": "stderr",
     "output_type": "stream",
     "text": [
      "Epoch 220: 100%|██████████| 12/12 [00:00<00:00, 141.19batch/s, acc=0.516, loss=0.985]\n"
     ]
    },
    {
     "name": "stdout",
     "output_type": "stream",
     "text": [
      "Epoch 220 validation: negative log likelihood loss=1.0359100103378296, Accuracy=0.47303205728530884\n"
     ]
    },
    {
     "name": "stderr",
     "output_type": "stream",
     "text": [
      "Epoch 221: 100%|██████████| 12/12 [00:00<00:00, 141.18batch/s, acc=0.516, loss=0.985]\n"
     ]
    },
    {
     "name": "stdout",
     "output_type": "stream",
     "text": [
      "Epoch 221 validation: negative log likelihood loss=1.0359166860580444, Accuracy=0.47303205728530884\n"
     ]
    },
    {
     "name": "stderr",
     "output_type": "stream",
     "text": [
      "Epoch 222: 100%|██████████| 12/12 [00:00<00:00, 144.59batch/s, acc=0.516, loss=0.984]"
     ]
    },
    {
     "name": "stdout",
     "output_type": "stream",
     "text": [
      "Epoch 222 validation: negative log likelihood loss=1.0359218120574951, Accuracy=0.47230321168899536\n"
     ]
    },
    {
     "name": "stderr",
     "output_type": "stream",
     "text": [
      "\n",
      "Epoch 223: 100%|██████████| 12/12 [00:00<00:00, 144.59batch/s, acc=0.516, loss=0.984]\n"
     ]
    },
    {
     "name": "stdout",
     "output_type": "stream",
     "text": [
      "Epoch 223 validation: negative log likelihood loss=1.0359270572662354, Accuracy=0.47230321168899536\n"
     ]
    },
    {
     "name": "stderr",
     "output_type": "stream",
     "text": [
      "Epoch 224: 100%|██████████| 12/12 [00:00<00:00, 142.87batch/s, acc=0.516, loss=0.984]"
     ]
    },
    {
     "name": "stdout",
     "output_type": "stream",
     "text": [
      "Epoch 224 validation: negative log likelihood loss=1.0359320640563965, Accuracy=0.47230321168899536\n"
     ]
    },
    {
     "name": "stderr",
     "output_type": "stream",
     "text": [
      "\n",
      "Epoch 225: 100%|██████████| 12/12 [00:00<00:00, 136.37batch/s, acc=0.516, loss=0.984]\n"
     ]
    },
    {
     "name": "stdout",
     "output_type": "stream",
     "text": [
      "Epoch 225 validation: negative log likelihood loss=1.0359376668930054, Accuracy=0.47230321168899536\n"
     ]
    },
    {
     "name": "stderr",
     "output_type": "stream",
     "text": [
      "Epoch 226: 100%|██████████| 12/12 [00:00<00:00, 134.83batch/s, acc=0.516, loss=0.984]\n"
     ]
    },
    {
     "name": "stdout",
     "output_type": "stream",
     "text": [
      "Epoch 226 validation: negative log likelihood loss=1.0359407663345337, Accuracy=0.47230321168899536\n"
     ]
    },
    {
     "name": "stderr",
     "output_type": "stream",
     "text": [
      "Epoch 227: 100%|██████████| 12/12 [00:00<00:00, 133.34batch/s, acc=0.516, loss=0.983]\n"
     ]
    },
    {
     "name": "stdout",
     "output_type": "stream",
     "text": [
      "Epoch 227 validation: negative log likelihood loss=1.0359407663345337, Accuracy=0.47230321168899536\n"
     ]
    },
    {
     "name": "stderr",
     "output_type": "stream",
     "text": [
      "Epoch 228: 100%|██████████| 12/12 [00:00<00:00, 134.84batch/s, acc=0.516, loss=0.983]\n"
     ]
    },
    {
     "name": "stdout",
     "output_type": "stream",
     "text": [
      "Epoch 228 validation: negative log likelihood loss=1.0359455347061157, Accuracy=0.47230321168899536\n"
     ]
    },
    {
     "name": "stderr",
     "output_type": "stream",
     "text": [
      "Epoch 229: 100%|██████████| 12/12 [00:00<00:00, 141.18batch/s, acc=0.516, loss=0.983]\n"
     ]
    },
    {
     "name": "stdout",
     "output_type": "stream",
     "text": [
      "Epoch 229 validation: negative log likelihood loss=1.0359492301940918, Accuracy=0.47230321168899536\n"
     ]
    },
    {
     "name": "stderr",
     "output_type": "stream",
     "text": [
      "Epoch 230: 100%|██████████| 12/12 [00:00<00:00, 139.54batch/s, acc=0.516, loss=0.983]\n"
     ]
    },
    {
     "name": "stdout",
     "output_type": "stream",
     "text": [
      "Epoch 230 validation: negative log likelihood loss=1.035951018333435, Accuracy=0.47303205728530884\n"
     ]
    },
    {
     "name": "stderr",
     "output_type": "stream",
     "text": [
      "Epoch 231: 100%|██████████| 12/12 [00:00<00:00, 157.90batch/s, acc=0.516, loss=0.983]"
     ]
    },
    {
     "name": "stdout",
     "output_type": "stream",
     "text": [
      "Epoch 231 validation: negative log likelihood loss=1.0359514951705933, Accuracy=0.47303205728530884\n"
     ]
    },
    {
     "name": "stderr",
     "output_type": "stream",
     "text": [
      "\n",
      "Epoch 232: 100%|██████████| 12/12 [00:00<00:00, 142.87batch/s, acc=0.516, loss=0.983]"
     ]
    },
    {
     "name": "stdout",
     "output_type": "stream",
     "text": [
      "Epoch 232 validation: negative log likelihood loss=1.0359467267990112, Accuracy=0.4737609326839447\n"
     ]
    },
    {
     "name": "stderr",
     "output_type": "stream",
     "text": [
      "\n",
      "Epoch 233: 100%|██████████| 12/12 [00:00<00:00, 136.37batch/s, acc=0.516, loss=0.982]\n"
     ]
    },
    {
     "name": "stdout",
     "output_type": "stream",
     "text": [
      "Epoch 233 validation: negative log likelihood loss=1.0359430313110352, Accuracy=0.4737609326839447\n"
     ]
    },
    {
     "name": "stderr",
     "output_type": "stream",
     "text": [
      "Epoch 234: 100%|██████████| 12/12 [00:00<00:00, 136.36batch/s, acc=0.516, loss=0.982]\n"
     ]
    },
    {
     "name": "stdout",
     "output_type": "stream",
     "text": [
      "Epoch 234 validation: negative log likelihood loss=1.0359429121017456, Accuracy=0.4737609326839447\n"
     ]
    },
    {
     "name": "stderr",
     "output_type": "stream",
     "text": [
      "Epoch 235: 100%|██████████| 12/12 [00:00<00:00, 139.54batch/s, acc=0.516, loss=0.982]\n"
     ]
    },
    {
     "name": "stdout",
     "output_type": "stream",
     "text": [
      "Epoch 235 validation: negative log likelihood loss=1.035943865776062, Accuracy=0.4737609326839447\n"
     ]
    },
    {
     "name": "stderr",
     "output_type": "stream",
     "text": [
      "Epoch 236: 100%|██████████| 12/12 [00:00<00:00, 67.80batch/s, acc=0.516, loss=0.982]\n"
     ]
    },
    {
     "name": "stdout",
     "output_type": "stream",
     "text": [
      "Epoch 236 validation: negative log likelihood loss=1.0359430313110352, Accuracy=0.4737609326839447\n"
     ]
    },
    {
     "name": "stderr",
     "output_type": "stream",
     "text": [
      "Epoch 237: 100%|██████████| 12/12 [00:00<00:00, 136.37batch/s, acc=0.516, loss=0.982]\n"
     ]
    },
    {
     "name": "stdout",
     "output_type": "stream",
     "text": [
      "Epoch 237 validation: negative log likelihood loss=1.035943627357483, Accuracy=0.47448980808258057\n"
     ]
    },
    {
     "name": "stderr",
     "output_type": "stream",
     "text": [
      "Epoch 238: 100%|██████████| 12/12 [00:00<00:00, 131.87batch/s, acc=0.516, loss=0.981]\n"
     ]
    },
    {
     "name": "stdout",
     "output_type": "stream",
     "text": [
      "Epoch 238 validation: negative log likelihood loss=1.0359432697296143, Accuracy=0.47448980808258057\n"
     ]
    },
    {
     "name": "stderr",
     "output_type": "stream",
     "text": [
      "Epoch 239: 100%|██████████| 12/12 [00:00<00:00, 136.38batch/s, acc=0.516, loss=0.981]\n"
     ]
    },
    {
     "name": "stdout",
     "output_type": "stream",
     "text": [
      "Epoch 239 validation: negative log likelihood loss=1.0359443426132202, Accuracy=0.47448980808258057\n"
     ]
    },
    {
     "name": "stderr",
     "output_type": "stream",
     "text": [
      "Epoch 240: 100%|██████████| 12/12 [00:00<00:00, 144.59batch/s, acc=0.516, loss=0.981]\n"
     ]
    },
    {
     "name": "stdout",
     "output_type": "stream",
     "text": [
      "Epoch 240 validation: negative log likelihood loss=1.0359452962875366, Accuracy=0.47521865367889404\n"
     ]
    },
    {
     "name": "stderr",
     "output_type": "stream",
     "text": [
      "Epoch 241: 100%|██████████| 12/12 [00:00<00:00, 136.37batch/s, acc=0.516, loss=0.981]\n"
     ]
    },
    {
     "name": "stdout",
     "output_type": "stream",
     "text": [
      "Epoch 241 validation: negative log likelihood loss=1.0359470844268799, Accuracy=0.4766763746738434\n"
     ]
    },
    {
     "name": "stderr",
     "output_type": "stream",
     "text": [
      "Epoch 242: 100%|██████████| 12/12 [00:00<00:00, 141.18batch/s, acc=0.52, loss=0.981] \n"
     ]
    },
    {
     "name": "stdout",
     "output_type": "stream",
     "text": [
      "Epoch 242 validation: negative log likelihood loss=1.0359463691711426, Accuracy=0.4759475290775299\n"
     ]
    },
    {
     "name": "stderr",
     "output_type": "stream",
     "text": [
      "Epoch 243: 100%|██████████| 12/12 [00:00<00:00, 136.37batch/s, acc=0.52, loss=0.981] \n"
     ]
    },
    {
     "name": "stdout",
     "output_type": "stream",
     "text": [
      "Epoch 243 validation: negative log likelihood loss=1.0359513759613037, Accuracy=0.4759475290775299\n"
     ]
    },
    {
     "name": "stderr",
     "output_type": "stream",
     "text": [
      "Epoch 244: 100%|██████████| 12/12 [00:00<00:00, 117.65batch/s, acc=0.52, loss=0.981] \n"
     ]
    },
    {
     "name": "stdout",
     "output_type": "stream",
     "text": [
      "Epoch 244 validation: negative log likelihood loss=1.0359586477279663, Accuracy=0.4759475290775299\n"
     ]
    },
    {
     "name": "stderr",
     "output_type": "stream",
     "text": [
      "Epoch 245: 100%|██████████| 12/12 [00:00<00:00, 151.91batch/s, acc=0.52, loss=0.98]  \n"
     ]
    },
    {
     "name": "stdout",
     "output_type": "stream",
     "text": [
      "Epoch 245 validation: negative log likelihood loss=1.0359652042388916, Accuracy=0.4759475290775299\n"
     ]
    },
    {
     "name": "stderr",
     "output_type": "stream",
     "text": [
      "Epoch 246: 100%|██████████| 12/12 [00:00<00:00, 141.18batch/s, acc=0.52, loss=0.98]  \n"
     ]
    },
    {
     "name": "stdout",
     "output_type": "stream",
     "text": [
      "Epoch 246 validation: negative log likelihood loss=1.0359728336334229, Accuracy=0.4759475290775299\n"
     ]
    },
    {
     "name": "stderr",
     "output_type": "stream",
     "text": [
      "Epoch 247: 100%|██████████| 12/12 [00:00<00:00, 139.54batch/s, acc=0.52, loss=0.98]  \n"
     ]
    },
    {
     "name": "stdout",
     "output_type": "stream",
     "text": [
      "Epoch 247 validation: negative log likelihood loss=1.0359817743301392, Accuracy=0.4759475290775299\n"
     ]
    },
    {
     "name": "stderr",
     "output_type": "stream",
     "text": [
      "Epoch 248: 100%|██████████| 12/12 [00:00<00:00, 142.86batch/s, acc=0.52, loss=0.98]  \n"
     ]
    },
    {
     "name": "stdout",
     "output_type": "stream",
     "text": [
      "Epoch 248 validation: negative log likelihood loss=1.03598952293396, Accuracy=0.4759475290775299\n"
     ]
    },
    {
     "name": "stderr",
     "output_type": "stream",
     "text": [
      "Epoch 249: 100%|██████████| 12/12 [00:00<00:00, 139.54batch/s, acc=0.52, loss=0.98]  \n"
     ]
    },
    {
     "name": "stdout",
     "output_type": "stream",
     "text": [
      "Epoch 249 validation: negative log likelihood loss=1.035997986793518, Accuracy=0.4759475290775299\n"
     ]
    },
    {
     "name": "stderr",
     "output_type": "stream",
     "text": [
      "Epoch 250: 100%|██████████| 12/12 [00:00<00:00, 136.37batch/s, acc=0.524, loss=0.98] \n"
     ]
    },
    {
     "name": "stdout",
     "output_type": "stream",
     "text": [
      "Epoch 250 validation: negative log likelihood loss=1.0360066890716553, Accuracy=0.4766763746738434\n"
     ]
    },
    {
     "name": "stderr",
     "output_type": "stream",
     "text": [
      "Epoch 251: 100%|██████████| 12/12 [00:00<00:00, 114.29batch/s, acc=0.524, loss=0.979]\n"
     ]
    },
    {
     "name": "stdout",
     "output_type": "stream",
     "text": [
      "Epoch 251 validation: negative log likelihood loss=1.0360182523727417, Accuracy=0.4766763746738434\n"
     ]
    },
    {
     "name": "stderr",
     "output_type": "stream",
     "text": [
      "Epoch 252: 100%|██████████| 12/12 [00:00<00:00, 139.54batch/s, acc=0.524, loss=0.979]\n"
     ]
    },
    {
     "name": "stdout",
     "output_type": "stream",
     "text": [
      "Epoch 252 validation: negative log likelihood loss=1.0360314846038818, Accuracy=0.4766763746738434\n"
     ]
    },
    {
     "name": "stderr",
     "output_type": "stream",
     "text": [
      "Epoch 253: 100%|██████████| 12/12 [00:00<00:00, 141.19batch/s, acc=0.524, loss=0.979]\n"
     ]
    },
    {
     "name": "stdout",
     "output_type": "stream",
     "text": [
      "Epoch 253 validation: negative log likelihood loss=1.0360428094863892, Accuracy=0.4759475290775299\n"
     ]
    },
    {
     "name": "stderr",
     "output_type": "stream",
     "text": [
      "Epoch 254: 100%|██████████| 12/12 [00:00<00:00, 137.93batch/s, acc=0.524, loss=0.979]\n"
     ]
    },
    {
     "name": "stdout",
     "output_type": "stream",
     "text": [
      "Epoch 254 validation: negative log likelihood loss=1.0360602140426636, Accuracy=0.4759475290775299\n"
     ]
    },
    {
     "name": "stderr",
     "output_type": "stream",
     "text": [
      "Epoch 255: 100%|██████████| 12/12 [00:00<00:00, 141.18batch/s, acc=0.524, loss=0.979]\n"
     ]
    },
    {
     "name": "stdout",
     "output_type": "stream",
     "text": [
      "Epoch 255 validation: negative log likelihood loss=1.0360757112503052, Accuracy=0.4759475290775299\n"
     ]
    },
    {
     "name": "stderr",
     "output_type": "stream",
     "text": [
      "Epoch 256: 100%|██████████| 12/12 [00:00<00:00, 136.37batch/s, acc=0.524, loss=0.979]\n"
     ]
    },
    {
     "name": "stdout",
     "output_type": "stream",
     "text": [
      "Epoch 256 validation: negative log likelihood loss=1.0360974073410034, Accuracy=0.4766763746738434\n"
     ]
    },
    {
     "name": "stderr",
     "output_type": "stream",
     "text": [
      "Epoch 257: 100%|██████████| 12/12 [00:00<00:00, 113.21batch/s, acc=0.524, loss=0.978]\n"
     ]
    },
    {
     "name": "stdout",
     "output_type": "stream",
     "text": [
      "Epoch 257 validation: negative log likelihood loss=1.0361195802688599, Accuracy=0.4766763746738434\n"
     ]
    },
    {
     "name": "stderr",
     "output_type": "stream",
     "text": [
      "Epoch 258: 100%|██████████| 12/12 [00:00<00:00, 136.37batch/s, acc=0.524, loss=0.978]\n"
     ]
    },
    {
     "name": "stdout",
     "output_type": "stream",
     "text": [
      "Epoch 258 validation: negative log likelihood loss=1.0361387729644775, Accuracy=0.4766763746738434\n"
     ]
    },
    {
     "name": "stderr",
     "output_type": "stream",
     "text": [
      "Epoch 259: 100%|██████████| 12/12 [00:00<00:00, 133.34batch/s, acc=0.524, loss=0.978]\n"
     ]
    },
    {
     "name": "stdout",
     "output_type": "stream",
     "text": [
      "Epoch 259 validation: negative log likelihood loss=1.0361586809158325, Accuracy=0.4766763746738434\n"
     ]
    },
    {
     "name": "stderr",
     "output_type": "stream",
     "text": [
      "Epoch 260: 100%|██████████| 12/12 [00:00<00:00, 134.83batch/s, acc=0.524, loss=0.978]\n"
     ]
    },
    {
     "name": "stdout",
     "output_type": "stream",
     "text": [
      "Epoch 260 validation: negative log likelihood loss=1.0361814498901367, Accuracy=0.4759475290775299\n"
     ]
    },
    {
     "name": "stderr",
     "output_type": "stream",
     "text": [
      "Epoch 261: 100%|██████████| 12/12 [00:00<00:00, 65.94batch/s, acc=0.524, loss=0.978]\n"
     ]
    },
    {
     "name": "stdout",
     "output_type": "stream",
     "text": [
      "Epoch 261 validation: negative log likelihood loss=1.0362043380737305, Accuracy=0.4759475290775299\n"
     ]
    },
    {
     "name": "stderr",
     "output_type": "stream",
     "text": [
      "Epoch 262: 100%|██████████| 12/12 [00:00<00:00, 126.32batch/s, acc=0.524, loss=0.978]\n"
     ]
    },
    {
     "name": "stdout",
     "output_type": "stream",
     "text": [
      "Epoch 262 validation: negative log likelihood loss=1.036230444908142, Accuracy=0.4766763746738434\n"
     ]
    },
    {
     "name": "stderr",
     "output_type": "stream",
     "text": [
      "Epoch 263: 100%|██████████| 12/12 [00:00<00:00, 123.72batch/s, acc=0.524, loss=0.978]\n"
     ]
    },
    {
     "name": "stdout",
     "output_type": "stream",
     "text": [
      "Epoch 263 validation: negative log likelihood loss=1.0362567901611328, Accuracy=0.47740525007247925\n"
     ]
    },
    {
     "name": "stderr",
     "output_type": "stream",
     "text": [
      "Epoch 264: 100%|██████████| 12/12 [00:00<00:00, 111.12batch/s, acc=0.524, loss=0.977]\n"
     ]
    },
    {
     "name": "stdout",
     "output_type": "stream",
     "text": [
      "Epoch 264 validation: negative log likelihood loss=1.036279320716858, Accuracy=0.4766763746738434\n"
     ]
    },
    {
     "name": "stderr",
     "output_type": "stream",
     "text": [
      "Epoch 265: 100%|██████████| 12/12 [00:00<00:00, 127.66batch/s, acc=0.524, loss=0.977]\n"
     ]
    },
    {
     "name": "stdout",
     "output_type": "stream",
     "text": [
      "Epoch 265 validation: negative log likelihood loss=1.036300539970398, Accuracy=0.4759475290775299\n"
     ]
    },
    {
     "name": "stderr",
     "output_type": "stream",
     "text": [
      "Epoch 266: 100%|██████████| 12/12 [00:00<00:00, 133.34batch/s, acc=0.524, loss=0.977]\n"
     ]
    },
    {
     "name": "stdout",
     "output_type": "stream",
     "text": [
      "Epoch 266 validation: negative log likelihood loss=1.0363194942474365, Accuracy=0.4766763746738434\n"
     ]
    },
    {
     "name": "stderr",
     "output_type": "stream",
     "text": [
      "Epoch 267: 100%|██████████| 12/12 [00:00<00:00, 133.34batch/s, acc=0.524, loss=0.977]\n"
     ]
    },
    {
     "name": "stdout",
     "output_type": "stream",
     "text": [
      "Epoch 267 validation: negative log likelihood loss=1.0363378524780273, Accuracy=0.4781341254711151\n"
     ]
    },
    {
     "name": "stderr",
     "output_type": "stream",
     "text": [
      "Epoch 268: 100%|██████████| 12/12 [00:00<00:00, 133.34batch/s, acc=0.524, loss=0.977]\n"
     ]
    },
    {
     "name": "stdout",
     "output_type": "stream",
     "text": [
      "Epoch 268 validation: negative log likelihood loss=1.0363539457321167, Accuracy=0.4788629710674286\n"
     ]
    },
    {
     "name": "stderr",
     "output_type": "stream",
     "text": [
      "Epoch 269: 100%|██████████| 12/12 [00:00<00:00, 130.44batch/s, acc=0.524, loss=0.977]\n"
     ]
    },
    {
     "name": "stdout",
     "output_type": "stream",
     "text": [
      "Epoch 269 validation: negative log likelihood loss=1.0363690853118896, Accuracy=0.4788629710674286\n"
     ]
    },
    {
     "name": "stderr",
     "output_type": "stream",
     "text": [
      "Epoch 270: 100%|██████████| 12/12 [00:00<00:00, 137.94batch/s, acc=0.524, loss=0.976]\n"
     ]
    },
    {
     "name": "stdout",
     "output_type": "stream",
     "text": [
      "Epoch 270 validation: negative log likelihood loss=1.0363929271697998, Accuracy=0.47959184646606445\n"
     ]
    },
    {
     "name": "stderr",
     "output_type": "stream",
     "text": [
      "Epoch 271: 100%|██████████| 12/12 [00:00<00:00, 136.37batch/s, acc=0.524, loss=0.976]\n"
     ]
    },
    {
     "name": "stdout",
     "output_type": "stream",
     "text": [
      "Epoch 271 validation: negative log likelihood loss=1.036414623260498, Accuracy=0.47959184646606445\n"
     ]
    },
    {
     "name": "stderr",
     "output_type": "stream",
     "text": [
      "Epoch 272: 100%|██████████| 12/12 [00:00<00:00, 108.11batch/s, acc=0.524, loss=0.976]\n"
     ]
    },
    {
     "name": "stdout",
     "output_type": "stream",
     "text": [
      "Epoch 272 validation: negative log likelihood loss=1.0364336967468262, Accuracy=0.4788629710674286\n"
     ]
    },
    {
     "name": "stderr",
     "output_type": "stream",
     "text": [
      "Epoch 273: 100%|██████████| 12/12 [00:00<00:00, 123.72batch/s, acc=0.524, loss=0.976]\n"
     ]
    },
    {
     "name": "stdout",
     "output_type": "stream",
     "text": [
      "Epoch 273 validation: negative log likelihood loss=1.0364567041397095, Accuracy=0.4788629710674286\n"
     ]
    },
    {
     "name": "stderr",
     "output_type": "stream",
     "text": [
      "Epoch 274: 100%|██████████| 12/12 [00:00<00:00, 130.44batch/s, acc=0.524, loss=0.976]\n"
     ]
    },
    {
     "name": "stdout",
     "output_type": "stream",
     "text": [
      "Epoch 274 validation: negative log likelihood loss=1.036478877067566, Accuracy=0.4788629710674286\n"
     ]
    },
    {
     "name": "stderr",
     "output_type": "stream",
     "text": [
      "Epoch 275: 100%|██████████| 12/12 [00:00<00:00, 130.44batch/s, acc=0.524, loss=0.976]\n"
     ]
    },
    {
     "name": "stdout",
     "output_type": "stream",
     "text": [
      "Epoch 275 validation: negative log likelihood loss=1.0365021228790283, Accuracy=0.4788629710674286\n"
     ]
    },
    {
     "name": "stderr",
     "output_type": "stream",
     "text": [
      "Epoch 276: 100%|██████████| 12/12 [00:00<00:00, 122.45batch/s, acc=0.524, loss=0.975]\n"
     ]
    },
    {
     "name": "stdout",
     "output_type": "stream",
     "text": [
      "Epoch 276 validation: negative log likelihood loss=1.0365248918533325, Accuracy=0.4781341254711151\n"
     ]
    },
    {
     "name": "stderr",
     "output_type": "stream",
     "text": [
      "Epoch 277: 100%|██████████| 12/12 [00:00<00:00, 126.32batch/s, acc=0.524, loss=0.975]\n"
     ]
    },
    {
     "name": "stdout",
     "output_type": "stream",
     "text": [
      "Epoch 277 validation: negative log likelihood loss=1.0365475416183472, Accuracy=0.4788629710674286\n"
     ]
    },
    {
     "name": "stderr",
     "output_type": "stream",
     "text": [
      "Epoch 278: 100%|██████████| 12/12 [00:00<00:00, 127.67batch/s, acc=0.524, loss=0.975]\n"
     ]
    },
    {
     "name": "stdout",
     "output_type": "stream",
     "text": [
      "Epoch 278 validation: negative log likelihood loss=1.0365718603134155, Accuracy=0.4788629710674286\n"
     ]
    },
    {
     "name": "stderr",
     "output_type": "stream",
     "text": [
      "Epoch 279: 100%|██████████| 12/12 [00:00<00:00, 127.66batch/s, acc=0.524, loss=0.975]\n"
     ]
    },
    {
     "name": "stdout",
     "output_type": "stream",
     "text": [
      "Epoch 279 validation: negative log likelihood loss=1.0365968942642212, Accuracy=0.4788629710674286\n"
     ]
    },
    {
     "name": "stderr",
     "output_type": "stream",
     "text": [
      "Epoch 280: 100%|██████████| 12/12 [00:00<00:00, 117.65batch/s, acc=0.524, loss=0.975]\n"
     ]
    },
    {
     "name": "stdout",
     "output_type": "stream",
     "text": [
      "Epoch 280 validation: negative log likelihood loss=1.0366237163543701, Accuracy=0.4788629710674286\n"
     ]
    },
    {
     "name": "stderr",
     "output_type": "stream",
     "text": [
      "Epoch 281: 100%|██████████| 12/12 [00:00<00:00, 130.44batch/s, acc=0.524, loss=0.975]\n"
     ]
    },
    {
     "name": "stdout",
     "output_type": "stream",
     "text": [
      "Epoch 281 validation: negative log likelihood loss=1.0366450548171997, Accuracy=0.47959184646606445\n"
     ]
    },
    {
     "name": "stderr",
     "output_type": "stream",
     "text": [
      "Epoch 282: 100%|██████████| 12/12 [00:00<00:00, 130.44batch/s, acc=0.524, loss=0.975]\n"
     ]
    },
    {
     "name": "stdout",
     "output_type": "stream",
     "text": [
      "Epoch 282 validation: negative log likelihood loss=1.036669135093689, Accuracy=0.47959184646606445\n"
     ]
    },
    {
     "name": "stderr",
     "output_type": "stream",
     "text": [
      "Epoch 283: 100%|██████████| 12/12 [00:00<00:00, 137.94batch/s, acc=0.524, loss=0.974]\n"
     ]
    },
    {
     "name": "stdout",
     "output_type": "stream",
     "text": [
      "Epoch 283 validation: negative log likelihood loss=1.0366952419281006, Accuracy=0.47959184646606445\n"
     ]
    },
    {
     "name": "stderr",
     "output_type": "stream",
     "text": [
      "Epoch 284: 100%|██████████| 12/12 [00:00<00:00, 142.87batch/s, acc=0.524, loss=0.974]\n"
     ]
    },
    {
     "name": "stdout",
     "output_type": "stream",
     "text": [
      "Epoch 284 validation: negative log likelihood loss=1.0367189645767212, Accuracy=0.47959184646606445\n"
     ]
    },
    {
     "name": "stderr",
     "output_type": "stream",
     "text": [
      "Epoch 285: 100%|██████████| 12/12 [00:00<00:00, 65.94batch/s, acc=0.524, loss=0.974]\n"
     ]
    },
    {
     "name": "stdout",
     "output_type": "stream",
     "text": [
      "Epoch 285 validation: negative log likelihood loss=1.0367403030395508, Accuracy=0.47959184646606445\n"
     ]
    },
    {
     "name": "stderr",
     "output_type": "stream",
     "text": [
      "Epoch 286: 100%|██████████| 12/12 [00:00<00:00, 121.21batch/s, acc=0.524, loss=0.974]\n"
     ]
    },
    {
     "name": "stdout",
     "output_type": "stream",
     "text": [
      "Epoch 286 validation: negative log likelihood loss=1.036763310432434, Accuracy=0.47959184646606445\n"
     ]
    },
    {
     "name": "stderr",
     "output_type": "stream",
     "text": [
      "Epoch 287: 100%|██████████| 12/12 [00:00<00:00, 116.51batch/s, acc=0.524, loss=0.974]\n"
     ]
    },
    {
     "name": "stdout",
     "output_type": "stream",
     "text": [
      "Epoch 287 validation: negative log likelihood loss=1.036787986755371, Accuracy=0.47959184646606445\n"
     ]
    },
    {
     "name": "stderr",
     "output_type": "stream",
     "text": [
      "Epoch 288: 100%|██████████| 12/12 [00:00<00:00, 112.15batch/s, acc=0.528, loss=0.974]\n"
     ]
    },
    {
     "name": "stdout",
     "output_type": "stream",
     "text": [
      "Epoch 288 validation: negative log likelihood loss=1.036807656288147, Accuracy=0.48032069206237793\n"
     ]
    },
    {
     "name": "stderr",
     "output_type": "stream",
     "text": [
      "Epoch 289: 100%|██████████| 12/12 [00:00<00:00, 131.88batch/s, acc=0.528, loss=0.974]\n"
     ]
    },
    {
     "name": "stdout",
     "output_type": "stream",
     "text": [
      "Epoch 289 validation: negative log likelihood loss=1.0368272066116333, Accuracy=0.4810495674610138\n"
     ]
    },
    {
     "name": "stderr",
     "output_type": "stream",
     "text": [
      "Epoch 290: 100%|██████████| 12/12 [00:00<00:00, 133.34batch/s, acc=0.528, loss=0.973]\n"
     ]
    },
    {
     "name": "stdout",
     "output_type": "stream",
     "text": [
      "Epoch 290 validation: negative log likelihood loss=1.036853313446045, Accuracy=0.4810495674610138\n"
     ]
    },
    {
     "name": "stderr",
     "output_type": "stream",
     "text": [
      "Epoch 291: 100%|██████████| 12/12 [00:00<00:00, 129.04batch/s, acc=0.528, loss=0.973]\n"
     ]
    },
    {
     "name": "stdout",
     "output_type": "stream",
     "text": [
      "Epoch 291 validation: negative log likelihood loss=1.0368750095367432, Accuracy=0.4810495674610138\n"
     ]
    },
    {
     "name": "stderr",
     "output_type": "stream",
     "text": [
      "Epoch 292: 100%|██████████| 12/12 [00:00<00:00, 130.44batch/s, acc=0.528, loss=0.973]\n"
     ]
    },
    {
     "name": "stdout",
     "output_type": "stream",
     "text": [
      "Epoch 292 validation: negative log likelihood loss=1.0368996858596802, Accuracy=0.4810495674610138\n"
     ]
    },
    {
     "name": "stderr",
     "output_type": "stream",
     "text": [
      "Epoch 293: 100%|██████████| 12/12 [00:00<00:00, 139.54batch/s, acc=0.532, loss=0.973]\n"
     ]
    },
    {
     "name": "stdout",
     "output_type": "stream",
     "text": [
      "Epoch 293 validation: negative log likelihood loss=1.0369240045547485, Accuracy=0.4810495674610138\n"
     ]
    },
    {
     "name": "stderr",
     "output_type": "stream",
     "text": [
      "Epoch 294: 100%|██████████| 12/12 [00:00<00:00, 120.02batch/s, acc=0.532, loss=0.973]\n"
     ]
    },
    {
     "name": "stdout",
     "output_type": "stream",
     "text": [
      "Epoch 294 validation: negative log likelihood loss=1.0369468927383423, Accuracy=0.4810495674610138\n"
     ]
    },
    {
     "name": "stderr",
     "output_type": "stream",
     "text": [
      "Epoch 295: 100%|██████████| 12/12 [00:00<00:00, 137.93batch/s, acc=0.532, loss=0.973]\n"
     ]
    },
    {
     "name": "stdout",
     "output_type": "stream",
     "text": [
      "Epoch 295 validation: negative log likelihood loss=1.0369740724563599, Accuracy=0.4810495674610138\n"
     ]
    },
    {
     "name": "stderr",
     "output_type": "stream",
     "text": [
      "Epoch 296: 100%|██████████| 12/12 [00:00<00:00, 139.54batch/s, acc=0.532, loss=0.973]\n"
     ]
    },
    {
     "name": "stdout",
     "output_type": "stream",
     "text": [
      "Epoch 296 validation: negative log likelihood loss=1.0370006561279297, Accuracy=0.4810495674610138\n"
     ]
    },
    {
     "name": "stderr",
     "output_type": "stream",
     "text": [
      "Epoch 297: 100%|██████████| 12/12 [00:00<00:00, 141.18batch/s, acc=0.532, loss=0.972]\n"
     ]
    },
    {
     "name": "stdout",
     "output_type": "stream",
     "text": [
      "Epoch 297 validation: negative log likelihood loss=1.0370280742645264, Accuracy=0.48032069206237793\n"
     ]
    },
    {
     "name": "stderr",
     "output_type": "stream",
     "text": [
      "Epoch 298: 100%|██████████| 12/12 [00:00<00:00, 142.86batch/s, acc=0.532, loss=0.972]\n"
     ]
    },
    {
     "name": "stdout",
     "output_type": "stream",
     "text": [
      "Epoch 298 validation: negative log likelihood loss=1.037054181098938, Accuracy=0.48032069206237793\n"
     ]
    },
    {
     "name": "stderr",
     "output_type": "stream",
     "text": [
      "Epoch 299: 100%|██████████| 12/12 [00:00<00:00, 141.18batch/s, acc=0.532, loss=0.972]\n"
     ]
    },
    {
     "name": "stdout",
     "output_type": "stream",
     "text": [
      "Epoch 299 validation: negative log likelihood loss=1.037082552909851, Accuracy=0.48032069206237793\n"
     ]
    },
    {
     "name": "stderr",
     "output_type": "stream",
     "text": [
      "Epoch 300: 100%|██████████| 12/12 [00:00<00:00, 142.87batch/s, acc=0.528, loss=0.972]\n"
     ]
    },
    {
     "name": "stdout",
     "output_type": "stream",
     "text": [
      "Epoch 300 validation: negative log likelihood loss=1.0371090173721313, Accuracy=0.48032069206237793\n"
     ]
    },
    {
     "name": "stderr",
     "output_type": "stream",
     "text": [
      "Epoch 301: 100%|██████████| 12/12 [00:00<00:00, 116.51batch/s, acc=0.528, loss=0.972]\n"
     ]
    },
    {
     "name": "stdout",
     "output_type": "stream",
     "text": [
      "Epoch 301 validation: negative log likelihood loss=1.0371367931365967, Accuracy=0.48032069206237793\n"
     ]
    },
    {
     "name": "stderr",
     "output_type": "stream",
     "text": [
      "Epoch 302: 100%|██████████| 12/12 [00:00<00:00, 141.18batch/s, acc=0.528, loss=0.972]\n"
     ]
    },
    {
     "name": "stdout",
     "output_type": "stream",
     "text": [
      "Epoch 302 validation: negative log likelihood loss=1.037164330482483, Accuracy=0.48032069206237793\n"
     ]
    },
    {
     "name": "stderr",
     "output_type": "stream",
     "text": [
      "Epoch 303: 100%|██████████| 12/12 [00:00<00:00, 137.94batch/s, acc=0.528, loss=0.972]\n"
     ]
    },
    {
     "name": "stdout",
     "output_type": "stream",
     "text": [
      "Epoch 303 validation: negative log likelihood loss=1.0371942520141602, Accuracy=0.48032069206237793\n"
     ]
    },
    {
     "name": "stderr",
     "output_type": "stream",
     "text": [
      "Epoch 304: 100%|██████████| 12/12 [00:00<00:00, 142.86batch/s, acc=0.532, loss=0.971]\n"
     ]
    },
    {
     "name": "stdout",
     "output_type": "stream",
     "text": [
      "Epoch 304 validation: negative log likelihood loss=1.0372265577316284, Accuracy=0.47959184646606445\n"
     ]
    },
    {
     "name": "stderr",
     "output_type": "stream",
     "text": [
      "Epoch 305: 100%|██████████| 12/12 [00:00<00:00, 139.55batch/s, acc=0.532, loss=0.971]\n"
     ]
    },
    {
     "name": "stdout",
     "output_type": "stream",
     "text": [
      "Epoch 305 validation: negative log likelihood loss=1.0372586250305176, Accuracy=0.47959184646606445\n"
     ]
    },
    {
     "name": "stderr",
     "output_type": "stream",
     "text": [
      "Epoch 306: 100%|██████████| 12/12 [00:00<00:00, 66.30batch/s, acc=0.532, loss=0.971] \n"
     ]
    },
    {
     "name": "stdout",
     "output_type": "stream",
     "text": [
      "Epoch 306 validation: negative log likelihood loss=1.0372885465621948, Accuracy=0.47959184646606445\n"
     ]
    },
    {
     "name": "stderr",
     "output_type": "stream",
     "text": [
      "Epoch 307: 100%|██████████| 12/12 [00:00<00:00, 126.32batch/s, acc=0.532, loss=0.971]\n"
     ]
    },
    {
     "name": "stdout",
     "output_type": "stream",
     "text": [
      "Epoch 307 validation: negative log likelihood loss=1.0373178720474243, Accuracy=0.47959184646606445\n"
     ]
    },
    {
     "name": "stderr",
     "output_type": "stream",
     "text": [
      "Epoch 308: 100%|██████████| 12/12 [00:00<00:00, 108.11batch/s, acc=0.532, loss=0.971]\n"
     ]
    },
    {
     "name": "stdout",
     "output_type": "stream",
     "text": [
      "Epoch 308 validation: negative log likelihood loss=1.0373449325561523, Accuracy=0.47959184646606445\n"
     ]
    },
    {
     "name": "stderr",
     "output_type": "stream",
     "text": [
      "Epoch 309: 100%|██████████| 12/12 [00:00<00:00, 131.87batch/s, acc=0.532, loss=0.971]\n"
     ]
    },
    {
     "name": "stdout",
     "output_type": "stream",
     "text": [
      "Epoch 309 validation: negative log likelihood loss=1.0373717546463013, Accuracy=0.47959184646606445\n"
     ]
    },
    {
     "name": "stderr",
     "output_type": "stream",
     "text": [
      "Epoch 310: 100%|██████████| 12/12 [00:00<00:00, 137.93batch/s, acc=0.532, loss=0.97] \n"
     ]
    },
    {
     "name": "stdout",
     "output_type": "stream",
     "text": [
      "Epoch 310 validation: negative log likelihood loss=1.0373965501785278, Accuracy=0.48032069206237793\n"
     ]
    },
    {
     "name": "stderr",
     "output_type": "stream",
     "text": [
      "Epoch 311: 100%|██████████| 12/12 [00:00<00:00, 139.54batch/s, acc=0.532, loss=0.97] \n"
     ]
    },
    {
     "name": "stdout",
     "output_type": "stream",
     "text": [
      "Epoch 311 validation: negative log likelihood loss=1.037421464920044, Accuracy=0.48032069206237793\n"
     ]
    },
    {
     "name": "stderr",
     "output_type": "stream",
     "text": [
      "Epoch 312: 100%|██████████| 12/12 [00:00<00:00, 142.86batch/s, acc=0.532, loss=0.97] \n"
     ]
    },
    {
     "name": "stdout",
     "output_type": "stream",
     "text": [
      "Epoch 312 validation: negative log likelihood loss=1.0374482870101929, Accuracy=0.48032069206237793\n"
     ]
    },
    {
     "name": "stderr",
     "output_type": "stream",
     "text": [
      "Epoch 313: 100%|██████████| 12/12 [00:00<00:00, 137.94batch/s, acc=0.532, loss=0.97] \n"
     ]
    },
    {
     "name": "stdout",
     "output_type": "stream",
     "text": [
      "Epoch 313 validation: negative log likelihood loss=1.0374733209609985, Accuracy=0.4810495674610138\n"
     ]
    },
    {
     "name": "stderr",
     "output_type": "stream",
     "text": [
      "Epoch 314: 100%|██████████| 12/12 [00:00<00:00, 136.37batch/s, acc=0.532, loss=0.97] \n"
     ]
    },
    {
     "name": "stdout",
     "output_type": "stream",
     "text": [
      "Epoch 314 validation: negative log likelihood loss=1.0374951362609863, Accuracy=0.4810495674610138\n"
     ]
    },
    {
     "name": "stderr",
     "output_type": "stream",
     "text": [
      "Epoch 315: 100%|██████████| 12/12 [00:00<00:00, 113.21batch/s, acc=0.532, loss=0.97] \n"
     ]
    },
    {
     "name": "stdout",
     "output_type": "stream",
     "text": [
      "Epoch 315 validation: negative log likelihood loss=1.0375210046768188, Accuracy=0.4810495674610138\n"
     ]
    },
    {
     "name": "stderr",
     "output_type": "stream",
     "text": [
      "Epoch 316: 100%|██████████| 12/12 [00:00<00:00, 133.34batch/s, acc=0.532, loss=0.97] \n"
     ]
    },
    {
     "name": "stdout",
     "output_type": "stream",
     "text": [
      "Epoch 316 validation: negative log likelihood loss=1.0375462770462036, Accuracy=0.48177841305732727\n"
     ]
    },
    {
     "name": "stderr",
     "output_type": "stream",
     "text": [
      "Epoch 317: 100%|██████████| 12/12 [00:00<00:00, 141.18batch/s, acc=0.532, loss=0.969]\n"
     ]
    },
    {
     "name": "stdout",
     "output_type": "stream",
     "text": [
      "Epoch 317 validation: negative log likelihood loss=1.0375696420669556, Accuracy=0.4810495674610138\n"
     ]
    },
    {
     "name": "stderr",
     "output_type": "stream",
     "text": [
      "Epoch 318: 100%|██████████| 12/12 [00:00<00:00, 139.54batch/s, acc=0.532, loss=0.969]\n"
     ]
    },
    {
     "name": "stdout",
     "output_type": "stream",
     "text": [
      "Epoch 318 validation: negative log likelihood loss=1.037590503692627, Accuracy=0.4810495674610138\n"
     ]
    },
    {
     "name": "stderr",
     "output_type": "stream",
     "text": [
      "Epoch 319: 100%|██████████| 12/12 [00:00<00:00, 129.04batch/s, acc=0.532, loss=0.969]\n"
     ]
    },
    {
     "name": "stdout",
     "output_type": "stream",
     "text": [
      "Epoch 319 validation: negative log likelihood loss=1.0376098155975342, Accuracy=0.4810495674610138\n"
     ]
    },
    {
     "name": "stderr",
     "output_type": "stream",
     "text": [
      "Epoch 320: 100%|██████████| 12/12 [00:00<00:00, 76.44batch/s, acc=0.532, loss=0.969] \n"
     ]
    },
    {
     "name": "stdout",
     "output_type": "stream",
     "text": [
      "Epoch 320 validation: negative log likelihood loss=1.0376322269439697, Accuracy=0.48032069206237793\n"
     ]
    },
    {
     "name": "stderr",
     "output_type": "stream",
     "text": [
      "Epoch 321: 100%|██████████| 12/12 [00:00<00:00, 150.02batch/s, acc=0.532, loss=0.969]\n"
     ]
    },
    {
     "name": "stdout",
     "output_type": "stream",
     "text": [
      "Epoch 321 validation: negative log likelihood loss=1.037657380104065, Accuracy=0.48032069206237793\n"
     ]
    },
    {
     "name": "stderr",
     "output_type": "stream",
     "text": [
      "Epoch 322: 100%|██████████| 12/12 [00:00<00:00, 146.35batch/s, acc=0.532, loss=0.969]\n"
     ]
    },
    {
     "name": "stdout",
     "output_type": "stream",
     "text": [
      "Epoch 322 validation: negative log likelihood loss=1.0376821756362915, Accuracy=0.48032069206237793\n"
     ]
    },
    {
     "name": "stderr",
     "output_type": "stream",
     "text": [
      "Epoch 323: 100%|██████████| 12/12 [00:00<00:00, 151.90batch/s, acc=0.532, loss=0.969]\n"
     ]
    },
    {
     "name": "stdout",
     "output_type": "stream",
     "text": [
      "Epoch 323 validation: negative log likelihood loss=1.0377118587493896, Accuracy=0.48032069206237793\n"
     ]
    },
    {
     "name": "stderr",
     "output_type": "stream",
     "text": [
      "Epoch 324: 100%|██████████| 12/12 [00:00<00:00, 148.15batch/s, acc=0.532, loss=0.968]\n"
     ]
    },
    {
     "name": "stdout",
     "output_type": "stream",
     "text": [
      "Epoch 324 validation: negative log likelihood loss=1.0377405881881714, Accuracy=0.48032069206237793\n"
     ]
    },
    {
     "name": "stderr",
     "output_type": "stream",
     "text": [
      "Epoch 325: 100%|██████████| 12/12 [00:00<00:00, 151.91batch/s, acc=0.532, loss=0.968]\n"
     ]
    },
    {
     "name": "stdout",
     "output_type": "stream",
     "text": [
      "Epoch 325 validation: negative log likelihood loss=1.037766695022583, Accuracy=0.48032069206237793\n"
     ]
    },
    {
     "name": "stderr",
     "output_type": "stream",
     "text": [
      "Epoch 326: 100%|██████████| 12/12 [00:00<00:00, 166.67batch/s, acc=0.532, loss=0.968]\n"
     ]
    },
    {
     "name": "stdout",
     "output_type": "stream",
     "text": [
      "Epoch 326 validation: negative log likelihood loss=1.037793755531311, Accuracy=0.48032069206237793\n"
     ]
    },
    {
     "name": "stderr",
     "output_type": "stream",
     "text": [
      "Epoch 327: 100%|██████████| 12/12 [00:00<00:00, 160.01batch/s, acc=0.532, loss=0.968]\n"
     ]
    },
    {
     "name": "stdout",
     "output_type": "stream",
     "text": [
      "Epoch 327 validation: negative log likelihood loss=1.0378228425979614, Accuracy=0.4810495674610138\n"
     ]
    },
    {
     "name": "stderr",
     "output_type": "stream",
     "text": [
      "Epoch 328: 100%|██████████| 12/12 [00:00<00:00, 164.39batch/s, acc=0.532, loss=0.968]\n"
     ]
    },
    {
     "name": "stdout",
     "output_type": "stream",
     "text": [
      "Epoch 328 validation: negative log likelihood loss=1.0378499031066895, Accuracy=0.4810495674610138\n"
     ]
    },
    {
     "name": "stderr",
     "output_type": "stream",
     "text": [
      "Epoch 329: 100%|██████████| 12/12 [00:00<00:00, 166.68batch/s, acc=0.532, loss=0.968]\n"
     ]
    },
    {
     "name": "stdout",
     "output_type": "stream",
     "text": [
      "Epoch 329 validation: negative log likelihood loss=1.0378812551498413, Accuracy=0.48032069206237793\n"
     ]
    },
    {
     "name": "stderr",
     "output_type": "stream",
     "text": [
      "Epoch 330: 100%|██████████| 12/12 [00:00<00:00, 157.90batch/s, acc=0.532, loss=0.968]\n"
     ]
    },
    {
     "name": "stdout",
     "output_type": "stream",
     "text": [
      "Epoch 330 validation: negative log likelihood loss=1.0379102230072021, Accuracy=0.48032069206237793\n"
     ]
    },
    {
     "name": "stderr",
     "output_type": "stream",
     "text": [
      "Epoch 331: 100%|██████████| 12/12 [00:00<00:00, 157.91batch/s, acc=0.532, loss=0.967]\n"
     ]
    },
    {
     "name": "stdout",
     "output_type": "stream",
     "text": [
      "Epoch 331 validation: negative log likelihood loss=1.0379424095153809, Accuracy=0.48032069206237793\n"
     ]
    },
    {
     "name": "stderr",
     "output_type": "stream",
     "text": [
      "Epoch 332: 100%|██████████| 12/12 [00:00<00:00, 85.72batch/s, acc=0.532, loss=0.967] \n"
     ]
    },
    {
     "name": "stdout",
     "output_type": "stream",
     "text": [
      "Epoch 332 validation: negative log likelihood loss=1.0379741191864014, Accuracy=0.48177841305732727\n"
     ]
    },
    {
     "name": "stderr",
     "output_type": "stream",
     "text": [
      "Epoch 333: 100%|██████████| 12/12 [00:00<00:00, 150.00batch/s, acc=0.532, loss=0.967]\n"
     ]
    },
    {
     "name": "stdout",
     "output_type": "stream",
     "text": [
      "Epoch 333 validation: negative log likelihood loss=1.0380100011825562, Accuracy=0.48177841305732727\n"
     ]
    },
    {
     "name": "stderr",
     "output_type": "stream",
     "text": [
      "Epoch 334: 100%|██████████| 12/12 [00:00<00:00, 148.15batch/s, acc=0.532, loss=0.967]\n"
     ]
    },
    {
     "name": "stdout",
     "output_type": "stream",
     "text": [
      "Epoch 334 validation: negative log likelihood loss=1.0380446910858154, Accuracy=0.48177841305732727\n"
     ]
    },
    {
     "name": "stderr",
     "output_type": "stream",
     "text": [
      "Epoch 335: 100%|██████████| 12/12 [00:00<00:00, 151.90batch/s, acc=0.532, loss=0.967]\n"
     ]
    },
    {
     "name": "stdout",
     "output_type": "stream",
     "text": [
      "Epoch 335 validation: negative log likelihood loss=1.038074016571045, Accuracy=0.48177841305732727\n"
     ]
    },
    {
     "name": "stderr",
     "output_type": "stream",
     "text": [
      "Epoch 336: 100%|██████████| 12/12 [00:00<00:00, 144.59batch/s, acc=0.532, loss=0.967]\n"
     ]
    },
    {
     "name": "stdout",
     "output_type": "stream",
     "text": [
      "Epoch 336 validation: negative log likelihood loss=1.0381097793579102, Accuracy=0.48177841305732727\n"
     ]
    },
    {
     "name": "stderr",
     "output_type": "stream",
     "text": [
      "Epoch 337: 100%|██████████| 12/12 [00:00<00:00, 157.90batch/s, acc=0.532, loss=0.967]\n"
     ]
    },
    {
     "name": "stdout",
     "output_type": "stream",
     "text": [
      "Epoch 337 validation: negative log likelihood loss=1.0381439924240112, Accuracy=0.48177841305732727\n"
     ]
    },
    {
     "name": "stderr",
     "output_type": "stream",
     "text": [
      "Epoch 338: 100%|██████████| 12/12 [00:00<00:00, 157.89batch/s, acc=0.532, loss=0.966]\n"
     ]
    },
    {
     "name": "stdout",
     "output_type": "stream",
     "text": [
      "Epoch 338 validation: negative log likelihood loss=1.0381780862808228, Accuracy=0.48177841305732727\n"
     ]
    },
    {
     "name": "stderr",
     "output_type": "stream",
     "text": [
      "Epoch 339: 100%|██████████| 12/12 [00:00<00:00, 169.02batch/s, acc=0.532, loss=0.966]\n"
     ]
    },
    {
     "name": "stdout",
     "output_type": "stream",
     "text": [
      "Epoch 339 validation: negative log likelihood loss=1.0382156372070312, Accuracy=0.4810495674610138\n"
     ]
    },
    {
     "name": "stderr",
     "output_type": "stream",
     "text": [
      "Epoch 340: 100%|██████████| 12/12 [00:00<00:00, 173.92batch/s, acc=0.532, loss=0.966]\n"
     ]
    },
    {
     "name": "stdout",
     "output_type": "stream",
     "text": [
      "Epoch 340 validation: negative log likelihood loss=1.0382503271102905, Accuracy=0.4810495674610138\n"
     ]
    },
    {
     "name": "stderr",
     "output_type": "stream",
     "text": [
      "Epoch 341: 100%|██████████| 12/12 [00:00<00:00, 164.39batch/s, acc=0.532, loss=0.966]\n"
     ]
    },
    {
     "name": "stdout",
     "output_type": "stream",
     "text": [
      "Epoch 341 validation: negative log likelihood loss=1.0382804870605469, Accuracy=0.4810495674610138\n"
     ]
    },
    {
     "name": "stderr",
     "output_type": "stream",
     "text": [
      "Epoch 342: 100%|██████████| 12/12 [00:00<00:00, 160.01batch/s, acc=0.532, loss=0.966]\n"
     ]
    },
    {
     "name": "stdout",
     "output_type": "stream",
     "text": [
      "Epoch 342 validation: negative log likelihood loss=1.0383117198944092, Accuracy=0.4810495674610138\n"
     ]
    },
    {
     "name": "stderr",
     "output_type": "stream",
     "text": [
      "Epoch 343: 100%|██████████| 12/12 [00:00<00:00, 176.48batch/s, acc=0.532, loss=0.966]\n"
     ]
    },
    {
     "name": "stdout",
     "output_type": "stream",
     "text": [
      "Epoch 343 validation: negative log likelihood loss=1.03834867477417, Accuracy=0.4810495674610138\n"
     ]
    },
    {
     "name": "stderr",
     "output_type": "stream",
     "text": [
      "Epoch 344: 100%|██████████| 12/12 [00:00<00:00, 89.56batch/s, acc=0.532, loss=0.966]\n"
     ]
    },
    {
     "name": "stdout",
     "output_type": "stream",
     "text": [
      "Epoch 344 validation: negative log likelihood loss=1.038376808166504, Accuracy=0.48032069206237793\n"
     ]
    },
    {
     "name": "stderr",
     "output_type": "stream",
     "text": [
      "Epoch 345: 100%|██████████| 12/12 [00:00<00:00, 131.87batch/s, acc=0.532, loss=0.965]\n"
     ]
    },
    {
     "name": "stdout",
     "output_type": "stream",
     "text": [
      "Epoch 345 validation: negative log likelihood loss=1.038404941558838, Accuracy=0.48177841305732727\n"
     ]
    },
    {
     "name": "stderr",
     "output_type": "stream",
     "text": [
      "Epoch 346: 100%|██████████| 12/12 [00:00<00:00, 148.15batch/s, acc=0.532, loss=0.965]\n"
     ]
    },
    {
     "name": "stdout",
     "output_type": "stream",
     "text": [
      "Epoch 346 validation: negative log likelihood loss=1.0384353399276733, Accuracy=0.48177841305732727\n"
     ]
    },
    {
     "name": "stderr",
     "output_type": "stream",
     "text": [
      "Epoch 347: 100%|██████████| 12/12 [00:00<00:00, 136.37batch/s, acc=0.532, loss=0.965]\n"
     ]
    },
    {
     "name": "stdout",
     "output_type": "stream",
     "text": [
      "Epoch 347 validation: negative log likelihood loss=1.0384610891342163, Accuracy=0.48177841305732727\n"
     ]
    },
    {
     "name": "stderr",
     "output_type": "stream",
     "text": [
      "Epoch 348: 100%|██████████| 12/12 [00:00<00:00, 137.94batch/s, acc=0.532, loss=0.965]\n"
     ]
    },
    {
     "name": "stdout",
     "output_type": "stream",
     "text": [
      "Epoch 348 validation: negative log likelihood loss=1.0384901762008667, Accuracy=0.48250728845596313\n"
     ]
    },
    {
     "name": "stderr",
     "output_type": "stream",
     "text": [
      "Epoch 349: 100%|██████████| 12/12 [00:00<00:00, 141.18batch/s, acc=0.532, loss=0.965]\n"
     ]
    },
    {
     "name": "stdout",
     "output_type": "stream",
     "text": [
      "Epoch 349 validation: negative log likelihood loss=1.0385175943374634, Accuracy=0.4839650094509125\n"
     ]
    },
    {
     "name": "stderr",
     "output_type": "stream",
     "text": [
      "Epoch 350: 100%|██████████| 12/12 [00:00<00:00, 131.87batch/s, acc=0.532, loss=0.965]\n"
     ]
    },
    {
     "name": "stdout",
     "output_type": "stream",
     "text": [
      "Epoch 350 validation: negative log likelihood loss=1.0385466814041138, Accuracy=0.48469388484954834\n"
     ]
    },
    {
     "name": "stderr",
     "output_type": "stream",
     "text": [
      "Epoch 351: 100%|██████████| 12/12 [00:00<00:00, 141.19batch/s, acc=0.532, loss=0.965]\n"
     ]
    },
    {
     "name": "stdout",
     "output_type": "stream",
     "text": [
      "Epoch 351 validation: negative log likelihood loss=1.0385726690292358, Accuracy=0.48469388484954834\n"
     ]
    },
    {
     "name": "stderr",
     "output_type": "stream",
     "text": [
      "Epoch 352: 100%|██████████| 12/12 [00:00<00:00, 133.34batch/s, acc=0.532, loss=0.964]\n"
     ]
    },
    {
     "name": "stdout",
     "output_type": "stream",
     "text": [
      "Epoch 352 validation: negative log likelihood loss=1.0386006832122803, Accuracy=0.48469388484954834\n"
     ]
    },
    {
     "name": "stderr",
     "output_type": "stream",
     "text": [
      "Epoch 353: 100%|██████████| 12/12 [00:00<00:00, 130.44batch/s, acc=0.532, loss=0.964]\n"
     ]
    },
    {
     "name": "stdout",
     "output_type": "stream",
     "text": [
      "Epoch 353 validation: negative log likelihood loss=1.0386286973953247, Accuracy=0.4839650094509125\n"
     ]
    },
    {
     "name": "stderr",
     "output_type": "stream",
     "text": [
      "Epoch 354: 100%|██████████| 12/12 [00:00<00:00, 142.87batch/s, acc=0.532, loss=0.964]\n"
     ]
    },
    {
     "name": "stdout",
     "output_type": "stream",
     "text": [
      "Epoch 354 validation: negative log likelihood loss=1.0386556386947632, Accuracy=0.4839650094509125\n"
     ]
    },
    {
     "name": "stderr",
     "output_type": "stream",
     "text": [
      "Epoch 355: 100%|██████████| 12/12 [00:00<00:00, 76.44batch/s, acc=0.532, loss=0.964] \n"
     ]
    },
    {
     "name": "stdout",
     "output_type": "stream",
     "text": [
      "Epoch 355 validation: negative log likelihood loss=1.0386825799942017, Accuracy=0.4839650094509125\n"
     ]
    },
    {
     "name": "stderr",
     "output_type": "stream",
     "text": [
      "Epoch 356: 100%|██████████| 12/12 [00:00<00:00, 139.54batch/s, acc=0.532, loss=0.964]\n"
     ]
    },
    {
     "name": "stdout",
     "output_type": "stream",
     "text": [
      "Epoch 356 validation: negative log likelihood loss=1.0387117862701416, Accuracy=0.4839650094509125\n"
     ]
    },
    {
     "name": "stderr",
     "output_type": "stream",
     "text": [
      "Epoch 357: 100%|██████████| 12/12 [00:00<00:00, 141.18batch/s, acc=0.532, loss=0.964]\n"
     ]
    },
    {
     "name": "stdout",
     "output_type": "stream",
     "text": [
      "Epoch 357 validation: negative log likelihood loss=1.038741946220398, Accuracy=0.4839650094509125\n"
     ]
    },
    {
     "name": "stderr",
     "output_type": "stream",
     "text": [
      "Epoch 358: 100%|██████████| 12/12 [00:00<00:00, 141.18batch/s, acc=0.532, loss=0.964]\n"
     ]
    },
    {
     "name": "stdout",
     "output_type": "stream",
     "text": [
      "Epoch 358 validation: negative log likelihood loss=1.038771629333496, Accuracy=0.4839650094509125\n"
     ]
    },
    {
     "name": "stderr",
     "output_type": "stream",
     "text": [
      "Epoch 359: 100%|██████████| 12/12 [00:00<00:00, 142.86batch/s, acc=0.532, loss=0.963]\n"
     ]
    },
    {
     "name": "stdout",
     "output_type": "stream",
     "text": [
      "Epoch 359 validation: negative log likelihood loss=1.038801670074463, Accuracy=0.4839650094509125\n"
     ]
    },
    {
     "name": "stderr",
     "output_type": "stream",
     "text": [
      "Epoch 360: 100%|██████████| 12/12 [00:00<00:00, 148.16batch/s, acc=0.532, loss=0.963]\n"
     ]
    },
    {
     "name": "stdout",
     "output_type": "stream",
     "text": [
      "Epoch 360 validation: negative log likelihood loss=1.0388284921646118, Accuracy=0.48469388484954834\n"
     ]
    },
    {
     "name": "stderr",
     "output_type": "stream",
     "text": [
      "Epoch 361: 100%|██████████| 12/12 [00:00<00:00, 150.00batch/s, acc=0.532, loss=0.963]\n"
     ]
    },
    {
     "name": "stdout",
     "output_type": "stream",
     "text": [
      "Epoch 361 validation: negative log likelihood loss=1.038856863975525, Accuracy=0.4839650094509125\n"
     ]
    },
    {
     "name": "stderr",
     "output_type": "stream",
     "text": [
      "Epoch 362: 100%|██████████| 12/12 [00:00<00:00, 153.85batch/s, acc=0.532, loss=0.963]\n"
     ]
    },
    {
     "name": "stdout",
     "output_type": "stream",
     "text": [
      "Epoch 362 validation: negative log likelihood loss=1.038884162902832, Accuracy=0.4839650094509125\n"
     ]
    },
    {
     "name": "stderr",
     "output_type": "stream",
     "text": [
      "Epoch 363: 100%|██████████| 12/12 [00:00<00:00, 95.24batch/s, acc=0.532, loss=0.963] \n"
     ]
    },
    {
     "name": "stdout",
     "output_type": "stream",
     "text": [
      "Epoch 363 validation: negative log likelihood loss=1.0389082431793213, Accuracy=0.483236163854599\n"
     ]
    },
    {
     "name": "stderr",
     "output_type": "stream",
     "text": [
      "Epoch 364: 100%|██████████| 12/12 [00:00<00:00, 117.65batch/s, acc=0.532, loss=0.963]\n"
     ]
    },
    {
     "name": "stdout",
     "output_type": "stream",
     "text": [
      "Epoch 364 validation: negative log likelihood loss=1.0389307737350464, Accuracy=0.483236163854599\n"
     ]
    },
    {
     "name": "stderr",
     "output_type": "stream",
     "text": [
      "Epoch 365: 100%|██████████| 12/12 [00:00<00:00, 137.93batch/s, acc=0.532, loss=0.963]\n"
     ]
    },
    {
     "name": "stdout",
     "output_type": "stream",
     "text": [
      "Epoch 365 validation: negative log likelihood loss=1.0389504432678223, Accuracy=0.4839650094509125\n"
     ]
    },
    {
     "name": "stderr",
     "output_type": "stream",
     "text": [
      "Epoch 366: 100%|██████████| 12/12 [00:00<00:00, 133.34batch/s, acc=0.536, loss=0.962]\n"
     ]
    },
    {
     "name": "stdout",
     "output_type": "stream",
     "text": [
      "Epoch 366 validation: negative log likelihood loss=1.0389759540557861, Accuracy=0.483236163854599\n"
     ]
    },
    {
     "name": "stderr",
     "output_type": "stream",
     "text": [
      "Epoch 367: 100%|██████████| 12/12 [00:00<00:00, 136.37batch/s, acc=0.536, loss=0.962]\n"
     ]
    },
    {
     "name": "stdout",
     "output_type": "stream",
     "text": [
      "Epoch 367 validation: negative log likelihood loss=1.039004921913147, Accuracy=0.483236163854599\n"
     ]
    },
    {
     "name": "stderr",
     "output_type": "stream",
     "text": [
      "Epoch 368: 100%|██████████| 12/12 [00:00<00:00, 137.94batch/s, acc=0.536, loss=0.962]\n"
     ]
    },
    {
     "name": "stdout",
     "output_type": "stream",
     "text": [
      "Epoch 368 validation: negative log likelihood loss=1.039027452468872, Accuracy=0.48177841305732727\n"
     ]
    },
    {
     "name": "stderr",
     "output_type": "stream",
     "text": [
      "Epoch 369: 100%|██████████| 12/12 [00:00<00:00, 134.84batch/s, acc=0.536, loss=0.962]\n"
     ]
    },
    {
     "name": "stdout",
     "output_type": "stream",
     "text": [
      "Epoch 369 validation: negative log likelihood loss=1.0390526056289673, Accuracy=0.48177841305732727\n"
     ]
    },
    {
     "name": "stderr",
     "output_type": "stream",
     "text": [
      "Epoch 370: 100%|██████████| 12/12 [00:00<00:00, 134.84batch/s, acc=0.536, loss=0.962]\n"
     ]
    },
    {
     "name": "stdout",
     "output_type": "stream",
     "text": [
      "Epoch 370 validation: negative log likelihood loss=1.0390799045562744, Accuracy=0.48250728845596313\n"
     ]
    },
    {
     "name": "stderr",
     "output_type": "stream",
     "text": [
      "Epoch 371: 100%|██████████| 12/12 [00:00<00:00, 129.04batch/s, acc=0.536, loss=0.962]\n"
     ]
    },
    {
     "name": "stdout",
     "output_type": "stream",
     "text": [
      "Epoch 371 validation: negative log likelihood loss=1.039104700088501, Accuracy=0.48250728845596313\n"
     ]
    },
    {
     "name": "stderr",
     "output_type": "stream",
     "text": [
      "Epoch 372: 100%|██████████| 12/12 [00:00<00:00, 131.87batch/s, acc=0.536, loss=0.962]\n"
     ]
    },
    {
     "name": "stdout",
     "output_type": "stream",
     "text": [
      "Epoch 372 validation: negative log likelihood loss=1.0391300916671753, Accuracy=0.48250728845596313\n"
     ]
    },
    {
     "name": "stderr",
     "output_type": "stream",
     "text": [
      "Epoch 373: 100%|██████████| 12/12 [00:00<00:00, 130.44batch/s, acc=0.536, loss=0.961]\n"
     ]
    },
    {
     "name": "stdout",
     "output_type": "stream",
     "text": [
      "Epoch 373 validation: negative log likelihood loss=1.0391535758972168, Accuracy=0.48250728845596313\n"
     ]
    },
    {
     "name": "stderr",
     "output_type": "stream",
     "text": [
      "Epoch 374: 100%|██████████| 12/12 [00:00<00:00, 130.44batch/s, acc=0.536, loss=0.961]\n"
     ]
    },
    {
     "name": "stdout",
     "output_type": "stream",
     "text": [
      "Epoch 374 validation: negative log likelihood loss=1.0391801595687866, Accuracy=0.483236163854599\n"
     ]
    },
    {
     "name": "stderr",
     "output_type": "stream",
     "text": [
      "Epoch 375: 100%|██████████| 12/12 [00:00<00:00, 66.30batch/s, acc=0.536, loss=0.961] \n"
     ]
    },
    {
     "name": "stdout",
     "output_type": "stream",
     "text": [
      "Epoch 375 validation: negative log likelihood loss=1.039209246635437, Accuracy=0.48250728845596313\n"
     ]
    },
    {
     "name": "stderr",
     "output_type": "stream",
     "text": [
      "Epoch 376: 100%|██████████| 12/12 [00:00<00:00, 131.87batch/s, acc=0.536, loss=0.961]\n"
     ]
    },
    {
     "name": "stdout",
     "output_type": "stream",
     "text": [
      "Epoch 376 validation: negative log likelihood loss=1.039239525794983, Accuracy=0.48250728845596313\n"
     ]
    },
    {
     "name": "stderr",
     "output_type": "stream",
     "text": [
      "Epoch 377: 100%|██████████| 12/12 [00:00<00:00, 139.53batch/s, acc=0.536, loss=0.961]\n"
     ]
    },
    {
     "name": "stdout",
     "output_type": "stream",
     "text": [
      "Epoch 377 validation: negative log likelihood loss=1.0392647981643677, Accuracy=0.48177841305732727\n"
     ]
    },
    {
     "name": "stderr",
     "output_type": "stream",
     "text": [
      "Epoch 378: 100%|██████████| 12/12 [00:00<00:00, 141.18batch/s, acc=0.536, loss=0.961]\n"
     ]
    },
    {
     "name": "stdout",
     "output_type": "stream",
     "text": [
      "Epoch 378 validation: negative log likelihood loss=1.0392943620681763, Accuracy=0.4810495674610138\n"
     ]
    },
    {
     "name": "stderr",
     "output_type": "stream",
     "text": [
      "Epoch 379: 100%|██████████| 12/12 [00:00<00:00, 136.37batch/s, acc=0.536, loss=0.961]\n"
     ]
    },
    {
     "name": "stdout",
     "output_type": "stream",
     "text": [
      "Epoch 379 validation: negative log likelihood loss=1.0393218994140625, Accuracy=0.48032069206237793\n"
     ]
    },
    {
     "name": "stderr",
     "output_type": "stream",
     "text": [
      "Epoch 380: 100%|██████████| 12/12 [00:00<00:00, 134.83batch/s, acc=0.536, loss=0.96]\n"
     ]
    },
    {
     "name": "stdout",
     "output_type": "stream",
     "text": [
      "Epoch 380 validation: negative log likelihood loss=1.0393502712249756, Accuracy=0.4810495674610138\n"
     ]
    },
    {
     "name": "stderr",
     "output_type": "stream",
     "text": [
      "Epoch 381: 100%|██████████| 12/12 [00:00<00:00, 137.94batch/s, acc=0.536, loss=0.96]\n"
     ]
    },
    {
     "name": "stdout",
     "output_type": "stream",
     "text": [
      "Epoch 381 validation: negative log likelihood loss=1.0393799543380737, Accuracy=0.48177841305732727\n"
     ]
    },
    {
     "name": "stderr",
     "output_type": "stream",
     "text": [
      "Epoch 382: 100%|██████████| 12/12 [00:00<00:00, 142.86batch/s, acc=0.536, loss=0.96]\n"
     ]
    },
    {
     "name": "stdout",
     "output_type": "stream",
     "text": [
      "Epoch 382 validation: negative log likelihood loss=1.0394102334976196, Accuracy=0.48177841305732727\n"
     ]
    },
    {
     "name": "stderr",
     "output_type": "stream",
     "text": [
      "Epoch 383: 100%|██████████| 12/12 [00:00<00:00, 75.95batch/s, acc=0.536, loss=0.96] \n"
     ]
    },
    {
     "name": "stdout",
     "output_type": "stream",
     "text": [
      "Epoch 383 validation: negative log likelihood loss=1.0394405126571655, Accuracy=0.48250728845596313\n"
     ]
    },
    {
     "name": "stderr",
     "output_type": "stream",
     "text": [
      "Epoch 384: 100%|██████████| 12/12 [00:00<00:00, 136.37batch/s, acc=0.536, loss=0.96]\n"
     ]
    },
    {
     "name": "stdout",
     "output_type": "stream",
     "text": [
      "Epoch 384 validation: negative log likelihood loss=1.0394660234451294, Accuracy=0.48250728845596313\n"
     ]
    },
    {
     "name": "stderr",
     "output_type": "stream",
     "text": [
      "Epoch 385: 100%|██████████| 12/12 [00:00<00:00, 141.18batch/s, acc=0.536, loss=0.96]\n"
     ]
    },
    {
     "name": "stdout",
     "output_type": "stream",
     "text": [
      "Epoch 385 validation: negative log likelihood loss=1.039500117301941, Accuracy=0.483236163854599\n"
     ]
    },
    {
     "name": "stderr",
     "output_type": "stream",
     "text": [
      "Epoch 386: 100%|██████████| 12/12 [00:00<00:00, 139.54batch/s, acc=0.536, loss=0.96]\n"
     ]
    },
    {
     "name": "stdout",
     "output_type": "stream",
     "text": [
      "Epoch 386 validation: negative log likelihood loss=1.0395333766937256, Accuracy=0.48250728845596313\n"
     ]
    },
    {
     "name": "stderr",
     "output_type": "stream",
     "text": [
      "Epoch 387: 100%|██████████| 12/12 [00:00<00:00, 144.58batch/s, acc=0.536, loss=0.96]\n"
     ]
    },
    {
     "name": "stdout",
     "output_type": "stream",
     "text": [
      "Epoch 387 validation: negative log likelihood loss=1.039566159248352, Accuracy=0.48250728845596313\n"
     ]
    },
    {
     "name": "stderr",
     "output_type": "stream",
     "text": [
      "Epoch 388: 100%|██████████| 12/12 [00:00<00:00, 160.01batch/s, acc=0.536, loss=0.959]\n"
     ]
    },
    {
     "name": "stdout",
     "output_type": "stream",
     "text": [
      "Epoch 388 validation: negative log likelihood loss=1.0395969152450562, Accuracy=0.483236163854599\n"
     ]
    },
    {
     "name": "stderr",
     "output_type": "stream",
     "text": [
      "Epoch 389: 100%|██████████| 12/12 [00:00<00:00, 155.85batch/s, acc=0.536, loss=0.959]\n"
     ]
    },
    {
     "name": "stdout",
     "output_type": "stream",
     "text": [
      "Epoch 389 validation: negative log likelihood loss=1.0396243333816528, Accuracy=0.4839650094509125\n"
     ]
    },
    {
     "name": "stderr",
     "output_type": "stream",
     "text": [
      "Epoch 390: 100%|██████████| 12/12 [00:00<00:00, 160.01batch/s, acc=0.536, loss=0.959]\n"
     ]
    },
    {
     "name": "stdout",
     "output_type": "stream",
     "text": [
      "Epoch 390 validation: negative log likelihood loss=1.0396603345870972, Accuracy=0.483236163854599\n"
     ]
    },
    {
     "name": "stderr",
     "output_type": "stream",
     "text": [
      "Epoch 391: 100%|██████████| 12/12 [00:00<00:00, 139.54batch/s, acc=0.536, loss=0.959]\n"
     ]
    },
    {
     "name": "stdout",
     "output_type": "stream",
     "text": [
      "Epoch 391 validation: negative log likelihood loss=1.0396918058395386, Accuracy=0.483236163854599\n"
     ]
    },
    {
     "name": "stderr",
     "output_type": "stream",
     "text": [
      "Epoch 392: 100%|██████████| 12/12 [00:00<00:00, 137.94batch/s, acc=0.536, loss=0.959]\n"
     ]
    },
    {
     "name": "stdout",
     "output_type": "stream",
     "text": [
      "Epoch 392 validation: negative log likelihood loss=1.0397236347198486, Accuracy=0.4839650094509125\n"
     ]
    },
    {
     "name": "stderr",
     "output_type": "stream",
     "text": [
      "Epoch 393: 100%|██████████| 12/12 [00:00<00:00, 77.93batch/s, acc=0.536, loss=0.959] \n"
     ]
    },
    {
     "name": "stdout",
     "output_type": "stream",
     "text": [
      "Epoch 393 validation: negative log likelihood loss=1.0397554636001587, Accuracy=0.4839650094509125\n"
     ]
    },
    {
     "name": "stderr",
     "output_type": "stream",
     "text": [
      "Epoch 394: 100%|██████████| 12/12 [00:00<00:00, 134.83batch/s, acc=0.536, loss=0.959]\n"
     ]
    },
    {
     "name": "stdout",
     "output_type": "stream",
     "text": [
      "Epoch 394 validation: negative log likelihood loss=1.0397862195968628, Accuracy=0.4839650094509125\n"
     ]
    },
    {
     "name": "stderr",
     "output_type": "stream",
     "text": [
      "Epoch 395: 100%|██████████| 12/12 [00:00<00:00, 133.34batch/s, acc=0.536, loss=0.958]\n"
     ]
    },
    {
     "name": "stdout",
     "output_type": "stream",
     "text": [
      "Epoch 395 validation: negative log likelihood loss=1.0398228168487549, Accuracy=0.48469388484954834\n"
     ]
    },
    {
     "name": "stderr",
     "output_type": "stream",
     "text": [
      "Epoch 396: 100%|██████████| 12/12 [00:00<00:00, 134.84batch/s, acc=0.536, loss=0.958]\n"
     ]
    },
    {
     "name": "stdout",
     "output_type": "stream",
     "text": [
      "Epoch 396 validation: negative log likelihood loss=1.0398553609848022, Accuracy=0.48469388484954834\n"
     ]
    },
    {
     "name": "stderr",
     "output_type": "stream",
     "text": [
      "Epoch 397: 100%|██████████| 12/12 [00:00<00:00, 144.59batch/s, acc=0.536, loss=0.958]\n"
     ]
    },
    {
     "name": "stdout",
     "output_type": "stream",
     "text": [
      "Epoch 397 validation: negative log likelihood loss=1.0398887395858765, Accuracy=0.48469388484954834\n"
     ]
    },
    {
     "name": "stderr",
     "output_type": "stream",
     "text": [
      "Epoch 398: 100%|██████████| 12/12 [00:00<00:00, 144.59batch/s, acc=0.536, loss=0.958]\n"
     ]
    },
    {
     "name": "stdout",
     "output_type": "stream",
     "text": [
      "Epoch 398 validation: negative log likelihood loss=1.0399221181869507, Accuracy=0.48469388484954834\n"
     ]
    },
    {
     "name": "stderr",
     "output_type": "stream",
     "text": [
      "Epoch 399: 100%|██████████| 12/12 [00:00<00:00, 151.91batch/s, acc=0.536, loss=0.958]\n"
     ]
    },
    {
     "name": "stdout",
     "output_type": "stream",
     "text": [
      "Epoch 399 validation: negative log likelihood loss=1.0399616956710815, Accuracy=0.48469388484954834\n"
     ]
    },
    {
     "name": "stderr",
     "output_type": "stream",
     "text": [
      "Epoch 400: 100%|██████████| 12/12 [00:00<00:00, 162.16batch/s, acc=0.536, loss=0.958]\n"
     ]
    },
    {
     "name": "stdout",
     "output_type": "stream",
     "text": [
      "Epoch 400 validation: negative log likelihood loss=1.039995789527893, Accuracy=0.4839650094509125\n"
     ]
    },
    {
     "name": "stderr",
     "output_type": "stream",
     "text": [
      "Epoch 401: 100%|██████████| 12/12 [00:00<00:00, 155.84batch/s, acc=0.536, loss=0.958]\n"
     ]
    },
    {
     "name": "stdout",
     "output_type": "stream",
     "text": [
      "Epoch 401 validation: negative log likelihood loss=1.0400339365005493, Accuracy=0.4839650094509125\n"
     ]
    },
    {
     "name": "stderr",
     "output_type": "stream",
     "text": [
      "Epoch 402: 100%|██████████| 12/12 [00:00<00:00, 148.15batch/s, acc=0.536, loss=0.958]\n"
     ]
    },
    {
     "name": "stdout",
     "output_type": "stream",
     "text": [
      "Epoch 402 validation: negative log likelihood loss=1.0400701761245728, Accuracy=0.4839650094509125\n"
     ]
    },
    {
     "name": "stderr",
     "output_type": "stream",
     "text": [
      "Epoch 403: 100%|██████████| 12/12 [00:00<00:00, 160.01batch/s, acc=0.536, loss=0.957]\n"
     ]
    },
    {
     "name": "stdout",
     "output_type": "stream",
     "text": [
      "Epoch 403 validation: negative log likelihood loss=1.0401065349578857, Accuracy=0.4839650094509125\n"
     ]
    },
    {
     "name": "stderr",
     "output_type": "stream",
     "text": [
      "Epoch 404: 100%|██████████| 12/12 [00:00<00:00, 153.85batch/s, acc=0.536, loss=0.957]\n"
     ]
    },
    {
     "name": "stdout",
     "output_type": "stream",
     "text": [
      "Epoch 404 validation: negative log likelihood loss=1.04014253616333, Accuracy=0.4839650094509125\n"
     ]
    },
    {
     "name": "stderr",
     "output_type": "stream",
     "text": [
      "Epoch 405: 100%|██████████| 12/12 [00:00<00:00, 81.09batch/s, acc=0.536, loss=0.957]\n"
     ]
    },
    {
     "name": "stdout",
     "output_type": "stream",
     "text": [
      "Epoch 405 validation: negative log likelihood loss=1.040176510810852, Accuracy=0.4839650094509125\n"
     ]
    },
    {
     "name": "stderr",
     "output_type": "stream",
     "text": [
      "Epoch 406: 100%|██████████| 12/12 [00:00<00:00, 155.85batch/s, acc=0.536, loss=0.957]\n"
     ]
    },
    {
     "name": "stdout",
     "output_type": "stream",
     "text": [
      "Epoch 406 validation: negative log likelihood loss=1.0402112007141113, Accuracy=0.4839650094509125\n"
     ]
    },
    {
     "name": "stderr",
     "output_type": "stream",
     "text": [
      "Epoch 407: 100%|██████████| 12/12 [00:00<00:00, 155.85batch/s, acc=0.536, loss=0.957]\n"
     ]
    },
    {
     "name": "stdout",
     "output_type": "stream",
     "text": [
      "Epoch 407 validation: negative log likelihood loss=1.0402430295944214, Accuracy=0.4839650094509125\n"
     ]
    },
    {
     "name": "stderr",
     "output_type": "stream",
     "text": [
      "Epoch 408: 100%|██████████| 12/12 [00:00<00:00, 155.85batch/s, acc=0.536, loss=0.957]\n"
     ]
    },
    {
     "name": "stdout",
     "output_type": "stream",
     "text": [
      "Epoch 408 validation: negative log likelihood loss=1.0402761697769165, Accuracy=0.4839650094509125\n"
     ]
    },
    {
     "name": "stderr",
     "output_type": "stream",
     "text": [
      "Epoch 409: 100%|██████████| 12/12 [00:00<00:00, 160.02batch/s, acc=0.536, loss=0.957]\n"
     ]
    },
    {
     "name": "stdout",
     "output_type": "stream",
     "text": [
      "Epoch 409 validation: negative log likelihood loss=1.0403108596801758, Accuracy=0.4839650094509125\n"
     ]
    },
    {
     "name": "stderr",
     "output_type": "stream",
     "text": [
      "Epoch 410: 100%|██████████| 12/12 [00:00<00:00, 162.17batch/s, acc=0.536, loss=0.957]\n"
     ]
    },
    {
     "name": "stdout",
     "output_type": "stream",
     "text": [
      "Epoch 410 validation: negative log likelihood loss=1.0403416156768799, Accuracy=0.48469388484954834\n"
     ]
    },
    {
     "name": "stderr",
     "output_type": "stream",
     "text": [
      "Epoch 411: 100%|██████████| 12/12 [00:00<00:00, 164.39batch/s, acc=0.536, loss=0.956]\n"
     ]
    },
    {
     "name": "stdout",
     "output_type": "stream",
     "text": [
      "Epoch 411 validation: negative log likelihood loss=1.040377140045166, Accuracy=0.48469388484954834\n"
     ]
    },
    {
     "name": "stderr",
     "output_type": "stream",
     "text": [
      "Epoch 412: 100%|██████████| 12/12 [00:00<00:00, 153.85batch/s, acc=0.536, loss=0.956]\n"
     ]
    },
    {
     "name": "stdout",
     "output_type": "stream",
     "text": [
      "Epoch 412 validation: negative log likelihood loss=1.040414810180664, Accuracy=0.48469388484954834\n"
     ]
    },
    {
     "name": "stderr",
     "output_type": "stream",
     "text": [
      "Epoch 413: 100%|██████████| 12/12 [00:00<00:00, 150.01batch/s, acc=0.536, loss=0.956]\n"
     ]
    },
    {
     "name": "stdout",
     "output_type": "stream",
     "text": [
      "Epoch 413 validation: negative log likelihood loss=1.0404505729675293, Accuracy=0.48469388484954834\n"
     ]
    },
    {
     "name": "stderr",
     "output_type": "stream",
     "text": [
      "Epoch 414: 100%|██████████| 12/12 [00:00<00:00, 157.91batch/s, acc=0.536, loss=0.956]\n"
     ]
    },
    {
     "name": "stdout",
     "output_type": "stream",
     "text": [
      "Epoch 414 validation: negative log likelihood loss=1.0404889583587646, Accuracy=0.4854227304458618\n"
     ]
    },
    {
     "name": "stderr",
     "output_type": "stream",
     "text": [
      "Epoch 415: 100%|██████████| 12/12 [00:00<00:00, 150.01batch/s, acc=0.536, loss=0.956]"
     ]
    },
    {
     "name": "stdout",
     "output_type": "stream",
     "text": [
      "Epoch 415 validation: negative log likelihood loss=1.0405253171920776, Accuracy=0.48469388484954834\n"
     ]
    },
    {
     "name": "stderr",
     "output_type": "stream",
     "text": [
      "\n",
      "Epoch 416: 100%|██████████| 12/12 [00:00<00:00, 157.91batch/s, acc=0.536, loss=0.956]\n"
     ]
    },
    {
     "name": "stdout",
     "output_type": "stream",
     "text": [
      "Epoch 416 validation: negative log likelihood loss=1.040561318397522, Accuracy=0.48469388484954834\n"
     ]
    },
    {
     "name": "stderr",
     "output_type": "stream",
     "text": [
      "Epoch 417: 100%|██████████| 12/12 [00:00<00:00, 150.01batch/s, acc=0.536, loss=0.956]\n"
     ]
    },
    {
     "name": "stdout",
     "output_type": "stream",
     "text": [
      "Epoch 417 validation: negative log likelihood loss=1.0405977964401245, Accuracy=0.48469388484954834\n"
     ]
    },
    {
     "name": "stderr",
     "output_type": "stream",
     "text": [
      "Epoch 418: 100%|██████████| 12/12 [00:00<00:00, 77.92batch/s, acc=0.536, loss=0.955] \n"
     ]
    },
    {
     "name": "stdout",
     "output_type": "stream",
     "text": [
      "Epoch 418 validation: negative log likelihood loss=1.040629267692566, Accuracy=0.48469388484954834\n"
     ]
    },
    {
     "name": "stderr",
     "output_type": "stream",
     "text": [
      "Epoch 419: 100%|██████████| 12/12 [00:00<00:00, 153.85batch/s, acc=0.536, loss=0.955]\n"
     ]
    },
    {
     "name": "stdout",
     "output_type": "stream",
     "text": [
      "Epoch 419 validation: negative log likelihood loss=1.0406583547592163, Accuracy=0.48469388484954834\n"
     ]
    },
    {
     "name": "stderr",
     "output_type": "stream",
     "text": [
      "Epoch 420: 100%|██████████| 12/12 [00:00<00:00, 151.90batch/s, acc=0.536, loss=0.955]\n"
     ]
    },
    {
     "name": "stdout",
     "output_type": "stream",
     "text": [
      "Epoch 420 validation: negative log likelihood loss=1.0406914949417114, Accuracy=0.4839650094509125\n"
     ]
    },
    {
     "name": "stderr",
     "output_type": "stream",
     "text": [
      "Epoch 421: 100%|██████████| 12/12 [00:00<00:00, 164.39batch/s, acc=0.536, loss=0.955]\n"
     ]
    },
    {
     "name": "stdout",
     "output_type": "stream",
     "text": [
      "Epoch 421 validation: negative log likelihood loss=1.0407296419143677, Accuracy=0.4839650094509125\n"
     ]
    },
    {
     "name": "stderr",
     "output_type": "stream",
     "text": [
      "Epoch 422: 100%|██████████| 12/12 [00:00<00:00, 160.00batch/s, acc=0.536, loss=0.955]\n"
     ]
    },
    {
     "name": "stdout",
     "output_type": "stream",
     "text": [
      "Epoch 422 validation: negative log likelihood loss=1.040763258934021, Accuracy=0.4839650094509125\n"
     ]
    },
    {
     "name": "stderr",
     "output_type": "stream",
     "text": [
      "Epoch 423: 100%|██████████| 12/12 [00:00<00:00, 155.85batch/s, acc=0.536, loss=0.955]\n"
     ]
    },
    {
     "name": "stdout",
     "output_type": "stream",
     "text": [
      "Epoch 423 validation: negative log likelihood loss=1.0407979488372803, Accuracy=0.4839650094509125\n"
     ]
    },
    {
     "name": "stderr",
     "output_type": "stream",
     "text": [
      "Epoch 424: 100%|██████████| 12/12 [00:00<00:00, 150.01batch/s, acc=0.536, loss=0.955]\n"
     ]
    },
    {
     "name": "stdout",
     "output_type": "stream",
     "text": [
      "Epoch 424 validation: negative log likelihood loss=1.0408310890197754, Accuracy=0.4839650094509125\n"
     ]
    },
    {
     "name": "stderr",
     "output_type": "stream",
     "text": [
      "Epoch 425: 100%|██████████| 12/12 [00:00<00:00, 151.90batch/s, acc=0.536, loss=0.955]\n"
     ]
    },
    {
     "name": "stdout",
     "output_type": "stream",
     "text": [
      "Epoch 425 validation: negative log likelihood loss=1.040866732597351, Accuracy=0.4839650094509125\n"
     ]
    },
    {
     "name": "stderr",
     "output_type": "stream",
     "text": [
      "Epoch 426: 100%|██████████| 12/12 [00:00<00:00, 153.85batch/s, acc=0.536, loss=0.954]\n"
     ]
    },
    {
     "name": "stdout",
     "output_type": "stream",
     "text": [
      "Epoch 426 validation: negative log likelihood loss=1.040900707244873, Accuracy=0.4839650094509125\n"
     ]
    },
    {
     "name": "stderr",
     "output_type": "stream",
     "text": [
      "Epoch 427: 100%|██████████| 12/12 [00:00<00:00, 146.35batch/s, acc=0.536, loss=0.954]\n"
     ]
    },
    {
     "name": "stdout",
     "output_type": "stream",
     "text": [
      "Epoch 427 validation: negative log likelihood loss=1.040932297706604, Accuracy=0.4839650094509125\n"
     ]
    },
    {
     "name": "stderr",
     "output_type": "stream",
     "text": [
      "Epoch 428: 100%|██████████| 12/12 [00:00<00:00, 137.94batch/s, acc=0.536, loss=0.954]\n"
     ]
    },
    {
     "name": "stdout",
     "output_type": "stream",
     "text": [
      "Epoch 428 validation: negative log likelihood loss=1.0409703254699707, Accuracy=0.4839650094509125\n"
     ]
    },
    {
     "name": "stderr",
     "output_type": "stream",
     "text": [
      "Epoch 429: 100%|██████████| 12/12 [00:00<00:00, 83.34batch/s, acc=0.536, loss=0.954] \n"
     ]
    },
    {
     "name": "stdout",
     "output_type": "stream",
     "text": [
      "Epoch 429 validation: negative log likelihood loss=1.0410065650939941, Accuracy=0.483236163854599\n"
     ]
    },
    {
     "name": "stderr",
     "output_type": "stream",
     "text": [
      "Epoch 430: 100%|██████████| 12/12 [00:00<00:00, 137.93batch/s, acc=0.54, loss=0.954] \n"
     ]
    },
    {
     "name": "stdout",
     "output_type": "stream",
     "text": [
      "Epoch 430 validation: negative log likelihood loss=1.041038155555725, Accuracy=0.4839650094509125\n"
     ]
    },
    {
     "name": "stderr",
     "output_type": "stream",
     "text": [
      "Epoch 431: 100%|██████████| 12/12 [00:00<00:00, 153.85batch/s, acc=0.536, loss=0.954]\n"
     ]
    },
    {
     "name": "stdout",
     "output_type": "stream",
     "text": [
      "Epoch 431 validation: negative log likelihood loss=1.0410701036453247, Accuracy=0.48469388484954834\n"
     ]
    },
    {
     "name": "stderr",
     "output_type": "stream",
     "text": [
      "Epoch 432: 100%|██████████| 12/12 [00:00<00:00, 162.17batch/s, acc=0.536, loss=0.954]\n"
     ]
    },
    {
     "name": "stdout",
     "output_type": "stream",
     "text": [
      "Epoch 432 validation: negative log likelihood loss=1.0411028861999512, Accuracy=0.48469388484954834\n"
     ]
    },
    {
     "name": "stderr",
     "output_type": "stream",
     "text": [
      "Epoch 433: 100%|██████████| 12/12 [00:00<00:00, 160.01batch/s, acc=0.536, loss=0.953]\n"
     ]
    },
    {
     "name": "stdout",
     "output_type": "stream",
     "text": [
      "Epoch 433 validation: negative log likelihood loss=1.0411345958709717, Accuracy=0.48469388484954834\n"
     ]
    },
    {
     "name": "stderr",
     "output_type": "stream",
     "text": [
      "Epoch 434: 100%|██████████| 12/12 [00:00<00:00, 166.67batch/s, acc=0.536, loss=0.953]\n"
     ]
    },
    {
     "name": "stdout",
     "output_type": "stream",
     "text": [
      "Epoch 434 validation: negative log likelihood loss=1.0411696434020996, Accuracy=0.48469388484954834\n"
     ]
    },
    {
     "name": "stderr",
     "output_type": "stream",
     "text": [
      "Epoch 435: 100%|██████████| 12/12 [00:00<00:00, 164.39batch/s, acc=0.536, loss=0.953]\n"
     ]
    },
    {
     "name": "stdout",
     "output_type": "stream",
     "text": [
      "Epoch 435 validation: negative log likelihood loss=1.041198492050171, Accuracy=0.48469388484954834\n"
     ]
    },
    {
     "name": "stderr",
     "output_type": "stream",
     "text": [
      "Epoch 436: 100%|██████████| 12/12 [00:00<00:00, 157.90batch/s, acc=0.536, loss=0.953]\n"
     ]
    },
    {
     "name": "stdout",
     "output_type": "stream",
     "text": [
      "Epoch 436 validation: negative log likelihood loss=1.0412266254425049, Accuracy=0.48469388484954834\n"
     ]
    },
    {
     "name": "stderr",
     "output_type": "stream",
     "text": [
      "Epoch 437: 100%|██████████| 12/12 [00:00<00:00, 169.03batch/s, acc=0.536, loss=0.953]\n"
     ]
    },
    {
     "name": "stdout",
     "output_type": "stream",
     "text": [
      "Epoch 437 validation: negative log likelihood loss=1.0412598848342896, Accuracy=0.48469388484954834\n"
     ]
    },
    {
     "name": "stderr",
     "output_type": "stream",
     "text": [
      "Epoch 438: 100%|██████████| 12/12 [00:00<00:00, 166.67batch/s, acc=0.536, loss=0.953]\n"
     ]
    },
    {
     "name": "stdout",
     "output_type": "stream",
     "text": [
      "Epoch 438 validation: negative log likelihood loss=1.0412907600402832, Accuracy=0.4839650094509125\n"
     ]
    },
    {
     "name": "stderr",
     "output_type": "stream",
     "text": [
      "Epoch 439: 100%|██████████| 12/12 [00:00<00:00, 160.00batch/s, acc=0.536, loss=0.953]\n"
     ]
    },
    {
     "name": "stdout",
     "output_type": "stream",
     "text": [
      "Epoch 439 validation: negative log likelihood loss=1.0413206815719604, Accuracy=0.483236163854599\n"
     ]
    },
    {
     "name": "stderr",
     "output_type": "stream",
     "text": [
      "Epoch 440: 100%|██████████| 12/12 [00:00<00:00, 82.20batch/s, acc=0.536, loss=0.952] \n"
     ]
    },
    {
     "name": "stdout",
     "output_type": "stream",
     "text": [
      "Epoch 440 validation: negative log likelihood loss=1.0413568019866943, Accuracy=0.483236163854599\n"
     ]
    },
    {
     "name": "stderr",
     "output_type": "stream",
     "text": [
      "Epoch 441: 100%|██████████| 12/12 [00:00<00:00, 144.58batch/s, acc=0.536, loss=0.952]\n"
     ]
    },
    {
     "name": "stdout",
     "output_type": "stream",
     "text": [
      "Epoch 441 validation: negative log likelihood loss=1.0413892269134521, Accuracy=0.483236163854599\n"
     ]
    },
    {
     "name": "stderr",
     "output_type": "stream",
     "text": [
      "Epoch 442: 100%|██████████| 12/12 [00:00<00:00, 141.18batch/s, acc=0.536, loss=0.952]\n"
     ]
    },
    {
     "name": "stdout",
     "output_type": "stream",
     "text": [
      "Epoch 442 validation: negative log likelihood loss=1.0414235591888428, Accuracy=0.483236163854599\n"
     ]
    },
    {
     "name": "stderr",
     "output_type": "stream",
     "text": [
      "Epoch 443: 100%|██████████| 12/12 [00:00<00:00, 133.34batch/s, acc=0.536, loss=0.952]\n"
     ]
    },
    {
     "name": "stdout",
     "output_type": "stream",
     "text": [
      "Epoch 443 validation: negative log likelihood loss=1.0414602756500244, Accuracy=0.483236163854599\n"
     ]
    },
    {
     "name": "stderr",
     "output_type": "stream",
     "text": [
      "Epoch 444: 100%|██████████| 12/12 [00:00<00:00, 148.15batch/s, acc=0.536, loss=0.952]\n"
     ]
    },
    {
     "name": "stdout",
     "output_type": "stream",
     "text": [
      "Epoch 444 validation: negative log likelihood loss=1.04149329662323, Accuracy=0.483236163854599\n"
     ]
    },
    {
     "name": "stderr",
     "output_type": "stream",
     "text": [
      "Epoch 445: 100%|██████████| 12/12 [00:00<00:00, 144.58batch/s, acc=0.536, loss=0.952]\n"
     ]
    },
    {
     "name": "stdout",
     "output_type": "stream",
     "text": [
      "Epoch 445 validation: negative log likelihood loss=1.0415276288986206, Accuracy=0.483236163854599\n"
     ]
    },
    {
     "name": "stderr",
     "output_type": "stream",
     "text": [
      "Epoch 446: 100%|██████████| 12/12 [00:00<00:00, 164.38batch/s, acc=0.536, loss=0.952]\n"
     ]
    },
    {
     "name": "stdout",
     "output_type": "stream",
     "text": [
      "Epoch 446 validation: negative log likelihood loss=1.0415617227554321, Accuracy=0.4839650094509125\n"
     ]
    },
    {
     "name": "stderr",
     "output_type": "stream",
     "text": [
      "Epoch 447: 100%|██████████| 12/12 [00:00<00:00, 160.00batch/s, acc=0.536, loss=0.951]\n"
     ]
    },
    {
     "name": "stdout",
     "output_type": "stream",
     "text": [
      "Epoch 447 validation: negative log likelihood loss=1.0415966510772705, Accuracy=0.48469388484954834\n"
     ]
    },
    {
     "name": "stderr",
     "output_type": "stream",
     "text": [
      "Epoch 448: 100%|██████████| 12/12 [00:00<00:00, 157.90batch/s, acc=0.536, loss=0.951]\n"
     ]
    },
    {
     "name": "stdout",
     "output_type": "stream",
     "text": [
      "Epoch 448 validation: negative log likelihood loss=1.0416315793991089, Accuracy=0.4839650094509125\n"
     ]
    },
    {
     "name": "stderr",
     "output_type": "stream",
     "text": [
      "Epoch 449: 100%|██████████| 12/12 [00:00<00:00, 151.91batch/s, acc=0.536, loss=0.951]\n"
     ]
    },
    {
     "name": "stdout",
     "output_type": "stream",
     "text": [
      "Epoch 449 validation: negative log likelihood loss=1.0416710376739502, Accuracy=0.4839650094509125\n"
     ]
    },
    {
     "name": "stderr",
     "output_type": "stream",
     "text": [
      "Epoch 450: 100%|██████████| 12/12 [00:00<00:00, 102.57batch/s, acc=0.536, loss=0.951]\n"
     ]
    },
    {
     "name": "stdout",
     "output_type": "stream",
     "text": [
      "Epoch 450 validation: negative log likelihood loss=1.0417068004608154, Accuracy=0.48469388484954834\n"
     ]
    },
    {
     "name": "stderr",
     "output_type": "stream",
     "text": [
      "Epoch 451: 100%|██████████| 12/12 [00:00<00:00, 134.83batch/s, acc=0.54, loss=0.951] \n"
     ]
    },
    {
     "name": "stdout",
     "output_type": "stream",
     "text": [
      "Epoch 451 validation: negative log likelihood loss=1.041743516921997, Accuracy=0.48469388484954834\n"
     ]
    },
    {
     "name": "stderr",
     "output_type": "stream",
     "text": [
      "Epoch 452: 100%|██████████| 12/12 [00:00<00:00, 134.84batch/s, acc=0.544, loss=0.951]\n"
     ]
    },
    {
     "name": "stdout",
     "output_type": "stream",
     "text": [
      "Epoch 452 validation: negative log likelihood loss=1.041779637336731, Accuracy=0.48469388484954834\n"
     ]
    },
    {
     "name": "stderr",
     "output_type": "stream",
     "text": [
      "Epoch 453: 100%|██████████| 12/12 [00:00<00:00, 144.58batch/s, acc=0.544, loss=0.951]\n"
     ]
    },
    {
     "name": "stdout",
     "output_type": "stream",
     "text": [
      "Epoch 453 validation: negative log likelihood loss=1.0418117046356201, Accuracy=0.48469388484954834\n"
     ]
    },
    {
     "name": "stderr",
     "output_type": "stream",
     "text": [
      "Epoch 454: 100%|██████████| 12/12 [00:00<00:00, 142.87batch/s, acc=0.544, loss=0.95] \n"
     ]
    },
    {
     "name": "stdout",
     "output_type": "stream",
     "text": [
      "Epoch 454 validation: negative log likelihood loss=1.0418497323989868, Accuracy=0.48469388484954834\n"
     ]
    },
    {
     "name": "stderr",
     "output_type": "stream",
     "text": [
      "Epoch 455: 100%|██████████| 12/12 [00:00<00:00, 148.15batch/s, acc=0.544, loss=0.95] \n"
     ]
    },
    {
     "name": "stdout",
     "output_type": "stream",
     "text": [
      "Epoch 455 validation: negative log likelihood loss=1.0418847799301147, Accuracy=0.48469388484954834\n"
     ]
    },
    {
     "name": "stderr",
     "output_type": "stream",
     "text": [
      "Epoch 456: 100%|██████████| 12/12 [00:00<00:00, 139.52batch/s, acc=0.544, loss=0.95] \n"
     ]
    },
    {
     "name": "stdout",
     "output_type": "stream",
     "text": [
      "Epoch 456 validation: negative log likelihood loss=1.0419214963912964, Accuracy=0.48469388484954834\n"
     ]
    },
    {
     "name": "stderr",
     "output_type": "stream",
     "text": [
      "Epoch 457: 100%|██████████| 12/12 [00:00<00:00, 139.53batch/s, acc=0.544, loss=0.95] \n"
     ]
    },
    {
     "name": "stdout",
     "output_type": "stream",
     "text": [
      "Epoch 457 validation: negative log likelihood loss=1.041955828666687, Accuracy=0.48469388484954834\n"
     ]
    },
    {
     "name": "stderr",
     "output_type": "stream",
     "text": [
      "Epoch 458: 100%|██████████| 12/12 [00:00<00:00, 129.04batch/s, acc=0.544, loss=0.95] \n"
     ]
    },
    {
     "name": "stdout",
     "output_type": "stream",
     "text": [
      "Epoch 458 validation: negative log likelihood loss=1.0419893264770508, Accuracy=0.48469388484954834\n"
     ]
    },
    {
     "name": "stderr",
     "output_type": "stream",
     "text": [
      "Epoch 459: 100%|██████████| 12/12 [00:00<00:00, 125.01batch/s, acc=0.544, loss=0.95] \n"
     ]
    },
    {
     "name": "stdout",
     "output_type": "stream",
     "text": [
      "Epoch 459 validation: negative log likelihood loss=1.04202139377594, Accuracy=0.48469388484954834\n"
     ]
    },
    {
     "name": "stderr",
     "output_type": "stream",
     "text": [
      "Epoch 460: 100%|██████████| 12/12 [00:00<00:00, 130.44batch/s, acc=0.544, loss=0.95] \n"
     ]
    },
    {
     "name": "stdout",
     "output_type": "stream",
     "text": [
      "Epoch 460 validation: negative log likelihood loss=1.042056918144226, Accuracy=0.4854227304458618\n"
     ]
    },
    {
     "name": "stderr",
     "output_type": "stream",
     "text": [
      "Epoch 461: 100%|██████████| 12/12 [00:00<00:00, 73.62batch/s, acc=0.544, loss=0.95]  \n"
     ]
    },
    {
     "name": "stdout",
     "output_type": "stream",
     "text": [
      "Epoch 461 validation: negative log likelihood loss=1.042094349861145, Accuracy=0.48469388484954834\n"
     ]
    },
    {
     "name": "stderr",
     "output_type": "stream",
     "text": [
      "Epoch 462: 100%|██████████| 12/12 [00:00<00:00, 118.81batch/s, acc=0.544, loss=0.949]\n"
     ]
    },
    {
     "name": "stdout",
     "output_type": "stream",
     "text": [
      "Epoch 462 validation: negative log likelihood loss=1.0421264171600342, Accuracy=0.48469388484954834\n"
     ]
    },
    {
     "name": "stderr",
     "output_type": "stream",
     "text": [
      "Epoch 463: 100%|██████████| 12/12 [00:00<00:00, 126.32batch/s, acc=0.544, loss=0.949]\n"
     ]
    },
    {
     "name": "stdout",
     "output_type": "stream",
     "text": [
      "Epoch 463 validation: negative log likelihood loss=1.042161464691162, Accuracy=0.48469388484954834\n"
     ]
    },
    {
     "name": "stderr",
     "output_type": "stream",
     "text": [
      "Epoch 464: 100%|██████████| 12/12 [00:00<00:00, 134.84batch/s, acc=0.544, loss=0.949]\n"
     ]
    },
    {
     "name": "stdout",
     "output_type": "stream",
     "text": [
      "Epoch 464 validation: negative log likelihood loss=1.042194128036499, Accuracy=0.48469388484954834\n"
     ]
    },
    {
     "name": "stderr",
     "output_type": "stream",
     "text": [
      "Epoch 465: 100%|██████████| 12/12 [00:00<00:00, 148.15batch/s, acc=0.544, loss=0.949]\n"
     ]
    },
    {
     "name": "stdout",
     "output_type": "stream",
     "text": [
      "Epoch 465 validation: negative log likelihood loss=1.0422207117080688, Accuracy=0.48469388484954834\n"
     ]
    },
    {
     "name": "stderr",
     "output_type": "stream",
     "text": [
      "Epoch 466: 100%|██████████| 12/12 [00:00<00:00, 153.85batch/s, acc=0.544, loss=0.949]\n"
     ]
    },
    {
     "name": "stdout",
     "output_type": "stream",
     "text": [
      "Epoch 466 validation: negative log likelihood loss=1.0422552824020386, Accuracy=0.48469388484954834\n"
     ]
    },
    {
     "name": "stderr",
     "output_type": "stream",
     "text": [
      "Epoch 467: 100%|██████████| 12/12 [00:00<00:00, 141.19batch/s, acc=0.544, loss=0.949]\n"
     ]
    },
    {
     "name": "stdout",
     "output_type": "stream",
     "text": [
      "Epoch 467 validation: negative log likelihood loss=1.042288064956665, Accuracy=0.48469388484954834\n"
     ]
    },
    {
     "name": "stderr",
     "output_type": "stream",
     "text": [
      "Epoch 468: 100%|██████████| 12/12 [00:00<00:00, 153.85batch/s, acc=0.544, loss=0.949]\n"
     ]
    },
    {
     "name": "stdout",
     "output_type": "stream",
     "text": [
      "Epoch 468 validation: negative log likelihood loss=1.0423188209533691, Accuracy=0.483236163854599\n"
     ]
    },
    {
     "name": "stderr",
     "output_type": "stream",
     "text": [
      "Epoch 469: 100%|██████████| 12/12 [00:00<00:00, 162.17batch/s, acc=0.544, loss=0.948]\n"
     ]
    },
    {
     "name": "stdout",
     "output_type": "stream",
     "text": [
      "Epoch 469 validation: negative log likelihood loss=1.0423483848571777, Accuracy=0.483236163854599\n"
     ]
    },
    {
     "name": "stderr",
     "output_type": "stream",
     "text": [
      "Epoch 470: 100%|██████████| 12/12 [00:00<00:00, 160.00batch/s, acc=0.544, loss=0.948]\n"
     ]
    },
    {
     "name": "stdout",
     "output_type": "stream",
     "text": [
      "Epoch 470 validation: negative log likelihood loss=1.0423774719238281, Accuracy=0.483236163854599\n"
     ]
    },
    {
     "name": "stderr",
     "output_type": "stream",
     "text": [
      "Epoch 471: 100%|██████████| 12/12 [00:00<00:00, 91.61batch/s, acc=0.54, loss=0.948] \n"
     ]
    },
    {
     "name": "stdout",
     "output_type": "stream",
     "text": [
      "Epoch 471 validation: negative log likelihood loss=1.0424065589904785, Accuracy=0.48250728845596313\n"
     ]
    },
    {
     "name": "stderr",
     "output_type": "stream",
     "text": [
      "Epoch 472: 100%|██████████| 12/12 [00:00<00:00, 141.18batch/s, acc=0.54, loss=0.948]\n"
     ]
    },
    {
     "name": "stdout",
     "output_type": "stream",
     "text": [
      "Epoch 472 validation: negative log likelihood loss=1.0424368381500244, Accuracy=0.48250728845596313\n"
     ]
    },
    {
     "name": "stderr",
     "output_type": "stream",
     "text": [
      "Epoch 473: 100%|██████████| 12/12 [00:00<00:00, 148.16batch/s, acc=0.54, loss=0.948]"
     ]
    },
    {
     "name": "stdout",
     "output_type": "stream",
     "text": [
      "Epoch 473 validation: negative log likelihood loss=1.0424695014953613, Accuracy=0.48250728845596313\n"
     ]
    },
    {
     "name": "stderr",
     "output_type": "stream",
     "text": [
      "\n",
      "Epoch 474: 100%|██████████| 12/12 [00:00<00:00, 146.35batch/s, acc=0.54, loss=0.948] \n"
     ]
    },
    {
     "name": "stdout",
     "output_type": "stream",
     "text": [
      "Epoch 474 validation: negative log likelihood loss=1.042497158050537, Accuracy=0.48250728845596313\n"
     ]
    },
    {
     "name": "stderr",
     "output_type": "stream",
     "text": [
      "Epoch 475: 100%|██████████| 12/12 [00:00<00:00, 160.01batch/s, acc=0.54, loss=0.948] \n"
     ]
    },
    {
     "name": "stdout",
     "output_type": "stream",
     "text": [
      "Epoch 475 validation: negative log likelihood loss=1.0425336360931396, Accuracy=0.483236163854599\n"
     ]
    },
    {
     "name": "stderr",
     "output_type": "stream",
     "text": [
      "Epoch 476: 100%|██████████| 12/12 [00:00<00:00, 151.90batch/s, acc=0.54, loss=0.947] \n"
     ]
    },
    {
     "name": "stdout",
     "output_type": "stream",
     "text": [
      "Epoch 476 validation: negative log likelihood loss=1.042563796043396, Accuracy=0.483236163854599\n"
     ]
    },
    {
     "name": "stderr",
     "output_type": "stream",
     "text": [
      "Epoch 477: 100%|██████████| 12/12 [00:00<00:00, 157.90batch/s, acc=0.54, loss=0.947] \n"
     ]
    },
    {
     "name": "stdout",
     "output_type": "stream",
     "text": [
      "Epoch 477 validation: negative log likelihood loss=1.0426008701324463, Accuracy=0.483236163854599\n"
     ]
    },
    {
     "name": "stderr",
     "output_type": "stream",
     "text": [
      "Epoch 478: 100%|██████████| 12/12 [00:00<00:00, 164.40batch/s, acc=0.54, loss=0.947] \n"
     ]
    },
    {
     "name": "stdout",
     "output_type": "stream",
     "text": [
      "Epoch 478 validation: negative log likelihood loss=1.0426335334777832, Accuracy=0.483236163854599\n"
     ]
    },
    {
     "name": "stderr",
     "output_type": "stream",
     "text": [
      "Epoch 479: 100%|██████████| 12/12 [00:00<00:00, 150.01batch/s, acc=0.54, loss=0.947] \n"
     ]
    },
    {
     "name": "stdout",
     "output_type": "stream",
     "text": [
      "Epoch 479 validation: negative log likelihood loss=1.0426645278930664, Accuracy=0.483236163854599\n"
     ]
    },
    {
     "name": "stderr",
     "output_type": "stream",
     "text": [
      "Epoch 480: 100%|██████████| 12/12 [00:00<00:00, 150.01batch/s, acc=0.54, loss=0.947] \n"
     ]
    },
    {
     "name": "stdout",
     "output_type": "stream",
     "text": [
      "Epoch 480 validation: negative log likelihood loss=1.042693853378296, Accuracy=0.483236163854599\n"
     ]
    },
    {
     "name": "stderr",
     "output_type": "stream",
     "text": [
      "Epoch 481: 100%|██████████| 12/12 [00:00<00:00, 85.72batch/s, acc=0.54, loss=0.947] \n"
     ]
    },
    {
     "name": "stdout",
     "output_type": "stream",
     "text": [
      "Epoch 481 validation: negative log likelihood loss=1.0427286624908447, Accuracy=0.483236163854599\n"
     ]
    },
    {
     "name": "stderr",
     "output_type": "stream",
     "text": [
      "Epoch 482: 100%|██████████| 12/12 [00:00<00:00, 139.54batch/s, acc=0.54, loss=0.947] \n"
     ]
    },
    {
     "name": "stdout",
     "output_type": "stream",
     "text": [
      "Epoch 482 validation: negative log likelihood loss=1.0427606105804443, Accuracy=0.4839650094509125\n"
     ]
    },
    {
     "name": "stderr",
     "output_type": "stream",
     "text": [
      "Epoch 483: 100%|██████████| 12/12 [00:00<00:00, 142.86batch/s, acc=0.54, loss=0.947] \n"
     ]
    },
    {
     "name": "stdout",
     "output_type": "stream",
     "text": [
      "Epoch 483 validation: negative log likelihood loss=1.0427958965301514, Accuracy=0.4839650094509125\n"
     ]
    },
    {
     "name": "stderr",
     "output_type": "stream",
     "text": [
      "Epoch 484: 100%|██████████| 12/12 [00:00<00:00, 142.86batch/s, acc=0.54, loss=0.946] \n"
     ]
    },
    {
     "name": "stdout",
     "output_type": "stream",
     "text": [
      "Epoch 484 validation: negative log likelihood loss=1.0428298711776733, Accuracy=0.4839650094509125\n"
     ]
    },
    {
     "name": "stderr",
     "output_type": "stream",
     "text": [
      "Epoch 485: 100%|██████████| 12/12 [00:00<00:00, 148.16batch/s, acc=0.54, loss=0.946] \n"
     ]
    },
    {
     "name": "stdout",
     "output_type": "stream",
     "text": [
      "Epoch 485 validation: negative log likelihood loss=1.0428639650344849, Accuracy=0.4839650094509125\n"
     ]
    },
    {
     "name": "stderr",
     "output_type": "stream",
     "text": [
      "Epoch 486: 100%|██████████| 12/12 [00:00<00:00, 144.58batch/s, acc=0.54, loss=0.946] \n"
     ]
    },
    {
     "name": "stdout",
     "output_type": "stream",
     "text": [
      "Epoch 486 validation: negative log likelihood loss=1.0428985357284546, Accuracy=0.4839650094509125\n"
     ]
    },
    {
     "name": "stderr",
     "output_type": "stream",
     "text": [
      "Epoch 487: 100%|██████████| 12/12 [00:00<00:00, 144.59batch/s, acc=0.54, loss=0.946] \n"
     ]
    },
    {
     "name": "stdout",
     "output_type": "stream",
     "text": [
      "Epoch 487 validation: negative log likelihood loss=1.0429332256317139, Accuracy=0.4839650094509125\n"
     ]
    },
    {
     "name": "stderr",
     "output_type": "stream",
     "text": [
      "Epoch 488: 100%|██████████| 12/12 [00:00<00:00, 150.01batch/s, acc=0.54, loss=0.946] \n"
     ]
    },
    {
     "name": "stdout",
     "output_type": "stream",
     "text": [
      "Epoch 488 validation: negative log likelihood loss=1.042968511581421, Accuracy=0.4839650094509125\n"
     ]
    },
    {
     "name": "stderr",
     "output_type": "stream",
     "text": [
      "Epoch 489: 100%|██████████| 12/12 [00:00<00:00, 98.36batch/s, acc=0.54, loss=0.946] \n"
     ]
    },
    {
     "name": "stdout",
     "output_type": "stream",
     "text": [
      "Epoch 489 validation: negative log likelihood loss=1.043004035949707, Accuracy=0.4839650094509125\n"
     ]
    },
    {
     "name": "stderr",
     "output_type": "stream",
     "text": [
      "Epoch 490: 100%|██████████| 12/12 [00:00<00:00, 126.33batch/s, acc=0.54, loss=0.946] \n"
     ]
    },
    {
     "name": "stdout",
     "output_type": "stream",
     "text": [
      "Epoch 490 validation: negative log likelihood loss=1.0430344343185425, Accuracy=0.4839650094509125\n"
     ]
    },
    {
     "name": "stderr",
     "output_type": "stream",
     "text": [
      "Epoch 491: 100%|██████████| 12/12 [00:00<00:00, 146.35batch/s, acc=0.54, loss=0.945] \n"
     ]
    },
    {
     "name": "stdout",
     "output_type": "stream",
     "text": [
      "Epoch 491 validation: negative log likelihood loss=1.0430684089660645, Accuracy=0.4839650094509125\n"
     ]
    },
    {
     "name": "stderr",
     "output_type": "stream",
     "text": [
      "Epoch 492: 100%|██████████| 12/12 [00:00<00:00, 150.01batch/s, acc=0.54, loss=0.945] \n"
     ]
    },
    {
     "name": "stdout",
     "output_type": "stream",
     "text": [
      "Epoch 492 validation: negative log likelihood loss=1.0431005954742432, Accuracy=0.4839650094509125\n"
     ]
    },
    {
     "name": "stderr",
     "output_type": "stream",
     "text": [
      "Epoch 493: 100%|██████████| 12/12 [00:00<00:00, 155.85batch/s, acc=0.54, loss=0.945] \n"
     ]
    },
    {
     "name": "stdout",
     "output_type": "stream",
     "text": [
      "Epoch 493 validation: negative log likelihood loss=1.0431337356567383, Accuracy=0.4839650094509125\n"
     ]
    },
    {
     "name": "stderr",
     "output_type": "stream",
     "text": [
      "Epoch 494: 100%|██████████| 12/12 [00:00<00:00, 148.15batch/s, acc=0.54, loss=0.945] \n"
     ]
    },
    {
     "name": "stdout",
     "output_type": "stream",
     "text": [
      "Epoch 494 validation: negative log likelihood loss=1.0431649684906006, Accuracy=0.4839650094509125\n"
     ]
    },
    {
     "name": "stderr",
     "output_type": "stream",
     "text": [
      "Epoch 495: 100%|██████████| 12/12 [00:00<00:00, 142.87batch/s, acc=0.54, loss=0.945] \n"
     ]
    },
    {
     "name": "stdout",
     "output_type": "stream",
     "text": [
      "Epoch 495 validation: negative log likelihood loss=1.0432024002075195, Accuracy=0.4839650094509125\n"
     ]
    },
    {
     "name": "stderr",
     "output_type": "stream",
     "text": [
      "Epoch 496: 100%|██████████| 12/12 [00:00<00:00, 150.01batch/s, acc=0.54, loss=0.945] \n"
     ]
    },
    {
     "name": "stdout",
     "output_type": "stream",
     "text": [
      "Epoch 496 validation: negative log likelihood loss=1.0432384014129639, Accuracy=0.4839650094509125\n"
     ]
    },
    {
     "name": "stderr",
     "output_type": "stream",
     "text": [
      "Epoch 497: 100%|██████████| 12/12 [00:00<00:00, 151.91batch/s, acc=0.54, loss=0.945] \n"
     ]
    },
    {
     "name": "stdout",
     "output_type": "stream",
     "text": [
      "Epoch 497 validation: negative log likelihood loss=1.043266773223877, Accuracy=0.483236163854599\n"
     ]
    },
    {
     "name": "stderr",
     "output_type": "stream",
     "text": [
      "Epoch 498: 100%|██████████| 12/12 [00:00<00:00, 148.15batch/s, acc=0.54, loss=0.945] \n"
     ]
    },
    {
     "name": "stdout",
     "output_type": "stream",
     "text": [
      "Epoch 498 validation: negative log likelihood loss=1.043302297592163, Accuracy=0.483236163854599\n"
     ]
    },
    {
     "name": "stderr",
     "output_type": "stream",
     "text": [
      "Epoch 499: 100%|██████████| 12/12 [00:00<00:00, 76.93batch/s, acc=0.54, loss=0.944] \n"
     ]
    },
    {
     "name": "stdout",
     "output_type": "stream",
     "text": [
      "Epoch 499 validation: negative log likelihood loss=1.0433369874954224, Accuracy=0.4839650094509125\n"
     ]
    },
    {
     "data": {
      "text/plain": [
       "<All keys matched successfully>"
      ]
     },
     "execution_count": 89,
     "metadata": {},
     "output_type": "execute_result"
    }
   ],
   "source": [
    "# real training loop\n",
    "import copy\n",
    "import tqdm\n",
    "import numpy as np\n",
    "\n",
    "# split\n",
    "X_train, X_test, y_train, y_test = train_test_split(Xr_normalized, yr_onehot, train_size=0.7, shuffle=True)\n",
    "\n",
    "n_epochs = 500\n",
    "batch_size = 250\n",
    "batches_per_epoch = len(X_train) // batch_size\n",
    "\n",
    "best_acc = - np.inf   # init to negative infinity\n",
    "best_weights = None\n",
    "train_loss_hist = []\n",
    "train_acc_hist = []\n",
    "test_loss_hist = []\n",
    "test_acc_hist = []\n",
    "\n",
    "for epoch in range(n_epochs):\n",
    "    epoch_loss = []\n",
    "    epoch_acc = []\n",
    "    # set model in training mode and run through each batch\n",
    "    model.train()\n",
    "    with tqdm.trange(batches_per_epoch, unit=\"batch\", mininterval=0) as bar:\n",
    "        bar.set_description(f\"Epoch {epoch}\")\n",
    "        for i in bar:\n",
    "            # take a batch\n",
    "            start = i * batch_size\n",
    "            X_batch = X_train[start:start+batch_size]\n",
    "            y_batch = y_train[start:start+batch_size]\n",
    "            # forward pass\n",
    "            y_pred = model(X_batch)\n",
    "            y_batch_labeled = torch.argmax(y_batch, 1)\n",
    "            loss = loss_fn(y_pred, y_batch_labeled)\n",
    "            # backward pass\n",
    "            optimizer.zero_grad()\n",
    "            loss.backward()\n",
    "            # update weights\n",
    "            optimizer.step()\n",
    "            # compute and store metrics\n",
    "            acc = (torch.argmax(y_pred, 1) == torch.argmax(y_batch, 1)).float().mean()\n",
    "            epoch_loss.append(float(loss))\n",
    "            epoch_acc.append(float(acc))\n",
    "            bar.set_postfix(\n",
    "                loss=float(loss),\n",
    "                acc=float(acc)\n",
    "            )\n",
    "    # set model in evaluation mode and run through the test set\n",
    "    model.eval()\n",
    "    y_pred = model(X_test)\n",
    "    ce = loss_fn(y_pred, torch.argmax(y_test, 1))\n",
    "    acc = (torch.argmax(y_pred, 1) == torch.argmax(y_test, 1)).float().mean()\n",
    "    ce = float(ce)\n",
    "    acc = float(acc)\n",
    "    train_loss_hist.append(np.mean(epoch_loss))\n",
    "    train_acc_hist.append(np.mean(epoch_acc))\n",
    "    test_loss_hist.append(ce)\n",
    "    test_acc_hist.append(acc)\n",
    "    if acc > best_acc:\n",
    "        best_acc = acc\n",
    "        best_weights = copy.deepcopy(model.state_dict())\n",
    "    print(f\"Epoch {epoch} validation: negative log likelihood loss={ce}, Accuracy={acc}\")\n",
    "    \n",
    "model.load_state_dict(best_weights)"
   ]
  },
  {
   "cell_type": "code",
   "execution_count": 81,
   "id": "14e9164b",
   "metadata": {},
   "outputs": [
    {
     "data": {
      "image/png": "[encoded data removed]",
      "text/plain": [
       "<Figure size 432x288 with 1 Axes>"
      ]
     },
     "metadata": {
      "needs_background": "light"
     },
     "output_type": "display_data"
    },
    {
     "data": {
      "image/png": "[encoded data removed]",
      "text/plain": [
       "<Figure size 432x288 with 1 Axes>"
      ]
     },
     "metadata": {
      "needs_background": "light"
     },
     "output_type": "display_data"
    }
   ],
   "source": [
    "# plot the losses\n",
    "import matplotlib.pyplot as plt\n",
    "\n",
    "plt.plot(train_loss_hist, label=\"train\")\n",
    "plt.plot(test_loss_hist, label=\"test\")\n",
    "plt.xlabel(\"epochs\")\n",
    "plt.ylabel(\"cross entropy\")\n",
    "plt.legend()\n",
    "plt.show()\n",
    "\n",
    "plt.plot(train_acc_hist, label=\"train\")\n",
    "plt.plot(test_acc_hist, label=\"test\")\n",
    "plt.xlabel(\"epochs\")\n",
    "plt.ylabel(\"accuracy\")\n",
    "plt.legend()\n",
    "plt.show()"
   ]
  },
  {
   "cell_type": "code",
   "execution_count": null,
   "id": "f89d174f",
   "metadata": {},
   "outputs": [],
   "source": [
    "#OLD CODE"
   ]
  },
  {
   "cell_type": "code",
   "execution_count": null,
   "id": "05a71b08",
   "metadata": {},
   "outputs": [],
   "source": [
    "#Gives accuracy and f1 score for using every stat possible\n",
    "rfc=RandomForestClassifier()\n",
    "Xr=ufc_fights[possible_stats]\n",
    "yr=ufc_fights['method']\n",
    "\n",
    "rfc.fit(Xr,yr)\n",
    "accuracy = cross_val_score(rfc,Xr,yr,cv=3).mean()\n",
    "precision = cross_val_score(rfc,Xr,yr,cv=3, scoring='precision_micro').mean()\n",
    "recall = cross_val_score(rfc, Xr, yr, cv=3, scoring='recall_macro').mean()\n",
    "print('Accuracy: '+str(accuracy),'F1 score: '+str(precision*recall/(precision+recall)))"
   ]
  },
  {
   "cell_type": "code",
   "execution_count": null,
   "id": "1a4608a8",
   "metadata": {},
   "outputs": [],
   "source": [
    "#scores a model\n",
    "def model_score(dataframe,features, iloc_val = 3200):\n",
    "    yyy=dataframe['method'].iloc[0:iloc_val]\n",
    "    XXX=dataframe[features].iloc[0:iloc_val]\n",
    "    XXXscaler = preprocessing.StandardScaler().fit(XXX)\n",
    "    XXX_scaled = XXXscaler.transform(XXX) \n",
    "    rfc=RandomForestClassifier()\n",
    "    return cross_val_score(rfc,XXX_scaled,yyy,cv=4).mean()\n",
    "    \n",
    "#CODE FOR THE GREEDY ALGORITHM FOR FEATURE SELECTION\n",
    "def greedy(dataframe, features, subsetsize, iloc_val=3200):\n",
    "    i=0\n",
    "    best_stats=[]\n",
    "    s=set(features)\n",
    "    subsets=list(map(set, itertools.combinations(s, subsetsize))) #subsets of size (subsetsize)\n",
    "    possible_stat_dict = {}\n",
    "    scores={0:0}\n",
    "    for stat_pair in subsets:\n",
    "        possible_stat_dict[tuple(stat_pair)]=0\n",
    "    while (i==0) or (scores[i]>scores[i-1]):\n",
    "        i+=1\n",
    "        for stat_pair in list(possible_stat_dict.keys()):\n",
    "            stats_temp = best_stats+list(stat_pair)\n",
    "            possible_stat_dict[tuple(stat_pair)]=model_score(ufc_fights,stats_temp,iloc_val)\n",
    "        max_key = max(possible_stat_dict, key=possible_stat_dict.get)\n",
    "        best_stats.extend(list(max_key))\n",
    "        scores[i]=possible_stat_dict[max_key]\n",
    "        possible_stat_dict.pop(max_key)\n",
    "        print(best_stats,scores[i])\n",
    "    return (best_stats[:-subsetsize], scores[i-1])"
   ]
  },
  {
   "cell_type": "code",
   "execution_count": null,
   "id": "b9968a6e",
   "metadata": {},
   "outputs": [],
   "source": [
    "#searches over all single stats for the highest scoring, then it trys to add one and sees if that scores higher\n",
    "#this will keep adding stats as long as they improve the accuracy of the model\n",
    "greedy(ufc_fights, possible_stats, 1)"
   ]
  },
  {
   "cell_type": "code",
   "execution_count": null,
   "id": "d3d268a9",
   "metadata": {},
   "outputs": [],
   "source": [
    "greedy(ufc_fights, possible_stats, 2)"
   ]
  },
  {
   "cell_type": "code",
   "execution_count": null,
   "id": "dc5f8dc4",
   "metadata": {},
   "outputs": [],
   "source": [
    "#random forest does way better for picking the method!\n",
    "best_stats=['fighter_ko_losses_diff_2']\n",
    "rfc=RandomForestClassifier()\n",
    "Xr=ufc_fights[best_stats]\n",
    "yr=ufc_fights['method']\n",
    "\n",
    "rfc.fit(Xr,yr)\n",
    "accuracy = cross_val_score(rfc,Xr,yr,cv=3).mean()\n",
    "precision = cross_val_score(rfc,Xr,yr,cv=3, scoring='precision_micro').mean()\n",
    "recall = cross_val_score(rfc, Xr, yr, cv=3, scoring='recall_macro').mean()\n",
    "print('Accuracy: '+str(accuracy),'F1 score: '+str(precision*recall/(precision+recall)))"
   ]
  },
  {
   "cell_type": "code",
   "execution_count": null,
   "id": "c780a9e1",
   "metadata": {},
   "outputs": [],
   "source": [
    "#random forest does way better for picking the method!\n",
    "best_stats=['fighter_ko_losses_diff_2', 'fighter_sub_losses_diff_2']\n",
    "rfc=RandomForestClassifier()\n",
    "Xr=ufc_fights[best_stats]\n",
    "yr=ufc_fights['method']\n",
    "\n",
    "rfc.fit(Xr,yr)\n",
    "accuracy = cross_val_score(rfc,Xr,yr,cv=3).mean()\n",
    "precision = cross_val_score(rfc,Xr,yr,cv=3, scoring='precision_micro').mean()\n",
    "recall = cross_val_score(rfc, Xr, yr, cv=3, scoring='recall_macro').mean()\n",
    "print('Accuracy: '+str(accuracy),'F1 score: '+str(precision*recall/(precision+recall)))"
   ]
  },
  {
   "cell_type": "code",
   "execution_count": null,
   "id": "61434a92",
   "metadata": {},
   "outputs": [],
   "source": [
    "#checking how the score changes with iloc value\n",
    "for i in range(1,50):\n",
    "    iloc_val = 100*i\n",
    "    best_stats=['fighter_ko_losses_diff_2', 'fighter_sub_losses_diff_2']\n",
    "    rfc=RandomForestClassifier()\n",
    "    Xr=ufc_fights[best_stats].iloc[0:iloc_val]\n",
    "    yr=ufc_fights['method'].iloc[0:iloc_val]\n",
    "\n",
    "    rfc.fit(Xr,yr)\n",
    "    accuracy = cross_val_score(rfc,Xr,yr,cv=3).mean()\n",
    "    precision = cross_val_score(rfc,Xr,yr,cv=3, scoring='precision_micro').mean()\n",
    "    recall = cross_val_score(rfc, Xr, yr, cv=3, scoring='recall_macro').mean()\n",
    "    print(100*i, 'Accuracy: '+str(accuracy),'F1 score: '+str(precision*recall/(precision+recall)))"
   ]
  },
  {
   "cell_type": "code",
   "execution_count": null,
   "id": "aeed4595",
   "metadata": {},
   "outputs": [],
   "source": [
    "#crazy... one single stat puts us at .51, higher than using every possible stat... but two gives no improvement at all"
   ]
  },
  {
   "cell_type": "code",
   "execution_count": null,
   "id": "dfc24364",
   "metadata": {},
   "outputs": [],
   "source": [
    "num_subs = len([i for i in ufc_fights['method'] if i=='SUB'])\n",
    "num_kos = len([i for i in ufc_fights['method'] if i=='KO/TKO'])\n",
    "num_dec = len([i for i in ufc_fights['method'] if i=='DEC'])"
   ]
  },
  {
   "cell_type": "code",
   "execution_count": null,
   "id": "cfa493e5",
   "metadata": {},
   "outputs": [],
   "source": [
    "print('number of subs: '+str(num_subs))\n",
    "print('number of kos: '+str(num_kos))\n",
    "print('number of decisions: '+str(num_dec))"
   ]
  },
  {
   "cell_type": "code",
   "execution_count": null,
   "id": "4d202cdd",
   "metadata": {},
   "outputs": [],
   "source": [
    "num_fights=len(ufc_fights['method'])\n",
    "print('percentage of subs: '+str(num_subs/num_fights))\n",
    "print('percentage of kos: '+str(num_kos/num_fights))\n",
    "print('percentage of decisions: '+str(num_dec/num_fights))"
   ]
  },
  {
   "cell_type": "code",
   "execution_count": null,
   "id": "3e92c5bd",
   "metadata": {},
   "outputs": [],
   "source": [
    "# so picking DEC victory every single time would get us a score of .494. We are not really beating that by much...\n",
    "# but we have a better f1 score than picking DEC every time. Having a higher f1 score is important since the \n",
    "# odds are better usually when you correctly pick KO or SUB"
   ]
  }
 ],
 "metadata": {
  "kernelspec": {
   "display_name": "Python 3 (ipykernel)",
   "language": "python",
   "name": "python3"
  },
  "language_info": {
   "codemirror_mode": {
    "name": "ipython",
    "version": 3
   },
   "file_extension": ".py",
   "mimetype": "text/x-python",
   "name": "python",
   "nbconvert_exporter": "python",
   "pygments_lexer": "ipython3",
   "version": "3.9.13"
  }
 },
 "nbformat": 4,
 "nbformat_minor": 5
}
