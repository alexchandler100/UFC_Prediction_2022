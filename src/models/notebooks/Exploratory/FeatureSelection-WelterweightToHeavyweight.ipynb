{
 "cells": [
  {
   "cell_type": "code",
   "execution_count": 1,
   "metadata": {},
   "outputs": [
    {
     "name": "stdout",
     "output_type": "stream",
     "text": [
      "Changed working directory to C:\\Users\\Alex\\OneDrive\\Documents\\GitHub\\UFC_Prediction_2022\\src\n"
     ]
    }
   ],
   "source": [
    "\n",
    "# standard library imports\n",
    "import git, os, sys\n",
    "\n",
    "git_repo = git.Repo(os.getcwd(), search_parent_directories=True)\n",
    "git_root = git_repo.git.rev_parse(\"--show-toplevel\")\n",
    "os.chdir(f'{git_root}/src')\n",
    "sys.path.append(os.path.abspath(os.path.join(f'{git_root}/src')))\n",
    "print(f'Changed working directory to {os.getcwd()}')\n",
    "\n",
    "# local imports\n",
    "from fight_stat_helpers import *\n",
    "from data_handler import DataHandler"
   ]
  },
  {
   "cell_type": "markdown",
   "metadata": {},
   "source": [
    "# TODO import these functions from fight_stat_helpers like in the womens notebook"
   ]
  },
  {
   "cell_type": "markdown",
   "metadata": {},
   "source": [
    "# NEW FEATURES\n",
    "\n",
    "- Dominance Score for a single fight: (total score of fighter based on events in the fight) - (total score of opponent based on events in the fight)\n",
    "- Average Dominance over time scales\n",
    "- Fighter Scores\n",
    "- Fight Math\n",
    "- Fighter Score increments based on closeness of fights with opponents with high scores \n",
    "\n",
    "# Other things to try\n",
    "- with or without regularization\n",
    "- with or without scaling\n",
    "- with or without sum features (seems like only age needs sum features)\n",
    "- with or without squared features (seems like only age needs squared features)\n",
    "- Decide whether to include SDEC in bullshit or not\n",
    "- Do linear reg on draws and SDEC and see how this compares to log reg plane (hypothesis: they are the same plane since close fights should be near the plane boundary)"
   ]
  },
  {
   "cell_type": "code",
   "execution_count": 2,
   "metadata": {},
   "outputs": [],
   "source": [
    "dh = DataHandler()\n",
    "# get reported derived doubled data\n",
    "ufc_fights_reported_derived_doubled = dh.get('ufc_fights_reported_derived_doubled')"
   ]
  },
  {
   "cell_type": "code",
   "execution_count": 3,
   "metadata": {},
   "outputs": [],
   "source": [
    "ufc_fights_predictive_flattened_diffs = dh.make_ufc_fights_predictive_flattened_diffs(ufc_fights_reported_derived_doubled)\n",
    "ufc_fights_predictive_flattened_diffs = dh.clean_ufc_fights_for_winner_prediction(ufc_fights_predictive_flattened_diffs)"
   ]
  },
  {
   "cell_type": "code",
   "execution_count": 4,
   "metadata": {},
   "outputs": [
    {
     "name": "stdout",
     "output_type": "stream",
     "text": [
      "division\n",
      "Lightweight              1059\n",
      "Welterweight             1015\n",
      "Middleweight              819\n",
      "Featherweight             668\n",
      "Bantamweight              590\n",
      "Light Heavyweight         576\n",
      "Heavyweight               524\n",
      "Flyweight                 304\n",
      "Women's Strawweight       273\n",
      "Women's Flyweight         222\n",
      "Women's Bantamweight      178\n",
      "Catch Weight               62\n",
      "Women's Featherweight      26\n",
      "Name: count, dtype: int64\n"
     ]
    }
   ],
   "source": [
    "# show division counts\n",
    "print(ufc_fights_predictive_flattened_diffs['division'].value_counts())"
   ]
  },
  {
   "cell_type": "code",
   "execution_count": 5,
   "metadata": {},
   "outputs": [
    {
     "data": {
      "text/plain": [
       "(2934, 325)"
      ]
     },
     "execution_count": 5,
     "metadata": {},
     "output_type": "execute_result"
    }
   ],
   "source": [
    "# filter by division. start with just lightweight and featherweight\n",
    "division_mask = ufc_fights_predictive_flattened_diffs['division'].isin(['Welterweight', 'Middleweight', 'Light Heavyweight', 'Heavyweight'])\n",
    "ufc_fights_predictive_flattened_diffs_welter_heavy = ufc_fights_predictive_flattened_diffs[division_mask]\n",
    "ufc_fights_predictive_flattened_diffs_welter_heavy.shape"
   ]
  },
  {
   "cell_type": "code",
   "execution_count": 6,
   "metadata": {},
   "outputs": [],
   "source": [
    "# drop the 'fighter_result' column and opponent_result column as it is not needed for the model and also fighter and opponent columns\n",
    "X = ufc_fights_predictive_flattened_diffs_welter_heavy.drop(columns=['fighter', 'opponent', 'method', 'division'])\n",
    "# KEEP result in X as this is what model_score is expecting for better or for worse\n",
    "y = X['result']"
   ]
  },
  {
   "cell_type": "code",
   "execution_count": 7,
   "metadata": {},
   "outputs": [],
   "source": [
    "from sklearn.model_selection import train_test_split\n",
    "X_train, X_test, y_train, y_test = train_test_split(X, y, test_size=0.2, random_state=67)"
   ]
  },
  {
   "cell_type": "markdown",
   "metadata": {},
   "source": [
    "# Use the entire data set with all features as a baseline"
   ]
  },
  {
   "cell_type": "code",
   "execution_count": 8,
   "metadata": {},
   "outputs": [
    {
     "name": "stdout",
     "output_type": "stream",
     "text": [
      "Training set size: (2347, 321) accuracy: 0.6774605879846612\n",
      "Test set size: (587, 321) accuracy: 0.5996592844974447\n",
      "Test set neg log loss: -0.6972910848541268. Probability to observe data given model: 0.49793233491483996\n"
     ]
    }
   ],
   "source": [
    "all_features = X_train.columns.tolist()\n",
    "# remove result from all_features\n",
    "if 'result' in all_features:\n",
    "    all_features.remove('result')\n",
    "model_test_score(X_train, X_test, all_features, _max_iter = 20000, scaled=True)"
   ]
  },
  {
   "cell_type": "code",
   "execution_count": 9,
   "metadata": {},
   "outputs": [
    {
     "name": "stdout",
     "output_type": "stream",
     "text": [
      "Starting with an empty feature set.\n",
      "Added single feature: l5y_overall_fighter_score_diff\n",
      "Negative log loss on training set: -0.6804388011790548\n",
      "Training set size: (2347, 321) accuracy: 0.5807413719642096\n",
      "Test set size: (587, 321) accuracy: 0.5911413969335605\n",
      "Test set neg log loss: -0.6894062793408626. Probability to observe data given model: 0.501873953561728\n",
      "Added single feature: l5y_wins_wins_diff\n",
      "Negative log loss on training set: -0.6727661101756038\n",
      "Training set size: (2347, 321) accuracy: 0.5986365573072007\n",
      "Test set size: (587, 321) accuracy: 0.5877342419080068\n",
      "Test set neg log loss: -0.6913456292986958. Probability to observe data given model: 0.5009015875148386\n",
      "Added single feature: l3y_wins_diff\n",
      "Negative log loss on training set: -0.6646719559899675\n",
      "Training set size: (2347, 321) accuracy: 0.6011930123561994\n",
      "Test set size: (587, 321) accuracy: 0.5809199318568995\n",
      "Test set neg log loss: -0.6853424084969709. Probability to observe data given model: 0.5039176543442778\n",
      "Added single feature: all_losses_ko_diff\n",
      "Negative log loss on training set: -0.6603814787202196\n",
      "Training set size: (2347, 321) accuracy: 0.6067319982956967\n",
      "Test set size: (587, 321) accuracy: 0.5775127768313458\n",
      "Test set neg log loss: -0.6831975518545436. Probability to observe data given model: 0.5049996454155025\n",
      "Added single feature: reach_diff\n",
      "Negative log loss on training set: -0.6578690898913206\n",
      "Training set size: (2347, 321) accuracy: 0.6207925010651896\n",
      "Test set size: (587, 321) accuracy: 0.5894378194207837\n",
      "Test set neg log loss: -0.6743807749301457. Probability to observe data given model: 0.5094718006632077\n",
      "Added single feature: l3y_inf_clinch_strikes_landed_per_min_diff\n",
      "Negative log loss on training set: -0.6553429131700955\n",
      "Training set size: (2347, 321) accuracy: 0.6169578184916915\n",
      "Test set size: (587, 321) accuracy: 0.58603066439523\n",
      "Test set neg log loss: -0.6768136772722038. Probability to observe data given model: 0.5082338120894512\n",
      "Added single feature: l3y_fight_math_diff\n",
      "Negative log loss on training set: -0.653227680135809\n",
      "Training set size: (2347, 321) accuracy: 0.613975287601193\n",
      "Test set size: (587, 321) accuracy: 0.596252129471891\n",
      "Test set neg log loss: -0.6767220174803731. Probability to observe data given model: 0.5082803988299014\n",
      "Added single feature: l1y_abs_clinch_strikes_accuracy_diff\n",
      "Negative log loss on training set: -0.6512665428516881\n",
      "Training set size: (2347, 321) accuracy: 0.6224968044311887\n",
      "Test set size: (587, 321) accuracy: 0.5877342419080068\n",
      "Test set neg log loss: -0.6786874664378595. Probability to observe data given model: 0.5072823807479875\n",
      "Added single feature: l5y_abs_takedowns_accuracy_diff\n",
      "Negative log loss on training set: -0.6497377697731698\n",
      "Training set size: (2347, 321) accuracy: 0.6267575628461867\n",
      "Test set size: (587, 321) accuracy: 0.5826235093696763\n",
      "Test set neg log loss: -0.6746040086589579. Probability to observe data given model: 0.5093580820668064\n",
      "Added single feature: all_inf_head_strikes_accuracy_diff\n",
      "Negative log loss on training set: -0.6480620374152883\n",
      "Training set size: (2347, 321) accuracy: 0.6237750319556881\n",
      "Test set size: (587, 321) accuracy: 0.5724020442930153\n",
      "Test set neg log loss: -0.6766331430996206. Probability to observe data given model: 0.5083255739430214\n",
      "Added single feature: l5y_abs_head_strikes_accuracy_diff\n",
      "Negative log loss on training set: -0.6460000905514496\n",
      "Training set size: (2347, 321) accuracy: 0.6246271836386876\n",
      "Test set size: (587, 321) accuracy: 0.5928449744463373\n",
      "Test set neg log loss: -0.6756750695667865. Probability to observe data given model: 0.5088128205932683\n",
      "Added single feature: l5y_inf_takedowns_attempts_per_min_diff\n",
      "Negative log loss on training set: -0.6445879333678254\n",
      "Training set size: (2347, 321) accuracy: 0.634000852151683\n",
      "Test set size: (587, 321) accuracy: 0.5945485519591142\n",
      "Test set neg log loss: -0.6746127582529909. Probability to observe data given model: 0.5093536254098678\n",
      "Added single feature: l1y_inf_body_strikes_landed_per_min_diff\n",
      "Negative log loss on training set: -0.6435803661264494\n",
      "Training set size: (2347, 321) accuracy: 0.6322965487856839\n",
      "Test set size: (587, 321) accuracy: 0.5928449744463373\n",
      "Test set neg log loss: -0.6778255115083284. Probability to observe data given model: 0.5077198237977503\n",
      "Added single feature: l1y_abs_leg_strikes_accuracy_diff\n",
      "Negative log loss on training set: -0.6424609534886976\n",
      "Training set size: (2347, 321) accuracy: 0.6318704729441841\n",
      "Test set size: (587, 321) accuracy: 0.575809199318569\n",
      "Test set neg log loss: -0.6806908532526802. Probability to observe data given model: 0.5062671152393419\n",
      "Added single feature: l5y_abs_clinch_strikes_accuracy_diff\n",
      "Negative log loss on training set: -0.6415344405437453\n",
      "Training set size: (2347, 321) accuracy: 0.6369833830421815\n",
      "Test set size: (587, 321) accuracy: 0.5843270868824532\n",
      "Test set neg log loss: -0.6823606181451762. Probability to observe data given model: 0.5054224735568505\n",
      "Added single feature: age_diff\n",
      "Negative log loss on training set: -0.6407638631111094\n",
      "Training set size: (2347, 321) accuracy: 0.6412441414571793\n",
      "Test set size: (587, 321) accuracy: 0.5911413969335605\n",
      "Test set neg log loss: -0.678819537224269. Probability to observe data given model: 0.507215387989021\n",
      "Added single feature: l3y_wins_wins_diff\n",
      "Negative log loss on training set: -0.6402184117100235\n",
      "Training set size: (2347, 321) accuracy: 0.6455048998721773\n",
      "Test set size: (587, 321) accuracy: 0.5911413969335605\n",
      "Test set neg log loss: -0.676714940882899. Probability to observe data given model: 0.5082839957384149\n",
      "Added single feature: l5y_inf_body_strikes_attempts_per_min_diff\n",
      "Negative log loss on training set: -0.6397750144890578\n",
      "Training set size: (2347, 321) accuracy: 0.6484874307626758\n",
      "Test set size: (587, 321) accuracy: 0.5928449744463373\n",
      "Test set neg log loss: -0.6757117398788044. Probability to observe data given model: 0.5087941626104775\n",
      "Added single feature: all_inf_total_strikes_attempts_per_min_diff\n",
      "Negative log loss on training set: -0.6389102445512612\n",
      "Training set size: (2347, 321) accuracy: 0.6493395824456754\n",
      "Test set size: (587, 321) accuracy: 0.5877342419080068\n",
      "Test set neg log loss: -0.677303056880805. Probability to observe data given model: 0.5079851536745544\n",
      "Added single feature: all_inf_leg_strikes_accuracy_diff\n",
      "Negative log loss on training set: -0.6383674825241965\n",
      "Training set size: (2347, 321) accuracy: 0.643800596506178\n",
      "Test set size: (587, 321) accuracy: 0.5945485519591142\n",
      "Test set neg log loss: -0.6777819474879336. Probability to observe data given model: 0.5077419425962975\n",
      "Added single feature: l5y_abs_body_strikes_accuracy_diff\n",
      "Negative log loss on training set: -0.6378605555138006\n",
      "Training set size: (2347, 321) accuracy: 0.648061354921176\n",
      "Test set size: (587, 321) accuracy: 0.596252129471891\n",
      "Test set neg log loss: -0.6764861264500814. Probability to observe data given model: 0.5084003117594946\n",
      "Added single feature: l1y_inf_takedowns_accuracy_diff\n",
      "Negative log loss on training set: -0.6373540004119145\n",
      "Training set size: (2347, 321) accuracy: 0.6484874307626758\n",
      "Test set size: (587, 321) accuracy: 0.6013628620102215\n",
      "Test set neg log loss: -0.6759996858954945. Probability to observe data given model: 0.5086476784488161\n",
      "Added single feature: l1y_inf_clinch_strikes_accuracy_diff\n",
      "Negative log loss on training set: -0.6370167182894239\n",
      "Training set size: (2347, 321) accuracy: 0.6455048998721773\n",
      "Test set size: (587, 321) accuracy: 0.6081771720613288\n",
      "Test set neg log loss: -0.6744180986313983. Probability to observe data given model: 0.5094527856447807\n",
      "Added single feature: all_inf_clinch_strikes_accuracy_diff\n",
      "Negative log loss on training set: -0.6362525399398649\n",
      "Training set size: (2347, 321) accuracy: 0.648061354921176\n",
      "Test set size: (587, 321) accuracy: 0.6115843270868825\n",
      "Test set neg log loss: -0.6756580340745073. Probability to observe data given model: 0.5088214885439761\n",
      "Added single feature: l5y_inf_knockdowns_per_min_diff\n",
      "Negative log loss on training set: -0.6358794824557565\n",
      "Training set size: (2347, 321) accuracy: 0.6429484448231785\n",
      "Test set size: (587, 321) accuracy: 0.6047700170357752\n",
      "Test set neg log loss: -0.6730462341579625. Probability to observe data given model: 0.51015216543976\n",
      "Added single feature: all_abs_clinch_strikes_accuracy_diff\n",
      "Negative log loss on training set: -0.6356181879909926\n",
      "Training set size: (2347, 321) accuracy: 0.6450788240306775\n",
      "Test set size: (587, 321) accuracy: 0.6047700170357752\n",
      "Test set neg log loss: -0.6739235749869887. Probability to observe data given model: 0.5097047843975276\n",
      "Added single feature: all_fight_math_diff\n",
      "Negative log loss on training set: -0.6353332879597385\n",
      "Training set size: (2347, 321) accuracy: 0.6476352790796762\n",
      "Test set size: (587, 321) accuracy: 0.6115843270868825\n",
      "Test set neg log loss: -0.674092467280589. Probability to observe data given model: 0.5096187064565867\n",
      "Added single feature: all_inf_head_strikes_landed_per_min_diff\n",
      "Negative log loss on training set: -0.6351172451748595\n",
      "Training set size: (2347, 321) accuracy: 0.6467831273966766\n",
      "Test set size: (587, 321) accuracy: 0.6149914821124361\n",
      "Test set neg log loss: -0.6743508193394286. Probability to observe data given model: 0.5094870624205365\n",
      "Added single feature: l1y_num_fights_diff\n",
      "Negative log loss on training set: -0.6349733059188355\n",
      "Training set size: (2347, 321) accuracy: 0.6459309757136771\n",
      "Test set size: (587, 321) accuracy: 0.6115843270868825\n",
      "Test set neg log loss: -0.6753330518186147. Probability to observe data given model: 0.5089868733712813\n",
      "Added single feature: l1y_abs_distance_strikes_accuracy_diff\n",
      "Negative log loss on training set: -0.6347653814340918\n",
      "Training set size: (2347, 321) accuracy: 0.6472092032381764\n",
      "Test set size: (587, 321) accuracy: 0.6081771720613288\n",
      "Test set neg log loss: -0.6769454592033446. Probability to observe data given model: 0.5081668404691446\n",
      "Added single feature: l5y_abs_sig_strikes_accuracy_diff\n",
      "Negative log loss on training set: -0.6346115517951405\n",
      "Training set size: (2347, 321) accuracy: 0.6463570515551769\n",
      "Test set size: (587, 321) accuracy: 0.606473594548552\n",
      "Test set neg log loss: -0.6764204096353151. Probability to observe data given model: 0.5084337233064479\n",
      "Added single feature: l5y_wins_sub_diff\n",
      "Negative log loss on training set: -0.6345031770927465\n",
      "Training set size: (2347, 321) accuracy: 0.6442266723476778\n",
      "Test set size: (587, 321) accuracy: 0.6047700170357752\n",
      "Test set neg log loss: -0.6783556269160077. Probability to observe data given model: 0.5074507450240742\n",
      "Added single feature: l5y_wins_dec_diff\n",
      "Negative log loss on training set: -0.6344181473657641\n",
      "Training set size: (2347, 321) accuracy: 0.6450788240306775\n",
      "Test set size: (587, 321) accuracy: 0.6047700170357752\n",
      "Test set neg log loss: -0.6778178034678617. Probability to observe data given model: 0.5077237373377808\n",
      "Added single feature: l1y_losses_sub_diff\n",
      "Negative log loss on training set: -0.6343129526611999\n",
      "Training set size: (2347, 321) accuracy: 0.6420962931401789\n",
      "Test set size: (587, 321) accuracy: 0.6115843270868825\n",
      "Test set neg log loss: -0.6780713807538017. Probability to observe data given model: 0.5075950064527633\n",
      "Added single feature: l3y_wins_dec_diff\n",
      "Negative log loss on training set: -0.6342294644906508\n",
      "Training set size: (2347, 321) accuracy: 0.6455048998721773\n",
      "Test set size: (587, 321) accuracy: 0.6115843270868825\n",
      "Test set neg log loss: -0.678461754991473. Probability to observe data given model: 0.5073968931107619\n",
      "Added single feature: l1y_abs_sub_attempts_per_min_diff\n",
      "Negative log loss on training set: -0.634146664061014\n",
      "Training set size: (2347, 321) accuracy: 0.6433745206646783\n",
      "Test set size: (587, 321) accuracy: 0.6115843270868825\n",
      "Test set neg log loss: -0.6801999111025019. Probability to observe data given model: 0.5065157241267595\n",
      "Added single feature: l5y_inf_sig_strikes_accuracy_diff\n",
      "Negative log loss on training set: -0.6341030348078829\n",
      "Training set size: (2347, 321) accuracy: 0.6433745206646783\n",
      "Test set size: (587, 321) accuracy: 0.6098807495741057\n",
      "Test set neg log loss: -0.6799113813001941. Probability to observe data given model: 0.5066618900941124\n",
      "Added single feature: l1y_inf_distance_strikes_accuracy_diff\n",
      "Negative log loss on training set: -0.633933393352055\n",
      "Training set size: (2347, 321) accuracy: 0.6476352790796762\n",
      "Test set size: (587, 321) accuracy: 0.6098807495741057\n",
      "Test set neg log loss: -0.6789926524661439. Probability to observe data given model: 0.5071275888743484\n",
      "Added single feature: l1y_inf_body_strikes_accuracy_diff\n",
      "Negative log loss on training set: -0.6338612857348873\n",
      "Training set size: (2347, 321) accuracy: 0.6514699616531743\n",
      "Test set size: (587, 321) accuracy: 0.6098807495741057\n",
      "Test set neg log loss: -0.6806621761841795. Probability to observe data given model: 0.5062816337042577\n",
      "No improvement found with single addition, trying pairs.\n",
      "Added double feature: l5y_abs_takedowns_attempts_per_min_diff, l3y_abs_takedowns_attempts_per_min_diff\n",
      "Negative log loss on training set: -0.6338325751123212\n",
      "Training set size: (2347, 321) accuracy: 0.6523221133361738\n",
      "Test set size: (587, 321) accuracy: 0.596252129471891\n",
      "Test set neg log loss: -0.6808448471480023. Probability to observe data given model: 0.506189159196724\n",
      "Added single feature: l1y_abs_takedowns_attempts_per_min_diff\n",
      "Negative log loss on training set: -0.6337268891135983\n",
      "Training set size: (2347, 321) accuracy: 0.6523221133361738\n",
      "Test set size: (587, 321) accuracy: 0.6013628620102215\n",
      "Test set neg log loss: -0.6811215787680215. Probability to observe data given model: 0.5060491000309572\n",
      "No improvement found with single addition, trying pairs.\n",
      "Added double feature: l1y_inf_clinch_strikes_landed_per_min_diff, all_abs_leg_strikes_landed_per_min_diff\n",
      "Negative log loss on training set: -0.6337216400943043\n",
      "Training set size: (2347, 321) accuracy: 0.6518960374946741\n",
      "Test set size: (587, 321) accuracy: 0.5979557069846678\n",
      "Test set neg log loss: -0.6807989682754404. Probability to observe data given model: 0.5062123831173906\n",
      "No improvement found with single addition, trying pairs.\n",
      "Added double feature: l5y_abs_knockdowns_per_min_diff, all_abs_knockdowns_per_min_diff\n",
      "Negative log loss on training set: -0.6337173513240465\n",
      "Training set size: (2347, 321) accuracy: 0.6514699616531743\n",
      "Test set size: (587, 321) accuracy: 0.5945485519591142\n",
      "Test set neg log loss: -0.6792171822610888. Probability to observe data given model: 0.5070137364029218\n",
      "No improvement found with single addition, trying pairs.\n",
      "Added double feature: l5y_abs_body_strikes_attempts_per_min_diff, l1y_abs_head_strikes_accuracy_diff\n",
      "Negative log loss on training set: -0.6336703312307899\n",
      "Training set size: (2347, 321) accuracy: 0.6544524925436728\n",
      "Test set size: (587, 321) accuracy: 0.5945485519591142\n",
      "Test set neg log loss: -0.6798587531731471. Probability to observe data given model: 0.5066885554621021\n",
      "Added single feature: l5y_abs_body_strikes_landed_per_min_diff\n",
      "Negative log loss on training set: -0.6336072968329979\n",
      "Training set size: (2347, 321) accuracy: 0.6531742650191734\n",
      "Test set size: (587, 321) accuracy: 0.5945485519591142\n",
      "Test set neg log loss: -0.6795090196764231. Probability to observe data given model: 0.5068657924133968\n",
      "Added single feature: l5y_inf_head_strikes_landed_per_min_diff\n",
      "Negative log loss on training set: -0.6335947612106485\n",
      "Training set size: (2347, 321) accuracy: 0.6536003408606732\n",
      "Test set size: (587, 321) accuracy: 0.5945485519591142\n",
      "Test set neg log loss: -0.6793392707384736. Probability to observe data given model: 0.5069518396463485\n",
      "No improvement found with single addition, trying pairs.\n",
      "Added double feature: l5y_inf_leg_strikes_landed_per_min_diff, all_inf_leg_strikes_landed_per_min_diff\n",
      "Negative log loss on training set: -0.6335723864923143\n",
      "Training set size: (2347, 321) accuracy: 0.654026416702173\n",
      "Test set size: (587, 321) accuracy: 0.5996592844974447\n",
      "Test set neg log loss: -0.680379621235223. Probability to observe data given model: 0.5064247062974094\n",
      "Added single feature: l5y_losses_ko_diff\n",
      "Negative log loss on training set: -0.6335554256373632\n",
      "Training set size: (2347, 321) accuracy: 0.6553046442266723\n",
      "Test set size: (587, 321) accuracy: 0.6013628620102215\n",
      "Test set neg log loss: -0.6809429903208845. Probability to observe data given model: 0.5061394826243101\n",
      "No improvement found with single addition, trying pairs.\n",
      "No improvement found with double addition, stopping.\n",
      "Final best feature set: ['l5y_overall_fighter_score_diff', 'l5y_wins_wins_diff', 'l3y_wins_diff', 'all_losses_ko_diff', 'reach_diff', 'l3y_inf_clinch_strikes_landed_per_min_diff', 'l3y_fight_math_diff', 'l1y_abs_clinch_strikes_accuracy_diff', 'l5y_abs_takedowns_accuracy_diff', 'all_inf_head_strikes_accuracy_diff', 'l5y_abs_head_strikes_accuracy_diff', 'l5y_inf_takedowns_attempts_per_min_diff', 'l1y_inf_body_strikes_landed_per_min_diff', 'l1y_abs_leg_strikes_accuracy_diff', 'l5y_abs_clinch_strikes_accuracy_diff', 'age_diff', 'l3y_wins_wins_diff', 'l5y_inf_body_strikes_attempts_per_min_diff', 'all_inf_total_strikes_attempts_per_min_diff', 'all_inf_leg_strikes_accuracy_diff', 'l5y_abs_body_strikes_accuracy_diff', 'l1y_inf_takedowns_accuracy_diff', 'l1y_inf_clinch_strikes_accuracy_diff', 'all_inf_clinch_strikes_accuracy_diff', 'l5y_inf_knockdowns_per_min_diff', 'all_abs_clinch_strikes_accuracy_diff', 'all_fight_math_diff', 'all_inf_head_strikes_landed_per_min_diff', 'l1y_num_fights_diff', 'l1y_abs_distance_strikes_accuracy_diff', 'l5y_abs_sig_strikes_accuracy_diff', 'l5y_wins_sub_diff', 'l5y_wins_dec_diff', 'l1y_losses_sub_diff', 'l3y_wins_dec_diff', 'l1y_abs_sub_attempts_per_min_diff', 'l5y_inf_sig_strikes_accuracy_diff', 'l1y_inf_distance_strikes_accuracy_diff', 'l1y_inf_body_strikes_accuracy_diff', 'l5y_abs_takedowns_attempts_per_min_diff', 'l3y_abs_takedowns_attempts_per_min_diff', 'l1y_abs_takedowns_attempts_per_min_diff', 'l1y_inf_clinch_strikes_landed_per_min_diff', 'all_abs_leg_strikes_landed_per_min_diff', 'l5y_abs_knockdowns_per_min_diff', 'all_abs_knockdowns_per_min_diff', 'l5y_abs_body_strikes_attempts_per_min_diff', 'l1y_abs_head_strikes_accuracy_diff', 'l5y_abs_body_strikes_landed_per_min_diff', 'l5y_inf_head_strikes_landed_per_min_diff', 'l5y_inf_leg_strikes_landed_per_min_diff', 'all_inf_leg_strikes_landed_per_min_diff', 'l5y_losses_ko_diff']\n"
     ]
    }
   ],
   "source": [
    "best_features = additive_greedy(X_train, X_test, search_doubles=True, _max_iter=30000)"
   ]
  },
  {
   "cell_type": "code",
   "execution_count": 10,
   "metadata": {},
   "outputs": [
    {
     "name": "stdout",
     "output_type": "stream",
     "text": [
      "Training set size: (2347, 321) accuracy: 0.6553046442266723\n",
      "Test set size: (587, 321) accuracy: 0.6013628620102215\n",
      "Test set neg log loss: -0.6809429903208845. Probability to observe data given model: 0.5061394826243101\n"
     ]
    }
   ],
   "source": [
    "model_test_score(X_train, X_test, best_features, _max_iter = 30000, scaled=True)"
   ]
  }
 ],
 "metadata": {
  "kernelspec": {
   "display_name": "Python 3",
   "language": "python",
   "name": "python3"
  },
  "language_info": {
   "codemirror_mode": {
    "name": "ipython",
    "version": 3
   },
   "file_extension": ".py",
   "mimetype": "text/x-python",
   "name": "python",
   "nbconvert_exporter": "python",
   "pygments_lexer": "ipython3",
   "version": "3.11.0"
  }
 },
 "nbformat": 4,
 "nbformat_minor": 2
}
