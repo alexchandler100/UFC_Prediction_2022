{
 "cells": [
  {
   "cell_type": "code",
   "execution_count": 27,
   "metadata": {},
   "outputs": [
    {
     "name": "stdout",
     "output_type": "stream",
     "text": [
      "Changed working directory to C:\\Users\\Alex\\OneDrive\\Documents\\GitHub\\UFC_Prediction_2022\\src\n"
     ]
    }
   ],
   "source": [
    "\n",
    "# standard library imports\n",
    "import git, os, sys\n",
    "\n",
    "git_repo = git.Repo(os.getcwd(), search_parent_directories=True)\n",
    "git_root = git_repo.git.rev_parse(\"--show-toplevel\")\n",
    "os.chdir(f'{git_root}/src')\n",
    "sys.path.append(os.path.abspath(os.path.join(f'{git_root}/src')))\n",
    "print(f'Changed working directory to {os.getcwd()}')\n",
    "\n",
    "# local imports\n",
    "from fight_stat_helpers import *\n",
    "from data_handler import DataHandler"
   ]
  },
  {
   "cell_type": "code",
   "execution_count": 28,
   "metadata": {},
   "outputs": [],
   "source": [
    "dh = DataHandler()\n",
    "# get reported derived doubled data\n",
    "ufc_fights_reported_derived_doubled = dh.get('ufc_fights_reported_derived_doubled')"
   ]
  },
  {
   "cell_type": "code",
   "execution_count": 31,
   "metadata": {},
   "outputs": [],
   "source": [
    "# find all fights with Angela Hill as the Fighter\n",
    "mask = same_name_vect(ufc_fights_reported_derived_doubled['fighter'], 'Angela Hill')\n",
    "angela_hill_fights = ufc_fights_reported_derived_doubled[mask]"
   ]
  },
  {
   "cell_type": "code",
   "execution_count": 33,
   "metadata": {},
   "outputs": [
    {
     "name": "stdout",
     "output_type": "stream",
     "text": [
      "date\n",
      "fighter\n",
      "opponent\n",
      "result\n",
      "method\n",
      "division\n",
      "age\n",
      "height\n",
      "reach\n",
      "stance\n",
      "all_wins\n",
      "l1y_wins\n",
      "l3y_wins\n",
      "l5y_wins\n",
      "all_wins_ko\n",
      "l1y_wins_ko\n",
      "l3y_wins_ko\n",
      "l5y_wins_ko\n",
      "all_wins_sub\n",
      "l1y_wins_sub\n",
      "l3y_wins_sub\n",
      "l5y_wins_sub\n",
      "all_wins_dec\n",
      "l1y_wins_dec\n",
      "l3y_wins_dec\n",
      "l5y_wins_dec\n",
      "all_losses\n",
      "l1y_losses\n",
      "l3y_losses\n",
      "l5y_losses\n",
      "all_losses_ko\n",
      "l1y_losses_ko\n",
      "l3y_losses_ko\n",
      "l5y_losses_ko\n",
      "all_losses_sub\n",
      "l1y_losses_sub\n",
      "l3y_losses_sub\n",
      "l5y_losses_sub\n",
      "all_losses_dec\n",
      "l1y_losses_dec\n",
      "l3y_losses_dec\n",
      "l5y_losses_dec\n",
      "all_num_fights\n",
      "l1y_num_fights\n",
      "l3y_num_fights\n",
      "l5y_num_fights\n",
      "all_wins_wins\n",
      "all_losses_losses\n",
      "all_fight_math\n",
      "l1y_wins_wins\n",
      "l1y_losses_losses\n",
      "l1y_fight_math\n",
      "l3y_wins_wins\n",
      "l3y_losses_losses\n",
      "l3y_fight_math\n",
      "l5y_wins_wins\n",
      "l5y_losses_losses\n",
      "l5y_fight_math\n",
      "all_inf_reversals_per_min\n",
      "l1y_inf_reversals_per_min\n",
      "l3y_inf_reversals_per_min\n",
      "l5y_inf_reversals_per_min\n",
      "all_abs_reversals_per_min\n",
      "l1y_abs_reversals_per_min\n",
      "l3y_abs_reversals_per_min\n",
      "l5y_abs_reversals_per_min\n",
      "all_inf_control_per_min\n",
      "l1y_inf_control_per_min\n",
      "l3y_inf_control_per_min\n",
      "l5y_inf_control_per_min\n",
      "all_abs_control_per_min\n",
      "l1y_abs_control_per_min\n",
      "l3y_abs_control_per_min\n",
      "l5y_abs_control_per_min\n",
      "all_inf_sub_attempts_per_min\n",
      "l1y_inf_sub_attempts_per_min\n",
      "l3y_inf_sub_attempts_per_min\n",
      "l5y_inf_sub_attempts_per_min\n",
      "all_abs_sub_attempts_per_min\n",
      "l1y_abs_sub_attempts_per_min\n",
      "l3y_abs_sub_attempts_per_min\n",
      "l5y_abs_sub_attempts_per_min\n",
      "all_inf_knockdowns_per_min\n",
      "l1y_inf_knockdowns_per_min\n",
      "l3y_inf_knockdowns_per_min\n",
      "l5y_inf_knockdowns_per_min\n",
      "all_abs_knockdowns_per_min\n",
      "l1y_abs_knockdowns_per_min\n",
      "l3y_abs_knockdowns_per_min\n",
      "l5y_abs_knockdowns_per_min\n",
      "all_inf_takedowns_landed_per_min\n",
      "all_inf_takedowns_attempts_per_min\n",
      "all_inf_takedowns_accuracy\n",
      "l1y_inf_takedowns_landed_per_min\n",
      "l1y_inf_takedowns_attempts_per_min\n",
      "l1y_inf_takedowns_accuracy\n",
      "l3y_inf_takedowns_landed_per_min\n",
      "l3y_inf_takedowns_attempts_per_min\n",
      "l3y_inf_takedowns_accuracy\n",
      "l5y_inf_takedowns_landed_per_min\n",
      "l5y_inf_takedowns_attempts_per_min\n",
      "l5y_inf_takedowns_accuracy\n",
      "all_abs_takedowns_landed_per_min\n",
      "all_abs_takedowns_attempts_per_min\n",
      "all_abs_takedowns_accuracy\n",
      "l1y_abs_takedowns_landed_per_min\n",
      "l1y_abs_takedowns_attempts_per_min\n",
      "l1y_abs_takedowns_accuracy\n",
      "l3y_abs_takedowns_landed_per_min\n",
      "l3y_abs_takedowns_attempts_per_min\n",
      "l3y_abs_takedowns_accuracy\n",
      "l5y_abs_takedowns_landed_per_min\n",
      "l5y_abs_takedowns_attempts_per_min\n",
      "l5y_abs_takedowns_accuracy\n",
      "all_inf_sig_strikes_landed_per_min\n",
      "all_inf_sig_strikes_attempts_per_min\n",
      "all_inf_sig_strikes_accuracy\n",
      "l1y_inf_sig_strikes_landed_per_min\n",
      "l1y_inf_sig_strikes_attempts_per_min\n",
      "l1y_inf_sig_strikes_accuracy\n",
      "l3y_inf_sig_strikes_landed_per_min\n",
      "l3y_inf_sig_strikes_attempts_per_min\n",
      "l3y_inf_sig_strikes_accuracy\n",
      "l5y_inf_sig_strikes_landed_per_min\n",
      "l5y_inf_sig_strikes_attempts_per_min\n",
      "l5y_inf_sig_strikes_accuracy\n",
      "all_abs_sig_strikes_landed_per_min\n",
      "all_abs_sig_strikes_attempts_per_min\n",
      "all_abs_sig_strikes_accuracy\n",
      "l1y_abs_sig_strikes_landed_per_min\n",
      "l1y_abs_sig_strikes_attempts_per_min\n",
      "l1y_abs_sig_strikes_accuracy\n",
      "l3y_abs_sig_strikes_landed_per_min\n",
      "l3y_abs_sig_strikes_attempts_per_min\n",
      "l3y_abs_sig_strikes_accuracy\n",
      "l5y_abs_sig_strikes_landed_per_min\n",
      "l5y_abs_sig_strikes_attempts_per_min\n",
      "l5y_abs_sig_strikes_accuracy\n",
      "all_inf_total_strikes_landed_per_min\n",
      "all_inf_total_strikes_attempts_per_min\n",
      "all_inf_total_strikes_accuracy\n",
      "l1y_inf_total_strikes_landed_per_min\n",
      "l1y_inf_total_strikes_attempts_per_min\n",
      "l1y_inf_total_strikes_accuracy\n",
      "l3y_inf_total_strikes_landed_per_min\n",
      "l3y_inf_total_strikes_attempts_per_min\n",
      "l3y_inf_total_strikes_accuracy\n",
      "l5y_inf_total_strikes_landed_per_min\n",
      "l5y_inf_total_strikes_attempts_per_min\n",
      "l5y_inf_total_strikes_accuracy\n",
      "all_abs_total_strikes_landed_per_min\n",
      "all_abs_total_strikes_attempts_per_min\n",
      "all_abs_total_strikes_accuracy\n",
      "l1y_abs_total_strikes_landed_per_min\n",
      "l1y_abs_total_strikes_attempts_per_min\n",
      "l1y_abs_total_strikes_accuracy\n",
      "l3y_abs_total_strikes_landed_per_min\n",
      "l3y_abs_total_strikes_attempts_per_min\n",
      "l3y_abs_total_strikes_accuracy\n",
      "l5y_abs_total_strikes_landed_per_min\n",
      "l5y_abs_total_strikes_attempts_per_min\n",
      "l5y_abs_total_strikes_accuracy\n",
      "all_inf_head_strikes_landed_per_min\n",
      "all_inf_head_strikes_attempts_per_min\n",
      "all_inf_head_strikes_accuracy\n",
      "l1y_inf_head_strikes_landed_per_min\n",
      "l1y_inf_head_strikes_attempts_per_min\n",
      "l1y_inf_head_strikes_accuracy\n",
      "l3y_inf_head_strikes_landed_per_min\n",
      "l3y_inf_head_strikes_attempts_per_min\n",
      "l3y_inf_head_strikes_accuracy\n",
      "l5y_inf_head_strikes_landed_per_min\n",
      "l5y_inf_head_strikes_attempts_per_min\n",
      "l5y_inf_head_strikes_accuracy\n",
      "all_abs_head_strikes_landed_per_min\n",
      "all_abs_head_strikes_attempts_per_min\n",
      "all_abs_head_strikes_accuracy\n",
      "l1y_abs_head_strikes_landed_per_min\n",
      "l1y_abs_head_strikes_attempts_per_min\n",
      "l1y_abs_head_strikes_accuracy\n",
      "l3y_abs_head_strikes_landed_per_min\n",
      "l3y_abs_head_strikes_attempts_per_min\n",
      "l3y_abs_head_strikes_accuracy\n",
      "l5y_abs_head_strikes_landed_per_min\n",
      "l5y_abs_head_strikes_attempts_per_min\n",
      "l5y_abs_head_strikes_accuracy\n",
      "all_inf_body_strikes_landed_per_min\n",
      "all_inf_body_strikes_attempts_per_min\n",
      "all_inf_body_strikes_accuracy\n",
      "l1y_inf_body_strikes_landed_per_min\n",
      "l1y_inf_body_strikes_attempts_per_min\n",
      "l1y_inf_body_strikes_accuracy\n",
      "l3y_inf_body_strikes_landed_per_min\n",
      "l3y_inf_body_strikes_attempts_per_min\n",
      "l3y_inf_body_strikes_accuracy\n",
      "l5y_inf_body_strikes_landed_per_min\n",
      "l5y_inf_body_strikes_attempts_per_min\n",
      "l5y_inf_body_strikes_accuracy\n",
      "all_abs_body_strikes_landed_per_min\n",
      "all_abs_body_strikes_attempts_per_min\n",
      "all_abs_body_strikes_accuracy\n",
      "l1y_abs_body_strikes_landed_per_min\n",
      "l1y_abs_body_strikes_attempts_per_min\n",
      "l1y_abs_body_strikes_accuracy\n",
      "l3y_abs_body_strikes_landed_per_min\n",
      "l3y_abs_body_strikes_attempts_per_min\n",
      "l3y_abs_body_strikes_accuracy\n",
      "l5y_abs_body_strikes_landed_per_min\n",
      "l5y_abs_body_strikes_attempts_per_min\n",
      "l5y_abs_body_strikes_accuracy\n",
      "all_inf_leg_strikes_landed_per_min\n",
      "all_inf_leg_strikes_attempts_per_min\n",
      "all_inf_leg_strikes_accuracy\n",
      "l1y_inf_leg_strikes_landed_per_min\n",
      "l1y_inf_leg_strikes_attempts_per_min\n",
      "l1y_inf_leg_strikes_accuracy\n",
      "l3y_inf_leg_strikes_landed_per_min\n",
      "l3y_inf_leg_strikes_attempts_per_min\n",
      "l3y_inf_leg_strikes_accuracy\n",
      "l5y_inf_leg_strikes_landed_per_min\n",
      "l5y_inf_leg_strikes_attempts_per_min\n",
      "l5y_inf_leg_strikes_accuracy\n",
      "all_abs_leg_strikes_landed_per_min\n",
      "all_abs_leg_strikes_attempts_per_min\n",
      "all_abs_leg_strikes_accuracy\n",
      "l1y_abs_leg_strikes_landed_per_min\n",
      "l1y_abs_leg_strikes_attempts_per_min\n",
      "l1y_abs_leg_strikes_accuracy\n",
      "l3y_abs_leg_strikes_landed_per_min\n",
      "l3y_abs_leg_strikes_attempts_per_min\n",
      "l3y_abs_leg_strikes_accuracy\n",
      "l5y_abs_leg_strikes_landed_per_min\n",
      "l5y_abs_leg_strikes_attempts_per_min\n",
      "l5y_abs_leg_strikes_accuracy\n",
      "all_inf_distance_strikes_landed_per_min\n",
      "all_inf_distance_strikes_attempts_per_min\n",
      "all_inf_distance_strikes_accuracy\n",
      "l1y_inf_distance_strikes_landed_per_min\n",
      "l1y_inf_distance_strikes_attempts_per_min\n",
      "l1y_inf_distance_strikes_accuracy\n",
      "l3y_inf_distance_strikes_landed_per_min\n",
      "l3y_inf_distance_strikes_attempts_per_min\n",
      "l3y_inf_distance_strikes_accuracy\n",
      "l5y_inf_distance_strikes_landed_per_min\n",
      "l5y_inf_distance_strikes_attempts_per_min\n",
      "l5y_inf_distance_strikes_accuracy\n",
      "all_abs_distance_strikes_landed_per_min\n",
      "all_abs_distance_strikes_attempts_per_min\n",
      "all_abs_distance_strikes_accuracy\n",
      "l1y_abs_distance_strikes_landed_per_min\n",
      "l1y_abs_distance_strikes_attempts_per_min\n",
      "l1y_abs_distance_strikes_accuracy\n",
      "l3y_abs_distance_strikes_landed_per_min\n",
      "l3y_abs_distance_strikes_attempts_per_min\n",
      "l3y_abs_distance_strikes_accuracy\n",
      "l5y_abs_distance_strikes_landed_per_min\n",
      "l5y_abs_distance_strikes_attempts_per_min\n",
      "l5y_abs_distance_strikes_accuracy\n",
      "all_inf_clinch_strikes_landed_per_min\n",
      "all_inf_clinch_strikes_attempts_per_min\n",
      "all_inf_clinch_strikes_accuracy\n",
      "l1y_inf_clinch_strikes_landed_per_min\n",
      "l1y_inf_clinch_strikes_attempts_per_min\n",
      "l1y_inf_clinch_strikes_accuracy\n",
      "l3y_inf_clinch_strikes_landed_per_min\n",
      "l3y_inf_clinch_strikes_attempts_per_min\n",
      "l3y_inf_clinch_strikes_accuracy\n",
      "l5y_inf_clinch_strikes_landed_per_min\n",
      "l5y_inf_clinch_strikes_attempts_per_min\n",
      "l5y_inf_clinch_strikes_accuracy\n",
      "all_abs_clinch_strikes_landed_per_min\n",
      "all_abs_clinch_strikes_attempts_per_min\n",
      "all_abs_clinch_strikes_accuracy\n",
      "l1y_abs_clinch_strikes_landed_per_min\n",
      "l1y_abs_clinch_strikes_attempts_per_min\n",
      "l1y_abs_clinch_strikes_accuracy\n",
      "l3y_abs_clinch_strikes_landed_per_min\n",
      "l3y_abs_clinch_strikes_attempts_per_min\n",
      "l3y_abs_clinch_strikes_accuracy\n",
      "l5y_abs_clinch_strikes_landed_per_min\n",
      "l5y_abs_clinch_strikes_attempts_per_min\n",
      "l5y_abs_clinch_strikes_accuracy\n",
      "all_inf_ground_strikes_landed_per_min\n",
      "all_inf_ground_strikes_attempts_per_min\n",
      "all_inf_ground_strikes_accuracy\n",
      "l1y_inf_ground_strikes_landed_per_min\n",
      "l1y_inf_ground_strikes_attempts_per_min\n",
      "l1y_inf_ground_strikes_accuracy\n",
      "l3y_inf_ground_strikes_landed_per_min\n",
      "l3y_inf_ground_strikes_attempts_per_min\n",
      "l3y_inf_ground_strikes_accuracy\n",
      "l5y_inf_ground_strikes_landed_per_min\n",
      "l5y_inf_ground_strikes_attempts_per_min\n",
      "l5y_inf_ground_strikes_accuracy\n",
      "all_abs_ground_strikes_landed_per_min\n",
      "all_abs_ground_strikes_attempts_per_min\n",
      "all_abs_ground_strikes_accuracy\n",
      "l1y_abs_ground_strikes_landed_per_min\n",
      "l1y_abs_ground_strikes_attempts_per_min\n",
      "l1y_abs_ground_strikes_accuracy\n",
      "l3y_abs_ground_strikes_landed_per_min\n",
      "l3y_abs_ground_strikes_attempts_per_min\n",
      "l3y_abs_ground_strikes_accuracy\n",
      "l5y_abs_ground_strikes_landed_per_min\n",
      "l5y_abs_ground_strikes_attempts_per_min\n",
      "l5y_abs_ground_strikes_accuracy\n",
      "all_offensive_standing_striking_score\n",
      "l1y_offensive_standing_striking_score\n",
      "l3y_offensive_standing_striking_score\n",
      "l5y_offensive_standing_striking_score\n",
      "all_defensive_standing_striking_loss\n",
      "l1y_defensive_standing_striking_loss\n",
      "l3y_defensive_standing_striking_loss\n",
      "l5y_defensive_standing_striking_loss\n",
      "all_offensive_grappling_score\n",
      "l1y_offensive_grappling_score\n",
      "l3y_offensive_grappling_score\n",
      "l5y_offensive_grappling_score\n",
      "all_defensive_grappling_loss\n",
      "l1y_defensive_grappling_loss\n",
      "l3y_defensive_grappling_loss\n",
      "l5y_defensive_grappling_loss\n",
      "all_overall_fighter_score\n",
      "l1y_overall_fighter_score\n",
      "l3y_overall_fighter_score\n",
      "l5y_overall_fighter_score\n"
     ]
    }
   ],
   "source": [
    "for col in angela_hill_fights.columns:\n",
    "    print(col)"
   ]
  },
  {
   "cell_type": "code",
   "execution_count": 32,
   "metadata": {},
   "outputs": [
    {
     "data": {
      "text/plain": [
       "5985     0.000000\n",
       "6478     9.333333\n",
       "6768     6.866667\n",
       "8046     6.771734\n",
       "8399     6.717824\n",
       "8714     6.148128\n",
       "9049     6.350975\n",
       "9492     6.628346\n",
       "10050    6.847070\n",
       "10147    6.596345\n",
       "10274    6.746167\n",
       "10591    6.583050\n",
       "10919    6.676760\n",
       "10979    6.780801\n",
       "11130    6.603192\n",
       "11482    6.571945\n",
       "11991    6.488218\n",
       "12412    6.486834\n",
       "12804    6.493663\n",
       "13182    6.404857\n",
       "13479    6.217914\n",
       "13767    6.199966\n",
       "14242    6.514341\n",
       "14733    6.307900\n",
       "15289    6.311863\n",
       "15582    6.258560\n",
       "16017    6.382294\n",
       "Name: all_inf_total_strikes_landed_per_min, dtype: float64"
      ]
     },
     "execution_count": 32,
     "metadata": {},
     "output_type": "execute_result"
    }
   ],
   "source": [
    "angela_hill_fights['all_inf_total_strikes_landed_per_min']"
   ]
  },
  {
   "cell_type": "code",
   "execution_count": 10,
   "metadata": {},
   "outputs": [
    {
     "data": {
      "text/plain": [
       "139.95"
      ]
     },
     "execution_count": 10,
     "metadata": {},
     "output_type": "execute_result"
    }
   ],
   "source": [
    "9.33 * 15"
   ]
  },
  {
   "cell_type": "code",
   "execution_count": 36,
   "metadata": {},
   "outputs": [
    {
     "data": {
      "text/plain": [
       "14037    0.000000\n",
       "14310    2.142857\n",
       "14785    5.513834\n",
       "15025    4.682741\n",
       "15486    3.823382\n",
       "16127    3.567231\n",
       "Name: all_abs_sig_strikes_landed_per_min, dtype: float64"
      ]
     },
     "execution_count": 36,
     "metadata": {},
     "output_type": "execute_result"
    }
   ],
   "source": [
    "christian_duncan_fights_mask = same_name_vect(ufc_fights_reported_derived_doubled['fighter'], 'Christian Leroy Duncan')\n",
    "christian_duncan_fights = ufc_fights_reported_derived_doubled[christian_duncan_fights_mask]\n",
    "christian_duncan_fights['all_abs_sig_strikes_landed_per_min']"
   ]
  },
  {
   "cell_type": "code",
   "execution_count": 39,
   "metadata": {},
   "outputs": [],
   "source": [
    "def get_stat_col(fighter_name, stat_col):\n",
    "    mask = same_name_vect(ufc_fights_reported_derived_doubled['fighter'], fighter_name)\n",
    "    fighter_fights = ufc_fights_reported_derived_doubled[mask]\n",
    "    return fighter_fights[stat_col]"
   ]
  },
  {
   "cell_type": "code",
   "execution_count": 41,
   "metadata": {},
   "outputs": [
    {
     "data": {
      "text/plain": [
       "14037    0.000000\n",
       "14310    2.142857\n",
       "14785    5.513834\n",
       "15025    4.682741\n",
       "15486    3.823382\n",
       "16127    3.567231\n",
       "Name: all_abs_sig_strikes_landed_per_min, dtype: float64"
      ]
     },
     "execution_count": 41,
     "metadata": {},
     "output_type": "execute_result"
    }
   ],
   "source": [
    "get_stat_col('Christian Leroy Duncan', 'all_abs_sig_strikes_landed_per_min')"
   ]
  },
  {
   "cell_type": "code",
   "execution_count": 42,
   "metadata": {},
   "outputs": [
    {
     "data": {
      "text/plain": [
       "8473     0.000000\n",
       "8849     7.931034\n",
       "8988     5.698324\n",
       "9487     3.123543\n",
       "9574     3.055556\n",
       "9780     2.865014\n",
       "10116    3.116438\n",
       "10325    2.816764\n",
       "10671    2.887392\n",
       "11126    3.061396\n",
       "11993    3.024645\n",
       "12245    3.234268\n",
       "12764    3.204864\n",
       "13212    3.158231\n",
       "13771    3.260870\n",
       "14282    3.393073\n",
       "15031    3.558146\n",
       "15861    3.413159\n",
       "Name: all_inf_sig_strikes_landed_per_min, dtype: float64"
      ]
     },
     "execution_count": 42,
     "metadata": {},
     "output_type": "execute_result"
    }
   ],
   "source": [
    "get_stat_col('Eryk Anders', 'all_inf_sig_strikes_landed_per_min')"
   ]
  },
  {
   "cell_type": "code",
   "execution_count": 43,
   "metadata": {},
   "outputs": [
    {
     "data": {
      "text/plain": [
       "9886     0.000000\n",
       "10521    2.779292\n",
       "11120    4.820296\n",
       "11895    4.629442\n",
       "13065    4.635193\n",
       "13581    4.073107\n",
       "14241    3.885752\n",
       "14987    4.215686\n",
       "15727    4.196407\n",
       "16051    4.828711\n",
       "Name: all_inf_sig_strikes_landed_per_min, dtype: float64"
      ]
     },
     "execution_count": 43,
     "metadata": {},
     "output_type": "execute_result"
    }
   ],
   "source": [
    "get_stat_col('Anthony Hernandez', 'all_inf_sig_strikes_landed_per_min')"
   ]
  },
  {
   "cell_type": "code",
   "execution_count": 44,
   "metadata": {},
   "outputs": [
    {
     "data": {
      "text/plain": [
       "11305    0.000000\n",
       "11741    0.941176\n",
       "12008    1.714286\n",
       "12225    1.751825\n",
       "13273    1.401015\n",
       "13671    1.446499\n",
       "13773    1.537992\n",
       "14048    2.055977\n",
       "14942    3.010798\n",
       "15415    3.364937\n",
       "15675    3.369367\n",
       "16119    3.378688\n",
       "Name: all_abs_sig_strikes_landed_per_min, dtype: float64"
      ]
     },
     "execution_count": 44,
     "metadata": {},
     "output_type": "execute_result"
    }
   ],
   "source": [
    "get_stat_col('Roman Dolidze', 'all_abs_sig_strikes_landed_per_min')"
   ]
  },
  {
   "cell_type": "code",
   "execution_count": 46,
   "metadata": {},
   "outputs": [
    {
     "data": {
      "text/plain": [
       "4843     0.000000\n",
       "5344     9.348442\n",
       "5857     5.068259\n",
       "6246     4.083012\n",
       "6865     3.759929\n",
       "7262     3.855226\n",
       "7711     3.503801\n",
       "8490     3.384291\n",
       "8647     3.668513\n",
       "8965     3.668216\n",
       "9494     3.898984\n",
       "9935     3.724642\n",
       "10375    4.029419\n",
       "10888    4.074991\n",
       "11193    3.997442\n",
       "11646    3.904289\n",
       "12301    3.734907\n",
       "13144    3.799774\n",
       "13587    3.817427\n",
       "14442    3.825794\n",
       "14851    3.828546\n",
       "14968    3.857143\n",
       "15407    3.846322\n",
       "16040    3.884450\n",
       "Name: all_inf_sig_strikes_landed_per_min, dtype: float64"
      ]
     },
     "execution_count": 46,
     "metadata": {},
     "output_type": "execute_result"
    }
   ],
   "source": [
    "get_stat_col('Andre Fili', 'all_inf_sig_strikes_landed_per_min')"
   ]
  },
  {
   "cell_type": "code",
   "execution_count": null,
   "metadata": {},
   "outputs": [
    {
     "data": {
      "text/plain": [
       "12908    0.000000\n",
       "13661    1.200000\n",
       "14093    1.883173\n",
       "14693    1.113825\n",
       "15089    2.259925\n",
       "15434    2.074344\n",
       "15925    2.437137\n",
       "16154    2.275616\n",
       "Name: all_abs_sig_strikes_landed_per_min, dtype: float64"
      ]
     },
     "execution_count": 47,
     "metadata": {},
     "output_type": "execute_result"
    },
    {
     "ename": "",
     "evalue": "",
     "output_type": "error",
     "traceback": [
      "\u001b[1;31mThe Kernel crashed while executing code in the current cell or a previous cell. \n",
      "\u001b[1;31mPlease review the code in the cell(s) to identify a possible cause of the failure. \n",
      "\u001b[1;31mClick <a href='https://aka.ms/vscodeJupyterKernelCrash'>here</a> for more info. \n",
      "\u001b[1;31mView Jupyter <a href='command:jupyter.viewOutput'>log</a> for further details."
     ]
    }
   ],
   "source": [
    "get_stat_col('Christian Rodriguez', 'all_abs_sig_strikes_landed_per_min')"
   ]
  }
 ],
 "metadata": {
  "kernelspec": {
   "display_name": "Python 3",
   "language": "python",
   "name": "python3"
  },
  "language_info": {
   "codemirror_mode": {
    "name": "ipython",
    "version": 3
   },
   "file_extension": ".py",
   "mimetype": "text/x-python",
   "name": "python",
   "nbconvert_exporter": "python",
   "pygments_lexer": "ipython3",
   "version": "3.11.0"
  }
 },
 "nbformat": 4,
 "nbformat_minor": 2
}
