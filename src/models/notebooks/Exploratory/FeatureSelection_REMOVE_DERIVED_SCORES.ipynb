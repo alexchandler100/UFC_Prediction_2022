{
 "cells": [
  {
   "cell_type": "code",
   "execution_count": 77,
   "metadata": {},
   "outputs": [
    {
     "name": "stdout",
     "output_type": "stream",
     "text": [
      "Changed working directory to C:\\Users\\Alex\\OneDrive\\Documents\\GitHub\\UFC_Prediction_2022\\src\n"
     ]
    }
   ],
   "source": [
    "\n",
    "# standard library imports\n",
    "import git, os, sys\n",
    "\n",
    "git_repo = git.Repo(os.getcwd(), search_parent_directories=True)\n",
    "git_root = git_repo.git.rev_parse(\"--show-toplevel\")\n",
    "os.chdir(f'{git_root}/src')\n",
    "sys.path.append(os.path.abspath(os.path.join(f'{git_root}/src')))\n",
    "print(f'Changed working directory to {os.getcwd()}')\n",
    "\n",
    "# local imports\n",
    "from fight_stat_helpers import *\n",
    "from data_handler import DataHandler"
   ]
  },
  {
   "cell_type": "markdown",
   "metadata": {},
   "source": [
    "# NEW FEATURES\n",
    "\n",
    "- Dominance Score for a single fight: (total score of fighter based on events in the fight) - (total score of opponent based on events in the fight)\n",
    "- Average Dominance over time scales\n",
    "- Fighter Scores\n",
    "- Fight Math\n",
    "- Fighter Score increments based on closeness of fights with opponents with high scores \n",
    "\n",
    "# Other things to try\n",
    "- with or without regularization\n",
    "- with or without scaling\n",
    "- with or without sum features (seems like only age needs sum features)\n",
    "- with or without squared features (seems like only age needs squared features)\n",
    "- Decide whether to include SDEC in bullshit or not\n",
    "- Do linear reg on draws and SDEC and see how this compares to log reg plane (hypothesis: they are the same plane since close fights should be near the plane boundary)"
   ]
  },
  {
   "cell_type": "code",
   "execution_count": 78,
   "metadata": {},
   "outputs": [],
   "source": [
    "dh = DataHandler()\n",
    "# get reported derived doubled data\n",
    "ufc_fights_reported_derived_doubled = dh.get('ufc_fights_reported_derived_doubled')"
   ]
  },
  {
   "cell_type": "code",
   "execution_count": 79,
   "metadata": {},
   "outputs": [
    {
     "data": {
      "text/plain": [
       "(9864, 326)"
      ]
     },
     "execution_count": 79,
     "metadata": {},
     "output_type": "execute_result"
    }
   ],
   "source": [
    "# only take fights in the last 10 years\n",
    "ufc_fights_reported_derived_doubled['date'] = pd.to_datetime(ufc_fights_reported_derived_doubled['date'])\n",
    "date_10_years_ago = pd.Timestamp.now() - pd.DateOffset(years=10)\n",
    "ufc_fights_reported_derived_doubled = ufc_fights_reported_derived_doubled[ufc_fights_reported_derived_doubled['date'] >= date_10_years_ago]\n",
    "ufc_fights_reported_derived_doubled.shape"
   ]
  },
  {
   "cell_type": "markdown",
   "metadata": {},
   "source": [
    "# Verify FIGHT MATH Stats"
   ]
  },
  {
   "cell_type": "code",
   "execution_count": 80,
   "metadata": {},
   "outputs": [
    {
     "data": {
      "text/plain": [
       "all_fight_math    1374.0\n",
       "dtype: float64"
      ]
     },
     "execution_count": 80,
     "metadata": {},
     "output_type": "execute_result"
    }
   ],
   "source": [
    "ufc_fights_reported_derived_doubled[['all_fight_math']].sum()"
   ]
  },
  {
   "cell_type": "code",
   "execution_count": 81,
   "metadata": {},
   "outputs": [],
   "source": [
    "ufc_fights_predictive_flattened_diffs = dh.make_ufc_fights_predictive_flattened_diffs(ufc_fights_reported_derived_doubled)\n",
    "ufc_fights_predictive_flattened_diffs = dh.clean_ufc_fights_for_winner_prediction(ufc_fights_predictive_flattened_diffs)"
   ]
  },
  {
   "cell_type": "code",
   "execution_count": 82,
   "metadata": {},
   "outputs": [],
   "source": [
    "all_features = [f for f in ufc_fights_predictive_flattened_diffs.columns if not ('score_diff' in f or 'loss_diff' in f)]"
   ]
  },
  {
   "cell_type": "code",
   "execution_count": null,
   "metadata": {},
   "outputs": [],
   "source": [
    "len(all_features)"
   ]
  },
  {
   "cell_type": "code",
   "execution_count": 36,
   "metadata": {},
   "outputs": [
    {
     "name": "stdout",
     "output_type": "stream",
     "text": [
      "division\n",
      "Lightweight              609\n",
      "Welterweight             591\n",
      "Featherweight            496\n",
      "Middleweight             473\n",
      "Bantamweight             453\n",
      "Light Heavyweight        328\n",
      "Heavyweight              327\n",
      "Women's Strawweight      256\n",
      "Flyweight                241\n",
      "Women's Flyweight        222\n",
      "Women's Bantamweight     153\n",
      "Catch Weight              52\n",
      "Women's Featherweight     26\n",
      "Name: count, dtype: int64\n"
     ]
    }
   ],
   "source": [
    "# show division counts\n",
    "print(ufc_fights_predictive_flattened_diffs['division'].value_counts())"
   ]
  },
  {
   "cell_type": "code",
   "execution_count": 83,
   "metadata": {},
   "outputs": [],
   "source": [
    "# drop the 'fighter_result' column and opponent_result column as it is not needed for the model and also fighter and opponent columns\n",
    "X = ufc_fights_predictive_flattened_diffs[all_features].drop(columns=['fighter', 'opponent', 'method', 'division'])\n",
    "# KEEP result in X as this is what model_score is expecting for better or for worse\n",
    "y = X['result']"
   ]
  },
  {
   "cell_type": "code",
   "execution_count": null,
   "metadata": {},
   "outputs": [],
   "source": [
    "list(X.columns)"
   ]
  },
  {
   "cell_type": "code",
   "execution_count": 84,
   "metadata": {},
   "outputs": [],
   "source": [
    "from sklearn.model_selection import train_test_split\n",
    "X_train, X_test, y_train, y_test = train_test_split(X, y, test_size=0.2, random_state=91)"
   ]
  },
  {
   "cell_type": "code",
   "execution_count": null,
   "metadata": {},
   "outputs": [],
   "source": []
  },
  {
   "cell_type": "markdown",
   "metadata": {},
   "source": [
    "# Use the entire data set with all features as a baseline"
   ]
  },
  {
   "cell_type": "code",
   "execution_count": null,
   "metadata": {},
   "outputs": [],
   "source": [
    "all_features"
   ]
  },
  {
   "cell_type": "code",
   "execution_count": 85,
   "metadata": {},
   "outputs": [
    {
     "name": "stdout",
     "output_type": "stream",
     "text": [
      "Training set size: (3381, 301) accuracy: 0.663117420881396\n",
      "Test set size: (846, 301) accuracy: 0.640661938534279\n",
      "Test set neg log loss: -0.6495917563945068. Probability to observe data given model: 0.5222589421198902\n"
     ]
    }
   ],
   "source": [
    "all_features = X_train.columns.tolist()\n",
    "# remove result from all_features\n",
    "if 'result' in all_features:\n",
    "    all_features.remove('result')\n",
    "model_test_score(X_train, X_test, all_features, _max_iter = 20000, scaled=False)"
   ]
  },
  {
   "cell_type": "code",
   "execution_count": 40,
   "metadata": {},
   "outputs": [
    {
     "name": "stdout",
     "output_type": "stream",
     "text": [
      "Starting with an empty feature set.\n",
      "Added single feature: age_diff\n",
      "Negative log loss on training set: -0.6786837474330236\n",
      "Training set size: (3381, 301) accuracy: 0.5752735876959479\n",
      "Test set size: (846, 301) accuracy: 0.6016548463356974\n",
      "Test set neg log loss: -0.6665963713903177. Probability to observe data given model: 0.5134532110993928\n",
      "Added single feature: l5y_wins_diff\n",
      "Negative log loss on training set: -0.663604267733662\n",
      "Training set size: (3381, 301) accuracy: 0.5950902099970423\n",
      "Test set size: (846, 301) accuracy: 0.5886524822695035\n",
      "Test set neg log loss: -0.6659579046675438. Probability to observe data given model: 0.5137811385626279\n",
      "Added single feature: l5y_losses_losses_diff\n",
      "Negative log loss on training set: -0.656850238518206\n",
      "Training set size: (3381, 301) accuracy: 0.5986394557823129\n",
      "Test set size: (846, 301) accuracy: 0.5886524822695035\n",
      "Test set neg log loss: -0.6732123934493655. Probability to observe data given model: 0.5100674059594255\n",
      "Added single feature: all_inf_control_per_min_diff\n",
      "Negative log loss on training set: -0.6529971394197054\n",
      "Training set size: (3381, 301) accuracy: 0.6119491274770777\n",
      "Test set size: (846, 301) accuracy: 0.6099290780141844\n",
      "Test set neg log loss: -0.6725593015570294. Probability to observe data given model: 0.5104006356497627\n",
      "Added single feature: l3y_abs_head_strikes_accuracy_diff\n",
      "Negative log loss on training set: -0.650269294387442\n",
      "Training set size: (3381, 301) accuracy: 0.6119491274770777\n",
      "Test set size: (846, 301) accuracy: 0.5839243498817966\n",
      "Test set neg log loss: -0.6713989263916575. Probability to observe data given model: 0.5109932356244142\n",
      "Added single feature: all_inf_distance_strikes_accuracy_diff\n",
      "Negative log loss on training set: -0.6455654848196629\n",
      "Training set size: (3381, 301) accuracy: 0.6225968648328897\n",
      "Test set size: (846, 301) accuracy: 0.6158392434988179\n",
      "Test set neg log loss: -0.6619553303439611. Probability to observe data given model: 0.5158417067935651\n",
      "Added single feature: l5y_wins_wins_diff\n",
      "Negative log loss on training set: -0.6431610890523796\n",
      "Training set size: (3381, 301) accuracy: 0.6225968648328897\n",
      "Test set size: (846, 301) accuracy: 0.6205673758865248\n",
      "Test set neg log loss: -0.6605209351738246. Probability to observe data given model: 0.5165821585696144\n",
      "Added single feature: l1y_inf_takedowns_attempts_per_min_diff\n",
      "Negative log loss on training set: -0.6415582440659323\n",
      "Training set size: (3381, 301) accuracy: 0.6255545696539485\n",
      "Test set size: (846, 301) accuracy: 0.6158392434988179\n",
      "Test set neg log loss: -0.6617027035051515. Probability to observe data given model: 0.5159720387152561\n",
      "Added single feature: l1y_abs_takedowns_attempts_per_min_diff\n",
      "Negative log loss on training set: -0.6399092942120836\n",
      "Training set size: (3381, 301) accuracy: 0.6246672582076309\n",
      "Test set size: (846, 301) accuracy: 0.6300236406619385\n",
      "Test set neg log loss: -0.6598069936741514. Probability to observe data given model: 0.5169510996961275\n",
      "Added single feature: l3y_fight_math_diff\n",
      "Negative log loss on training set: -0.6388136753880491\n",
      "Training set size: (3381, 301) accuracy: 0.6234841762792074\n",
      "Test set size: (846, 301) accuracy: 0.6300236406619385\n",
      "Test set neg log loss: -0.6609732989024963. Probability to observe data given model: 0.5163485283850934\n",
      "Added single feature: reach_diff\n",
      "Negative log loss on training set: -0.638090990365489\n",
      "Training set size: (3381, 301) accuracy: 0.6285122744750073\n",
      "Test set size: (846, 301) accuracy: 0.6276595744680851\n",
      "Test set neg log loss: -0.6591889056088982. Probability to observe data given model: 0.5172707197676696\n",
      "Added single feature: l3y_abs_clinch_strikes_landed_per_min_diff\n",
      "Negative log loss on training set: -0.6374244405158189\n",
      "Training set size: (3381, 301) accuracy: 0.6329488317065957\n",
      "Test set size: (846, 301) accuracy: 0.6394799054373522\n",
      "Test set neg log loss: -0.6580647003146652. Probability to observe data given model: 0.5178525652449872\n",
      "Added single feature: l3y_inf_ground_strikes_attempts_per_min_diff\n",
      "Negative log loss on training set: -0.6368857352100793\n",
      "Training set size: (3381, 301) accuracy: 0.637385388938184\n",
      "Test set size: (846, 301) accuracy: 0.640661938534279\n",
      "Test set neg log loss: -0.6581242115462438. Probability to observe data given model: 0.517821748118045\n",
      "Added single feature: l5y_losses_ko_diff\n",
      "Negative log loss on training set: -0.63638354448303\n",
      "Training set size: (3381, 301) accuracy: 0.6341319136350192\n",
      "Test set size: (846, 301) accuracy: 0.6371158392434988\n",
      "Test set neg log loss: -0.6564698480031168. Probability to observe data given model: 0.5186791225489235\n",
      "Added single feature: all_wins_wins_diff\n",
      "Negative log loss on training set: -0.6359064836323752\n",
      "Training set size: (3381, 301) accuracy: 0.6364980774918663\n",
      "Test set size: (846, 301) accuracy: 0.6394799054373522\n",
      "Test set neg log loss: -0.6547914499412493. Probability to observe data given model: 0.5195504035565834\n",
      "Added single feature: all_losses_losses_diff\n",
      "Negative log loss on training set: -0.6342749514807121\n",
      "Training set size: (3381, 301) accuracy: 0.637089618456078\n",
      "Test set size: (846, 301) accuracy: 0.6359338061465721\n",
      "Test set neg log loss: -0.6532364249710214. Probability to observe data given model: 0.5203589458962414\n",
      "Added single feature: l3y_losses_sub_diff\n",
      "Negative log loss on training set: -0.6338974698894697\n",
      "Training set size: (3381, 301) accuracy: 0.640047323277137\n",
      "Test set size: (846, 301) accuracy: 0.6335697399527187\n",
      "Test set neg log loss: -0.6538657019118748. Probability to observe data given model: 0.5200315990173456\n",
      "Added single feature: all_inf_body_strikes_accuracy_diff\n",
      "Negative log loss on training set: -0.6335715800317775\n",
      "Training set size: (3381, 301) accuracy: 0.6382727003845017\n",
      "Test set size: (846, 301) accuracy: 0.6359338061465721\n",
      "Test set neg log loss: -0.6545104312419832. Probability to observe data given model: 0.5196964274519557\n",
      "Added single feature: all_wins_diff\n",
      "Negative log loss on training set: -0.6331889356329803\n",
      "Training set size: (3381, 301) accuracy: 0.645075421472937\n",
      "Test set size: (846, 301) accuracy: 0.640661938534279\n",
      "Test set neg log loss: -0.6535038743597187. Probability to observe data given model: 0.5202197948230225\n",
      "Added single feature: l3y_inf_takedowns_attempts_per_min_diff\n",
      "Negative log loss on training set: -0.632882705370718\n",
      "Training set size: (3381, 301) accuracy: 0.6418219461697723\n",
      "Test set size: (846, 301) accuracy: 0.6371158392434988\n",
      "Test set neg log loss: -0.6530716983472529. Probability to observe data given model: 0.5204446699288681\n",
      "Added single feature: l3y_abs_body_strikes_accuracy_diff\n",
      "Negative log loss on training set: -0.6326067332780982\n",
      "Training set size: (3381, 301) accuracy: 0.6406388642413487\n",
      "Test set size: (846, 301) accuracy: 0.6347517730496454\n",
      "Test set neg log loss: -0.6515206221991132. Probability to observe data given model: 0.5212525456192101\n",
      "Added single feature: all_inf_clinch_strikes_landed_per_min_diff\n",
      "Negative log loss on training set: -0.6323582228367562\n",
      "Training set size: (3381, 301) accuracy: 0.6353149955634427\n",
      "Test set size: (846, 301) accuracy: 0.6382978723404256\n",
      "Test set neg log loss: -0.651026184052601. Probability to observe data given model: 0.5215103364872985\n",
      "Added single feature: l5y_inf_body_strikes_attempts_per_min_diff\n",
      "Negative log loss on training set: -0.6320110703903483\n",
      "Training set size: (3381, 301) accuracy: 0.6382727003845017\n",
      "Test set size: (846, 301) accuracy: 0.6276595744680851\n",
      "Test set neg log loss: -0.6516319369366349. Probability to observe data given model: 0.5211945257582047\n",
      "Added single feature: l5y_inf_clinch_strikes_attempts_per_min_diff\n",
      "Negative log loss on training set: -0.6317914253332106\n",
      "Training set size: (3381, 301) accuracy: 0.6367938479739722\n",
      "Test set size: (846, 301) accuracy: 0.6300236406619385\n",
      "Test set neg log loss: -0.6511703171700653. Probability to observe data given model: 0.521435174993471\n",
      "Added single feature: l1y_abs_knockdowns_per_min_diff\n",
      "Negative log loss on training set: -0.631598743613529\n",
      "Training set size: (3381, 301) accuracy: 0.6367938479739722\n",
      "Test set size: (846, 301) accuracy: 0.6264775413711584\n",
      "Test set neg log loss: -0.6514043735854504. Probability to observe data given model: 0.5213131440271787\n",
      "Added single feature: l1y_abs_clinch_strikes_accuracy_diff\n",
      "Negative log loss on training set: -0.6314248887387995\n",
      "Training set size: (3381, 301) accuracy: 0.6385684708666075\n",
      "Test set size: (846, 301) accuracy: 0.6252955082742316\n",
      "Test set neg log loss: -0.6510479817672188. Probability to observe data given model: 0.5214989688777079\n",
      "Added single feature: all_abs_takedowns_attempts_per_min_diff\n",
      "Negative log loss on training set: -0.6311477095082951\n",
      "Training set size: (3381, 301) accuracy: 0.6376811594202898\n",
      "Test set size: (846, 301) accuracy: 0.6323877068557919\n",
      "Test set neg log loss: -0.6484310116203404. Probability to observe data given model: 0.5228655034210447\n",
      "Added single feature: l3y_abs_clinch_strikes_accuracy_diff\n",
      "Negative log loss on training set: -0.6307736720077891\n",
      "Training set size: (3381, 301) accuracy: 0.640047323277137\n",
      "Test set size: (846, 301) accuracy: 0.6276595744680851\n",
      "Test set neg log loss: -0.649380851087354. Probability to observe data given model: 0.5223691009186207\n",
      "Added single feature: l1y_inf_body_strikes_attempts_per_min_diff\n",
      "Negative log loss on training set: -0.6303839818374153\n",
      "Training set size: (3381, 301) accuracy: 0.6418219461697723\n",
      "Test set size: (846, 301) accuracy: 0.6264775413711584\n",
      "Test set neg log loss: -0.6489068812125687. Probability to observe data given model: 0.5226167468196871\n",
      "Added single feature: l1y_inf_total_strikes_landed_per_min_diff\n",
      "Negative log loss on training set: -0.6300839155261744\n",
      "Training set size: (3381, 301) accuracy: 0.645075421472937\n",
      "Test set size: (846, 301) accuracy: 0.6276595744680851\n",
      "Test set neg log loss: -0.6483144694900405. Probability to observe data given model: 0.5229264428316092\n",
      "Added single feature: l1y_abs_body_strikes_accuracy_diff\n",
      "Negative log loss on training set: -0.629811282817662\n",
      "Training set size: (3381, 301) accuracy: 0.6391600118308193\n",
      "Test set size: (846, 301) accuracy: 0.6323877068557919\n",
      "Test set neg log loss: -0.6490355901152063. Probability to observe data given model: 0.5225494857203479\n",
      "Added single feature: l1y_inf_takedowns_landed_per_min_diff\n",
      "Negative log loss on training set: -0.629611895382391\n",
      "Training set size: (3381, 301) accuracy: 0.6418219461697723\n",
      "Test set size: (846, 301) accuracy: 0.6382978723404256\n",
      "Test set neg log loss: -0.6484488649413522. Probability to observe data given model: 0.522856168618695\n",
      "Added single feature: l1y_wins_sub_diff\n",
      "Negative log loss on training set: -0.6293434708200966\n",
      "Training set size: (3381, 301) accuracy: 0.6438923395445134\n",
      "Test set size: (846, 301) accuracy: 0.6418439716312057\n",
      "Test set neg log loss: -0.6491016501273266. Probability to observe data given model: 0.522514967235146\n",
      "Added single feature: l1y_wins_diff\n",
      "Negative log loss on training set: -0.6291617787194741\n",
      "Training set size: (3381, 301) accuracy: 0.6441881100266194\n",
      "Test set size: (846, 301) accuracy: 0.640661938534279\n",
      "Test set neg log loss: -0.6481532227789222. Probability to observe data given model: 0.5230107697992129\n",
      "Added single feature: l1y_abs_clinch_strikes_landed_per_min_diff\n",
      "Negative log loss on training set: -0.6290188087740218\n",
      "Training set size: (3381, 301) accuracy: 0.6433007985803016\n",
      "Test set size: (846, 301) accuracy: 0.6394799054373522\n",
      "Test set neg log loss: -0.648022741218604. Probability to observe data given model: 0.5230790175129568\n",
      "Added single feature: all_abs_distance_strikes_landed_per_min_diff\n",
      "Negative log loss on training set: -0.6288626412773454\n",
      "Training set size: (3381, 301) accuracy: 0.6468500443655724\n",
      "Test set size: (846, 301) accuracy: 0.6359338061465721\n",
      "Test set neg log loss: -0.6489558665407094. Probability to observe data given model: 0.5225911468938678\n",
      "Added single feature: l3y_abs_leg_strikes_landed_per_min_diff\n",
      "Negative log loss on training set: -0.6286726949886215\n",
      "Training set size: (3381, 301) accuracy: 0.6474415853297841\n",
      "Test set size: (846, 301) accuracy: 0.6335697399527187\n",
      "Test set neg log loss: -0.6496343933943911. Probability to observe data given model: 0.5222366750401396\n",
      "Added single feature: l3y_inf_leg_strikes_landed_per_min_diff\n",
      "Negative log loss on training set: -0.628543051660241\n",
      "Training set size: (3381, 301) accuracy: 0.6471458148476782\n",
      "Test set size: (846, 301) accuracy: 0.6371158392434988\n",
      "Test set neg log loss: -0.6496168574496833. Probability to observe data given model: 0.5222458330338943\n",
      "Added single feature: all_inf_takedowns_landed_per_min_diff\n",
      "Negative log loss on training set: -0.628402713486463\n",
      "Training set size: (3381, 301) accuracy: 0.6509908311150547\n",
      "Test set size: (846, 301) accuracy: 0.6359338061465721\n",
      "Test set neg log loss: -0.649044620210519. Probability to observe data given model: 0.5225447670699911\n",
      "Added single feature: all_abs_sub_attempts_per_min_diff\n",
      "Negative log loss on training set: -0.6283071592354048\n",
      "Training set size: (3381, 301) accuracy: 0.6533569949719018\n",
      "Test set size: (846, 301) accuracy: 0.6323877068557919\n",
      "Test set neg log loss: -0.6498518194728208. Probability to observe data given model: 0.5221231395111132\n",
      "Added single feature: l5y_wins_dec_diff\n",
      "Negative log loss on training set: -0.6282399893030434\n",
      "Training set size: (3381, 301) accuracy: 0.6536527654540077\n",
      "Test set size: (846, 301) accuracy: 0.6335697399527187\n",
      "Test set neg log loss: -0.6496244709463792. Probability to observe data given model: 0.5222418569321061\n",
      "Added single feature: all_abs_leg_strikes_accuracy_diff\n",
      "Negative log loss on training set: -0.6281894083399948\n",
      "Training set size: (3381, 301) accuracy: 0.6506950606329488\n",
      "Test set size: (846, 301) accuracy: 0.6300236406619385\n",
      "Test set neg log loss: -0.6498955691362274. Probability to observe data given model: 0.522100297299176\n",
      "Added single feature: l3y_abs_leg_strikes_accuracy_diff\n",
      "Negative log loss on training set: -0.6280942294812139\n",
      "Training set size: (3381, 301) accuracy: 0.6509908311150547\n",
      "Test set size: (846, 301) accuracy: 0.6300236406619385\n",
      "Test set neg log loss: -0.6502049997256649. Probability to observe data given model: 0.5219387684887035\n",
      "Added single feature: all_abs_body_strikes_landed_per_min_diff\n",
      "Negative log loss on training set: -0.6279858405540328\n",
      "Training set size: (3381, 301) accuracy: 0.6509908311150547\n",
      "Test set size: (846, 301) accuracy: 0.6323877068557919\n",
      "Test set neg log loss: -0.6504925260108394. Probability to observe data given model: 0.5217887189461389\n",
      "Added single feature: l5y_inf_control_per_min_diff\n",
      "Negative log loss on training set: -0.6279447724084082\n",
      "Training set size: (3381, 301) accuracy: 0.6518781425613723\n",
      "Test set size: (846, 301) accuracy: 0.6300236406619385\n",
      "Test set neg log loss: -0.6504924829341071. Probability to observe data given model: 0.5217887414230924\n",
      "Added single feature: l5y_abs_takedowns_attempts_per_min_diff\n",
      "Negative log loss on training set: -0.6278984108856289\n",
      "Training set size: (3381, 301) accuracy: 0.650103519668737\n",
      "Test set size: (846, 301) accuracy: 0.6312056737588653\n",
      "Test set neg log loss: -0.6504755634601099. Probability to observe data given model: 0.5217975698888212\n",
      "Added single feature: l3y_abs_ground_strikes_accuracy_diff\n",
      "Negative log loss on training set: -0.627865160782944\n",
      "Training set size: (3381, 301) accuracy: 0.64773735581189\n",
      "Test set size: (846, 301) accuracy: 0.6276595744680851\n",
      "Test set neg log loss: -0.6511766518063313. Probability to observe data given model: 0.5214318719017631\n",
      "No improvement found with single addition, trying pairs.\n",
      "Added double feature: l1y_abs_leg_strikes_landed_per_min_diff, l1y_abs_leg_strikes_attempts_per_min_diff\n",
      "Negative log loss on training set: -0.62779053164007\n",
      "Training set size: (3381, 301) accuracy: 0.6480331262939959\n",
      "Test set size: (846, 301) accuracy: 0.6264775413711584\n",
      "Test set neg log loss: -0.6515166393955494. Probability to observe data given model: 0.5212546216698407\n",
      "Added single feature: l5y_inf_ground_strikes_landed_per_min_diff\n",
      "Negative log loss on training set: -0.6277691903111711\n",
      "Training set size: (3381, 301) accuracy: 0.6495119787045253\n",
      "Test set size: (846, 301) accuracy: 0.6264775413711584\n",
      "Test set neg log loss: -0.6515869547711511. Probability to observe data given model: 0.5212179707439107\n",
      "Added single feature: l1y_abs_distance_strikes_accuracy_diff\n",
      "Negative log loss on training set: -0.627766000510021\n",
      "Training set size: (3381, 301) accuracy: 0.6498077491866312\n",
      "Test set size: (846, 301) accuracy: 0.6264775413711584\n",
      "Test set neg log loss: -0.6516973940480202. Probability to observe data given model: 0.5211604109866181\n",
      "Added single feature: all_inf_body_strikes_attempts_per_min_diff\n",
      "Negative log loss on training set: -0.6277635760849226\n",
      "Training set size: (3381, 301) accuracy: 0.6483288967761017\n",
      "Test set size: (846, 301) accuracy: 0.6276595744680851\n",
      "Test set neg log loss: -0.6513266814238794. Probability to observe data given model: 0.5213536475455761\n",
      "No improvement found with single addition, trying pairs.\n",
      "Added double feature: l5y_abs_clinch_strikes_accuracy_diff, l5y_abs_body_strikes_accuracy_diff\n",
      "Negative log loss on training set: -0.6277240926928046\n",
      "Training set size: (3381, 301) accuracy: 0.6509908311150547\n",
      "Test set size: (846, 301) accuracy: 0.6288416075650118\n",
      "Test set neg log loss: -0.6522669467308961. Probability to observe data given model: 0.5208636671899665\n",
      "Added single feature: l3y_losses_diff\n",
      "Negative log loss on training set: -0.6277208059047305\n",
      "Training set size: (3381, 301) accuracy: 0.6521739130434783\n",
      "Test set size: (846, 301) accuracy: 0.6276595744680851\n",
      "Test set neg log loss: -0.652234546128243. Probability to observe data given model: 0.5208805437600875\n",
      "No improvement found with single addition, trying pairs.\n",
      "No improvement found with double addition, stopping.\n",
      "Final best feature set: ['age_diff', 'l5y_wins_diff', 'l5y_losses_losses_diff', 'all_inf_control_per_min_diff', 'l3y_abs_head_strikes_accuracy_diff', 'all_inf_distance_strikes_accuracy_diff', 'l5y_wins_wins_diff', 'l1y_inf_takedowns_attempts_per_min_diff', 'l1y_abs_takedowns_attempts_per_min_diff', 'l3y_fight_math_diff', 'reach_diff', 'l3y_abs_clinch_strikes_landed_per_min_diff', 'l3y_inf_ground_strikes_attempts_per_min_diff', 'l5y_losses_ko_diff', 'all_wins_wins_diff', 'all_losses_losses_diff', 'l3y_losses_sub_diff', 'all_inf_body_strikes_accuracy_diff', 'all_wins_diff', 'l3y_inf_takedowns_attempts_per_min_diff', 'l3y_abs_body_strikes_accuracy_diff', 'all_inf_clinch_strikes_landed_per_min_diff', 'l5y_inf_body_strikes_attempts_per_min_diff', 'l5y_inf_clinch_strikes_attempts_per_min_diff', 'l1y_abs_knockdowns_per_min_diff', 'l1y_abs_clinch_strikes_accuracy_diff', 'all_abs_takedowns_attempts_per_min_diff', 'l3y_abs_clinch_strikes_accuracy_diff', 'l1y_inf_body_strikes_attempts_per_min_diff', 'l1y_inf_total_strikes_landed_per_min_diff', 'l1y_abs_body_strikes_accuracy_diff', 'l1y_inf_takedowns_landed_per_min_diff', 'l1y_wins_sub_diff', 'l1y_wins_diff', 'l1y_abs_clinch_strikes_landed_per_min_diff', 'all_abs_distance_strikes_landed_per_min_diff', 'l3y_abs_leg_strikes_landed_per_min_diff', 'l3y_inf_leg_strikes_landed_per_min_diff', 'all_inf_takedowns_landed_per_min_diff', 'all_abs_sub_attempts_per_min_diff', 'l5y_wins_dec_diff', 'all_abs_leg_strikes_accuracy_diff', 'l3y_abs_leg_strikes_accuracy_diff', 'all_abs_body_strikes_landed_per_min_diff', 'l5y_inf_control_per_min_diff', 'l5y_abs_takedowns_attempts_per_min_diff', 'l3y_abs_ground_strikes_accuracy_diff', 'l1y_abs_leg_strikes_landed_per_min_diff', 'l1y_abs_leg_strikes_attempts_per_min_diff', 'l5y_inf_ground_strikes_landed_per_min_diff', 'l1y_abs_distance_strikes_accuracy_diff', 'all_inf_body_strikes_attempts_per_min_diff', 'l5y_abs_clinch_strikes_accuracy_diff', 'l5y_abs_body_strikes_accuracy_diff', 'l3y_losses_diff']\n"
     ]
    }
   ],
   "source": [
    "best_features = additive_greedy(X_train, X_test, search_doubles=True, _max_iter=30000)"
   ]
  },
  {
   "cell_type": "code",
   "execution_count": 41,
   "metadata": {},
   "outputs": [
    {
     "name": "stdout",
     "output_type": "stream",
     "text": [
      "Training set size: (3381, 301) accuracy: 0.6521739130434783\n",
      "Test set size: (846, 301) accuracy: 0.6276595744680851\n",
      "Test set neg log loss: -0.652234546128243. Probability to observe data given model: 0.5208805437600875\n"
     ]
    }
   ],
   "source": [
    "model_test_score(X_train, X_test, best_features, _max_iter = 30000, scaled=True)"
   ]
  },
  {
   "cell_type": "code",
   "execution_count": 42,
   "metadata": {},
   "outputs": [
    {
     "data": {
      "text/plain": [
       "['age_diff',\n",
       " 'l5y_wins_diff',\n",
       " 'l5y_losses_losses_diff',\n",
       " 'all_inf_control_per_min_diff',\n",
       " 'l3y_abs_head_strikes_accuracy_diff',\n",
       " 'all_inf_distance_strikes_accuracy_diff',\n",
       " 'l5y_wins_wins_diff',\n",
       " 'l1y_inf_takedowns_attempts_per_min_diff',\n",
       " 'l1y_abs_takedowns_attempts_per_min_diff',\n",
       " 'l3y_fight_math_diff',\n",
       " 'reach_diff',\n",
       " 'l3y_abs_clinch_strikes_landed_per_min_diff',\n",
       " 'l3y_inf_ground_strikes_attempts_per_min_diff',\n",
       " 'l5y_losses_ko_diff',\n",
       " 'all_wins_wins_diff',\n",
       " 'all_losses_losses_diff',\n",
       " 'l3y_losses_sub_diff',\n",
       " 'all_inf_body_strikes_accuracy_diff',\n",
       " 'all_wins_diff',\n",
       " 'l3y_inf_takedowns_attempts_per_min_diff',\n",
       " 'l3y_abs_body_strikes_accuracy_diff',\n",
       " 'all_inf_clinch_strikes_landed_per_min_diff',\n",
       " 'l5y_inf_body_strikes_attempts_per_min_diff',\n",
       " 'l5y_inf_clinch_strikes_attempts_per_min_diff',\n",
       " 'l1y_abs_knockdowns_per_min_diff',\n",
       " 'l1y_abs_clinch_strikes_accuracy_diff',\n",
       " 'all_abs_takedowns_attempts_per_min_diff',\n",
       " 'l3y_abs_clinch_strikes_accuracy_diff',\n",
       " 'l1y_inf_body_strikes_attempts_per_min_diff',\n",
       " 'l1y_inf_total_strikes_landed_per_min_diff',\n",
       " 'l1y_abs_body_strikes_accuracy_diff',\n",
       " 'l1y_inf_takedowns_landed_per_min_diff',\n",
       " 'l1y_wins_sub_diff',\n",
       " 'l1y_wins_diff',\n",
       " 'l1y_abs_clinch_strikes_landed_per_min_diff',\n",
       " 'all_abs_distance_strikes_landed_per_min_diff',\n",
       " 'l3y_abs_leg_strikes_landed_per_min_diff',\n",
       " 'l3y_inf_leg_strikes_landed_per_min_diff',\n",
       " 'all_inf_takedowns_landed_per_min_diff',\n",
       " 'all_abs_sub_attempts_per_min_diff',\n",
       " 'l5y_wins_dec_diff',\n",
       " 'all_abs_leg_strikes_accuracy_diff',\n",
       " 'l3y_abs_leg_strikes_accuracy_diff',\n",
       " 'all_abs_body_strikes_landed_per_min_diff',\n",
       " 'l5y_inf_control_per_min_diff',\n",
       " 'l5y_abs_takedowns_attempts_per_min_diff',\n",
       " 'l3y_abs_ground_strikes_accuracy_diff',\n",
       " 'l1y_abs_leg_strikes_landed_per_min_diff',\n",
       " 'l1y_abs_leg_strikes_attempts_per_min_diff',\n",
       " 'l5y_inf_ground_strikes_landed_per_min_diff',\n",
       " 'l1y_abs_distance_strikes_accuracy_diff',\n",
       " 'all_inf_body_strikes_attempts_per_min_diff',\n",
       " 'l5y_abs_clinch_strikes_accuracy_diff',\n",
       " 'l5y_abs_body_strikes_accuracy_diff',\n",
       " 'l3y_losses_diff']"
      ]
     },
     "execution_count": 42,
     "metadata": {},
     "output_type": "execute_result"
    }
   ],
   "source": [
    "best_features"
   ]
  },
  {
   "cell_type": "code",
   "execution_count": 86,
   "metadata": {},
   "outputs": [],
   "source": [
    "best_features = [\n",
    "        'age_diff',\n",
    "        'reach_diff',\n",
    "        'l5y_wins_diff',\n",
    "        'l5y_losses_ko_diff',\n",
    "        'all_wins_wins_diff',\n",
    "        'l5y_wins_wins_diff',\n",
    "        'l5y_losses_losses_diff',\n",
    "        'all_losses_losses_diff',\n",
    "        'l3y_losses_sub_diff',\n",
    "        'l1y_wins_sub_diff',\n",
    "        'l1y_wins_diff',\n",
    "        # 'all_wins_diff',\n",
    "        'l3y_fight_math_diff',\n",
    "        'all_inf_control_per_min_diff',\n",
    "        'all_inf_distance_strikes_accuracy_diff',\n",
    "        'l1y_inf_takedowns_landed_per_min_diff',\n",
    "        # 'l1y_inf_takedowns_attempts_per_min_diff',\n",
    "        'l3y_inf_takedowns_attempts_per_min_diff',\n",
    "        'l3y_inf_ground_strikes_attempts_per_min_diff',\n",
    "        'all_inf_body_strikes_accuracy_diff',\n",
    "        'l1y_inf_body_strikes_attempts_per_min_diff',\n",
    "        'l5y_inf_body_strikes_attempts_per_min_diff',\n",
    "        'all_inf_clinch_strikes_landed_per_min_diff',\n",
    "        # 'l5y_inf_clinch_strikes_attempts_per_min_diff',\n",
    "        'l1y_inf_total_strikes_landed_per_min_diff',\n",
    "        'l1y_abs_knockdowns_per_min_diff',\n",
    "        'l1y_abs_takedowns_attempts_per_min_diff',\n",
    "        'all_abs_takedowns_attempts_per_min_diff',\n",
    "        'l3y_abs_head_strikes_accuracy_diff',\n",
    "        'l1y_abs_body_strikes_accuracy_diff',\n",
    "        'l3y_abs_body_strikes_accuracy_diff',\n",
    "        # 'l1y_abs_clinch_strikes_accuracy_diff',\n",
    "        'l3y_abs_clinch_strikes_landed_per_min_diff',\n",
    "        'l3y_abs_clinch_strikes_accuracy_diff',\n",
    "        ]"
   ]
  },
  {
   "cell_type": "code",
   "execution_count": 87,
   "metadata": {},
   "outputs": [],
   "source": [
    "X_train, X_test, y_train, y_test = train_test_split(X, y, test_size=0.2, random_state=48)"
   ]
  },
  {
   "cell_type": "code",
   "execution_count": 88,
   "metadata": {},
   "outputs": [
    {
     "name": "stdout",
     "output_type": "stream",
     "text": [
      "Training set size: (3381, 301) accuracy: 0.6406388642413487\n",
      "Test set size: (846, 301) accuracy: 0.6524822695035462\n",
      "Test set neg log loss: -0.6233637775174445. Probability to observe data given model: 0.5361379522007008\n"
     ]
    }
   ],
   "source": [
    "model_test_score(X_train, X_test, best_features, _max_iter = 30000, scaled=False)"
   ]
  }
 ],
 "metadata": {
  "kernelspec": {
   "display_name": "Python 3",
   "language": "python",
   "name": "python3"
  },
  "language_info": {
   "codemirror_mode": {
    "name": "ipython",
    "version": 3
   },
   "file_extension": ".py",
   "mimetype": "text/x-python",
   "name": "python",
   "nbconvert_exporter": "python",
   "pygments_lexer": "ipython3",
   "version": "3.11.0"
  }
 },
 "nbformat": 4,
 "nbformat_minor": 2
}
